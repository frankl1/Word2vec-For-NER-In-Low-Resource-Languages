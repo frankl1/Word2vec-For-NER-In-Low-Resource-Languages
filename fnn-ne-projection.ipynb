{
 "cells": [
  {
   "cell_type": "code",
   "execution_count": 1,
   "metadata": {
    "colab": {
     "autoexec": {
      "startup": false,
      "wait_interval": 0
     },
     "base_uri": "https://localhost:8080/",
     "height": 88,
     "output_extras": [
      {
       "item_id": 1
      }
     ]
    },
    "colab_type": "code",
    "executionInfo": {
     "elapsed": 2799,
     "status": "ok",
     "timestamp": 1516045322673,
     "user": {
      "displayName": "Michael Franklin Mbouopda",
      "photoUrl": "//lh3.googleusercontent.com/-2_Vuj9ESsJ0/AAAAAAAAAAI/AAAAAAAABSc/r-SRcN0jWPw/s50-c-k-no/photo.jpg",
      "userId": "117384351130599115261"
     },
     "user_tz": -60
    },
    "id": "NamUCuj1bBjd",
    "outputId": "7874258f-7c3e-4646-f238-36437759767b"
   },
   "outputs": [
    {
     "name": "stderr",
     "output_type": "stream",
     "text": [
      "Using TensorFlow backend.\n"
     ]
    }
   ],
   "source": [
    "# import\n",
    "import keras\n",
    "import sys\n",
    "import numpy as np\n",
    "import string\n",
    "import pandas as pd\n",
    "import matplotlib.pyplot as plt\n",
    "from keras.models import Sequential\n",
    "from keras.layers import SimpleRNN, Dense\n",
    "from keras.utils import np_utils, plot_model\n",
    "from keras.callbacks import ModelCheckpoint, EarlyStopping\n",
    "from sklearn import model_selection\n",
    "from sklearn.metrics import precision_score, recall_score, f1_score, accuracy_score, precision_recall_fscore_support\n",
    "import h5py as h5py"
   ]
  },
  {
   "cell_type": "code",
   "execution_count": 2,
   "metadata": {
    "colab": {
     "autoexec": {
      "startup": false,
      "wait_interval": 0
     }
    },
    "colab_type": "code",
    "id": "t9h7fyDCbkMG"
   },
   "outputs": [],
   "source": [
    "# if we are doeing binary classification. That means say if a token is a named entity or not\n",
    "BINARY = False\n",
    "\n",
    "# number of epochs for training\n",
    "epochs = 10 \n",
    "\n",
    "# the english side of the corpus\n",
    "en_corpus_file = \"corpus-en.txt\"\n",
    "\n",
    "# the ewondo side of the corpus\n",
    "ewo_corpus_file = \"corpus-ewo.txt\"\n",
    "\n",
    "# name of the file to same the model \n",
    "best_model_file = \"best-model-conll.hdfs\"\n",
    "\n",
    "# The maximal number of phrases to use\n",
    "max_nb_of_phrases =  -1\n",
    "\n",
    "# the maximal number of duplicates for each word in the corpus\n",
    "duplication = 1\n",
    "\n",
    "# wether we are using only the vocabulary, ro redundancy\n",
    "is_only_vocab = True\n",
    "\n",
    "# if word should be shuffle or not\n",
    "shuffle = is_only_vocab\n",
    "\n",
    "# normalization strategy\n",
    "# log, max, mean_log, log_inv, max_inv or mean_log_inv, tf\n",
    "# None: for no normalization => 1/tf = nbWC/nbOcc(w)\n",
    "normalization_strategy = None\n",
    "\n",
    "# if we are using the Zennaki et al. signature\n",
    "is_zennaki = False\n",
    "\n",
    "# the number of neurons in the first layer\n",
    "h1_size = 640\n",
    "\n",
    "# number of neurons in the second layer\n",
    "h2_size = 160  "
   ]
  },
  {
   "cell_type": "code",
   "execution_count": 3,
   "metadata": {
    "colab": {
     "autoexec": {
      "startup": false,
      "wait_interval": 0
     }
    },
    "colab_type": "code",
    "id": "q1OlcYPo1Att"
   },
   "outputs": [],
   "source": [
    "def getTag(aString):\n",
    "    \"\"\"\n",
    "        convert a string to a tag\n",
    "    \"\"\"\n",
    "    tag = \"O\"\n",
    "    if BINARY:\n",
    "        if aString != \"O\":\n",
    "            return \"NE\"\n",
    "    else:\n",
    "        tag = aString\n",
    "    return tag\n",
    "     "
   ]
  },
  {
   "cell_type": "code",
   "execution_count": 4,
   "metadata": {
    "colab": {
     "autoexec": {
      "startup": false,
      "wait_interval": 0
     }
    },
    "colab_type": "code",
    "id": "q1OlcYPo1Att"
   },
   "outputs": [],
   "source": [
    "def load_corpus(file, max_nb_of_phrases):\n",
    "    \"\"\"\n",
    "    Load a corpus stored in a file\n",
    "    Input:\n",
    "        - file: the name of the file of the corpus\n",
    "        - max_nb_of_phases: maximal number of phrases to load\n",
    "    \n",
    "    Return:\n",
    "        - a DataFrame representing the corpus\n",
    "        - the number of phrases in the corpus\n",
    "    \"\"\"\n",
    "    nb_of_phrases = 0\n",
    "    dataset = {\"word\": [], \"ne-tag\": []}\n",
    "    with open(file) as f:\n",
    "        prev_line = None\n",
    "        for cpt, line in enumerate(f):\n",
    "            if cpt == 0:\n",
    "                continue\n",
    "            if nb_of_phrases == max_nb_of_phrases:\n",
    "                break;\n",
    "\n",
    "            l = line.strip()\n",
    "            if len(l) == 0 and len(prev_line) != 0:\n",
    "                nb_of_phrases += 1\n",
    "                dataset[\"word\"].append(line)\n",
    "                dataset[\"ne-tag\"].append(None)\n",
    "            else:\n",
    "                l = l.split(\"\\t\")\n",
    "                if l[0] not in string.punctuation:\n",
    "                    dataset[\"word\"].append(l[0])\n",
    "                    dataset[\"ne-tag\"].append(ne_type(l[1]))\n",
    "            prev_line = line.strip()\n",
    "        \n",
    "    return pd.DataFrame(dataset), nb_of_phrases+1"
   ]
  },
  {
   "cell_type": "code",
   "execution_count": 5,
   "metadata": {},
   "outputs": [],
   "source": [
    "def log_normalization(fingerprints):\n",
    "    fingerprints[fingerprints > 0] = 1 / fingerprints[fingerprints > 0] # get tf = nbOcc(w)/nbWC\n",
    "    fingerprints[fingerprints > 0] = 1 + np.log(fingerprints[fingerprints > 0])\n",
    "    return fingerprints"
   ]
  },
  {
   "cell_type": "code",
   "execution_count": 6,
   "metadata": {},
   "outputs": [],
   "source": [
    "def max_normalization(fingerprints):\n",
    "    fingerprints[fingerprints > 0] = 1 / fingerprints[fingerprints > 0] # get tf = nbOcc(w)/nbWC\n",
    "    maxis = fingerprints.max(axis = 1)\n",
    "    fingerprints[fingerprints > 0] = fingerprints[fingerprints > 0].apply(lambda row: 0.5 + 0.5 * row / maxis[row.index])\n",
    "    return fingerprints"
   ]
  },
  {
   "cell_type": "code",
   "execution_count": 7,
   "metadata": {},
   "outputs": [],
   "source": [
    "def mean_log_normalization(fingerprints):\n",
    "    fingerprints[fingerprints > 0] = 1 / fingerprints[fingerprints > 0] # get tf = nbOcc(w)/nbWC\n",
    "    means = fingerprints.mean(axis=1)\n",
    "    fingerprints[fingerprints > 0] = fingerprints[fingerprints > 0].apply(lambda row: (1 + np.log(row)) / 1 + np.log(means[row.index]))\n",
    "    return fingerprints"
   ]
  },
  {
   "cell_type": "code",
   "execution_count": 8,
   "metadata": {},
   "outputs": [],
   "source": [
    "def normalize(fingerprints):\n",
    "    if normalization_strategy == \"log\":\n",
    "        return log_normalization(fingerprints)\n",
    "    elif normalization_strategy == \"max\":\n",
    "        return max_normalization(fingerprints)\n",
    "    elif normalization_strategy == \"mean_log\":\n",
    "        return mean_log_normalization(fingerprints)\n",
    "    elif normalization_strategy == \"log_inv\":\n",
    "        fp = log_normalization(fingerprints)\n",
    "        fp = 1 / (1 + fp)\n",
    "        return fp\n",
    "    elif normalization_strategy == \"max_inv\":\n",
    "        fp = max_normalization(fingerprints)\n",
    "        fp = 1 / (1 + fp)\n",
    "        return fp\n",
    "    elif normalization_strategy == \"mean_log_inv\":\n",
    "        fp = mean_log_normalization(fingerprints)\n",
    "        fp = 1 / (1 + fp)\n",
    "        return fp\n",
    "    elif normalization_strategy == \"tf\":\n",
    "        fp = fingerprints\n",
    "        fp[fp > 0] = 1 / fp[fp > 0]\n",
    "        return fp\n",
    "    else:\n",
    "        return fingerprints"
   ]
  },
  {
   "cell_type": "code",
   "execution_count": 72,
   "metadata": {
    "colab": {
     "autoexec": {
      "startup": false,
      "wait_interval": 0
     }
    },
    "colab_type": "code",
    "id": "q1OlcYPo1Att"
   },
   "outputs": [],
   "source": [
    "def corpus_fingerprint(aDataframe, nb_of_biphrases):\n",
    "    \"\"\"\n",
    "    Create the distributionnal signature of each word in the corpus\n",
    "    Input:\n",
    "        -aDataFrame: the corpus DataFrame\n",
    "        -nb_of_biphrases: number of phrases in the corpus\n",
    "    Return:\n",
    "        a DataFrame: corpus fingerprint, the columns are the words in the corpus\n",
    "    \"\"\"\n",
    "    print(\"Normalization strategy:\", normalization_strategy)\n",
    "    tf = {}\n",
    "    fingerprints = {}\n",
    "    current_bi_phrase_index = 0\n",
    "    nb_word_in_corpus = aDataframe[aDataframe.word != \"\\n\"].word.size\n",
    "    words_in_current_phrase = []\n",
    "    for index, row in aDataframe.iterrows():\n",
    "        if current_bi_phrase_index > nb_of_biphrases:\n",
    "            break\n",
    "            \n",
    "        word = row['word']\n",
    "        \n",
    "        if word != \"\\n\":\n",
    "            words_in_current_phrase.append(word)\n",
    "            if word not in fingerprints:\n",
    "                fingerprints[word] = np.zeros(nb_of_biphrases, dtype=np.float32)\n",
    "                tf[word] = 0\n",
    "            tf[word] += 1\n",
    "            fingerprints[word][current_bi_phrase_index] = 1\n",
    "        else:\n",
    "            nb_word_in_current_phrase = len(words_in_current_phrase)\n",
    "            current_bi_phrase_index += 1\n",
    "            words_in_current_phrase = []\n",
    "        \n",
    "    if not is_zennaki:\n",
    "        for word in fingerprints:\n",
    "            for i in range(nb_of_biphrases):\n",
    "                if fingerprints[word][i] != 0:\n",
    "                    fingerprints[word][i] = nb_word_in_corpus / tf[word]\n",
    "    ret = pd.DataFrame(fingerprints)\n",
    "        \n",
    "    return normalize(ret)"
   ]
  },
  {
   "cell_type": "code",
   "execution_count": 10,
   "metadata": {
    "colab": {
     "autoexec": {
      "startup": false,
      "wait_interval": 0
     }
    },
    "colab_type": "code",
    "id": "q1OlcYPo1Att"
   },
   "outputs": [],
   "source": [
    "def corpus2trainingdata(aDataframe, fingerprintsDataFrame):\n",
    "    \"\"\"\n",
    "    Convert corpus to training data => numpy array\n",
    "    \n",
    "    Input:\n",
    "        -aDataFrame: Corpus dataframe\n",
    "        -fingerprintsDataFrame: distributionnal signature of words in the corpus\n",
    "    Return:\n",
    "        (X, y): X is the array of words (signature) in the corpus and y is the corresponding labels (NE tags)\n",
    "    \"\"\"\n",
    "    X = np.zeros((aDataframe.shape[0], fingerprintsDataFrame.shape[0]), dtype=np.int8)\n",
    "    y = np.zeros(aDataframe.shape[0], dtype=np.int8)\n",
    "    i = 0\n",
    "    for row in aDataframe.iterrows():\n",
    "        X[i] = fingerprintsDataFrame[row[1]['word']].values\n",
    "        y[i] = tag2int[getTag(row[1]['ne-tag'])]\n",
    "        i += 1\n",
    "    return X, y"
   ]
  },
  {
   "cell_type": "code",
   "execution_count": 11,
   "metadata": {
    "colab": {
     "autoexec": {
      "startup": false,
      "wait_interval": 0
     }
    },
    "colab_type": "code",
    "id": "q1OlcYPo1Att"
   },
   "outputs": [],
   "source": [
    "# A utility function to convert NE tags\n",
    "def ne_type(aType):\n",
    "    aType = aType.lower()\n",
    "    if 'per' in aType:\n",
    "        t =  'NE' if BINARY else 'PER' \n",
    "    elif 'loc' in aType:\n",
    "        t =  'NE' if BINARY else 'LOC'\n",
    "    elif 'org' in aType:\n",
    "        t =  'NE' if BINARY else 'ORG'\n",
    "    elif 'hour' in aType:\n",
    "        t =  'NE' if BINARY else 'MISC'\n",
    "    elif aType != 'o' and len(aType) > 0 :\n",
    "        t =  'NE' if BINARY else 'MISC'\n",
    "    else:\n",
    "        t = 'O'\n",
    "    return t"
   ]
  },
  {
   "cell_type": "code",
   "execution_count": 12,
   "metadata": {
    "colab": {
     "autoexec": {
      "startup": false,
      "wait_interval": 0
     }
    },
    "colab_type": "code",
    "id": "q1OlcYPo1Att"
   },
   "outputs": [],
   "source": [
    "def P_R_F1(y_pred, y_true, neg_class):\n",
    "    same = y_pred[y_true==y_pred]\n",
    "    tp = same[same != neg_class].size\n",
    "    nb_of_pos_exple = y_true[y_true != neg_class].size\n",
    "    nb_of_pos_pred = y_pred[y_pred != neg_class].size\n",
    "    p = r = f1 = 0\n",
    "    try:\n",
    "        p = np.round(tp*100/nb_of_pos_pred, 2)\n",
    "    except ZeroDivisionError:\n",
    "        print(\"number of correct positive predictions is 0\")\n",
    "        \n",
    "    try:\n",
    "        r = np.round(tp*100/nb_of_pos_exple, 2)\n",
    "    except ZeroDivisionError:\n",
    "        print(\"number of position exple is 0\")\n",
    "        \n",
    "    try:\n",
    "        f1 = np.round(2*r*p/(r+p), 2)\n",
    "    except ZeroDivisionError:\n",
    "        print(\"Recall and precision are 0\")\n",
    "\n",
    "    return p, r, f1"
   ]
  },
  {
   "cell_type": "code",
   "execution_count": 13,
   "metadata": {},
   "outputs": [],
   "source": [
    "def shuffle_data(X, y):\n",
    "    indices = [i for i in  range(X.shape[0])]\n",
    "    np.random.shuffle(indices)\n",
    "    return X[indices], y[indices]"
   ]
  },
  {
   "cell_type": "code",
   "execution_count": 14,
   "metadata": {
    "colab": {
     "autoexec": {
      "startup": false,
      "wait_interval": 0
     },
     "base_uri": "https://localhost:8080/",
     "height": 238,
     "output_extras": [
      {
       "item_id": 1
      }
     ]
    },
    "colab_type": "code",
    "executionInfo": {
     "elapsed": 1145,
     "status": "ok",
     "timestamp": 1515671862146,
     "user": {
      "displayName": "Michael Franklin Mbouopda",
      "photoUrl": "//lh3.googleusercontent.com/-2_Vuj9ESsJ0/AAAAAAAAAAI/AAAAAAAABSc/r-SRcN0jWPw/s50-c-k-no/photo.jpg",
      "userId": "117384351130599115261"
     },
     "user_tz": -60
    },
    "id": "cvpl6zMzxm6X",
    "outputId": "ef520c78-0fd3-494a-defd-fb3e2f01d371"
   },
   "outputs": [],
   "source": [
    "def create_model(input_dim, output_dim):\n",
    "    model = Sequential()\n",
    "    model.add(Dense(h1_size, input_dim=input_dim, activation='sigmoid', name=\"hidden1\"))\n",
    "    model.add(Dense(h2_size, activation='sigmoid', name=\"hidden2\"))\n",
    "    if BINARY:\n",
    "        model.add(Dense(1, activation='sigmoid', name=\"outputlayer\"))\n",
    "        model.compile(loss='binary_crossentropy', optimizer='rmsprop', metrics=['binary_accuracy'])\n",
    "    else:\n",
    "        model.add(Dense(output_dim, activation='softmax', name=\"outputlayer\"))\n",
    "        model.compile(loss='categorical_crossentropy', optimizer=\"rmsprop\", metrics=['accuracy'])\n",
    "    model.summary()\n",
    "    return model"
   ]
  },
  {
   "cell_type": "code",
   "execution_count": 15,
   "metadata": {
    "colab": {
     "autoexec": {
      "startup": false,
      "wait_interval": 0
     },
     "base_uri": "https://localhost:8080/",
     "height": 343,
     "output_extras": [
      {
       "item_id": 99
      },
      {
       "item_id": 223
      },
      {
       "item_id": 284
      },
      {
       "item_id": 347
      },
      {
       "item_id": 394
      },
      {
       "item_id": 445
      },
      {
       "item_id": 490
      },
      {
       "item_id": 542
      },
      {
       "item_id": 590
      },
      {
       "item_id": 639
      },
      {
       "item_id": 684
      }
     ]
    },
    "colab_type": "code",
    "executionInfo": {
     "elapsed": 676115,
     "status": "ok",
     "timestamp": 1515672664054,
     "user": {
      "displayName": "Michael Franklin Mbouopda",
      "photoUrl": "//lh3.googleusercontent.com/-2_Vuj9ESsJ0/AAAAAAAAAAI/AAAAAAAABSc/r-SRcN0jWPw/s50-c-k-no/photo.jpg",
      "userId": "117384351130599115261"
     },
     "user_tz": -60
    },
    "id": "uY2-NcCZxpXe",
    "outputId": "adcd5c23-d0c6-463a-bc11-db5d415eba1d"
   },
   "outputs": [],
   "source": [
    "def train_model(model, X_train, y_train, X_val, y_val, epochs=epochs):\n",
    "    # stop learning if the error is the same between two consecutive epochs\n",
    "    early_stop = EarlyStopping(patience=20, verbose=2)\n",
    "    \n",
    "    # saving best model\n",
    "    best_model_cp = ModelCheckpoint(best_model_file, save_best_only=True, verbose=1)\n",
    "    \n",
    "    model.fit(X_train, y_train, validation_data=(X_val, y_val), epochs=epochs, verbose=0, shuffle=shuffle, callbacks=[best_model_cp, early_stop])\n",
    "    \n",
    "    #loading and returning the best model\n",
    "    return keras.models.load_model(best_model_file)"
   ]
  },
  {
   "cell_type": "code",
   "execution_count": 16,
   "metadata": {},
   "outputs": [],
   "source": [
    "def predict(model, X, y, binary=BINARY):\n",
    "    if BINARY:\n",
    "        y_pred = np.round(model.predict(X))\n",
    "        y_true = y\n",
    "    else:\n",
    "        predictions = model.predict(X)\n",
    "        y_pred = np.array([np.argmax(p) for p in predictions])\n",
    "        y_true = np.array([np.argmax(t) for t in y ])\n",
    "    return y_true, y_pred"
   ]
  },
  {
   "cell_type": "code",
   "execution_count": 17,
   "metadata": {
    "colab": {
     "autoexec": {
      "startup": false,
      "wait_interval": 0
     },
     "base_uri": "https://localhost:8080/",
     "height": 34,
     "output_extras": [
      {
       "item_id": 1
      }
     ]
    },
    "colab_type": "code",
    "executionInfo": {
     "elapsed": 23179,
     "status": "ok",
     "timestamp": 1515672689915,
     "user": {
      "displayName": "Michael Franklin Mbouopda",
      "photoUrl": "//lh3.googleusercontent.com/-2_Vuj9ESsJ0/AAAAAAAAAAI/AAAAAAAABSc/r-SRcN0jWPw/s50-c-k-no/photo.jpg",
      "userId": "117384351130599115261"
     },
     "user_tz": -60
    },
    "id": "N33cmgKEyPOb",
    "outputId": "917cdaec-b68c-47d5-a8ea-bd6ef7387a67"
   },
   "outputs": [],
   "source": [
    "def model_performance(y_true, y_pred):\n",
    "    return P_R_F1(y_pred, y_true, tag2int['O']) #precision, recall, f1-score"
   ]
  },
  {
   "cell_type": "code",
   "execution_count": 18,
   "metadata": {},
   "outputs": [],
   "source": [
    "def model_performace_by_tag(y_true, y_pred, tag):\n",
    "    p, r, f1 = 0, 0, 0\n",
    "    \n",
    "    eq = y_pred[y_pred==y_true]\n",
    "    correctly_pred = eq[eq==tag].size\n",
    "    try:\n",
    "        p = np.round(100 * correctly_pred / y_pred[y_pred==tag].size, 2)\n",
    "    except ZeroDivisionError:\n",
    "        pass\n",
    "    \n",
    "    try:\n",
    "        r = np.round(100 * correctly_pred / y_true[y_true==tag].size, 2)\n",
    "    except ZeroDivisionError:\n",
    "        pass\n",
    "    \n",
    "    try:\n",
    "        f1 = np.round(2 * r * p / (r + p), 2)\n",
    "    except ZeroDivisionError:\n",
    "        pass\n",
    "    \n",
    "    return p, r, f1"
   ]
  },
  {
   "cell_type": "code",
   "execution_count": 19,
   "metadata": {},
   "outputs": [],
   "source": [
    "def algoEval(X_train, y_train, X_val, y_val, X_ewo, y_ewo, epochs=epochs, model=None):\n",
    "    \"\"\"\n",
    "    Train a model on (X, y) and validate on (X_val, y_val) then project on (X_ewo)\n",
    "    \"\"\"\n",
    "    test_precision, train_precision, ewo_precision = [], [], []\n",
    "    test_recall, train_recall, ewo_recall = [], [], []\n",
    "    test_fscore, train_fscore, ewo_fscore = [], [], []\n",
    "    \n",
    "    test_result_by_tag = {}\n",
    "    train_result_by_tag = {}\n",
    "    ewo_result_by_tag = {}\n",
    "    for t in tagSet:\n",
    "        f1_key = \"F1-\"+t\n",
    "        p_key = \"P-\"+t\n",
    "        r_key = \"R-\"+t\n",
    "        train_result_by_tag[f1_key], train_result_by_tag[p_key], train_result_by_tag[r_key] = [], [], []\n",
    "        test_result_by_tag[f1_key], test_result_by_tag[p_key], test_result_by_tag[r_key] = [], [], []\n",
    "        ewo_result_by_tag[f1_key], ewo_result_by_tag[p_key], ewo_result_by_tag[r_key] = [], [], []\n",
    "\n",
    "    m = train_model(model, X_train, y_train, X_val, y_val, epochs=epochs)\n",
    "        \n",
    "    y_true, y_pred = predict(m, X_train, y_train)\n",
    "    p_train, r_train, f1_train = model_performance(y_true, y_pred)\n",
    "        \n",
    "    y_true_val, y_pred_val = predict(m, X_val, y_val)\n",
    "    p_val, r_val, f1_val = model_performance(y_true_val, y_pred_val)\n",
    "        \n",
    "    y_true_ewo, y_pred_ewo = predict(m, X_ewo, y_ewo) \n",
    "    p_ewo, r_ewo, f1_ewo = model_performance(y_true_ewo, y_pred_ewo)\n",
    "        \n",
    "    for t in range(len(int2tag)):\n",
    "        f1_key = \"F1-\" + int2tag[t]\n",
    "        p_key = \"P-\" + int2tag[t]\n",
    "        r_key = \"R-\" + int2tag[t]\n",
    "            \n",
    "        p, r, f1 = model_performace_by_tag(y_true, y_pred, t)\n",
    "        train_result_by_tag[p_key].append(p)\n",
    "        train_result_by_tag[r_key].append(r)\n",
    "        train_result_by_tag[f1_key].append(f1)\n",
    "            \n",
    "        p, r, f1 = model_performace_by_tag(y_true_val, y_pred_val, t)\n",
    "        test_result_by_tag[p_key].append(p)\n",
    "        test_result_by_tag[r_key].append(r)\n",
    "        test_result_by_tag[f1_key].append(f1)\n",
    "            \n",
    "        p, r, f1 = model_performace_by_tag(y_true_ewo, y_pred_ewo, t)\n",
    "        ewo_result_by_tag[p_key].append(p)\n",
    "        ewo_result_by_tag[r_key].append(r)\n",
    "        ewo_result_by_tag[f1_key].append(f1)\n",
    "                \n",
    "    test_precision.append(p_val)\n",
    "    train_precision.append(p_train)\n",
    "    ewo_precision.append(p_ewo)\n",
    "        \n",
    "    test_recall.append(r_val)\n",
    "    train_recall.append(r_train)\n",
    "    ewo_recall.append(r_ewo)\n",
    "        \n",
    "    test_fscore.append(f1_val)\n",
    "    train_fscore.append(f1_train)\n",
    "    ewo_fscore.append(f1_ewo)\n",
    "    return pd.DataFrame({\n",
    "        'P_val': test_precision, \n",
    "        'P_train': train_precision, \n",
    "        'P_ewo': ewo_precision, 'R_val': test_recall, 'R_train': train_recall, \n",
    "        'R_ewo': ewo_recall, 'F1-val': test_fscore, 'F1-train': train_fscore, 'F1-ewo': ewo_fscore}), pd.DataFrame(train_result_by_tag), pd.DataFrame(test_result_by_tag), pd.DataFrame(ewo_result_by_tag)"
   ]
  },
  {
   "cell_type": "code",
   "execution_count": 20,
   "metadata": {},
   "outputs": [],
   "source": [
    "def algoCrossVal(X, y, X_ewo, y_ewo, k = 10, repeat=1): \n",
    "    \"\"\"\n",
    "    Traing a model with k-fold cross validation\n",
    "    We train the model `repeat` times to check it's stability\n",
    "    \"\"\"\n",
    "    block_size = int(X.shape[0] / k)   \n",
    "    output = None\n",
    "    model = None\n",
    "    train_by_tags, test_by_tags, ewo_by_tags = None, None, None\n",
    "    for it in range(repeat):\n",
    "        print(\"AlgoCrossValIter -\", it+1)\n",
    "        model = create_model(X.shape[1], len(tagSet))\n",
    "        results = None\n",
    "        train_by_tagsTmp, test_by_tagsTmp, ewo_by_tagsTmp = None, None, None\n",
    "        for i in range(k):\n",
    "            X_val, y_val = X[i*block_size:i*block_size+block_size], y[i*block_size:i*block_size+block_size]\n",
    "            X_train = np.concatenate((X[0:i*block_size], X[i*block_size+block_size:]))\n",
    "            y_train = np.concatenate((y[0:i*block_size], y[i*block_size+block_size:]))\n",
    "\n",
    "            X_train = X_train.reshape(X_train.shape[0], X_train.shape[1])\n",
    "            X_val = X_val.reshape(X_val.shape[0], X_val.shape[1])\n",
    "\n",
    "            result, train_by_tag, test_by_tag, ewo_by_tag = algoEval(X_train, y_train, X_val, y_val, X_ewo, y_ewo, model=model)\n",
    "            if results is None:\n",
    "                results = result.copy()\n",
    "                train_by_tagsTmp, test_by_tagsTmp, ewo_by_tagsTmp = train_by_tag.copy(), test_by_tag.copy(), ewo_by_tag.copy()\n",
    "            else:\n",
    "                results = pd.concat([results, result], ignore_index=True)\n",
    "                train_by_tagsTmp = pd.concat([train_by_tagsTmp, train_by_tag], ignore_index=True)\n",
    "                test_by_tagsTmp = pd.concat([test_by_tagsTmp, test_by_tag], ignore_index=True)\n",
    "                ewo_by_tagsTmp = pd.concat([ewo_by_tagsTmp, ewo_by_tag], ignore_index=True)\n",
    "        \n",
    "        if output is None:\n",
    "            output = results.mean(axis=0).to_frame()\n",
    "            train_by_tags = train_by_tagsTmp.mean(axis=0).to_frame()\n",
    "            test_by_tags = test_by_tagsTmp.mean(axis=0).to_frame()\n",
    "            ewo_by_tags = ewo_by_tagsTmp.mean(axis=0).to_frame()\n",
    "        else:\n",
    "            output = pd.concat([output, results.mean(axis=0).to_frame()], axis=1)\n",
    "            train_by_tags = pd.concat([train_by_tags, train_by_tagsTmp.mean(axis=0).to_frame()], axis=1)\n",
    "            test_by_tags = pd.concat([test_by_tags, test_by_tagsTmp.mean(axis=0).to_frame()], axis=1)\n",
    "            ewo_by_tags = pd.concat([ewo_by_tags, ewo_by_tagsTmp.mean(axis=0).to_frame()], axis=1)\n",
    "\n",
    "    return output, train_by_tags, test_by_tags, ewo_by_tags, model"
   ]
  },
  {
   "cell_type": "code",
   "execution_count": 21,
   "metadata": {
    "colab": {
     "autoexec": {
      "startup": false,
      "wait_interval": 0
     }
    },
    "colab_type": "code",
    "id": "TNN2TBckE8m_"
   },
   "outputs": [],
   "source": [
    "en_corpus, en_nb_of_phrases = load_corpus(en_corpus_file, max_nb_of_phrases)"
   ]
  },
  {
   "cell_type": "code",
   "execution_count": 22,
   "metadata": {},
   "outputs": [
    {
     "name": "stdout",
     "output_type": "stream",
     "text": [
      "Nb word in corpus 4170\n"
     ]
    }
   ],
   "source": [
    "nb_word_in_corpus = en_corpus[en_corpus.word != \"\\n\"].word.size\n",
    "print(\"Nb word in corpus\", nb_word_in_corpus)"
   ]
  },
  {
   "cell_type": "code",
   "execution_count": 23,
   "metadata": {},
   "outputs": [
    {
     "data": {
      "text/html": [
       "<div>\n",
       "<style scoped>\n",
       "    .dataframe tbody tr th:only-of-type {\n",
       "        vertical-align: middle;\n",
       "    }\n",
       "\n",
       "    .dataframe tbody tr th {\n",
       "        vertical-align: top;\n",
       "    }\n",
       "\n",
       "    .dataframe thead th {\n",
       "        text-align: right;\n",
       "    }\n",
       "</style>\n",
       "<table border=\"1\" class=\"dataframe\">\n",
       "  <thead>\n",
       "    <tr style=\"text-align: right;\">\n",
       "      <th></th>\n",
       "      <th>word</th>\n",
       "      <th>ne-tag</th>\n",
       "    </tr>\n",
       "  </thead>\n",
       "  <tbody>\n",
       "    <tr>\n",
       "      <th>1335</th>\n",
       "      <td>Sadducees</td>\n",
       "      <td>ORG</td>\n",
       "    </tr>\n",
       "  </tbody>\n",
       "</table>\n",
       "</div>"
      ],
      "text/plain": [
       "           word ne-tag\n",
       "1335  Sadducees    ORG"
      ]
     },
     "execution_count": 23,
     "metadata": {},
     "output_type": "execute_result"
    }
   ],
   "source": [
    "en_corpus.head()\n",
    "en_corpus.loc[en_corpus['ne-tag'] == 'ORG']"
   ]
  },
  {
   "cell_type": "code",
   "execution_count": 24,
   "metadata": {},
   "outputs": [
    {
     "name": "stdout",
     "output_type": "stream",
     "text": [
      "{'O': 0, 'MISC': 1, 'PER': 2, 'LOC': 3, 'ORG': 4}\n"
     ]
    }
   ],
   "source": [
    "tagSet = en_corpus[\"ne-tag\"].dropna().unique()\n",
    "if BINARY:\n",
    "    tagSet = ['NE', 'O']\n",
    "tag2int = {j: i for i, j in enumerate(tagSet)}\n",
    "int2tag = {i: j for i, j in enumerate(tagSet)}\n",
    "print(tag2int)"
   ]
  },
  {
   "cell_type": "code",
   "execution_count": 25,
   "metadata": {
    "colab": {
     "autoexec": {
      "startup": false,
      "wait_interval": 0
     },
     "base_uri": "https://localhost:8080/",
     "height": 34,
     "output_extras": [
      {
       "item_id": 1
      }
     ]
    },
    "colab_type": "code",
    "executionInfo": {
     "elapsed": 794,
     "status": "ok",
     "timestamp": 1515664141558,
     "user": {
      "displayName": "Michael Franklin Mbouopda",
      "photoUrl": "//lh3.googleusercontent.com/-2_Vuj9ESsJ0/AAAAAAAAAAI/AAAAAAAABSc/r-SRcN0jWPw/s50-c-k-no/photo.jpg",
      "userId": "117384351130599115261"
     },
     "user_tz": -60
    },
    "id": "m85WcghdzCph",
    "outputId": "9fa6817e-15c4-4205-f8f4-82c30c2cb610"
   },
   "outputs": [
    {
     "data": {
      "text/plain": [
       "210"
      ]
     },
     "execution_count": 25,
     "metadata": {},
     "output_type": "execute_result"
    }
   ],
   "source": [
    "en_nb_of_phrases"
   ]
  },
  {
   "cell_type": "code",
   "execution_count": 26,
   "metadata": {
    "colab": {
     "autoexec": {
      "startup": false,
      "wait_interval": 0
     },
     "base_uri": "https://localhost:8080/",
     "height": 173,
     "output_extras": [
      {
       "item_id": 1
      }
     ]
    },
    "colab_type": "code",
    "executionInfo": {
     "elapsed": 992,
     "status": "ok",
     "timestamp": 1515664144298,
     "user": {
      "displayName": "Michael Franklin Mbouopda",
      "photoUrl": "//lh3.googleusercontent.com/-2_Vuj9ESsJ0/AAAAAAAAAAI/AAAAAAAABSc/r-SRcN0jWPw/s50-c-k-no/photo.jpg",
      "userId": "117384351130599115261"
     },
     "user_tz": -60
    },
    "id": "Gw9r-Q9jlmvg",
    "outputId": "8ee33794-5639-4c97-ea43-06a66d89e207"
   },
   "outputs": [
    {
     "data": {
      "text/html": [
       "<div>\n",
       "<style scoped>\n",
       "    .dataframe tbody tr th:only-of-type {\n",
       "        vertical-align: middle;\n",
       "    }\n",
       "\n",
       "    .dataframe tbody tr th {\n",
       "        vertical-align: top;\n",
       "    }\n",
       "\n",
       "    .dataframe thead th {\n",
       "        text-align: right;\n",
       "    }\n",
       "</style>\n",
       "<table border=\"1\" class=\"dataframe\">\n",
       "  <thead>\n",
       "    <tr style=\"text-align: right;\">\n",
       "      <th></th>\n",
       "      <th>word</th>\n",
       "      <th>ne-tag</th>\n",
       "    </tr>\n",
       "  </thead>\n",
       "  <tbody>\n",
       "    <tr>\n",
       "      <th>count</th>\n",
       "      <td>4379</td>\n",
       "      <td>4170</td>\n",
       "    </tr>\n",
       "    <tr>\n",
       "      <th>unique</th>\n",
       "      <td>904</td>\n",
       "      <td>5</td>\n",
       "    </tr>\n",
       "    <tr>\n",
       "      <th>top</th>\n",
       "      <td>the</td>\n",
       "      <td>O</td>\n",
       "    </tr>\n",
       "    <tr>\n",
       "      <th>freq</th>\n",
       "      <td>313</td>\n",
       "      <td>3779</td>\n",
       "    </tr>\n",
       "  </tbody>\n",
       "</table>\n",
       "</div>"
      ],
      "text/plain": [
       "        word ne-tag\n",
       "count   4379   4170\n",
       "unique   904      5\n",
       "top      the      O\n",
       "freq     313   3779"
      ]
     },
     "execution_count": 26,
     "metadata": {},
     "output_type": "execute_result"
    }
   ],
   "source": [
    "en_corpus.describe()"
   ]
  },
  {
   "cell_type": "code",
   "execution_count": 27,
   "metadata": {
    "colab": {
     "autoexec": {
      "startup": false,
      "wait_interval": 0
     },
     "base_uri": "https://localhost:8080/",
     "height": 204,
     "output_extras": [
      {
       "item_id": 1
      }
     ]
    },
    "colab_type": "code",
    "executionInfo": {
     "elapsed": 1056,
     "status": "ok",
     "timestamp": 1515664147270,
     "user": {
      "displayName": "Michael Franklin Mbouopda",
      "photoUrl": "//lh3.googleusercontent.com/-2_Vuj9ESsJ0/AAAAAAAAAAI/AAAAAAAABSc/r-SRcN0jWPw/s50-c-k-no/photo.jpg",
      "userId": "117384351130599115261"
     },
     "user_tz": -60
    },
    "id": "EZ_5FqH3yxhU",
    "outputId": "a129592b-9fa2-4937-a35a-a73245aef4a8"
   },
   "outputs": [
    {
     "data": {
      "text/html": [
       "<div>\n",
       "<style scoped>\n",
       "    .dataframe tbody tr th:only-of-type {\n",
       "        vertical-align: middle;\n",
       "    }\n",
       "\n",
       "    .dataframe tbody tr th {\n",
       "        vertical-align: top;\n",
       "    }\n",
       "\n",
       "    .dataframe thead th {\n",
       "        text-align: right;\n",
       "    }\n",
       "</style>\n",
       "<table border=\"1\" class=\"dataframe\">\n",
       "  <thead>\n",
       "    <tr style=\"text-align: right;\">\n",
       "      <th></th>\n",
       "      <th>word</th>\n",
       "      <th>ne-tag</th>\n",
       "    </tr>\n",
       "  </thead>\n",
       "  <tbody>\n",
       "    <tr>\n",
       "      <th>0</th>\n",
       "      <td>The</td>\n",
       "      <td>O</td>\n",
       "    </tr>\n",
       "    <tr>\n",
       "      <th>1</th>\n",
       "      <td>Promise</td>\n",
       "      <td>O</td>\n",
       "    </tr>\n",
       "    <tr>\n",
       "      <th>2</th>\n",
       "      <td>of</td>\n",
       "      <td>O</td>\n",
       "    </tr>\n",
       "    <tr>\n",
       "      <th>3</th>\n",
       "      <td>the</td>\n",
       "      <td>O</td>\n",
       "    </tr>\n",
       "    <tr>\n",
       "      <th>4</th>\n",
       "      <td>Holy</td>\n",
       "      <td>MISC</td>\n",
       "    </tr>\n",
       "    <tr>\n",
       "      <th>5</th>\n",
       "      <td>Spirit</td>\n",
       "      <td>MISC</td>\n",
       "    </tr>\n",
       "    <tr>\n",
       "      <th>6</th>\n",
       "      <td>\\n</td>\n",
       "      <td>None</td>\n",
       "    </tr>\n",
       "    <tr>\n",
       "      <th>7</th>\n",
       "      <td>In</td>\n",
       "      <td>O</td>\n",
       "    </tr>\n",
       "    <tr>\n",
       "      <th>8</th>\n",
       "      <td>the</td>\n",
       "      <td>O</td>\n",
       "    </tr>\n",
       "    <tr>\n",
       "      <th>9</th>\n",
       "      <td>first</td>\n",
       "      <td>O</td>\n",
       "    </tr>\n",
       "  </tbody>\n",
       "</table>\n",
       "</div>"
      ],
      "text/plain": [
       "      word ne-tag\n",
       "0      The      O\n",
       "1  Promise      O\n",
       "2       of      O\n",
       "3      the      O\n",
       "4     Holy   MISC\n",
       "5   Spirit   MISC\n",
       "6       \\n   None\n",
       "7       In      O\n",
       "8      the      O\n",
       "9    first      O"
      ]
     },
     "execution_count": 27,
     "metadata": {},
     "output_type": "execute_result"
    }
   ],
   "source": [
    "en_corpus.head(10)"
   ]
  },
  {
   "cell_type": "code",
   "execution_count": 28,
   "metadata": {},
   "outputs": [
    {
     "name": "stdout",
     "output_type": "stream",
     "text": [
      "O % = 86.3 %\n",
      "MISC % = 2.4 %\n",
      "PER % = 5.59 %\n",
      "LOC % = 0.91 %\n",
      "ORG % = 0.02 %\n"
     ]
    }
   ],
   "source": [
    "for tag in tagSet:\n",
    "    print(\"{0} % = {1} %\".format(tag, np.round(en_corpus[en_corpus['ne-tag']==tag].shape[0] * 100 / en_corpus[en_corpus['ne-tag']!='\\n'].shape[0], 2)))"
   ]
  },
  {
   "cell_type": "code",
   "execution_count": 29,
   "metadata": {},
   "outputs": [
    {
     "name": "stdout",
     "output_type": "stream",
     "text": [
      "O % = 89.16 %\n",
      "MISC % = 1.88 %\n",
      "PER % = 8.96 %\n",
      "LOC % = 1.99 %\n",
      "ORG % = 0.11 %\n"
     ]
    }
   ],
   "source": [
    "for tag in tagSet:\n",
    "    print(\"{0} % = {1} %\".format(tag, np.round(en_corpus[en_corpus['ne-tag']==tag].word.unique().shape[0] * 100 / en_corpus[en_corpus['ne-tag']!='\\n'].word.unique().shape[0], 2)))"
   ]
  },
  {
   "cell_type": "code",
   "execution_count": 30,
   "metadata": {},
   "outputs": [
    {
     "data": {
      "text/plain": [
       "(209, 2)"
      ]
     },
     "execution_count": 30,
     "metadata": {},
     "output_type": "execute_result"
    }
   ],
   "source": [
    "en_corpus[en_corpus.word == \"\\n\"].shape"
   ]
  },
  {
   "cell_type": "code",
   "execution_count": 31,
   "metadata": {
    "colab": {
     "autoexec": {
      "startup": false,
      "wait_interval": 0
     },
     "base_uri": "https://localhost:8080/",
     "height": 190,
     "output_extras": [
      {
       "item_id": 1
      },
      {
       "item_id": 2
      }
     ]
    },
    "colab_type": "code",
    "executionInfo": {
     "elapsed": 40378,
     "status": "ok",
     "timestamp": 1515671247748,
     "user": {
      "displayName": "Michael Franklin Mbouopda",
      "photoUrl": "//lh3.googleusercontent.com/-2_Vuj9ESsJ0/AAAAAAAAAAI/AAAAAAAABSc/r-SRcN0jWPw/s50-c-k-no/photo.jpg",
      "userId": "117384351130599115261"
     },
     "user_tz": -60
    },
    "id": "Mx1Yl-Npvh12",
    "outputId": "29d26922-46c0-47b6-9d1b-26ac26b118d4"
   },
   "outputs": [
    {
     "name": "stdout",
     "output_type": "stream",
     "text": [
      "Nb of bi-phrases 210\n"
     ]
    }
   ],
   "source": [
    "print(\"Nb of bi-phrases\", en_nb_of_phrases)"
   ]
  },
  {
   "cell_type": "code",
   "execution_count": 73,
   "metadata": {
    "colab": {
     "autoexec": {
      "startup": false,
      "wait_interval": 0
     },
     "base_uri": "https://localhost:8080/",
     "height": 190,
     "output_extras": [
      {
       "item_id": 1
      },
      {
       "item_id": 2
      }
     ]
    },
    "colab_type": "code",
    "executionInfo": {
     "elapsed": 40378,
     "status": "ok",
     "timestamp": 1515671247748,
     "user": {
      "displayName": "Michael Franklin Mbouopda",
      "photoUrl": "//lh3.googleusercontent.com/-2_Vuj9ESsJ0/AAAAAAAAAAI/AAAAAAAABSc/r-SRcN0jWPw/s50-c-k-no/photo.jpg",
      "userId": "117384351130599115261"
     },
     "user_tz": -60
    },
    "id": "Mx1Yl-Npvh12",
    "outputId": "29d26922-46c0-47b6-9d1b-26ac26b118d4"
   },
   "outputs": [
    {
     "name": "stdout",
     "output_type": "stream",
     "text": [
      "Normalization strategy: None\n"
     ]
    }
   ],
   "source": [
    "en_fingerprints = corpus_fingerprint(en_corpus, en_nb_of_phrases)"
   ]
  },
  {
   "cell_type": "code",
   "execution_count": 75,
   "metadata": {
    "scrolled": true
   },
   "outputs": [
    {
     "data": {
      "text/html": [
       "<div>\n",
       "<style scoped>\n",
       "    .dataframe tbody tr th:only-of-type {\n",
       "        vertical-align: middle;\n",
       "    }\n",
       "\n",
       "    .dataframe tbody tr th {\n",
       "        vertical-align: top;\n",
       "    }\n",
       "\n",
       "    .dataframe thead th {\n",
       "        text-align: right;\n",
       "    }\n",
       "</style>\n",
       "<table border=\"1\" class=\"dataframe\">\n",
       "  <thead>\n",
       "    <tr style=\"text-align: right;\">\n",
       "      <th></th>\n",
       "      <th>The</th>\n",
       "      <th>Promise</th>\n",
       "      <th>of</th>\n",
       "      <th>the</th>\n",
       "      <th>Holy</th>\n",
       "      <th>Spirit</th>\n",
       "      <th>In</th>\n",
       "      <th>first</th>\n",
       "      <th>book</th>\n",
       "      <th>O</th>\n",
       "      <th>...</th>\n",
       "      <th>considered</th>\n",
       "      <th>dream</th>\n",
       "      <th>She</th>\n",
       "      <th>save</th>\n",
       "      <th>fulfill</th>\n",
       "      <th>Immanuel</th>\n",
       "      <th>us)</th>\n",
       "      <th>woke</th>\n",
       "      <th>sleep</th>\n",
       "      <th>knew</th>\n",
       "    </tr>\n",
       "  </thead>\n",
       "  <tbody>\n",
       "    <tr>\n",
       "      <th>0</th>\n",
       "      <td>379.090912</td>\n",
       "      <td>4170.0</td>\n",
       "      <td>22.180851</td>\n",
       "      <td>13.322683</td>\n",
       "      <td>278.0</td>\n",
       "      <td>297.857147</td>\n",
       "      <td>0.0</td>\n",
       "      <td>0.0</td>\n",
       "      <td>0.0</td>\n",
       "      <td>0.0</td>\n",
       "      <td>...</td>\n",
       "      <td>0.0</td>\n",
       "      <td>0.0</td>\n",
       "      <td>0.0</td>\n",
       "      <td>0.0</td>\n",
       "      <td>0.0</td>\n",
       "      <td>0.0</td>\n",
       "      <td>0.0</td>\n",
       "      <td>0.0</td>\n",
       "      <td>0.0</td>\n",
       "      <td>0.0</td>\n",
       "    </tr>\n",
       "    <tr>\n",
       "      <th>1</th>\n",
       "      <td>0.000000</td>\n",
       "      <td>0.0</td>\n",
       "      <td>0.000000</td>\n",
       "      <td>13.322683</td>\n",
       "      <td>0.0</td>\n",
       "      <td>0.000000</td>\n",
       "      <td>695.0</td>\n",
       "      <td>2085.0</td>\n",
       "      <td>2085.0</td>\n",
       "      <td>2085.0</td>\n",
       "      <td>...</td>\n",
       "      <td>0.0</td>\n",
       "      <td>0.0</td>\n",
       "      <td>0.0</td>\n",
       "      <td>0.0</td>\n",
       "      <td>0.0</td>\n",
       "      <td>0.0</td>\n",
       "      <td>0.0</td>\n",
       "      <td>0.0</td>\n",
       "      <td>0.0</td>\n",
       "      <td>0.0</td>\n",
       "    </tr>\n",
       "    <tr>\n",
       "      <th>2</th>\n",
       "      <td>0.000000</td>\n",
       "      <td>0.0</td>\n",
       "      <td>0.000000</td>\n",
       "      <td>13.322683</td>\n",
       "      <td>278.0</td>\n",
       "      <td>297.857147</td>\n",
       "      <td>0.0</td>\n",
       "      <td>0.0</td>\n",
       "      <td>0.0</td>\n",
       "      <td>0.0</td>\n",
       "      <td>...</td>\n",
       "      <td>0.0</td>\n",
       "      <td>0.0</td>\n",
       "      <td>0.0</td>\n",
       "      <td>0.0</td>\n",
       "      <td>0.0</td>\n",
       "      <td>0.0</td>\n",
       "      <td>0.0</td>\n",
       "      <td>0.0</td>\n",
       "      <td>0.0</td>\n",
       "      <td>0.0</td>\n",
       "    </tr>\n",
       "    <tr>\n",
       "      <th>3</th>\n",
       "      <td>0.000000</td>\n",
       "      <td>0.0</td>\n",
       "      <td>22.180851</td>\n",
       "      <td>13.322683</td>\n",
       "      <td>0.0</td>\n",
       "      <td>0.000000</td>\n",
       "      <td>0.0</td>\n",
       "      <td>0.0</td>\n",
       "      <td>0.0</td>\n",
       "      <td>0.0</td>\n",
       "      <td>...</td>\n",
       "      <td>0.0</td>\n",
       "      <td>0.0</td>\n",
       "      <td>0.0</td>\n",
       "      <td>0.0</td>\n",
       "      <td>0.0</td>\n",
       "      <td>0.0</td>\n",
       "      <td>0.0</td>\n",
       "      <td>0.0</td>\n",
       "      <td>0.0</td>\n",
       "      <td>0.0</td>\n",
       "    </tr>\n",
       "    <tr>\n",
       "      <th>4</th>\n",
       "      <td>0.000000</td>\n",
       "      <td>0.0</td>\n",
       "      <td>22.180851</td>\n",
       "      <td>13.322683</td>\n",
       "      <td>0.0</td>\n",
       "      <td>0.000000</td>\n",
       "      <td>0.0</td>\n",
       "      <td>0.0</td>\n",
       "      <td>0.0</td>\n",
       "      <td>0.0</td>\n",
       "      <td>...</td>\n",
       "      <td>0.0</td>\n",
       "      <td>0.0</td>\n",
       "      <td>0.0</td>\n",
       "      <td>0.0</td>\n",
       "      <td>0.0</td>\n",
       "      <td>0.0</td>\n",
       "      <td>0.0</td>\n",
       "      <td>0.0</td>\n",
       "      <td>0.0</td>\n",
       "      <td>0.0</td>\n",
       "    </tr>\n",
       "    <tr>\n",
       "      <th>5</th>\n",
       "      <td>0.000000</td>\n",
       "      <td>0.0</td>\n",
       "      <td>0.000000</td>\n",
       "      <td>13.322683</td>\n",
       "      <td>278.0</td>\n",
       "      <td>297.857147</td>\n",
       "      <td>0.0</td>\n",
       "      <td>0.0</td>\n",
       "      <td>0.0</td>\n",
       "      <td>0.0</td>\n",
       "      <td>...</td>\n",
       "      <td>0.0</td>\n",
       "      <td>0.0</td>\n",
       "      <td>0.0</td>\n",
       "      <td>0.0</td>\n",
       "      <td>0.0</td>\n",
       "      <td>0.0</td>\n",
       "      <td>0.0</td>\n",
       "      <td>0.0</td>\n",
       "      <td>0.0</td>\n",
       "      <td>0.0</td>\n",
       "    </tr>\n",
       "    <tr>\n",
       "      <th>6</th>\n",
       "      <td>379.090912</td>\n",
       "      <td>0.0</td>\n",
       "      <td>0.000000</td>\n",
       "      <td>0.000000</td>\n",
       "      <td>0.0</td>\n",
       "      <td>0.000000</td>\n",
       "      <td>0.0</td>\n",
       "      <td>0.0</td>\n",
       "      <td>0.0</td>\n",
       "      <td>0.0</td>\n",
       "      <td>...</td>\n",
       "      <td>0.0</td>\n",
       "      <td>0.0</td>\n",
       "      <td>0.0</td>\n",
       "      <td>0.0</td>\n",
       "      <td>0.0</td>\n",
       "      <td>0.0</td>\n",
       "      <td>0.0</td>\n",
       "      <td>0.0</td>\n",
       "      <td>0.0</td>\n",
       "      <td>0.0</td>\n",
       "    </tr>\n",
       "    <tr>\n",
       "      <th>7</th>\n",
       "      <td>0.000000</td>\n",
       "      <td>0.0</td>\n",
       "      <td>0.000000</td>\n",
       "      <td>13.322683</td>\n",
       "      <td>0.0</td>\n",
       "      <td>0.000000</td>\n",
       "      <td>0.0</td>\n",
       "      <td>0.0</td>\n",
       "      <td>0.0</td>\n",
       "      <td>0.0</td>\n",
       "      <td>...</td>\n",
       "      <td>0.0</td>\n",
       "      <td>0.0</td>\n",
       "      <td>0.0</td>\n",
       "      <td>0.0</td>\n",
       "      <td>0.0</td>\n",
       "      <td>0.0</td>\n",
       "      <td>0.0</td>\n",
       "      <td>0.0</td>\n",
       "      <td>0.0</td>\n",
       "      <td>0.0</td>\n",
       "    </tr>\n",
       "    <tr>\n",
       "      <th>8</th>\n",
       "      <td>0.000000</td>\n",
       "      <td>0.0</td>\n",
       "      <td>0.000000</td>\n",
       "      <td>13.322683</td>\n",
       "      <td>0.0</td>\n",
       "      <td>0.000000</td>\n",
       "      <td>0.0</td>\n",
       "      <td>0.0</td>\n",
       "      <td>0.0</td>\n",
       "      <td>0.0</td>\n",
       "      <td>...</td>\n",
       "      <td>0.0</td>\n",
       "      <td>0.0</td>\n",
       "      <td>0.0</td>\n",
       "      <td>0.0</td>\n",
       "      <td>0.0</td>\n",
       "      <td>0.0</td>\n",
       "      <td>0.0</td>\n",
       "      <td>0.0</td>\n",
       "      <td>0.0</td>\n",
       "      <td>0.0</td>\n",
       "    </tr>\n",
       "    <tr>\n",
       "      <th>9</th>\n",
       "      <td>0.000000</td>\n",
       "      <td>0.0</td>\n",
       "      <td>22.180851</td>\n",
       "      <td>13.322683</td>\n",
       "      <td>278.0</td>\n",
       "      <td>297.857147</td>\n",
       "      <td>0.0</td>\n",
       "      <td>0.0</td>\n",
       "      <td>0.0</td>\n",
       "      <td>0.0</td>\n",
       "      <td>...</td>\n",
       "      <td>0.0</td>\n",
       "      <td>0.0</td>\n",
       "      <td>0.0</td>\n",
       "      <td>0.0</td>\n",
       "      <td>0.0</td>\n",
       "      <td>0.0</td>\n",
       "      <td>0.0</td>\n",
       "      <td>0.0</td>\n",
       "      <td>0.0</td>\n",
       "      <td>0.0</td>\n",
       "    </tr>\n",
       "  </tbody>\n",
       "</table>\n",
       "<p>10 rows × 903 columns</p>\n",
       "</div>"
      ],
      "text/plain": [
       "          The  Promise         of        the   Holy      Spirit     In  \\\n",
       "0  379.090912   4170.0  22.180851  13.322683  278.0  297.857147    0.0   \n",
       "1    0.000000      0.0   0.000000  13.322683    0.0    0.000000  695.0   \n",
       "2    0.000000      0.0   0.000000  13.322683  278.0  297.857147    0.0   \n",
       "3    0.000000      0.0  22.180851  13.322683    0.0    0.000000    0.0   \n",
       "4    0.000000      0.0  22.180851  13.322683    0.0    0.000000    0.0   \n",
       "5    0.000000      0.0   0.000000  13.322683  278.0  297.857147    0.0   \n",
       "6  379.090912      0.0   0.000000   0.000000    0.0    0.000000    0.0   \n",
       "7    0.000000      0.0   0.000000  13.322683    0.0    0.000000    0.0   \n",
       "8    0.000000      0.0   0.000000  13.322683    0.0    0.000000    0.0   \n",
       "9    0.000000      0.0  22.180851  13.322683  278.0  297.857147    0.0   \n",
       "\n",
       "    first    book       O  ...  considered  dream  She  save  fulfill  \\\n",
       "0     0.0     0.0     0.0  ...         0.0    0.0  0.0   0.0      0.0   \n",
       "1  2085.0  2085.0  2085.0  ...         0.0    0.0  0.0   0.0      0.0   \n",
       "2     0.0     0.0     0.0  ...         0.0    0.0  0.0   0.0      0.0   \n",
       "3     0.0     0.0     0.0  ...         0.0    0.0  0.0   0.0      0.0   \n",
       "4     0.0     0.0     0.0  ...         0.0    0.0  0.0   0.0      0.0   \n",
       "5     0.0     0.0     0.0  ...         0.0    0.0  0.0   0.0      0.0   \n",
       "6     0.0     0.0     0.0  ...         0.0    0.0  0.0   0.0      0.0   \n",
       "7     0.0     0.0     0.0  ...         0.0    0.0  0.0   0.0      0.0   \n",
       "8     0.0     0.0     0.0  ...         0.0    0.0  0.0   0.0      0.0   \n",
       "9     0.0     0.0     0.0  ...         0.0    0.0  0.0   0.0      0.0   \n",
       "\n",
       "   Immanuel  us)  woke  sleep  knew  \n",
       "0       0.0  0.0   0.0    0.0   0.0  \n",
       "1       0.0  0.0   0.0    0.0   0.0  \n",
       "2       0.0  0.0   0.0    0.0   0.0  \n",
       "3       0.0  0.0   0.0    0.0   0.0  \n",
       "4       0.0  0.0   0.0    0.0   0.0  \n",
       "5       0.0  0.0   0.0    0.0   0.0  \n",
       "6       0.0  0.0   0.0    0.0   0.0  \n",
       "7       0.0  0.0   0.0    0.0   0.0  \n",
       "8       0.0  0.0   0.0    0.0   0.0  \n",
       "9       0.0  0.0   0.0    0.0   0.0  \n",
       "\n",
       "[10 rows x 903 columns]"
      ]
     },
     "execution_count": 75,
     "metadata": {},
     "output_type": "execute_result"
    }
   ],
   "source": [
    "en_fingerprints.head(10)"
   ]
  },
  {
   "cell_type": "code",
   "execution_count": 76,
   "metadata": {},
   "outputs": [
    {
     "data": {
      "text/plain": [
       "1.0"
      ]
     },
     "execution_count": 76,
     "metadata": {},
     "output_type": "execute_result"
    }
   ],
   "source": [
    "(4170 / nb_word_in_corpus)"
   ]
  },
  {
   "cell_type": "code",
   "execution_count": 77,
   "metadata": {},
   "outputs": [
    {
     "data": {
      "text/plain": [
       "(4379, 2)"
      ]
     },
     "execution_count": 77,
     "metadata": {},
     "output_type": "execute_result"
    }
   ],
   "source": [
    "en_corpus.shape"
   ]
  },
  {
   "cell_type": "code",
   "execution_count": 78,
   "metadata": {},
   "outputs": [
    {
     "data": {
      "text/plain": [
       "(210,)"
      ]
     },
     "execution_count": 78,
     "metadata": {},
     "output_type": "execute_result"
    }
   ],
   "source": [
    "en_fingerprints['you'].values.shape"
   ]
  },
  {
   "cell_type": "code",
   "execution_count": 79,
   "metadata": {},
   "outputs": [
    {
     "data": {
      "text/plain": [
       "(4170, 2)"
      ]
     },
     "execution_count": 79,
     "metadata": {},
     "output_type": "execute_result"
    }
   ],
   "source": [
    "en_corpus[en_corpus.word != \"\\n\"].shape"
   ]
  },
  {
   "cell_type": "code",
   "execution_count": 80,
   "metadata": {},
   "outputs": [
    {
     "data": {
      "text/html": [
       "<div>\n",
       "<style scoped>\n",
       "    .dataframe tbody tr th:only-of-type {\n",
       "        vertical-align: middle;\n",
       "    }\n",
       "\n",
       "    .dataframe tbody tr th {\n",
       "        vertical-align: top;\n",
       "    }\n",
       "\n",
       "    .dataframe thead th {\n",
       "        text-align: right;\n",
       "    }\n",
       "</style>\n",
       "<table border=\"1\" class=\"dataframe\">\n",
       "  <thead>\n",
       "    <tr style=\"text-align: right;\">\n",
       "      <th></th>\n",
       "      <th>text</th>\n",
       "    </tr>\n",
       "  </thead>\n",
       "  <tbody>\n",
       "    <tr>\n",
       "      <th>count</th>\n",
       "      <td>903</td>\n",
       "    </tr>\n",
       "    <tr>\n",
       "      <th>unique</th>\n",
       "      <td>903</td>\n",
       "    </tr>\n",
       "    <tr>\n",
       "      <th>top</th>\n",
       "      <td>annoyed</td>\n",
       "    </tr>\n",
       "    <tr>\n",
       "      <th>freq</th>\n",
       "      <td>1</td>\n",
       "    </tr>\n",
       "  </tbody>\n",
       "</table>\n",
       "</div>"
      ],
      "text/plain": [
       "           text\n",
       "count       903\n",
       "unique      903\n",
       "top     annoyed\n",
       "freq          1"
      ]
     },
     "execution_count": 80,
     "metadata": {},
     "output_type": "execute_result"
    }
   ],
   "source": [
    "if is_only_vocab:\n",
    "    text = list(en_corpus[en_corpus.word != \"\\n\"].word.unique())\n",
    "else:\n",
    "    text = list(en_corpus[en_corpus.word != \"\\n\"].word)\n",
    "en_vocab = pd.DataFrame({'text': text})\n",
    "en_vocab.describe()"
   ]
  },
  {
   "cell_type": "code",
   "execution_count": 81,
   "metadata": {
    "colab": {
     "autoexec": {
      "startup": false,
      "wait_interval": 0
     },
     "base_uri": "https://localhost:8080/",
     "height": 190,
     "output_extras": [
      {
       "item_id": 1
      },
      {
       "item_id": 2
      }
     ]
    },
    "colab_type": "code",
    "executionInfo": {
     "elapsed": 40378,
     "status": "ok",
     "timestamp": 1515671247748,
     "user": {
      "displayName": "Michael Franklin Mbouopda",
      "photoUrl": "//lh3.googleusercontent.com/-2_Vuj9ESsJ0/AAAAAAAAAAI/AAAAAAAABSc/r-SRcN0jWPw/s50-c-k-no/photo.jpg",
      "userId": "117384351130599115261"
     },
     "user_tz": -60
    },
    "id": "Mx1Yl-Npvh12",
    "outputId": "29d26922-46c0-47b6-9d1b-26ac26b118d4"
   },
   "outputs": [
    {
     "name": "stdout",
     "output_type": "stream",
     "text": [
      "(903, 210) (210, 903) (903,)\n"
     ]
    }
   ],
   "source": [
    "if is_only_vocab:\n",
    "    X = np.zeros((en_vocab.shape[0] * duplication, en_nb_of_phrases))\n",
    "    target = np.zeros((en_vocab.shape[0] * duplication))\n",
    "    p=0\n",
    "    for i, row in en_vocab.iterrows():\n",
    "        c = row.text\n",
    "        for j in range(duplication):\n",
    "            X[p] = en_fingerprints[c.split(\" \")[0]]\n",
    "            target[p] = tag2int[getTag(en_corpus[en_corpus.word == c.split(\" \")[-1:][0]]['ne-tag'].iloc[0])]\n",
    "            p+=1\n",
    "    X, target = shuffle_data(X, target)\n",
    "    print(X.shape, en_fingerprints.shape, target.shape)"
   ]
  },
  {
   "cell_type": "code",
   "execution_count": 82,
   "metadata": {},
   "outputs": [
    {
     "data": {
      "text/html": [
       "<div>\n",
       "<style scoped>\n",
       "    .dataframe tbody tr th:only-of-type {\n",
       "        vertical-align: middle;\n",
       "    }\n",
       "\n",
       "    .dataframe tbody tr th {\n",
       "        vertical-align: top;\n",
       "    }\n",
       "\n",
       "    .dataframe thead th {\n",
       "        text-align: right;\n",
       "    }\n",
       "</style>\n",
       "<table border=\"1\" class=\"dataframe\">\n",
       "  <thead>\n",
       "    <tr style=\"text-align: right;\">\n",
       "      <th></th>\n",
       "      <th>text</th>\n",
       "    </tr>\n",
       "  </thead>\n",
       "  <tbody>\n",
       "    <tr>\n",
       "      <th>883</th>\n",
       "      <td>Eliud</td>\n",
       "    </tr>\n",
       "    <tr>\n",
       "      <th>884</th>\n",
       "      <td>Eleazar</td>\n",
       "    </tr>\n",
       "    <tr>\n",
       "      <th>885</th>\n",
       "      <td>Matthan</td>\n",
       "    </tr>\n",
       "    <tr>\n",
       "      <th>886</th>\n",
       "      <td>husband</td>\n",
       "    </tr>\n",
       "    <tr>\n",
       "      <th>887</th>\n",
       "      <td>fourteen</td>\n",
       "    </tr>\n",
       "    <tr>\n",
       "      <th>888</th>\n",
       "      <td>unwilling</td>\n",
       "    </tr>\n",
       "    <tr>\n",
       "      <th>889</th>\n",
       "      <td>shame</td>\n",
       "    </tr>\n",
       "    <tr>\n",
       "      <th>890</th>\n",
       "      <td>resolved</td>\n",
       "    </tr>\n",
       "    <tr>\n",
       "      <th>891</th>\n",
       "      <td>divorce</td>\n",
       "    </tr>\n",
       "    <tr>\n",
       "      <th>892</th>\n",
       "      <td>quietly</td>\n",
       "    </tr>\n",
       "    <tr>\n",
       "      <th>893</th>\n",
       "      <td>considered</td>\n",
       "    </tr>\n",
       "    <tr>\n",
       "      <th>894</th>\n",
       "      <td>dream</td>\n",
       "    </tr>\n",
       "    <tr>\n",
       "      <th>895</th>\n",
       "      <td>She</td>\n",
       "    </tr>\n",
       "    <tr>\n",
       "      <th>896</th>\n",
       "      <td>save</td>\n",
       "    </tr>\n",
       "    <tr>\n",
       "      <th>897</th>\n",
       "      <td>fulfill</td>\n",
       "    </tr>\n",
       "    <tr>\n",
       "      <th>898</th>\n",
       "      <td>Immanuel</td>\n",
       "    </tr>\n",
       "    <tr>\n",
       "      <th>899</th>\n",
       "      <td>us)</td>\n",
       "    </tr>\n",
       "    <tr>\n",
       "      <th>900</th>\n",
       "      <td>woke</td>\n",
       "    </tr>\n",
       "    <tr>\n",
       "      <th>901</th>\n",
       "      <td>sleep</td>\n",
       "    </tr>\n",
       "    <tr>\n",
       "      <th>902</th>\n",
       "      <td>knew</td>\n",
       "    </tr>\n",
       "  </tbody>\n",
       "</table>\n",
       "</div>"
      ],
      "text/plain": [
       "           text\n",
       "883       Eliud\n",
       "884     Eleazar\n",
       "885     Matthan\n",
       "886     husband\n",
       "887    fourteen\n",
       "888   unwilling\n",
       "889       shame\n",
       "890    resolved\n",
       "891     divorce\n",
       "892     quietly\n",
       "893  considered\n",
       "894       dream\n",
       "895         She\n",
       "896        save\n",
       "897     fulfill\n",
       "898    Immanuel\n",
       "899         us)\n",
       "900        woke\n",
       "901       sleep\n",
       "902        knew"
      ]
     },
     "execution_count": 82,
     "metadata": {},
     "output_type": "execute_result"
    }
   ],
   "source": [
    "en_vocab[-20:]"
   ]
  },
  {
   "cell_type": "code",
   "execution_count": 83,
   "metadata": {},
   "outputs": [],
   "source": [
    "if not is_only_vocab:\n",
    "    X, target = corpus2trainingdata(en_corpus[en_corpus.word != \"\\n\"], en_fingerprints)"
   ]
  },
  {
   "cell_type": "code",
   "execution_count": 84,
   "metadata": {},
   "outputs": [],
   "source": [
    "if shuffle:\n",
    "    X, target = shuffle_data(X, target)"
   ]
  },
  {
   "cell_type": "code",
   "execution_count": 85,
   "metadata": {
    "colab": {
     "autoexec": {
      "startup": false,
      "wait_interval": 0
     },
     "base_uri": "https://localhost:8080/",
     "height": 102,
     "output_extras": [
      {
       "item_id": 1
      }
     ]
    },
    "colab_type": "code",
    "executionInfo": {
     "elapsed": 1032,
     "status": "ok",
     "timestamp": 1515671250872,
     "user": {
      "displayName": "Michael Franklin Mbouopda",
      "photoUrl": "//lh3.googleusercontent.com/-2_Vuj9ESsJ0/AAAAAAAAAAI/AAAAAAAABSc/r-SRcN0jWPw/s50-c-k-no/photo.jpg",
      "userId": "117384351130599115261"
     },
     "user_tz": -60
    },
    "id": "HLn_an5ExZSC",
    "outputId": "382c3159-7917-40e3-e469-27c244d86663"
   },
   "outputs": [
    {
     "data": {
      "text/plain": [
       "(903, 5)"
      ]
     },
     "execution_count": 85,
     "metadata": {},
     "output_type": "execute_result"
    }
   ],
   "source": [
    "y = target.copy()\n",
    "y[0:100]\n",
    "if not BINARY:\n",
    "    y = np_utils.to_categorical(y, len(tagSet))\n",
    "y.shape"
   ]
  },
  {
   "cell_type": "code",
   "execution_count": 86,
   "metadata": {},
   "outputs": [],
   "source": [
    "from sklearn.decomposition import PCA\n",
    "\n",
    "def visualize(X, y):\n",
    "    pca = PCA(n_components=2)\n",
    "    X_embeded = pca.fit_transform(X)\n",
    "    plt.figure(figsize=(5, 5))\n",
    "    plt.scatter(X_embeded[:, 0], X_embeded[:, 1], c=y)\n",
    "    plt.legend()\n",
    "    plt.show()"
   ]
  },
  {
   "cell_type": "code",
   "execution_count": 87,
   "metadata": {},
   "outputs": [],
   "source": [
    "# visualize(X, target)"
   ]
  },
  {
   "cell_type": "code",
   "execution_count": 88,
   "metadata": {
    "colab": {
     "autoexec": {
      "startup": false,
      "wait_interval": 0
     },
     "base_uri": "https://localhost:8080/",
     "height": 119,
     "output_extras": [
      {
       "item_id": 1
      }
     ]
    },
    "colab_type": "code",
    "executionInfo": {
     "elapsed": 899,
     "status": "ok",
     "timestamp": 1515671252070,
     "user": {
      "displayName": "Michael Franklin Mbouopda",
      "photoUrl": "//lh3.googleusercontent.com/-2_Vuj9ESsJ0/AAAAAAAAAAI/AAAAAAAABSc/r-SRcN0jWPw/s50-c-k-no/photo.jpg",
      "userId": "117384351130599115261"
     },
     "user_tz": -60
    },
    "id": "sF3M9I53xlY1",
    "outputId": "8d011439-2df0-4440-b334-7e21e44c2208"
   },
   "outputs": [
    {
     "name": "stdout",
     "output_type": "stream",
     "text": [
      "X_train.shape = (605, 210)\n",
      "y_train.shape = (605, 5)\n",
      "X_val.shape = (298, 210)\n",
      "y_val.shape = (298, 5)\n",
      "O % in training data = 87.77 %\n",
      "O % in validation data = 89.26 %\n",
      "MISC % in training data = 0.99 %\n",
      "MISC % in validation data = 1.68 %\n",
      "PER % in training data = 8.76 %\n",
      "PER % in validation data = 8.05 %\n",
      "LOC % in training data = 2.31 %\n",
      "LOC % in validation data = 1.01 %\n",
      "ORG % in training data = 0.17 %\n",
      "ORG % in validation data = 0.0 %\n"
     ]
    }
   ],
   "source": [
    "X_train, X_val, y_train, y_val = model_selection.train_test_split(X, y, test_size=0.33)\n",
    "X_train = X_train.reshape(X_train.shape[0], X_train.shape[1])\n",
    "X_val = X_val.reshape(X_val.shape[0], X_val.shape[1])\n",
    "print(\"X_train.shape =\", X_train.shape)\n",
    "print(\"y_train.shape =\", y_train.shape)\n",
    "print(\"X_val.shape =\", X_val.shape)\n",
    "print(\"y_val.shape =\", y_val.shape)\n",
    "\n",
    "tTarget = np.array([np.argmax(yy) for yy in y_train])\n",
    "vTarget = np.array([np.argmax(yy) for yy in y_val])\n",
    "\n",
    "for tag in tagSet:\n",
    "    print(\"{0} % in training data = {1} %\".format(tag, np.round(tTarget[tTarget==tag2int[tag]].size * 100 / tTarget.shape[0], 2)))\n",
    "    print(\"{0} % in validation data = {1} %\".format(tag, np.round(vTarget[vTarget==tag2int[tag]].size * 100 / vTarget.shape[0], 2)))"
   ]
  },
  {
   "cell_type": "code",
   "execution_count": 89,
   "metadata": {
    "colab": {
     "autoexec": {
      "startup": false,
      "wait_interval": 0
     },
     "base_uri": "https://localhost:8080/",
     "height": 173,
     "output_extras": [
      {
       "item_id": 1
      }
     ]
    },
    "colab_type": "code",
    "executionInfo": {
     "elapsed": 758,
     "status": "ok",
     "timestamp": 1515664313240,
     "user": {
      "displayName": "Michael Franklin Mbouopda",
      "photoUrl": "//lh3.googleusercontent.com/-2_Vuj9ESsJ0/AAAAAAAAAAI/AAAAAAAABSc/r-SRcN0jWPw/s50-c-k-no/photo.jpg",
      "userId": "117384351130599115261"
     },
     "user_tz": -60
    },
    "id": "OObRLXTr268N",
    "outputId": "6361a898-fd04-4e15-8aa7-936a12b3221a"
   },
   "outputs": [],
   "source": [
    "ewo_corpus, ewo_nb_of_phrases = load_corpus(ewo_corpus_file, max_nb_of_phrases)"
   ]
  },
  {
   "cell_type": "code",
   "execution_count": 90,
   "metadata": {},
   "outputs": [
    {
     "data": {
      "text/html": [
       "<div>\n",
       "<style scoped>\n",
       "    .dataframe tbody tr th:only-of-type {\n",
       "        vertical-align: middle;\n",
       "    }\n",
       "\n",
       "    .dataframe tbody tr th {\n",
       "        vertical-align: top;\n",
       "    }\n",
       "\n",
       "    .dataframe thead th {\n",
       "        text-align: right;\n",
       "    }\n",
       "</style>\n",
       "<table border=\"1\" class=\"dataframe\">\n",
       "  <thead>\n",
       "    <tr style=\"text-align: right;\">\n",
       "      <th></th>\n",
       "      <th>word</th>\n",
       "      <th>ne-tag</th>\n",
       "    </tr>\n",
       "  </thead>\n",
       "  <tbody>\n",
       "    <tr>\n",
       "      <th>6</th>\n",
       "      <td>Teofil</td>\n",
       "      <td>PER</td>\n",
       "    </tr>\n",
       "    <tr>\n",
       "      <th>15</th>\n",
       "      <td>Yesus</td>\n",
       "      <td>PER</td>\n",
       "    </tr>\n",
       "    <tr>\n",
       "      <th>86</th>\n",
       "      <td>Yohannes</td>\n",
       "      <td>PER</td>\n",
       "    </tr>\n",
       "    <tr>\n",
       "      <th>104</th>\n",
       "      <td>Yesus</td>\n",
       "      <td>PER</td>\n",
       "    </tr>\n",
       "    <tr>\n",
       "      <th>230</th>\n",
       "      <td>Yesus</td>\n",
       "      <td>PER</td>\n",
       "    </tr>\n",
       "    <tr>\n",
       "      <th>...</th>\n",
       "      <td>...</td>\n",
       "      <td>...</td>\n",
       "    </tr>\n",
       "    <tr>\n",
       "      <th>3676</th>\n",
       "      <td>Maria</td>\n",
       "      <td>PER</td>\n",
       "    </tr>\n",
       "    <tr>\n",
       "      <th>3697</th>\n",
       "      <td>Yesus</td>\n",
       "      <td>PER</td>\n",
       "    </tr>\n",
       "    <tr>\n",
       "      <th>3740</th>\n",
       "      <td>Emmanuel</td>\n",
       "      <td>PER</td>\n",
       "    </tr>\n",
       "    <tr>\n",
       "      <th>3750</th>\n",
       "      <td>Yosef</td>\n",
       "      <td>PER</td>\n",
       "    </tr>\n",
       "    <tr>\n",
       "      <th>3778</th>\n",
       "      <td>Yesus</td>\n",
       "      <td>PER</td>\n",
       "    </tr>\n",
       "  </tbody>\n",
       "</table>\n",
       "<p>253 rows × 2 columns</p>\n",
       "</div>"
      ],
      "text/plain": [
       "          word ne-tag\n",
       "6       Teofil    PER\n",
       "15       Yesus    PER\n",
       "86    Yohannes    PER\n",
       "104      Yesus    PER\n",
       "230      Yesus    PER\n",
       "...        ...    ...\n",
       "3676     Maria    PER\n",
       "3697     Yesus    PER\n",
       "3740  Emmanuel    PER\n",
       "3750     Yosef    PER\n",
       "3778     Yesus    PER\n",
       "\n",
       "[253 rows x 2 columns]"
      ]
     },
     "execution_count": 90,
     "metadata": {},
     "output_type": "execute_result"
    }
   ],
   "source": [
    "ewo_corpus.loc[ewo_corpus['ne-tag'] == 'PER']"
   ]
  },
  {
   "cell_type": "code",
   "execution_count": 91,
   "metadata": {
    "colab": {
     "autoexec": {
      "startup": false,
      "wait_interval": 0
     },
     "base_uri": "https://localhost:8080/",
     "height": 173,
     "output_extras": [
      {
       "item_id": 1
      }
     ]
    },
    "colab_type": "code",
    "executionInfo": {
     "elapsed": 758,
     "status": "ok",
     "timestamp": 1515664313240,
     "user": {
      "displayName": "Michael Franklin Mbouopda",
      "photoUrl": "//lh3.googleusercontent.com/-2_Vuj9ESsJ0/AAAAAAAAAAI/AAAAAAAABSc/r-SRcN0jWPw/s50-c-k-no/photo.jpg",
      "userId": "117384351130599115261"
     },
     "user_tz": -60
    },
    "id": "OObRLXTr268N",
    "outputId": "6361a898-fd04-4e15-8aa7-936a12b3221a"
   },
   "outputs": [
    {
     "data": {
      "text/plain": [
       "210"
      ]
     },
     "execution_count": 91,
     "metadata": {},
     "output_type": "execute_result"
    }
   ],
   "source": [
    "ewo_nb_of_phrases"
   ]
  },
  {
   "cell_type": "code",
   "execution_count": 92,
   "metadata": {},
   "outputs": [
    {
     "name": "stdout",
     "output_type": "stream",
     "text": [
      "O % = 84.15 %\n",
      "MISC % = 2.54 %\n",
      "PER % = 6.69 %\n",
      "LOC % = 1.03 %\n",
      "ORG % = 0.05 %\n"
     ]
    }
   ],
   "source": [
    "for tag in tagSet:\n",
    "    print(\"{0} % = {1} %\".format(tag, np.round(ewo_corpus[ewo_corpus['ne-tag']==tag].shape[0] * 100 / ewo_corpus[ewo_corpus['ne-tag']!='\\n'].shape[0], 2)))"
   ]
  },
  {
   "cell_type": "code",
   "execution_count": 93,
   "metadata": {},
   "outputs": [
    {
     "name": "stdout",
     "output_type": "stream",
     "text": [
      "O % = 89.94 %\n",
      "MISC % = 1.17 %\n",
      "PER % = 8.3 %\n",
      "LOC % = 1.86 %\n",
      "ORG % = 0.2 %\n"
     ]
    }
   ],
   "source": [
    "for tag in tagSet:\n",
    "    print(\"{0} % = {1} %\".format(tag, np.round(ewo_corpus[ewo_corpus['ne-tag']==tag].word.unique().shape[0] * 100 / ewo_corpus[ewo_corpus['ne-tag']!='\\n'].word.unique().shape[0], 2)))"
   ]
  },
  {
   "cell_type": "code",
   "execution_count": 94,
   "metadata": {
    "colab": {
     "autoexec": {
      "startup": false,
      "wait_interval": 0
     },
     "base_uri": "https://localhost:8080/",
     "height": 173,
     "output_extras": [
      {
       "item_id": 1
      }
     ]
    },
    "colab_type": "code",
    "executionInfo": {
     "elapsed": 758,
     "status": "ok",
     "timestamp": 1515664313240,
     "user": {
      "displayName": "Michael Franklin Mbouopda",
      "photoUrl": "//lh3.googleusercontent.com/-2_Vuj9ESsJ0/AAAAAAAAAAI/AAAAAAAABSc/r-SRcN0jWPw/s50-c-k-no/photo.jpg",
      "userId": "117384351130599115261"
     },
     "user_tz": -60
    },
    "id": "OObRLXTr268N",
    "outputId": "6361a898-fd04-4e15-8aa7-936a12b3221a"
   },
   "outputs": [
    {
     "data": {
      "text/html": [
       "<div>\n",
       "<style scoped>\n",
       "    .dataframe tbody tr th:only-of-type {\n",
       "        vertical-align: middle;\n",
       "    }\n",
       "\n",
       "    .dataframe tbody tr th {\n",
       "        vertical-align: top;\n",
       "    }\n",
       "\n",
       "    .dataframe thead th {\n",
       "        text-align: right;\n",
       "    }\n",
       "</style>\n",
       "<table border=\"1\" class=\"dataframe\">\n",
       "  <thead>\n",
       "    <tr style=\"text-align: right;\">\n",
       "      <th></th>\n",
       "      <th>word</th>\n",
       "      <th>ne-tag</th>\n",
       "    </tr>\n",
       "  </thead>\n",
       "  <tbody>\n",
       "    <tr>\n",
       "      <th>count</th>\n",
       "      <td>3779</td>\n",
       "      <td>3570</td>\n",
       "    </tr>\n",
       "    <tr>\n",
       "      <th>unique</th>\n",
       "      <td>1024</td>\n",
       "      <td>5</td>\n",
       "    </tr>\n",
       "    <tr>\n",
       "      <th>top</th>\n",
       "      <td>\\n</td>\n",
       "      <td>O</td>\n",
       "    </tr>\n",
       "    <tr>\n",
       "      <th>freq</th>\n",
       "      <td>209</td>\n",
       "      <td>3180</td>\n",
       "    </tr>\n",
       "  </tbody>\n",
       "</table>\n",
       "</div>"
      ],
      "text/plain": [
       "        word ne-tag\n",
       "count   3779   3570\n",
       "unique  1024      5\n",
       "top       \\n      O\n",
       "freq     209   3180"
      ]
     },
     "execution_count": 94,
     "metadata": {},
     "output_type": "execute_result"
    }
   ],
   "source": [
    "ewo_corpus.describe()"
   ]
  },
  {
   "cell_type": "code",
   "execution_count": 95,
   "metadata": {
    "colab": {
     "autoexec": {
      "startup": false,
      "wait_interval": 0
     },
     "base_uri": "https://localhost:8080/",
     "height": 173,
     "output_extras": [
      {
       "item_id": 1
      }
     ]
    },
    "colab_type": "code",
    "executionInfo": {
     "elapsed": 758,
     "status": "ok",
     "timestamp": 1515664313240,
     "user": {
      "displayName": "Michael Franklin Mbouopda",
      "photoUrl": "//lh3.googleusercontent.com/-2_Vuj9ESsJ0/AAAAAAAAAAI/AAAAAAAABSc/r-SRcN0jWPw/s50-c-k-no/photo.jpg",
      "userId": "117384351130599115261"
     },
     "user_tz": -60
    },
    "id": "OObRLXTr268N",
    "outputId": "6361a898-fd04-4e15-8aa7-936a12b3221a"
   },
   "outputs": [
    {
     "data": {
      "text/html": [
       "<div>\n",
       "<style scoped>\n",
       "    .dataframe tbody tr th:only-of-type {\n",
       "        vertical-align: middle;\n",
       "    }\n",
       "\n",
       "    .dataframe tbody tr th {\n",
       "        vertical-align: top;\n",
       "    }\n",
       "\n",
       "    .dataframe thead th {\n",
       "        text-align: right;\n",
       "    }\n",
       "</style>\n",
       "<table border=\"1\" class=\"dataframe\">\n",
       "  <thead>\n",
       "    <tr style=\"text-align: right;\">\n",
       "      <th></th>\n",
       "      <th>word</th>\n",
       "      <th>ne-tag</th>\n",
       "    </tr>\n",
       "  </thead>\n",
       "  <tbody>\n",
       "    <tr>\n",
       "      <th>0</th>\n",
       "      <td>Mfufub</td>\n",
       "      <td>MISC</td>\n",
       "    </tr>\n",
       "    <tr>\n",
       "      <th>1</th>\n",
       "      <td>Nsisim</td>\n",
       "      <td>MISC</td>\n",
       "    </tr>\n",
       "    <tr>\n",
       "      <th>2</th>\n",
       "      <td>ayi</td>\n",
       "      <td>O</td>\n",
       "    </tr>\n",
       "    <tr>\n",
       "      <th>3</th>\n",
       "      <td>sò</td>\n",
       "      <td>O</td>\n",
       "    </tr>\n",
       "    <tr>\n",
       "      <th>4</th>\n",
       "      <td>\\n</td>\n",
       "      <td>None</td>\n",
       "    </tr>\n",
       "  </tbody>\n",
       "</table>\n",
       "</div>"
      ],
      "text/plain": [
       "     word ne-tag\n",
       "0  Mfufub   MISC\n",
       "1  Nsisim   MISC\n",
       "2     ayi      O\n",
       "3      sò      O\n",
       "4      \\n   None"
      ]
     },
     "execution_count": 95,
     "metadata": {},
     "output_type": "execute_result"
    }
   ],
   "source": [
    "ewo_corpus.head()"
   ]
  },
  {
   "cell_type": "code",
   "execution_count": 96,
   "metadata": {
    "colab": {
     "autoexec": {
      "startup": false,
      "wait_interval": 0
     },
     "base_uri": "https://localhost:8080/",
     "height": 214,
     "output_extras": [
      {
       "item_id": 1
      }
     ]
    },
    "colab_type": "code",
    "executionInfo": {
     "elapsed": 1473,
     "status": "error",
     "timestamp": 1515688720429,
     "user": {
      "displayName": "Michael Franklin Mbouopda",
      "photoUrl": "//lh3.googleusercontent.com/-2_Vuj9ESsJ0/AAAAAAAAAAI/AAAAAAAABSc/r-SRcN0jWPw/s50-c-k-no/photo.jpg",
      "userId": "117384351130599115261"
     },
     "user_tz": -60
    },
    "id": "aRDNM0C8yX5N",
    "outputId": "b5a14626-4a9b-484c-c597-f1b1f37673c9"
   },
   "outputs": [
    {
     "name": "stdout",
     "output_type": "stream",
     "text": [
      "Normalization strategy: None\n"
     ]
    }
   ],
   "source": [
    "ewo_fingerprints = corpus_fingerprint(ewo_corpus, en_nb_of_phrases)"
   ]
  },
  {
   "cell_type": "code",
   "execution_count": 97,
   "metadata": {
    "colab": {
     "autoexec": {
      "startup": false,
      "wait_interval": 0
     },
     "base_uri": "https://localhost:8080/",
     "height": 214,
     "output_extras": [
      {
       "item_id": 1
      }
     ]
    },
    "colab_type": "code",
    "executionInfo": {
     "elapsed": 1473,
     "status": "error",
     "timestamp": 1515688720429,
     "user": {
      "displayName": "Michael Franklin Mbouopda",
      "photoUrl": "//lh3.googleusercontent.com/-2_Vuj9ESsJ0/AAAAAAAAAAI/AAAAAAAABSc/r-SRcN0jWPw/s50-c-k-no/photo.jpg",
      "userId": "117384351130599115261"
     },
     "user_tz": -60
    },
    "id": "aRDNM0C8yX5N",
    "outputId": "b5a14626-4a9b-484c-c597-f1b1f37673c9"
   },
   "outputs": [],
   "source": [
    "if is_only_vocab:\n",
    "    text = list(ewo_corpus[ewo_corpus.word != \"\\n\"].word.unique())\n",
    "else:\n",
    "    text = list(ewo_corpus[ewo_corpus.word != \"\\n\"].word)\n",
    "ewo_vocab = pd.DataFrame({\"text\":text})"
   ]
  },
  {
   "cell_type": "code",
   "execution_count": 98,
   "metadata": {
    "colab": {
     "autoexec": {
      "startup": false,
      "wait_interval": 0
     },
     "base_uri": "https://localhost:8080/",
     "height": 214,
     "output_extras": [
      {
       "item_id": 1
      }
     ]
    },
    "colab_type": "code",
    "executionInfo": {
     "elapsed": 1473,
     "status": "error",
     "timestamp": 1515688720429,
     "user": {
      "displayName": "Michael Franklin Mbouopda",
      "photoUrl": "//lh3.googleusercontent.com/-2_Vuj9ESsJ0/AAAAAAAAAAI/AAAAAAAABSc/r-SRcN0jWPw/s50-c-k-no/photo.jpg",
      "userId": "117384351130599115261"
     },
     "user_tz": -60
    },
    "id": "aRDNM0C8yX5N",
    "outputId": "b5a14626-4a9b-484c-c597-f1b1f37673c9"
   },
   "outputs": [],
   "source": [
    "if is_only_vocab:\n",
    "    X_ewo = np.zeros((ewo_vocab.shape[0] * duplication, en_nb_of_phrases))\n",
    "    ewo_target = np.zeros((ewo_vocab.shape[0] * duplication))\n",
    "    p=0\n",
    "    for i, row in ewo_vocab.iterrows():\n",
    "        c = row.text\n",
    "        for j in range(duplication):\n",
    "            X_ewo[p] = ewo_fingerprints[c.split(\" \")[0]]\n",
    "            ewo_target[p] = tag2int[getTag(ewo_corpus[ewo_corpus.word == c.split(\" \")[-1:][0]]['ne-tag'].iloc[0])]\n",
    "            p+=1\n",
    "    X_ewo, ewo_target = shuffle_data(X_ewo, ewo_target)"
   ]
  },
  {
   "cell_type": "code",
   "execution_count": 99,
   "metadata": {},
   "outputs": [
    {
     "data": {
      "text/html": [
       "<div>\n",
       "<style scoped>\n",
       "    .dataframe tbody tr th:only-of-type {\n",
       "        vertical-align: middle;\n",
       "    }\n",
       "\n",
       "    .dataframe tbody tr th {\n",
       "        vertical-align: top;\n",
       "    }\n",
       "\n",
       "    .dataframe thead th {\n",
       "        text-align: right;\n",
       "    }\n",
       "</style>\n",
       "<table border=\"1\" class=\"dataframe\">\n",
       "  <thead>\n",
       "    <tr style=\"text-align: right;\">\n",
       "      <th></th>\n",
       "      <th>text</th>\n",
       "    </tr>\n",
       "  </thead>\n",
       "  <tbody>\n",
       "    <tr>\n",
       "      <th>1013</th>\n",
       "      <td>sik</td>\n",
       "    </tr>\n",
       "    <tr>\n",
       "      <th>1014</th>\n",
       "      <td>Ntud</td>\n",
       "    </tr>\n",
       "    <tr>\n",
       "      <th>1015</th>\n",
       "      <td>bëyole</td>\n",
       "    </tr>\n",
       "    <tr>\n",
       "      <th>1016</th>\n",
       "      <td>Emmanuel</td>\n",
       "    </tr>\n",
       "    <tr>\n",
       "      <th>1017</th>\n",
       "      <td>Avëbë</td>\n",
       "    </tr>\n",
       "    <tr>\n",
       "      <th>1018</th>\n",
       "      <td>angavëbë</td>\n",
       "    </tr>\n",
       "    <tr>\n",
       "      <th>1019</th>\n",
       "      <td>oyò</td>\n",
       "    </tr>\n",
       "    <tr>\n",
       "      <th>1020</th>\n",
       "      <td>angabende</td>\n",
       "    </tr>\n",
       "    <tr>\n",
       "      <th>1021</th>\n",
       "      <td>anganòṅ</td>\n",
       "    </tr>\n",
       "    <tr>\n",
       "      <th>1022</th>\n",
       "      <td>angayole</td>\n",
       "    </tr>\n",
       "  </tbody>\n",
       "</table>\n",
       "</div>"
      ],
      "text/plain": [
       "           text\n",
       "1013        sik\n",
       "1014       Ntud\n",
       "1015     bëyole\n",
       "1016   Emmanuel\n",
       "1017      Avëbë\n",
       "1018   angavëbë\n",
       "1019        oyò\n",
       "1020  angabende\n",
       "1021    anganòṅ\n",
       "1022   angayole"
      ]
     },
     "execution_count": 99,
     "metadata": {},
     "output_type": "execute_result"
    }
   ],
   "source": [
    "ewo_vocab[-10:]"
   ]
  },
  {
   "cell_type": "code",
   "execution_count": 100,
   "metadata": {},
   "outputs": [],
   "source": [
    "if not is_only_vocab:\n",
    "    X_ewo, ewo_target = corpus2trainingdata(ewo_corpus[ewo_corpus.word != \"\\n\"], ewo_fingerprints)"
   ]
  },
  {
   "cell_type": "code",
   "execution_count": 101,
   "metadata": {},
   "outputs": [],
   "source": [
    "if shuffle:\n",
    "    X_ewo, ewo_target = shuffle_data(X_ewo, ewo_target)"
   ]
  },
  {
   "cell_type": "code",
   "execution_count": 102,
   "metadata": {},
   "outputs": [
    {
     "name": "stdout",
     "output_type": "stream",
     "text": [
      "(1023,) 1023\n"
     ]
    }
   ],
   "source": [
    "y_ewo = ewo_target.copy()\n",
    "print(y_ewo.shape, len(ewo_vocab))"
   ]
  },
  {
   "cell_type": "code",
   "execution_count": 103,
   "metadata": {},
   "outputs": [
    {
     "data": {
      "text/plain": [
       "(1023, 210)"
      ]
     },
     "execution_count": 103,
     "metadata": {},
     "output_type": "execute_result"
    }
   ],
   "source": [
    "X_ewo.shape"
   ]
  },
  {
   "cell_type": "code",
   "execution_count": 104,
   "metadata": {
    "colab": {
     "autoexec": {
      "startup": false,
      "wait_interval": 0
     },
     "base_uri": "https://localhost:8080/",
     "height": 34,
     "output_extras": [
      {
       "item_id": 1
      }
     ]
    },
    "colab_type": "code",
    "executionInfo": {
     "elapsed": 768,
     "status": "ok",
     "timestamp": 1514134592547,
     "user": {
      "displayName": "Michael Franklin Mbouopda",
      "photoUrl": "//lh3.googleusercontent.com/-2_Vuj9ESsJ0/AAAAAAAAAAI/AAAAAAAABSc/r-SRcN0jWPw/s50-c-k-no/photo.jpg",
      "userId": "117384351130599115261"
     },
     "user_tz": -60
    },
    "id": "fuSYSwUPDiQY",
    "outputId": "658c1a63-1a76-4487-e151-47364c6dbc85"
   },
   "outputs": [],
   "source": [
    "y_ewo = ewo_target.copy()\n",
    "y_ewo[:20]\n",
    "if not BINARY:\n",
    "    y_ewo = np_utils.to_categorical(y_ewo)"
   ]
  },
  {
   "cell_type": "code",
   "execution_count": 105,
   "metadata": {
    "colab": {
     "autoexec": {
      "startup": false,
      "wait_interval": 0
     },
     "base_uri": "https://localhost:8080/",
     "height": 34,
     "output_extras": [
      {
       "item_id": 1
      }
     ]
    },
    "colab_type": "code",
    "executionInfo": {
     "elapsed": 6835,
     "status": "ok",
     "timestamp": 1514134601113,
     "user": {
      "displayName": "Michael Franklin Mbouopda",
      "photoUrl": "//lh3.googleusercontent.com/-2_Vuj9ESsJ0/AAAAAAAAAAI/AAAAAAAABSc/r-SRcN0jWPw/s50-c-k-no/photo.jpg",
      "userId": "117384351130599115261"
     },
     "user_tz": -60
    },
    "id": "Cev5j8YFzPYl",
    "outputId": "87ab5b4b-a75d-43b0-d346-5ba18a4522c0"
   },
   "outputs": [],
   "source": [
    "X_ewo = X_ewo.reshape((X_ewo.shape[0], en_nb_of_phrases))"
   ]
  },
  {
   "cell_type": "code",
   "execution_count": 106,
   "metadata": {},
   "outputs": [],
   "source": [
    "# model = create_model(X.shape[1], len(tagSet))\n",
    "# resultEval, train_by_tag, test_by_tag, ewo_by_tag = algoEval(X_train, y_train, X_val, y_val, X_ewo, y_ewo, model=model)"
   ]
  },
  {
   "cell_type": "code",
   "execution_count": 107,
   "metadata": {},
   "outputs": [],
   "source": [
    "# resultEval"
   ]
  },
  {
   "cell_type": "code",
   "execution_count": 108,
   "metadata": {},
   "outputs": [],
   "source": [
    "# train_by_tag"
   ]
  },
  {
   "cell_type": "code",
   "execution_count": 109,
   "metadata": {},
   "outputs": [],
   "source": [
    "# test_by_tag"
   ]
  },
  {
   "cell_type": "code",
   "execution_count": 110,
   "metadata": {},
   "outputs": [],
   "source": [
    "# ewo_by_tag"
   ]
  },
  {
   "cell_type": "code",
   "execution_count": 111,
   "metadata": {},
   "outputs": [],
   "source": [
    "# resultEval.mean()"
   ]
  },
  {
   "cell_type": "code",
   "execution_count": 112,
   "metadata": {},
   "outputs": [],
   "source": [
    "# resultEval.std()"
   ]
  },
  {
   "cell_type": "code",
   "execution_count": 113,
   "metadata": {
    "scrolled": true
   },
   "outputs": [
    {
     "name": "stdout",
     "output_type": "stream",
     "text": [
      "AlgoCrossValIter - 1\n",
      "Model: \"sequential_2\"\n",
      "_________________________________________________________________\n",
      "Layer (type)                 Output Shape              Param #   \n",
      "=================================================================\n",
      "hidden1 (Dense)              (None, 640)               135040    \n",
      "_________________________________________________________________\n",
      "hidden2 (Dense)              (None, 160)               102560    \n",
      "_________________________________________________________________\n",
      "outputlayer (Dense)          (None, 5)                 805       \n",
      "=================================================================\n",
      "Total params: 238,405\n",
      "Trainable params: 238,405\n",
      "Non-trainable params: 0\n",
      "_________________________________________________________________\n",
      "\n",
      "Epoch 00001: val_loss improved from inf to 0.48399, saving model to best-model-conll.hdfs\n",
      "\n",
      "Epoch 00002: val_loss did not improve from 0.48399\n",
      "\n",
      "Epoch 00003: val_loss did not improve from 0.48399\n",
      "\n",
      "Epoch 00004: val_loss did not improve from 0.48399\n",
      "\n",
      "Epoch 00005: val_loss did not improve from 0.48399\n",
      "\n",
      "Epoch 00006: val_loss did not improve from 0.48399\n",
      "\n",
      "Epoch 00007: val_loss did not improve from 0.48399\n",
      "\n",
      "Epoch 00008: val_loss did not improve from 0.48399\n",
      "\n",
      "Epoch 00009: val_loss did not improve from 0.48399\n",
      "\n",
      "Epoch 00010: val_loss did not improve from 0.48399\n",
      "number of correct positive predictions is 0\n",
      "number of correct positive predictions is 0\n",
      "number of correct positive predictions is 0\n",
      "\n",
      "Epoch 00001: val_loss improved from inf to 0.03967, saving model to best-model-conll.hdfs\n"
     ]
    },
    {
     "name": "stderr",
     "output_type": "stream",
     "text": [
      "/usr/local/share/miniconda3/envs/ner-projection/lib/python3.7/site-packages/ipykernel_launcher.py:18: RuntimeWarning: invalid value encountered in double_scalars\n",
      "/usr/local/share/miniconda3/envs/ner-projection/lib/python3.7/site-packages/ipykernel_launcher.py:17: RuntimeWarning: invalid value encountered in double_scalars\n"
     ]
    },
    {
     "name": "stdout",
     "output_type": "stream",
     "text": [
      "\n",
      "Epoch 00002: val_loss did not improve from 0.03967\n",
      "\n",
      "Epoch 00003: val_loss did not improve from 0.03967\n",
      "\n",
      "Epoch 00004: val_loss did not improve from 0.03967\n",
      "\n",
      "Epoch 00005: val_loss did not improve from 0.03967\n",
      "\n",
      "Epoch 00006: val_loss did not improve from 0.03967\n",
      "\n",
      "Epoch 00007: val_loss did not improve from 0.03967\n",
      "\n",
      "Epoch 00008: val_loss did not improve from 0.03967\n",
      "\n",
      "Epoch 00009: val_loss did not improve from 0.03967\n",
      "\n",
      "Epoch 00010: val_loss did not improve from 0.03967\n"
     ]
    },
    {
     "name": "stderr",
     "output_type": "stream",
     "text": [
      "/usr/local/share/miniconda3/envs/ner-projection/lib/python3.7/site-packages/ipykernel_launcher.py:17: RuntimeWarning: invalid value encountered in double_scalars\n"
     ]
    },
    {
     "name": "stdout",
     "output_type": "stream",
     "text": [
      "\n",
      "Epoch 00001: val_loss improved from inf to 0.06763, saving model to best-model-conll.hdfs\n",
      "\n",
      "Epoch 00002: val_loss did not improve from 0.06763\n",
      "\n",
      "Epoch 00003: val_loss did not improve from 0.06763\n",
      "\n",
      "Epoch 00004: val_loss did not improve from 0.06763\n",
      "\n",
      "Epoch 00005: val_loss did not improve from 0.06763\n",
      "\n",
      "Epoch 00006: val_loss did not improve from 0.06763\n",
      "\n",
      "Epoch 00007: val_loss did not improve from 0.06763\n",
      "\n",
      "Epoch 00008: val_loss did not improve from 0.06763\n",
      "\n",
      "Epoch 00009: val_loss did not improve from 0.06763\n",
      "\n",
      "Epoch 00010: val_loss did not improve from 0.06763\n",
      "\n",
      "Epoch 00001: val_loss improved from inf to 0.07362, saving model to best-model-conll.hdfs\n",
      "\n",
      "Epoch 00002: val_loss did not improve from 0.07362\n",
      "\n",
      "Epoch 00003: val_loss did not improve from 0.07362\n",
      "\n",
      "Epoch 00004: val_loss did not improve from 0.07362\n",
      "\n",
      "Epoch 00005: val_loss did not improve from 0.07362\n",
      "\n",
      "Epoch 00006: val_loss did not improve from 0.07362\n",
      "\n",
      "Epoch 00007: val_loss did not improve from 0.07362\n",
      "\n",
      "Epoch 00008: val_loss did not improve from 0.07362\n",
      "\n",
      "Epoch 00009: val_loss did not improve from 0.07362\n",
      "\n",
      "Epoch 00010: val_loss did not improve from 0.07362\n"
     ]
    },
    {
     "name": "stderr",
     "output_type": "stream",
     "text": [
      "/usr/local/share/miniconda3/envs/ner-projection/lib/python3.7/site-packages/ipykernel_launcher.py:17: RuntimeWarning: invalid value encountered in double_scalars\n"
     ]
    },
    {
     "name": "stdout",
     "output_type": "stream",
     "text": [
      "\n",
      "Epoch 00001: val_loss improved from inf to 0.10068, saving model to best-model-conll.hdfs\n",
      "\n",
      "Epoch 00002: val_loss did not improve from 0.10068\n",
      "\n",
      "Epoch 00003: val_loss did not improve from 0.10068\n",
      "\n",
      "Epoch 00004: val_loss did not improve from 0.10068\n",
      "\n",
      "Epoch 00005: val_loss did not improve from 0.10068\n",
      "\n",
      "Epoch 00006: val_loss did not improve from 0.10068\n",
      "\n",
      "Epoch 00007: val_loss did not improve from 0.10068\n",
      "\n",
      "Epoch 00008: val_loss did not improve from 0.10068\n",
      "\n",
      "Epoch 00009: val_loss did not improve from 0.10068\n",
      "\n",
      "Epoch 00010: val_loss did not improve from 0.10068\n"
     ]
    },
    {
     "name": "stderr",
     "output_type": "stream",
     "text": [
      "/usr/local/share/miniconda3/envs/ner-projection/lib/python3.7/site-packages/ipykernel_launcher.py:17: RuntimeWarning: invalid value encountered in double_scalars\n"
     ]
    },
    {
     "name": "stdout",
     "output_type": "stream",
     "text": [
      "\n",
      "Epoch 00001: val_loss improved from inf to 0.08038, saving model to best-model-conll.hdfs\n",
      "\n",
      "Epoch 00002: val_loss improved from 0.08038 to 0.07938, saving model to best-model-conll.hdfs\n",
      "\n",
      "Epoch 00003: val_loss improved from 0.07938 to 0.06440, saving model to best-model-conll.hdfs\n",
      "\n",
      "Epoch 00004: val_loss did not improve from 0.06440\n",
      "\n",
      "Epoch 00005: val_loss did not improve from 0.06440\n",
      "\n",
      "Epoch 00006: val_loss did not improve from 0.06440\n",
      "\n",
      "Epoch 00007: val_loss did not improve from 0.06440\n",
      "\n",
      "Epoch 00008: val_loss did not improve from 0.06440\n",
      "\n",
      "Epoch 00009: val_loss did not improve from 0.06440\n",
      "\n",
      "Epoch 00010: val_loss did not improve from 0.06440\n"
     ]
    },
    {
     "name": "stderr",
     "output_type": "stream",
     "text": [
      "/usr/local/share/miniconda3/envs/ner-projection/lib/python3.7/site-packages/ipykernel_launcher.py:17: RuntimeWarning: invalid value encountered in double_scalars\n"
     ]
    },
    {
     "name": "stdout",
     "output_type": "stream",
     "text": [
      "\n",
      "Epoch 00001: val_loss improved from inf to 0.06610, saving model to best-model-conll.hdfs\n",
      "\n",
      "Epoch 00002: val_loss did not improve from 0.06610\n",
      "\n",
      "Epoch 00003: val_loss did not improve from 0.06610\n",
      "\n",
      "Epoch 00004: val_loss did not improve from 0.06610\n",
      "\n",
      "Epoch 00005: val_loss did not improve from 0.06610\n",
      "\n",
      "Epoch 00006: val_loss did not improve from 0.06610\n",
      "\n",
      "Epoch 00007: val_loss did not improve from 0.06610\n",
      "\n",
      "Epoch 00008: val_loss did not improve from 0.06610\n",
      "\n",
      "Epoch 00009: val_loss did not improve from 0.06610\n",
      "\n",
      "Epoch 00010: val_loss did not improve from 0.06610\n"
     ]
    },
    {
     "name": "stderr",
     "output_type": "stream",
     "text": [
      "/usr/local/share/miniconda3/envs/ner-projection/lib/python3.7/site-packages/ipykernel_launcher.py:17: RuntimeWarning: invalid value encountered in double_scalars\n"
     ]
    },
    {
     "name": "stdout",
     "output_type": "stream",
     "text": [
      "\n",
      "Epoch 00001: val_loss improved from inf to 0.04862, saving model to best-model-conll.hdfs\n",
      "\n",
      "Epoch 00002: val_loss did not improve from 0.04862\n",
      "\n",
      "Epoch 00003: val_loss did not improve from 0.04862\n",
      "\n",
      "Epoch 00004: val_loss did not improve from 0.04862\n",
      "\n",
      "Epoch 00005: val_loss did not improve from 0.04862\n",
      "\n",
      "Epoch 00006: val_loss did not improve from 0.04862\n",
      "\n",
      "Epoch 00007: val_loss did not improve from 0.04862\n",
      "\n",
      "Epoch 00008: val_loss did not improve from 0.04862\n",
      "\n",
      "Epoch 00009: val_loss did not improve from 0.04862\n",
      "\n",
      "Epoch 00010: val_loss did not improve from 0.04862\n",
      "\n",
      "Epoch 00001: val_loss improved from inf to 0.07740, saving model to best-model-conll.hdfs\n",
      "\n",
      "Epoch 00002: val_loss improved from 0.07740 to 0.06678, saving model to best-model-conll.hdfs\n",
      "\n",
      "Epoch 00003: val_loss did not improve from 0.06678\n",
      "\n",
      "Epoch 00004: val_loss did not improve from 0.06678\n",
      "\n",
      "Epoch 00005: val_loss did not improve from 0.06678\n",
      "\n",
      "Epoch 00006: val_loss did not improve from 0.06678\n",
      "\n",
      "Epoch 00007: val_loss did not improve from 0.06678\n",
      "\n",
      "Epoch 00008: val_loss did not improve from 0.06678\n",
      "\n",
      "Epoch 00009: val_loss did not improve from 0.06678\n",
      "\n",
      "Epoch 00010: val_loss did not improve from 0.06678\n"
     ]
    },
    {
     "name": "stderr",
     "output_type": "stream",
     "text": [
      "/usr/local/share/miniconda3/envs/ner-projection/lib/python3.7/site-packages/ipykernel_launcher.py:17: RuntimeWarning: invalid value encountered in double_scalars\n"
     ]
    },
    {
     "name": "stdout",
     "output_type": "stream",
     "text": [
      "\n",
      "Epoch 00001: val_loss improved from inf to 0.06871, saving model to best-model-conll.hdfs\n",
      "\n",
      "Epoch 00002: val_loss did not improve from 0.06871\n",
      "\n",
      "Epoch 00003: val_loss did not improve from 0.06871\n",
      "\n",
      "Epoch 00004: val_loss did not improve from 0.06871\n",
      "\n",
      "Epoch 00005: val_loss did not improve from 0.06871\n",
      "\n",
      "Epoch 00006: val_loss did not improve from 0.06871\n",
      "\n",
      "Epoch 00007: val_loss did not improve from 0.06871\n",
      "\n",
      "Epoch 00008: val_loss did not improve from 0.06871\n",
      "\n",
      "Epoch 00009: val_loss did not improve from 0.06871\n",
      "\n",
      "Epoch 00010: val_loss did not improve from 0.06871\n"
     ]
    },
    {
     "name": "stderr",
     "output_type": "stream",
     "text": [
      "/usr/local/share/miniconda3/envs/ner-projection/lib/python3.7/site-packages/ipykernel_launcher.py:17: RuntimeWarning: invalid value encountered in double_scalars\n"
     ]
    },
    {
     "name": "stdout",
     "output_type": "stream",
     "text": [
      "AlgoCrossValIter - 2\n",
      "Model: \"sequential_3\"\n",
      "_________________________________________________________________\n",
      "Layer (type)                 Output Shape              Param #   \n",
      "=================================================================\n",
      "hidden1 (Dense)              (None, 640)               135040    \n",
      "_________________________________________________________________\n",
      "hidden2 (Dense)              (None, 160)               102560    \n",
      "_________________________________________________________________\n",
      "outputlayer (Dense)          (None, 5)                 805       \n",
      "=================================================================\n",
      "Total params: 238,405\n",
      "Trainable params: 238,405\n",
      "Non-trainable params: 0\n",
      "_________________________________________________________________\n",
      "\n",
      "Epoch 00001: val_loss improved from inf to 0.49141, saving model to best-model-conll.hdfs\n",
      "\n",
      "Epoch 00002: val_loss improved from 0.49141 to 0.48287, saving model to best-model-conll.hdfs\n",
      "\n",
      "Epoch 00003: val_loss did not improve from 0.48287\n",
      "\n",
      "Epoch 00004: val_loss did not improve from 0.48287\n",
      "\n",
      "Epoch 00005: val_loss did not improve from 0.48287\n",
      "\n",
      "Epoch 00006: val_loss did not improve from 0.48287\n",
      "\n",
      "Epoch 00007: val_loss did not improve from 0.48287\n",
      "\n",
      "Epoch 00008: val_loss did not improve from 0.48287\n",
      "\n",
      "Epoch 00009: val_loss did not improve from 0.48287\n",
      "\n",
      "Epoch 00010: val_loss did not improve from 0.48287\n"
     ]
    },
    {
     "name": "stderr",
     "output_type": "stream",
     "text": [
      "/usr/local/share/miniconda3/envs/ner-projection/lib/python3.7/site-packages/ipykernel_launcher.py:18: RuntimeWarning: invalid value encountered in double_scalars\n",
      "/usr/local/share/miniconda3/envs/ner-projection/lib/python3.7/site-packages/ipykernel_launcher.py:17: RuntimeWarning: invalid value encountered in double_scalars\n"
     ]
    },
    {
     "name": "stdout",
     "output_type": "stream",
     "text": [
      "\n",
      "Epoch 00001: val_loss improved from inf to 0.04278, saving model to best-model-conll.hdfs\n",
      "\n",
      "Epoch 00002: val_loss improved from 0.04278 to 0.03717, saving model to best-model-conll.hdfs\n",
      "\n",
      "Epoch 00003: val_loss did not improve from 0.03717\n",
      "\n",
      "Epoch 00004: val_loss did not improve from 0.03717\n",
      "\n",
      "Epoch 00005: val_loss did not improve from 0.03717\n",
      "\n",
      "Epoch 00006: val_loss did not improve from 0.03717\n",
      "\n",
      "Epoch 00007: val_loss did not improve from 0.03717\n",
      "\n",
      "Epoch 00008: val_loss did not improve from 0.03717\n",
      "\n",
      "Epoch 00009: val_loss did not improve from 0.03717\n",
      "\n",
      "Epoch 00010: val_loss did not improve from 0.03717\n"
     ]
    },
    {
     "name": "stderr",
     "output_type": "stream",
     "text": [
      "/usr/local/share/miniconda3/envs/ner-projection/lib/python3.7/site-packages/ipykernel_launcher.py:17: RuntimeWarning: invalid value encountered in double_scalars\n"
     ]
    },
    {
     "name": "stdout",
     "output_type": "stream",
     "text": [
      "\n",
      "Epoch 00001: val_loss improved from inf to 0.07052, saving model to best-model-conll.hdfs\n",
      "\n",
      "Epoch 00002: val_loss improved from 0.07052 to 0.06914, saving model to best-model-conll.hdfs\n",
      "\n",
      "Epoch 00003: val_loss did not improve from 0.06914\n",
      "\n",
      "Epoch 00004: val_loss did not improve from 0.06914\n",
      "\n",
      "Epoch 00005: val_loss did not improve from 0.06914\n",
      "\n",
      "Epoch 00006: val_loss did not improve from 0.06914\n",
      "\n",
      "Epoch 00007: val_loss did not improve from 0.06914\n",
      "\n",
      "Epoch 00008: val_loss did not improve from 0.06914\n",
      "\n",
      "Epoch 00009: val_loss did not improve from 0.06914\n",
      "\n",
      "Epoch 00010: val_loss did not improve from 0.06914\n"
     ]
    },
    {
     "name": "stderr",
     "output_type": "stream",
     "text": [
      "/usr/local/share/miniconda3/envs/ner-projection/lib/python3.7/site-packages/ipykernel_launcher.py:17: RuntimeWarning: invalid value encountered in double_scalars\n"
     ]
    },
    {
     "name": "stdout",
     "output_type": "stream",
     "text": [
      "\n",
      "Epoch 00001: val_loss improved from inf to 0.06902, saving model to best-model-conll.hdfs\n",
      "\n",
      "Epoch 00002: val_loss did not improve from 0.06902\n",
      "\n",
      "Epoch 00003: val_loss did not improve from 0.06902\n",
      "\n",
      "Epoch 00004: val_loss did not improve from 0.06902\n",
      "\n",
      "Epoch 00005: val_loss did not improve from 0.06902\n",
      "\n",
      "Epoch 00006: val_loss did not improve from 0.06902\n",
      "\n",
      "Epoch 00007: val_loss did not improve from 0.06902\n",
      "\n",
      "Epoch 00008: val_loss did not improve from 0.06902\n",
      "\n",
      "Epoch 00009: val_loss did not improve from 0.06902\n",
      "\n",
      "Epoch 00010: val_loss did not improve from 0.06902\n"
     ]
    },
    {
     "name": "stderr",
     "output_type": "stream",
     "text": [
      "/usr/local/share/miniconda3/envs/ner-projection/lib/python3.7/site-packages/ipykernel_launcher.py:17: RuntimeWarning: invalid value encountered in double_scalars\n"
     ]
    },
    {
     "name": "stdout",
     "output_type": "stream",
     "text": [
      "\n",
      "Epoch 00001: val_loss improved from inf to 0.10495, saving model to best-model-conll.hdfs\n",
      "\n",
      "Epoch 00002: val_loss did not improve from 0.10495\n",
      "\n",
      "Epoch 00003: val_loss did not improve from 0.10495\n",
      "\n",
      "Epoch 00004: val_loss did not improve from 0.10495\n",
      "\n",
      "Epoch 00005: val_loss did not improve from 0.10495\n",
      "\n",
      "Epoch 00006: val_loss did not improve from 0.10495\n",
      "\n",
      "Epoch 00007: val_loss did not improve from 0.10495\n",
      "\n",
      "Epoch 00008: val_loss did not improve from 0.10495\n",
      "\n",
      "Epoch 00009: val_loss did not improve from 0.10495\n",
      "\n",
      "Epoch 00010: val_loss did not improve from 0.10495\n"
     ]
    },
    {
     "name": "stderr",
     "output_type": "stream",
     "text": [
      "/usr/local/share/miniconda3/envs/ner-projection/lib/python3.7/site-packages/ipykernel_launcher.py:17: RuntimeWarning: invalid value encountered in double_scalars\n"
     ]
    },
    {
     "name": "stdout",
     "output_type": "stream",
     "text": [
      "\n",
      "Epoch 00001: val_loss improved from inf to 0.06034, saving model to best-model-conll.hdfs\n",
      "\n",
      "Epoch 00002: val_loss did not improve from 0.06034\n",
      "\n",
      "Epoch 00003: val_loss did not improve from 0.06034\n",
      "\n",
      "Epoch 00004: val_loss did not improve from 0.06034\n",
      "\n",
      "Epoch 00005: val_loss did not improve from 0.06034\n",
      "\n",
      "Epoch 00006: val_loss did not improve from 0.06034\n",
      "\n",
      "Epoch 00007: val_loss did not improve from 0.06034\n",
      "\n",
      "Epoch 00008: val_loss did not improve from 0.06034\n",
      "\n",
      "Epoch 00009: val_loss did not improve from 0.06034\n",
      "\n",
      "Epoch 00010: val_loss did not improve from 0.06034\n"
     ]
    },
    {
     "name": "stderr",
     "output_type": "stream",
     "text": [
      "/usr/local/share/miniconda3/envs/ner-projection/lib/python3.7/site-packages/ipykernel_launcher.py:17: RuntimeWarning: invalid value encountered in double_scalars\n"
     ]
    },
    {
     "name": "stdout",
     "output_type": "stream",
     "text": [
      "\n",
      "Epoch 00001: val_loss improved from inf to 0.06468, saving model to best-model-conll.hdfs\n",
      "\n",
      "Epoch 00002: val_loss did not improve from 0.06468\n",
      "\n",
      "Epoch 00003: val_loss did not improve from 0.06468\n",
      "\n",
      "Epoch 00004: val_loss did not improve from 0.06468\n",
      "\n",
      "Epoch 00005: val_loss did not improve from 0.06468\n",
      "\n",
      "Epoch 00006: val_loss did not improve from 0.06468\n",
      "\n",
      "Epoch 00007: val_loss did not improve from 0.06468\n",
      "\n",
      "Epoch 00008: val_loss did not improve from 0.06468\n",
      "\n",
      "Epoch 00009: val_loss did not improve from 0.06468\n",
      "\n",
      "Epoch 00010: val_loss did not improve from 0.06468\n"
     ]
    },
    {
     "name": "stderr",
     "output_type": "stream",
     "text": [
      "/usr/local/share/miniconda3/envs/ner-projection/lib/python3.7/site-packages/ipykernel_launcher.py:17: RuntimeWarning: invalid value encountered in double_scalars\n"
     ]
    },
    {
     "name": "stdout",
     "output_type": "stream",
     "text": [
      "\n",
      "Epoch 00001: val_loss improved from inf to 0.05208, saving model to best-model-conll.hdfs\n",
      "\n",
      "Epoch 00002: val_loss did not improve from 0.05208\n",
      "\n",
      "Epoch 00003: val_loss did not improve from 0.05208\n",
      "\n",
      "Epoch 00004: val_loss did not improve from 0.05208\n",
      "\n",
      "Epoch 00005: val_loss did not improve from 0.05208\n",
      "\n",
      "Epoch 00006: val_loss did not improve from 0.05208\n",
      "\n",
      "Epoch 00007: val_loss did not improve from 0.05208\n",
      "\n",
      "Epoch 00008: val_loss did not improve from 0.05208\n",
      "\n",
      "Epoch 00009: val_loss did not improve from 0.05208\n",
      "\n",
      "Epoch 00010: val_loss did not improve from 0.05208\n",
      "\n",
      "Epoch 00001: val_loss improved from inf to 0.05497, saving model to best-model-conll.hdfs\n",
      "\n",
      "Epoch 00002: val_loss did not improve from 0.05497\n",
      "\n",
      "Epoch 00003: val_loss did not improve from 0.05497\n",
      "\n",
      "Epoch 00004: val_loss did not improve from 0.05497\n",
      "\n",
      "Epoch 00005: val_loss did not improve from 0.05497\n",
      "\n",
      "Epoch 00006: val_loss did not improve from 0.05497\n",
      "\n",
      "Epoch 00007: val_loss did not improve from 0.05497\n",
      "\n",
      "Epoch 00008: val_loss did not improve from 0.05497\n",
      "\n",
      "Epoch 00009: val_loss did not improve from 0.05497\n",
      "\n",
      "Epoch 00010: val_loss did not improve from 0.05497\n"
     ]
    },
    {
     "name": "stderr",
     "output_type": "stream",
     "text": [
      "/usr/local/share/miniconda3/envs/ner-projection/lib/python3.7/site-packages/ipykernel_launcher.py:17: RuntimeWarning: invalid value encountered in double_scalars\n"
     ]
    },
    {
     "name": "stdout",
     "output_type": "stream",
     "text": [
      "\n",
      "Epoch 00001: val_loss improved from inf to 0.07366, saving model to best-model-conll.hdfs\n",
      "\n",
      "Epoch 00002: val_loss did not improve from 0.07366\n",
      "\n",
      "Epoch 00003: val_loss did not improve from 0.07366\n",
      "\n",
      "Epoch 00004: val_loss did not improve from 0.07366\n",
      "\n",
      "Epoch 00005: val_loss did not improve from 0.07366\n",
      "\n",
      "Epoch 00006: val_loss did not improve from 0.07366\n",
      "\n",
      "Epoch 00007: val_loss did not improve from 0.07366\n",
      "\n",
      "Epoch 00008: val_loss did not improve from 0.07366\n",
      "\n",
      "Epoch 00009: val_loss did not improve from 0.07366\n",
      "\n",
      "Epoch 00010: val_loss did not improve from 0.07366\n"
     ]
    },
    {
     "name": "stderr",
     "output_type": "stream",
     "text": [
      "/usr/local/share/miniconda3/envs/ner-projection/lib/python3.7/site-packages/ipykernel_launcher.py:17: RuntimeWarning: invalid value encountered in double_scalars\n"
     ]
    },
    {
     "name": "stdout",
     "output_type": "stream",
     "text": [
      "AlgoCrossValIter - 3\n",
      "Model: \"sequential_4\"\n",
      "_________________________________________________________________\n",
      "Layer (type)                 Output Shape              Param #   \n",
      "=================================================================\n",
      "hidden1 (Dense)              (None, 640)               135040    \n",
      "_________________________________________________________________\n",
      "hidden2 (Dense)              (None, 160)               102560    \n",
      "_________________________________________________________________\n",
      "outputlayer (Dense)          (None, 5)                 805       \n",
      "=================================================================\n",
      "Total params: 238,405\n",
      "Trainable params: 238,405\n",
      "Non-trainable params: 0\n",
      "_________________________________________________________________\n",
      "\n",
      "Epoch 00001: val_loss improved from inf to 0.47694, saving model to best-model-conll.hdfs\n",
      "\n",
      "Epoch 00002: val_loss did not improve from 0.47694\n",
      "\n",
      "Epoch 00003: val_loss did not improve from 0.47694\n",
      "\n",
      "Epoch 00004: val_loss did not improve from 0.47694\n",
      "\n",
      "Epoch 00005: val_loss did not improve from 0.47694\n",
      "\n",
      "Epoch 00006: val_loss did not improve from 0.47694\n",
      "\n",
      "Epoch 00007: val_loss did not improve from 0.47694\n",
      "\n",
      "Epoch 00008: val_loss did not improve from 0.47694\n",
      "\n",
      "Epoch 00009: val_loss did not improve from 0.47694\n",
      "\n",
      "Epoch 00010: val_loss did not improve from 0.47694\n",
      "number of correct positive predictions is 0\n",
      "number of correct positive predictions is 0\n",
      "number of correct positive predictions is 0\n",
      "\n",
      "Epoch 00001: val_loss improved from inf to 0.04623, saving model to best-model-conll.hdfs\n"
     ]
    },
    {
     "name": "stderr",
     "output_type": "stream",
     "text": [
      "/usr/local/share/miniconda3/envs/ner-projection/lib/python3.7/site-packages/ipykernel_launcher.py:18: RuntimeWarning: invalid value encountered in double_scalars\n",
      "/usr/local/share/miniconda3/envs/ner-projection/lib/python3.7/site-packages/ipykernel_launcher.py:17: RuntimeWarning: invalid value encountered in double_scalars\n"
     ]
    },
    {
     "name": "stdout",
     "output_type": "stream",
     "text": [
      "\n",
      "Epoch 00002: val_loss did not improve from 0.04623\n",
      "\n",
      "Epoch 00003: val_loss did not improve from 0.04623\n",
      "\n",
      "Epoch 00004: val_loss did not improve from 0.04623\n",
      "\n",
      "Epoch 00005: val_loss did not improve from 0.04623\n",
      "\n",
      "Epoch 00006: val_loss did not improve from 0.04623\n",
      "\n",
      "Epoch 00007: val_loss did not improve from 0.04623\n",
      "\n",
      "Epoch 00008: val_loss did not improve from 0.04623\n",
      "\n",
      "Epoch 00009: val_loss did not improve from 0.04623\n",
      "\n",
      "Epoch 00010: val_loss did not improve from 0.04623\n"
     ]
    },
    {
     "name": "stderr",
     "output_type": "stream",
     "text": [
      "/usr/local/share/miniconda3/envs/ner-projection/lib/python3.7/site-packages/ipykernel_launcher.py:17: RuntimeWarning: invalid value encountered in double_scalars\n"
     ]
    },
    {
     "name": "stdout",
     "output_type": "stream",
     "text": [
      "\n",
      "Epoch 00001: val_loss improved from inf to 0.06199, saving model to best-model-conll.hdfs\n",
      "\n",
      "Epoch 00002: val_loss did not improve from 0.06199\n",
      "\n",
      "Epoch 00003: val_loss did not improve from 0.06199\n",
      "\n",
      "Epoch 00004: val_loss did not improve from 0.06199\n",
      "\n",
      "Epoch 00005: val_loss did not improve from 0.06199\n",
      "\n",
      "Epoch 00006: val_loss did not improve from 0.06199\n",
      "\n",
      "Epoch 00007: val_loss did not improve from 0.06199\n",
      "\n",
      "Epoch 00008: val_loss did not improve from 0.06199\n",
      "\n",
      "Epoch 00009: val_loss did not improve from 0.06199\n",
      "\n",
      "Epoch 00010: val_loss did not improve from 0.06199\n"
     ]
    },
    {
     "name": "stderr",
     "output_type": "stream",
     "text": [
      "/usr/local/share/miniconda3/envs/ner-projection/lib/python3.7/site-packages/ipykernel_launcher.py:17: RuntimeWarning: invalid value encountered in double_scalars\n"
     ]
    },
    {
     "name": "stdout",
     "output_type": "stream",
     "text": [
      "\n",
      "Epoch 00001: val_loss improved from inf to 0.07027, saving model to best-model-conll.hdfs\n",
      "\n",
      "Epoch 00002: val_loss did not improve from 0.07027\n",
      "\n",
      "Epoch 00003: val_loss did not improve from 0.07027\n",
      "\n",
      "Epoch 00004: val_loss did not improve from 0.07027\n",
      "\n",
      "Epoch 00005: val_loss did not improve from 0.07027\n",
      "\n",
      "Epoch 00006: val_loss did not improve from 0.07027\n",
      "\n",
      "Epoch 00007: val_loss did not improve from 0.07027\n",
      "\n",
      "Epoch 00008: val_loss did not improve from 0.07027\n",
      "\n",
      "Epoch 00009: val_loss did not improve from 0.07027\n",
      "\n",
      "Epoch 00010: val_loss did not improve from 0.07027\n"
     ]
    },
    {
     "name": "stderr",
     "output_type": "stream",
     "text": [
      "/usr/local/share/miniconda3/envs/ner-projection/lib/python3.7/site-packages/ipykernel_launcher.py:17: RuntimeWarning: invalid value encountered in double_scalars\n"
     ]
    },
    {
     "name": "stdout",
     "output_type": "stream",
     "text": [
      "\n",
      "Epoch 00001: val_loss improved from inf to 0.09029, saving model to best-model-conll.hdfs\n",
      "\n",
      "Epoch 00002: val_loss improved from 0.09029 to 0.08781, saving model to best-model-conll.hdfs\n",
      "\n",
      "Epoch 00003: val_loss did not improve from 0.08781\n",
      "\n",
      "Epoch 00004: val_loss did not improve from 0.08781\n",
      "\n",
      "Epoch 00005: val_loss did not improve from 0.08781\n",
      "\n",
      "Epoch 00006: val_loss did not improve from 0.08781\n",
      "\n",
      "Epoch 00007: val_loss did not improve from 0.08781\n",
      "\n",
      "Epoch 00008: val_loss did not improve from 0.08781\n",
      "\n",
      "Epoch 00009: val_loss did not improve from 0.08781\n",
      "\n",
      "Epoch 00010: val_loss did not improve from 0.08781\n"
     ]
    },
    {
     "name": "stderr",
     "output_type": "stream",
     "text": [
      "/usr/local/share/miniconda3/envs/ner-projection/lib/python3.7/site-packages/ipykernel_launcher.py:17: RuntimeWarning: invalid value encountered in double_scalars\n"
     ]
    },
    {
     "name": "stdout",
     "output_type": "stream",
     "text": [
      "\n",
      "Epoch 00001: val_loss improved from inf to 0.08703, saving model to best-model-conll.hdfs\n",
      "\n",
      "Epoch 00002: val_loss improved from 0.08703 to 0.07383, saving model to best-model-conll.hdfs\n",
      "\n",
      "Epoch 00003: val_loss improved from 0.07383 to 0.04921, saving model to best-model-conll.hdfs\n",
      "\n",
      "Epoch 00004: val_loss did not improve from 0.04921\n",
      "\n",
      "Epoch 00005: val_loss did not improve from 0.04921\n",
      "\n",
      "Epoch 00006: val_loss did not improve from 0.04921\n",
      "\n",
      "Epoch 00007: val_loss did not improve from 0.04921\n",
      "\n",
      "Epoch 00008: val_loss did not improve from 0.04921\n",
      "\n",
      "Epoch 00009: val_loss did not improve from 0.04921\n",
      "\n",
      "Epoch 00010: val_loss did not improve from 0.04921\n"
     ]
    },
    {
     "name": "stderr",
     "output_type": "stream",
     "text": [
      "/usr/local/share/miniconda3/envs/ner-projection/lib/python3.7/site-packages/ipykernel_launcher.py:17: RuntimeWarning: invalid value encountered in double_scalars\n"
     ]
    },
    {
     "name": "stdout",
     "output_type": "stream",
     "text": [
      "\n",
      "Epoch 00001: val_loss improved from inf to 0.06089, saving model to best-model-conll.hdfs\n",
      "\n",
      "Epoch 00002: val_loss did not improve from 0.06089\n",
      "\n",
      "Epoch 00003: val_loss did not improve from 0.06089\n",
      "\n",
      "Epoch 00004: val_loss did not improve from 0.06089\n",
      "\n",
      "Epoch 00005: val_loss did not improve from 0.06089\n",
      "\n",
      "Epoch 00006: val_loss did not improve from 0.06089\n",
      "\n",
      "Epoch 00007: val_loss did not improve from 0.06089\n",
      "\n",
      "Epoch 00008: val_loss did not improve from 0.06089\n",
      "\n",
      "Epoch 00009: val_loss did not improve from 0.06089\n",
      "\n",
      "Epoch 00010: val_loss did not improve from 0.06089\n"
     ]
    },
    {
     "name": "stderr",
     "output_type": "stream",
     "text": [
      "/usr/local/share/miniconda3/envs/ner-projection/lib/python3.7/site-packages/ipykernel_launcher.py:17: RuntimeWarning: invalid value encountered in double_scalars\n"
     ]
    },
    {
     "name": "stdout",
     "output_type": "stream",
     "text": [
      "\n",
      "Epoch 00001: val_loss improved from inf to 0.05014, saving model to best-model-conll.hdfs\n",
      "\n",
      "Epoch 00002: val_loss did not improve from 0.05014\n",
      "\n",
      "Epoch 00003: val_loss did not improve from 0.05014\n",
      "\n",
      "Epoch 00004: val_loss did not improve from 0.05014\n",
      "\n",
      "Epoch 00005: val_loss did not improve from 0.05014\n",
      "\n",
      "Epoch 00006: val_loss did not improve from 0.05014\n",
      "\n",
      "Epoch 00007: val_loss did not improve from 0.05014\n",
      "\n",
      "Epoch 00008: val_loss did not improve from 0.05014\n",
      "\n",
      "Epoch 00009: val_loss did not improve from 0.05014\n",
      "\n",
      "Epoch 00010: val_loss did not improve from 0.05014\n",
      "\n",
      "Epoch 00001: val_loss improved from inf to 0.04776, saving model to best-model-conll.hdfs\n",
      "\n",
      "Epoch 00002: val_loss did not improve from 0.04776\n",
      "\n",
      "Epoch 00003: val_loss did not improve from 0.04776\n",
      "\n",
      "Epoch 00004: val_loss did not improve from 0.04776\n",
      "\n",
      "Epoch 00005: val_loss did not improve from 0.04776\n",
      "\n",
      "Epoch 00006: val_loss did not improve from 0.04776\n",
      "\n",
      "Epoch 00007: val_loss did not improve from 0.04776\n",
      "\n",
      "Epoch 00008: val_loss did not improve from 0.04776\n",
      "\n",
      "Epoch 00009: val_loss did not improve from 0.04776\n",
      "\n",
      "Epoch 00010: val_loss did not improve from 0.04776\n"
     ]
    },
    {
     "name": "stderr",
     "output_type": "stream",
     "text": [
      "/usr/local/share/miniconda3/envs/ner-projection/lib/python3.7/site-packages/ipykernel_launcher.py:17: RuntimeWarning: invalid value encountered in double_scalars\n"
     ]
    },
    {
     "name": "stdout",
     "output_type": "stream",
     "text": [
      "\n",
      "Epoch 00001: val_loss improved from inf to 0.07694, saving model to best-model-conll.hdfs\n",
      "\n",
      "Epoch 00002: val_loss did not improve from 0.07694\n",
      "\n",
      "Epoch 00003: val_loss did not improve from 0.07694\n",
      "\n",
      "Epoch 00004: val_loss did not improve from 0.07694\n",
      "\n",
      "Epoch 00005: val_loss did not improve from 0.07694\n",
      "\n",
      "Epoch 00006: val_loss did not improve from 0.07694\n",
      "\n",
      "Epoch 00007: val_loss did not improve from 0.07694\n",
      "\n",
      "Epoch 00008: val_loss did not improve from 0.07694\n",
      "\n",
      "Epoch 00009: val_loss did not improve from 0.07694\n",
      "\n",
      "Epoch 00010: val_loss did not improve from 0.07694\n"
     ]
    },
    {
     "name": "stderr",
     "output_type": "stream",
     "text": [
      "/usr/local/share/miniconda3/envs/ner-projection/lib/python3.7/site-packages/ipykernel_launcher.py:17: RuntimeWarning: invalid value encountered in double_scalars\n"
     ]
    },
    {
     "name": "stdout",
     "output_type": "stream",
     "text": [
      "AlgoCrossValIter - 4\n",
      "Model: \"sequential_5\"\n",
      "_________________________________________________________________\n",
      "Layer (type)                 Output Shape              Param #   \n",
      "=================================================================\n",
      "hidden1 (Dense)              (None, 640)               135040    \n",
      "_________________________________________________________________\n",
      "hidden2 (Dense)              (None, 160)               102560    \n",
      "_________________________________________________________________\n",
      "outputlayer (Dense)          (None, 5)                 805       \n",
      "=================================================================\n",
      "Total params: 238,405\n",
      "Trainable params: 238,405\n",
      "Non-trainable params: 0\n",
      "_________________________________________________________________\n",
      "\n",
      "Epoch 00001: val_loss improved from inf to 0.47377, saving model to best-model-conll.hdfs\n",
      "\n",
      "Epoch 00002: val_loss did not improve from 0.47377\n",
      "\n",
      "Epoch 00003: val_loss did not improve from 0.47377\n",
      "\n",
      "Epoch 00004: val_loss did not improve from 0.47377\n",
      "\n",
      "Epoch 00005: val_loss did not improve from 0.47377\n",
      "\n",
      "Epoch 00006: val_loss did not improve from 0.47377\n",
      "\n",
      "Epoch 00007: val_loss did not improve from 0.47377\n",
      "\n",
      "Epoch 00008: val_loss did not improve from 0.47377\n",
      "\n",
      "Epoch 00009: val_loss did not improve from 0.47377\n",
      "\n",
      "Epoch 00010: val_loss did not improve from 0.47377\n"
     ]
    },
    {
     "name": "stderr",
     "output_type": "stream",
     "text": [
      "/usr/local/share/miniconda3/envs/ner-projection/lib/python3.7/site-packages/ipykernel_launcher.py:18: RuntimeWarning: invalid value encountered in double_scalars\n",
      "/usr/local/share/miniconda3/envs/ner-projection/lib/python3.7/site-packages/ipykernel_launcher.py:17: RuntimeWarning: invalid value encountered in double_scalars\n"
     ]
    },
    {
     "name": "stdout",
     "output_type": "stream",
     "text": [
      "\n",
      "Epoch 00001: val_loss improved from inf to 0.09882, saving model to best-model-conll.hdfs\n",
      "\n",
      "Epoch 00002: val_loss improved from 0.09882 to 0.04078, saving model to best-model-conll.hdfs\n",
      "\n",
      "Epoch 00003: val_loss did not improve from 0.04078\n",
      "\n",
      "Epoch 00004: val_loss did not improve from 0.04078\n",
      "\n",
      "Epoch 00005: val_loss did not improve from 0.04078\n",
      "\n",
      "Epoch 00006: val_loss did not improve from 0.04078\n",
      "\n",
      "Epoch 00007: val_loss did not improve from 0.04078\n",
      "\n",
      "Epoch 00008: val_loss did not improve from 0.04078\n",
      "\n",
      "Epoch 00009: val_loss did not improve from 0.04078\n",
      "\n",
      "Epoch 00010: val_loss did not improve from 0.04078\n"
     ]
    },
    {
     "name": "stderr",
     "output_type": "stream",
     "text": [
      "/usr/local/share/miniconda3/envs/ner-projection/lib/python3.7/site-packages/ipykernel_launcher.py:17: RuntimeWarning: invalid value encountered in double_scalars\n"
     ]
    },
    {
     "name": "stdout",
     "output_type": "stream",
     "text": [
      "\n",
      "Epoch 00001: val_loss improved from inf to 0.07896, saving model to best-model-conll.hdfs\n",
      "\n",
      "Epoch 00002: val_loss did not improve from 0.07896\n",
      "\n",
      "Epoch 00003: val_loss did not improve from 0.07896\n",
      "\n",
      "Epoch 00004: val_loss did not improve from 0.07896\n",
      "\n",
      "Epoch 00005: val_loss did not improve from 0.07896\n",
      "\n",
      "Epoch 00006: val_loss did not improve from 0.07896\n",
      "\n",
      "Epoch 00007: val_loss did not improve from 0.07896\n",
      "\n",
      "Epoch 00008: val_loss did not improve from 0.07896\n",
      "\n",
      "Epoch 00009: val_loss did not improve from 0.07896\n",
      "\n",
      "Epoch 00010: val_loss did not improve from 0.07896\n"
     ]
    },
    {
     "name": "stderr",
     "output_type": "stream",
     "text": [
      "/usr/local/share/miniconda3/envs/ner-projection/lib/python3.7/site-packages/ipykernel_launcher.py:17: RuntimeWarning: invalid value encountered in double_scalars\n"
     ]
    },
    {
     "name": "stdout",
     "output_type": "stream",
     "text": [
      "\n",
      "Epoch 00001: val_loss improved from inf to 0.06624, saving model to best-model-conll.hdfs\n",
      "\n",
      "Epoch 00002: val_loss did not improve from 0.06624\n",
      "\n",
      "Epoch 00003: val_loss did not improve from 0.06624\n",
      "\n",
      "Epoch 00004: val_loss did not improve from 0.06624\n",
      "\n",
      "Epoch 00005: val_loss did not improve from 0.06624\n",
      "\n",
      "Epoch 00006: val_loss did not improve from 0.06624\n",
      "\n",
      "Epoch 00007: val_loss did not improve from 0.06624\n",
      "\n",
      "Epoch 00008: val_loss did not improve from 0.06624\n",
      "\n",
      "Epoch 00009: val_loss did not improve from 0.06624\n",
      "\n",
      "Epoch 00010: val_loss did not improve from 0.06624\n"
     ]
    },
    {
     "name": "stderr",
     "output_type": "stream",
     "text": [
      "/usr/local/share/miniconda3/envs/ner-projection/lib/python3.7/site-packages/ipykernel_launcher.py:17: RuntimeWarning: invalid value encountered in double_scalars\n"
     ]
    },
    {
     "name": "stdout",
     "output_type": "stream",
     "text": [
      "\n",
      "Epoch 00001: val_loss improved from inf to 0.09017, saving model to best-model-conll.hdfs\n",
      "\n",
      "Epoch 00002: val_loss did not improve from 0.09017\n",
      "\n",
      "Epoch 00003: val_loss did not improve from 0.09017\n",
      "\n",
      "Epoch 00004: val_loss did not improve from 0.09017\n",
      "\n",
      "Epoch 00005: val_loss did not improve from 0.09017\n",
      "\n",
      "Epoch 00006: val_loss did not improve from 0.09017\n",
      "\n",
      "Epoch 00007: val_loss did not improve from 0.09017\n",
      "\n",
      "Epoch 00008: val_loss did not improve from 0.09017\n",
      "\n",
      "Epoch 00009: val_loss did not improve from 0.09017\n",
      "\n",
      "Epoch 00010: val_loss did not improve from 0.09017\n"
     ]
    },
    {
     "name": "stderr",
     "output_type": "stream",
     "text": [
      "/usr/local/share/miniconda3/envs/ner-projection/lib/python3.7/site-packages/ipykernel_launcher.py:17: RuntimeWarning: invalid value encountered in double_scalars\n"
     ]
    },
    {
     "name": "stdout",
     "output_type": "stream",
     "text": [
      "\n",
      "Epoch 00001: val_loss improved from inf to 0.05077, saving model to best-model-conll.hdfs\n",
      "\n",
      "Epoch 00002: val_loss improved from 0.05077 to 0.04557, saving model to best-model-conll.hdfs\n",
      "\n",
      "Epoch 00003: val_loss did not improve from 0.04557\n",
      "\n",
      "Epoch 00004: val_loss did not improve from 0.04557\n",
      "\n",
      "Epoch 00005: val_loss did not improve from 0.04557\n",
      "\n",
      "Epoch 00006: val_loss did not improve from 0.04557\n",
      "\n",
      "Epoch 00007: val_loss did not improve from 0.04557\n",
      "\n",
      "Epoch 00008: val_loss did not improve from 0.04557\n",
      "\n",
      "Epoch 00009: val_loss did not improve from 0.04557\n",
      "\n",
      "Epoch 00010: val_loss did not improve from 0.04557\n"
     ]
    },
    {
     "name": "stderr",
     "output_type": "stream",
     "text": [
      "/usr/local/share/miniconda3/envs/ner-projection/lib/python3.7/site-packages/ipykernel_launcher.py:17: RuntimeWarning: invalid value encountered in double_scalars\n"
     ]
    },
    {
     "name": "stdout",
     "output_type": "stream",
     "text": [
      "\n",
      "Epoch 00001: val_loss improved from inf to 0.06570, saving model to best-model-conll.hdfs\n",
      "\n",
      "Epoch 00002: val_loss did not improve from 0.06570\n",
      "\n",
      "Epoch 00003: val_loss did not improve from 0.06570\n",
      "\n",
      "Epoch 00004: val_loss did not improve from 0.06570\n",
      "\n",
      "Epoch 00005: val_loss did not improve from 0.06570\n",
      "\n",
      "Epoch 00006: val_loss did not improve from 0.06570\n",
      "\n",
      "Epoch 00007: val_loss did not improve from 0.06570\n",
      "\n",
      "Epoch 00008: val_loss did not improve from 0.06570\n",
      "\n",
      "Epoch 00009: val_loss did not improve from 0.06570\n",
      "\n",
      "Epoch 00010: val_loss did not improve from 0.06570\n"
     ]
    },
    {
     "name": "stderr",
     "output_type": "stream",
     "text": [
      "/usr/local/share/miniconda3/envs/ner-projection/lib/python3.7/site-packages/ipykernel_launcher.py:17: RuntimeWarning: invalid value encountered in double_scalars\n"
     ]
    },
    {
     "name": "stdout",
     "output_type": "stream",
     "text": [
      "\n",
      "Epoch 00001: val_loss improved from inf to 0.04781, saving model to best-model-conll.hdfs\n",
      "\n",
      "Epoch 00002: val_loss did not improve from 0.04781\n",
      "\n",
      "Epoch 00003: val_loss did not improve from 0.04781\n",
      "\n",
      "Epoch 00004: val_loss did not improve from 0.04781\n",
      "\n",
      "Epoch 00005: val_loss did not improve from 0.04781\n",
      "\n",
      "Epoch 00006: val_loss did not improve from 0.04781\n",
      "\n",
      "Epoch 00007: val_loss did not improve from 0.04781\n",
      "\n",
      "Epoch 00008: val_loss did not improve from 0.04781\n",
      "\n",
      "Epoch 00009: val_loss did not improve from 0.04781\n",
      "\n",
      "Epoch 00010: val_loss did not improve from 0.04781\n",
      "\n",
      "Epoch 00001: val_loss improved from inf to 0.05781, saving model to best-model-conll.hdfs\n",
      "\n",
      "Epoch 00002: val_loss did not improve from 0.05781\n",
      "\n",
      "Epoch 00003: val_loss did not improve from 0.05781\n",
      "\n",
      "Epoch 00004: val_loss did not improve from 0.05781\n",
      "\n",
      "Epoch 00005: val_loss did not improve from 0.05781\n",
      "\n",
      "Epoch 00006: val_loss did not improve from 0.05781\n",
      "\n",
      "Epoch 00007: val_loss did not improve from 0.05781\n",
      "\n",
      "Epoch 00008: val_loss did not improve from 0.05781\n",
      "\n",
      "Epoch 00009: val_loss did not improve from 0.05781\n",
      "\n",
      "Epoch 00010: val_loss did not improve from 0.05781\n"
     ]
    },
    {
     "name": "stderr",
     "output_type": "stream",
     "text": [
      "/usr/local/share/miniconda3/envs/ner-projection/lib/python3.7/site-packages/ipykernel_launcher.py:17: RuntimeWarning: invalid value encountered in double_scalars\n"
     ]
    },
    {
     "name": "stdout",
     "output_type": "stream",
     "text": [
      "\n",
      "Epoch 00001: val_loss improved from inf to 0.07343, saving model to best-model-conll.hdfs\n",
      "\n",
      "Epoch 00002: val_loss did not improve from 0.07343\n",
      "\n",
      "Epoch 00003: val_loss did not improve from 0.07343\n",
      "\n",
      "Epoch 00004: val_loss did not improve from 0.07343\n",
      "\n",
      "Epoch 00005: val_loss did not improve from 0.07343\n",
      "\n",
      "Epoch 00006: val_loss did not improve from 0.07343\n",
      "\n",
      "Epoch 00007: val_loss did not improve from 0.07343\n",
      "\n",
      "Epoch 00008: val_loss did not improve from 0.07343\n",
      "\n",
      "Epoch 00009: val_loss did not improve from 0.07343\n",
      "\n",
      "Epoch 00010: val_loss did not improve from 0.07343\n"
     ]
    },
    {
     "name": "stderr",
     "output_type": "stream",
     "text": [
      "/usr/local/share/miniconda3/envs/ner-projection/lib/python3.7/site-packages/ipykernel_launcher.py:17: RuntimeWarning: invalid value encountered in double_scalars\n"
     ]
    },
    {
     "name": "stdout",
     "output_type": "stream",
     "text": [
      "AlgoCrossValIter - 5\n",
      "Model: \"sequential_6\"\n",
      "_________________________________________________________________\n",
      "Layer (type)                 Output Shape              Param #   \n",
      "=================================================================\n",
      "hidden1 (Dense)              (None, 640)               135040    \n",
      "_________________________________________________________________\n",
      "hidden2 (Dense)              (None, 160)               102560    \n",
      "_________________________________________________________________\n",
      "outputlayer (Dense)          (None, 5)                 805       \n",
      "=================================================================\n",
      "Total params: 238,405\n",
      "Trainable params: 238,405\n",
      "Non-trainable params: 0\n",
      "_________________________________________________________________\n",
      "\n",
      "Epoch 00001: val_loss improved from inf to 0.45678, saving model to best-model-conll.hdfs\n",
      "\n",
      "Epoch 00002: val_loss did not improve from 0.45678\n",
      "\n",
      "Epoch 00003: val_loss did not improve from 0.45678\n",
      "\n",
      "Epoch 00004: val_loss did not improve from 0.45678\n",
      "\n",
      "Epoch 00005: val_loss did not improve from 0.45678\n",
      "\n",
      "Epoch 00006: val_loss did not improve from 0.45678\n",
      "\n",
      "Epoch 00007: val_loss did not improve from 0.45678\n",
      "\n",
      "Epoch 00008: val_loss did not improve from 0.45678\n",
      "\n",
      "Epoch 00009: val_loss did not improve from 0.45678\n",
      "\n",
      "Epoch 00010: val_loss did not improve from 0.45678\n"
     ]
    },
    {
     "name": "stderr",
     "output_type": "stream",
     "text": [
      "/usr/local/share/miniconda3/envs/ner-projection/lib/python3.7/site-packages/ipykernel_launcher.py:18: RuntimeWarning: invalid value encountered in double_scalars\n",
      "/usr/local/share/miniconda3/envs/ner-projection/lib/python3.7/site-packages/ipykernel_launcher.py:17: RuntimeWarning: invalid value encountered in double_scalars\n"
     ]
    },
    {
     "name": "stdout",
     "output_type": "stream",
     "text": [
      "\n",
      "Epoch 00001: val_loss improved from inf to 0.03057, saving model to best-model-conll.hdfs\n",
      "\n",
      "Epoch 00002: val_loss did not improve from 0.03057\n",
      "\n",
      "Epoch 00003: val_loss did not improve from 0.03057\n",
      "\n",
      "Epoch 00004: val_loss did not improve from 0.03057\n",
      "\n",
      "Epoch 00005: val_loss did not improve from 0.03057\n",
      "\n",
      "Epoch 00006: val_loss did not improve from 0.03057\n",
      "\n",
      "Epoch 00007: val_loss did not improve from 0.03057\n",
      "\n",
      "Epoch 00008: val_loss did not improve from 0.03057\n",
      "\n",
      "Epoch 00009: val_loss did not improve from 0.03057\n",
      "\n",
      "Epoch 00010: val_loss did not improve from 0.03057\n"
     ]
    },
    {
     "name": "stderr",
     "output_type": "stream",
     "text": [
      "/usr/local/share/miniconda3/envs/ner-projection/lib/python3.7/site-packages/ipykernel_launcher.py:17: RuntimeWarning: invalid value encountered in double_scalars\n"
     ]
    },
    {
     "name": "stdout",
     "output_type": "stream",
     "text": [
      "\n",
      "Epoch 00001: val_loss improved from inf to 0.09749, saving model to best-model-conll.hdfs\n",
      "\n",
      "Epoch 00002: val_loss did not improve from 0.09749\n",
      "\n",
      "Epoch 00003: val_loss did not improve from 0.09749\n",
      "\n",
      "Epoch 00004: val_loss improved from 0.09749 to 0.09405, saving model to best-model-conll.hdfs\n",
      "\n",
      "Epoch 00005: val_loss improved from 0.09405 to 0.08935, saving model to best-model-conll.hdfs\n",
      "\n",
      "Epoch 00006: val_loss did not improve from 0.08935\n",
      "\n",
      "Epoch 00007: val_loss did not improve from 0.08935\n",
      "\n",
      "Epoch 00008: val_loss did not improve from 0.08935\n",
      "\n",
      "Epoch 00009: val_loss did not improve from 0.08935\n",
      "\n",
      "Epoch 00010: val_loss did not improve from 0.08935\n",
      "\n",
      "Epoch 00001: val_loss improved from inf to 0.07477, saving model to best-model-conll.hdfs\n",
      "\n",
      "Epoch 00002: val_loss improved from 0.07477 to 0.06900, saving model to best-model-conll.hdfs\n",
      "\n",
      "Epoch 00003: val_loss did not improve from 0.06900\n",
      "\n",
      "Epoch 00004: val_loss did not improve from 0.06900\n",
      "\n",
      "Epoch 00005: val_loss did not improve from 0.06900\n",
      "\n",
      "Epoch 00006: val_loss did not improve from 0.06900\n",
      "\n",
      "Epoch 00007: val_loss did not improve from 0.06900\n",
      "\n",
      "Epoch 00008: val_loss did not improve from 0.06900\n",
      "\n",
      "Epoch 00009: val_loss did not improve from 0.06900\n",
      "\n",
      "Epoch 00010: val_loss did not improve from 0.06900\n"
     ]
    },
    {
     "name": "stderr",
     "output_type": "stream",
     "text": [
      "/usr/local/share/miniconda3/envs/ner-projection/lib/python3.7/site-packages/ipykernel_launcher.py:17: RuntimeWarning: invalid value encountered in double_scalars\n"
     ]
    },
    {
     "name": "stdout",
     "output_type": "stream",
     "text": [
      "\n",
      "Epoch 00001: val_loss improved from inf to 0.08578, saving model to best-model-conll.hdfs\n",
      "\n",
      "Epoch 00002: val_loss did not improve from 0.08578\n",
      "\n",
      "Epoch 00003: val_loss did not improve from 0.08578\n",
      "\n",
      "Epoch 00004: val_loss did not improve from 0.08578\n",
      "\n",
      "Epoch 00005: val_loss did not improve from 0.08578\n",
      "\n",
      "Epoch 00006: val_loss did not improve from 0.08578\n",
      "\n",
      "Epoch 00007: val_loss did not improve from 0.08578\n",
      "\n",
      "Epoch 00008: val_loss did not improve from 0.08578\n",
      "\n",
      "Epoch 00009: val_loss did not improve from 0.08578\n",
      "\n",
      "Epoch 00010: val_loss did not improve from 0.08578\n"
     ]
    },
    {
     "name": "stderr",
     "output_type": "stream",
     "text": [
      "/usr/local/share/miniconda3/envs/ner-projection/lib/python3.7/site-packages/ipykernel_launcher.py:17: RuntimeWarning: invalid value encountered in double_scalars\n"
     ]
    },
    {
     "name": "stdout",
     "output_type": "stream",
     "text": [
      "\n",
      "Epoch 00001: val_loss improved from inf to 0.05908, saving model to best-model-conll.hdfs\n",
      "\n",
      "Epoch 00002: val_loss improved from 0.05908 to 0.05358, saving model to best-model-conll.hdfs\n",
      "\n",
      "Epoch 00003: val_loss did not improve from 0.05358\n",
      "\n",
      "Epoch 00004: val_loss did not improve from 0.05358\n",
      "\n",
      "Epoch 00005: val_loss did not improve from 0.05358\n",
      "\n",
      "Epoch 00006: val_loss did not improve from 0.05358\n",
      "\n",
      "Epoch 00007: val_loss did not improve from 0.05358\n",
      "\n",
      "Epoch 00008: val_loss did not improve from 0.05358\n",
      "\n",
      "Epoch 00009: val_loss did not improve from 0.05358\n",
      "\n",
      "Epoch 00010: val_loss did not improve from 0.05358\n"
     ]
    },
    {
     "name": "stderr",
     "output_type": "stream",
     "text": [
      "/usr/local/share/miniconda3/envs/ner-projection/lib/python3.7/site-packages/ipykernel_launcher.py:17: RuntimeWarning: invalid value encountered in double_scalars\n"
     ]
    },
    {
     "name": "stdout",
     "output_type": "stream",
     "text": [
      "\n",
      "Epoch 00001: val_loss improved from inf to 0.06222, saving model to best-model-conll.hdfs\n",
      "\n",
      "Epoch 00002: val_loss did not improve from 0.06222\n",
      "\n",
      "Epoch 00003: val_loss did not improve from 0.06222\n",
      "\n",
      "Epoch 00004: val_loss did not improve from 0.06222\n",
      "\n",
      "Epoch 00005: val_loss did not improve from 0.06222\n",
      "\n",
      "Epoch 00006: val_loss did not improve from 0.06222\n",
      "\n",
      "Epoch 00007: val_loss did not improve from 0.06222\n",
      "\n",
      "Epoch 00008: val_loss did not improve from 0.06222\n",
      "\n",
      "Epoch 00009: val_loss did not improve from 0.06222\n",
      "\n",
      "Epoch 00010: val_loss did not improve from 0.06222\n"
     ]
    },
    {
     "name": "stderr",
     "output_type": "stream",
     "text": [
      "/usr/local/share/miniconda3/envs/ner-projection/lib/python3.7/site-packages/ipykernel_launcher.py:17: RuntimeWarning: invalid value encountered in double_scalars\n"
     ]
    },
    {
     "name": "stdout",
     "output_type": "stream",
     "text": [
      "\n",
      "Epoch 00001: val_loss improved from inf to 0.04714, saving model to best-model-conll.hdfs\n",
      "\n",
      "Epoch 00002: val_loss did not improve from 0.04714\n",
      "\n",
      "Epoch 00003: val_loss did not improve from 0.04714\n",
      "\n",
      "Epoch 00004: val_loss did not improve from 0.04714\n",
      "\n",
      "Epoch 00005: val_loss did not improve from 0.04714\n",
      "\n",
      "Epoch 00006: val_loss did not improve from 0.04714\n",
      "\n",
      "Epoch 00007: val_loss did not improve from 0.04714\n",
      "\n",
      "Epoch 00008: val_loss did not improve from 0.04714\n",
      "\n",
      "Epoch 00009: val_loss did not improve from 0.04714\n",
      "\n",
      "Epoch 00010: val_loss did not improve from 0.04714\n",
      "\n",
      "Epoch 00001: val_loss improved from inf to 0.06340, saving model to best-model-conll.hdfs\n",
      "\n",
      "Epoch 00002: val_loss did not improve from 0.06340\n",
      "\n",
      "Epoch 00003: val_loss did not improve from 0.06340\n",
      "\n",
      "Epoch 00004: val_loss did not improve from 0.06340\n",
      "\n",
      "Epoch 00005: val_loss did not improve from 0.06340\n",
      "\n",
      "Epoch 00006: val_loss did not improve from 0.06340\n",
      "\n",
      "Epoch 00007: val_loss did not improve from 0.06340\n",
      "\n",
      "Epoch 00008: val_loss did not improve from 0.06340\n",
      "\n",
      "Epoch 00009: val_loss did not improve from 0.06340\n",
      "\n",
      "Epoch 00010: val_loss did not improve from 0.06340\n"
     ]
    },
    {
     "name": "stderr",
     "output_type": "stream",
     "text": [
      "/usr/local/share/miniconda3/envs/ner-projection/lib/python3.7/site-packages/ipykernel_launcher.py:17: RuntimeWarning: invalid value encountered in double_scalars\n"
     ]
    },
    {
     "name": "stdout",
     "output_type": "stream",
     "text": [
      "\n",
      "Epoch 00001: val_loss improved from inf to 0.06734, saving model to best-model-conll.hdfs\n",
      "\n",
      "Epoch 00002: val_loss did not improve from 0.06734\n",
      "\n",
      "Epoch 00003: val_loss did not improve from 0.06734\n",
      "\n",
      "Epoch 00004: val_loss did not improve from 0.06734\n",
      "\n",
      "Epoch 00005: val_loss did not improve from 0.06734\n",
      "\n",
      "Epoch 00006: val_loss did not improve from 0.06734\n",
      "\n",
      "Epoch 00007: val_loss did not improve from 0.06734\n",
      "\n",
      "Epoch 00008: val_loss did not improve from 0.06734\n",
      "\n",
      "Epoch 00009: val_loss did not improve from 0.06734\n",
      "\n",
      "Epoch 00010: val_loss did not improve from 0.06734\n"
     ]
    },
    {
     "name": "stderr",
     "output_type": "stream",
     "text": [
      "/usr/local/share/miniconda3/envs/ner-projection/lib/python3.7/site-packages/ipykernel_launcher.py:17: RuntimeWarning: invalid value encountered in double_scalars\n"
     ]
    },
    {
     "name": "stdout",
     "output_type": "stream",
     "text": [
      "AlgoCrossValIter - 6\n",
      "Model: \"sequential_7\"\n",
      "_________________________________________________________________\n",
      "Layer (type)                 Output Shape              Param #   \n",
      "=================================================================\n",
      "hidden1 (Dense)              (None, 640)               135040    \n",
      "_________________________________________________________________\n",
      "hidden2 (Dense)              (None, 160)               102560    \n",
      "_________________________________________________________________\n",
      "outputlayer (Dense)          (None, 5)                 805       \n",
      "=================================================================\n",
      "Total params: 238,405\n",
      "Trainable params: 238,405\n",
      "Non-trainable params: 0\n",
      "_________________________________________________________________\n",
      "\n",
      "Epoch 00001: val_loss improved from inf to 0.46740, saving model to best-model-conll.hdfs\n",
      "\n",
      "Epoch 00002: val_loss did not improve from 0.46740\n",
      "\n",
      "Epoch 00003: val_loss did not improve from 0.46740\n",
      "\n",
      "Epoch 00004: val_loss did not improve from 0.46740\n",
      "\n",
      "Epoch 00005: val_loss did not improve from 0.46740\n",
      "\n",
      "Epoch 00006: val_loss did not improve from 0.46740\n",
      "\n",
      "Epoch 00007: val_loss did not improve from 0.46740\n",
      "\n",
      "Epoch 00008: val_loss did not improve from 0.46740\n",
      "\n",
      "Epoch 00009: val_loss did not improve from 0.46740\n",
      "\n",
      "Epoch 00010: val_loss did not improve from 0.46740\n"
     ]
    },
    {
     "name": "stderr",
     "output_type": "stream",
     "text": [
      "/usr/local/share/miniconda3/envs/ner-projection/lib/python3.7/site-packages/ipykernel_launcher.py:18: RuntimeWarning: invalid value encountered in double_scalars\n",
      "/usr/local/share/miniconda3/envs/ner-projection/lib/python3.7/site-packages/ipykernel_launcher.py:17: RuntimeWarning: invalid value encountered in double_scalars\n"
     ]
    },
    {
     "name": "stdout",
     "output_type": "stream",
     "text": [
      "\n",
      "Epoch 00001: val_loss improved from inf to 0.05773, saving model to best-model-conll.hdfs\n",
      "\n",
      "Epoch 00002: val_loss improved from 0.05773 to 0.04822, saving model to best-model-conll.hdfs\n",
      "\n",
      "Epoch 00003: val_loss did not improve from 0.04822\n",
      "\n",
      "Epoch 00004: val_loss did not improve from 0.04822\n",
      "\n",
      "Epoch 00005: val_loss did not improve from 0.04822\n",
      "\n",
      "Epoch 00006: val_loss did not improve from 0.04822\n",
      "\n",
      "Epoch 00007: val_loss did not improve from 0.04822\n",
      "\n",
      "Epoch 00008: val_loss did not improve from 0.04822\n",
      "\n",
      "Epoch 00009: val_loss did not improve from 0.04822\n",
      "\n",
      "Epoch 00010: val_loss did not improve from 0.04822\n"
     ]
    },
    {
     "name": "stderr",
     "output_type": "stream",
     "text": [
      "/usr/local/share/miniconda3/envs/ner-projection/lib/python3.7/site-packages/ipykernel_launcher.py:17: RuntimeWarning: invalid value encountered in double_scalars\n"
     ]
    },
    {
     "name": "stdout",
     "output_type": "stream",
     "text": [
      "\n",
      "Epoch 00001: val_loss improved from inf to 0.06799, saving model to best-model-conll.hdfs\n",
      "\n",
      "Epoch 00002: val_loss did not improve from 0.06799\n",
      "\n",
      "Epoch 00003: val_loss did not improve from 0.06799\n",
      "\n",
      "Epoch 00004: val_loss did not improve from 0.06799\n",
      "\n",
      "Epoch 00005: val_loss did not improve from 0.06799\n",
      "\n",
      "Epoch 00006: val_loss did not improve from 0.06799\n",
      "\n",
      "Epoch 00007: val_loss did not improve from 0.06799\n",
      "\n",
      "Epoch 00008: val_loss did not improve from 0.06799\n",
      "\n",
      "Epoch 00009: val_loss did not improve from 0.06799\n",
      "\n",
      "Epoch 00010: val_loss did not improve from 0.06799\n"
     ]
    },
    {
     "name": "stderr",
     "output_type": "stream",
     "text": [
      "/usr/local/share/miniconda3/envs/ner-projection/lib/python3.7/site-packages/ipykernel_launcher.py:17: RuntimeWarning: invalid value encountered in double_scalars\n"
     ]
    },
    {
     "name": "stdout",
     "output_type": "stream",
     "text": [
      "\n",
      "Epoch 00001: val_loss improved from inf to 0.07745, saving model to best-model-conll.hdfs\n",
      "\n",
      "Epoch 00002: val_loss did not improve from 0.07745\n",
      "\n",
      "Epoch 00003: val_loss did not improve from 0.07745\n",
      "\n",
      "Epoch 00004: val_loss did not improve from 0.07745\n",
      "\n",
      "Epoch 00005: val_loss did not improve from 0.07745\n",
      "\n",
      "Epoch 00006: val_loss did not improve from 0.07745\n",
      "\n",
      "Epoch 00007: val_loss did not improve from 0.07745\n",
      "\n",
      "Epoch 00008: val_loss did not improve from 0.07745\n",
      "\n",
      "Epoch 00009: val_loss did not improve from 0.07745\n",
      "\n",
      "Epoch 00010: val_loss did not improve from 0.07745\n"
     ]
    },
    {
     "name": "stderr",
     "output_type": "stream",
     "text": [
      "/usr/local/share/miniconda3/envs/ner-projection/lib/python3.7/site-packages/ipykernel_launcher.py:17: RuntimeWarning: invalid value encountered in double_scalars\n"
     ]
    },
    {
     "name": "stdout",
     "output_type": "stream",
     "text": [
      "\n",
      "Epoch 00001: val_loss improved from inf to 0.08276, saving model to best-model-conll.hdfs\n",
      "\n",
      "Epoch 00002: val_loss did not improve from 0.08276\n",
      "\n",
      "Epoch 00003: val_loss did not improve from 0.08276\n",
      "\n",
      "Epoch 00004: val_loss did not improve from 0.08276\n",
      "\n",
      "Epoch 00005: val_loss did not improve from 0.08276\n",
      "\n",
      "Epoch 00006: val_loss did not improve from 0.08276\n",
      "\n",
      "Epoch 00007: val_loss did not improve from 0.08276\n",
      "\n",
      "Epoch 00008: val_loss did not improve from 0.08276\n",
      "\n",
      "Epoch 00009: val_loss did not improve from 0.08276\n",
      "\n",
      "Epoch 00010: val_loss did not improve from 0.08276\n"
     ]
    },
    {
     "name": "stderr",
     "output_type": "stream",
     "text": [
      "/usr/local/share/miniconda3/envs/ner-projection/lib/python3.7/site-packages/ipykernel_launcher.py:17: RuntimeWarning: invalid value encountered in double_scalars\n"
     ]
    },
    {
     "name": "stdout",
     "output_type": "stream",
     "text": [
      "\n",
      "Epoch 00001: val_loss improved from inf to 0.10773, saving model to best-model-conll.hdfs\n",
      "\n",
      "Epoch 00002: val_loss improved from 0.10773 to 0.06432, saving model to best-model-conll.hdfs\n",
      "\n",
      "Epoch 00003: val_loss did not improve from 0.06432\n",
      "\n",
      "Epoch 00004: val_loss did not improve from 0.06432\n",
      "\n",
      "Epoch 00005: val_loss did not improve from 0.06432\n",
      "\n",
      "Epoch 00006: val_loss did not improve from 0.06432\n",
      "\n",
      "Epoch 00007: val_loss did not improve from 0.06432\n",
      "\n",
      "Epoch 00008: val_loss did not improve from 0.06432\n",
      "\n",
      "Epoch 00009: val_loss did not improve from 0.06432\n",
      "\n",
      "Epoch 00010: val_loss did not improve from 0.06432\n"
     ]
    },
    {
     "name": "stderr",
     "output_type": "stream",
     "text": [
      "/usr/local/share/miniconda3/envs/ner-projection/lib/python3.7/site-packages/ipykernel_launcher.py:17: RuntimeWarning: invalid value encountered in double_scalars\n"
     ]
    },
    {
     "name": "stdout",
     "output_type": "stream",
     "text": [
      "\n",
      "Epoch 00001: val_loss improved from inf to 0.06595, saving model to best-model-conll.hdfs\n",
      "\n",
      "Epoch 00002: val_loss did not improve from 0.06595\n",
      "\n",
      "Epoch 00003: val_loss did not improve from 0.06595\n",
      "\n",
      "Epoch 00004: val_loss did not improve from 0.06595\n",
      "\n",
      "Epoch 00005: val_loss did not improve from 0.06595\n",
      "\n",
      "Epoch 00006: val_loss did not improve from 0.06595\n",
      "\n",
      "Epoch 00007: val_loss did not improve from 0.06595\n",
      "\n",
      "Epoch 00008: val_loss did not improve from 0.06595\n",
      "\n",
      "Epoch 00009: val_loss did not improve from 0.06595\n",
      "\n",
      "Epoch 00010: val_loss did not improve from 0.06595\n"
     ]
    },
    {
     "name": "stderr",
     "output_type": "stream",
     "text": [
      "/usr/local/share/miniconda3/envs/ner-projection/lib/python3.7/site-packages/ipykernel_launcher.py:17: RuntimeWarning: invalid value encountered in double_scalars\n"
     ]
    },
    {
     "name": "stdout",
     "output_type": "stream",
     "text": [
      "\n",
      "Epoch 00001: val_loss improved from inf to 0.05043, saving model to best-model-conll.hdfs\n",
      "\n",
      "Epoch 00002: val_loss did not improve from 0.05043\n",
      "\n",
      "Epoch 00003: val_loss did not improve from 0.05043\n",
      "\n",
      "Epoch 00004: val_loss did not improve from 0.05043\n",
      "\n",
      "Epoch 00005: val_loss did not improve from 0.05043\n",
      "\n",
      "Epoch 00006: val_loss did not improve from 0.05043\n",
      "\n",
      "Epoch 00007: val_loss did not improve from 0.05043\n",
      "\n",
      "Epoch 00008: val_loss did not improve from 0.05043\n",
      "\n",
      "Epoch 00009: val_loss did not improve from 0.05043\n",
      "\n",
      "Epoch 00010: val_loss did not improve from 0.05043\n",
      "\n",
      "Epoch 00001: val_loss improved from inf to 0.05973, saving model to best-model-conll.hdfs\n",
      "\n",
      "Epoch 00002: val_loss did not improve from 0.05973\n",
      "\n",
      "Epoch 00003: val_loss did not improve from 0.05973\n",
      "\n",
      "Epoch 00004: val_loss did not improve from 0.05973\n",
      "\n",
      "Epoch 00005: val_loss did not improve from 0.05973\n",
      "\n",
      "Epoch 00006: val_loss did not improve from 0.05973\n",
      "\n",
      "Epoch 00007: val_loss did not improve from 0.05973\n",
      "\n",
      "Epoch 00008: val_loss did not improve from 0.05973\n",
      "\n",
      "Epoch 00009: val_loss did not improve from 0.05973\n",
      "\n",
      "Epoch 00010: val_loss did not improve from 0.05973\n"
     ]
    },
    {
     "name": "stderr",
     "output_type": "stream",
     "text": [
      "/usr/local/share/miniconda3/envs/ner-projection/lib/python3.7/site-packages/ipykernel_launcher.py:17: RuntimeWarning: invalid value encountered in double_scalars\n"
     ]
    },
    {
     "name": "stdout",
     "output_type": "stream",
     "text": [
      "\n",
      "Epoch 00001: val_loss improved from inf to 0.07936, saving model to best-model-conll.hdfs\n",
      "\n",
      "Epoch 00002: val_loss did not improve from 0.07936\n",
      "\n",
      "Epoch 00003: val_loss did not improve from 0.07936\n",
      "\n",
      "Epoch 00004: val_loss did not improve from 0.07936\n",
      "\n",
      "Epoch 00005: val_loss did not improve from 0.07936\n",
      "\n",
      "Epoch 00006: val_loss did not improve from 0.07936\n",
      "\n",
      "Epoch 00007: val_loss did not improve from 0.07936\n",
      "\n",
      "Epoch 00008: val_loss did not improve from 0.07936\n",
      "\n",
      "Epoch 00009: val_loss did not improve from 0.07936\n",
      "\n",
      "Epoch 00010: val_loss did not improve from 0.07936\n"
     ]
    },
    {
     "name": "stderr",
     "output_type": "stream",
     "text": [
      "/usr/local/share/miniconda3/envs/ner-projection/lib/python3.7/site-packages/ipykernel_launcher.py:17: RuntimeWarning: invalid value encountered in double_scalars\n"
     ]
    },
    {
     "name": "stdout",
     "output_type": "stream",
     "text": [
      "AlgoCrossValIter - 7\n",
      "Model: \"sequential_8\"\n",
      "_________________________________________________________________\n",
      "Layer (type)                 Output Shape              Param #   \n",
      "=================================================================\n",
      "hidden1 (Dense)              (None, 640)               135040    \n",
      "_________________________________________________________________\n",
      "hidden2 (Dense)              (None, 160)               102560    \n",
      "_________________________________________________________________\n",
      "outputlayer (Dense)          (None, 5)                 805       \n",
      "=================================================================\n",
      "Total params: 238,405\n",
      "Trainable params: 238,405\n",
      "Non-trainable params: 0\n",
      "_________________________________________________________________\n",
      "\n",
      "Epoch 00001: val_loss improved from inf to 0.45552, saving model to best-model-conll.hdfs\n",
      "\n",
      "Epoch 00002: val_loss did not improve from 0.45552\n",
      "\n",
      "Epoch 00003: val_loss did not improve from 0.45552\n",
      "\n",
      "Epoch 00004: val_loss did not improve from 0.45552\n",
      "\n",
      "Epoch 00005: val_loss did not improve from 0.45552\n",
      "\n",
      "Epoch 00006: val_loss did not improve from 0.45552\n",
      "\n",
      "Epoch 00007: val_loss did not improve from 0.45552\n",
      "\n",
      "Epoch 00008: val_loss did not improve from 0.45552\n",
      "\n",
      "Epoch 00009: val_loss did not improve from 0.45552\n",
      "\n",
      "Epoch 00010: val_loss did not improve from 0.45552\n"
     ]
    },
    {
     "name": "stderr",
     "output_type": "stream",
     "text": [
      "/usr/local/share/miniconda3/envs/ner-projection/lib/python3.7/site-packages/ipykernel_launcher.py:18: RuntimeWarning: invalid value encountered in double_scalars\n",
      "/usr/local/share/miniconda3/envs/ner-projection/lib/python3.7/site-packages/ipykernel_launcher.py:17: RuntimeWarning: invalid value encountered in double_scalars\n"
     ]
    },
    {
     "name": "stdout",
     "output_type": "stream",
     "text": [
      "\n",
      "Epoch 00001: val_loss improved from inf to 0.03656, saving model to best-model-conll.hdfs\n",
      "\n",
      "Epoch 00002: val_loss did not improve from 0.03656\n",
      "\n",
      "Epoch 00003: val_loss did not improve from 0.03656\n",
      "\n",
      "Epoch 00004: val_loss did not improve from 0.03656\n",
      "\n",
      "Epoch 00005: val_loss did not improve from 0.03656\n",
      "\n",
      "Epoch 00006: val_loss did not improve from 0.03656\n",
      "\n",
      "Epoch 00007: val_loss did not improve from 0.03656\n",
      "\n",
      "Epoch 00008: val_loss did not improve from 0.03656\n",
      "\n",
      "Epoch 00009: val_loss did not improve from 0.03656\n",
      "\n",
      "Epoch 00010: val_loss did not improve from 0.03656\n",
      "\n",
      "Epoch 00001: val_loss improved from inf to 0.05967, saving model to best-model-conll.hdfs\n",
      "\n",
      "Epoch 00002: val_loss improved from 0.05967 to 0.05631, saving model to best-model-conll.hdfs\n",
      "\n",
      "Epoch 00003: val_loss did not improve from 0.05631\n",
      "\n",
      "Epoch 00004: val_loss did not improve from 0.05631\n",
      "\n",
      "Epoch 00005: val_loss did not improve from 0.05631\n",
      "\n",
      "Epoch 00006: val_loss did not improve from 0.05631\n",
      "\n",
      "Epoch 00007: val_loss did not improve from 0.05631\n",
      "\n",
      "Epoch 00008: val_loss did not improve from 0.05631\n",
      "\n",
      "Epoch 00009: val_loss did not improve from 0.05631\n",
      "\n",
      "Epoch 00010: val_loss did not improve from 0.05631\n",
      "\n",
      "Epoch 00001: val_loss improved from inf to 0.08810, saving model to best-model-conll.hdfs\n",
      "\n",
      "Epoch 00002: val_loss improved from 0.08810 to 0.07714, saving model to best-model-conll.hdfs\n",
      "\n",
      "Epoch 00003: val_loss did not improve from 0.07714\n",
      "\n",
      "Epoch 00004: val_loss did not improve from 0.07714\n",
      "\n",
      "Epoch 00005: val_loss did not improve from 0.07714\n",
      "\n",
      "Epoch 00006: val_loss did not improve from 0.07714\n",
      "\n",
      "Epoch 00007: val_loss did not improve from 0.07714\n",
      "\n",
      "Epoch 00008: val_loss did not improve from 0.07714\n",
      "\n",
      "Epoch 00009: val_loss did not improve from 0.07714\n",
      "\n",
      "Epoch 00010: val_loss did not improve from 0.07714\n"
     ]
    },
    {
     "name": "stderr",
     "output_type": "stream",
     "text": [
      "/usr/local/share/miniconda3/envs/ner-projection/lib/python3.7/site-packages/ipykernel_launcher.py:17: RuntimeWarning: invalid value encountered in double_scalars\n"
     ]
    },
    {
     "name": "stdout",
     "output_type": "stream",
     "text": [
      "\n",
      "Epoch 00001: val_loss improved from inf to 0.08590, saving model to best-model-conll.hdfs\n",
      "\n",
      "Epoch 00002: val_loss did not improve from 0.08590\n",
      "\n",
      "Epoch 00003: val_loss did not improve from 0.08590\n",
      "\n",
      "Epoch 00004: val_loss did not improve from 0.08590\n",
      "\n",
      "Epoch 00005: val_loss did not improve from 0.08590\n",
      "\n",
      "Epoch 00006: val_loss did not improve from 0.08590\n",
      "\n",
      "Epoch 00007: val_loss did not improve from 0.08590\n",
      "\n",
      "Epoch 00008: val_loss did not improve from 0.08590\n",
      "\n",
      "Epoch 00009: val_loss did not improve from 0.08590\n",
      "\n",
      "Epoch 00010: val_loss did not improve from 0.08590\n"
     ]
    },
    {
     "name": "stderr",
     "output_type": "stream",
     "text": [
      "/usr/local/share/miniconda3/envs/ner-projection/lib/python3.7/site-packages/ipykernel_launcher.py:17: RuntimeWarning: invalid value encountered in double_scalars\n"
     ]
    },
    {
     "name": "stdout",
     "output_type": "stream",
     "text": [
      "\n",
      "Epoch 00001: val_loss improved from inf to 0.05427, saving model to best-model-conll.hdfs\n",
      "\n",
      "Epoch 00002: val_loss did not improve from 0.05427\n",
      "\n",
      "Epoch 00003: val_loss did not improve from 0.05427\n",
      "\n",
      "Epoch 00004: val_loss did not improve from 0.05427\n",
      "\n",
      "Epoch 00005: val_loss did not improve from 0.05427\n",
      "\n",
      "Epoch 00006: val_loss did not improve from 0.05427\n",
      "\n",
      "Epoch 00007: val_loss did not improve from 0.05427\n",
      "\n",
      "Epoch 00008: val_loss did not improve from 0.05427\n",
      "\n",
      "Epoch 00009: val_loss did not improve from 0.05427\n",
      "\n",
      "Epoch 00010: val_loss did not improve from 0.05427\n"
     ]
    },
    {
     "name": "stderr",
     "output_type": "stream",
     "text": [
      "/usr/local/share/miniconda3/envs/ner-projection/lib/python3.7/site-packages/ipykernel_launcher.py:17: RuntimeWarning: invalid value encountered in double_scalars\n"
     ]
    },
    {
     "name": "stdout",
     "output_type": "stream",
     "text": [
      "\n",
      "Epoch 00001: val_loss improved from inf to 0.07042, saving model to best-model-conll.hdfs\n",
      "\n",
      "Epoch 00002: val_loss did not improve from 0.07042\n",
      "\n",
      "Epoch 00003: val_loss did not improve from 0.07042\n",
      "\n",
      "Epoch 00004: val_loss did not improve from 0.07042\n",
      "\n",
      "Epoch 00005: val_loss did not improve from 0.07042\n",
      "\n",
      "Epoch 00006: val_loss did not improve from 0.07042\n",
      "\n",
      "Epoch 00007: val_loss did not improve from 0.07042\n",
      "\n",
      "Epoch 00008: val_loss did not improve from 0.07042\n",
      "\n",
      "Epoch 00009: val_loss did not improve from 0.07042\n",
      "\n",
      "Epoch 00010: val_loss did not improve from 0.07042\n"
     ]
    },
    {
     "name": "stderr",
     "output_type": "stream",
     "text": [
      "/usr/local/share/miniconda3/envs/ner-projection/lib/python3.7/site-packages/ipykernel_launcher.py:17: RuntimeWarning: invalid value encountered in double_scalars\n"
     ]
    },
    {
     "name": "stdout",
     "output_type": "stream",
     "text": [
      "\n",
      "Epoch 00001: val_loss improved from inf to 0.04610, saving model to best-model-conll.hdfs\n",
      "\n",
      "Epoch 00002: val_loss did not improve from 0.04610\n",
      "\n",
      "Epoch 00003: val_loss did not improve from 0.04610\n",
      "\n",
      "Epoch 00004: val_loss did not improve from 0.04610\n",
      "\n",
      "Epoch 00005: val_loss did not improve from 0.04610\n",
      "\n",
      "Epoch 00006: val_loss did not improve from 0.04610\n",
      "\n",
      "Epoch 00007: val_loss did not improve from 0.04610\n",
      "\n",
      "Epoch 00008: val_loss did not improve from 0.04610\n",
      "\n",
      "Epoch 00009: val_loss did not improve from 0.04610\n",
      "\n",
      "Epoch 00010: val_loss did not improve from 0.04610\n",
      "\n",
      "Epoch 00001: val_loss improved from inf to 0.06485, saving model to best-model-conll.hdfs\n",
      "\n",
      "Epoch 00002: val_loss did not improve from 0.06485\n",
      "\n",
      "Epoch 00003: val_loss did not improve from 0.06485\n",
      "\n",
      "Epoch 00004: val_loss did not improve from 0.06485\n",
      "\n",
      "Epoch 00005: val_loss did not improve from 0.06485\n",
      "\n",
      "Epoch 00006: val_loss did not improve from 0.06485\n",
      "\n",
      "Epoch 00007: val_loss did not improve from 0.06485\n",
      "\n",
      "Epoch 00008: val_loss did not improve from 0.06485\n",
      "\n",
      "Epoch 00009: val_loss did not improve from 0.06485\n",
      "\n",
      "Epoch 00010: val_loss did not improve from 0.06485\n"
     ]
    },
    {
     "name": "stderr",
     "output_type": "stream",
     "text": [
      "/usr/local/share/miniconda3/envs/ner-projection/lib/python3.7/site-packages/ipykernel_launcher.py:17: RuntimeWarning: invalid value encountered in double_scalars\n"
     ]
    },
    {
     "name": "stdout",
     "output_type": "stream",
     "text": [
      "\n",
      "Epoch 00001: val_loss improved from inf to 0.07308, saving model to best-model-conll.hdfs\n",
      "\n",
      "Epoch 00002: val_loss did not improve from 0.07308\n",
      "\n",
      "Epoch 00003: val_loss did not improve from 0.07308\n",
      "\n",
      "Epoch 00004: val_loss did not improve from 0.07308\n",
      "\n",
      "Epoch 00005: val_loss did not improve from 0.07308\n",
      "\n",
      "Epoch 00006: val_loss did not improve from 0.07308\n",
      "\n",
      "Epoch 00007: val_loss did not improve from 0.07308\n",
      "\n",
      "Epoch 00008: val_loss did not improve from 0.07308\n",
      "\n",
      "Epoch 00009: val_loss did not improve from 0.07308\n",
      "\n",
      "Epoch 00010: val_loss did not improve from 0.07308\n"
     ]
    },
    {
     "name": "stderr",
     "output_type": "stream",
     "text": [
      "/usr/local/share/miniconda3/envs/ner-projection/lib/python3.7/site-packages/ipykernel_launcher.py:17: RuntimeWarning: invalid value encountered in double_scalars\n"
     ]
    },
    {
     "name": "stdout",
     "output_type": "stream",
     "text": [
      "AlgoCrossValIter - 8\n",
      "Model: \"sequential_9\"\n",
      "_________________________________________________________________\n",
      "Layer (type)                 Output Shape              Param #   \n",
      "=================================================================\n",
      "hidden1 (Dense)              (None, 640)               135040    \n",
      "_________________________________________________________________\n",
      "hidden2 (Dense)              (None, 160)               102560    \n",
      "_________________________________________________________________\n",
      "outputlayer (Dense)          (None, 5)                 805       \n",
      "=================================================================\n",
      "Total params: 238,405\n",
      "Trainable params: 238,405\n",
      "Non-trainable params: 0\n",
      "_________________________________________________________________\n",
      "\n",
      "Epoch 00001: val_loss improved from inf to 0.48981, saving model to best-model-conll.hdfs\n",
      "\n",
      "Epoch 00002: val_loss did not improve from 0.48981\n",
      "\n",
      "Epoch 00003: val_loss did not improve from 0.48981\n",
      "\n",
      "Epoch 00004: val_loss did not improve from 0.48981\n",
      "\n",
      "Epoch 00005: val_loss did not improve from 0.48981\n",
      "\n",
      "Epoch 00006: val_loss did not improve from 0.48981\n",
      "\n",
      "Epoch 00007: val_loss did not improve from 0.48981\n",
      "\n",
      "Epoch 00008: val_loss did not improve from 0.48981\n",
      "\n",
      "Epoch 00009: val_loss did not improve from 0.48981\n",
      "\n",
      "Epoch 00010: val_loss did not improve from 0.48981\n",
      "number of correct positive predictions is 0\n",
      "number of correct positive predictions is 0\n",
      "number of correct positive predictions is 0\n",
      "\n",
      "Epoch 00001: val_loss improved from inf to 0.04634, saving model to best-model-conll.hdfs\n"
     ]
    },
    {
     "name": "stderr",
     "output_type": "stream",
     "text": [
      "/usr/local/share/miniconda3/envs/ner-projection/lib/python3.7/site-packages/ipykernel_launcher.py:18: RuntimeWarning: invalid value encountered in double_scalars\n",
      "/usr/local/share/miniconda3/envs/ner-projection/lib/python3.7/site-packages/ipykernel_launcher.py:17: RuntimeWarning: invalid value encountered in double_scalars\n"
     ]
    },
    {
     "name": "stdout",
     "output_type": "stream",
     "text": [
      "\n",
      "Epoch 00002: val_loss improved from 0.04634 to 0.04445, saving model to best-model-conll.hdfs\n",
      "\n",
      "Epoch 00003: val_loss did not improve from 0.04445\n",
      "\n",
      "Epoch 00004: val_loss did not improve from 0.04445\n",
      "\n",
      "Epoch 00005: val_loss did not improve from 0.04445\n",
      "\n",
      "Epoch 00006: val_loss did not improve from 0.04445\n",
      "\n",
      "Epoch 00007: val_loss did not improve from 0.04445\n",
      "\n",
      "Epoch 00008: val_loss did not improve from 0.04445\n",
      "\n",
      "Epoch 00009: val_loss did not improve from 0.04445\n",
      "\n",
      "Epoch 00010: val_loss did not improve from 0.04445\n"
     ]
    },
    {
     "name": "stderr",
     "output_type": "stream",
     "text": [
      "/usr/local/share/miniconda3/envs/ner-projection/lib/python3.7/site-packages/ipykernel_launcher.py:17: RuntimeWarning: invalid value encountered in double_scalars\n"
     ]
    },
    {
     "name": "stdout",
     "output_type": "stream",
     "text": [
      "\n",
      "Epoch 00001: val_loss improved from inf to 0.11530, saving model to best-model-conll.hdfs\n",
      "\n",
      "Epoch 00002: val_loss improved from 0.11530 to 0.08016, saving model to best-model-conll.hdfs\n",
      "\n",
      "Epoch 00003: val_loss did not improve from 0.08016\n",
      "\n",
      "Epoch 00004: val_loss did not improve from 0.08016\n",
      "\n",
      "Epoch 00005: val_loss did not improve from 0.08016\n",
      "\n",
      "Epoch 00006: val_loss did not improve from 0.08016\n",
      "\n",
      "Epoch 00007: val_loss did not improve from 0.08016\n",
      "\n",
      "Epoch 00008: val_loss did not improve from 0.08016\n",
      "\n",
      "Epoch 00009: val_loss did not improve from 0.08016\n",
      "\n",
      "Epoch 00010: val_loss did not improve from 0.08016\n",
      "\n",
      "Epoch 00001: val_loss improved from inf to 0.07248, saving model to best-model-conll.hdfs\n",
      "\n",
      "Epoch 00002: val_loss improved from 0.07248 to 0.07220, saving model to best-model-conll.hdfs\n",
      "\n",
      "Epoch 00003: val_loss did not improve from 0.07220\n",
      "\n",
      "Epoch 00004: val_loss did not improve from 0.07220\n",
      "\n",
      "Epoch 00005: val_loss did not improve from 0.07220\n",
      "\n",
      "Epoch 00006: val_loss did not improve from 0.07220\n",
      "\n",
      "Epoch 00007: val_loss did not improve from 0.07220\n",
      "\n",
      "Epoch 00008: val_loss did not improve from 0.07220\n",
      "\n",
      "Epoch 00009: val_loss did not improve from 0.07220\n",
      "\n",
      "Epoch 00010: val_loss did not improve from 0.07220\n"
     ]
    },
    {
     "name": "stderr",
     "output_type": "stream",
     "text": [
      "/usr/local/share/miniconda3/envs/ner-projection/lib/python3.7/site-packages/ipykernel_launcher.py:17: RuntimeWarning: invalid value encountered in double_scalars\n"
     ]
    },
    {
     "name": "stdout",
     "output_type": "stream",
     "text": [
      "\n",
      "Epoch 00001: val_loss improved from inf to 0.10192, saving model to best-model-conll.hdfs\n",
      "\n",
      "Epoch 00002: val_loss improved from 0.10192 to 0.09523, saving model to best-model-conll.hdfs\n",
      "\n",
      "Epoch 00003: val_loss did not improve from 0.09523\n",
      "\n",
      "Epoch 00004: val_loss did not improve from 0.09523\n",
      "\n",
      "Epoch 00005: val_loss did not improve from 0.09523\n",
      "\n",
      "Epoch 00006: val_loss did not improve from 0.09523\n",
      "\n",
      "Epoch 00007: val_loss did not improve from 0.09523\n",
      "\n",
      "Epoch 00008: val_loss did not improve from 0.09523\n",
      "\n",
      "Epoch 00009: val_loss did not improve from 0.09523\n",
      "\n",
      "Epoch 00010: val_loss did not improve from 0.09523\n",
      "\n",
      "Epoch 00001: val_loss improved from inf to 0.06503, saving model to best-model-conll.hdfs\n",
      "\n",
      "Epoch 00002: val_loss did not improve from 0.06503\n",
      "\n",
      "Epoch 00003: val_loss did not improve from 0.06503\n",
      "\n",
      "Epoch 00004: val_loss did not improve from 0.06503\n",
      "\n",
      "Epoch 00005: val_loss did not improve from 0.06503\n",
      "\n",
      "Epoch 00006: val_loss did not improve from 0.06503\n",
      "\n",
      "Epoch 00007: val_loss improved from 0.06503 to 0.06020, saving model to best-model-conll.hdfs\n",
      "\n",
      "Epoch 00008: val_loss did not improve from 0.06020\n",
      "\n",
      "Epoch 00009: val_loss did not improve from 0.06020\n",
      "\n",
      "Epoch 00010: val_loss did not improve from 0.06020\n"
     ]
    },
    {
     "name": "stderr",
     "output_type": "stream",
     "text": [
      "/usr/local/share/miniconda3/envs/ner-projection/lib/python3.7/site-packages/ipykernel_launcher.py:17: RuntimeWarning: invalid value encountered in double_scalars\n"
     ]
    },
    {
     "name": "stdout",
     "output_type": "stream",
     "text": [
      "\n",
      "Epoch 00001: val_loss improved from inf to 0.07048, saving model to best-model-conll.hdfs\n",
      "\n",
      "Epoch 00002: val_loss did not improve from 0.07048\n",
      "\n",
      "Epoch 00003: val_loss did not improve from 0.07048\n",
      "\n",
      "Epoch 00004: val_loss did not improve from 0.07048\n",
      "\n",
      "Epoch 00005: val_loss did not improve from 0.07048\n",
      "\n",
      "Epoch 00006: val_loss did not improve from 0.07048\n",
      "\n",
      "Epoch 00007: val_loss did not improve from 0.07048\n",
      "\n",
      "Epoch 00008: val_loss did not improve from 0.07048\n",
      "\n",
      "Epoch 00009: val_loss did not improve from 0.07048\n",
      "\n",
      "Epoch 00010: val_loss did not improve from 0.07048\n"
     ]
    },
    {
     "name": "stderr",
     "output_type": "stream",
     "text": [
      "/usr/local/share/miniconda3/envs/ner-projection/lib/python3.7/site-packages/ipykernel_launcher.py:17: RuntimeWarning: invalid value encountered in double_scalars\n"
     ]
    },
    {
     "name": "stdout",
     "output_type": "stream",
     "text": [
      "\n",
      "Epoch 00001: val_loss improved from inf to 0.04952, saving model to best-model-conll.hdfs\n",
      "\n",
      "Epoch 00002: val_loss did not improve from 0.04952\n",
      "\n",
      "Epoch 00003: val_loss did not improve from 0.04952\n",
      "\n",
      "Epoch 00004: val_loss did not improve from 0.04952\n",
      "\n",
      "Epoch 00005: val_loss did not improve from 0.04952\n",
      "\n",
      "Epoch 00006: val_loss did not improve from 0.04952\n",
      "\n",
      "Epoch 00007: val_loss did not improve from 0.04952\n",
      "\n",
      "Epoch 00008: val_loss did not improve from 0.04952\n",
      "\n",
      "Epoch 00009: val_loss did not improve from 0.04952\n",
      "\n",
      "Epoch 00010: val_loss did not improve from 0.04952\n",
      "\n",
      "Epoch 00001: val_loss improved from inf to 0.06483, saving model to best-model-conll.hdfs\n",
      "\n",
      "Epoch 00002: val_loss did not improve from 0.06483\n",
      "\n",
      "Epoch 00003: val_loss did not improve from 0.06483\n",
      "\n",
      "Epoch 00004: val_loss did not improve from 0.06483\n",
      "\n",
      "Epoch 00005: val_loss did not improve from 0.06483\n",
      "\n",
      "Epoch 00006: val_loss did not improve from 0.06483\n",
      "\n",
      "Epoch 00007: val_loss did not improve from 0.06483\n",
      "\n",
      "Epoch 00008: val_loss did not improve from 0.06483\n",
      "\n",
      "Epoch 00009: val_loss did not improve from 0.06483\n",
      "\n",
      "Epoch 00010: val_loss did not improve from 0.06483\n"
     ]
    },
    {
     "name": "stderr",
     "output_type": "stream",
     "text": [
      "/usr/local/share/miniconda3/envs/ner-projection/lib/python3.7/site-packages/ipykernel_launcher.py:17: RuntimeWarning: invalid value encountered in double_scalars\n"
     ]
    },
    {
     "name": "stdout",
     "output_type": "stream",
     "text": [
      "\n",
      "Epoch 00001: val_loss improved from inf to 0.07382, saving model to best-model-conll.hdfs\n",
      "\n",
      "Epoch 00002: val_loss did not improve from 0.07382\n",
      "\n",
      "Epoch 00003: val_loss did not improve from 0.07382\n",
      "\n",
      "Epoch 00004: val_loss did not improve from 0.07382\n",
      "\n",
      "Epoch 00005: val_loss did not improve from 0.07382\n",
      "\n",
      "Epoch 00006: val_loss did not improve from 0.07382\n",
      "\n",
      "Epoch 00007: val_loss did not improve from 0.07382\n",
      "\n",
      "Epoch 00008: val_loss did not improve from 0.07382\n",
      "\n",
      "Epoch 00009: val_loss did not improve from 0.07382\n",
      "\n",
      "Epoch 00010: val_loss did not improve from 0.07382\n"
     ]
    },
    {
     "name": "stderr",
     "output_type": "stream",
     "text": [
      "/usr/local/share/miniconda3/envs/ner-projection/lib/python3.7/site-packages/ipykernel_launcher.py:17: RuntimeWarning: invalid value encountered in double_scalars\n"
     ]
    },
    {
     "name": "stdout",
     "output_type": "stream",
     "text": [
      "AlgoCrossValIter - 9\n",
      "Model: \"sequential_10\"\n",
      "_________________________________________________________________\n",
      "Layer (type)                 Output Shape              Param #   \n",
      "=================================================================\n",
      "hidden1 (Dense)              (None, 640)               135040    \n",
      "_________________________________________________________________\n",
      "hidden2 (Dense)              (None, 160)               102560    \n",
      "_________________________________________________________________\n",
      "outputlayer (Dense)          (None, 5)                 805       \n",
      "=================================================================\n",
      "Total params: 238,405\n",
      "Trainable params: 238,405\n",
      "Non-trainable params: 0\n",
      "_________________________________________________________________\n",
      "\n",
      "Epoch 00001: val_loss improved from inf to 0.48041, saving model to best-model-conll.hdfs\n",
      "\n",
      "Epoch 00002: val_loss did not improve from 0.48041\n",
      "\n",
      "Epoch 00003: val_loss did not improve from 0.48041\n",
      "\n",
      "Epoch 00004: val_loss did not improve from 0.48041\n",
      "\n",
      "Epoch 00005: val_loss did not improve from 0.48041\n",
      "\n",
      "Epoch 00006: val_loss did not improve from 0.48041\n",
      "\n",
      "Epoch 00007: val_loss did not improve from 0.48041\n",
      "\n",
      "Epoch 00008: val_loss did not improve from 0.48041\n",
      "\n",
      "Epoch 00009: val_loss did not improve from 0.48041\n",
      "\n",
      "Epoch 00010: val_loss did not improve from 0.48041\n",
      "number of correct positive predictions is 0\n",
      "number of correct positive predictions is 0\n",
      "number of correct positive predictions is 0\n",
      "\n",
      "Epoch 00001: val_loss improved from inf to 0.04422, saving model to best-model-conll.hdfs\n"
     ]
    },
    {
     "name": "stderr",
     "output_type": "stream",
     "text": [
      "/usr/local/share/miniconda3/envs/ner-projection/lib/python3.7/site-packages/ipykernel_launcher.py:18: RuntimeWarning: invalid value encountered in double_scalars\n",
      "/usr/local/share/miniconda3/envs/ner-projection/lib/python3.7/site-packages/ipykernel_launcher.py:17: RuntimeWarning: invalid value encountered in double_scalars\n"
     ]
    },
    {
     "name": "stdout",
     "output_type": "stream",
     "text": [
      "\n",
      "Epoch 00002: val_loss did not improve from 0.04422\n",
      "\n",
      "Epoch 00003: val_loss did not improve from 0.04422\n",
      "\n",
      "Epoch 00004: val_loss did not improve from 0.04422\n",
      "\n",
      "Epoch 00005: val_loss did not improve from 0.04422\n",
      "\n",
      "Epoch 00006: val_loss did not improve from 0.04422\n",
      "\n",
      "Epoch 00007: val_loss did not improve from 0.04422\n",
      "\n",
      "Epoch 00008: val_loss did not improve from 0.04422\n",
      "\n",
      "Epoch 00009: val_loss did not improve from 0.04422\n",
      "\n",
      "Epoch 00010: val_loss did not improve from 0.04422\n"
     ]
    },
    {
     "name": "stderr",
     "output_type": "stream",
     "text": [
      "/usr/local/share/miniconda3/envs/ner-projection/lib/python3.7/site-packages/ipykernel_launcher.py:17: RuntimeWarning: invalid value encountered in double_scalars\n"
     ]
    },
    {
     "name": "stdout",
     "output_type": "stream",
     "text": [
      "\n",
      "Epoch 00001: val_loss improved from inf to 0.07546, saving model to best-model-conll.hdfs\n",
      "\n",
      "Epoch 00002: val_loss did not improve from 0.07546\n",
      "\n",
      "Epoch 00003: val_loss did not improve from 0.07546\n",
      "\n",
      "Epoch 00004: val_loss did not improve from 0.07546\n",
      "\n",
      "Epoch 00005: val_loss did not improve from 0.07546\n",
      "\n",
      "Epoch 00006: val_loss did not improve from 0.07546\n",
      "\n",
      "Epoch 00007: val_loss did not improve from 0.07546\n",
      "\n",
      "Epoch 00008: val_loss did not improve from 0.07546\n",
      "\n",
      "Epoch 00009: val_loss did not improve from 0.07546\n",
      "\n",
      "Epoch 00010: val_loss did not improve from 0.07546\n"
     ]
    },
    {
     "name": "stderr",
     "output_type": "stream",
     "text": [
      "/usr/local/share/miniconda3/envs/ner-projection/lib/python3.7/site-packages/ipykernel_launcher.py:17: RuntimeWarning: invalid value encountered in double_scalars\n"
     ]
    },
    {
     "name": "stdout",
     "output_type": "stream",
     "text": [
      "\n",
      "Epoch 00001: val_loss improved from inf to 0.06340, saving model to best-model-conll.hdfs\n",
      "\n",
      "Epoch 00002: val_loss did not improve from 0.06340\n",
      "\n",
      "Epoch 00003: val_loss did not improve from 0.06340\n",
      "\n",
      "Epoch 00004: val_loss did not improve from 0.06340\n",
      "\n",
      "Epoch 00005: val_loss did not improve from 0.06340\n",
      "\n",
      "Epoch 00006: val_loss did not improve from 0.06340\n",
      "\n",
      "Epoch 00007: val_loss did not improve from 0.06340\n",
      "\n",
      "Epoch 00008: val_loss did not improve from 0.06340\n",
      "\n",
      "Epoch 00009: val_loss did not improve from 0.06340\n",
      "\n",
      "Epoch 00010: val_loss did not improve from 0.06340\n"
     ]
    },
    {
     "name": "stderr",
     "output_type": "stream",
     "text": [
      "/usr/local/share/miniconda3/envs/ner-projection/lib/python3.7/site-packages/ipykernel_launcher.py:17: RuntimeWarning: invalid value encountered in double_scalars\n"
     ]
    },
    {
     "name": "stdout",
     "output_type": "stream",
     "text": [
      "\n",
      "Epoch 00001: val_loss improved from inf to 0.09359, saving model to best-model-conll.hdfs\n",
      "\n",
      "Epoch 00002: val_loss did not improve from 0.09359\n",
      "\n",
      "Epoch 00003: val_loss did not improve from 0.09359\n",
      "\n",
      "Epoch 00004: val_loss did not improve from 0.09359\n",
      "\n",
      "Epoch 00005: val_loss did not improve from 0.09359\n",
      "\n",
      "Epoch 00006: val_loss did not improve from 0.09359\n",
      "\n",
      "Epoch 00007: val_loss did not improve from 0.09359\n",
      "\n",
      "Epoch 00008: val_loss did not improve from 0.09359\n",
      "\n",
      "Epoch 00009: val_loss did not improve from 0.09359\n",
      "\n",
      "Epoch 00010: val_loss did not improve from 0.09359\n"
     ]
    },
    {
     "name": "stderr",
     "output_type": "stream",
     "text": [
      "/usr/local/share/miniconda3/envs/ner-projection/lib/python3.7/site-packages/ipykernel_launcher.py:17: RuntimeWarning: invalid value encountered in double_scalars\n"
     ]
    },
    {
     "name": "stdout",
     "output_type": "stream",
     "text": [
      "\n",
      "Epoch 00001: val_loss improved from inf to 0.05883, saving model to best-model-conll.hdfs\n",
      "\n",
      "Epoch 00002: val_loss did not improve from 0.05883\n",
      "\n",
      "Epoch 00003: val_loss improved from 0.05883 to 0.05221, saving model to best-model-conll.hdfs\n",
      "\n",
      "Epoch 00004: val_loss did not improve from 0.05221\n",
      "\n",
      "Epoch 00005: val_loss did not improve from 0.05221\n",
      "\n",
      "Epoch 00006: val_loss did not improve from 0.05221\n",
      "\n",
      "Epoch 00007: val_loss did not improve from 0.05221\n",
      "\n",
      "Epoch 00008: val_loss did not improve from 0.05221\n",
      "\n",
      "Epoch 00009: val_loss did not improve from 0.05221\n",
      "\n",
      "Epoch 00010: val_loss did not improve from 0.05221\n"
     ]
    },
    {
     "name": "stderr",
     "output_type": "stream",
     "text": [
      "/usr/local/share/miniconda3/envs/ner-projection/lib/python3.7/site-packages/ipykernel_launcher.py:17: RuntimeWarning: invalid value encountered in double_scalars\n"
     ]
    },
    {
     "name": "stdout",
     "output_type": "stream",
     "text": [
      "\n",
      "Epoch 00001: val_loss improved from inf to 0.07135, saving model to best-model-conll.hdfs\n",
      "\n",
      "Epoch 00002: val_loss improved from 0.07135 to 0.06394, saving model to best-model-conll.hdfs\n",
      "\n",
      "Epoch 00003: val_loss did not improve from 0.06394\n",
      "\n",
      "Epoch 00004: val_loss did not improve from 0.06394\n",
      "\n",
      "Epoch 00005: val_loss did not improve from 0.06394\n",
      "\n",
      "Epoch 00006: val_loss did not improve from 0.06394\n",
      "\n",
      "Epoch 00007: val_loss did not improve from 0.06394\n",
      "\n",
      "Epoch 00008: val_loss did not improve from 0.06394\n",
      "\n",
      "Epoch 00009: val_loss did not improve from 0.06394\n",
      "\n",
      "Epoch 00010: val_loss did not improve from 0.06394\n"
     ]
    },
    {
     "name": "stderr",
     "output_type": "stream",
     "text": [
      "/usr/local/share/miniconda3/envs/ner-projection/lib/python3.7/site-packages/ipykernel_launcher.py:17: RuntimeWarning: invalid value encountered in double_scalars\n"
     ]
    },
    {
     "name": "stdout",
     "output_type": "stream",
     "text": [
      "\n",
      "Epoch 00001: val_loss improved from inf to 0.04817, saving model to best-model-conll.hdfs\n",
      "\n",
      "Epoch 00002: val_loss did not improve from 0.04817\n",
      "\n",
      "Epoch 00003: val_loss did not improve from 0.04817\n",
      "\n",
      "Epoch 00004: val_loss did not improve from 0.04817\n",
      "\n",
      "Epoch 00005: val_loss did not improve from 0.04817\n",
      "\n",
      "Epoch 00006: val_loss did not improve from 0.04817\n",
      "\n",
      "Epoch 00007: val_loss did not improve from 0.04817\n",
      "\n",
      "Epoch 00008: val_loss did not improve from 0.04817\n",
      "\n",
      "Epoch 00009: val_loss did not improve from 0.04817\n",
      "\n",
      "Epoch 00010: val_loss did not improve from 0.04817\n",
      "\n",
      "Epoch 00001: val_loss improved from inf to 0.05794, saving model to best-model-conll.hdfs\n",
      "\n",
      "Epoch 00002: val_loss did not improve from 0.05794\n",
      "\n",
      "Epoch 00003: val_loss did not improve from 0.05794\n",
      "\n",
      "Epoch 00004: val_loss did not improve from 0.05794\n",
      "\n",
      "Epoch 00005: val_loss did not improve from 0.05794\n",
      "\n",
      "Epoch 00006: val_loss did not improve from 0.05794\n",
      "\n",
      "Epoch 00007: val_loss did not improve from 0.05794\n",
      "\n",
      "Epoch 00008: val_loss did not improve from 0.05794\n",
      "\n",
      "Epoch 00009: val_loss did not improve from 0.05794\n",
      "\n",
      "Epoch 00010: val_loss did not improve from 0.05794\n"
     ]
    },
    {
     "name": "stderr",
     "output_type": "stream",
     "text": [
      "/usr/local/share/miniconda3/envs/ner-projection/lib/python3.7/site-packages/ipykernel_launcher.py:17: RuntimeWarning: invalid value encountered in double_scalars\n"
     ]
    },
    {
     "name": "stdout",
     "output_type": "stream",
     "text": [
      "\n",
      "Epoch 00001: val_loss improved from inf to 0.07854, saving model to best-model-conll.hdfs\n",
      "\n",
      "Epoch 00002: val_loss did not improve from 0.07854\n",
      "\n",
      "Epoch 00003: val_loss did not improve from 0.07854\n",
      "\n",
      "Epoch 00004: val_loss did not improve from 0.07854\n",
      "\n",
      "Epoch 00005: val_loss did not improve from 0.07854\n",
      "\n",
      "Epoch 00006: val_loss did not improve from 0.07854\n",
      "\n",
      "Epoch 00007: val_loss did not improve from 0.07854\n",
      "\n",
      "Epoch 00008: val_loss did not improve from 0.07854\n",
      "\n",
      "Epoch 00009: val_loss did not improve from 0.07854\n",
      "\n",
      "Epoch 00010: val_loss did not improve from 0.07854\n"
     ]
    },
    {
     "name": "stderr",
     "output_type": "stream",
     "text": [
      "/usr/local/share/miniconda3/envs/ner-projection/lib/python3.7/site-packages/ipykernel_launcher.py:17: RuntimeWarning: invalid value encountered in double_scalars\n"
     ]
    },
    {
     "name": "stdout",
     "output_type": "stream",
     "text": [
      "AlgoCrossValIter - 10\n",
      "Model: \"sequential_11\"\n",
      "_________________________________________________________________\n",
      "Layer (type)                 Output Shape              Param #   \n",
      "=================================================================\n",
      "hidden1 (Dense)              (None, 640)               135040    \n",
      "_________________________________________________________________\n",
      "hidden2 (Dense)              (None, 160)               102560    \n",
      "_________________________________________________________________\n",
      "outputlayer (Dense)          (None, 5)                 805       \n",
      "=================================================================\n",
      "Total params: 238,405\n",
      "Trainable params: 238,405\n",
      "Non-trainable params: 0\n",
      "_________________________________________________________________\n",
      "\n",
      "Epoch 00001: val_loss improved from inf to 0.47409, saving model to best-model-conll.hdfs\n",
      "\n",
      "Epoch 00002: val_loss did not improve from 0.47409\n",
      "\n",
      "Epoch 00003: val_loss did not improve from 0.47409\n",
      "\n",
      "Epoch 00004: val_loss did not improve from 0.47409\n",
      "\n",
      "Epoch 00005: val_loss did not improve from 0.47409\n",
      "\n",
      "Epoch 00006: val_loss did not improve from 0.47409\n",
      "\n",
      "Epoch 00007: val_loss did not improve from 0.47409\n",
      "\n",
      "Epoch 00008: val_loss did not improve from 0.47409\n",
      "\n",
      "Epoch 00009: val_loss did not improve from 0.47409\n",
      "\n",
      "Epoch 00010: val_loss did not improve from 0.47409\n",
      "number of correct positive predictions is 0\n",
      "number of correct positive predictions is 0\n",
      "number of correct positive predictions is 0\n"
     ]
    },
    {
     "name": "stderr",
     "output_type": "stream",
     "text": [
      "/usr/local/share/miniconda3/envs/ner-projection/lib/python3.7/site-packages/ipykernel_launcher.py:18: RuntimeWarning: invalid value encountered in double_scalars\n",
      "/usr/local/share/miniconda3/envs/ner-projection/lib/python3.7/site-packages/ipykernel_launcher.py:17: RuntimeWarning: invalid value encountered in double_scalars\n"
     ]
    },
    {
     "name": "stdout",
     "output_type": "stream",
     "text": [
      "\n",
      "Epoch 00001: val_loss improved from inf to 0.03713, saving model to best-model-conll.hdfs\n",
      "\n",
      "Epoch 00002: val_loss did not improve from 0.03713\n",
      "\n",
      "Epoch 00003: val_loss did not improve from 0.03713\n",
      "\n",
      "Epoch 00004: val_loss did not improve from 0.03713\n",
      "\n",
      "Epoch 00005: val_loss did not improve from 0.03713\n",
      "\n",
      "Epoch 00006: val_loss did not improve from 0.03713\n",
      "\n",
      "Epoch 00007: val_loss did not improve from 0.03713\n",
      "\n",
      "Epoch 00008: val_loss did not improve from 0.03713\n",
      "\n",
      "Epoch 00009: val_loss did not improve from 0.03713\n",
      "\n",
      "Epoch 00010: val_loss did not improve from 0.03713\n"
     ]
    },
    {
     "name": "stderr",
     "output_type": "stream",
     "text": [
      "/usr/local/share/miniconda3/envs/ner-projection/lib/python3.7/site-packages/ipykernel_launcher.py:17: RuntimeWarning: invalid value encountered in double_scalars\n"
     ]
    },
    {
     "name": "stdout",
     "output_type": "stream",
     "text": [
      "\n",
      "Epoch 00001: val_loss improved from inf to 0.07783, saving model to best-model-conll.hdfs\n",
      "\n",
      "Epoch 00002: val_loss improved from 0.07783 to 0.07658, saving model to best-model-conll.hdfs\n",
      "\n",
      "Epoch 00003: val_loss did not improve from 0.07658\n",
      "\n",
      "Epoch 00004: val_loss did not improve from 0.07658\n",
      "\n",
      "Epoch 00005: val_loss did not improve from 0.07658\n",
      "\n",
      "Epoch 00006: val_loss did not improve from 0.07658\n",
      "\n",
      "Epoch 00007: val_loss did not improve from 0.07658\n",
      "\n",
      "Epoch 00008: val_loss did not improve from 0.07658\n",
      "\n",
      "Epoch 00009: val_loss did not improve from 0.07658\n",
      "\n",
      "Epoch 00010: val_loss did not improve from 0.07658\n",
      "\n",
      "Epoch 00001: val_loss improved from inf to 0.07630, saving model to best-model-conll.hdfs\n",
      "\n",
      "Epoch 00002: val_loss improved from 0.07630 to 0.06665, saving model to best-model-conll.hdfs\n",
      "\n",
      "Epoch 00003: val_loss did not improve from 0.06665\n",
      "\n",
      "Epoch 00004: val_loss did not improve from 0.06665\n",
      "\n",
      "Epoch 00005: val_loss did not improve from 0.06665\n",
      "\n",
      "Epoch 00006: val_loss did not improve from 0.06665\n",
      "\n",
      "Epoch 00007: val_loss did not improve from 0.06665\n",
      "\n",
      "Epoch 00008: val_loss did not improve from 0.06665\n",
      "\n",
      "Epoch 00009: val_loss did not improve from 0.06665\n",
      "\n",
      "Epoch 00010: val_loss did not improve from 0.06665\n"
     ]
    },
    {
     "name": "stderr",
     "output_type": "stream",
     "text": [
      "/usr/local/share/miniconda3/envs/ner-projection/lib/python3.7/site-packages/ipykernel_launcher.py:17: RuntimeWarning: invalid value encountered in double_scalars\n"
     ]
    },
    {
     "name": "stdout",
     "output_type": "stream",
     "text": [
      "\n",
      "Epoch 00001: val_loss improved from inf to 0.08515, saving model to best-model-conll.hdfs\n",
      "\n",
      "Epoch 00002: val_loss did not improve from 0.08515\n",
      "\n",
      "Epoch 00003: val_loss did not improve from 0.08515\n",
      "\n",
      "Epoch 00004: val_loss did not improve from 0.08515\n",
      "\n",
      "Epoch 00005: val_loss did not improve from 0.08515\n",
      "\n",
      "Epoch 00006: val_loss did not improve from 0.08515\n",
      "\n",
      "Epoch 00007: val_loss did not improve from 0.08515\n",
      "\n",
      "Epoch 00008: val_loss did not improve from 0.08515\n",
      "\n",
      "Epoch 00009: val_loss did not improve from 0.08515\n",
      "\n",
      "Epoch 00010: val_loss did not improve from 0.08515\n",
      "\n",
      "Epoch 00001: val_loss improved from inf to 0.06884, saving model to best-model-conll.hdfs\n",
      "\n",
      "Epoch 00002: val_loss improved from 0.06884 to 0.06237, saving model to best-model-conll.hdfs\n",
      "\n",
      "Epoch 00003: val_loss did not improve from 0.06237\n",
      "\n",
      "Epoch 00004: val_loss did not improve from 0.06237\n",
      "\n",
      "Epoch 00005: val_loss did not improve from 0.06237\n",
      "\n",
      "Epoch 00006: val_loss did not improve from 0.06237\n",
      "\n",
      "Epoch 00007: val_loss did not improve from 0.06237\n",
      "\n",
      "Epoch 00008: val_loss did not improve from 0.06237\n",
      "\n",
      "Epoch 00009: val_loss did not improve from 0.06237\n",
      "\n",
      "Epoch 00010: val_loss did not improve from 0.06237\n"
     ]
    },
    {
     "name": "stderr",
     "output_type": "stream",
     "text": [
      "/usr/local/share/miniconda3/envs/ner-projection/lib/python3.7/site-packages/ipykernel_launcher.py:17: RuntimeWarning: invalid value encountered in double_scalars\n"
     ]
    },
    {
     "name": "stdout",
     "output_type": "stream",
     "text": [
      "\n",
      "Epoch 00001: val_loss improved from inf to 0.06188, saving model to best-model-conll.hdfs\n",
      "\n",
      "Epoch 00002: val_loss did not improve from 0.06188\n",
      "\n",
      "Epoch 00003: val_loss did not improve from 0.06188\n",
      "\n",
      "Epoch 00004: val_loss did not improve from 0.06188\n",
      "\n",
      "Epoch 00005: val_loss did not improve from 0.06188\n",
      "\n",
      "Epoch 00006: val_loss did not improve from 0.06188\n",
      "\n",
      "Epoch 00007: val_loss did not improve from 0.06188\n",
      "\n",
      "Epoch 00008: val_loss did not improve from 0.06188\n",
      "\n",
      "Epoch 00009: val_loss did not improve from 0.06188\n",
      "\n",
      "Epoch 00010: val_loss did not improve from 0.06188\n"
     ]
    },
    {
     "name": "stderr",
     "output_type": "stream",
     "text": [
      "/usr/local/share/miniconda3/envs/ner-projection/lib/python3.7/site-packages/ipykernel_launcher.py:17: RuntimeWarning: invalid value encountered in double_scalars\n"
     ]
    },
    {
     "name": "stdout",
     "output_type": "stream",
     "text": [
      "\n",
      "Epoch 00001: val_loss improved from inf to 0.05141, saving model to best-model-conll.hdfs\n",
      "\n",
      "Epoch 00002: val_loss did not improve from 0.05141\n",
      "\n",
      "Epoch 00003: val_loss did not improve from 0.05141\n",
      "\n",
      "Epoch 00004: val_loss did not improve from 0.05141\n",
      "\n",
      "Epoch 00005: val_loss did not improve from 0.05141\n",
      "\n",
      "Epoch 00006: val_loss did not improve from 0.05141\n",
      "\n",
      "Epoch 00007: val_loss did not improve from 0.05141\n",
      "\n",
      "Epoch 00008: val_loss did not improve from 0.05141\n",
      "\n",
      "Epoch 00009: val_loss did not improve from 0.05141\n",
      "\n",
      "Epoch 00010: val_loss did not improve from 0.05141\n",
      "\n",
      "Epoch 00001: val_loss improved from inf to 0.08059, saving model to best-model-conll.hdfs\n",
      "\n",
      "Epoch 00002: val_loss improved from 0.08059 to 0.05677, saving model to best-model-conll.hdfs\n",
      "\n",
      "Epoch 00003: val_loss did not improve from 0.05677\n",
      "\n",
      "Epoch 00004: val_loss did not improve from 0.05677\n",
      "\n",
      "Epoch 00005: val_loss did not improve from 0.05677\n",
      "\n",
      "Epoch 00006: val_loss did not improve from 0.05677\n",
      "\n",
      "Epoch 00007: val_loss did not improve from 0.05677\n",
      "\n",
      "Epoch 00008: val_loss did not improve from 0.05677\n",
      "\n",
      "Epoch 00009: val_loss did not improve from 0.05677\n",
      "\n",
      "Epoch 00010: val_loss did not improve from 0.05677\n"
     ]
    },
    {
     "name": "stderr",
     "output_type": "stream",
     "text": [
      "/usr/local/share/miniconda3/envs/ner-projection/lib/python3.7/site-packages/ipykernel_launcher.py:17: RuntimeWarning: invalid value encountered in double_scalars\n"
     ]
    },
    {
     "name": "stdout",
     "output_type": "stream",
     "text": [
      "\n",
      "Epoch 00001: val_loss improved from inf to 0.06838, saving model to best-model-conll.hdfs\n",
      "\n",
      "Epoch 00002: val_loss did not improve from 0.06838\n",
      "\n",
      "Epoch 00003: val_loss did not improve from 0.06838\n",
      "\n",
      "Epoch 00004: val_loss did not improve from 0.06838\n",
      "\n",
      "Epoch 00005: val_loss did not improve from 0.06838\n",
      "\n",
      "Epoch 00006: val_loss did not improve from 0.06838\n",
      "\n",
      "Epoch 00007: val_loss did not improve from 0.06838\n",
      "\n",
      "Epoch 00008: val_loss did not improve from 0.06838\n",
      "\n",
      "Epoch 00009: val_loss did not improve from 0.06838\n",
      "\n",
      "Epoch 00010: val_loss did not improve from 0.06838\n"
     ]
    },
    {
     "name": "stderr",
     "output_type": "stream",
     "text": [
      "/usr/local/share/miniconda3/envs/ner-projection/lib/python3.7/site-packages/ipykernel_launcher.py:17: RuntimeWarning: invalid value encountered in double_scalars\n"
     ]
    }
   ],
   "source": [
    "resultCrossVal, trainByTagResult, testByTagResult, ewoByTagResult, model = algoCrossVal(X, y, X_ewo, y_ewo, repeat=10)"
   ]
  },
  {
   "cell_type": "code",
   "execution_count": 114,
   "metadata": {},
   "outputs": [],
   "source": [
    "normalization_strategy"
   ]
  },
  {
   "cell_type": "code",
   "execution_count": 115,
   "metadata": {},
   "outputs": [
    {
     "data": {
      "text/html": [
       "<div>\n",
       "<style scoped>\n",
       "    .dataframe tbody tr th:only-of-type {\n",
       "        vertical-align: middle;\n",
       "    }\n",
       "\n",
       "    .dataframe tbody tr th {\n",
       "        vertical-align: top;\n",
       "    }\n",
       "\n",
       "    .dataframe thead th {\n",
       "        text-align: right;\n",
       "    }\n",
       "</style>\n",
       "<table border=\"1\" class=\"dataframe\">\n",
       "  <thead>\n",
       "    <tr style=\"text-align: right;\">\n",
       "      <th></th>\n",
       "      <th>0</th>\n",
       "      <th>0</th>\n",
       "      <th>0</th>\n",
       "      <th>0</th>\n",
       "      <th>0</th>\n",
       "      <th>0</th>\n",
       "      <th>0</th>\n",
       "      <th>0</th>\n",
       "      <th>0</th>\n",
       "      <th>0</th>\n",
       "    </tr>\n",
       "  </thead>\n",
       "  <tbody>\n",
       "    <tr>\n",
       "      <th>P_val</th>\n",
       "      <td>78.655000</td>\n",
       "      <td>77.773</td>\n",
       "      <td>77.111000</td>\n",
       "      <td>79.413</td>\n",
       "      <td>76.201000</td>\n",
       "      <td>79.431000</td>\n",
       "      <td>78.703000</td>\n",
       "      <td>77.750000</td>\n",
       "      <td>76.773000</td>\n",
       "      <td>78.432000</td>\n",
       "    </tr>\n",
       "    <tr>\n",
       "      <th>P_train</th>\n",
       "      <td>78.046000</td>\n",
       "      <td>87.797</td>\n",
       "      <td>78.579000</td>\n",
       "      <td>88.059</td>\n",
       "      <td>86.603000</td>\n",
       "      <td>88.288000</td>\n",
       "      <td>86.157000</td>\n",
       "      <td>78.900000</td>\n",
       "      <td>79.331000</td>\n",
       "      <td>76.908000</td>\n",
       "    </tr>\n",
       "    <tr>\n",
       "      <th>P_ewo</th>\n",
       "      <td>67.155000</td>\n",
       "      <td>76.636</td>\n",
       "      <td>69.506000</td>\n",
       "      <td>74.975</td>\n",
       "      <td>72.125000</td>\n",
       "      <td>75.531000</td>\n",
       "      <td>71.475000</td>\n",
       "      <td>69.731000</td>\n",
       "      <td>70.922000</td>\n",
       "      <td>68.947000</td>\n",
       "    </tr>\n",
       "    <tr>\n",
       "      <th>R_val</th>\n",
       "      <td>76.165000</td>\n",
       "      <td>77.237</td>\n",
       "      <td>77.313000</td>\n",
       "      <td>77.415</td>\n",
       "      <td>77.237000</td>\n",
       "      <td>78.665000</td>\n",
       "      <td>77.415000</td>\n",
       "      <td>77.908000</td>\n",
       "      <td>73.778000</td>\n",
       "      <td>78.904000</td>\n",
       "    </tr>\n",
       "    <tr>\n",
       "      <th>R_train</th>\n",
       "      <td>77.823000</td>\n",
       "      <td>81.366</td>\n",
       "      <td>77.163000</td>\n",
       "      <td>78.162</td>\n",
       "      <td>79.697000</td>\n",
       "      <td>77.917000</td>\n",
       "      <td>80.199000</td>\n",
       "      <td>76.869000</td>\n",
       "      <td>75.442000</td>\n",
       "      <td>79.959000</td>\n",
       "    </tr>\n",
       "    <tr>\n",
       "      <th>R_ewo</th>\n",
       "      <td>62.408000</td>\n",
       "      <td>65.462</td>\n",
       "      <td>62.316000</td>\n",
       "      <td>62.593</td>\n",
       "      <td>64.723000</td>\n",
       "      <td>61.945000</td>\n",
       "      <td>64.351000</td>\n",
       "      <td>61.296000</td>\n",
       "      <td>60.556000</td>\n",
       "      <td>65.740000</td>\n",
       "    </tr>\n",
       "    <tr>\n",
       "      <th>F1-val</th>\n",
       "      <td>85.595556</td>\n",
       "      <td>85.550</td>\n",
       "      <td>85.653333</td>\n",
       "      <td>86.750</td>\n",
       "      <td>84.857778</td>\n",
       "      <td>87.273333</td>\n",
       "      <td>86.386667</td>\n",
       "      <td>85.661111</td>\n",
       "      <td>82.886667</td>\n",
       "      <td>87.133333</td>\n",
       "    </tr>\n",
       "    <tr>\n",
       "      <th>F1-train</th>\n",
       "      <td>86.326667</td>\n",
       "      <td>83.086</td>\n",
       "      <td>86.130000</td>\n",
       "      <td>79.614</td>\n",
       "      <td>79.698000</td>\n",
       "      <td>79.710000</td>\n",
       "      <td>79.699000</td>\n",
       "      <td>86.144444</td>\n",
       "      <td>85.030000</td>\n",
       "      <td>87.045556</td>\n",
       "    </tr>\n",
       "    <tr>\n",
       "      <th>F1-ewo</th>\n",
       "      <td>71.471111</td>\n",
       "      <td>69.539</td>\n",
       "      <td>72.306667</td>\n",
       "      <td>66.687</td>\n",
       "      <td>66.725000</td>\n",
       "      <td>66.774000</td>\n",
       "      <td>66.050000</td>\n",
       "      <td>71.756667</td>\n",
       "      <td>71.094444</td>\n",
       "      <td>74.701111</td>\n",
       "    </tr>\n",
       "  </tbody>\n",
       "</table>\n",
       "</div>"
      ],
      "text/plain": [
       "                  0       0          0       0          0          0  \\\n",
       "P_val     78.655000  77.773  77.111000  79.413  76.201000  79.431000   \n",
       "P_train   78.046000  87.797  78.579000  88.059  86.603000  88.288000   \n",
       "P_ewo     67.155000  76.636  69.506000  74.975  72.125000  75.531000   \n",
       "R_val     76.165000  77.237  77.313000  77.415  77.237000  78.665000   \n",
       "R_train   77.823000  81.366  77.163000  78.162  79.697000  77.917000   \n",
       "R_ewo     62.408000  65.462  62.316000  62.593  64.723000  61.945000   \n",
       "F1-val    85.595556  85.550  85.653333  86.750  84.857778  87.273333   \n",
       "F1-train  86.326667  83.086  86.130000  79.614  79.698000  79.710000   \n",
       "F1-ewo    71.471111  69.539  72.306667  66.687  66.725000  66.774000   \n",
       "\n",
       "                  0          0          0          0  \n",
       "P_val     78.703000  77.750000  76.773000  78.432000  \n",
       "P_train   86.157000  78.900000  79.331000  76.908000  \n",
       "P_ewo     71.475000  69.731000  70.922000  68.947000  \n",
       "R_val     77.415000  77.908000  73.778000  78.904000  \n",
       "R_train   80.199000  76.869000  75.442000  79.959000  \n",
       "R_ewo     64.351000  61.296000  60.556000  65.740000  \n",
       "F1-val    86.386667  85.661111  82.886667  87.133333  \n",
       "F1-train  79.699000  86.144444  85.030000  87.045556  \n",
       "F1-ewo    66.050000  71.756667  71.094444  74.701111  "
      ]
     },
     "execution_count": 115,
     "metadata": {},
     "output_type": "execute_result"
    }
   ],
   "source": [
    "resultCrossVal.to_csv(\"results.csv\")\n",
    "resultCrossVal"
   ]
  },
  {
   "cell_type": "code",
   "execution_count": 116,
   "metadata": {
    "scrolled": false
   },
   "outputs": [
    {
     "data": {
      "text/html": [
       "<div>\n",
       "<style scoped>\n",
       "    .dataframe tbody tr th:only-of-type {\n",
       "        vertical-align: middle;\n",
       "    }\n",
       "\n",
       "    .dataframe tbody tr th {\n",
       "        vertical-align: top;\n",
       "    }\n",
       "\n",
       "    .dataframe thead th {\n",
       "        text-align: right;\n",
       "    }\n",
       "</style>\n",
       "<table border=\"1\" class=\"dataframe\">\n",
       "  <thead>\n",
       "    <tr style=\"text-align: right;\">\n",
       "      <th></th>\n",
       "      <th>0</th>\n",
       "    </tr>\n",
       "  </thead>\n",
       "  <tbody>\n",
       "    <tr>\n",
       "      <th>P_val</th>\n",
       "      <td>78.024200</td>\n",
       "    </tr>\n",
       "    <tr>\n",
       "      <th>P_train</th>\n",
       "      <td>82.866800</td>\n",
       "    </tr>\n",
       "    <tr>\n",
       "      <th>P_ewo</th>\n",
       "      <td>71.700300</td>\n",
       "    </tr>\n",
       "    <tr>\n",
       "      <th>R_val</th>\n",
       "      <td>77.203700</td>\n",
       "    </tr>\n",
       "    <tr>\n",
       "      <th>R_train</th>\n",
       "      <td>78.459700</td>\n",
       "    </tr>\n",
       "    <tr>\n",
       "      <th>R_ewo</th>\n",
       "      <td>63.139000</td>\n",
       "    </tr>\n",
       "    <tr>\n",
       "      <th>F1-val</th>\n",
       "      <td>85.774778</td>\n",
       "    </tr>\n",
       "    <tr>\n",
       "      <th>F1-train</th>\n",
       "      <td>83.248367</td>\n",
       "    </tr>\n",
       "    <tr>\n",
       "      <th>F1-ewo</th>\n",
       "      <td>69.710500</td>\n",
       "    </tr>\n",
       "  </tbody>\n",
       "</table>\n",
       "</div>"
      ],
      "text/plain": [
       "                  0\n",
       "P_val     78.024200\n",
       "P_train   82.866800\n",
       "P_ewo     71.700300\n",
       "R_val     77.203700\n",
       "R_train   78.459700\n",
       "R_ewo     63.139000\n",
       "F1-val    85.774778\n",
       "F1-train  83.248367\n",
       "F1-ewo    69.710500"
      ]
     },
     "execution_count": 116,
     "metadata": {},
     "output_type": "execute_result"
    }
   ],
   "source": [
    "resultCrossVal.mean(axis=1).to_frame()"
   ]
  },
  {
   "cell_type": "code",
   "execution_count": 117,
   "metadata": {
    "scrolled": false
   },
   "outputs": [
    {
     "data": {
      "text/html": [
       "<div>\n",
       "<style scoped>\n",
       "    .dataframe tbody tr th:only-of-type {\n",
       "        vertical-align: middle;\n",
       "    }\n",
       "\n",
       "    .dataframe tbody tr th {\n",
       "        vertical-align: top;\n",
       "    }\n",
       "\n",
       "    .dataframe thead th {\n",
       "        text-align: right;\n",
       "    }\n",
       "</style>\n",
       "<table border=\"1\" class=\"dataframe\">\n",
       "  <thead>\n",
       "    <tr style=\"text-align: right;\">\n",
       "      <th></th>\n",
       "      <th>0</th>\n",
       "    </tr>\n",
       "  </thead>\n",
       "  <tbody>\n",
       "    <tr>\n",
       "      <th>P_val</th>\n",
       "      <td>1.095172</td>\n",
       "    </tr>\n",
       "    <tr>\n",
       "      <th>P_train</th>\n",
       "      <td>4.839764</td>\n",
       "    </tr>\n",
       "    <tr>\n",
       "      <th>P_ewo</th>\n",
       "      <td>3.118572</td>\n",
       "    </tr>\n",
       "    <tr>\n",
       "      <th>R_val</th>\n",
       "      <td>1.431403</td>\n",
       "    </tr>\n",
       "    <tr>\n",
       "      <th>R_train</th>\n",
       "      <td>1.806081</td>\n",
       "    </tr>\n",
       "    <tr>\n",
       "      <th>R_ewo</th>\n",
       "      <td>1.799491</td>\n",
       "    </tr>\n",
       "    <tr>\n",
       "      <th>F1-val</th>\n",
       "      <td>1.278419</td>\n",
       "    </tr>\n",
       "    <tr>\n",
       "      <th>F1-train</th>\n",
       "      <td>3.244106</td>\n",
       "    </tr>\n",
       "    <tr>\n",
       "      <th>F1-ewo</th>\n",
       "      <td>2.999159</td>\n",
       "    </tr>\n",
       "  </tbody>\n",
       "</table>\n",
       "</div>"
      ],
      "text/plain": [
       "                 0\n",
       "P_val     1.095172\n",
       "P_train   4.839764\n",
       "P_ewo     3.118572\n",
       "R_val     1.431403\n",
       "R_train   1.806081\n",
       "R_ewo     1.799491\n",
       "F1-val    1.278419\n",
       "F1-train  3.244106\n",
       "F1-ewo    2.999159"
      ]
     },
     "execution_count": 117,
     "metadata": {},
     "output_type": "execute_result"
    }
   ],
   "source": [
    "resultCrossVal.std(axis=1).to_frame()"
   ]
  },
  {
   "cell_type": "code",
   "execution_count": 118,
   "metadata": {},
   "outputs": [],
   "source": [
    "# trainByTagResult.to_csv(\"results/train-by-tag.csv\")\n",
    "# trainByTagResult"
   ]
  },
  {
   "cell_type": "code",
   "execution_count": 119,
   "metadata": {
    "scrolled": true
   },
   "outputs": [],
   "source": [
    "# trainByTagResult.mean(axis=1).to_frame()"
   ]
  },
  {
   "cell_type": "code",
   "execution_count": 120,
   "metadata": {},
   "outputs": [],
   "source": [
    "# trainByTagResult.std(axis=1).to_frame()"
   ]
  },
  {
   "cell_type": "code",
   "execution_count": 121,
   "metadata": {},
   "outputs": [],
   "source": [
    "# testByTagResult.to_csv(\"results/test-by-tag.csv\")\n",
    "# testByTagResult"
   ]
  },
  {
   "cell_type": "code",
   "execution_count": 122,
   "metadata": {},
   "outputs": [],
   "source": [
    "# testByTagResult.mean(axis=1).to_frame()"
   ]
  },
  {
   "cell_type": "code",
   "execution_count": 123,
   "metadata": {},
   "outputs": [],
   "source": [
    "# testByTagResult.std(axis=1).to_frame()"
   ]
  },
  {
   "cell_type": "code",
   "execution_count": 124,
   "metadata": {},
   "outputs": [],
   "source": [
    "# ewoByTagResult.to_csv(\"results/ewo-by-tag.csv\")"
   ]
  },
  {
   "cell_type": "code",
   "execution_count": 125,
   "metadata": {},
   "outputs": [],
   "source": [
    "# ewoByTagResult = pd.read_csv(\"results/ewo-by-tag.csv\", index_col=0)\n",
    "# ewoByTagResult"
   ]
  },
  {
   "cell_type": "code",
   "execution_count": 126,
   "metadata": {},
   "outputs": [],
   "source": [
    "# ewoByTagResult.mean(axis=1).to_frame()"
   ]
  },
  {
   "cell_type": "code",
   "execution_count": 127,
   "metadata": {},
   "outputs": [],
   "source": [
    "# ewoByTagResult.std(axis=1).to_frame()"
   ]
  },
  {
   "cell_type": "code",
   "execution_count": 128,
   "metadata": {},
   "outputs": [],
   "source": [
    "# columns = en_fingerprints.columns\n",
    "\n",
    "# print(\"Pred\", \"Real\", \"Freq\", \"Word\", sep=\"\\t\")\n",
    "# for c in columns:\n",
    "#     prediction = model.predict(en_fingerprints[c].values.reshape((1, 210)))\n",
    "#     pred_tag = int2tag[np.argmax(prediction)]\n",
    "#     real_tag = en_corpus[en_corpus.word == c].iloc[0]['ne-tag']\n",
    "    \n",
    "#     if pred_tag != real_tag:\n",
    "#         print(pred_tag, real_tag, en_fingerprints[c].max(), c, sep=\"\\t\")"
   ]
  }
 ],
 "metadata": {
  "anaconda-cloud": {},
  "colab": {
   "collapsed_sections": [],
   "default_view": {},
   "name": "rnn-ner.ipynb",
   "provenance": [
    {
     "file_id": "1bSiRRO29rixupIV6ume9T9B4KUKtYVKI",
     "timestamp": 1513688449690
    }
   ],
   "version": "0.3.2",
   "views": {}
  },
  "kernelspec": {
   "display_name": "Python 3",
   "language": "python",
   "name": "python3"
  },
  "language_info": {
   "codemirror_mode": {
    "name": "ipython",
    "version": 3
   },
   "file_extension": ".py",
   "mimetype": "text/x-python",
   "name": "python",
   "nbconvert_exporter": "python",
   "pygments_lexer": "ipython3",
   "version": "3.7.5"
  }
 },
 "nbformat": 4,
 "nbformat_minor": 1
}
