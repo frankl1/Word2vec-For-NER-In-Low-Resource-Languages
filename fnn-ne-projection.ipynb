{
 "cells": [
  {
   "cell_type": "code",
   "execution_count": 88,
   "metadata": {
    "colab": {
     "autoexec": {
      "startup": false,
      "wait_interval": 0
     },
     "base_uri": "https://localhost:8080/",
     "height": 88,
     "output_extras": [
      {
       "item_id": 1
      }
     ]
    },
    "colab_type": "code",
    "executionInfo": {
     "elapsed": 2799,
     "status": "ok",
     "timestamp": 1516045322673,
     "user": {
      "displayName": "Michael Franklin Mbouopda",
      "photoUrl": "//lh3.googleusercontent.com/-2_Vuj9ESsJ0/AAAAAAAAAAI/AAAAAAAABSc/r-SRcN0jWPw/s50-c-k-no/photo.jpg",
      "userId": "117384351130599115261"
     },
     "user_tz": -60
    },
    "id": "NamUCuj1bBjd",
    "outputId": "7874258f-7c3e-4646-f238-36437759767b"
   },
   "outputs": [],
   "source": [
    "# import\n",
    "import keras\n",
    "import sys\n",
    "import numpy as np\n",
    "import string\n",
    "import pandas as pd\n",
    "import matplotlib.pyplot as plt\n",
    "from keras.models import Sequential\n",
    "from keras.layers import SimpleRNN, Dense\n",
    "from keras.utils import np_utils, plot_model\n",
    "from keras.callbacks import ModelCheckpoint, EarlyStopping\n",
    "from sklearn import model_selection\n",
    "from sklearn.metrics import precision_score, recall_score, f1_score, accuracy_score, precision_recall_fscore_support\n",
    "import h5py as h5py"
   ]
  },
  {
   "cell_type": "code",
   "execution_count": 89,
   "metadata": {
    "colab": {
     "autoexec": {
      "startup": false,
      "wait_interval": 0
     }
    },
    "colab_type": "code",
    "id": "t9h7fyDCbkMG"
   },
   "outputs": [],
   "source": [
    "# if we are doeing binary classification. That means say if a token is a named entity or not\n",
    "BINARY = False\n",
    "\n",
    "# number of epochs for training\n",
    "epochs = 10 \n",
    "\n",
    "# the english side of the corpus\n",
    "en_corpus_file = \"corpus-en.txt\"\n",
    "\n",
    "# the ewondo side of the corpus\n",
    "ewo_corpus_file = \"corpus-ewo.txt\"\n",
    "\n",
    "# name of the file to same the model \n",
    "best_model_file = \"best-model-conll.hdfs\"\n",
    "\n",
    "# The maximal number of phrases to use\n",
    "max_nb_of_phrases =  -1\n",
    "\n",
    "# the maximal number of duplicates for each word in the corpus\n",
    "duplication = 1\n",
    "\n",
    "# wether we are using only the vocabulary, ro redundancy\n",
    "is_only_vocab = True\n",
    "\n",
    "# if word should be shuffle or not\n",
    "shuffle = is_only_vocab\n",
    "\n",
    "# the number of neurons in the first layer\n",
    "h1_size = 640\n",
    "\n",
    "# number of neurons in the second layer\n",
    "h2_size = 160  "
   ]
  },
  {
   "cell_type": "code",
   "execution_count": 90,
   "metadata": {
    "colab": {
     "autoexec": {
      "startup": false,
      "wait_interval": 0
     }
    },
    "colab_type": "code",
    "id": "q1OlcYPo1Att"
   },
   "outputs": [],
   "source": [
    "def getTag(aString):\n",
    "    \"\"\"\n",
    "        convert a string to a tag\n",
    "    \"\"\"\n",
    "    tag = \"O\"\n",
    "    if BINARY:\n",
    "        if aString != \"O\":\n",
    "            return \"NE\"\n",
    "    else:\n",
    "        tag = aString\n",
    "    return tag\n",
    "     "
   ]
  },
  {
   "cell_type": "code",
   "execution_count": 91,
   "metadata": {
    "colab": {
     "autoexec": {
      "startup": false,
      "wait_interval": 0
     }
    },
    "colab_type": "code",
    "id": "q1OlcYPo1Att"
   },
   "outputs": [],
   "source": [
    "def load_corpus(file, max_nb_of_phrases):\n",
    "    \"\"\"\n",
    "    Load a corpus stored in a file\n",
    "    Input:\n",
    "        - file: the name of the file of the corpus\n",
    "        - max_nb_of_phases: maximal number of phrases to load\n",
    "    \n",
    "    Return:\n",
    "        - a DataFrame representing the corpus\n",
    "        - the number of phrases in the corpus\n",
    "    \"\"\"\n",
    "    nb_of_phrases = 0\n",
    "    dataset = {\"word\": [], \"ne-tag\": []}\n",
    "    with open(file) as f:\n",
    "        prev_line = None\n",
    "        for cpt, line in enumerate(f):\n",
    "            if cpt == 0:\n",
    "                continue\n",
    "            if nb_of_phrases == max_nb_of_phrases:\n",
    "                break;\n",
    "\n",
    "            l = line.strip()\n",
    "            if len(l) == 0 and len(prev_line) != 0:\n",
    "                nb_of_phrases += 1\n",
    "                dataset[\"word\"].append(line)\n",
    "                dataset[\"ne-tag\"].append(None)\n",
    "            else:\n",
    "                l = l.split(\"\\t\")\n",
    "                if l[0] not in string.punctuation:\n",
    "                    dataset[\"word\"].append(l[0])\n",
    "                    dataset[\"ne-tag\"].append(ne_type(l[1]))\n",
    "            prev_line = line.strip()\n",
    "        \n",
    "    return pd.DataFrame(dataset), nb_of_phrases+1"
   ]
  },
  {
   "cell_type": "code",
   "execution_count": 92,
   "metadata": {
    "colab": {
     "autoexec": {
      "startup": false,
      "wait_interval": 0
     }
    },
    "colab_type": "code",
    "id": "q1OlcYPo1Att"
   },
   "outputs": [],
   "source": [
    "def corpus_fingerprint(aDataframe, nb_of_biphrases):\n",
    "    \"\"\"\n",
    "    Create the distributionnal signature of each word in the corpus\n",
    "    Input:\n",
    "        -aDataFrame: the corpus DataFrame\n",
    "        -nb_of_biphrases: number of phrases in the corpus\n",
    "    Return:\n",
    "        a DataFrame: corpus fingerprint, the columns are the words in the corpus\n",
    "    \"\"\"\n",
    "    fingerprints = {}\n",
    "    current_bi_phrase_index = 0\n",
    "    nb_word_in_corpus = aDataframe[aDataframe.word != \"\\n\"].word.size\n",
    "    words_in_current_phrase = []\n",
    "    for index, row in aDataframe.iterrows():\n",
    "        if current_bi_phrase_index > nb_of_biphrases:\n",
    "            break\n",
    "            \n",
    "        word = row['word']\n",
    "        \n",
    "        if word != \"\\n\":\n",
    "            words_in_current_phrase.append(word)\n",
    "            if word not in fingerprints:\n",
    "                fingerprints[word] = np.zeros(nb_of_biphrases, dtype=np.float32)\n",
    "            fingerprints[word][current_bi_phrase_index] += 1\n",
    "        else:\n",
    "            nb_word_in_current_phrase = len(words_in_current_phrase)\n",
    "#             for w in words_in_current_phrase:\n",
    "#                 fingerprints[w][current_bi_phrase_index] = nb_word_in_corpus / fingerprints[w][current_bi_phrase_index]                \n",
    "            current_bi_phrase_index += 1\n",
    "            words_in_current_phrase = []\n",
    "    for word in fingerprints:\n",
    "        for i in range(nb_of_biphrases):\n",
    "            if fingerprints[word][i] != 0:\n",
    "                fingerprints[word][i] = nb_word_in_corpus / fingerprints[word][i]\n",
    "#         fingerprints[word][nb_of_biphrases] = nb_word_in_corpus / aDataframe[aDataframe.word == word].word.size\n",
    "        \n",
    "    return pd.DataFrame(fingerprints)"
   ]
  },
  {
   "cell_type": "code",
   "execution_count": 93,
   "metadata": {
    "colab": {
     "autoexec": {
      "startup": false,
      "wait_interval": 0
     }
    },
    "colab_type": "code",
    "id": "q1OlcYPo1Att"
   },
   "outputs": [],
   "source": [
    "def corpus2trainingdata(aDataframe, fingerprintsDataFrame):\n",
    "    \"\"\"\n",
    "    Convert corpus to training data => numpy array\n",
    "    \n",
    "    Input:\n",
    "        -aDataFrame: Corpus dataframe\n",
    "        -fingerprintsDataFrame: distributionnal signature of words in the corpus\n",
    "    Return:\n",
    "        (X, y): X is the array of words (signature) in the corpus and y is the corresponding labels (NE tags)\n",
    "    \"\"\"\n",
    "    X = np.zeros((aDataframe.shape[0], fingerprintsDataFrame.shape[0]), dtype=np.int8)\n",
    "    y = np.zeros(aDataframe.shape[0], dtype=np.int8)\n",
    "    i = 0\n",
    "    for row in aDataframe.iterrows():\n",
    "        X[i] = fingerprintsDataFrame[row[1]['word']].values\n",
    "        y[i] = tag2int[getTag(row[1]['ne-tag'])]\n",
    "        i += 1\n",
    "    return X, y"
   ]
  },
  {
   "cell_type": "code",
   "execution_count": 94,
   "metadata": {
    "colab": {
     "autoexec": {
      "startup": false,
      "wait_interval": 0
     }
    },
    "colab_type": "code",
    "id": "q1OlcYPo1Att"
   },
   "outputs": [],
   "source": [
    "def train_test_split(X, y, test_size = 0.33):\n",
    "    total = X.shape[0]\n",
    "    train_length = round(total * (1 - test_size)) \n",
    "    return X[:train_length], X[train_length:], y[:train_length], y[train_length:]"
   ]
  },
  {
   "cell_type": "code",
   "execution_count": 95,
   "metadata": {
    "colab": {
     "autoexec": {
      "startup": false,
      "wait_interval": 0
     }
    },
    "colab_type": "code",
    "id": "q1OlcYPo1Att"
   },
   "outputs": [],
   "source": [
    "# A utility function to convert NE tags\n",
    "def ne_type(aType):\n",
    "    aType = aType.lower()\n",
    "    if 'per' in aType:\n",
    "        t =  'NE' if BINARY else 'PER' \n",
    "    elif 'loc' in aType:\n",
    "        t =  'NE' if BINARY else 'LOC'\n",
    "    elif 'org' in aType:\n",
    "        t =  'NE' if BINARY else 'ORG'\n",
    "    elif 'hour' in aType:\n",
    "        t =  'NE' if BINARY else 'MISC'\n",
    "    elif aType != 'o' and len(aType) > 0 :\n",
    "        t =  'NE' if BINARY else 'MISC'\n",
    "    else:\n",
    "        t = 'O'\n",
    "    return t"
   ]
  },
  {
   "cell_type": "code",
   "execution_count": 96,
   "metadata": {
    "colab": {
     "autoexec": {
      "startup": false,
      "wait_interval": 0
     }
    },
    "colab_type": "code",
    "id": "q1OlcYPo1Att"
   },
   "outputs": [],
   "source": [
    "def compute_performance(y_true, y_pred, words=None, BINARY=False):\n",
    "    \"\"\"\n",
    "    Return the precision, recall, f1-score, accuracy and a dataframe comparing model predictions to ground truth\n",
    "    \"\"\"\n",
    "    if BINARY:\n",
    "        p = precision_score(y_true, y_pred, pos_label=tag2int['NE'])\n",
    "        r = recall_score(y_true, y_pred, pos_label=tag2int['NE'])\n",
    "        f1 = f1_score(y_true, y_pred, pos_label=tag2int['NE'])\n",
    "        acc = accuracy_score(y_true, y_pred)\n",
    "    else:\n",
    "        p = precision_score(y_pred, y_true, average='macro')\n",
    "        r = recall_score(y_pred, y_true, average='macro')\n",
    "        f1 = f1_score(y_pred, y_true, average='macro')\n",
    "        acc = accuracy_score(y_pred, y_true)\n",
    "    if words is None:\n",
    "        model_output_vs = pd.DataFrame({'y_true': [int2tag[i] for i in y_true], 'y_pred': [int2tag[i] for i in y_pred]})\n",
    "    else:\n",
    "        model_output_vs = pd.DataFrame({'word': words, 'y_true': [int2tag[i] for i in y_true], 'y_pred': [int2tag[i] for i in y_pred]})\n",
    "\n",
    "    return p, r, f1, acc, model_output_vs"
   ]
  },
  {
   "cell_type": "code",
   "execution_count": 97,
   "metadata": {
    "colab": {
     "autoexec": {
      "startup": false,
      "wait_interval": 0
     }
    },
    "colab_type": "code",
    "id": "q1OlcYPo1Att"
   },
   "outputs": [],
   "source": [
    "def P_R_F1(y_pred, y_true, neg_class):\n",
    "    same = y_pred[y_true==y_pred]\n",
    "    tp = same[same != neg_class].size\n",
    "    nb_of_pos_exple = y_true[y_true != neg_class].size\n",
    "    nb_of_pos_pred = y_pred[y_pred != neg_class].size\n",
    "    p = r = f1 = 0\n",
    "    try:\n",
    "        p = np.round(tp*100/nb_of_pos_pred, 2)\n",
    "    except ZeroDivisionError:\n",
    "        print(\"number of correct positive predictions is 0\")\n",
    "        \n",
    "    try:\n",
    "        r = np.round(tp*100/nb_of_pos_exple, 2)\n",
    "    except ZeroDivisionError:\n",
    "        print(\"number of position exple is 0\")\n",
    "        \n",
    "    try:\n",
    "        f1 = np.round(2*r*p/(r+p), 2)\n",
    "    except ZeroDivisionError:\n",
    "        print(\"Recall and precision are 0\")\n",
    "\n",
    "    return p, r, f1"
   ]
  },
  {
   "cell_type": "code",
   "execution_count": 98,
   "metadata": {},
   "outputs": [],
   "source": [
    "def shuffle_data(X, y):\n",
    "    indices = [i for i in  range(X.shape[0])]\n",
    "    np.random.shuffle(indices)\n",
    "    return X[indices], y[indices]"
   ]
  },
  {
   "cell_type": "code",
   "execution_count": 99,
   "metadata": {
    "colab": {
     "autoexec": {
      "startup": false,
      "wait_interval": 0
     },
     "base_uri": "https://localhost:8080/",
     "height": 238,
     "output_extras": [
      {
       "item_id": 1
      }
     ]
    },
    "colab_type": "code",
    "executionInfo": {
     "elapsed": 1145,
     "status": "ok",
     "timestamp": 1515671862146,
     "user": {
      "displayName": "Michael Franklin Mbouopda",
      "photoUrl": "//lh3.googleusercontent.com/-2_Vuj9ESsJ0/AAAAAAAAAAI/AAAAAAAABSc/r-SRcN0jWPw/s50-c-k-no/photo.jpg",
      "userId": "117384351130599115261"
     },
     "user_tz": -60
    },
    "id": "cvpl6zMzxm6X",
    "outputId": "ef520c78-0fd3-494a-defd-fb3e2f01d371"
   },
   "outputs": [],
   "source": [
    "def create_model(input_dim, output_dim):\n",
    "    model = Sequential()\n",
    "    model.add(Dense(h1_size, input_dim=input_dim, activation='sigmoid', name=\"hidden1\"))\n",
    "    model.add(Dense(h2_size, activation='sigmoid', name=\"hidden2\"))\n",
    "    if BINARY:\n",
    "        model.add(Dense(1, activation='sigmoid', name=\"outputlayer\"))\n",
    "        model.compile(loss='binary_crossentropy', optimizer='rmsprop', metrics=['binary_accuracy'])\n",
    "    else:\n",
    "        model.add(Dense(output_dim, activation='softmax', name=\"outputlayer\"))\n",
    "        model.compile(loss='categorical_crossentropy', optimizer=\"rmsprop\", metrics=['accuracy'])\n",
    "    model.summary()\n",
    "    return model"
   ]
  },
  {
   "cell_type": "code",
   "execution_count": 100,
   "metadata": {
    "colab": {
     "autoexec": {
      "startup": false,
      "wait_interval": 0
     },
     "base_uri": "https://localhost:8080/",
     "height": 343,
     "output_extras": [
      {
       "item_id": 99
      },
      {
       "item_id": 223
      },
      {
       "item_id": 284
      },
      {
       "item_id": 347
      },
      {
       "item_id": 394
      },
      {
       "item_id": 445
      },
      {
       "item_id": 490
      },
      {
       "item_id": 542
      },
      {
       "item_id": 590
      },
      {
       "item_id": 639
      },
      {
       "item_id": 684
      }
     ]
    },
    "colab_type": "code",
    "executionInfo": {
     "elapsed": 676115,
     "status": "ok",
     "timestamp": 1515672664054,
     "user": {
      "displayName": "Michael Franklin Mbouopda",
      "photoUrl": "//lh3.googleusercontent.com/-2_Vuj9ESsJ0/AAAAAAAAAAI/AAAAAAAABSc/r-SRcN0jWPw/s50-c-k-no/photo.jpg",
      "userId": "117384351130599115261"
     },
     "user_tz": -60
    },
    "id": "uY2-NcCZxpXe",
    "outputId": "adcd5c23-d0c6-463a-bc11-db5d415eba1d"
   },
   "outputs": [],
   "source": [
    "def train_model(model, X_train, y_train, X_val, y_val, epochs=epochs):\n",
    "    # stop learning if the error is the same between two consecutive epochs\n",
    "    early_stop = EarlyStopping(patience=20, verbose=2)\n",
    "    \n",
    "    # saving best model\n",
    "    best_model_cp = ModelCheckpoint(best_model_file, save_best_only=True, verbose=1)\n",
    "    \n",
    "    model.fit(X_train, y_train, validation_data=(X_val, y_val), epochs=epochs, verbose=0, shuffle=shuffle, callbacks=[best_model_cp, early_stop])\n",
    "    \n",
    "    #loading and returning the best model\n",
    "    return keras.models.load_model(best_model_file)"
   ]
  },
  {
   "cell_type": "code",
   "execution_count": 101,
   "metadata": {},
   "outputs": [],
   "source": [
    "def predict(model, X, y, binary=BINARY):\n",
    "    if BINARY:\n",
    "        y_pred = np.round(model.predict(X))\n",
    "        y_true = y\n",
    "    else:\n",
    "        predictions = model.predict(X)\n",
    "        y_pred = np.array([np.argmax(p) for p in predictions])\n",
    "        y_true = np.array([np.argmax(t) for t in y ])\n",
    "    return y_true, y_pred"
   ]
  },
  {
   "cell_type": "code",
   "execution_count": 102,
   "metadata": {
    "colab": {
     "autoexec": {
      "startup": false,
      "wait_interval": 0
     },
     "base_uri": "https://localhost:8080/",
     "height": 34,
     "output_extras": [
      {
       "item_id": 1
      }
     ]
    },
    "colab_type": "code",
    "executionInfo": {
     "elapsed": 23179,
     "status": "ok",
     "timestamp": 1515672689915,
     "user": {
      "displayName": "Michael Franklin Mbouopda",
      "photoUrl": "//lh3.googleusercontent.com/-2_Vuj9ESsJ0/AAAAAAAAAAI/AAAAAAAABSc/r-SRcN0jWPw/s50-c-k-no/photo.jpg",
      "userId": "117384351130599115261"
     },
     "user_tz": -60
    },
    "id": "N33cmgKEyPOb",
    "outputId": "917cdaec-b68c-47d5-a8ea-bd6ef7387a67"
   },
   "outputs": [],
   "source": [
    "def model_performance(y_true, y_pred):\n",
    "    return P_R_F1(y_pred, y_true, tag2int['O']) #precision, recall, f1-score"
   ]
  },
  {
   "cell_type": "code",
   "execution_count": 103,
   "metadata": {},
   "outputs": [],
   "source": [
    "def model_performace_by_tag(y_true, y_pred, tag):\n",
    "    p, r, f1 = 0, 0, 0\n",
    "    \n",
    "    eq = y_pred[y_pred==y_true]\n",
    "    correctly_pred = eq[eq==tag].size\n",
    "    try:\n",
    "        p = np.round(100 * correctly_pred / y_pred[y_pred==tag].size, 2)\n",
    "    except ZeroDivisionError:\n",
    "        pass\n",
    "    \n",
    "    try:\n",
    "        r = np.round(100 * correctly_pred / y_true[y_true==tag].size, 2)\n",
    "    except ZeroDivisionError:\n",
    "        pass\n",
    "    \n",
    "    try:\n",
    "        f1 = np.round(2 * r * p / (r + p), 2)\n",
    "    except ZeroDivisionError:\n",
    "        pass\n",
    "    \n",
    "    return p, r, f1"
   ]
  },
  {
   "cell_type": "code",
   "execution_count": 104,
   "metadata": {},
   "outputs": [],
   "source": [
    "def algoEval(X_train, y_train, X_val, y_val, X_ewo, y_ewo, epochs=epochs, model=None):\n",
    "    \"\"\"\n",
    "    Train a model on (X, y) and validate on (X_val, y_val) then project on (X_ewo)\n",
    "    \"\"\"\n",
    "    test_precision, train_precision, ewo_precision = [], [], []\n",
    "    test_recall, train_recall, ewo_recall = [], [], []\n",
    "    test_fscore, train_fscore, ewo_fscore = [], [], []\n",
    "    \n",
    "    test_result_by_tag = {}\n",
    "    train_result_by_tag = {}\n",
    "    ewo_result_by_tag = {}\n",
    "    for t in tagSet:\n",
    "        f1_key = \"F1-\"+t\n",
    "        p_key = \"P-\"+t\n",
    "        r_key = \"R-\"+t\n",
    "        train_result_by_tag[f1_key], train_result_by_tag[p_key], train_result_by_tag[r_key] = [], [], []\n",
    "        test_result_by_tag[f1_key], test_result_by_tag[p_key], test_result_by_tag[r_key] = [], [], []\n",
    "        ewo_result_by_tag[f1_key], ewo_result_by_tag[p_key], ewo_result_by_tag[r_key] = [], [], []\n",
    "\n",
    "    m = train_model(model, X_train, y_train, X_val, y_val, epochs=epochs)\n",
    "        \n",
    "    y_true, y_pred = predict(m, X_train, y_train)\n",
    "    p_train, r_train, f1_train = model_performance(y_true, y_pred)\n",
    "        \n",
    "    y_true_val, y_pred_val = predict(m, X_val, y_val)\n",
    "    p_val, r_val, f1_val = model_performance(y_true_val, y_pred_val)\n",
    "        \n",
    "    y_true_ewo, y_pred_ewo = predict(m, X_ewo, y_ewo) \n",
    "    p_ewo, r_ewo, f1_ewo = model_performance(y_true_ewo, y_pred_ewo)\n",
    "        \n",
    "    for t in range(len(int2tag)):\n",
    "        f1_key = \"F1-\" + int2tag[t]\n",
    "        p_key = \"P-\" + int2tag[t]\n",
    "        r_key = \"R-\" + int2tag[t]\n",
    "            \n",
    "        p, r, f1 = model_performace_by_tag(y_true, y_pred, t)\n",
    "        train_result_by_tag[p_key].append(p)\n",
    "        train_result_by_tag[r_key].append(r)\n",
    "        train_result_by_tag[f1_key].append(f1)\n",
    "            \n",
    "        p, r, f1 = model_performace_by_tag(y_true_val, y_pred_val, t)\n",
    "        test_result_by_tag[p_key].append(p)\n",
    "        test_result_by_tag[r_key].append(r)\n",
    "        test_result_by_tag[f1_key].append(f1)\n",
    "            \n",
    "        p, r, f1 = model_performace_by_tag(y_true_ewo, y_pred_ewo, t)\n",
    "        ewo_result_by_tag[p_key].append(p)\n",
    "        ewo_result_by_tag[r_key].append(r)\n",
    "        ewo_result_by_tag[f1_key].append(f1)\n",
    "                \n",
    "    test_precision.append(p_val)\n",
    "    train_precision.append(p_train)\n",
    "    ewo_precision.append(p_ewo)\n",
    "        \n",
    "    test_recall.append(r_val)\n",
    "    train_recall.append(r_train)\n",
    "    ewo_recall.append(r_ewo)\n",
    "        \n",
    "    test_fscore.append(f1_val)\n",
    "    train_fscore.append(f1_train)\n",
    "    ewo_fscore.append(f1_ewo)\n",
    "    return pd.DataFrame({\n",
    "        'P_test': test_precision, \n",
    "        'P_train': train_precision, \n",
    "        'P_ewo': ewo_precision, 'R_test': test_recall, 'R_train': train_recall, \n",
    "        'R_ewo': ewo_recall, 'F1-test': test_fscore, 'F1-train': train_fscore, 'F1-ewo': ewo_fscore}), pd.DataFrame(train_result_by_tag), pd.DataFrame(test_result_by_tag), pd.DataFrame(ewo_result_by_tag)"
   ]
  },
  {
   "cell_type": "code",
   "execution_count": 105,
   "metadata": {},
   "outputs": [],
   "source": [
    "def algoCrossVal(X, y, X_ewo, y_ewo, k = 10, repeat=1): \n",
    "    \"\"\"\n",
    "    Traing a model with k-fold cross validation\n",
    "    \"\"\"\n",
    "    block_size = int(X.shape[0] / k)   \n",
    "    output = None\n",
    "    model = None\n",
    "    train_by_tags, test_by_tags, ewo_by_tags = None, None, None\n",
    "    for it in range(repeat):\n",
    "        print(\"AlgoCrossValIter -\", it+1)\n",
    "        model = create_model(X.shape[1], len(tagSet))\n",
    "        results = None\n",
    "        train_by_tagsTmp, test_by_tagsTmp, ewo_by_tagsTmp = None, None, None\n",
    "        for i in range(k):\n",
    "            X_val, y_val = X[i*block_size:i*block_size+block_size], y[i*block_size:i*block_size+block_size]\n",
    "            X_train = np.concatenate((X[0:i*block_size], X[i*block_size+block_size:]))\n",
    "            y_train = np.concatenate((y[0:i*block_size], y[i*block_size+block_size:]))\n",
    "\n",
    "            X_train = X_train.reshape(X_train.shape[0], X_train.shape[1])\n",
    "            X_val = X_val.reshape(X_val.shape[0], X_val.shape[1])\n",
    "\n",
    "            result, train_by_tag, test_by_tag, ewo_by_tag = algoEval(X_train, y_train, X_val, y_val, X_ewo, y_ewo, model=model)\n",
    "            if results is None:\n",
    "                results = result.copy()\n",
    "                train_by_tagsTmp, test_by_tagsTmp, ewo_by_tagsTmp = train_by_tag.copy(), test_by_tag.copy(), ewo_by_tag.copy()\n",
    "            else:\n",
    "                results = pd.concat([results, result], ignore_index=True)\n",
    "                train_by_tagsTmp = pd.concat([train_by_tagsTmp, train_by_tag], ignore_index=True)\n",
    "                test_by_tagsTmp = pd.concat([test_by_tagsTmp, test_by_tag], ignore_index=True)\n",
    "                ewo_by_tagsTmp = pd.concat([ewo_by_tagsTmp, ewo_by_tag], ignore_index=True)\n",
    "        \n",
    "        if output is None:\n",
    "            output = results.mean(axis=0).to_frame()\n",
    "            train_by_tags = train_by_tagsTmp.mean(axis=0).to_frame()\n",
    "            test_by_tags = test_by_tagsTmp.mean(axis=0).to_frame()\n",
    "            ewo_by_tags = ewo_by_tagsTmp.mean(axis=0).to_frame()\n",
    "        else:\n",
    "            output = pd.concat([output, results.mean(axis=0).to_frame()], axis=1)\n",
    "            train_by_tags = pd.concat([train_by_tags, train_by_tagsTmp.mean(axis=0).to_frame()], axis=1)\n",
    "            test_by_tags = pd.concat([test_by_tags, test_by_tagsTmp.mean(axis=0).to_frame()], axis=1)\n",
    "            ewo_by_tags = pd.concat([ewo_by_tags, ewo_by_tagsTmp.mean(axis=0).to_frame()], axis=1)\n",
    "\n",
    "    return output, train_by_tags, test_by_tags, ewo_by_tags, model"
   ]
  },
  {
   "cell_type": "code",
   "execution_count": 106,
   "metadata": {
    "colab": {
     "autoexec": {
      "startup": false,
      "wait_interval": 0
     }
    },
    "colab_type": "code",
    "id": "TNN2TBckE8m_"
   },
   "outputs": [],
   "source": [
    "en_corpus, en_nb_of_phrases = load_corpus(en_corpus_file, max_nb_of_phrases)"
   ]
  },
  {
   "cell_type": "code",
   "execution_count": 107,
   "metadata": {},
   "outputs": [
    {
     "data": {
      "text/html": [
       "<div>\n",
       "<style scoped>\n",
       "    .dataframe tbody tr th:only-of-type {\n",
       "        vertical-align: middle;\n",
       "    }\n",
       "\n",
       "    .dataframe tbody tr th {\n",
       "        vertical-align: top;\n",
       "    }\n",
       "\n",
       "    .dataframe thead th {\n",
       "        text-align: right;\n",
       "    }\n",
       "</style>\n",
       "<table border=\"1\" class=\"dataframe\">\n",
       "  <thead>\n",
       "    <tr style=\"text-align: right;\">\n",
       "      <th></th>\n",
       "      <th>word</th>\n",
       "      <th>ne-tag</th>\n",
       "    </tr>\n",
       "  </thead>\n",
       "  <tbody>\n",
       "    <tr>\n",
       "      <th>1335</th>\n",
       "      <td>Sadducees</td>\n",
       "      <td>ORG</td>\n",
       "    </tr>\n",
       "  </tbody>\n",
       "</table>\n",
       "</div>"
      ],
      "text/plain": [
       "           word ne-tag\n",
       "1335  Sadducees    ORG"
      ]
     },
     "execution_count": 107,
     "metadata": {},
     "output_type": "execute_result"
    }
   ],
   "source": [
    "en_corpus.head()\n",
    "en_corpus.loc[en_corpus['ne-tag'] == 'ORG']"
   ]
  },
  {
   "cell_type": "code",
   "execution_count": 108,
   "metadata": {},
   "outputs": [
    {
     "name": "stdout",
     "output_type": "stream",
     "text": [
      "{'O': 0, 'MISC': 1, 'PER': 2, 'LOC': 3, 'ORG': 4}\n"
     ]
    }
   ],
   "source": [
    "tagSet = en_corpus[\"ne-tag\"].dropna().unique()\n",
    "if BINARY:\n",
    "    tagSet = ['NE', 'O']\n",
    "tag2int = {j: i for i, j in enumerate(tagSet)}\n",
    "int2tag = {i: j for i, j in enumerate(tagSet)}\n",
    "print(tag2int)"
   ]
  },
  {
   "cell_type": "code",
   "execution_count": 109,
   "metadata": {
    "colab": {
     "autoexec": {
      "startup": false,
      "wait_interval": 0
     },
     "base_uri": "https://localhost:8080/",
     "height": 34,
     "output_extras": [
      {
       "item_id": 1
      }
     ]
    },
    "colab_type": "code",
    "executionInfo": {
     "elapsed": 794,
     "status": "ok",
     "timestamp": 1515664141558,
     "user": {
      "displayName": "Michael Franklin Mbouopda",
      "photoUrl": "//lh3.googleusercontent.com/-2_Vuj9ESsJ0/AAAAAAAAAAI/AAAAAAAABSc/r-SRcN0jWPw/s50-c-k-no/photo.jpg",
      "userId": "117384351130599115261"
     },
     "user_tz": -60
    },
    "id": "m85WcghdzCph",
    "outputId": "9fa6817e-15c4-4205-f8f4-82c30c2cb610"
   },
   "outputs": [
    {
     "data": {
      "text/plain": [
       "210"
      ]
     },
     "execution_count": 109,
     "metadata": {},
     "output_type": "execute_result"
    }
   ],
   "source": [
    "en_nb_of_phrases"
   ]
  },
  {
   "cell_type": "code",
   "execution_count": 110,
   "metadata": {
    "colab": {
     "autoexec": {
      "startup": false,
      "wait_interval": 0
     },
     "base_uri": "https://localhost:8080/",
     "height": 173,
     "output_extras": [
      {
       "item_id": 1
      }
     ]
    },
    "colab_type": "code",
    "executionInfo": {
     "elapsed": 992,
     "status": "ok",
     "timestamp": 1515664144298,
     "user": {
      "displayName": "Michael Franklin Mbouopda",
      "photoUrl": "//lh3.googleusercontent.com/-2_Vuj9ESsJ0/AAAAAAAAAAI/AAAAAAAABSc/r-SRcN0jWPw/s50-c-k-no/photo.jpg",
      "userId": "117384351130599115261"
     },
     "user_tz": -60
    },
    "id": "Gw9r-Q9jlmvg",
    "outputId": "8ee33794-5639-4c97-ea43-06a66d89e207"
   },
   "outputs": [
    {
     "data": {
      "text/html": [
       "<div>\n",
       "<style scoped>\n",
       "    .dataframe tbody tr th:only-of-type {\n",
       "        vertical-align: middle;\n",
       "    }\n",
       "\n",
       "    .dataframe tbody tr th {\n",
       "        vertical-align: top;\n",
       "    }\n",
       "\n",
       "    .dataframe thead th {\n",
       "        text-align: right;\n",
       "    }\n",
       "</style>\n",
       "<table border=\"1\" class=\"dataframe\">\n",
       "  <thead>\n",
       "    <tr style=\"text-align: right;\">\n",
       "      <th></th>\n",
       "      <th>word</th>\n",
       "      <th>ne-tag</th>\n",
       "    </tr>\n",
       "  </thead>\n",
       "  <tbody>\n",
       "    <tr>\n",
       "      <th>count</th>\n",
       "      <td>4379</td>\n",
       "      <td>4170</td>\n",
       "    </tr>\n",
       "    <tr>\n",
       "      <th>unique</th>\n",
       "      <td>904</td>\n",
       "      <td>5</td>\n",
       "    </tr>\n",
       "    <tr>\n",
       "      <th>top</th>\n",
       "      <td>the</td>\n",
       "      <td>O</td>\n",
       "    </tr>\n",
       "    <tr>\n",
       "      <th>freq</th>\n",
       "      <td>313</td>\n",
       "      <td>3779</td>\n",
       "    </tr>\n",
       "  </tbody>\n",
       "</table>\n",
       "</div>"
      ],
      "text/plain": [
       "        word ne-tag\n",
       "count   4379   4170\n",
       "unique   904      5\n",
       "top      the      O\n",
       "freq     313   3779"
      ]
     },
     "execution_count": 110,
     "metadata": {},
     "output_type": "execute_result"
    }
   ],
   "source": [
    "en_corpus.describe()"
   ]
  },
  {
   "cell_type": "code",
   "execution_count": 111,
   "metadata": {
    "colab": {
     "autoexec": {
      "startup": false,
      "wait_interval": 0
     },
     "base_uri": "https://localhost:8080/",
     "height": 204,
     "output_extras": [
      {
       "item_id": 1
      }
     ]
    },
    "colab_type": "code",
    "executionInfo": {
     "elapsed": 1056,
     "status": "ok",
     "timestamp": 1515664147270,
     "user": {
      "displayName": "Michael Franklin Mbouopda",
      "photoUrl": "//lh3.googleusercontent.com/-2_Vuj9ESsJ0/AAAAAAAAAAI/AAAAAAAABSc/r-SRcN0jWPw/s50-c-k-no/photo.jpg",
      "userId": "117384351130599115261"
     },
     "user_tz": -60
    },
    "id": "EZ_5FqH3yxhU",
    "outputId": "a129592b-9fa2-4937-a35a-a73245aef4a8"
   },
   "outputs": [
    {
     "data": {
      "text/html": [
       "<div>\n",
       "<style scoped>\n",
       "    .dataframe tbody tr th:only-of-type {\n",
       "        vertical-align: middle;\n",
       "    }\n",
       "\n",
       "    .dataframe tbody tr th {\n",
       "        vertical-align: top;\n",
       "    }\n",
       "\n",
       "    .dataframe thead th {\n",
       "        text-align: right;\n",
       "    }\n",
       "</style>\n",
       "<table border=\"1\" class=\"dataframe\">\n",
       "  <thead>\n",
       "    <tr style=\"text-align: right;\">\n",
       "      <th></th>\n",
       "      <th>word</th>\n",
       "      <th>ne-tag</th>\n",
       "    </tr>\n",
       "  </thead>\n",
       "  <tbody>\n",
       "    <tr>\n",
       "      <th>0</th>\n",
       "      <td>The</td>\n",
       "      <td>O</td>\n",
       "    </tr>\n",
       "    <tr>\n",
       "      <th>1</th>\n",
       "      <td>Promise</td>\n",
       "      <td>O</td>\n",
       "    </tr>\n",
       "    <tr>\n",
       "      <th>2</th>\n",
       "      <td>of</td>\n",
       "      <td>O</td>\n",
       "    </tr>\n",
       "    <tr>\n",
       "      <th>3</th>\n",
       "      <td>the</td>\n",
       "      <td>O</td>\n",
       "    </tr>\n",
       "    <tr>\n",
       "      <th>4</th>\n",
       "      <td>Holy</td>\n",
       "      <td>MISC</td>\n",
       "    </tr>\n",
       "    <tr>\n",
       "      <th>5</th>\n",
       "      <td>Spirit</td>\n",
       "      <td>MISC</td>\n",
       "    </tr>\n",
       "    <tr>\n",
       "      <th>6</th>\n",
       "      <td>\\n</td>\n",
       "      <td>None</td>\n",
       "    </tr>\n",
       "    <tr>\n",
       "      <th>7</th>\n",
       "      <td>In</td>\n",
       "      <td>O</td>\n",
       "    </tr>\n",
       "    <tr>\n",
       "      <th>8</th>\n",
       "      <td>the</td>\n",
       "      <td>O</td>\n",
       "    </tr>\n",
       "    <tr>\n",
       "      <th>9</th>\n",
       "      <td>first</td>\n",
       "      <td>O</td>\n",
       "    </tr>\n",
       "  </tbody>\n",
       "</table>\n",
       "</div>"
      ],
      "text/plain": [
       "      word ne-tag\n",
       "0      The      O\n",
       "1  Promise      O\n",
       "2       of      O\n",
       "3      the      O\n",
       "4     Holy   MISC\n",
       "5   Spirit   MISC\n",
       "6       \\n   None\n",
       "7       In      O\n",
       "8      the      O\n",
       "9    first      O"
      ]
     },
     "execution_count": 111,
     "metadata": {},
     "output_type": "execute_result"
    }
   ],
   "source": [
    "en_corpus.head(10)"
   ]
  },
  {
   "cell_type": "code",
   "execution_count": 112,
   "metadata": {},
   "outputs": [
    {
     "name": "stdout",
     "output_type": "stream",
     "text": [
      "O % = 86.3 %\n",
      "MISC % = 2.4 %\n",
      "PER % = 5.59 %\n",
      "LOC % = 0.91 %\n",
      "ORG % = 0.02 %\n"
     ]
    }
   ],
   "source": [
    "for tag in tagSet:\n",
    "    print(\"{0} % = {1} %\".format(tag, np.round(en_corpus[en_corpus['ne-tag']==tag].shape[0] * 100 / en_corpus[en_corpus['ne-tag']!='\\n'].shape[0], 2)))"
   ]
  },
  {
   "cell_type": "code",
   "execution_count": 113,
   "metadata": {},
   "outputs": [
    {
     "name": "stdout",
     "output_type": "stream",
     "text": [
      "O % = 89.16 %\n",
      "MISC % = 1.88 %\n",
      "PER % = 8.96 %\n",
      "LOC % = 1.99 %\n",
      "ORG % = 0.11 %\n"
     ]
    }
   ],
   "source": [
    "for tag in tagSet:\n",
    "    print(\"{0} % = {1} %\".format(tag, np.round(en_corpus[en_corpus['ne-tag']==tag].word.unique().shape[0] * 100 / en_corpus[en_corpus['ne-tag']!='\\n'].word.unique().shape[0], 2)))"
   ]
  },
  {
   "cell_type": "code",
   "execution_count": 114,
   "metadata": {},
   "outputs": [
    {
     "data": {
      "text/plain": [
       "(209, 2)"
      ]
     },
     "execution_count": 114,
     "metadata": {},
     "output_type": "execute_result"
    }
   ],
   "source": [
    "en_corpus[en_corpus.word == \"\\n\"].shape"
   ]
  },
  {
   "cell_type": "code",
   "execution_count": 115,
   "metadata": {
    "colab": {
     "autoexec": {
      "startup": false,
      "wait_interval": 0
     },
     "base_uri": "https://localhost:8080/",
     "height": 190,
     "output_extras": [
      {
       "item_id": 1
      },
      {
       "item_id": 2
      }
     ]
    },
    "colab_type": "code",
    "executionInfo": {
     "elapsed": 40378,
     "status": "ok",
     "timestamp": 1515671247748,
     "user": {
      "displayName": "Michael Franklin Mbouopda",
      "photoUrl": "//lh3.googleusercontent.com/-2_Vuj9ESsJ0/AAAAAAAAAAI/AAAAAAAABSc/r-SRcN0jWPw/s50-c-k-no/photo.jpg",
      "userId": "117384351130599115261"
     },
     "user_tz": -60
    },
    "id": "Mx1Yl-Npvh12",
    "outputId": "29d26922-46c0-47b6-9d1b-26ac26b118d4"
   },
   "outputs": [
    {
     "name": "stdout",
     "output_type": "stream",
     "text": [
      "Nb of bi-phrases 210\n"
     ]
    }
   ],
   "source": [
    "print(\"Nb of bi-phrases\", en_nb_of_phrases)\n",
    "en_fingerprints = corpus_fingerprint(en_corpus, en_nb_of_phrases)"
   ]
  },
  {
   "cell_type": "code",
   "execution_count": 116,
   "metadata": {},
   "outputs": [
    {
     "data": {
      "text/html": [
       "<div>\n",
       "<style scoped>\n",
       "    .dataframe tbody tr th:only-of-type {\n",
       "        vertical-align: middle;\n",
       "    }\n",
       "\n",
       "    .dataframe tbody tr th {\n",
       "        vertical-align: top;\n",
       "    }\n",
       "\n",
       "    .dataframe thead th {\n",
       "        text-align: right;\n",
       "    }\n",
       "</style>\n",
       "<table border=\"1\" class=\"dataframe\">\n",
       "  <thead>\n",
       "    <tr style=\"text-align: right;\">\n",
       "      <th></th>\n",
       "      <th>The</th>\n",
       "      <th>Promise</th>\n",
       "      <th>of</th>\n",
       "      <th>the</th>\n",
       "      <th>Holy</th>\n",
       "      <th>Spirit</th>\n",
       "      <th>In</th>\n",
       "      <th>first</th>\n",
       "      <th>book</th>\n",
       "      <th>O</th>\n",
       "      <th>...</th>\n",
       "      <th>considered</th>\n",
       "      <th>dream</th>\n",
       "      <th>She</th>\n",
       "      <th>save</th>\n",
       "      <th>fulfill</th>\n",
       "      <th>Immanuel</th>\n",
       "      <th>us)</th>\n",
       "      <th>woke</th>\n",
       "      <th>sleep</th>\n",
       "      <th>knew</th>\n",
       "    </tr>\n",
       "  </thead>\n",
       "  <tbody>\n",
       "    <tr>\n",
       "      <th>0</th>\n",
       "      <td>4170.0</td>\n",
       "      <td>4170.0</td>\n",
       "      <td>4170.0</td>\n",
       "      <td>4170.0</td>\n",
       "      <td>4170.0</td>\n",
       "      <td>4170.0</td>\n",
       "      <td>0.0</td>\n",
       "      <td>0.0</td>\n",
       "      <td>0.0</td>\n",
       "      <td>0.0</td>\n",
       "      <td>...</td>\n",
       "      <td>0.0</td>\n",
       "      <td>0.0</td>\n",
       "      <td>0.0</td>\n",
       "      <td>0.0</td>\n",
       "      <td>0.0</td>\n",
       "      <td>0.0</td>\n",
       "      <td>0.0</td>\n",
       "      <td>0.0</td>\n",
       "      <td>0.0</td>\n",
       "      <td>0.0</td>\n",
       "    </tr>\n",
       "    <tr>\n",
       "      <th>1</th>\n",
       "      <td>0.0</td>\n",
       "      <td>0.0</td>\n",
       "      <td>0.0</td>\n",
       "      <td>4170.0</td>\n",
       "      <td>0.0</td>\n",
       "      <td>0.0</td>\n",
       "      <td>4170.0</td>\n",
       "      <td>4170.0</td>\n",
       "      <td>4170.0</td>\n",
       "      <td>4170.0</td>\n",
       "      <td>...</td>\n",
       "      <td>0.0</td>\n",
       "      <td>0.0</td>\n",
       "      <td>0.0</td>\n",
       "      <td>0.0</td>\n",
       "      <td>0.0</td>\n",
       "      <td>0.0</td>\n",
       "      <td>0.0</td>\n",
       "      <td>0.0</td>\n",
       "      <td>0.0</td>\n",
       "      <td>0.0</td>\n",
       "    </tr>\n",
       "    <tr>\n",
       "      <th>2</th>\n",
       "      <td>0.0</td>\n",
       "      <td>0.0</td>\n",
       "      <td>0.0</td>\n",
       "      <td>1390.0</td>\n",
       "      <td>4170.0</td>\n",
       "      <td>4170.0</td>\n",
       "      <td>0.0</td>\n",
       "      <td>0.0</td>\n",
       "      <td>0.0</td>\n",
       "      <td>0.0</td>\n",
       "      <td>...</td>\n",
       "      <td>0.0</td>\n",
       "      <td>0.0</td>\n",
       "      <td>0.0</td>\n",
       "      <td>0.0</td>\n",
       "      <td>0.0</td>\n",
       "      <td>0.0</td>\n",
       "      <td>0.0</td>\n",
       "      <td>0.0</td>\n",
       "      <td>0.0</td>\n",
       "      <td>0.0</td>\n",
       "    </tr>\n",
       "    <tr>\n",
       "      <th>3</th>\n",
       "      <td>0.0</td>\n",
       "      <td>0.0</td>\n",
       "      <td>4170.0</td>\n",
       "      <td>4170.0</td>\n",
       "      <td>0.0</td>\n",
       "      <td>0.0</td>\n",
       "      <td>0.0</td>\n",
       "      <td>0.0</td>\n",
       "      <td>0.0</td>\n",
       "      <td>0.0</td>\n",
       "      <td>...</td>\n",
       "      <td>0.0</td>\n",
       "      <td>0.0</td>\n",
       "      <td>0.0</td>\n",
       "      <td>0.0</td>\n",
       "      <td>0.0</td>\n",
       "      <td>0.0</td>\n",
       "      <td>0.0</td>\n",
       "      <td>0.0</td>\n",
       "      <td>0.0</td>\n",
       "      <td>0.0</td>\n",
       "    </tr>\n",
       "    <tr>\n",
       "      <th>4</th>\n",
       "      <td>0.0</td>\n",
       "      <td>0.0</td>\n",
       "      <td>4170.0</td>\n",
       "      <td>2085.0</td>\n",
       "      <td>0.0</td>\n",
       "      <td>0.0</td>\n",
       "      <td>0.0</td>\n",
       "      <td>0.0</td>\n",
       "      <td>0.0</td>\n",
       "      <td>0.0</td>\n",
       "      <td>...</td>\n",
       "      <td>0.0</td>\n",
       "      <td>0.0</td>\n",
       "      <td>0.0</td>\n",
       "      <td>0.0</td>\n",
       "      <td>0.0</td>\n",
       "      <td>0.0</td>\n",
       "      <td>0.0</td>\n",
       "      <td>0.0</td>\n",
       "      <td>0.0</td>\n",
       "      <td>0.0</td>\n",
       "    </tr>\n",
       "  </tbody>\n",
       "</table>\n",
       "<p>5 rows × 903 columns</p>\n",
       "</div>"
      ],
      "text/plain": [
       "      The  Promise      of     the    Holy  Spirit      In   first    book  \\\n",
       "0  4170.0   4170.0  4170.0  4170.0  4170.0  4170.0     0.0     0.0     0.0   \n",
       "1     0.0      0.0     0.0  4170.0     0.0     0.0  4170.0  4170.0  4170.0   \n",
       "2     0.0      0.0     0.0  1390.0  4170.0  4170.0     0.0     0.0     0.0   \n",
       "3     0.0      0.0  4170.0  4170.0     0.0     0.0     0.0     0.0     0.0   \n",
       "4     0.0      0.0  4170.0  2085.0     0.0     0.0     0.0     0.0     0.0   \n",
       "\n",
       "        O  ...  considered  dream  She  save  fulfill  Immanuel  us)  woke  \\\n",
       "0     0.0  ...         0.0    0.0  0.0   0.0      0.0       0.0  0.0   0.0   \n",
       "1  4170.0  ...         0.0    0.0  0.0   0.0      0.0       0.0  0.0   0.0   \n",
       "2     0.0  ...         0.0    0.0  0.0   0.0      0.0       0.0  0.0   0.0   \n",
       "3     0.0  ...         0.0    0.0  0.0   0.0      0.0       0.0  0.0   0.0   \n",
       "4     0.0  ...         0.0    0.0  0.0   0.0      0.0       0.0  0.0   0.0   \n",
       "\n",
       "   sleep  knew  \n",
       "0    0.0   0.0  \n",
       "1    0.0   0.0  \n",
       "2    0.0   0.0  \n",
       "3    0.0   0.0  \n",
       "4    0.0   0.0  \n",
       "\n",
       "[5 rows x 903 columns]"
      ]
     },
     "execution_count": 116,
     "metadata": {},
     "output_type": "execute_result"
    }
   ],
   "source": [
    "en_fingerprints.head(5)"
   ]
  },
  {
   "cell_type": "code",
   "execution_count": 117,
   "metadata": {},
   "outputs": [
    {
     "data": {
      "text/plain": [
       "(210,)"
      ]
     },
     "execution_count": 117,
     "metadata": {},
     "output_type": "execute_result"
    }
   ],
   "source": [
    "en_fingerprints['you'].values.shape"
   ]
  },
  {
   "cell_type": "code",
   "execution_count": 118,
   "metadata": {},
   "outputs": [
    {
     "data": {
      "text/plain": [
       "(4170, 2)"
      ]
     },
     "execution_count": 118,
     "metadata": {},
     "output_type": "execute_result"
    }
   ],
   "source": [
    "en_corpus[en_corpus.word != \"\\n\"].shape"
   ]
  },
  {
   "cell_type": "code",
   "execution_count": 119,
   "metadata": {},
   "outputs": [
    {
     "data": {
      "text/html": [
       "<div>\n",
       "<style scoped>\n",
       "    .dataframe tbody tr th:only-of-type {\n",
       "        vertical-align: middle;\n",
       "    }\n",
       "\n",
       "    .dataframe tbody tr th {\n",
       "        vertical-align: top;\n",
       "    }\n",
       "\n",
       "    .dataframe thead th {\n",
       "        text-align: right;\n",
       "    }\n",
       "</style>\n",
       "<table border=\"1\" class=\"dataframe\">\n",
       "  <thead>\n",
       "    <tr style=\"text-align: right;\">\n",
       "      <th></th>\n",
       "      <th>text</th>\n",
       "    </tr>\n",
       "  </thead>\n",
       "  <tbody>\n",
       "    <tr>\n",
       "      <th>count</th>\n",
       "      <td>903</td>\n",
       "    </tr>\n",
       "    <tr>\n",
       "      <th>unique</th>\n",
       "      <td>903</td>\n",
       "    </tr>\n",
       "    <tr>\n",
       "      <th>top</th>\n",
       "      <td>rather</td>\n",
       "    </tr>\n",
       "    <tr>\n",
       "      <th>freq</th>\n",
       "      <td>1</td>\n",
       "    </tr>\n",
       "  </tbody>\n",
       "</table>\n",
       "</div>"
      ],
      "text/plain": [
       "          text\n",
       "count      903\n",
       "unique     903\n",
       "top     rather\n",
       "freq         1"
      ]
     },
     "execution_count": 119,
     "metadata": {},
     "output_type": "execute_result"
    }
   ],
   "source": [
    "if is_only_vocab:\n",
    "    text = list(en_corpus[en_corpus.word != \"\\n\"].word.unique())\n",
    "else:\n",
    "    text = list(en_corpus[en_corpus.word != \"\\n\"].word)\n",
    "en_vocab = pd.DataFrame({'text': text})\n",
    "en_vocab.describe()"
   ]
  },
  {
   "cell_type": "code",
   "execution_count": 120,
   "metadata": {
    "colab": {
     "autoexec": {
      "startup": false,
      "wait_interval": 0
     },
     "base_uri": "https://localhost:8080/",
     "height": 190,
     "output_extras": [
      {
       "item_id": 1
      },
      {
       "item_id": 2
      }
     ]
    },
    "colab_type": "code",
    "executionInfo": {
     "elapsed": 40378,
     "status": "ok",
     "timestamp": 1515671247748,
     "user": {
      "displayName": "Michael Franklin Mbouopda",
      "photoUrl": "//lh3.googleusercontent.com/-2_Vuj9ESsJ0/AAAAAAAAAAI/AAAAAAAABSc/r-SRcN0jWPw/s50-c-k-no/photo.jpg",
      "userId": "117384351130599115261"
     },
     "user_tz": -60
    },
    "id": "Mx1Yl-Npvh12",
    "outputId": "29d26922-46c0-47b6-9d1b-26ac26b118d4"
   },
   "outputs": [
    {
     "name": "stdout",
     "output_type": "stream",
     "text": [
      "(903, 210) (210, 903) (903,)\n"
     ]
    }
   ],
   "source": [
    "if is_only_vocab:\n",
    "    X = np.zeros((en_vocab.shape[0] * duplication, en_nb_of_phrases))\n",
    "    target = np.zeros((en_vocab.shape[0] * duplication))\n",
    "    p=0\n",
    "    for i, row in en_vocab.iterrows():\n",
    "        c = row.text\n",
    "        for j in range(duplication):\n",
    "            X[p] = en_fingerprints[c.split(\" \")[0]]\n",
    "            target[p] = tag2int[getTag(en_corpus[en_corpus.word == c.split(\" \")[-1:][0]]['ne-tag'].iloc[0])]\n",
    "            p+=1\n",
    "    X, target = shuffle_data(X, target)\n",
    "    print(X.shape, en_fingerprints.shape, target.shape)"
   ]
  },
  {
   "cell_type": "code",
   "execution_count": 121,
   "metadata": {},
   "outputs": [
    {
     "data": {
      "text/html": [
       "<div>\n",
       "<style scoped>\n",
       "    .dataframe tbody tr th:only-of-type {\n",
       "        vertical-align: middle;\n",
       "    }\n",
       "\n",
       "    .dataframe tbody tr th {\n",
       "        vertical-align: top;\n",
       "    }\n",
       "\n",
       "    .dataframe thead th {\n",
       "        text-align: right;\n",
       "    }\n",
       "</style>\n",
       "<table border=\"1\" class=\"dataframe\">\n",
       "  <thead>\n",
       "    <tr style=\"text-align: right;\">\n",
       "      <th></th>\n",
       "      <th>text</th>\n",
       "    </tr>\n",
       "  </thead>\n",
       "  <tbody>\n",
       "    <tr>\n",
       "      <th>883</th>\n",
       "      <td>Eliud</td>\n",
       "    </tr>\n",
       "    <tr>\n",
       "      <th>884</th>\n",
       "      <td>Eleazar</td>\n",
       "    </tr>\n",
       "    <tr>\n",
       "      <th>885</th>\n",
       "      <td>Matthan</td>\n",
       "    </tr>\n",
       "    <tr>\n",
       "      <th>886</th>\n",
       "      <td>husband</td>\n",
       "    </tr>\n",
       "    <tr>\n",
       "      <th>887</th>\n",
       "      <td>fourteen</td>\n",
       "    </tr>\n",
       "    <tr>\n",
       "      <th>888</th>\n",
       "      <td>unwilling</td>\n",
       "    </tr>\n",
       "    <tr>\n",
       "      <th>889</th>\n",
       "      <td>shame</td>\n",
       "    </tr>\n",
       "    <tr>\n",
       "      <th>890</th>\n",
       "      <td>resolved</td>\n",
       "    </tr>\n",
       "    <tr>\n",
       "      <th>891</th>\n",
       "      <td>divorce</td>\n",
       "    </tr>\n",
       "    <tr>\n",
       "      <th>892</th>\n",
       "      <td>quietly</td>\n",
       "    </tr>\n",
       "    <tr>\n",
       "      <th>893</th>\n",
       "      <td>considered</td>\n",
       "    </tr>\n",
       "    <tr>\n",
       "      <th>894</th>\n",
       "      <td>dream</td>\n",
       "    </tr>\n",
       "    <tr>\n",
       "      <th>895</th>\n",
       "      <td>She</td>\n",
       "    </tr>\n",
       "    <tr>\n",
       "      <th>896</th>\n",
       "      <td>save</td>\n",
       "    </tr>\n",
       "    <tr>\n",
       "      <th>897</th>\n",
       "      <td>fulfill</td>\n",
       "    </tr>\n",
       "    <tr>\n",
       "      <th>898</th>\n",
       "      <td>Immanuel</td>\n",
       "    </tr>\n",
       "    <tr>\n",
       "      <th>899</th>\n",
       "      <td>us)</td>\n",
       "    </tr>\n",
       "    <tr>\n",
       "      <th>900</th>\n",
       "      <td>woke</td>\n",
       "    </tr>\n",
       "    <tr>\n",
       "      <th>901</th>\n",
       "      <td>sleep</td>\n",
       "    </tr>\n",
       "    <tr>\n",
       "      <th>902</th>\n",
       "      <td>knew</td>\n",
       "    </tr>\n",
       "  </tbody>\n",
       "</table>\n",
       "</div>"
      ],
      "text/plain": [
       "           text\n",
       "883       Eliud\n",
       "884     Eleazar\n",
       "885     Matthan\n",
       "886     husband\n",
       "887    fourteen\n",
       "888   unwilling\n",
       "889       shame\n",
       "890    resolved\n",
       "891     divorce\n",
       "892     quietly\n",
       "893  considered\n",
       "894       dream\n",
       "895         She\n",
       "896        save\n",
       "897     fulfill\n",
       "898    Immanuel\n",
       "899         us)\n",
       "900        woke\n",
       "901       sleep\n",
       "902        knew"
      ]
     },
     "execution_count": 121,
     "metadata": {},
     "output_type": "execute_result"
    }
   ],
   "source": [
    "en_vocab[-20:]"
   ]
  },
  {
   "cell_type": "code",
   "execution_count": 122,
   "metadata": {},
   "outputs": [],
   "source": [
    "if not is_only_vocab:\n",
    "    X, target = corpus2trainingdata(en_corpus[en_corpus.word != \"\\n\"], en_fingerprints)"
   ]
  },
  {
   "cell_type": "code",
   "execution_count": 123,
   "metadata": {},
   "outputs": [],
   "source": [
    "if shuffle:\n",
    "    X, target = shuffle_data(X, target)"
   ]
  },
  {
   "cell_type": "code",
   "execution_count": 124,
   "metadata": {
    "colab": {
     "autoexec": {
      "startup": false,
      "wait_interval": 0
     },
     "base_uri": "https://localhost:8080/",
     "height": 102,
     "output_extras": [
      {
       "item_id": 1
      }
     ]
    },
    "colab_type": "code",
    "executionInfo": {
     "elapsed": 1032,
     "status": "ok",
     "timestamp": 1515671250872,
     "user": {
      "displayName": "Michael Franklin Mbouopda",
      "photoUrl": "//lh3.googleusercontent.com/-2_Vuj9ESsJ0/AAAAAAAAAAI/AAAAAAAABSc/r-SRcN0jWPw/s50-c-k-no/photo.jpg",
      "userId": "117384351130599115261"
     },
     "user_tz": -60
    },
    "id": "HLn_an5ExZSC",
    "outputId": "382c3159-7917-40e3-e469-27c244d86663"
   },
   "outputs": [
    {
     "data": {
      "text/plain": [
       "(903, 5)"
      ]
     },
     "execution_count": 124,
     "metadata": {},
     "output_type": "execute_result"
    }
   ],
   "source": [
    "y = target.copy()\n",
    "y[0:100]\n",
    "if not BINARY:\n",
    "    y = np_utils.to_categorical(y, len(tagSet))\n",
    "y.shape"
   ]
  },
  {
   "cell_type": "code",
   "execution_count": 125,
   "metadata": {},
   "outputs": [],
   "source": [
    "from sklearn.decomposition import PCA\n",
    "\n",
    "def visualize(X, y):\n",
    "    pca = PCA(n_components=2)\n",
    "    X_embeded = pca.fit_transform(X)\n",
    "    plt.figure(figsize=(5, 5))\n",
    "    plt.scatter(X_embeded[:, 0], X_embeded[:, 1], c=y)\n",
    "    plt.legend()\n",
    "    plt.show()"
   ]
  },
  {
   "cell_type": "code",
   "execution_count": 126,
   "metadata": {},
   "outputs": [],
   "source": [
    "# visualize(X, target)"
   ]
  },
  {
   "cell_type": "code",
   "execution_count": 127,
   "metadata": {
    "colab": {
     "autoexec": {
      "startup": false,
      "wait_interval": 0
     },
     "base_uri": "https://localhost:8080/",
     "height": 119,
     "output_extras": [
      {
       "item_id": 1
      }
     ]
    },
    "colab_type": "code",
    "executionInfo": {
     "elapsed": 899,
     "status": "ok",
     "timestamp": 1515671252070,
     "user": {
      "displayName": "Michael Franklin Mbouopda",
      "photoUrl": "//lh3.googleusercontent.com/-2_Vuj9ESsJ0/AAAAAAAAAAI/AAAAAAAABSc/r-SRcN0jWPw/s50-c-k-no/photo.jpg",
      "userId": "117384351130599115261"
     },
     "user_tz": -60
    },
    "id": "sF3M9I53xlY1",
    "outputId": "8d011439-2df0-4440-b334-7e21e44c2208"
   },
   "outputs": [
    {
     "name": "stdout",
     "output_type": "stream",
     "text": [
      "X_train.shape = (605, 210)\n",
      "y_train.shape = (605, 5)\n",
      "X_val.shape = (298, 210)\n",
      "y_val.shape = (298, 5)\n",
      "O % in training data = 87.93 %\n",
      "O % in validation data = 88.93 %\n",
      "MISC % in training data = 1.16 %\n",
      "MISC % in validation data = 1.34 %\n",
      "PER % in training data = 8.6 %\n",
      "PER % in validation data = 8.39 %\n",
      "LOC % in training data = 2.31 %\n",
      "LOC % in validation data = 1.01 %\n",
      "ORG % in training data = 0.0 %\n",
      "ORG % in validation data = 0.34 %\n"
     ]
    }
   ],
   "source": [
    "X_train, X_val, y_train, y_val = model_selection.train_test_split(X, y, test_size=0.33)\n",
    "X_train = X_train.reshape(X_train.shape[0], X_train.shape[1])\n",
    "X_val = X_val.reshape(X_val.shape[0], X_val.shape[1])\n",
    "print(\"X_train.shape =\", X_train.shape)\n",
    "print(\"y_train.shape =\", y_train.shape)\n",
    "print(\"X_val.shape =\", X_val.shape)\n",
    "print(\"y_val.shape =\", y_val.shape)\n",
    "\n",
    "tTarget = np.array([np.argmax(yy) for yy in y_train])\n",
    "vTarget = np.array([np.argmax(yy) for yy in y_val])\n",
    "\n",
    "for tag in tagSet:\n",
    "    print(\"{0} % in training data = {1} %\".format(tag, np.round(tTarget[tTarget==tag2int[tag]].size * 100 / tTarget.shape[0], 2)))\n",
    "    print(\"{0} % in validation data = {1} %\".format(tag, np.round(vTarget[vTarget==tag2int[tag]].size * 100 / vTarget.shape[0], 2)))"
   ]
  },
  {
   "cell_type": "code",
   "execution_count": 128,
   "metadata": {
    "colab": {
     "autoexec": {
      "startup": false,
      "wait_interval": 0
     },
     "base_uri": "https://localhost:8080/",
     "height": 173,
     "output_extras": [
      {
       "item_id": 1
      }
     ]
    },
    "colab_type": "code",
    "executionInfo": {
     "elapsed": 758,
     "status": "ok",
     "timestamp": 1515664313240,
     "user": {
      "displayName": "Michael Franklin Mbouopda",
      "photoUrl": "//lh3.googleusercontent.com/-2_Vuj9ESsJ0/AAAAAAAAAAI/AAAAAAAABSc/r-SRcN0jWPw/s50-c-k-no/photo.jpg",
      "userId": "117384351130599115261"
     },
     "user_tz": -60
    },
    "id": "OObRLXTr268N",
    "outputId": "6361a898-fd04-4e15-8aa7-936a12b3221a"
   },
   "outputs": [],
   "source": [
    "ewo_corpus, ewo_nb_of_phrases = load_corpus(ewo_corpus_file, max_nb_of_phrases)"
   ]
  },
  {
   "cell_type": "code",
   "execution_count": 129,
   "metadata": {},
   "outputs": [
    {
     "data": {
      "text/html": [
       "<div>\n",
       "<style scoped>\n",
       "    .dataframe tbody tr th:only-of-type {\n",
       "        vertical-align: middle;\n",
       "    }\n",
       "\n",
       "    .dataframe tbody tr th {\n",
       "        vertical-align: top;\n",
       "    }\n",
       "\n",
       "    .dataframe thead th {\n",
       "        text-align: right;\n",
       "    }\n",
       "</style>\n",
       "<table border=\"1\" class=\"dataframe\">\n",
       "  <thead>\n",
       "    <tr style=\"text-align: right;\">\n",
       "      <th></th>\n",
       "      <th>word</th>\n",
       "      <th>ne-tag</th>\n",
       "    </tr>\n",
       "  </thead>\n",
       "  <tbody>\n",
       "    <tr>\n",
       "      <th>6</th>\n",
       "      <td>Teofil</td>\n",
       "      <td>PER</td>\n",
       "    </tr>\n",
       "    <tr>\n",
       "      <th>15</th>\n",
       "      <td>Yesus</td>\n",
       "      <td>PER</td>\n",
       "    </tr>\n",
       "    <tr>\n",
       "      <th>86</th>\n",
       "      <td>Yohannes</td>\n",
       "      <td>PER</td>\n",
       "    </tr>\n",
       "    <tr>\n",
       "      <th>104</th>\n",
       "      <td>Yesus</td>\n",
       "      <td>PER</td>\n",
       "    </tr>\n",
       "    <tr>\n",
       "      <th>230</th>\n",
       "      <td>Yesus</td>\n",
       "      <td>PER</td>\n",
       "    </tr>\n",
       "    <tr>\n",
       "      <th>...</th>\n",
       "      <td>...</td>\n",
       "      <td>...</td>\n",
       "    </tr>\n",
       "    <tr>\n",
       "      <th>3676</th>\n",
       "      <td>Maria</td>\n",
       "      <td>PER</td>\n",
       "    </tr>\n",
       "    <tr>\n",
       "      <th>3697</th>\n",
       "      <td>Yesus</td>\n",
       "      <td>PER</td>\n",
       "    </tr>\n",
       "    <tr>\n",
       "      <th>3740</th>\n",
       "      <td>Emmanuel</td>\n",
       "      <td>PER</td>\n",
       "    </tr>\n",
       "    <tr>\n",
       "      <th>3750</th>\n",
       "      <td>Yosef</td>\n",
       "      <td>PER</td>\n",
       "    </tr>\n",
       "    <tr>\n",
       "      <th>3778</th>\n",
       "      <td>Yesus</td>\n",
       "      <td>PER</td>\n",
       "    </tr>\n",
       "  </tbody>\n",
       "</table>\n",
       "<p>253 rows × 2 columns</p>\n",
       "</div>"
      ],
      "text/plain": [
       "          word ne-tag\n",
       "6       Teofil    PER\n",
       "15       Yesus    PER\n",
       "86    Yohannes    PER\n",
       "104      Yesus    PER\n",
       "230      Yesus    PER\n",
       "...        ...    ...\n",
       "3676     Maria    PER\n",
       "3697     Yesus    PER\n",
       "3740  Emmanuel    PER\n",
       "3750     Yosef    PER\n",
       "3778     Yesus    PER\n",
       "\n",
       "[253 rows x 2 columns]"
      ]
     },
     "execution_count": 129,
     "metadata": {},
     "output_type": "execute_result"
    }
   ],
   "source": [
    "ewo_corpus.loc[ewo_corpus['ne-tag'] == 'PER']"
   ]
  },
  {
   "cell_type": "code",
   "execution_count": 130,
   "metadata": {
    "colab": {
     "autoexec": {
      "startup": false,
      "wait_interval": 0
     },
     "base_uri": "https://localhost:8080/",
     "height": 173,
     "output_extras": [
      {
       "item_id": 1
      }
     ]
    },
    "colab_type": "code",
    "executionInfo": {
     "elapsed": 758,
     "status": "ok",
     "timestamp": 1515664313240,
     "user": {
      "displayName": "Michael Franklin Mbouopda",
      "photoUrl": "//lh3.googleusercontent.com/-2_Vuj9ESsJ0/AAAAAAAAAAI/AAAAAAAABSc/r-SRcN0jWPw/s50-c-k-no/photo.jpg",
      "userId": "117384351130599115261"
     },
     "user_tz": -60
    },
    "id": "OObRLXTr268N",
    "outputId": "6361a898-fd04-4e15-8aa7-936a12b3221a"
   },
   "outputs": [
    {
     "data": {
      "text/plain": [
       "210"
      ]
     },
     "execution_count": 130,
     "metadata": {},
     "output_type": "execute_result"
    }
   ],
   "source": [
    "ewo_nb_of_phrases"
   ]
  },
  {
   "cell_type": "code",
   "execution_count": 131,
   "metadata": {},
   "outputs": [
    {
     "name": "stdout",
     "output_type": "stream",
     "text": [
      "O % = 84.15 %\n",
      "MISC % = 2.54 %\n",
      "PER % = 6.69 %\n",
      "LOC % = 1.03 %\n",
      "ORG % = 0.05 %\n"
     ]
    }
   ],
   "source": [
    "for tag in tagSet:\n",
    "    print(\"{0} % = {1} %\".format(tag, np.round(ewo_corpus[ewo_corpus['ne-tag']==tag].shape[0] * 100 / ewo_corpus[ewo_corpus['ne-tag']!='\\n'].shape[0], 2)))"
   ]
  },
  {
   "cell_type": "code",
   "execution_count": 132,
   "metadata": {},
   "outputs": [
    {
     "name": "stdout",
     "output_type": "stream",
     "text": [
      "O % = 89.94 %\n",
      "MISC % = 1.17 %\n",
      "PER % = 8.3 %\n",
      "LOC % = 1.86 %\n",
      "ORG % = 0.2 %\n"
     ]
    }
   ],
   "source": [
    "for tag in tagSet:\n",
    "    print(\"{0} % = {1} %\".format(tag, np.round(ewo_corpus[ewo_corpus['ne-tag']==tag].word.unique().shape[0] * 100 / ewo_corpus[ewo_corpus['ne-tag']!='\\n'].word.unique().shape[0], 2)))"
   ]
  },
  {
   "cell_type": "code",
   "execution_count": 133,
   "metadata": {
    "colab": {
     "autoexec": {
      "startup": false,
      "wait_interval": 0
     },
     "base_uri": "https://localhost:8080/",
     "height": 173,
     "output_extras": [
      {
       "item_id": 1
      }
     ]
    },
    "colab_type": "code",
    "executionInfo": {
     "elapsed": 758,
     "status": "ok",
     "timestamp": 1515664313240,
     "user": {
      "displayName": "Michael Franklin Mbouopda",
      "photoUrl": "//lh3.googleusercontent.com/-2_Vuj9ESsJ0/AAAAAAAAAAI/AAAAAAAABSc/r-SRcN0jWPw/s50-c-k-no/photo.jpg",
      "userId": "117384351130599115261"
     },
     "user_tz": -60
    },
    "id": "OObRLXTr268N",
    "outputId": "6361a898-fd04-4e15-8aa7-936a12b3221a"
   },
   "outputs": [
    {
     "data": {
      "text/html": [
       "<div>\n",
       "<style scoped>\n",
       "    .dataframe tbody tr th:only-of-type {\n",
       "        vertical-align: middle;\n",
       "    }\n",
       "\n",
       "    .dataframe tbody tr th {\n",
       "        vertical-align: top;\n",
       "    }\n",
       "\n",
       "    .dataframe thead th {\n",
       "        text-align: right;\n",
       "    }\n",
       "</style>\n",
       "<table border=\"1\" class=\"dataframe\">\n",
       "  <thead>\n",
       "    <tr style=\"text-align: right;\">\n",
       "      <th></th>\n",
       "      <th>word</th>\n",
       "      <th>ne-tag</th>\n",
       "    </tr>\n",
       "  </thead>\n",
       "  <tbody>\n",
       "    <tr>\n",
       "      <th>count</th>\n",
       "      <td>3779</td>\n",
       "      <td>3570</td>\n",
       "    </tr>\n",
       "    <tr>\n",
       "      <th>unique</th>\n",
       "      <td>1024</td>\n",
       "      <td>5</td>\n",
       "    </tr>\n",
       "    <tr>\n",
       "      <th>top</th>\n",
       "      <td>\\n</td>\n",
       "      <td>O</td>\n",
       "    </tr>\n",
       "    <tr>\n",
       "      <th>freq</th>\n",
       "      <td>209</td>\n",
       "      <td>3180</td>\n",
       "    </tr>\n",
       "  </tbody>\n",
       "</table>\n",
       "</div>"
      ],
      "text/plain": [
       "        word ne-tag\n",
       "count   3779   3570\n",
       "unique  1024      5\n",
       "top       \\n      O\n",
       "freq     209   3180"
      ]
     },
     "execution_count": 133,
     "metadata": {},
     "output_type": "execute_result"
    }
   ],
   "source": [
    "ewo_corpus.describe()"
   ]
  },
  {
   "cell_type": "code",
   "execution_count": 134,
   "metadata": {
    "colab": {
     "autoexec": {
      "startup": false,
      "wait_interval": 0
     },
     "base_uri": "https://localhost:8080/",
     "height": 173,
     "output_extras": [
      {
       "item_id": 1
      }
     ]
    },
    "colab_type": "code",
    "executionInfo": {
     "elapsed": 758,
     "status": "ok",
     "timestamp": 1515664313240,
     "user": {
      "displayName": "Michael Franklin Mbouopda",
      "photoUrl": "//lh3.googleusercontent.com/-2_Vuj9ESsJ0/AAAAAAAAAAI/AAAAAAAABSc/r-SRcN0jWPw/s50-c-k-no/photo.jpg",
      "userId": "117384351130599115261"
     },
     "user_tz": -60
    },
    "id": "OObRLXTr268N",
    "outputId": "6361a898-fd04-4e15-8aa7-936a12b3221a"
   },
   "outputs": [
    {
     "data": {
      "text/html": [
       "<div>\n",
       "<style scoped>\n",
       "    .dataframe tbody tr th:only-of-type {\n",
       "        vertical-align: middle;\n",
       "    }\n",
       "\n",
       "    .dataframe tbody tr th {\n",
       "        vertical-align: top;\n",
       "    }\n",
       "\n",
       "    .dataframe thead th {\n",
       "        text-align: right;\n",
       "    }\n",
       "</style>\n",
       "<table border=\"1\" class=\"dataframe\">\n",
       "  <thead>\n",
       "    <tr style=\"text-align: right;\">\n",
       "      <th></th>\n",
       "      <th>word</th>\n",
       "      <th>ne-tag</th>\n",
       "    </tr>\n",
       "  </thead>\n",
       "  <tbody>\n",
       "    <tr>\n",
       "      <th>0</th>\n",
       "      <td>Mfufub</td>\n",
       "      <td>MISC</td>\n",
       "    </tr>\n",
       "    <tr>\n",
       "      <th>1</th>\n",
       "      <td>Nsisim</td>\n",
       "      <td>MISC</td>\n",
       "    </tr>\n",
       "    <tr>\n",
       "      <th>2</th>\n",
       "      <td>ayi</td>\n",
       "      <td>O</td>\n",
       "    </tr>\n",
       "    <tr>\n",
       "      <th>3</th>\n",
       "      <td>sò</td>\n",
       "      <td>O</td>\n",
       "    </tr>\n",
       "    <tr>\n",
       "      <th>4</th>\n",
       "      <td>\\n</td>\n",
       "      <td>None</td>\n",
       "    </tr>\n",
       "  </tbody>\n",
       "</table>\n",
       "</div>"
      ],
      "text/plain": [
       "     word ne-tag\n",
       "0  Mfufub   MISC\n",
       "1  Nsisim   MISC\n",
       "2     ayi      O\n",
       "3      sò      O\n",
       "4      \\n   None"
      ]
     },
     "execution_count": 134,
     "metadata": {},
     "output_type": "execute_result"
    }
   ],
   "source": [
    "ewo_corpus.head()"
   ]
  },
  {
   "cell_type": "code",
   "execution_count": 135,
   "metadata": {
    "colab": {
     "autoexec": {
      "startup": false,
      "wait_interval": 0
     },
     "base_uri": "https://localhost:8080/",
     "height": 214,
     "output_extras": [
      {
       "item_id": 1
      }
     ]
    },
    "colab_type": "code",
    "executionInfo": {
     "elapsed": 1473,
     "status": "error",
     "timestamp": 1515688720429,
     "user": {
      "displayName": "Michael Franklin Mbouopda",
      "photoUrl": "//lh3.googleusercontent.com/-2_Vuj9ESsJ0/AAAAAAAAAAI/AAAAAAAABSc/r-SRcN0jWPw/s50-c-k-no/photo.jpg",
      "userId": "117384351130599115261"
     },
     "user_tz": -60
    },
    "id": "aRDNM0C8yX5N",
    "outputId": "b5a14626-4a9b-484c-c597-f1b1f37673c9"
   },
   "outputs": [],
   "source": [
    "ewo_fingerprints = corpus_fingerprint(ewo_corpus, en_nb_of_phrases)"
   ]
  },
  {
   "cell_type": "code",
   "execution_count": 136,
   "metadata": {
    "colab": {
     "autoexec": {
      "startup": false,
      "wait_interval": 0
     },
     "base_uri": "https://localhost:8080/",
     "height": 214,
     "output_extras": [
      {
       "item_id": 1
      }
     ]
    },
    "colab_type": "code",
    "executionInfo": {
     "elapsed": 1473,
     "status": "error",
     "timestamp": 1515688720429,
     "user": {
      "displayName": "Michael Franklin Mbouopda",
      "photoUrl": "//lh3.googleusercontent.com/-2_Vuj9ESsJ0/AAAAAAAAAAI/AAAAAAAABSc/r-SRcN0jWPw/s50-c-k-no/photo.jpg",
      "userId": "117384351130599115261"
     },
     "user_tz": -60
    },
    "id": "aRDNM0C8yX5N",
    "outputId": "b5a14626-4a9b-484c-c597-f1b1f37673c9"
   },
   "outputs": [],
   "source": [
    "if is_only_vocab:\n",
    "    text = list(ewo_corpus[ewo_corpus.word != \"\\n\"].word.unique())\n",
    "else:\n",
    "    text = list(ewo_corpus[ewo_corpus.word != \"\\n\"].word)\n",
    "ewo_vocab = pd.DataFrame({\"text\":text})"
   ]
  },
  {
   "cell_type": "code",
   "execution_count": 137,
   "metadata": {
    "colab": {
     "autoexec": {
      "startup": false,
      "wait_interval": 0
     },
     "base_uri": "https://localhost:8080/",
     "height": 214,
     "output_extras": [
      {
       "item_id": 1
      }
     ]
    },
    "colab_type": "code",
    "executionInfo": {
     "elapsed": 1473,
     "status": "error",
     "timestamp": 1515688720429,
     "user": {
      "displayName": "Michael Franklin Mbouopda",
      "photoUrl": "//lh3.googleusercontent.com/-2_Vuj9ESsJ0/AAAAAAAAAAI/AAAAAAAABSc/r-SRcN0jWPw/s50-c-k-no/photo.jpg",
      "userId": "117384351130599115261"
     },
     "user_tz": -60
    },
    "id": "aRDNM0C8yX5N",
    "outputId": "b5a14626-4a9b-484c-c597-f1b1f37673c9"
   },
   "outputs": [],
   "source": [
    "if is_only_vocab:\n",
    "    X_ewo = np.zeros((ewo_vocab.shape[0] * duplication, en_nb_of_phrases))\n",
    "    ewo_target = np.zeros((ewo_vocab.shape[0] * duplication))\n",
    "    p=0\n",
    "    for i, row in ewo_vocab.iterrows():\n",
    "        c = row.text\n",
    "        for j in range(duplication):\n",
    "            X_ewo[p] = ewo_fingerprints[c.split(\" \")[0]]\n",
    "            ewo_target[p] = tag2int[getTag(ewo_corpus[ewo_corpus.word == c.split(\" \")[-1:][0]]['ne-tag'].iloc[0])]\n",
    "            p+=1\n",
    "    X_ewo, ewo_target = shuffle_data(X_ewo, ewo_target)"
   ]
  },
  {
   "cell_type": "code",
   "execution_count": 138,
   "metadata": {},
   "outputs": [
    {
     "data": {
      "text/html": [
       "<div>\n",
       "<style scoped>\n",
       "    .dataframe tbody tr th:only-of-type {\n",
       "        vertical-align: middle;\n",
       "    }\n",
       "\n",
       "    .dataframe tbody tr th {\n",
       "        vertical-align: top;\n",
       "    }\n",
       "\n",
       "    .dataframe thead th {\n",
       "        text-align: right;\n",
       "    }\n",
       "</style>\n",
       "<table border=\"1\" class=\"dataframe\">\n",
       "  <thead>\n",
       "    <tr style=\"text-align: right;\">\n",
       "      <th></th>\n",
       "      <th>text</th>\n",
       "    </tr>\n",
       "  </thead>\n",
       "  <tbody>\n",
       "    <tr>\n",
       "      <th>1013</th>\n",
       "      <td>sik</td>\n",
       "    </tr>\n",
       "    <tr>\n",
       "      <th>1014</th>\n",
       "      <td>Ntud</td>\n",
       "    </tr>\n",
       "    <tr>\n",
       "      <th>1015</th>\n",
       "      <td>bëyole</td>\n",
       "    </tr>\n",
       "    <tr>\n",
       "      <th>1016</th>\n",
       "      <td>Emmanuel</td>\n",
       "    </tr>\n",
       "    <tr>\n",
       "      <th>1017</th>\n",
       "      <td>Avëbë</td>\n",
       "    </tr>\n",
       "    <tr>\n",
       "      <th>1018</th>\n",
       "      <td>angavëbë</td>\n",
       "    </tr>\n",
       "    <tr>\n",
       "      <th>1019</th>\n",
       "      <td>oyò</td>\n",
       "    </tr>\n",
       "    <tr>\n",
       "      <th>1020</th>\n",
       "      <td>angabende</td>\n",
       "    </tr>\n",
       "    <tr>\n",
       "      <th>1021</th>\n",
       "      <td>anganòṅ</td>\n",
       "    </tr>\n",
       "    <tr>\n",
       "      <th>1022</th>\n",
       "      <td>angayole</td>\n",
       "    </tr>\n",
       "  </tbody>\n",
       "</table>\n",
       "</div>"
      ],
      "text/plain": [
       "           text\n",
       "1013        sik\n",
       "1014       Ntud\n",
       "1015     bëyole\n",
       "1016   Emmanuel\n",
       "1017      Avëbë\n",
       "1018   angavëbë\n",
       "1019        oyò\n",
       "1020  angabende\n",
       "1021    anganòṅ\n",
       "1022   angayole"
      ]
     },
     "execution_count": 138,
     "metadata": {},
     "output_type": "execute_result"
    }
   ],
   "source": [
    "ewo_vocab[-10:]"
   ]
  },
  {
   "cell_type": "code",
   "execution_count": 139,
   "metadata": {},
   "outputs": [],
   "source": [
    "if not is_only_vocab:\n",
    "    X_ewo, ewo_target = corpus2trainingdata(ewo_corpus[ewo_corpus.word != \"\\n\"], ewo_fingerprints)"
   ]
  },
  {
   "cell_type": "code",
   "execution_count": 140,
   "metadata": {},
   "outputs": [],
   "source": [
    "if shuffle:\n",
    "    X_ewo, ewo_target = shuffle_data(X_ewo, ewo_target)"
   ]
  },
  {
   "cell_type": "code",
   "execution_count": 141,
   "metadata": {},
   "outputs": [
    {
     "name": "stdout",
     "output_type": "stream",
     "text": [
      "(1023,) 1023\n"
     ]
    }
   ],
   "source": [
    "y_ewo = ewo_target.copy()\n",
    "print(y_ewo.shape, len(ewo_vocab))"
   ]
  },
  {
   "cell_type": "code",
   "execution_count": 142,
   "metadata": {},
   "outputs": [
    {
     "data": {
      "text/plain": [
       "(1023, 210)"
      ]
     },
     "execution_count": 142,
     "metadata": {},
     "output_type": "execute_result"
    }
   ],
   "source": [
    "X_ewo.shape"
   ]
  },
  {
   "cell_type": "code",
   "execution_count": 143,
   "metadata": {
    "colab": {
     "autoexec": {
      "startup": false,
      "wait_interval": 0
     },
     "base_uri": "https://localhost:8080/",
     "height": 34,
     "output_extras": [
      {
       "item_id": 1
      }
     ]
    },
    "colab_type": "code",
    "executionInfo": {
     "elapsed": 768,
     "status": "ok",
     "timestamp": 1514134592547,
     "user": {
      "displayName": "Michael Franklin Mbouopda",
      "photoUrl": "//lh3.googleusercontent.com/-2_Vuj9ESsJ0/AAAAAAAAAAI/AAAAAAAABSc/r-SRcN0jWPw/s50-c-k-no/photo.jpg",
      "userId": "117384351130599115261"
     },
     "user_tz": -60
    },
    "id": "fuSYSwUPDiQY",
    "outputId": "658c1a63-1a76-4487-e151-47364c6dbc85"
   },
   "outputs": [],
   "source": [
    "y_ewo = ewo_target.copy()\n",
    "y_ewo[:20]\n",
    "if not BINARY:\n",
    "    y_ewo = np_utils.to_categorical(y_ewo)"
   ]
  },
  {
   "cell_type": "code",
   "execution_count": 144,
   "metadata": {
    "colab": {
     "autoexec": {
      "startup": false,
      "wait_interval": 0
     },
     "base_uri": "https://localhost:8080/",
     "height": 34,
     "output_extras": [
      {
       "item_id": 1
      }
     ]
    },
    "colab_type": "code",
    "executionInfo": {
     "elapsed": 6835,
     "status": "ok",
     "timestamp": 1514134601113,
     "user": {
      "displayName": "Michael Franklin Mbouopda",
      "photoUrl": "//lh3.googleusercontent.com/-2_Vuj9ESsJ0/AAAAAAAAAAI/AAAAAAAABSc/r-SRcN0jWPw/s50-c-k-no/photo.jpg",
      "userId": "117384351130599115261"
     },
     "user_tz": -60
    },
    "id": "Cev5j8YFzPYl",
    "outputId": "87ab5b4b-a75d-43b0-d346-5ba18a4522c0"
   },
   "outputs": [],
   "source": [
    "X_ewo = X_ewo.reshape((X_ewo.shape[0], en_nb_of_phrases))"
   ]
  },
  {
   "cell_type": "code",
   "execution_count": 145,
   "metadata": {},
   "outputs": [],
   "source": [
    "# model = create_model(X.shape[1], len(tagSet))\n",
    "# resultEval, train_by_tag, test_by_tag, ewo_by_tag = algoEval(X_train, y_train, X_val, y_val, X_ewo, y_ewo, model=model)"
   ]
  },
  {
   "cell_type": "code",
   "execution_count": 146,
   "metadata": {},
   "outputs": [],
   "source": [
    "# resultEval"
   ]
  },
  {
   "cell_type": "code",
   "execution_count": 147,
   "metadata": {},
   "outputs": [],
   "source": [
    "# train_by_tag"
   ]
  },
  {
   "cell_type": "code",
   "execution_count": 148,
   "metadata": {},
   "outputs": [],
   "source": [
    "# test_by_tag"
   ]
  },
  {
   "cell_type": "code",
   "execution_count": 149,
   "metadata": {},
   "outputs": [],
   "source": [
    "# ewo_by_tag"
   ]
  },
  {
   "cell_type": "code",
   "execution_count": 150,
   "metadata": {},
   "outputs": [],
   "source": [
    "# resultEval.mean()"
   ]
  },
  {
   "cell_type": "code",
   "execution_count": 151,
   "metadata": {},
   "outputs": [],
   "source": [
    "# resultEval.std()"
   ]
  },
  {
   "cell_type": "code",
   "execution_count": 152,
   "metadata": {
    "scrolled": true
   },
   "outputs": [
    {
     "name": "stdout",
     "output_type": "stream",
     "text": [
      "AlgoCrossValIter - 1\n",
      "Model: \"sequential_11\"\n",
      "_________________________________________________________________\n",
      "Layer (type)                 Output Shape              Param #   \n",
      "=================================================================\n",
      "hidden1 (Dense)              (None, 640)               135040    \n",
      "_________________________________________________________________\n",
      "hidden2 (Dense)              (None, 160)               102560    \n",
      "_________________________________________________________________\n",
      "outputlayer (Dense)          (None, 5)                 805       \n",
      "=================================================================\n",
      "Total params: 238,405\n",
      "Trainable params: 238,405\n",
      "Non-trainable params: 0\n",
      "_________________________________________________________________\n",
      "\n",
      "Epoch 00001: val_loss improved from inf to 0.35019, saving model to best-model-conll.hdfs\n",
      "\n",
      "Epoch 00002: val_loss did not improve from 0.35019\n",
      "\n",
      "Epoch 00003: val_loss improved from 0.35019 to 0.33094, saving model to best-model-conll.hdfs\n",
      "\n",
      "Epoch 00004: val_loss improved from 0.33094 to 0.32961, saving model to best-model-conll.hdfs\n",
      "\n",
      "Epoch 00005: val_loss improved from 0.32961 to 0.30481, saving model to best-model-conll.hdfs\n",
      "\n",
      "Epoch 00006: val_loss did not improve from 0.30481\n",
      "\n",
      "Epoch 00007: val_loss did not improve from 0.30481\n",
      "\n",
      "Epoch 00008: val_loss did not improve from 0.30481\n",
      "\n",
      "Epoch 00009: val_loss did not improve from 0.30481\n",
      "\n",
      "Epoch 00010: val_loss did not improve from 0.30481\n"
     ]
    },
    {
     "name": "stderr",
     "output_type": "stream",
     "text": [
      "/home/frankl1/miniconda3/envs/ner-projection/lib/python3.7/site-packages/ipykernel_launcher.py:17: RuntimeWarning: invalid value encountered in double_scalars\n"
     ]
    },
    {
     "name": "stdout",
     "output_type": "stream",
     "text": [
      "\n",
      "Epoch 00001: val_loss improved from inf to 0.14567, saving model to best-model-conll.hdfs\n",
      "\n",
      "Epoch 00002: val_loss did not improve from 0.14567\n",
      "\n",
      "Epoch 00003: val_loss did not improve from 0.14567\n",
      "\n",
      "Epoch 00004: val_loss did not improve from 0.14567\n",
      "\n",
      "Epoch 00005: val_loss did not improve from 0.14567\n",
      "\n",
      "Epoch 00006: val_loss did not improve from 0.14567\n",
      "\n",
      "Epoch 00007: val_loss did not improve from 0.14567\n",
      "\n",
      "Epoch 00008: val_loss did not improve from 0.14567\n",
      "\n",
      "Epoch 00009: val_loss did not improve from 0.14567\n",
      "\n",
      "Epoch 00010: val_loss did not improve from 0.14567\n"
     ]
    },
    {
     "name": "stderr",
     "output_type": "stream",
     "text": [
      "/home/frankl1/miniconda3/envs/ner-projection/lib/python3.7/site-packages/ipykernel_launcher.py:17: RuntimeWarning: invalid value encountered in double_scalars\n"
     ]
    },
    {
     "name": "stdout",
     "output_type": "stream",
     "text": [
      "\n",
      "Epoch 00001: val_loss improved from inf to 0.07386, saving model to best-model-conll.hdfs\n",
      "\n",
      "Epoch 00002: val_loss did not improve from 0.07386\n",
      "\n",
      "Epoch 00003: val_loss did not improve from 0.07386\n",
      "\n",
      "Epoch 00004: val_loss did not improve from 0.07386\n",
      "\n",
      "Epoch 00005: val_loss did not improve from 0.07386\n",
      "\n",
      "Epoch 00006: val_loss did not improve from 0.07386\n",
      "\n",
      "Epoch 00007: val_loss did not improve from 0.07386\n",
      "\n",
      "Epoch 00008: val_loss did not improve from 0.07386\n",
      "\n",
      "Epoch 00009: val_loss did not improve from 0.07386\n",
      "\n",
      "Epoch 00010: val_loss did not improve from 0.07386\n"
     ]
    },
    {
     "name": "stderr",
     "output_type": "stream",
     "text": [
      "/home/frankl1/miniconda3/envs/ner-projection/lib/python3.7/site-packages/ipykernel_launcher.py:17: RuntimeWarning: invalid value encountered in double_scalars\n"
     ]
    },
    {
     "name": "stdout",
     "output_type": "stream",
     "text": [
      "\n",
      "Epoch 00001: val_loss improved from inf to 0.09657, saving model to best-model-conll.hdfs\n",
      "\n",
      "Epoch 00002: val_loss did not improve from 0.09657\n",
      "\n",
      "Epoch 00003: val_loss did not improve from 0.09657\n",
      "\n",
      "Epoch 00004: val_loss did not improve from 0.09657\n",
      "\n",
      "Epoch 00005: val_loss did not improve from 0.09657\n",
      "\n",
      "Epoch 00006: val_loss did not improve from 0.09657\n",
      "\n",
      "Epoch 00007: val_loss did not improve from 0.09657\n",
      "\n",
      "Epoch 00008: val_loss did not improve from 0.09657\n",
      "\n",
      "Epoch 00009: val_loss did not improve from 0.09657\n",
      "\n",
      "Epoch 00010: val_loss did not improve from 0.09657\n"
     ]
    },
    {
     "name": "stderr",
     "output_type": "stream",
     "text": [
      "/home/frankl1/miniconda3/envs/ner-projection/lib/python3.7/site-packages/ipykernel_launcher.py:17: RuntimeWarning: invalid value encountered in double_scalars\n"
     ]
    },
    {
     "name": "stdout",
     "output_type": "stream",
     "text": [
      "\n",
      "Epoch 00001: val_loss improved from inf to 0.06205, saving model to best-model-conll.hdfs\n",
      "\n",
      "Epoch 00002: val_loss improved from 0.06205 to 0.04640, saving model to best-model-conll.hdfs\n",
      "\n",
      "Epoch 00003: val_loss did not improve from 0.04640\n",
      "\n",
      "Epoch 00004: val_loss did not improve from 0.04640\n",
      "\n",
      "Epoch 00005: val_loss did not improve from 0.04640\n",
      "\n",
      "Epoch 00006: val_loss did not improve from 0.04640\n",
      "\n",
      "Epoch 00007: val_loss did not improve from 0.04640\n",
      "\n",
      "Epoch 00008: val_loss did not improve from 0.04640\n",
      "\n",
      "Epoch 00009: val_loss did not improve from 0.04640\n",
      "\n",
      "Epoch 00010: val_loss did not improve from 0.04640\n"
     ]
    },
    {
     "name": "stderr",
     "output_type": "stream",
     "text": [
      "/home/frankl1/miniconda3/envs/ner-projection/lib/python3.7/site-packages/ipykernel_launcher.py:17: RuntimeWarning: invalid value encountered in double_scalars\n"
     ]
    },
    {
     "name": "stdout",
     "output_type": "stream",
     "text": [
      "\n",
      "Epoch 00001: val_loss improved from inf to 0.06382, saving model to best-model-conll.hdfs\n",
      "\n",
      "Epoch 00002: val_loss did not improve from 0.06382\n",
      "\n",
      "Epoch 00003: val_loss did not improve from 0.06382\n",
      "\n",
      "Epoch 00004: val_loss did not improve from 0.06382\n",
      "\n",
      "Epoch 00005: val_loss did not improve from 0.06382\n",
      "\n",
      "Epoch 00006: val_loss did not improve from 0.06382\n",
      "\n",
      "Epoch 00007: val_loss did not improve from 0.06382\n",
      "\n",
      "Epoch 00008: val_loss did not improve from 0.06382\n",
      "\n",
      "Epoch 00009: val_loss did not improve from 0.06382\n",
      "\n",
      "Epoch 00010: val_loss did not improve from 0.06382\n"
     ]
    },
    {
     "name": "stderr",
     "output_type": "stream",
     "text": [
      "/home/frankl1/miniconda3/envs/ner-projection/lib/python3.7/site-packages/ipykernel_launcher.py:17: RuntimeWarning: invalid value encountered in double_scalars\n"
     ]
    },
    {
     "name": "stdout",
     "output_type": "stream",
     "text": [
      "\n",
      "Epoch 00001: val_loss improved from inf to 0.08616, saving model to best-model-conll.hdfs\n",
      "\n",
      "Epoch 00002: val_loss did not improve from 0.08616\n",
      "\n",
      "Epoch 00003: val_loss did not improve from 0.08616\n",
      "\n",
      "Epoch 00004: val_loss did not improve from 0.08616\n",
      "\n",
      "Epoch 00005: val_loss did not improve from 0.08616\n",
      "\n",
      "Epoch 00006: val_loss did not improve from 0.08616\n",
      "\n",
      "Epoch 00007: val_loss did not improve from 0.08616\n",
      "\n",
      "Epoch 00008: val_loss did not improve from 0.08616\n",
      "\n",
      "Epoch 00009: val_loss did not improve from 0.08616\n",
      "\n",
      "Epoch 00010: val_loss did not improve from 0.08616\n"
     ]
    },
    {
     "name": "stderr",
     "output_type": "stream",
     "text": [
      "/home/frankl1/miniconda3/envs/ner-projection/lib/python3.7/site-packages/ipykernel_launcher.py:17: RuntimeWarning: invalid value encountered in double_scalars\n"
     ]
    },
    {
     "name": "stdout",
     "output_type": "stream",
     "text": [
      "\n",
      "Epoch 00001: val_loss improved from inf to 0.11613, saving model to best-model-conll.hdfs\n",
      "\n",
      "Epoch 00002: val_loss improved from 0.11613 to 0.08164, saving model to best-model-conll.hdfs\n",
      "\n",
      "Epoch 00003: val_loss did not improve from 0.08164\n",
      "\n",
      "Epoch 00004: val_loss did not improve from 0.08164\n",
      "\n",
      "Epoch 00005: val_loss improved from 0.08164 to 0.07975, saving model to best-model-conll.hdfs\n",
      "\n",
      "Epoch 00006: val_loss did not improve from 0.07975\n",
      "\n",
      "Epoch 00007: val_loss did not improve from 0.07975\n",
      "\n",
      "Epoch 00008: val_loss did not improve from 0.07975\n",
      "\n",
      "Epoch 00009: val_loss did not improve from 0.07975\n",
      "\n",
      "Epoch 00010: val_loss did not improve from 0.07975\n",
      "\n",
      "Epoch 00001: val_loss improved from inf to 0.02001, saving model to best-model-conll.hdfs\n",
      "\n",
      "Epoch 00002: val_loss did not improve from 0.02001\n",
      "\n",
      "Epoch 00003: val_loss did not improve from 0.02001\n",
      "\n",
      "Epoch 00004: val_loss did not improve from 0.02001\n",
      "\n",
      "Epoch 00005: val_loss did not improve from 0.02001\n",
      "\n",
      "Epoch 00006: val_loss did not improve from 0.02001\n",
      "\n",
      "Epoch 00007: val_loss did not improve from 0.02001\n",
      "\n",
      "Epoch 00008: val_loss did not improve from 0.02001\n",
      "\n",
      "Epoch 00009: val_loss did not improve from 0.02001\n",
      "\n",
      "Epoch 00010: val_loss did not improve from 0.02001\n"
     ]
    },
    {
     "name": "stderr",
     "output_type": "stream",
     "text": [
      "/home/frankl1/miniconda3/envs/ner-projection/lib/python3.7/site-packages/ipykernel_launcher.py:17: RuntimeWarning: invalid value encountered in double_scalars\n"
     ]
    },
    {
     "name": "stdout",
     "output_type": "stream",
     "text": [
      "\n",
      "Epoch 00001: val_loss improved from inf to 0.06389, saving model to best-model-conll.hdfs\n",
      "\n",
      "Epoch 00002: val_loss did not improve from 0.06389\n",
      "\n",
      "Epoch 00003: val_loss did not improve from 0.06389\n",
      "\n",
      "Epoch 00004: val_loss did not improve from 0.06389\n",
      "\n",
      "Epoch 00005: val_loss did not improve from 0.06389\n",
      "\n",
      "Epoch 00006: val_loss did not improve from 0.06389\n",
      "\n",
      "Epoch 00007: val_loss did not improve from 0.06389\n",
      "\n",
      "Epoch 00008: val_loss did not improve from 0.06389\n",
      "\n",
      "Epoch 00009: val_loss did not improve from 0.06389\n",
      "\n",
      "Epoch 00010: val_loss did not improve from 0.06389\n"
     ]
    },
    {
     "name": "stderr",
     "output_type": "stream",
     "text": [
      "/home/frankl1/miniconda3/envs/ner-projection/lib/python3.7/site-packages/ipykernel_launcher.py:17: RuntimeWarning: invalid value encountered in double_scalars\n"
     ]
    },
    {
     "name": "stdout",
     "output_type": "stream",
     "text": [
      "AlgoCrossValIter - 2\n",
      "Model: \"sequential_12\"\n",
      "_________________________________________________________________\n",
      "Layer (type)                 Output Shape              Param #   \n",
      "=================================================================\n",
      "hidden1 (Dense)              (None, 640)               135040    \n",
      "_________________________________________________________________\n",
      "hidden2 (Dense)              (None, 160)               102560    \n",
      "_________________________________________________________________\n",
      "outputlayer (Dense)          (None, 5)                 805       \n",
      "=================================================================\n",
      "Total params: 238,405\n",
      "Trainable params: 238,405\n",
      "Non-trainable params: 0\n",
      "_________________________________________________________________\n",
      "\n",
      "Epoch 00001: val_loss improved from inf to 0.54894, saving model to best-model-conll.hdfs\n",
      "\n",
      "Epoch 00002: val_loss improved from 0.54894 to 0.48068, saving model to best-model-conll.hdfs\n",
      "\n",
      "Epoch 00003: val_loss improved from 0.48068 to 0.33938, saving model to best-model-conll.hdfs\n",
      "\n",
      "Epoch 00004: val_loss improved from 0.33938 to 0.32715, saving model to best-model-conll.hdfs\n",
      "\n",
      "Epoch 00005: val_loss did not improve from 0.32715\n",
      "\n",
      "Epoch 00006: val_loss did not improve from 0.32715\n",
      "\n",
      "Epoch 00007: val_loss did not improve from 0.32715\n",
      "\n",
      "Epoch 00008: val_loss did not improve from 0.32715\n",
      "\n",
      "Epoch 00009: val_loss did not improve from 0.32715\n",
      "\n",
      "Epoch 00010: val_loss did not improve from 0.32715\n"
     ]
    },
    {
     "name": "stderr",
     "output_type": "stream",
     "text": [
      "/home/frankl1/miniconda3/envs/ner-projection/lib/python3.7/site-packages/ipykernel_launcher.py:17: RuntimeWarning: invalid value encountered in double_scalars\n"
     ]
    },
    {
     "name": "stdout",
     "output_type": "stream",
     "text": [
      "\n",
      "Epoch 00001: val_loss improved from inf to 0.12857, saving model to best-model-conll.hdfs\n",
      "\n",
      "Epoch 00002: val_loss improved from 0.12857 to 0.12272, saving model to best-model-conll.hdfs\n",
      "\n",
      "Epoch 00003: val_loss did not improve from 0.12272\n",
      "\n",
      "Epoch 00004: val_loss did not improve from 0.12272\n",
      "\n",
      "Epoch 00005: val_loss did not improve from 0.12272\n",
      "\n",
      "Epoch 00006: val_loss did not improve from 0.12272\n",
      "\n",
      "Epoch 00007: val_loss did not improve from 0.12272\n",
      "\n",
      "Epoch 00008: val_loss did not improve from 0.12272\n",
      "\n",
      "Epoch 00009: val_loss did not improve from 0.12272\n",
      "\n",
      "Epoch 00010: val_loss did not improve from 0.12272\n"
     ]
    },
    {
     "name": "stderr",
     "output_type": "stream",
     "text": [
      "/home/frankl1/miniconda3/envs/ner-projection/lib/python3.7/site-packages/ipykernel_launcher.py:17: RuntimeWarning: invalid value encountered in double_scalars\n"
     ]
    },
    {
     "name": "stdout",
     "output_type": "stream",
     "text": [
      "\n",
      "Epoch 00001: val_loss improved from inf to 0.07356, saving model to best-model-conll.hdfs\n",
      "\n",
      "Epoch 00002: val_loss did not improve from 0.07356\n",
      "\n",
      "Epoch 00003: val_loss did not improve from 0.07356\n",
      "\n",
      "Epoch 00004: val_loss did not improve from 0.07356\n",
      "\n",
      "Epoch 00005: val_loss did not improve from 0.07356\n",
      "\n",
      "Epoch 00006: val_loss did not improve from 0.07356\n",
      "\n",
      "Epoch 00007: val_loss did not improve from 0.07356\n",
      "\n",
      "Epoch 00008: val_loss did not improve from 0.07356\n",
      "\n",
      "Epoch 00009: val_loss did not improve from 0.07356\n",
      "\n",
      "Epoch 00010: val_loss did not improve from 0.07356\n"
     ]
    },
    {
     "name": "stderr",
     "output_type": "stream",
     "text": [
      "/home/frankl1/miniconda3/envs/ner-projection/lib/python3.7/site-packages/ipykernel_launcher.py:17: RuntimeWarning: invalid value encountered in double_scalars\n"
     ]
    },
    {
     "name": "stdout",
     "output_type": "stream",
     "text": [
      "\n",
      "Epoch 00001: val_loss improved from inf to 0.14355, saving model to best-model-conll.hdfs\n",
      "\n",
      "Epoch 00002: val_loss improved from 0.14355 to 0.13377, saving model to best-model-conll.hdfs\n",
      "\n",
      "Epoch 00003: val_loss did not improve from 0.13377\n",
      "\n",
      "Epoch 00004: val_loss did not improve from 0.13377\n",
      "\n",
      "Epoch 00005: val_loss did not improve from 0.13377\n",
      "\n",
      "Epoch 00006: val_loss did not improve from 0.13377\n",
      "\n",
      "Epoch 00007: val_loss did not improve from 0.13377\n",
      "\n",
      "Epoch 00008: val_loss did not improve from 0.13377\n",
      "\n",
      "Epoch 00009: val_loss did not improve from 0.13377\n",
      "\n",
      "Epoch 00010: val_loss did not improve from 0.13377\n"
     ]
    },
    {
     "name": "stderr",
     "output_type": "stream",
     "text": [
      "/home/frankl1/miniconda3/envs/ner-projection/lib/python3.7/site-packages/ipykernel_launcher.py:17: RuntimeWarning: invalid value encountered in double_scalars\n"
     ]
    },
    {
     "name": "stdout",
     "output_type": "stream",
     "text": [
      "\n",
      "Epoch 00001: val_loss improved from inf to 0.04110, saving model to best-model-conll.hdfs\n",
      "\n",
      "Epoch 00002: val_loss did not improve from 0.04110\n",
      "\n",
      "Epoch 00003: val_loss did not improve from 0.04110\n",
      "\n",
      "Epoch 00004: val_loss did not improve from 0.04110\n",
      "\n",
      "Epoch 00005: val_loss did not improve from 0.04110\n",
      "\n",
      "Epoch 00006: val_loss did not improve from 0.04110\n",
      "\n",
      "Epoch 00007: val_loss did not improve from 0.04110\n",
      "\n",
      "Epoch 00008: val_loss did not improve from 0.04110\n",
      "\n",
      "Epoch 00009: val_loss did not improve from 0.04110\n",
      "\n",
      "Epoch 00010: val_loss did not improve from 0.04110\n"
     ]
    },
    {
     "name": "stderr",
     "output_type": "stream",
     "text": [
      "/home/frankl1/miniconda3/envs/ner-projection/lib/python3.7/site-packages/ipykernel_launcher.py:17: RuntimeWarning: invalid value encountered in double_scalars\n"
     ]
    },
    {
     "name": "stdout",
     "output_type": "stream",
     "text": [
      "\n",
      "Epoch 00001: val_loss improved from inf to 0.08537, saving model to best-model-conll.hdfs\n",
      "\n",
      "Epoch 00002: val_loss improved from 0.08537 to 0.07536, saving model to best-model-conll.hdfs\n",
      "\n",
      "Epoch 00003: val_loss did not improve from 0.07536\n",
      "\n",
      "Epoch 00004: val_loss did not improve from 0.07536\n",
      "\n",
      "Epoch 00005: val_loss did not improve from 0.07536\n",
      "\n",
      "Epoch 00006: val_loss did not improve from 0.07536\n",
      "\n",
      "Epoch 00007: val_loss did not improve from 0.07536\n",
      "\n",
      "Epoch 00008: val_loss did not improve from 0.07536\n",
      "\n",
      "Epoch 00009: val_loss did not improve from 0.07536\n",
      "\n",
      "Epoch 00010: val_loss did not improve from 0.07536\n"
     ]
    },
    {
     "name": "stderr",
     "output_type": "stream",
     "text": [
      "/home/frankl1/miniconda3/envs/ner-projection/lib/python3.7/site-packages/ipykernel_launcher.py:17: RuntimeWarning: invalid value encountered in double_scalars\n"
     ]
    },
    {
     "name": "stdout",
     "output_type": "stream",
     "text": [
      "\n",
      "Epoch 00001: val_loss improved from inf to 0.10552, saving model to best-model-conll.hdfs\n",
      "\n",
      "Epoch 00002: val_loss improved from 0.10552 to 0.10123, saving model to best-model-conll.hdfs\n",
      "\n",
      "Epoch 00003: val_loss did not improve from 0.10123\n",
      "\n",
      "Epoch 00004: val_loss did not improve from 0.10123\n",
      "\n",
      "Epoch 00005: val_loss did not improve from 0.10123\n",
      "\n",
      "Epoch 00006: val_loss did not improve from 0.10123\n",
      "\n",
      "Epoch 00007: val_loss did not improve from 0.10123\n",
      "\n",
      "Epoch 00008: val_loss did not improve from 0.10123\n",
      "\n",
      "Epoch 00009: val_loss did not improve from 0.10123\n",
      "\n",
      "Epoch 00010: val_loss did not improve from 0.10123\n"
     ]
    },
    {
     "name": "stderr",
     "output_type": "stream",
     "text": [
      "/home/frankl1/miniconda3/envs/ner-projection/lib/python3.7/site-packages/ipykernel_launcher.py:17: RuntimeWarning: invalid value encountered in double_scalars\n"
     ]
    },
    {
     "name": "stdout",
     "output_type": "stream",
     "text": [
      "\n",
      "Epoch 00001: val_loss improved from inf to 0.08045, saving model to best-model-conll.hdfs\n",
      "\n",
      "Epoch 00002: val_loss did not improve from 0.08045\n",
      "\n",
      "Epoch 00003: val_loss did not improve from 0.08045\n",
      "\n",
      "Epoch 00004: val_loss did not improve from 0.08045\n",
      "\n",
      "Epoch 00005: val_loss did not improve from 0.08045\n",
      "\n",
      "Epoch 00006: val_loss did not improve from 0.08045\n",
      "\n",
      "Epoch 00007: val_loss did not improve from 0.08045\n",
      "\n",
      "Epoch 00008: val_loss did not improve from 0.08045\n",
      "\n",
      "Epoch 00009: val_loss did not improve from 0.08045\n",
      "\n",
      "Epoch 00010: val_loss did not improve from 0.08045\n"
     ]
    },
    {
     "name": "stderr",
     "output_type": "stream",
     "text": [
      "/home/frankl1/miniconda3/envs/ner-projection/lib/python3.7/site-packages/ipykernel_launcher.py:17: RuntimeWarning: invalid value encountered in double_scalars\n"
     ]
    },
    {
     "name": "stdout",
     "output_type": "stream",
     "text": [
      "\n",
      "Epoch 00001: val_loss improved from inf to 0.01396, saving model to best-model-conll.hdfs\n",
      "\n",
      "Epoch 00002: val_loss did not improve from 0.01396\n",
      "\n",
      "Epoch 00003: val_loss did not improve from 0.01396\n",
      "\n",
      "Epoch 00004: val_loss did not improve from 0.01396\n",
      "\n",
      "Epoch 00005: val_loss did not improve from 0.01396\n",
      "\n",
      "Epoch 00006: val_loss did not improve from 0.01396\n",
      "\n",
      "Epoch 00007: val_loss did not improve from 0.01396\n",
      "\n",
      "Epoch 00008: val_loss did not improve from 0.01396\n",
      "\n",
      "Epoch 00009: val_loss did not improve from 0.01396\n",
      "\n",
      "Epoch 00010: val_loss did not improve from 0.01396\n"
     ]
    },
    {
     "name": "stderr",
     "output_type": "stream",
     "text": [
      "/home/frankl1/miniconda3/envs/ner-projection/lib/python3.7/site-packages/ipykernel_launcher.py:17: RuntimeWarning: invalid value encountered in double_scalars\n"
     ]
    },
    {
     "name": "stdout",
     "output_type": "stream",
     "text": [
      "\n",
      "Epoch 00001: val_loss improved from inf to 0.06528, saving model to best-model-conll.hdfs\n",
      "\n",
      "Epoch 00002: val_loss did not improve from 0.06528\n",
      "\n",
      "Epoch 00003: val_loss did not improve from 0.06528\n",
      "\n",
      "Epoch 00004: val_loss did not improve from 0.06528\n",
      "\n",
      "Epoch 00005: val_loss did not improve from 0.06528\n",
      "\n",
      "Epoch 00006: val_loss did not improve from 0.06528\n",
      "\n",
      "Epoch 00007: val_loss did not improve from 0.06528\n",
      "\n",
      "Epoch 00008: val_loss did not improve from 0.06528\n",
      "\n",
      "Epoch 00009: val_loss did not improve from 0.06528\n",
      "\n",
      "Epoch 00010: val_loss did not improve from 0.06528\n"
     ]
    },
    {
     "name": "stderr",
     "output_type": "stream",
     "text": [
      "/home/frankl1/miniconda3/envs/ner-projection/lib/python3.7/site-packages/ipykernel_launcher.py:17: RuntimeWarning: invalid value encountered in double_scalars\n"
     ]
    },
    {
     "name": "stdout",
     "output_type": "stream",
     "text": [
      "AlgoCrossValIter - 3\n",
      "Model: \"sequential_13\"\n",
      "_________________________________________________________________\n",
      "Layer (type)                 Output Shape              Param #   \n",
      "=================================================================\n",
      "hidden1 (Dense)              (None, 640)               135040    \n",
      "_________________________________________________________________\n",
      "hidden2 (Dense)              (None, 160)               102560    \n",
      "_________________________________________________________________\n",
      "outputlayer (Dense)          (None, 5)                 805       \n",
      "=================================================================\n",
      "Total params: 238,405\n",
      "Trainable params: 238,405\n",
      "Non-trainable params: 0\n",
      "_________________________________________________________________\n",
      "\n",
      "Epoch 00001: val_loss improved from inf to 0.38389, saving model to best-model-conll.hdfs\n",
      "\n",
      "Epoch 00002: val_loss improved from 0.38389 to 0.36174, saving model to best-model-conll.hdfs\n",
      "\n",
      "Epoch 00003: val_loss improved from 0.36174 to 0.35460, saving model to best-model-conll.hdfs\n",
      "\n",
      "Epoch 00004: val_loss improved from 0.35460 to 0.33502, saving model to best-model-conll.hdfs\n",
      "\n",
      "Epoch 00005: val_loss improved from 0.33502 to 0.31647, saving model to best-model-conll.hdfs\n",
      "\n",
      "Epoch 00006: val_loss improved from 0.31647 to 0.30287, saving model to best-model-conll.hdfs\n",
      "\n",
      "Epoch 00007: val_loss improved from 0.30287 to 0.29262, saving model to best-model-conll.hdfs\n",
      "\n",
      "Epoch 00008: val_loss did not improve from 0.29262\n",
      "\n",
      "Epoch 00009: val_loss did not improve from 0.29262\n",
      "\n",
      "Epoch 00010: val_loss did not improve from 0.29262\n"
     ]
    },
    {
     "name": "stderr",
     "output_type": "stream",
     "text": [
      "/home/frankl1/miniconda3/envs/ner-projection/lib/python3.7/site-packages/ipykernel_launcher.py:17: RuntimeWarning: invalid value encountered in double_scalars\n"
     ]
    },
    {
     "name": "stdout",
     "output_type": "stream",
     "text": [
      "\n",
      "Epoch 00001: val_loss improved from inf to 0.14564, saving model to best-model-conll.hdfs\n",
      "\n",
      "Epoch 00002: val_loss did not improve from 0.14564\n",
      "\n",
      "Epoch 00003: val_loss did not improve from 0.14564\n",
      "\n",
      "Epoch 00004: val_loss did not improve from 0.14564\n",
      "\n",
      "Epoch 00005: val_loss did not improve from 0.14564\n",
      "\n",
      "Epoch 00006: val_loss did not improve from 0.14564\n",
      "\n",
      "Epoch 00007: val_loss did not improve from 0.14564\n",
      "\n",
      "Epoch 00008: val_loss did not improve from 0.14564\n",
      "\n",
      "Epoch 00009: val_loss did not improve from 0.14564\n",
      "\n",
      "Epoch 00010: val_loss did not improve from 0.14564\n"
     ]
    },
    {
     "name": "stderr",
     "output_type": "stream",
     "text": [
      "/home/frankl1/miniconda3/envs/ner-projection/lib/python3.7/site-packages/ipykernel_launcher.py:17: RuntimeWarning: invalid value encountered in double_scalars\n"
     ]
    },
    {
     "name": "stdout",
     "output_type": "stream",
     "text": [
      "\n",
      "Epoch 00001: val_loss improved from inf to 0.08258, saving model to best-model-conll.hdfs\n",
      "\n",
      "Epoch 00002: val_loss did not improve from 0.08258\n",
      "\n",
      "Epoch 00003: val_loss did not improve from 0.08258\n",
      "\n",
      "Epoch 00004: val_loss did not improve from 0.08258\n",
      "\n",
      "Epoch 00005: val_loss did not improve from 0.08258\n",
      "\n",
      "Epoch 00006: val_loss did not improve from 0.08258\n",
      "\n",
      "Epoch 00007: val_loss did not improve from 0.08258\n",
      "\n",
      "Epoch 00008: val_loss did not improve from 0.08258\n",
      "\n",
      "Epoch 00009: val_loss did not improve from 0.08258\n",
      "\n",
      "Epoch 00010: val_loss did not improve from 0.08258\n"
     ]
    },
    {
     "name": "stderr",
     "output_type": "stream",
     "text": [
      "/home/frankl1/miniconda3/envs/ner-projection/lib/python3.7/site-packages/ipykernel_launcher.py:17: RuntimeWarning: invalid value encountered in double_scalars\n"
     ]
    },
    {
     "name": "stdout",
     "output_type": "stream",
     "text": [
      "\n",
      "Epoch 00001: val_loss improved from inf to 0.13448, saving model to best-model-conll.hdfs\n",
      "\n",
      "Epoch 00002: val_loss did not improve from 0.13448\n",
      "\n",
      "Epoch 00003: val_loss did not improve from 0.13448\n",
      "\n",
      "Epoch 00004: val_loss did not improve from 0.13448\n",
      "\n",
      "Epoch 00005: val_loss did not improve from 0.13448\n",
      "\n",
      "Epoch 00006: val_loss did not improve from 0.13448\n",
      "\n",
      "Epoch 00007: val_loss did not improve from 0.13448\n",
      "\n",
      "Epoch 00008: val_loss did not improve from 0.13448\n",
      "\n",
      "Epoch 00009: val_loss did not improve from 0.13448\n",
      "\n",
      "Epoch 00010: val_loss did not improve from 0.13448\n"
     ]
    },
    {
     "name": "stderr",
     "output_type": "stream",
     "text": [
      "/home/frankl1/miniconda3/envs/ner-projection/lib/python3.7/site-packages/ipykernel_launcher.py:17: RuntimeWarning: invalid value encountered in double_scalars\n"
     ]
    },
    {
     "name": "stdout",
     "output_type": "stream",
     "text": [
      "\n",
      "Epoch 00001: val_loss improved from inf to 0.05431, saving model to best-model-conll.hdfs\n",
      "\n",
      "Epoch 00002: val_loss did not improve from 0.05431\n",
      "\n",
      "Epoch 00003: val_loss did not improve from 0.05431\n",
      "\n",
      "Epoch 00004: val_loss did not improve from 0.05431\n",
      "\n",
      "Epoch 00005: val_loss did not improve from 0.05431\n",
      "\n",
      "Epoch 00006: val_loss did not improve from 0.05431\n",
      "\n",
      "Epoch 00007: val_loss did not improve from 0.05431\n",
      "\n",
      "Epoch 00008: val_loss did not improve from 0.05431\n",
      "\n",
      "Epoch 00009: val_loss did not improve from 0.05431\n",
      "\n",
      "Epoch 00010: val_loss did not improve from 0.05431\n"
     ]
    },
    {
     "name": "stderr",
     "output_type": "stream",
     "text": [
      "/home/frankl1/miniconda3/envs/ner-projection/lib/python3.7/site-packages/ipykernel_launcher.py:17: RuntimeWarning: invalid value encountered in double_scalars\n"
     ]
    },
    {
     "name": "stdout",
     "output_type": "stream",
     "text": [
      "\n",
      "Epoch 00001: val_loss improved from inf to 0.06259, saving model to best-model-conll.hdfs\n",
      "\n",
      "Epoch 00002: val_loss did not improve from 0.06259\n",
      "\n",
      "Epoch 00003: val_loss did not improve from 0.06259\n",
      "\n",
      "Epoch 00004: val_loss did not improve from 0.06259\n",
      "\n",
      "Epoch 00005: val_loss did not improve from 0.06259\n",
      "\n",
      "Epoch 00006: val_loss did not improve from 0.06259\n",
      "\n",
      "Epoch 00007: val_loss did not improve from 0.06259\n",
      "\n",
      "Epoch 00008: val_loss did not improve from 0.06259\n",
      "\n",
      "Epoch 00009: val_loss did not improve from 0.06259\n",
      "\n",
      "Epoch 00010: val_loss did not improve from 0.06259\n"
     ]
    },
    {
     "name": "stderr",
     "output_type": "stream",
     "text": [
      "/home/frankl1/miniconda3/envs/ner-projection/lib/python3.7/site-packages/ipykernel_launcher.py:17: RuntimeWarning: invalid value encountered in double_scalars\n"
     ]
    },
    {
     "name": "stdout",
     "output_type": "stream",
     "text": [
      "\n",
      "Epoch 00001: val_loss improved from inf to 0.08389, saving model to best-model-conll.hdfs\n",
      "\n",
      "Epoch 00002: val_loss did not improve from 0.08389\n",
      "\n",
      "Epoch 00003: val_loss did not improve from 0.08389\n",
      "\n",
      "Epoch 00004: val_loss did not improve from 0.08389\n",
      "\n",
      "Epoch 00005: val_loss did not improve from 0.08389\n",
      "\n",
      "Epoch 00006: val_loss did not improve from 0.08389\n",
      "\n",
      "Epoch 00007: val_loss did not improve from 0.08389\n",
      "\n",
      "Epoch 00008: val_loss did not improve from 0.08389\n",
      "\n",
      "Epoch 00009: val_loss did not improve from 0.08389\n",
      "\n",
      "Epoch 00010: val_loss did not improve from 0.08389\n"
     ]
    },
    {
     "name": "stderr",
     "output_type": "stream",
     "text": [
      "/home/frankl1/miniconda3/envs/ner-projection/lib/python3.7/site-packages/ipykernel_launcher.py:17: RuntimeWarning: invalid value encountered in double_scalars\n"
     ]
    },
    {
     "name": "stdout",
     "output_type": "stream",
     "text": [
      "\n",
      "Epoch 00001: val_loss improved from inf to 0.08337, saving model to best-model-conll.hdfs\n",
      "\n",
      "Epoch 00002: val_loss did not improve from 0.08337\n",
      "\n",
      "Epoch 00003: val_loss did not improve from 0.08337\n",
      "\n",
      "Epoch 00004: val_loss did not improve from 0.08337\n",
      "\n",
      "Epoch 00005: val_loss did not improve from 0.08337\n",
      "\n",
      "Epoch 00006: val_loss did not improve from 0.08337\n",
      "\n",
      "Epoch 00007: val_loss did not improve from 0.08337\n",
      "\n",
      "Epoch 00008: val_loss did not improve from 0.08337\n",
      "\n",
      "Epoch 00009: val_loss did not improve from 0.08337\n",
      "\n",
      "Epoch 00010: val_loss did not improve from 0.08337\n",
      "\n",
      "Epoch 00001: val_loss improved from inf to 0.02685, saving model to best-model-conll.hdfs\n",
      "\n",
      "Epoch 00002: val_loss improved from 0.02685 to 0.02504, saving model to best-model-conll.hdfs\n",
      "\n",
      "Epoch 00003: val_loss did not improve from 0.02504\n",
      "\n",
      "Epoch 00004: val_loss did not improve from 0.02504\n",
      "\n",
      "Epoch 00005: val_loss did not improve from 0.02504\n",
      "\n",
      "Epoch 00006: val_loss did not improve from 0.02504\n",
      "\n",
      "Epoch 00007: val_loss did not improve from 0.02504\n",
      "\n",
      "Epoch 00008: val_loss did not improve from 0.02504\n",
      "\n",
      "Epoch 00009: val_loss did not improve from 0.02504\n",
      "\n",
      "Epoch 00010: val_loss did not improve from 0.02504\n"
     ]
    },
    {
     "name": "stderr",
     "output_type": "stream",
     "text": [
      "/home/frankl1/miniconda3/envs/ner-projection/lib/python3.7/site-packages/ipykernel_launcher.py:17: RuntimeWarning: invalid value encountered in double_scalars\n"
     ]
    },
    {
     "name": "stdout",
     "output_type": "stream",
     "text": [
      "\n",
      "Epoch 00001: val_loss improved from inf to 0.07514, saving model to best-model-conll.hdfs\n",
      "\n",
      "Epoch 00002: val_loss improved from 0.07514 to 0.07474, saving model to best-model-conll.hdfs\n",
      "\n",
      "Epoch 00003: val_loss did not improve from 0.07474\n",
      "\n",
      "Epoch 00004: val_loss did not improve from 0.07474\n",
      "\n",
      "Epoch 00005: val_loss did not improve from 0.07474\n",
      "\n",
      "Epoch 00006: val_loss did not improve from 0.07474\n",
      "\n",
      "Epoch 00007: val_loss did not improve from 0.07474\n",
      "\n",
      "Epoch 00008: val_loss did not improve from 0.07474\n",
      "\n",
      "Epoch 00009: val_loss did not improve from 0.07474\n",
      "\n",
      "Epoch 00010: val_loss did not improve from 0.07474\n"
     ]
    },
    {
     "name": "stderr",
     "output_type": "stream",
     "text": [
      "/home/frankl1/miniconda3/envs/ner-projection/lib/python3.7/site-packages/ipykernel_launcher.py:17: RuntimeWarning: invalid value encountered in double_scalars\n"
     ]
    },
    {
     "name": "stdout",
     "output_type": "stream",
     "text": [
      "AlgoCrossValIter - 4\n",
      "Model: \"sequential_14\"\n",
      "_________________________________________________________________\n",
      "Layer (type)                 Output Shape              Param #   \n",
      "=================================================================\n",
      "hidden1 (Dense)              (None, 640)               135040    \n",
      "_________________________________________________________________\n",
      "hidden2 (Dense)              (None, 160)               102560    \n",
      "_________________________________________________________________\n",
      "outputlayer (Dense)          (None, 5)                 805       \n",
      "=================================================================\n",
      "Total params: 238,405\n",
      "Trainable params: 238,405\n",
      "Non-trainable params: 0\n",
      "_________________________________________________________________\n",
      "\n",
      "Epoch 00001: val_loss improved from inf to 0.37752, saving model to best-model-conll.hdfs\n",
      "\n",
      "Epoch 00002: val_loss improved from 0.37752 to 0.37277, saving model to best-model-conll.hdfs\n",
      "\n",
      "Epoch 00003: val_loss improved from 0.37277 to 0.32029, saving model to best-model-conll.hdfs\n",
      "\n",
      "Epoch 00004: val_loss improved from 0.32029 to 0.30355, saving model to best-model-conll.hdfs\n",
      "\n",
      "Epoch 00005: val_loss did not improve from 0.30355\n",
      "\n",
      "Epoch 00006: val_loss did not improve from 0.30355\n",
      "\n",
      "Epoch 00007: val_loss improved from 0.30355 to 0.30071, saving model to best-model-conll.hdfs\n",
      "\n",
      "Epoch 00008: val_loss did not improve from 0.30071\n",
      "\n",
      "Epoch 00009: val_loss did not improve from 0.30071\n",
      "\n",
      "Epoch 00010: val_loss did not improve from 0.30071\n"
     ]
    },
    {
     "name": "stderr",
     "output_type": "stream",
     "text": [
      "/home/frankl1/miniconda3/envs/ner-projection/lib/python3.7/site-packages/ipykernel_launcher.py:17: RuntimeWarning: invalid value encountered in double_scalars\n"
     ]
    },
    {
     "name": "stdout",
     "output_type": "stream",
     "text": [
      "\n",
      "Epoch 00001: val_loss improved from inf to 0.14856, saving model to best-model-conll.hdfs\n",
      "\n",
      "Epoch 00002: val_loss improved from 0.14856 to 0.13981, saving model to best-model-conll.hdfs\n",
      "\n",
      "Epoch 00003: val_loss did not improve from 0.13981\n",
      "\n",
      "Epoch 00004: val_loss did not improve from 0.13981\n",
      "\n",
      "Epoch 00005: val_loss did not improve from 0.13981\n",
      "\n",
      "Epoch 00006: val_loss did not improve from 0.13981\n",
      "\n",
      "Epoch 00007: val_loss did not improve from 0.13981\n",
      "\n",
      "Epoch 00008: val_loss did not improve from 0.13981\n",
      "\n",
      "Epoch 00009: val_loss did not improve from 0.13981\n",
      "\n",
      "Epoch 00010: val_loss did not improve from 0.13981\n"
     ]
    },
    {
     "name": "stderr",
     "output_type": "stream",
     "text": [
      "/home/frankl1/miniconda3/envs/ner-projection/lib/python3.7/site-packages/ipykernel_launcher.py:17: RuntimeWarning: invalid value encountered in double_scalars\n"
     ]
    },
    {
     "name": "stdout",
     "output_type": "stream",
     "text": [
      "\n",
      "Epoch 00001: val_loss improved from inf to 0.07121, saving model to best-model-conll.hdfs\n",
      "\n",
      "Epoch 00002: val_loss did not improve from 0.07121\n",
      "\n",
      "Epoch 00003: val_loss did not improve from 0.07121\n",
      "\n",
      "Epoch 00004: val_loss did not improve from 0.07121\n",
      "\n",
      "Epoch 00005: val_loss did not improve from 0.07121\n",
      "\n",
      "Epoch 00006: val_loss did not improve from 0.07121\n",
      "\n",
      "Epoch 00007: val_loss did not improve from 0.07121\n",
      "\n",
      "Epoch 00008: val_loss did not improve from 0.07121\n",
      "\n",
      "Epoch 00009: val_loss did not improve from 0.07121\n",
      "\n",
      "Epoch 00010: val_loss did not improve from 0.07121\n"
     ]
    },
    {
     "name": "stderr",
     "output_type": "stream",
     "text": [
      "/home/frankl1/miniconda3/envs/ner-projection/lib/python3.7/site-packages/ipykernel_launcher.py:17: RuntimeWarning: invalid value encountered in double_scalars\n"
     ]
    },
    {
     "name": "stdout",
     "output_type": "stream",
     "text": [
      "\n",
      "Epoch 00001: val_loss improved from inf to 0.15025, saving model to best-model-conll.hdfs\n",
      "\n",
      "Epoch 00002: val_loss improved from 0.15025 to 0.13901, saving model to best-model-conll.hdfs\n",
      "\n",
      "Epoch 00003: val_loss did not improve from 0.13901\n",
      "\n",
      "Epoch 00004: val_loss did not improve from 0.13901\n",
      "\n",
      "Epoch 00005: val_loss did not improve from 0.13901\n",
      "\n",
      "Epoch 00006: val_loss did not improve from 0.13901\n",
      "\n",
      "Epoch 00007: val_loss did not improve from 0.13901\n",
      "\n",
      "Epoch 00008: val_loss did not improve from 0.13901\n",
      "\n",
      "Epoch 00009: val_loss did not improve from 0.13901\n",
      "\n",
      "Epoch 00010: val_loss did not improve from 0.13901\n"
     ]
    },
    {
     "name": "stderr",
     "output_type": "stream",
     "text": [
      "/home/frankl1/miniconda3/envs/ner-projection/lib/python3.7/site-packages/ipykernel_launcher.py:17: RuntimeWarning: invalid value encountered in double_scalars\n"
     ]
    },
    {
     "name": "stdout",
     "output_type": "stream",
     "text": [
      "\n",
      "Epoch 00001: val_loss improved from inf to 0.03820, saving model to best-model-conll.hdfs\n",
      "\n",
      "Epoch 00002: val_loss did not improve from 0.03820\n",
      "\n",
      "Epoch 00003: val_loss did not improve from 0.03820\n",
      "\n",
      "Epoch 00004: val_loss did not improve from 0.03820\n",
      "\n",
      "Epoch 00005: val_loss did not improve from 0.03820\n",
      "\n",
      "Epoch 00006: val_loss did not improve from 0.03820\n",
      "\n",
      "Epoch 00007: val_loss did not improve from 0.03820\n",
      "\n",
      "Epoch 00008: val_loss did not improve from 0.03820\n",
      "\n",
      "Epoch 00009: val_loss did not improve from 0.03820\n",
      "\n",
      "Epoch 00010: val_loss did not improve from 0.03820\n"
     ]
    },
    {
     "name": "stderr",
     "output_type": "stream",
     "text": [
      "/home/frankl1/miniconda3/envs/ner-projection/lib/python3.7/site-packages/ipykernel_launcher.py:17: RuntimeWarning: invalid value encountered in double_scalars\n"
     ]
    },
    {
     "name": "stdout",
     "output_type": "stream",
     "text": [
      "\n",
      "Epoch 00001: val_loss improved from inf to 0.06983, saving model to best-model-conll.hdfs\n",
      "\n",
      "Epoch 00002: val_loss did not improve from 0.06983\n",
      "\n",
      "Epoch 00003: val_loss did not improve from 0.06983\n",
      "\n",
      "Epoch 00004: val_loss did not improve from 0.06983\n",
      "\n",
      "Epoch 00005: val_loss did not improve from 0.06983\n",
      "\n",
      "Epoch 00006: val_loss did not improve from 0.06983\n",
      "\n",
      "Epoch 00007: val_loss did not improve from 0.06983\n",
      "\n",
      "Epoch 00008: val_loss did not improve from 0.06983\n",
      "\n",
      "Epoch 00009: val_loss did not improve from 0.06983\n",
      "\n",
      "Epoch 00010: val_loss did not improve from 0.06983\n"
     ]
    },
    {
     "name": "stderr",
     "output_type": "stream",
     "text": [
      "/home/frankl1/miniconda3/envs/ner-projection/lib/python3.7/site-packages/ipykernel_launcher.py:17: RuntimeWarning: invalid value encountered in double_scalars\n"
     ]
    },
    {
     "name": "stdout",
     "output_type": "stream",
     "text": [
      "\n",
      "Epoch 00001: val_loss improved from inf to 0.08215, saving model to best-model-conll.hdfs\n",
      "\n",
      "Epoch 00002: val_loss did not improve from 0.08215\n",
      "\n",
      "Epoch 00003: val_loss did not improve from 0.08215\n",
      "\n",
      "Epoch 00004: val_loss did not improve from 0.08215\n",
      "\n",
      "Epoch 00005: val_loss did not improve from 0.08215\n",
      "\n",
      "Epoch 00006: val_loss did not improve from 0.08215\n",
      "\n",
      "Epoch 00007: val_loss did not improve from 0.08215\n",
      "\n",
      "Epoch 00008: val_loss did not improve from 0.08215\n",
      "\n",
      "Epoch 00009: val_loss did not improve from 0.08215\n",
      "\n",
      "Epoch 00010: val_loss did not improve from 0.08215\n"
     ]
    },
    {
     "name": "stderr",
     "output_type": "stream",
     "text": [
      "/home/frankl1/miniconda3/envs/ner-projection/lib/python3.7/site-packages/ipykernel_launcher.py:17: RuntimeWarning: invalid value encountered in double_scalars\n"
     ]
    },
    {
     "name": "stdout",
     "output_type": "stream",
     "text": [
      "\n",
      "Epoch 00001: val_loss improved from inf to 0.08549, saving model to best-model-conll.hdfs\n",
      "\n",
      "Epoch 00002: val_loss did not improve from 0.08549\n",
      "\n",
      "Epoch 00003: val_loss did not improve from 0.08549\n",
      "\n",
      "Epoch 00004: val_loss improved from 0.08549 to 0.08153, saving model to best-model-conll.hdfs\n",
      "\n",
      "Epoch 00005: val_loss did not improve from 0.08153\n",
      "\n",
      "Epoch 00006: val_loss did not improve from 0.08153\n",
      "\n",
      "Epoch 00007: val_loss did not improve from 0.08153\n",
      "\n",
      "Epoch 00008: val_loss did not improve from 0.08153\n",
      "\n",
      "Epoch 00009: val_loss did not improve from 0.08153\n",
      "\n",
      "Epoch 00010: val_loss did not improve from 0.08153\n"
     ]
    },
    {
     "name": "stderr",
     "output_type": "stream",
     "text": [
      "/home/frankl1/miniconda3/envs/ner-projection/lib/python3.7/site-packages/ipykernel_launcher.py:17: RuntimeWarning: invalid value encountered in double_scalars\n"
     ]
    },
    {
     "name": "stdout",
     "output_type": "stream",
     "text": [
      "\n",
      "Epoch 00001: val_loss improved from inf to 0.01236, saving model to best-model-conll.hdfs\n",
      "\n",
      "Epoch 00002: val_loss did not improve from 0.01236\n",
      "\n",
      "Epoch 00003: val_loss did not improve from 0.01236\n",
      "\n",
      "Epoch 00004: val_loss did not improve from 0.01236\n",
      "\n",
      "Epoch 00005: val_loss did not improve from 0.01236\n",
      "\n",
      "Epoch 00006: val_loss did not improve from 0.01236\n",
      "\n",
      "Epoch 00007: val_loss did not improve from 0.01236\n",
      "\n",
      "Epoch 00008: val_loss did not improve from 0.01236\n",
      "\n",
      "Epoch 00009: val_loss did not improve from 0.01236\n",
      "\n",
      "Epoch 00010: val_loss did not improve from 0.01236\n",
      "\n",
      "Epoch 00001: val_loss improved from inf to 0.07021, saving model to best-model-conll.hdfs\n",
      "\n",
      "Epoch 00002: val_loss did not improve from 0.07021\n",
      "\n",
      "Epoch 00003: val_loss did not improve from 0.07021\n",
      "\n",
      "Epoch 00004: val_loss did not improve from 0.07021\n",
      "\n",
      "Epoch 00005: val_loss did not improve from 0.07021\n",
      "\n",
      "Epoch 00006: val_loss did not improve from 0.07021\n",
      "\n",
      "Epoch 00007: val_loss did not improve from 0.07021\n",
      "\n",
      "Epoch 00008: val_loss did not improve from 0.07021\n",
      "\n",
      "Epoch 00009: val_loss did not improve from 0.07021\n",
      "\n",
      "Epoch 00010: val_loss did not improve from 0.07021\n"
     ]
    },
    {
     "name": "stderr",
     "output_type": "stream",
     "text": [
      "/home/frankl1/miniconda3/envs/ner-projection/lib/python3.7/site-packages/ipykernel_launcher.py:17: RuntimeWarning: invalid value encountered in double_scalars\n"
     ]
    },
    {
     "name": "stdout",
     "output_type": "stream",
     "text": [
      "AlgoCrossValIter - 5\n",
      "Model: \"sequential_15\"\n",
      "_________________________________________________________________\n",
      "Layer (type)                 Output Shape              Param #   \n",
      "=================================================================\n",
      "hidden1 (Dense)              (None, 640)               135040    \n",
      "_________________________________________________________________\n",
      "hidden2 (Dense)              (None, 160)               102560    \n",
      "_________________________________________________________________\n",
      "outputlayer (Dense)          (None, 5)                 805       \n",
      "=================================================================\n",
      "Total params: 238,405\n",
      "Trainable params: 238,405\n",
      "Non-trainable params: 0\n",
      "_________________________________________________________________\n",
      "\n",
      "Epoch 00001: val_loss improved from inf to 0.40200, saving model to best-model-conll.hdfs\n",
      "\n",
      "Epoch 00002: val_loss improved from 0.40200 to 0.34184, saving model to best-model-conll.hdfs\n",
      "\n",
      "Epoch 00003: val_loss improved from 0.34184 to 0.32876, saving model to best-model-conll.hdfs\n",
      "\n",
      "Epoch 00004: val_loss improved from 0.32876 to 0.30926, saving model to best-model-conll.hdfs\n",
      "\n",
      "Epoch 00005: val_loss improved from 0.30926 to 0.30641, saving model to best-model-conll.hdfs\n",
      "\n",
      "Epoch 00006: val_loss did not improve from 0.30641\n",
      "\n",
      "Epoch 00007: val_loss did not improve from 0.30641\n",
      "\n",
      "Epoch 00008: val_loss did not improve from 0.30641\n",
      "\n",
      "Epoch 00009: val_loss did not improve from 0.30641\n",
      "\n",
      "Epoch 00010: val_loss did not improve from 0.30641\n"
     ]
    },
    {
     "name": "stderr",
     "output_type": "stream",
     "text": [
      "/home/frankl1/miniconda3/envs/ner-projection/lib/python3.7/site-packages/ipykernel_launcher.py:17: RuntimeWarning: invalid value encountered in double_scalars\n"
     ]
    },
    {
     "name": "stdout",
     "output_type": "stream",
     "text": [
      "\n",
      "Epoch 00001: val_loss improved from inf to 0.14722, saving model to best-model-conll.hdfs\n",
      "\n",
      "Epoch 00002: val_loss improved from 0.14722 to 0.14299, saving model to best-model-conll.hdfs\n",
      "\n",
      "Epoch 00003: val_loss did not improve from 0.14299\n",
      "\n",
      "Epoch 00004: val_loss did not improve from 0.14299\n",
      "\n",
      "Epoch 00005: val_loss did not improve from 0.14299\n",
      "\n",
      "Epoch 00006: val_loss did not improve from 0.14299\n",
      "\n",
      "Epoch 00007: val_loss did not improve from 0.14299\n",
      "\n",
      "Epoch 00008: val_loss did not improve from 0.14299\n",
      "\n",
      "Epoch 00009: val_loss did not improve from 0.14299\n",
      "\n",
      "Epoch 00010: val_loss did not improve from 0.14299\n"
     ]
    },
    {
     "name": "stderr",
     "output_type": "stream",
     "text": [
      "/home/frankl1/miniconda3/envs/ner-projection/lib/python3.7/site-packages/ipykernel_launcher.py:17: RuntimeWarning: invalid value encountered in double_scalars\n"
     ]
    },
    {
     "name": "stdout",
     "output_type": "stream",
     "text": [
      "\n",
      "Epoch 00001: val_loss improved from inf to 0.15124, saving model to best-model-conll.hdfs\n",
      "\n",
      "Epoch 00002: val_loss did not improve from 0.15124\n",
      "\n",
      "Epoch 00003: val_loss did not improve from 0.15124\n",
      "\n",
      "Epoch 00004: val_loss improved from 0.15124 to 0.11334, saving model to best-model-conll.hdfs\n",
      "\n",
      "Epoch 00005: val_loss did not improve from 0.11334\n",
      "\n",
      "Epoch 00006: val_loss did not improve from 0.11334\n",
      "\n",
      "Epoch 00007: val_loss improved from 0.11334 to 0.09627, saving model to best-model-conll.hdfs\n",
      "\n",
      "Epoch 00008: val_loss did not improve from 0.09627\n",
      "\n",
      "Epoch 00009: val_loss did not improve from 0.09627\n",
      "\n",
      "Epoch 00010: val_loss did not improve from 0.09627\n"
     ]
    },
    {
     "name": "stderr",
     "output_type": "stream",
     "text": [
      "/home/frankl1/miniconda3/envs/ner-projection/lib/python3.7/site-packages/ipykernel_launcher.py:17: RuntimeWarning: invalid value encountered in double_scalars\n"
     ]
    },
    {
     "name": "stdout",
     "output_type": "stream",
     "text": [
      "\n",
      "Epoch 00001: val_loss improved from inf to 0.11390, saving model to best-model-conll.hdfs\n",
      "\n",
      "Epoch 00002: val_loss did not improve from 0.11390\n",
      "\n",
      "Epoch 00003: val_loss did not improve from 0.11390\n",
      "\n",
      "Epoch 00004: val_loss did not improve from 0.11390\n",
      "\n",
      "Epoch 00005: val_loss did not improve from 0.11390\n",
      "\n",
      "Epoch 00006: val_loss did not improve from 0.11390\n",
      "\n",
      "Epoch 00007: val_loss did not improve from 0.11390\n",
      "\n",
      "Epoch 00008: val_loss did not improve from 0.11390\n",
      "\n",
      "Epoch 00009: val_loss did not improve from 0.11390\n",
      "\n",
      "Epoch 00010: val_loss did not improve from 0.11390\n"
     ]
    },
    {
     "name": "stderr",
     "output_type": "stream",
     "text": [
      "/home/frankl1/miniconda3/envs/ner-projection/lib/python3.7/site-packages/ipykernel_launcher.py:17: RuntimeWarning: invalid value encountered in double_scalars\n"
     ]
    },
    {
     "name": "stdout",
     "output_type": "stream",
     "text": [
      "\n",
      "Epoch 00001: val_loss improved from inf to 0.03002, saving model to best-model-conll.hdfs\n",
      "\n",
      "Epoch 00002: val_loss did not improve from 0.03002\n",
      "\n",
      "Epoch 00003: val_loss did not improve from 0.03002\n",
      "\n",
      "Epoch 00004: val_loss did not improve from 0.03002\n",
      "\n",
      "Epoch 00005: val_loss did not improve from 0.03002\n",
      "\n",
      "Epoch 00006: val_loss did not improve from 0.03002\n",
      "\n",
      "Epoch 00007: val_loss did not improve from 0.03002\n",
      "\n",
      "Epoch 00008: val_loss did not improve from 0.03002\n",
      "\n",
      "Epoch 00009: val_loss did not improve from 0.03002\n",
      "\n",
      "Epoch 00010: val_loss did not improve from 0.03002\n"
     ]
    },
    {
     "name": "stderr",
     "output_type": "stream",
     "text": [
      "/home/frankl1/miniconda3/envs/ner-projection/lib/python3.7/site-packages/ipykernel_launcher.py:17: RuntimeWarning: invalid value encountered in double_scalars\n"
     ]
    },
    {
     "name": "stdout",
     "output_type": "stream",
     "text": [
      "\n",
      "Epoch 00001: val_loss improved from inf to 0.06927, saving model to best-model-conll.hdfs\n",
      "\n",
      "Epoch 00002: val_loss did not improve from 0.06927\n",
      "\n",
      "Epoch 00003: val_loss did not improve from 0.06927\n",
      "\n",
      "Epoch 00004: val_loss did not improve from 0.06927\n",
      "\n",
      "Epoch 00005: val_loss did not improve from 0.06927\n",
      "\n",
      "Epoch 00006: val_loss did not improve from 0.06927\n",
      "\n",
      "Epoch 00007: val_loss did not improve from 0.06927\n",
      "\n",
      "Epoch 00008: val_loss did not improve from 0.06927\n",
      "\n",
      "Epoch 00009: val_loss did not improve from 0.06927\n",
      "\n",
      "Epoch 00010: val_loss did not improve from 0.06927\n"
     ]
    },
    {
     "name": "stderr",
     "output_type": "stream",
     "text": [
      "/home/frankl1/miniconda3/envs/ner-projection/lib/python3.7/site-packages/ipykernel_launcher.py:17: RuntimeWarning: invalid value encountered in double_scalars\n"
     ]
    },
    {
     "name": "stdout",
     "output_type": "stream",
     "text": [
      "\n",
      "Epoch 00001: val_loss improved from inf to 0.08719, saving model to best-model-conll.hdfs\n",
      "\n",
      "Epoch 00002: val_loss did not improve from 0.08719\n",
      "\n",
      "Epoch 00003: val_loss did not improve from 0.08719\n",
      "\n",
      "Epoch 00004: val_loss did not improve from 0.08719\n",
      "\n",
      "Epoch 00005: val_loss did not improve from 0.08719\n",
      "\n",
      "Epoch 00006: val_loss did not improve from 0.08719\n",
      "\n",
      "Epoch 00007: val_loss did not improve from 0.08719\n",
      "\n",
      "Epoch 00008: val_loss did not improve from 0.08719\n",
      "\n",
      "Epoch 00009: val_loss did not improve from 0.08719\n",
      "\n",
      "Epoch 00010: val_loss did not improve from 0.08719\n"
     ]
    },
    {
     "name": "stderr",
     "output_type": "stream",
     "text": [
      "/home/frankl1/miniconda3/envs/ner-projection/lib/python3.7/site-packages/ipykernel_launcher.py:17: RuntimeWarning: invalid value encountered in double_scalars\n"
     ]
    },
    {
     "name": "stdout",
     "output_type": "stream",
     "text": [
      "\n",
      "Epoch 00001: val_loss improved from inf to 0.07496, saving model to best-model-conll.hdfs\n",
      "\n",
      "Epoch 00002: val_loss did not improve from 0.07496\n",
      "\n",
      "Epoch 00003: val_loss did not improve from 0.07496\n",
      "\n",
      "Epoch 00004: val_loss did not improve from 0.07496\n",
      "\n",
      "Epoch 00005: val_loss did not improve from 0.07496\n",
      "\n",
      "Epoch 00006: val_loss did not improve from 0.07496\n",
      "\n",
      "Epoch 00007: val_loss did not improve from 0.07496\n",
      "\n",
      "Epoch 00008: val_loss did not improve from 0.07496\n",
      "\n",
      "Epoch 00009: val_loss did not improve from 0.07496\n",
      "\n",
      "Epoch 00010: val_loss did not improve from 0.07496\n"
     ]
    },
    {
     "name": "stderr",
     "output_type": "stream",
     "text": [
      "/home/frankl1/miniconda3/envs/ner-projection/lib/python3.7/site-packages/ipykernel_launcher.py:17: RuntimeWarning: invalid value encountered in double_scalars\n"
     ]
    },
    {
     "name": "stdout",
     "output_type": "stream",
     "text": [
      "\n",
      "Epoch 00001: val_loss improved from inf to 0.01564, saving model to best-model-conll.hdfs\n",
      "\n",
      "Epoch 00002: val_loss did not improve from 0.01564\n",
      "\n",
      "Epoch 00003: val_loss did not improve from 0.01564\n",
      "\n",
      "Epoch 00004: val_loss did not improve from 0.01564\n",
      "\n",
      "Epoch 00005: val_loss did not improve from 0.01564\n",
      "\n",
      "Epoch 00006: val_loss did not improve from 0.01564\n",
      "\n",
      "Epoch 00007: val_loss did not improve from 0.01564\n",
      "\n",
      "Epoch 00008: val_loss did not improve from 0.01564\n",
      "\n",
      "Epoch 00009: val_loss did not improve from 0.01564\n",
      "\n",
      "Epoch 00010: val_loss did not improve from 0.01564\n"
     ]
    },
    {
     "name": "stderr",
     "output_type": "stream",
     "text": [
      "/home/frankl1/miniconda3/envs/ner-projection/lib/python3.7/site-packages/ipykernel_launcher.py:17: RuntimeWarning: invalid value encountered in double_scalars\n"
     ]
    },
    {
     "name": "stdout",
     "output_type": "stream",
     "text": [
      "\n",
      "Epoch 00001: val_loss improved from inf to 0.06737, saving model to best-model-conll.hdfs\n",
      "\n",
      "Epoch 00002: val_loss did not improve from 0.06737\n",
      "\n",
      "Epoch 00003: val_loss did not improve from 0.06737\n",
      "\n",
      "Epoch 00004: val_loss did not improve from 0.06737\n",
      "\n",
      "Epoch 00005: val_loss did not improve from 0.06737\n",
      "\n",
      "Epoch 00006: val_loss did not improve from 0.06737\n",
      "\n",
      "Epoch 00007: val_loss did not improve from 0.06737\n",
      "\n",
      "Epoch 00008: val_loss did not improve from 0.06737\n",
      "\n",
      "Epoch 00009: val_loss did not improve from 0.06737\n",
      "\n",
      "Epoch 00010: val_loss did not improve from 0.06737\n"
     ]
    },
    {
     "name": "stderr",
     "output_type": "stream",
     "text": [
      "/home/frankl1/miniconda3/envs/ner-projection/lib/python3.7/site-packages/ipykernel_launcher.py:17: RuntimeWarning: invalid value encountered in double_scalars\n"
     ]
    },
    {
     "name": "stdout",
     "output_type": "stream",
     "text": [
      "AlgoCrossValIter - 6\n",
      "Model: \"sequential_16\"\n",
      "_________________________________________________________________\n",
      "Layer (type)                 Output Shape              Param #   \n",
      "=================================================================\n",
      "hidden1 (Dense)              (None, 640)               135040    \n",
      "_________________________________________________________________\n",
      "hidden2 (Dense)              (None, 160)               102560    \n",
      "_________________________________________________________________\n",
      "outputlayer (Dense)          (None, 5)                 805       \n",
      "=================================================================\n",
      "Total params: 238,405\n",
      "Trainable params: 238,405\n",
      "Non-trainable params: 0\n",
      "_________________________________________________________________\n",
      "\n",
      "Epoch 00001: val_loss improved from inf to 0.39759, saving model to best-model-conll.hdfs\n",
      "\n",
      "Epoch 00002: val_loss improved from 0.39759 to 0.34837, saving model to best-model-conll.hdfs\n",
      "\n",
      "Epoch 00003: val_loss improved from 0.34837 to 0.32493, saving model to best-model-conll.hdfs\n",
      "\n",
      "Epoch 00004: val_loss improved from 0.32493 to 0.32309, saving model to best-model-conll.hdfs\n",
      "\n",
      "Epoch 00005: val_loss improved from 0.32309 to 0.31410, saving model to best-model-conll.hdfs\n",
      "\n",
      "Epoch 00006: val_loss improved from 0.31410 to 0.30409, saving model to best-model-conll.hdfs\n",
      "\n",
      "Epoch 00007: val_loss did not improve from 0.30409\n",
      "\n",
      "Epoch 00008: val_loss did not improve from 0.30409\n",
      "\n",
      "Epoch 00009: val_loss did not improve from 0.30409\n",
      "\n",
      "Epoch 00010: val_loss did not improve from 0.30409\n"
     ]
    },
    {
     "name": "stderr",
     "output_type": "stream",
     "text": [
      "/home/frankl1/miniconda3/envs/ner-projection/lib/python3.7/site-packages/ipykernel_launcher.py:17: RuntimeWarning: invalid value encountered in double_scalars\n"
     ]
    },
    {
     "name": "stdout",
     "output_type": "stream",
     "text": [
      "\n",
      "Epoch 00001: val_loss improved from inf to 0.14162, saving model to best-model-conll.hdfs\n",
      "\n",
      "Epoch 00002: val_loss did not improve from 0.14162\n",
      "\n",
      "Epoch 00003: val_loss did not improve from 0.14162\n",
      "\n",
      "Epoch 00004: val_loss did not improve from 0.14162\n",
      "\n",
      "Epoch 00005: val_loss did not improve from 0.14162\n",
      "\n",
      "Epoch 00006: val_loss did not improve from 0.14162\n",
      "\n",
      "Epoch 00007: val_loss did not improve from 0.14162\n",
      "\n",
      "Epoch 00008: val_loss did not improve from 0.14162\n",
      "\n",
      "Epoch 00009: val_loss did not improve from 0.14162\n",
      "\n",
      "Epoch 00010: val_loss did not improve from 0.14162\n"
     ]
    },
    {
     "name": "stderr",
     "output_type": "stream",
     "text": [
      "/home/frankl1/miniconda3/envs/ner-projection/lib/python3.7/site-packages/ipykernel_launcher.py:17: RuntimeWarning: invalid value encountered in double_scalars\n"
     ]
    },
    {
     "name": "stdout",
     "output_type": "stream",
     "text": [
      "\n",
      "Epoch 00001: val_loss improved from inf to 0.08051, saving model to best-model-conll.hdfs\n",
      "\n",
      "Epoch 00002: val_loss did not improve from 0.08051\n",
      "\n",
      "Epoch 00003: val_loss did not improve from 0.08051\n",
      "\n",
      "Epoch 00004: val_loss did not improve from 0.08051\n",
      "\n",
      "Epoch 00005: val_loss did not improve from 0.08051\n",
      "\n",
      "Epoch 00006: val_loss did not improve from 0.08051\n",
      "\n",
      "Epoch 00007: val_loss did not improve from 0.08051\n",
      "\n",
      "Epoch 00008: val_loss did not improve from 0.08051\n",
      "\n",
      "Epoch 00009: val_loss did not improve from 0.08051\n",
      "\n",
      "Epoch 00010: val_loss did not improve from 0.08051\n"
     ]
    },
    {
     "name": "stderr",
     "output_type": "stream",
     "text": [
      "/home/frankl1/miniconda3/envs/ner-projection/lib/python3.7/site-packages/ipykernel_launcher.py:17: RuntimeWarning: invalid value encountered in double_scalars\n"
     ]
    },
    {
     "name": "stdout",
     "output_type": "stream",
     "text": [
      "\n",
      "Epoch 00001: val_loss improved from inf to 0.11549, saving model to best-model-conll.hdfs\n",
      "\n",
      "Epoch 00002: val_loss did not improve from 0.11549\n",
      "\n",
      "Epoch 00003: val_loss did not improve from 0.11549\n",
      "\n",
      "Epoch 00004: val_loss did not improve from 0.11549\n",
      "\n",
      "Epoch 00005: val_loss did not improve from 0.11549\n",
      "\n",
      "Epoch 00006: val_loss did not improve from 0.11549\n",
      "\n",
      "Epoch 00007: val_loss did not improve from 0.11549\n",
      "\n",
      "Epoch 00008: val_loss did not improve from 0.11549\n",
      "\n",
      "Epoch 00009: val_loss did not improve from 0.11549\n",
      "\n",
      "Epoch 00010: val_loss did not improve from 0.11549\n"
     ]
    },
    {
     "name": "stderr",
     "output_type": "stream",
     "text": [
      "/home/frankl1/miniconda3/envs/ner-projection/lib/python3.7/site-packages/ipykernel_launcher.py:17: RuntimeWarning: invalid value encountered in double_scalars\n"
     ]
    },
    {
     "name": "stdout",
     "output_type": "stream",
     "text": [
      "\n",
      "Epoch 00001: val_loss improved from inf to 0.03795, saving model to best-model-conll.hdfs\n",
      "\n",
      "Epoch 00002: val_loss did not improve from 0.03795\n",
      "\n",
      "Epoch 00003: val_loss did not improve from 0.03795\n",
      "\n",
      "Epoch 00004: val_loss did not improve from 0.03795\n",
      "\n",
      "Epoch 00005: val_loss did not improve from 0.03795\n",
      "\n",
      "Epoch 00006: val_loss did not improve from 0.03795\n",
      "\n",
      "Epoch 00007: val_loss did not improve from 0.03795\n",
      "\n",
      "Epoch 00008: val_loss did not improve from 0.03795\n",
      "\n",
      "Epoch 00009: val_loss did not improve from 0.03795\n",
      "\n",
      "Epoch 00010: val_loss did not improve from 0.03795\n"
     ]
    },
    {
     "name": "stderr",
     "output_type": "stream",
     "text": [
      "/home/frankl1/miniconda3/envs/ner-projection/lib/python3.7/site-packages/ipykernel_launcher.py:17: RuntimeWarning: invalid value encountered in double_scalars\n"
     ]
    },
    {
     "name": "stdout",
     "output_type": "stream",
     "text": [
      "\n",
      "Epoch 00001: val_loss improved from inf to 0.06565, saving model to best-model-conll.hdfs\n",
      "\n",
      "Epoch 00002: val_loss did not improve from 0.06565\n",
      "\n",
      "Epoch 00003: val_loss did not improve from 0.06565\n",
      "\n",
      "Epoch 00004: val_loss did not improve from 0.06565\n",
      "\n",
      "Epoch 00005: val_loss did not improve from 0.06565\n",
      "\n",
      "Epoch 00006: val_loss did not improve from 0.06565\n",
      "\n",
      "Epoch 00007: val_loss did not improve from 0.06565\n",
      "\n",
      "Epoch 00008: val_loss did not improve from 0.06565\n",
      "\n",
      "Epoch 00009: val_loss did not improve from 0.06565\n",
      "\n",
      "Epoch 00010: val_loss did not improve from 0.06565\n"
     ]
    },
    {
     "name": "stderr",
     "output_type": "stream",
     "text": [
      "/home/frankl1/miniconda3/envs/ner-projection/lib/python3.7/site-packages/ipykernel_launcher.py:17: RuntimeWarning: invalid value encountered in double_scalars\n"
     ]
    },
    {
     "name": "stdout",
     "output_type": "stream",
     "text": [
      "\n",
      "Epoch 00001: val_loss improved from inf to 0.11962, saving model to best-model-conll.hdfs\n",
      "\n",
      "Epoch 00002: val_loss improved from 0.11962 to 0.10762, saving model to best-model-conll.hdfs\n",
      "\n",
      "Epoch 00003: val_loss did not improve from 0.10762\n",
      "\n",
      "Epoch 00004: val_loss did not improve from 0.10762\n",
      "\n",
      "Epoch 00005: val_loss did not improve from 0.10762\n",
      "\n",
      "Epoch 00006: val_loss did not improve from 0.10762\n",
      "\n",
      "Epoch 00007: val_loss did not improve from 0.10762\n",
      "\n",
      "Epoch 00008: val_loss did not improve from 0.10762\n",
      "\n",
      "Epoch 00009: val_loss did not improve from 0.10762\n",
      "\n",
      "Epoch 00010: val_loss did not improve from 0.10762\n"
     ]
    },
    {
     "name": "stderr",
     "output_type": "stream",
     "text": [
      "/home/frankl1/miniconda3/envs/ner-projection/lib/python3.7/site-packages/ipykernel_launcher.py:17: RuntimeWarning: invalid value encountered in double_scalars\n"
     ]
    },
    {
     "name": "stdout",
     "output_type": "stream",
     "text": [
      "\n",
      "Epoch 00001: val_loss improved from inf to 0.09355, saving model to best-model-conll.hdfs\n",
      "\n",
      "Epoch 00002: val_loss improved from 0.09355 to 0.08640, saving model to best-model-conll.hdfs\n",
      "\n",
      "Epoch 00003: val_loss did not improve from 0.08640\n",
      "\n",
      "Epoch 00004: val_loss did not improve from 0.08640\n",
      "\n",
      "Epoch 00005: val_loss did not improve from 0.08640\n",
      "\n",
      "Epoch 00006: val_loss did not improve from 0.08640\n",
      "\n",
      "Epoch 00007: val_loss did not improve from 0.08640\n",
      "\n",
      "Epoch 00008: val_loss did not improve from 0.08640\n",
      "\n",
      "Epoch 00009: val_loss did not improve from 0.08640\n",
      "\n",
      "Epoch 00010: val_loss improved from 0.08640 to 0.08252, saving model to best-model-conll.hdfs\n",
      "\n",
      "Epoch 00001: val_loss improved from inf to 0.02639, saving model to best-model-conll.hdfs\n",
      "\n",
      "Epoch 00002: val_loss did not improve from 0.02639\n",
      "\n",
      "Epoch 00003: val_loss did not improve from 0.02639\n",
      "\n",
      "Epoch 00004: val_loss did not improve from 0.02639\n",
      "\n",
      "Epoch 00005: val_loss did not improve from 0.02639\n",
      "\n",
      "Epoch 00006: val_loss did not improve from 0.02639\n",
      "\n",
      "Epoch 00007: val_loss did not improve from 0.02639\n",
      "\n",
      "Epoch 00008: val_loss did not improve from 0.02639\n",
      "\n",
      "Epoch 00009: val_loss did not improve from 0.02639\n",
      "\n",
      "Epoch 00010: val_loss did not improve from 0.02639\n"
     ]
    },
    {
     "name": "stderr",
     "output_type": "stream",
     "text": [
      "/home/frankl1/miniconda3/envs/ner-projection/lib/python3.7/site-packages/ipykernel_launcher.py:17: RuntimeWarning: invalid value encountered in double_scalars\n"
     ]
    },
    {
     "name": "stdout",
     "output_type": "stream",
     "text": [
      "\n",
      "Epoch 00001: val_loss improved from inf to 0.07161, saving model to best-model-conll.hdfs\n",
      "\n",
      "Epoch 00002: val_loss did not improve from 0.07161\n",
      "\n",
      "Epoch 00003: val_loss did not improve from 0.07161\n",
      "\n",
      "Epoch 00004: val_loss did not improve from 0.07161\n",
      "\n",
      "Epoch 00005: val_loss did not improve from 0.07161\n",
      "\n",
      "Epoch 00006: val_loss did not improve from 0.07161\n",
      "\n",
      "Epoch 00007: val_loss did not improve from 0.07161\n",
      "\n",
      "Epoch 00008: val_loss did not improve from 0.07161\n",
      "\n",
      "Epoch 00009: val_loss did not improve from 0.07161\n",
      "\n",
      "Epoch 00010: val_loss did not improve from 0.07161\n"
     ]
    },
    {
     "name": "stderr",
     "output_type": "stream",
     "text": [
      "/home/frankl1/miniconda3/envs/ner-projection/lib/python3.7/site-packages/ipykernel_launcher.py:17: RuntimeWarning: invalid value encountered in double_scalars\n"
     ]
    },
    {
     "name": "stdout",
     "output_type": "stream",
     "text": [
      "AlgoCrossValIter - 7\n",
      "Model: \"sequential_17\"\n",
      "_________________________________________________________________\n",
      "Layer (type)                 Output Shape              Param #   \n",
      "=================================================================\n",
      "hidden1 (Dense)              (None, 640)               135040    \n",
      "_________________________________________________________________\n",
      "hidden2 (Dense)              (None, 160)               102560    \n",
      "_________________________________________________________________\n",
      "outputlayer (Dense)          (None, 5)                 805       \n",
      "=================================================================\n",
      "Total params: 238,405\n",
      "Trainable params: 238,405\n",
      "Non-trainable params: 0\n",
      "_________________________________________________________________\n",
      "\n",
      "Epoch 00001: val_loss improved from inf to 0.39984, saving model to best-model-conll.hdfs\n",
      "\n",
      "Epoch 00002: val_loss improved from 0.39984 to 0.36171, saving model to best-model-conll.hdfs\n",
      "\n",
      "Epoch 00003: val_loss improved from 0.36171 to 0.34643, saving model to best-model-conll.hdfs\n",
      "\n",
      "Epoch 00004: val_loss improved from 0.34643 to 0.30702, saving model to best-model-conll.hdfs\n",
      "\n",
      "Epoch 00005: val_loss improved from 0.30702 to 0.27431, saving model to best-model-conll.hdfs\n",
      "\n",
      "Epoch 00006: val_loss did not improve from 0.27431\n",
      "\n",
      "Epoch 00007: val_loss did not improve from 0.27431\n",
      "\n",
      "Epoch 00008: val_loss did not improve from 0.27431\n",
      "\n",
      "Epoch 00009: val_loss did not improve from 0.27431\n",
      "\n",
      "Epoch 00010: val_loss did not improve from 0.27431\n"
     ]
    },
    {
     "name": "stderr",
     "output_type": "stream",
     "text": [
      "/home/frankl1/miniconda3/envs/ner-projection/lib/python3.7/site-packages/ipykernel_launcher.py:17: RuntimeWarning: invalid value encountered in double_scalars\n"
     ]
    },
    {
     "name": "stdout",
     "output_type": "stream",
     "text": [
      "\n",
      "Epoch 00001: val_loss improved from inf to 0.15199, saving model to best-model-conll.hdfs\n",
      "\n",
      "Epoch 00002: val_loss improved from 0.15199 to 0.14207, saving model to best-model-conll.hdfs\n",
      "\n",
      "Epoch 00003: val_loss improved from 0.14207 to 0.14057, saving model to best-model-conll.hdfs\n",
      "\n",
      "Epoch 00004: val_loss did not improve from 0.14057\n",
      "\n",
      "Epoch 00005: val_loss did not improve from 0.14057\n",
      "\n",
      "Epoch 00006: val_loss did not improve from 0.14057\n",
      "\n",
      "Epoch 00007: val_loss did not improve from 0.14057\n",
      "\n",
      "Epoch 00008: val_loss did not improve from 0.14057\n",
      "\n",
      "Epoch 00009: val_loss did not improve from 0.14057\n",
      "\n",
      "Epoch 00010: val_loss did not improve from 0.14057\n"
     ]
    },
    {
     "name": "stderr",
     "output_type": "stream",
     "text": [
      "/home/frankl1/miniconda3/envs/ner-projection/lib/python3.7/site-packages/ipykernel_launcher.py:17: RuntimeWarning: invalid value encountered in double_scalars\n"
     ]
    },
    {
     "name": "stdout",
     "output_type": "stream",
     "text": [
      "\n",
      "Epoch 00001: val_loss improved from inf to 0.07741, saving model to best-model-conll.hdfs\n",
      "\n",
      "Epoch 00002: val_loss did not improve from 0.07741\n",
      "\n",
      "Epoch 00003: val_loss did not improve from 0.07741\n",
      "\n",
      "Epoch 00004: val_loss did not improve from 0.07741\n",
      "\n",
      "Epoch 00005: val_loss did not improve from 0.07741\n",
      "\n",
      "Epoch 00006: val_loss did not improve from 0.07741\n",
      "\n",
      "Epoch 00007: val_loss did not improve from 0.07741\n",
      "\n",
      "Epoch 00008: val_loss did not improve from 0.07741\n",
      "\n",
      "Epoch 00009: val_loss did not improve from 0.07741\n",
      "\n",
      "Epoch 00010: val_loss did not improve from 0.07741\n"
     ]
    },
    {
     "name": "stderr",
     "output_type": "stream",
     "text": [
      "/home/frankl1/miniconda3/envs/ner-projection/lib/python3.7/site-packages/ipykernel_launcher.py:17: RuntimeWarning: invalid value encountered in double_scalars\n"
     ]
    },
    {
     "name": "stdout",
     "output_type": "stream",
     "text": [
      "\n",
      "Epoch 00001: val_loss improved from inf to 0.12707, saving model to best-model-conll.hdfs\n",
      "\n",
      "Epoch 00002: val_loss improved from 0.12707 to 0.11825, saving model to best-model-conll.hdfs\n",
      "\n",
      "Epoch 00003: val_loss did not improve from 0.11825\n",
      "\n",
      "Epoch 00004: val_loss did not improve from 0.11825\n",
      "\n",
      "Epoch 00005: val_loss did not improve from 0.11825\n",
      "\n",
      "Epoch 00006: val_loss did not improve from 0.11825\n",
      "\n",
      "Epoch 00007: val_loss did not improve from 0.11825\n",
      "\n",
      "Epoch 00008: val_loss did not improve from 0.11825\n",
      "\n",
      "Epoch 00009: val_loss did not improve from 0.11825\n",
      "\n",
      "Epoch 00010: val_loss did not improve from 0.11825\n"
     ]
    },
    {
     "name": "stderr",
     "output_type": "stream",
     "text": [
      "/home/frankl1/miniconda3/envs/ner-projection/lib/python3.7/site-packages/ipykernel_launcher.py:17: RuntimeWarning: invalid value encountered in double_scalars\n"
     ]
    },
    {
     "name": "stdout",
     "output_type": "stream",
     "text": [
      "\n",
      "Epoch 00001: val_loss improved from inf to 0.05475, saving model to best-model-conll.hdfs\n",
      "\n",
      "Epoch 00002: val_loss did not improve from 0.05475\n",
      "\n",
      "Epoch 00003: val_loss did not improve from 0.05475\n",
      "\n",
      "Epoch 00004: val_loss did not improve from 0.05475\n",
      "\n",
      "Epoch 00005: val_loss did not improve from 0.05475\n",
      "\n",
      "Epoch 00006: val_loss did not improve from 0.05475\n",
      "\n",
      "Epoch 00007: val_loss did not improve from 0.05475\n",
      "\n",
      "Epoch 00008: val_loss did not improve from 0.05475\n",
      "\n",
      "Epoch 00009: val_loss did not improve from 0.05475\n",
      "\n",
      "Epoch 00010: val_loss did not improve from 0.05475\n"
     ]
    },
    {
     "name": "stderr",
     "output_type": "stream",
     "text": [
      "/home/frankl1/miniconda3/envs/ner-projection/lib/python3.7/site-packages/ipykernel_launcher.py:17: RuntimeWarning: invalid value encountered in double_scalars\n"
     ]
    },
    {
     "name": "stdout",
     "output_type": "stream",
     "text": [
      "\n",
      "Epoch 00001: val_loss improved from inf to 0.08040, saving model to best-model-conll.hdfs\n",
      "\n",
      "Epoch 00002: val_loss did not improve from 0.08040\n",
      "\n",
      "Epoch 00003: val_loss did not improve from 0.08040\n",
      "\n",
      "Epoch 00004: val_loss did not improve from 0.08040\n",
      "\n",
      "Epoch 00005: val_loss did not improve from 0.08040\n",
      "\n",
      "Epoch 00006: val_loss did not improve from 0.08040\n",
      "\n",
      "Epoch 00007: val_loss did not improve from 0.08040\n",
      "\n",
      "Epoch 00008: val_loss did not improve from 0.08040\n",
      "\n",
      "Epoch 00009: val_loss did not improve from 0.08040\n",
      "\n",
      "Epoch 00010: val_loss did not improve from 0.08040\n"
     ]
    },
    {
     "name": "stderr",
     "output_type": "stream",
     "text": [
      "/home/frankl1/miniconda3/envs/ner-projection/lib/python3.7/site-packages/ipykernel_launcher.py:17: RuntimeWarning: invalid value encountered in double_scalars\n"
     ]
    },
    {
     "name": "stdout",
     "output_type": "stream",
     "text": [
      "\n",
      "Epoch 00001: val_loss improved from inf to 0.09534, saving model to best-model-conll.hdfs\n",
      "\n",
      "Epoch 00002: val_loss did not improve from 0.09534\n",
      "\n",
      "Epoch 00003: val_loss did not improve from 0.09534\n",
      "\n",
      "Epoch 00004: val_loss did not improve from 0.09534\n",
      "\n",
      "Epoch 00005: val_loss did not improve from 0.09534\n",
      "\n",
      "Epoch 00006: val_loss did not improve from 0.09534\n",
      "\n",
      "Epoch 00007: val_loss did not improve from 0.09534\n",
      "\n",
      "Epoch 00008: val_loss did not improve from 0.09534\n",
      "\n",
      "Epoch 00009: val_loss did not improve from 0.09534\n",
      "\n",
      "Epoch 00010: val_loss did not improve from 0.09534\n"
     ]
    },
    {
     "name": "stderr",
     "output_type": "stream",
     "text": [
      "/home/frankl1/miniconda3/envs/ner-projection/lib/python3.7/site-packages/ipykernel_launcher.py:17: RuntimeWarning: invalid value encountered in double_scalars\n"
     ]
    },
    {
     "name": "stdout",
     "output_type": "stream",
     "text": [
      "\n",
      "Epoch 00001: val_loss improved from inf to 0.09348, saving model to best-model-conll.hdfs\n",
      "\n",
      "Epoch 00002: val_loss improved from 0.09348 to 0.08457, saving model to best-model-conll.hdfs\n",
      "\n",
      "Epoch 00003: val_loss did not improve from 0.08457\n",
      "\n",
      "Epoch 00004: val_loss improved from 0.08457 to 0.08275, saving model to best-model-conll.hdfs\n",
      "\n",
      "Epoch 00005: val_loss did not improve from 0.08275\n",
      "\n",
      "Epoch 00006: val_loss did not improve from 0.08275\n",
      "\n",
      "Epoch 00007: val_loss did not improve from 0.08275\n",
      "\n",
      "Epoch 00008: val_loss improved from 0.08275 to 0.08231, saving model to best-model-conll.hdfs\n",
      "\n",
      "Epoch 00009: val_loss did not improve from 0.08231\n",
      "\n",
      "Epoch 00010: val_loss improved from 0.08231 to 0.07956, saving model to best-model-conll.hdfs\n"
     ]
    },
    {
     "name": "stderr",
     "output_type": "stream",
     "text": [
      "/home/frankl1/miniconda3/envs/ner-projection/lib/python3.7/site-packages/ipykernel_launcher.py:17: RuntimeWarning: invalid value encountered in double_scalars\n"
     ]
    },
    {
     "name": "stdout",
     "output_type": "stream",
     "text": [
      "\n",
      "Epoch 00001: val_loss improved from inf to 0.01710, saving model to best-model-conll.hdfs\n",
      "\n",
      "Epoch 00002: val_loss did not improve from 0.01710\n",
      "\n",
      "Epoch 00003: val_loss did not improve from 0.01710\n",
      "\n",
      "Epoch 00004: val_loss did not improve from 0.01710\n",
      "\n",
      "Epoch 00005: val_loss did not improve from 0.01710\n",
      "\n",
      "Epoch 00006: val_loss did not improve from 0.01710\n",
      "\n",
      "Epoch 00007: val_loss did not improve from 0.01710\n",
      "\n",
      "Epoch 00008: val_loss did not improve from 0.01710\n",
      "\n",
      "Epoch 00009: val_loss did not improve from 0.01710\n",
      "\n",
      "Epoch 00010: val_loss did not improve from 0.01710\n",
      "\n",
      "Epoch 00001: val_loss improved from inf to 0.07463, saving model to best-model-conll.hdfs\n",
      "\n",
      "Epoch 00002: val_loss did not improve from 0.07463\n",
      "\n",
      "Epoch 00003: val_loss did not improve from 0.07463\n",
      "\n",
      "Epoch 00004: val_loss did not improve from 0.07463\n",
      "\n",
      "Epoch 00005: val_loss did not improve from 0.07463\n",
      "\n",
      "Epoch 00006: val_loss did not improve from 0.07463\n",
      "\n",
      "Epoch 00007: val_loss did not improve from 0.07463\n",
      "\n",
      "Epoch 00008: val_loss did not improve from 0.07463\n",
      "\n",
      "Epoch 00009: val_loss did not improve from 0.07463\n",
      "\n",
      "Epoch 00010: val_loss did not improve from 0.07463\n"
     ]
    },
    {
     "name": "stderr",
     "output_type": "stream",
     "text": [
      "/home/frankl1/miniconda3/envs/ner-projection/lib/python3.7/site-packages/ipykernel_launcher.py:17: RuntimeWarning: invalid value encountered in double_scalars\n"
     ]
    },
    {
     "name": "stdout",
     "output_type": "stream",
     "text": [
      "AlgoCrossValIter - 8\n",
      "Model: \"sequential_18\"\n",
      "_________________________________________________________________\n",
      "Layer (type)                 Output Shape              Param #   \n",
      "=================================================================\n",
      "hidden1 (Dense)              (None, 640)               135040    \n",
      "_________________________________________________________________\n",
      "hidden2 (Dense)              (None, 160)               102560    \n",
      "_________________________________________________________________\n",
      "outputlayer (Dense)          (None, 5)                 805       \n",
      "=================================================================\n",
      "Total params: 238,405\n",
      "Trainable params: 238,405\n",
      "Non-trainable params: 0\n",
      "_________________________________________________________________\n",
      "\n",
      "Epoch 00001: val_loss improved from inf to 0.38983, saving model to best-model-conll.hdfs\n",
      "\n",
      "Epoch 00002: val_loss improved from 0.38983 to 0.37201, saving model to best-model-conll.hdfs\n",
      "\n",
      "Epoch 00003: val_loss improved from 0.37201 to 0.33785, saving model to best-model-conll.hdfs\n",
      "\n",
      "Epoch 00004: val_loss improved from 0.33785 to 0.32692, saving model to best-model-conll.hdfs\n",
      "\n",
      "Epoch 00005: val_loss improved from 0.32692 to 0.30485, saving model to best-model-conll.hdfs\n",
      "\n",
      "Epoch 00006: val_loss did not improve from 0.30485\n",
      "\n",
      "Epoch 00007: val_loss did not improve from 0.30485\n",
      "\n",
      "Epoch 00008: val_loss did not improve from 0.30485\n",
      "\n",
      "Epoch 00009: val_loss did not improve from 0.30485\n",
      "\n",
      "Epoch 00010: val_loss did not improve from 0.30485\n"
     ]
    },
    {
     "name": "stderr",
     "output_type": "stream",
     "text": [
      "/home/frankl1/miniconda3/envs/ner-projection/lib/python3.7/site-packages/ipykernel_launcher.py:17: RuntimeWarning: invalid value encountered in double_scalars\n"
     ]
    },
    {
     "name": "stdout",
     "output_type": "stream",
     "text": [
      "\n",
      "Epoch 00001: val_loss improved from inf to 0.16984, saving model to best-model-conll.hdfs\n",
      "\n",
      "Epoch 00002: val_loss improved from 0.16984 to 0.13951, saving model to best-model-conll.hdfs\n",
      "\n",
      "Epoch 00003: val_loss did not improve from 0.13951\n",
      "\n",
      "Epoch 00004: val_loss did not improve from 0.13951\n",
      "\n",
      "Epoch 00005: val_loss did not improve from 0.13951\n",
      "\n",
      "Epoch 00006: val_loss did not improve from 0.13951\n",
      "\n",
      "Epoch 00007: val_loss did not improve from 0.13951\n",
      "\n",
      "Epoch 00008: val_loss did not improve from 0.13951\n",
      "\n",
      "Epoch 00009: val_loss did not improve from 0.13951\n",
      "\n",
      "Epoch 00010: val_loss did not improve from 0.13951\n"
     ]
    },
    {
     "name": "stderr",
     "output_type": "stream",
     "text": [
      "/home/frankl1/miniconda3/envs/ner-projection/lib/python3.7/site-packages/ipykernel_launcher.py:17: RuntimeWarning: invalid value encountered in double_scalars\n"
     ]
    },
    {
     "name": "stdout",
     "output_type": "stream",
     "text": [
      "\n",
      "Epoch 00001: val_loss improved from inf to 0.07210, saving model to best-model-conll.hdfs\n",
      "\n",
      "Epoch 00002: val_loss did not improve from 0.07210\n",
      "\n",
      "Epoch 00003: val_loss did not improve from 0.07210\n",
      "\n",
      "Epoch 00004: val_loss did not improve from 0.07210\n",
      "\n",
      "Epoch 00005: val_loss did not improve from 0.07210\n",
      "\n",
      "Epoch 00006: val_loss did not improve from 0.07210\n",
      "\n",
      "Epoch 00007: val_loss did not improve from 0.07210\n",
      "\n",
      "Epoch 00008: val_loss did not improve from 0.07210\n",
      "\n",
      "Epoch 00009: val_loss did not improve from 0.07210\n",
      "\n",
      "Epoch 00010: val_loss did not improve from 0.07210\n"
     ]
    },
    {
     "name": "stderr",
     "output_type": "stream",
     "text": [
      "/home/frankl1/miniconda3/envs/ner-projection/lib/python3.7/site-packages/ipykernel_launcher.py:17: RuntimeWarning: invalid value encountered in double_scalars\n"
     ]
    },
    {
     "name": "stdout",
     "output_type": "stream",
     "text": [
      "\n",
      "Epoch 00001: val_loss improved from inf to 0.18206, saving model to best-model-conll.hdfs\n",
      "\n",
      "Epoch 00002: val_loss improved from 0.18206 to 0.13081, saving model to best-model-conll.hdfs\n",
      "\n",
      "Epoch 00003: val_loss did not improve from 0.13081\n",
      "\n",
      "Epoch 00004: val_loss did not improve from 0.13081\n",
      "\n",
      "Epoch 00005: val_loss did not improve from 0.13081\n",
      "\n",
      "Epoch 00006: val_loss did not improve from 0.13081\n",
      "\n",
      "Epoch 00007: val_loss did not improve from 0.13081\n",
      "\n",
      "Epoch 00008: val_loss did not improve from 0.13081\n",
      "\n",
      "Epoch 00009: val_loss did not improve from 0.13081\n",
      "\n",
      "Epoch 00010: val_loss did not improve from 0.13081\n"
     ]
    },
    {
     "name": "stderr",
     "output_type": "stream",
     "text": [
      "/home/frankl1/miniconda3/envs/ner-projection/lib/python3.7/site-packages/ipykernel_launcher.py:17: RuntimeWarning: invalid value encountered in double_scalars\n"
     ]
    },
    {
     "name": "stdout",
     "output_type": "stream",
     "text": [
      "\n",
      "Epoch 00001: val_loss improved from inf to 0.03538, saving model to best-model-conll.hdfs\n",
      "\n",
      "Epoch 00002: val_loss did not improve from 0.03538\n",
      "\n",
      "Epoch 00003: val_loss did not improve from 0.03538\n",
      "\n",
      "Epoch 00004: val_loss did not improve from 0.03538\n",
      "\n",
      "Epoch 00005: val_loss did not improve from 0.03538\n",
      "\n",
      "Epoch 00006: val_loss did not improve from 0.03538\n",
      "\n",
      "Epoch 00007: val_loss did not improve from 0.03538\n",
      "\n",
      "Epoch 00008: val_loss did not improve from 0.03538\n",
      "\n",
      "Epoch 00009: val_loss did not improve from 0.03538\n",
      "\n",
      "Epoch 00010: val_loss did not improve from 0.03538\n"
     ]
    },
    {
     "name": "stderr",
     "output_type": "stream",
     "text": [
      "/home/frankl1/miniconda3/envs/ner-projection/lib/python3.7/site-packages/ipykernel_launcher.py:17: RuntimeWarning: invalid value encountered in double_scalars\n"
     ]
    },
    {
     "name": "stdout",
     "output_type": "stream",
     "text": [
      "\n",
      "Epoch 00001: val_loss improved from inf to 0.12044, saving model to best-model-conll.hdfs\n",
      "\n",
      "Epoch 00002: val_loss improved from 0.12044 to 0.11297, saving model to best-model-conll.hdfs\n",
      "\n",
      "Epoch 00003: val_loss improved from 0.11297 to 0.09947, saving model to best-model-conll.hdfs\n",
      "\n",
      "Epoch 00004: val_loss did not improve from 0.09947\n",
      "\n",
      "Epoch 00005: val_loss did not improve from 0.09947\n",
      "\n",
      "Epoch 00006: val_loss did not improve from 0.09947\n",
      "\n",
      "Epoch 00007: val_loss did not improve from 0.09947\n",
      "\n",
      "Epoch 00008: val_loss did not improve from 0.09947\n",
      "\n",
      "Epoch 00009: val_loss did not improve from 0.09947\n",
      "\n",
      "Epoch 00010: val_loss did not improve from 0.09947\n"
     ]
    },
    {
     "name": "stderr",
     "output_type": "stream",
     "text": [
      "/home/frankl1/miniconda3/envs/ner-projection/lib/python3.7/site-packages/ipykernel_launcher.py:17: RuntimeWarning: invalid value encountered in double_scalars\n"
     ]
    },
    {
     "name": "stdout",
     "output_type": "stream",
     "text": [
      "\n",
      "Epoch 00001: val_loss improved from inf to 0.08488, saving model to best-model-conll.hdfs\n",
      "\n",
      "Epoch 00002: val_loss did not improve from 0.08488\n",
      "\n",
      "Epoch 00003: val_loss did not improve from 0.08488\n",
      "\n",
      "Epoch 00004: val_loss did not improve from 0.08488\n",
      "\n",
      "Epoch 00005: val_loss did not improve from 0.08488\n",
      "\n",
      "Epoch 00006: val_loss did not improve from 0.08488\n",
      "\n",
      "Epoch 00007: val_loss did not improve from 0.08488\n",
      "\n",
      "Epoch 00008: val_loss did not improve from 0.08488\n",
      "\n",
      "Epoch 00009: val_loss did not improve from 0.08488\n",
      "\n",
      "Epoch 00010: val_loss did not improve from 0.08488\n"
     ]
    },
    {
     "name": "stderr",
     "output_type": "stream",
     "text": [
      "/home/frankl1/miniconda3/envs/ner-projection/lib/python3.7/site-packages/ipykernel_launcher.py:17: RuntimeWarning: invalid value encountered in double_scalars\n"
     ]
    },
    {
     "name": "stdout",
     "output_type": "stream",
     "text": [
      "\n",
      "Epoch 00001: val_loss improved from inf to 0.07787, saving model to best-model-conll.hdfs\n",
      "\n",
      "Epoch 00002: val_loss did not improve from 0.07787\n",
      "\n",
      "Epoch 00003: val_loss did not improve from 0.07787\n",
      "\n",
      "Epoch 00004: val_loss did not improve from 0.07787\n",
      "\n",
      "Epoch 00005: val_loss did not improve from 0.07787\n",
      "\n",
      "Epoch 00006: val_loss did not improve from 0.07787\n",
      "\n",
      "Epoch 00007: val_loss did not improve from 0.07787\n",
      "\n",
      "Epoch 00008: val_loss did not improve from 0.07787\n",
      "\n",
      "Epoch 00009: val_loss did not improve from 0.07787\n",
      "\n",
      "Epoch 00010: val_loss did not improve from 0.07787\n"
     ]
    },
    {
     "name": "stderr",
     "output_type": "stream",
     "text": [
      "/home/frankl1/miniconda3/envs/ner-projection/lib/python3.7/site-packages/ipykernel_launcher.py:17: RuntimeWarning: invalid value encountered in double_scalars\n"
     ]
    },
    {
     "name": "stdout",
     "output_type": "stream",
     "text": [
      "\n",
      "Epoch 00001: val_loss improved from inf to 0.02250, saving model to best-model-conll.hdfs\n",
      "\n",
      "Epoch 00002: val_loss did not improve from 0.02250\n",
      "\n",
      "Epoch 00003: val_loss did not improve from 0.02250\n",
      "\n",
      "Epoch 00004: val_loss did not improve from 0.02250\n",
      "\n",
      "Epoch 00005: val_loss did not improve from 0.02250\n",
      "\n",
      "Epoch 00006: val_loss did not improve from 0.02250\n",
      "\n",
      "Epoch 00007: val_loss did not improve from 0.02250\n",
      "\n",
      "Epoch 00008: val_loss did not improve from 0.02250\n",
      "\n",
      "Epoch 00009: val_loss did not improve from 0.02250\n",
      "\n",
      "Epoch 00010: val_loss did not improve from 0.02250\n"
     ]
    },
    {
     "name": "stderr",
     "output_type": "stream",
     "text": [
      "/home/frankl1/miniconda3/envs/ner-projection/lib/python3.7/site-packages/ipykernel_launcher.py:17: RuntimeWarning: invalid value encountered in double_scalars\n"
     ]
    },
    {
     "name": "stdout",
     "output_type": "stream",
     "text": [
      "\n",
      "Epoch 00001: val_loss improved from inf to 0.07204, saving model to best-model-conll.hdfs\n",
      "\n",
      "Epoch 00002: val_loss did not improve from 0.07204\n",
      "\n",
      "Epoch 00003: val_loss did not improve from 0.07204\n",
      "\n",
      "Epoch 00004: val_loss did not improve from 0.07204\n",
      "\n",
      "Epoch 00005: val_loss did not improve from 0.07204\n",
      "\n",
      "Epoch 00006: val_loss did not improve from 0.07204\n",
      "\n",
      "Epoch 00007: val_loss did not improve from 0.07204\n",
      "\n",
      "Epoch 00008: val_loss did not improve from 0.07204\n",
      "\n",
      "Epoch 00009: val_loss did not improve from 0.07204\n",
      "\n",
      "Epoch 00010: val_loss did not improve from 0.07204\n"
     ]
    },
    {
     "name": "stderr",
     "output_type": "stream",
     "text": [
      "/home/frankl1/miniconda3/envs/ner-projection/lib/python3.7/site-packages/ipykernel_launcher.py:17: RuntimeWarning: invalid value encountered in double_scalars\n"
     ]
    },
    {
     "name": "stdout",
     "output_type": "stream",
     "text": [
      "AlgoCrossValIter - 9\n",
      "Model: \"sequential_19\"\n",
      "_________________________________________________________________\n",
      "Layer (type)                 Output Shape              Param #   \n",
      "=================================================================\n",
      "hidden1 (Dense)              (None, 640)               135040    \n",
      "_________________________________________________________________\n",
      "hidden2 (Dense)              (None, 160)               102560    \n",
      "_________________________________________________________________\n",
      "outputlayer (Dense)          (None, 5)                 805       \n",
      "=================================================================\n",
      "Total params: 238,405\n",
      "Trainable params: 238,405\n",
      "Non-trainable params: 0\n",
      "_________________________________________________________________\n",
      "\n",
      "Epoch 00001: val_loss improved from inf to 0.38963, saving model to best-model-conll.hdfs\n",
      "\n",
      "Epoch 00002: val_loss improved from 0.38963 to 0.38518, saving model to best-model-conll.hdfs\n",
      "\n",
      "Epoch 00003: val_loss improved from 0.38518 to 0.33733, saving model to best-model-conll.hdfs\n",
      "\n",
      "Epoch 00004: val_loss did not improve from 0.33733\n",
      "\n",
      "Epoch 00005: val_loss did not improve from 0.33733\n",
      "\n",
      "Epoch 00006: val_loss improved from 0.33733 to 0.30337, saving model to best-model-conll.hdfs\n",
      "\n",
      "Epoch 00007: val_loss did not improve from 0.30337\n",
      "\n",
      "Epoch 00008: val_loss did not improve from 0.30337\n",
      "\n",
      "Epoch 00009: val_loss did not improve from 0.30337\n",
      "\n",
      "Epoch 00010: val_loss did not improve from 0.30337\n"
     ]
    },
    {
     "name": "stderr",
     "output_type": "stream",
     "text": [
      "/home/frankl1/miniconda3/envs/ner-projection/lib/python3.7/site-packages/ipykernel_launcher.py:17: RuntimeWarning: invalid value encountered in double_scalars\n"
     ]
    },
    {
     "name": "stdout",
     "output_type": "stream",
     "text": [
      "\n",
      "Epoch 00001: val_loss improved from inf to 0.12934, saving model to best-model-conll.hdfs\n",
      "\n",
      "Epoch 00002: val_loss did not improve from 0.12934\n",
      "\n",
      "Epoch 00003: val_loss did not improve from 0.12934\n",
      "\n",
      "Epoch 00004: val_loss did not improve from 0.12934\n",
      "\n",
      "Epoch 00005: val_loss did not improve from 0.12934\n",
      "\n",
      "Epoch 00006: val_loss did not improve from 0.12934\n",
      "\n",
      "Epoch 00007: val_loss did not improve from 0.12934\n",
      "\n",
      "Epoch 00008: val_loss did not improve from 0.12934\n",
      "\n",
      "Epoch 00009: val_loss did not improve from 0.12934\n",
      "\n",
      "Epoch 00010: val_loss did not improve from 0.12934\n"
     ]
    },
    {
     "name": "stderr",
     "output_type": "stream",
     "text": [
      "/home/frankl1/miniconda3/envs/ner-projection/lib/python3.7/site-packages/ipykernel_launcher.py:17: RuntimeWarning: invalid value encountered in double_scalars\n"
     ]
    },
    {
     "name": "stdout",
     "output_type": "stream",
     "text": [
      "\n",
      "Epoch 00001: val_loss improved from inf to 0.22687, saving model to best-model-conll.hdfs\n",
      "\n",
      "Epoch 00002: val_loss improved from 0.22687 to 0.09604, saving model to best-model-conll.hdfs\n",
      "\n",
      "Epoch 00003: val_loss did not improve from 0.09604\n",
      "\n",
      "Epoch 00004: val_loss improved from 0.09604 to 0.08349, saving model to best-model-conll.hdfs\n",
      "\n",
      "Epoch 00005: val_loss did not improve from 0.08349\n",
      "\n",
      "Epoch 00006: val_loss did not improve from 0.08349\n",
      "\n",
      "Epoch 00007: val_loss did not improve from 0.08349\n",
      "\n",
      "Epoch 00008: val_loss did not improve from 0.08349\n",
      "\n",
      "Epoch 00009: val_loss did not improve from 0.08349\n",
      "\n",
      "Epoch 00010: val_loss did not improve from 0.08349\n"
     ]
    },
    {
     "name": "stderr",
     "output_type": "stream",
     "text": [
      "/home/frankl1/miniconda3/envs/ner-projection/lib/python3.7/site-packages/ipykernel_launcher.py:17: RuntimeWarning: invalid value encountered in double_scalars\n"
     ]
    },
    {
     "name": "stdout",
     "output_type": "stream",
     "text": [
      "\n",
      "Epoch 00001: val_loss improved from inf to 0.11343, saving model to best-model-conll.hdfs\n",
      "\n",
      "Epoch 00002: val_loss did not improve from 0.11343\n",
      "\n",
      "Epoch 00003: val_loss did not improve from 0.11343\n",
      "\n",
      "Epoch 00004: val_loss did not improve from 0.11343\n",
      "\n",
      "Epoch 00005: val_loss did not improve from 0.11343\n",
      "\n",
      "Epoch 00006: val_loss did not improve from 0.11343\n",
      "\n",
      "Epoch 00007: val_loss did not improve from 0.11343\n",
      "\n",
      "Epoch 00008: val_loss did not improve from 0.11343\n",
      "\n",
      "Epoch 00009: val_loss did not improve from 0.11343\n",
      "\n",
      "Epoch 00010: val_loss did not improve from 0.11343\n"
     ]
    },
    {
     "name": "stderr",
     "output_type": "stream",
     "text": [
      "/home/frankl1/miniconda3/envs/ner-projection/lib/python3.7/site-packages/ipykernel_launcher.py:17: RuntimeWarning: invalid value encountered in double_scalars\n"
     ]
    },
    {
     "name": "stdout",
     "output_type": "stream",
     "text": [
      "\n",
      "Epoch 00001: val_loss improved from inf to 0.03945, saving model to best-model-conll.hdfs\n",
      "\n",
      "Epoch 00002: val_loss did not improve from 0.03945\n",
      "\n",
      "Epoch 00003: val_loss did not improve from 0.03945\n",
      "\n",
      "Epoch 00004: val_loss did not improve from 0.03945\n",
      "\n",
      "Epoch 00005: val_loss did not improve from 0.03945\n",
      "\n",
      "Epoch 00006: val_loss did not improve from 0.03945\n",
      "\n",
      "Epoch 00007: val_loss did not improve from 0.03945\n",
      "\n",
      "Epoch 00008: val_loss did not improve from 0.03945\n",
      "\n",
      "Epoch 00009: val_loss did not improve from 0.03945\n",
      "\n",
      "Epoch 00010: val_loss did not improve from 0.03945\n"
     ]
    },
    {
     "name": "stderr",
     "output_type": "stream",
     "text": [
      "/home/frankl1/miniconda3/envs/ner-projection/lib/python3.7/site-packages/ipykernel_launcher.py:17: RuntimeWarning: invalid value encountered in double_scalars\n"
     ]
    },
    {
     "name": "stdout",
     "output_type": "stream",
     "text": [
      "\n",
      "Epoch 00001: val_loss improved from inf to 0.06253, saving model to best-model-conll.hdfs\n",
      "\n",
      "Epoch 00002: val_loss did not improve from 0.06253\n",
      "\n",
      "Epoch 00003: val_loss did not improve from 0.06253\n",
      "\n",
      "Epoch 00004: val_loss did not improve from 0.06253\n",
      "\n",
      "Epoch 00005: val_loss did not improve from 0.06253\n",
      "\n",
      "Epoch 00006: val_loss did not improve from 0.06253\n",
      "\n",
      "Epoch 00007: val_loss did not improve from 0.06253\n",
      "\n",
      "Epoch 00008: val_loss did not improve from 0.06253\n",
      "\n",
      "Epoch 00009: val_loss did not improve from 0.06253\n",
      "\n",
      "Epoch 00010: val_loss did not improve from 0.06253\n"
     ]
    },
    {
     "name": "stderr",
     "output_type": "stream",
     "text": [
      "/home/frankl1/miniconda3/envs/ner-projection/lib/python3.7/site-packages/ipykernel_launcher.py:17: RuntimeWarning: invalid value encountered in double_scalars\n"
     ]
    },
    {
     "name": "stdout",
     "output_type": "stream",
     "text": [
      "\n",
      "Epoch 00001: val_loss improved from inf to 0.09340, saving model to best-model-conll.hdfs\n",
      "\n",
      "Epoch 00002: val_loss did not improve from 0.09340\n",
      "\n",
      "Epoch 00003: val_loss did not improve from 0.09340\n",
      "\n",
      "Epoch 00004: val_loss did not improve from 0.09340\n",
      "\n",
      "Epoch 00005: val_loss did not improve from 0.09340\n",
      "\n",
      "Epoch 00006: val_loss did not improve from 0.09340\n",
      "\n",
      "Epoch 00007: val_loss did not improve from 0.09340\n",
      "\n",
      "Epoch 00008: val_loss did not improve from 0.09340\n",
      "\n",
      "Epoch 00009: val_loss did not improve from 0.09340\n",
      "\n",
      "Epoch 00010: val_loss did not improve from 0.09340\n"
     ]
    },
    {
     "name": "stderr",
     "output_type": "stream",
     "text": [
      "/home/frankl1/miniconda3/envs/ner-projection/lib/python3.7/site-packages/ipykernel_launcher.py:17: RuntimeWarning: invalid value encountered in double_scalars\n"
     ]
    },
    {
     "name": "stdout",
     "output_type": "stream",
     "text": [
      "\n",
      "Epoch 00001: val_loss improved from inf to 0.08354, saving model to best-model-conll.hdfs\n",
      "\n",
      "Epoch 00002: val_loss did not improve from 0.08354\n",
      "\n",
      "Epoch 00003: val_loss did not improve from 0.08354\n",
      "\n",
      "Epoch 00004: val_loss did not improve from 0.08354\n",
      "\n",
      "Epoch 00005: val_loss did not improve from 0.08354\n",
      "\n",
      "Epoch 00006: val_loss did not improve from 0.08354\n",
      "\n",
      "Epoch 00007: val_loss did not improve from 0.08354\n",
      "\n",
      "Epoch 00008: val_loss did not improve from 0.08354\n",
      "\n",
      "Epoch 00009: val_loss did not improve from 0.08354\n",
      "\n",
      "Epoch 00010: val_loss did not improve from 0.08354\n"
     ]
    },
    {
     "name": "stderr",
     "output_type": "stream",
     "text": [
      "/home/frankl1/miniconda3/envs/ner-projection/lib/python3.7/site-packages/ipykernel_launcher.py:17: RuntimeWarning: invalid value encountered in double_scalars\n"
     ]
    },
    {
     "name": "stdout",
     "output_type": "stream",
     "text": [
      "\n",
      "Epoch 00001: val_loss improved from inf to 0.02173, saving model to best-model-conll.hdfs\n",
      "\n",
      "Epoch 00002: val_loss did not improve from 0.02173\n",
      "\n",
      "Epoch 00003: val_loss did not improve from 0.02173\n",
      "\n",
      "Epoch 00004: val_loss did not improve from 0.02173\n",
      "\n",
      "Epoch 00005: val_loss did not improve from 0.02173\n",
      "\n",
      "Epoch 00006: val_loss did not improve from 0.02173\n",
      "\n",
      "Epoch 00007: val_loss did not improve from 0.02173\n",
      "\n",
      "Epoch 00008: val_loss did not improve from 0.02173\n",
      "\n",
      "Epoch 00009: val_loss did not improve from 0.02173\n",
      "\n",
      "Epoch 00010: val_loss did not improve from 0.02173\n"
     ]
    },
    {
     "name": "stderr",
     "output_type": "stream",
     "text": [
      "/home/frankl1/miniconda3/envs/ner-projection/lib/python3.7/site-packages/ipykernel_launcher.py:17: RuntimeWarning: invalid value encountered in double_scalars\n"
     ]
    },
    {
     "name": "stdout",
     "output_type": "stream",
     "text": [
      "\n",
      "Epoch 00001: val_loss improved from inf to 0.06863, saving model to best-model-conll.hdfs\n",
      "\n",
      "Epoch 00002: val_loss did not improve from 0.06863\n",
      "\n",
      "Epoch 00003: val_loss did not improve from 0.06863\n",
      "\n",
      "Epoch 00004: val_loss did not improve from 0.06863\n",
      "\n",
      "Epoch 00005: val_loss did not improve from 0.06863\n",
      "\n",
      "Epoch 00006: val_loss did not improve from 0.06863\n",
      "\n",
      "Epoch 00007: val_loss did not improve from 0.06863\n",
      "\n",
      "Epoch 00008: val_loss did not improve from 0.06863\n",
      "\n",
      "Epoch 00009: val_loss did not improve from 0.06863\n",
      "\n",
      "Epoch 00010: val_loss did not improve from 0.06863\n"
     ]
    },
    {
     "name": "stderr",
     "output_type": "stream",
     "text": [
      "/home/frankl1/miniconda3/envs/ner-projection/lib/python3.7/site-packages/ipykernel_launcher.py:17: RuntimeWarning: invalid value encountered in double_scalars\n"
     ]
    },
    {
     "name": "stdout",
     "output_type": "stream",
     "text": [
      "AlgoCrossValIter - 10\n",
      "Model: \"sequential_20\"\n",
      "_________________________________________________________________\n",
      "Layer (type)                 Output Shape              Param #   \n",
      "=================================================================\n",
      "hidden1 (Dense)              (None, 640)               135040    \n",
      "_________________________________________________________________\n",
      "hidden2 (Dense)              (None, 160)               102560    \n",
      "_________________________________________________________________\n",
      "outputlayer (Dense)          (None, 5)                 805       \n",
      "=================================================================\n",
      "Total params: 238,405\n",
      "Trainable params: 238,405\n",
      "Non-trainable params: 0\n",
      "_________________________________________________________________\n",
      "\n",
      "Epoch 00001: val_loss improved from inf to 0.36151, saving model to best-model-conll.hdfs\n",
      "\n",
      "Epoch 00002: val_loss did not improve from 0.36151\n",
      "\n",
      "Epoch 00003: val_loss improved from 0.36151 to 0.34637, saving model to best-model-conll.hdfs\n",
      "\n",
      "Epoch 00004: val_loss did not improve from 0.34637\n",
      "\n",
      "Epoch 00005: val_loss did not improve from 0.34637\n",
      "\n",
      "Epoch 00006: val_loss did not improve from 0.34637\n",
      "\n",
      "Epoch 00007: val_loss did not improve from 0.34637\n",
      "\n",
      "Epoch 00008: val_loss did not improve from 0.34637\n",
      "\n",
      "Epoch 00009: val_loss did not improve from 0.34637\n",
      "\n",
      "Epoch 00010: val_loss did not improve from 0.34637\n"
     ]
    },
    {
     "name": "stderr",
     "output_type": "stream",
     "text": [
      "/home/frankl1/miniconda3/envs/ner-projection/lib/python3.7/site-packages/ipykernel_launcher.py:17: RuntimeWarning: invalid value encountered in double_scalars\n"
     ]
    },
    {
     "name": "stdout",
     "output_type": "stream",
     "text": [
      "\n",
      "Epoch 00001: val_loss improved from inf to 0.14850, saving model to best-model-conll.hdfs\n",
      "\n",
      "Epoch 00002: val_loss did not improve from 0.14850\n",
      "\n",
      "Epoch 00003: val_loss did not improve from 0.14850\n",
      "\n",
      "Epoch 00004: val_loss did not improve from 0.14850\n",
      "\n",
      "Epoch 00005: val_loss did not improve from 0.14850\n",
      "\n",
      "Epoch 00006: val_loss did not improve from 0.14850\n",
      "\n",
      "Epoch 00007: val_loss did not improve from 0.14850\n",
      "\n",
      "Epoch 00008: val_loss did not improve from 0.14850\n",
      "\n",
      "Epoch 00009: val_loss did not improve from 0.14850\n",
      "\n",
      "Epoch 00010: val_loss did not improve from 0.14850\n",
      "\n",
      "Epoch 00001: val_loss improved from inf to 0.06864, saving model to best-model-conll.hdfs\n",
      "\n",
      "Epoch 00002: val_loss did not improve from 0.06864\n",
      "\n",
      "Epoch 00003: val_loss did not improve from 0.06864\n",
      "\n",
      "Epoch 00004: val_loss did not improve from 0.06864\n",
      "\n",
      "Epoch 00005: val_loss did not improve from 0.06864\n",
      "\n",
      "Epoch 00006: val_loss did not improve from 0.06864\n",
      "\n",
      "Epoch 00007: val_loss did not improve from 0.06864\n",
      "\n",
      "Epoch 00008: val_loss did not improve from 0.06864\n",
      "\n",
      "Epoch 00009: val_loss did not improve from 0.06864\n",
      "\n",
      "Epoch 00010: val_loss did not improve from 0.06864\n"
     ]
    },
    {
     "name": "stderr",
     "output_type": "stream",
     "text": [
      "/home/frankl1/miniconda3/envs/ner-projection/lib/python3.7/site-packages/ipykernel_launcher.py:17: RuntimeWarning: invalid value encountered in double_scalars\n"
     ]
    },
    {
     "name": "stdout",
     "output_type": "stream",
     "text": [
      "\n",
      "Epoch 00001: val_loss improved from inf to 0.15268, saving model to best-model-conll.hdfs\n",
      "\n",
      "Epoch 00002: val_loss improved from 0.15268 to 0.13160, saving model to best-model-conll.hdfs\n",
      "\n",
      "Epoch 00003: val_loss did not improve from 0.13160\n",
      "\n",
      "Epoch 00004: val_loss did not improve from 0.13160\n",
      "\n",
      "Epoch 00005: val_loss did not improve from 0.13160\n",
      "\n",
      "Epoch 00006: val_loss did not improve from 0.13160\n",
      "\n",
      "Epoch 00007: val_loss did not improve from 0.13160\n",
      "\n",
      "Epoch 00008: val_loss did not improve from 0.13160\n",
      "\n",
      "Epoch 00009: val_loss did not improve from 0.13160\n",
      "\n",
      "Epoch 00010: val_loss did not improve from 0.13160\n"
     ]
    },
    {
     "name": "stderr",
     "output_type": "stream",
     "text": [
      "/home/frankl1/miniconda3/envs/ner-projection/lib/python3.7/site-packages/ipykernel_launcher.py:17: RuntimeWarning: invalid value encountered in double_scalars\n"
     ]
    },
    {
     "name": "stdout",
     "output_type": "stream",
     "text": [
      "\n",
      "Epoch 00001: val_loss improved from inf to 0.03987, saving model to best-model-conll.hdfs\n",
      "\n",
      "Epoch 00002: val_loss did not improve from 0.03987\n",
      "\n",
      "Epoch 00003: val_loss did not improve from 0.03987\n",
      "\n",
      "Epoch 00004: val_loss did not improve from 0.03987\n",
      "\n",
      "Epoch 00005: val_loss did not improve from 0.03987\n",
      "\n",
      "Epoch 00006: val_loss did not improve from 0.03987\n",
      "\n",
      "Epoch 00007: val_loss did not improve from 0.03987\n",
      "\n",
      "Epoch 00008: val_loss did not improve from 0.03987\n",
      "\n",
      "Epoch 00009: val_loss did not improve from 0.03987\n",
      "\n",
      "Epoch 00010: val_loss did not improve from 0.03987\n"
     ]
    },
    {
     "name": "stderr",
     "output_type": "stream",
     "text": [
      "/home/frankl1/miniconda3/envs/ner-projection/lib/python3.7/site-packages/ipykernel_launcher.py:17: RuntimeWarning: invalid value encountered in double_scalars\n"
     ]
    },
    {
     "name": "stdout",
     "output_type": "stream",
     "text": [
      "\n",
      "Epoch 00001: val_loss improved from inf to 0.06923, saving model to best-model-conll.hdfs\n",
      "\n",
      "Epoch 00002: val_loss did not improve from 0.06923\n",
      "\n",
      "Epoch 00003: val_loss did not improve from 0.06923\n",
      "\n",
      "Epoch 00004: val_loss did not improve from 0.06923\n",
      "\n",
      "Epoch 00005: val_loss did not improve from 0.06923\n",
      "\n",
      "Epoch 00006: val_loss did not improve from 0.06923\n",
      "\n",
      "Epoch 00007: val_loss did not improve from 0.06923\n",
      "\n",
      "Epoch 00008: val_loss did not improve from 0.06923\n",
      "\n",
      "Epoch 00009: val_loss did not improve from 0.06923\n",
      "\n",
      "Epoch 00010: val_loss did not improve from 0.06923\n"
     ]
    },
    {
     "name": "stderr",
     "output_type": "stream",
     "text": [
      "/home/frankl1/miniconda3/envs/ner-projection/lib/python3.7/site-packages/ipykernel_launcher.py:17: RuntimeWarning: invalid value encountered in double_scalars\n"
     ]
    },
    {
     "name": "stdout",
     "output_type": "stream",
     "text": [
      "\n",
      "Epoch 00001: val_loss improved from inf to 0.10383, saving model to best-model-conll.hdfs\n",
      "\n",
      "Epoch 00002: val_loss did not improve from 0.10383\n",
      "\n",
      "Epoch 00003: val_loss did not improve from 0.10383\n",
      "\n",
      "Epoch 00004: val_loss did not improve from 0.10383\n",
      "\n",
      "Epoch 00005: val_loss did not improve from 0.10383\n",
      "\n",
      "Epoch 00006: val_loss did not improve from 0.10383\n",
      "\n",
      "Epoch 00007: val_loss did not improve from 0.10383\n",
      "\n",
      "Epoch 00008: val_loss did not improve from 0.10383\n",
      "\n",
      "Epoch 00009: val_loss did not improve from 0.10383\n",
      "\n",
      "Epoch 00010: val_loss did not improve from 0.10383\n"
     ]
    },
    {
     "name": "stderr",
     "output_type": "stream",
     "text": [
      "/home/frankl1/miniconda3/envs/ner-projection/lib/python3.7/site-packages/ipykernel_launcher.py:17: RuntimeWarning: invalid value encountered in double_scalars\n"
     ]
    },
    {
     "name": "stdout",
     "output_type": "stream",
     "text": [
      "\n",
      "Epoch 00001: val_loss improved from inf to 0.08524, saving model to best-model-conll.hdfs\n",
      "\n",
      "Epoch 00002: val_loss did not improve from 0.08524\n",
      "\n",
      "Epoch 00003: val_loss did not improve from 0.08524\n",
      "\n",
      "Epoch 00004: val_loss did not improve from 0.08524\n",
      "\n",
      "Epoch 00005: val_loss did not improve from 0.08524\n",
      "\n",
      "Epoch 00006: val_loss improved from 0.08524 to 0.08207, saving model to best-model-conll.hdfs\n",
      "\n",
      "Epoch 00007: val_loss improved from 0.08207 to 0.08164, saving model to best-model-conll.hdfs\n",
      "\n",
      "Epoch 00008: val_loss did not improve from 0.08164\n",
      "\n",
      "Epoch 00009: val_loss did not improve from 0.08164\n",
      "\n",
      "Epoch 00010: val_loss did not improve from 0.08164\n",
      "\n",
      "Epoch 00001: val_loss improved from inf to 0.01604, saving model to best-model-conll.hdfs\n",
      "\n",
      "Epoch 00002: val_loss did not improve from 0.01604\n",
      "\n",
      "Epoch 00003: val_loss did not improve from 0.01604\n",
      "\n",
      "Epoch 00004: val_loss did not improve from 0.01604\n",
      "\n",
      "Epoch 00005: val_loss did not improve from 0.01604\n",
      "\n",
      "Epoch 00006: val_loss did not improve from 0.01604\n",
      "\n",
      "Epoch 00007: val_loss did not improve from 0.01604\n",
      "\n",
      "Epoch 00008: val_loss did not improve from 0.01604\n",
      "\n",
      "Epoch 00009: val_loss did not improve from 0.01604\n",
      "\n",
      "Epoch 00010: val_loss did not improve from 0.01604\n"
     ]
    },
    {
     "name": "stderr",
     "output_type": "stream",
     "text": [
      "/home/frankl1/miniconda3/envs/ner-projection/lib/python3.7/site-packages/ipykernel_launcher.py:17: RuntimeWarning: invalid value encountered in double_scalars\n"
     ]
    },
    {
     "name": "stdout",
     "output_type": "stream",
     "text": [
      "\n",
      "Epoch 00001: val_loss improved from inf to 0.06587, saving model to best-model-conll.hdfs\n",
      "\n",
      "Epoch 00002: val_loss did not improve from 0.06587\n",
      "\n",
      "Epoch 00003: val_loss did not improve from 0.06587\n",
      "\n",
      "Epoch 00004: val_loss did not improve from 0.06587\n",
      "\n",
      "Epoch 00005: val_loss did not improve from 0.06587\n",
      "\n",
      "Epoch 00006: val_loss did not improve from 0.06587\n",
      "\n",
      "Epoch 00007: val_loss did not improve from 0.06587\n",
      "\n",
      "Epoch 00008: val_loss did not improve from 0.06587\n",
      "\n",
      "Epoch 00009: val_loss did not improve from 0.06587\n",
      "\n",
      "Epoch 00010: val_loss did not improve from 0.06587\n"
     ]
    },
    {
     "name": "stderr",
     "output_type": "stream",
     "text": [
      "/home/frankl1/miniconda3/envs/ner-projection/lib/python3.7/site-packages/ipykernel_launcher.py:17: RuntimeWarning: invalid value encountered in double_scalars\n"
     ]
    }
   ],
   "source": [
    "resultCrossVal, trainByTagResult, testByTagResult, ewoByTagResult, model = algoCrossVal(X, y, X_ewo, y_ewo, repeat=10)"
   ]
  },
  {
   "cell_type": "code",
   "execution_count": 153,
   "metadata": {},
   "outputs": [
    {
     "data": {
      "text/html": [
       "<div>\n",
       "<style scoped>\n",
       "    .dataframe tbody tr th:only-of-type {\n",
       "        vertical-align: middle;\n",
       "    }\n",
       "\n",
       "    .dataframe tbody tr th {\n",
       "        vertical-align: top;\n",
       "    }\n",
       "\n",
       "    .dataframe thead th {\n",
       "        text-align: right;\n",
       "    }\n",
       "</style>\n",
       "<table border=\"1\" class=\"dataframe\">\n",
       "  <thead>\n",
       "    <tr style=\"text-align: right;\">\n",
       "      <th></th>\n",
       "      <th>0</th>\n",
       "      <th>0</th>\n",
       "      <th>0</th>\n",
       "      <th>0</th>\n",
       "      <th>0</th>\n",
       "      <th>0</th>\n",
       "      <th>0</th>\n",
       "      <th>0</th>\n",
       "      <th>0</th>\n",
       "      <th>0</th>\n",
       "    </tr>\n",
       "  </thead>\n",
       "  <tbody>\n",
       "    <tr>\n",
       "      <th>P_test</th>\n",
       "      <td>84.146</td>\n",
       "      <td>84.151</td>\n",
       "      <td>83.606</td>\n",
       "      <td>85.977</td>\n",
       "      <td>83.616</td>\n",
       "      <td>82.658</td>\n",
       "      <td>83.750</td>\n",
       "      <td>84.793</td>\n",
       "      <td>82.440</td>\n",
       "      <td>82.684</td>\n",
       "    </tr>\n",
       "    <tr>\n",
       "      <th>P_train</th>\n",
       "      <td>87.602</td>\n",
       "      <td>87.708</td>\n",
       "      <td>88.990</td>\n",
       "      <td>88.033</td>\n",
       "      <td>89.177</td>\n",
       "      <td>87.471</td>\n",
       "      <td>86.763</td>\n",
       "      <td>87.872</td>\n",
       "      <td>87.647</td>\n",
       "      <td>85.515</td>\n",
       "    </tr>\n",
       "    <tr>\n",
       "      <th>P_ewo</th>\n",
       "      <td>76.090</td>\n",
       "      <td>78.660</td>\n",
       "      <td>78.531</td>\n",
       "      <td>77.011</td>\n",
       "      <td>77.751</td>\n",
       "      <td>76.014</td>\n",
       "      <td>77.989</td>\n",
       "      <td>77.700</td>\n",
       "      <td>78.184</td>\n",
       "      <td>76.300</td>\n",
       "    </tr>\n",
       "    <tr>\n",
       "      <th>R_test</th>\n",
       "      <td>74.109</td>\n",
       "      <td>76.141</td>\n",
       "      <td>74.600</td>\n",
       "      <td>76.685</td>\n",
       "      <td>73.072</td>\n",
       "      <td>78.222</td>\n",
       "      <td>78.993</td>\n",
       "      <td>77.251</td>\n",
       "      <td>76.203</td>\n",
       "      <td>74.486</td>\n",
       "    </tr>\n",
       "    <tr>\n",
       "      <th>R_train</th>\n",
       "      <td>82.488</td>\n",
       "      <td>82.424</td>\n",
       "      <td>82.014</td>\n",
       "      <td>83.639</td>\n",
       "      <td>81.219</td>\n",
       "      <td>82.201</td>\n",
       "      <td>84.951</td>\n",
       "      <td>83.401</td>\n",
       "      <td>83.472</td>\n",
       "      <td>84.430</td>\n",
       "    </tr>\n",
       "    <tr>\n",
       "      <th>R_ewo</th>\n",
       "      <td>66.019</td>\n",
       "      <td>64.723</td>\n",
       "      <td>66.296</td>\n",
       "      <td>66.758</td>\n",
       "      <td>64.537</td>\n",
       "      <td>66.482</td>\n",
       "      <td>67.592</td>\n",
       "      <td>66.297</td>\n",
       "      <td>67.683</td>\n",
       "      <td>69.723</td>\n",
       "    </tr>\n",
       "    <tr>\n",
       "      <th>F1-test</th>\n",
       "      <td>77.967</td>\n",
       "      <td>78.384</td>\n",
       "      <td>78.019</td>\n",
       "      <td>80.504</td>\n",
       "      <td>76.293</td>\n",
       "      <td>79.536</td>\n",
       "      <td>80.234</td>\n",
       "      <td>80.196</td>\n",
       "      <td>77.639</td>\n",
       "      <td>76.151</td>\n",
       "    </tr>\n",
       "    <tr>\n",
       "      <th>F1-train</th>\n",
       "      <td>84.128</td>\n",
       "      <td>84.391</td>\n",
       "      <td>84.881</td>\n",
       "      <td>85.518</td>\n",
       "      <td>84.359</td>\n",
       "      <td>84.047</td>\n",
       "      <td>85.558</td>\n",
       "      <td>84.936</td>\n",
       "      <td>84.925</td>\n",
       "      <td>84.215</td>\n",
       "    </tr>\n",
       "    <tr>\n",
       "      <th>F1-ewo</th>\n",
       "      <td>69.959</td>\n",
       "      <td>70.478</td>\n",
       "      <td>71.267</td>\n",
       "      <td>70.972</td>\n",
       "      <td>69.849</td>\n",
       "      <td>69.850</td>\n",
       "      <td>71.788</td>\n",
       "      <td>71.009</td>\n",
       "      <td>71.783</td>\n",
       "      <td>71.977</td>\n",
       "    </tr>\n",
       "  </tbody>\n",
       "</table>\n",
       "</div>"
      ],
      "text/plain": [
       "               0       0       0       0       0       0       0       0  \\\n",
       "P_test    84.146  84.151  83.606  85.977  83.616  82.658  83.750  84.793   \n",
       "P_train   87.602  87.708  88.990  88.033  89.177  87.471  86.763  87.872   \n",
       "P_ewo     76.090  78.660  78.531  77.011  77.751  76.014  77.989  77.700   \n",
       "R_test    74.109  76.141  74.600  76.685  73.072  78.222  78.993  77.251   \n",
       "R_train   82.488  82.424  82.014  83.639  81.219  82.201  84.951  83.401   \n",
       "R_ewo     66.019  64.723  66.296  66.758  64.537  66.482  67.592  66.297   \n",
       "F1-test   77.967  78.384  78.019  80.504  76.293  79.536  80.234  80.196   \n",
       "F1-train  84.128  84.391  84.881  85.518  84.359  84.047  85.558  84.936   \n",
       "F1-ewo    69.959  70.478  71.267  70.972  69.849  69.850  71.788  71.009   \n",
       "\n",
       "               0       0  \n",
       "P_test    82.440  82.684  \n",
       "P_train   87.647  85.515  \n",
       "P_ewo     78.184  76.300  \n",
       "R_test    76.203  74.486  \n",
       "R_train   83.472  84.430  \n",
       "R_ewo     67.683  69.723  \n",
       "F1-test   77.639  76.151  \n",
       "F1-train  84.925  84.215  \n",
       "F1-ewo    71.783  71.977  "
      ]
     },
     "execution_count": 153,
     "metadata": {},
     "output_type": "execute_result"
    }
   ],
   "source": [
    "resultCrossVal.to_csv(\"results.csv\")\n",
    "resultCrossVal"
   ]
  },
  {
   "cell_type": "code",
   "execution_count": 154,
   "metadata": {},
   "outputs": [
    {
     "data": {
      "text/html": [
       "<div>\n",
       "<style scoped>\n",
       "    .dataframe tbody tr th:only-of-type {\n",
       "        vertical-align: middle;\n",
       "    }\n",
       "\n",
       "    .dataframe tbody tr th {\n",
       "        vertical-align: top;\n",
       "    }\n",
       "\n",
       "    .dataframe thead th {\n",
       "        text-align: right;\n",
       "    }\n",
       "</style>\n",
       "<table border=\"1\" class=\"dataframe\">\n",
       "  <thead>\n",
       "    <tr style=\"text-align: right;\">\n",
       "      <th></th>\n",
       "      <th>0</th>\n",
       "    </tr>\n",
       "  </thead>\n",
       "  <tbody>\n",
       "    <tr>\n",
       "      <th>P_test</th>\n",
       "      <td>83.7821</td>\n",
       "    </tr>\n",
       "    <tr>\n",
       "      <th>P_train</th>\n",
       "      <td>87.6778</td>\n",
       "    </tr>\n",
       "    <tr>\n",
       "      <th>P_ewo</th>\n",
       "      <td>77.4230</td>\n",
       "    </tr>\n",
       "    <tr>\n",
       "      <th>R_test</th>\n",
       "      <td>75.9762</td>\n",
       "    </tr>\n",
       "    <tr>\n",
       "      <th>R_train</th>\n",
       "      <td>83.0239</td>\n",
       "    </tr>\n",
       "    <tr>\n",
       "      <th>R_ewo</th>\n",
       "      <td>66.6110</td>\n",
       "    </tr>\n",
       "    <tr>\n",
       "      <th>F1-test</th>\n",
       "      <td>78.4923</td>\n",
       "    </tr>\n",
       "    <tr>\n",
       "      <th>F1-train</th>\n",
       "      <td>84.6958</td>\n",
       "    </tr>\n",
       "    <tr>\n",
       "      <th>F1-ewo</th>\n",
       "      <td>70.8932</td>\n",
       "    </tr>\n",
       "  </tbody>\n",
       "</table>\n",
       "</div>"
      ],
      "text/plain": [
       "                0\n",
       "P_test    83.7821\n",
       "P_train   87.6778\n",
       "P_ewo     77.4230\n",
       "R_test    75.9762\n",
       "R_train   83.0239\n",
       "R_ewo     66.6110\n",
       "F1-test   78.4923\n",
       "F1-train  84.6958\n",
       "F1-ewo    70.8932"
      ]
     },
     "execution_count": 154,
     "metadata": {},
     "output_type": "execute_result"
    }
   ],
   "source": [
    "resultCrossVal.mean(axis=1).to_frame()"
   ]
  },
  {
   "cell_type": "code",
   "execution_count": 155,
   "metadata": {},
   "outputs": [
    {
     "data": {
      "text/html": [
       "<div>\n",
       "<style scoped>\n",
       "    .dataframe tbody tr th:only-of-type {\n",
       "        vertical-align: middle;\n",
       "    }\n",
       "\n",
       "    .dataframe tbody tr th {\n",
       "        vertical-align: top;\n",
       "    }\n",
       "\n",
       "    .dataframe thead th {\n",
       "        text-align: right;\n",
       "    }\n",
       "</style>\n",
       "<table border=\"1\" class=\"dataframe\">\n",
       "  <thead>\n",
       "    <tr style=\"text-align: right;\">\n",
       "      <th></th>\n",
       "      <th>0</th>\n",
       "    </tr>\n",
       "  </thead>\n",
       "  <tbody>\n",
       "    <tr>\n",
       "      <th>P_test</th>\n",
       "      <td>1.076945</td>\n",
       "    </tr>\n",
       "    <tr>\n",
       "      <th>P_train</th>\n",
       "      <td>1.038069</td>\n",
       "    </tr>\n",
       "    <tr>\n",
       "      <th>P_ewo</th>\n",
       "      <td>1.001924</td>\n",
       "    </tr>\n",
       "    <tr>\n",
       "      <th>R_test</th>\n",
       "      <td>1.896964</td>\n",
       "    </tr>\n",
       "    <tr>\n",
       "      <th>R_train</th>\n",
       "      <td>1.155373</td>\n",
       "    </tr>\n",
       "    <tr>\n",
       "      <th>R_ewo</th>\n",
       "      <td>1.499950</td>\n",
       "    </tr>\n",
       "    <tr>\n",
       "      <th>F1-test</th>\n",
       "      <td>1.585727</td>\n",
       "    </tr>\n",
       "    <tr>\n",
       "      <th>F1-train</th>\n",
       "      <td>0.552245</td>\n",
       "    </tr>\n",
       "    <tr>\n",
       "      <th>F1-ewo</th>\n",
       "      <td>0.826648</td>\n",
       "    </tr>\n",
       "  </tbody>\n",
       "</table>\n",
       "</div>"
      ],
      "text/plain": [
       "                 0\n",
       "P_test    1.076945\n",
       "P_train   1.038069\n",
       "P_ewo     1.001924\n",
       "R_test    1.896964\n",
       "R_train   1.155373\n",
       "R_ewo     1.499950\n",
       "F1-test   1.585727\n",
       "F1-train  0.552245\n",
       "F1-ewo    0.826648"
      ]
     },
     "execution_count": 155,
     "metadata": {},
     "output_type": "execute_result"
    }
   ],
   "source": [
    "resultCrossVal.std(axis=1).to_frame()"
   ]
  },
  {
   "cell_type": "code",
   "execution_count": 156,
   "metadata": {},
   "outputs": [
    {
     "data": {
      "text/html": [
       "<div>\n",
       "<style scoped>\n",
       "    .dataframe tbody tr th:only-of-type {\n",
       "        vertical-align: middle;\n",
       "    }\n",
       "\n",
       "    .dataframe tbody tr th {\n",
       "        vertical-align: top;\n",
       "    }\n",
       "\n",
       "    .dataframe thead th {\n",
       "        text-align: right;\n",
       "    }\n",
       "</style>\n",
       "<table border=\"1\" class=\"dataframe\">\n",
       "  <thead>\n",
       "    <tr style=\"text-align: right;\">\n",
       "      <th></th>\n",
       "      <th>0</th>\n",
       "      <th>0</th>\n",
       "      <th>0</th>\n",
       "      <th>0</th>\n",
       "      <th>0</th>\n",
       "      <th>0</th>\n",
       "      <th>0</th>\n",
       "      <th>0</th>\n",
       "      <th>0</th>\n",
       "      <th>0</th>\n",
       "    </tr>\n",
       "  </thead>\n",
       "  <tbody>\n",
       "    <tr>\n",
       "      <th>F1-O</th>\n",
       "      <td>98.057000</td>\n",
       "      <td>98.076000</td>\n",
       "      <td>98.115000</td>\n",
       "      <td>98.166</td>\n",
       "      <td>98.097000</td>\n",
       "      <td>98.011000</td>\n",
       "      <td>98.139</td>\n",
       "      <td>98.113000</td>\n",
       "      <td>98.115000</td>\n",
       "      <td>98.028000</td>\n",
       "    </tr>\n",
       "    <tr>\n",
       "      <th>P-O</th>\n",
       "      <td>97.727000</td>\n",
       "      <td>97.706000</td>\n",
       "      <td>97.657000</td>\n",
       "      <td>97.878</td>\n",
       "      <td>97.561000</td>\n",
       "      <td>97.695000</td>\n",
       "      <td>98.051</td>\n",
       "      <td>97.826000</td>\n",
       "      <td>97.865000</td>\n",
       "      <td>97.990000</td>\n",
       "    </tr>\n",
       "    <tr>\n",
       "      <th>R-O</th>\n",
       "      <td>98.412000</td>\n",
       "      <td>98.468000</td>\n",
       "      <td>98.593000</td>\n",
       "      <td>98.467</td>\n",
       "      <td>98.662000</td>\n",
       "      <td>98.354000</td>\n",
       "      <td>98.244</td>\n",
       "      <td>98.425000</td>\n",
       "      <td>98.383000</td>\n",
       "      <td>98.090000</td>\n",
       "    </tr>\n",
       "    <tr>\n",
       "      <th>F1-MISC</th>\n",
       "      <td>76.782222</td>\n",
       "      <td>78.163333</td>\n",
       "      <td>72.602000</td>\n",
       "      <td>75.612</td>\n",
       "      <td>74.142000</td>\n",
       "      <td>72.224000</td>\n",
       "      <td>74.007</td>\n",
       "      <td>74.356000</td>\n",
       "      <td>74.705000</td>\n",
       "      <td>77.193333</td>\n",
       "    </tr>\n",
       "    <tr>\n",
       "      <th>P-MISC</th>\n",
       "      <td>85.682000</td>\n",
       "      <td>84.583000</td>\n",
       "      <td>96.071000</td>\n",
       "      <td>90.177</td>\n",
       "      <td>97.500000</td>\n",
       "      <td>91.801000</td>\n",
       "      <td>91.000</td>\n",
       "      <td>93.321000</td>\n",
       "      <td>93.245000</td>\n",
       "      <td>81.836000</td>\n",
       "    </tr>\n",
       "    <tr>\n",
       "      <th>R-MISC</th>\n",
       "      <td>60.182000</td>\n",
       "      <td>61.364000</td>\n",
       "      <td>60.864000</td>\n",
       "      <td>66.864</td>\n",
       "      <td>61.864000</td>\n",
       "      <td>63.773000</td>\n",
       "      <td>66.864</td>\n",
       "      <td>64.682000</td>\n",
       "      <td>64.864000</td>\n",
       "      <td>61.182000</td>\n",
       "    </tr>\n",
       "    <tr>\n",
       "      <th>F1-PER</th>\n",
       "      <td>87.944000</td>\n",
       "      <td>88.487000</td>\n",
       "      <td>88.688000</td>\n",
       "      <td>89.018</td>\n",
       "      <td>88.186000</td>\n",
       "      <td>87.289000</td>\n",
       "      <td>89.080</td>\n",
       "      <td>88.594000</td>\n",
       "      <td>88.196000</td>\n",
       "      <td>88.465000</td>\n",
       "    </tr>\n",
       "    <tr>\n",
       "      <th>P-PER</th>\n",
       "      <td>87.691000</td>\n",
       "      <td>88.377000</td>\n",
       "      <td>89.911000</td>\n",
       "      <td>89.177</td>\n",
       "      <td>89.069000</td>\n",
       "      <td>88.350000</td>\n",
       "      <td>88.895</td>\n",
       "      <td>88.307000</td>\n",
       "      <td>87.424000</td>\n",
       "      <td>87.895000</td>\n",
       "    </tr>\n",
       "    <tr>\n",
       "      <th>R-PER</th>\n",
       "      <td>89.013000</td>\n",
       "      <td>89.036000</td>\n",
       "      <td>88.317000</td>\n",
       "      <td>89.375</td>\n",
       "      <td>87.983000</td>\n",
       "      <td>87.424000</td>\n",
       "      <td>89.600</td>\n",
       "      <td>89.538000</td>\n",
       "      <td>89.839000</td>\n",
       "      <td>89.628000</td>\n",
       "    </tr>\n",
       "    <tr>\n",
       "      <th>F1-LOC</th>\n",
       "      <td>80.415556</td>\n",
       "      <td>78.404444</td>\n",
       "      <td>72.691000</td>\n",
       "      <td>76.371</td>\n",
       "      <td>78.307778</td>\n",
       "      <td>74.903000</td>\n",
       "      <td>76.843</td>\n",
       "      <td>80.241111</td>\n",
       "      <td>75.661000</td>\n",
       "      <td>79.484444</td>\n",
       "    </tr>\n",
       "    <tr>\n",
       "      <th>P-LOC</th>\n",
       "      <td>77.664000</td>\n",
       "      <td>76.601000</td>\n",
       "      <td>86.492000</td>\n",
       "      <td>85.499</td>\n",
       "      <td>79.780000</td>\n",
       "      <td>85.594000</td>\n",
       "      <td>78.704</td>\n",
       "      <td>76.617000</td>\n",
       "      <td>88.507000</td>\n",
       "      <td>68.089000</td>\n",
       "    </tr>\n",
       "    <tr>\n",
       "      <th>R-LOC</th>\n",
       "      <td>68.804000</td>\n",
       "      <td>68.306000</td>\n",
       "      <td>68.729000</td>\n",
       "      <td>71.495</td>\n",
       "      <td>65.175000</td>\n",
       "      <td>72.439000</td>\n",
       "      <td>78.225</td>\n",
       "      <td>69.712000</td>\n",
       "      <td>70.497000</td>\n",
       "      <td>77.521000</td>\n",
       "    </tr>\n",
       "    <tr>\n",
       "      <th>F1-ORG</th>\n",
       "      <td>61.113333</td>\n",
       "      <td>60.002000</td>\n",
       "      <td>55.558333</td>\n",
       "      <td>53.336</td>\n",
       "      <td>60.002000</td>\n",
       "      <td>61.113333</td>\n",
       "      <td>58.335</td>\n",
       "      <td>60.002000</td>\n",
       "      <td>55.556667</td>\n",
       "      <td>61.113333</td>\n",
       "    </tr>\n",
       "    <tr>\n",
       "      <th>P-ORG</th>\n",
       "      <td>30.000000</td>\n",
       "      <td>25.000000</td>\n",
       "      <td>25.000000</td>\n",
       "      <td>20.000</td>\n",
       "      <td>25.000000</td>\n",
       "      <td>30.000000</td>\n",
       "      <td>20.000</td>\n",
       "      <td>25.000000</td>\n",
       "      <td>15.000000</td>\n",
       "      <td>30.000000</td>\n",
       "    </tr>\n",
       "    <tr>\n",
       "      <th>R-ORG</th>\n",
       "      <td>50.000000</td>\n",
       "      <td>40.000000</td>\n",
       "      <td>50.000000</td>\n",
       "      <td>40.000</td>\n",
       "      <td>40.000000</td>\n",
       "      <td>50.000000</td>\n",
       "      <td>30.000</td>\n",
       "      <td>40.000000</td>\n",
       "      <td>20.000000</td>\n",
       "      <td>50.000000</td>\n",
       "    </tr>\n",
       "  </tbody>\n",
       "</table>\n",
       "</div>"
      ],
      "text/plain": [
       "                 0          0          0       0          0          0  \\\n",
       "F1-O     98.057000  98.076000  98.115000  98.166  98.097000  98.011000   \n",
       "P-O      97.727000  97.706000  97.657000  97.878  97.561000  97.695000   \n",
       "R-O      98.412000  98.468000  98.593000  98.467  98.662000  98.354000   \n",
       "F1-MISC  76.782222  78.163333  72.602000  75.612  74.142000  72.224000   \n",
       "P-MISC   85.682000  84.583000  96.071000  90.177  97.500000  91.801000   \n",
       "R-MISC   60.182000  61.364000  60.864000  66.864  61.864000  63.773000   \n",
       "F1-PER   87.944000  88.487000  88.688000  89.018  88.186000  87.289000   \n",
       "P-PER    87.691000  88.377000  89.911000  89.177  89.069000  88.350000   \n",
       "R-PER    89.013000  89.036000  88.317000  89.375  87.983000  87.424000   \n",
       "F1-LOC   80.415556  78.404444  72.691000  76.371  78.307778  74.903000   \n",
       "P-LOC    77.664000  76.601000  86.492000  85.499  79.780000  85.594000   \n",
       "R-LOC    68.804000  68.306000  68.729000  71.495  65.175000  72.439000   \n",
       "F1-ORG   61.113333  60.002000  55.558333  53.336  60.002000  61.113333   \n",
       "P-ORG    30.000000  25.000000  25.000000  20.000  25.000000  30.000000   \n",
       "R-ORG    50.000000  40.000000  50.000000  40.000  40.000000  50.000000   \n",
       "\n",
       "              0          0          0          0  \n",
       "F1-O     98.139  98.113000  98.115000  98.028000  \n",
       "P-O      98.051  97.826000  97.865000  97.990000  \n",
       "R-O      98.244  98.425000  98.383000  98.090000  \n",
       "F1-MISC  74.007  74.356000  74.705000  77.193333  \n",
       "P-MISC   91.000  93.321000  93.245000  81.836000  \n",
       "R-MISC   66.864  64.682000  64.864000  61.182000  \n",
       "F1-PER   89.080  88.594000  88.196000  88.465000  \n",
       "P-PER    88.895  88.307000  87.424000  87.895000  \n",
       "R-PER    89.600  89.538000  89.839000  89.628000  \n",
       "F1-LOC   76.843  80.241111  75.661000  79.484444  \n",
       "P-LOC    78.704  76.617000  88.507000  68.089000  \n",
       "R-LOC    78.225  69.712000  70.497000  77.521000  \n",
       "F1-ORG   58.335  60.002000  55.556667  61.113333  \n",
       "P-ORG    20.000  25.000000  15.000000  30.000000  \n",
       "R-ORG    30.000  40.000000  20.000000  50.000000  "
      ]
     },
     "execution_count": 156,
     "metadata": {},
     "output_type": "execute_result"
    }
   ],
   "source": [
    "trainByTagResult.to_csv(\"results/train-by-tag.csv\")\n",
    "trainByTagResult"
   ]
  },
  {
   "cell_type": "code",
   "execution_count": 157,
   "metadata": {
    "scrolled": true
   },
   "outputs": [
    {
     "data": {
      "text/html": [
       "<div>\n",
       "<style scoped>\n",
       "    .dataframe tbody tr th:only-of-type {\n",
       "        vertical-align: middle;\n",
       "    }\n",
       "\n",
       "    .dataframe tbody tr th {\n",
       "        vertical-align: top;\n",
       "    }\n",
       "\n",
       "    .dataframe thead th {\n",
       "        text-align: right;\n",
       "    }\n",
       "</style>\n",
       "<table border=\"1\" class=\"dataframe\">\n",
       "  <thead>\n",
       "    <tr style=\"text-align: right;\">\n",
       "      <th></th>\n",
       "      <th>0</th>\n",
       "    </tr>\n",
       "  </thead>\n",
       "  <tbody>\n",
       "    <tr>\n",
       "      <th>F1-O</th>\n",
       "      <td>98.091700</td>\n",
       "    </tr>\n",
       "    <tr>\n",
       "      <th>P-O</th>\n",
       "      <td>97.795600</td>\n",
       "    </tr>\n",
       "    <tr>\n",
       "      <th>R-O</th>\n",
       "      <td>98.409800</td>\n",
       "    </tr>\n",
       "    <tr>\n",
       "      <th>F1-MISC</th>\n",
       "      <td>74.978689</td>\n",
       "    </tr>\n",
       "    <tr>\n",
       "      <th>P-MISC</th>\n",
       "      <td>90.521600</td>\n",
       "    </tr>\n",
       "    <tr>\n",
       "      <th>R-MISC</th>\n",
       "      <td>63.250300</td>\n",
       "    </tr>\n",
       "    <tr>\n",
       "      <th>F1-PER</th>\n",
       "      <td>88.394700</td>\n",
       "    </tr>\n",
       "    <tr>\n",
       "      <th>P-PER</th>\n",
       "      <td>88.509600</td>\n",
       "    </tr>\n",
       "    <tr>\n",
       "      <th>R-PER</th>\n",
       "      <td>88.975300</td>\n",
       "    </tr>\n",
       "    <tr>\n",
       "      <th>F1-LOC</th>\n",
       "      <td>77.332233</td>\n",
       "    </tr>\n",
       "    <tr>\n",
       "      <th>P-LOC</th>\n",
       "      <td>80.354700</td>\n",
       "    </tr>\n",
       "    <tr>\n",
       "      <th>R-LOC</th>\n",
       "      <td>71.090300</td>\n",
       "    </tr>\n",
       "    <tr>\n",
       "      <th>F1-ORG</th>\n",
       "      <td>58.613200</td>\n",
       "    </tr>\n",
       "    <tr>\n",
       "      <th>P-ORG</th>\n",
       "      <td>24.500000</td>\n",
       "    </tr>\n",
       "    <tr>\n",
       "      <th>R-ORG</th>\n",
       "      <td>41.000000</td>\n",
       "    </tr>\n",
       "  </tbody>\n",
       "</table>\n",
       "</div>"
      ],
      "text/plain": [
       "                 0\n",
       "F1-O     98.091700\n",
       "P-O      97.795600\n",
       "R-O      98.409800\n",
       "F1-MISC  74.978689\n",
       "P-MISC   90.521600\n",
       "R-MISC   63.250300\n",
       "F1-PER   88.394700\n",
       "P-PER    88.509600\n",
       "R-PER    88.975300\n",
       "F1-LOC   77.332233\n",
       "P-LOC    80.354700\n",
       "R-LOC    71.090300\n",
       "F1-ORG   58.613200\n",
       "P-ORG    24.500000\n",
       "R-ORG    41.000000"
      ]
     },
     "execution_count": 157,
     "metadata": {},
     "output_type": "execute_result"
    }
   ],
   "source": [
    "trainByTagResult.mean(axis=1).to_frame()"
   ]
  },
  {
   "cell_type": "code",
   "execution_count": 158,
   "metadata": {},
   "outputs": [
    {
     "data": {
      "text/html": [
       "<div>\n",
       "<style scoped>\n",
       "    .dataframe tbody tr th:only-of-type {\n",
       "        vertical-align: middle;\n",
       "    }\n",
       "\n",
       "    .dataframe tbody tr th {\n",
       "        vertical-align: top;\n",
       "    }\n",
       "\n",
       "    .dataframe thead th {\n",
       "        text-align: right;\n",
       "    }\n",
       "</style>\n",
       "<table border=\"1\" class=\"dataframe\">\n",
       "  <thead>\n",
       "    <tr style=\"text-align: right;\">\n",
       "      <th></th>\n",
       "      <th>0</th>\n",
       "    </tr>\n",
       "  </thead>\n",
       "  <tbody>\n",
       "    <tr>\n",
       "      <th>F1-O</th>\n",
       "      <td>0.048701</td>\n",
       "    </tr>\n",
       "    <tr>\n",
       "      <th>P-O</th>\n",
       "      <td>0.153714</td>\n",
       "    </tr>\n",
       "    <tr>\n",
       "      <th>R-O</th>\n",
       "      <td>0.162500</td>\n",
       "    </tr>\n",
       "    <tr>\n",
       "      <th>F1-MISC</th>\n",
       "      <td>1.944915</td>\n",
       "    </tr>\n",
       "    <tr>\n",
       "      <th>P-MISC</th>\n",
       "      <td>5.064696</td>\n",
       "    </tr>\n",
       "    <tr>\n",
       "      <th>R-MISC</th>\n",
       "      <td>2.492464</td>\n",
       "    </tr>\n",
       "    <tr>\n",
       "      <th>F1-PER</th>\n",
       "      <td>0.527687</td>\n",
       "    </tr>\n",
       "    <tr>\n",
       "      <th>P-PER</th>\n",
       "      <td>0.758747</td>\n",
       "    </tr>\n",
       "    <tr>\n",
       "      <th>R-PER</th>\n",
       "      <td>0.807485</td>\n",
       "    </tr>\n",
       "    <tr>\n",
       "      <th>F1-LOC</th>\n",
       "      <td>2.496672</td>\n",
       "    </tr>\n",
       "    <tr>\n",
       "      <th>P-LOC</th>\n",
       "      <td>6.207912</td>\n",
       "    </tr>\n",
       "    <tr>\n",
       "      <th>R-LOC</th>\n",
       "      <td>4.083005</td>\n",
       "    </tr>\n",
       "    <tr>\n",
       "      <th>F1-ORG</th>\n",
       "      <td>2.811467</td>\n",
       "    </tr>\n",
       "    <tr>\n",
       "      <th>P-ORG</th>\n",
       "      <td>4.972145</td>\n",
       "    </tr>\n",
       "    <tr>\n",
       "      <th>R-ORG</th>\n",
       "      <td>9.944289</td>\n",
       "    </tr>\n",
       "  </tbody>\n",
       "</table>\n",
       "</div>"
      ],
      "text/plain": [
       "                0\n",
       "F1-O     0.048701\n",
       "P-O      0.153714\n",
       "R-O      0.162500\n",
       "F1-MISC  1.944915\n",
       "P-MISC   5.064696\n",
       "R-MISC   2.492464\n",
       "F1-PER   0.527687\n",
       "P-PER    0.758747\n",
       "R-PER    0.807485\n",
       "F1-LOC   2.496672\n",
       "P-LOC    6.207912\n",
       "R-LOC    4.083005\n",
       "F1-ORG   2.811467\n",
       "P-ORG    4.972145\n",
       "R-ORG    9.944289"
      ]
     },
     "execution_count": 158,
     "metadata": {},
     "output_type": "execute_result"
    }
   ],
   "source": [
    "trainByTagResult.std(axis=1).to_frame()"
   ]
  },
  {
   "cell_type": "code",
   "execution_count": 159,
   "metadata": {},
   "outputs": [
    {
     "data": {
      "text/html": [
       "<div>\n",
       "<style scoped>\n",
       "    .dataframe tbody tr th:only-of-type {\n",
       "        vertical-align: middle;\n",
       "    }\n",
       "\n",
       "    .dataframe tbody tr th {\n",
       "        vertical-align: top;\n",
       "    }\n",
       "\n",
       "    .dataframe thead th {\n",
       "        text-align: right;\n",
       "    }\n",
       "</style>\n",
       "<table border=\"1\" class=\"dataframe\">\n",
       "  <thead>\n",
       "    <tr style=\"text-align: right;\">\n",
       "      <th></th>\n",
       "      <th>0</th>\n",
       "      <th>0</th>\n",
       "      <th>0</th>\n",
       "      <th>0</th>\n",
       "      <th>0</th>\n",
       "      <th>0</th>\n",
       "      <th>0</th>\n",
       "      <th>0</th>\n",
       "      <th>0</th>\n",
       "      <th>0</th>\n",
       "    </tr>\n",
       "  </thead>\n",
       "  <tbody>\n",
       "    <tr>\n",
       "      <th>F1-O</th>\n",
       "      <td>97.635000</td>\n",
       "      <td>97.7570</td>\n",
       "      <td>97.641000</td>\n",
       "      <td>97.824000</td>\n",
       "      <td>97.646000</td>\n",
       "      <td>97.754000</td>\n",
       "      <td>97.814000</td>\n",
       "      <td>97.890</td>\n",
       "      <td>97.6300</td>\n",
       "      <td>97.63700</td>\n",
       "    </tr>\n",
       "    <tr>\n",
       "      <th>P-O</th>\n",
       "      <td>97.074000</td>\n",
       "      <td>97.3410</td>\n",
       "      <td>97.081000</td>\n",
       "      <td>97.303000</td>\n",
       "      <td>96.996000</td>\n",
       "      <td>97.569000</td>\n",
       "      <td>97.696000</td>\n",
       "      <td>97.445</td>\n",
       "      <td>97.3410</td>\n",
       "      <td>97.35900</td>\n",
       "    </tr>\n",
       "    <tr>\n",
       "      <th>R-O</th>\n",
       "      <td>98.223000</td>\n",
       "      <td>98.2150</td>\n",
       "      <td>98.235000</td>\n",
       "      <td>98.362000</td>\n",
       "      <td>98.349000</td>\n",
       "      <td>97.971000</td>\n",
       "      <td>97.969000</td>\n",
       "      <td>98.354</td>\n",
       "      <td>97.9630</td>\n",
       "      <td>97.96600</td>\n",
       "    </tr>\n",
       "    <tr>\n",
       "      <th>F1-MISC</th>\n",
       "      <td>100.000000</td>\n",
       "      <td>80.0000</td>\n",
       "      <td>75.000000</td>\n",
       "      <td>78.571429</td>\n",
       "      <td>80.000000</td>\n",
       "      <td>80.000000</td>\n",
       "      <td>77.778333</td>\n",
       "      <td>100.000</td>\n",
       "      <td>80.0000</td>\n",
       "      <td>93.33400</td>\n",
       "    </tr>\n",
       "    <tr>\n",
       "      <th>P-MISC</th>\n",
       "      <td>40.000000</td>\n",
       "      <td>40.0000</td>\n",
       "      <td>30.000000</td>\n",
       "      <td>60.000000</td>\n",
       "      <td>40.000000</td>\n",
       "      <td>40.000000</td>\n",
       "      <td>45.000000</td>\n",
       "      <td>30.000</td>\n",
       "      <td>40.0000</td>\n",
       "      <td>45.00000</td>\n",
       "    </tr>\n",
       "    <tr>\n",
       "      <th>R-MISC</th>\n",
       "      <td>40.000000</td>\n",
       "      <td>40.0000</td>\n",
       "      <td>30.000000</td>\n",
       "      <td>53.333000</td>\n",
       "      <td>40.000000</td>\n",
       "      <td>40.000000</td>\n",
       "      <td>50.000000</td>\n",
       "      <td>30.000</td>\n",
       "      <td>40.0000</td>\n",
       "      <td>50.00000</td>\n",
       "    </tr>\n",
       "    <tr>\n",
       "      <th>F1-PER</th>\n",
       "      <td>85.162000</td>\n",
       "      <td>84.1310</td>\n",
       "      <td>83.353000</td>\n",
       "      <td>83.670000</td>\n",
       "      <td>83.948000</td>\n",
       "      <td>86.065000</td>\n",
       "      <td>85.808000</td>\n",
       "      <td>86.414</td>\n",
       "      <td>83.9390</td>\n",
       "      <td>81.49400</td>\n",
       "    </tr>\n",
       "    <tr>\n",
       "      <th>P-PER</th>\n",
       "      <td>86.206000</td>\n",
       "      <td>85.8970</td>\n",
       "      <td>85.746000</td>\n",
       "      <td>87.079000</td>\n",
       "      <td>86.079000</td>\n",
       "      <td>84.317000</td>\n",
       "      <td>86.015000</td>\n",
       "      <td>86.317</td>\n",
       "      <td>84.2310</td>\n",
       "      <td>86.31700</td>\n",
       "    </tr>\n",
       "    <tr>\n",
       "      <th>R-PER</th>\n",
       "      <td>84.932000</td>\n",
       "      <td>84.0040</td>\n",
       "      <td>82.353000</td>\n",
       "      <td>81.977000</td>\n",
       "      <td>83.865000</td>\n",
       "      <td>88.543000</td>\n",
       "      <td>86.460000</td>\n",
       "      <td>87.293</td>\n",
       "      <td>85.4320</td>\n",
       "      <td>80.29300</td>\n",
       "    </tr>\n",
       "    <tr>\n",
       "      <th>F1-LOC</th>\n",
       "      <td>43.672857</td>\n",
       "      <td>54.0475</td>\n",
       "      <td>65.815714</td>\n",
       "      <td>55.088750</td>\n",
       "      <td>43.672857</td>\n",
       "      <td>46.937143</td>\n",
       "      <td>55.802500</td>\n",
       "      <td>56.875</td>\n",
       "      <td>51.4275</td>\n",
       "      <td>53.21375</td>\n",
       "    </tr>\n",
       "    <tr>\n",
       "      <th>P-LOC</th>\n",
       "      <td>37.500000</td>\n",
       "      <td>43.5000</td>\n",
       "      <td>45.000000</td>\n",
       "      <td>45.000000</td>\n",
       "      <td>37.500000</td>\n",
       "      <td>31.667000</td>\n",
       "      <td>42.500000</td>\n",
       "      <td>47.500</td>\n",
       "      <td>45.0000</td>\n",
       "      <td>42.50000</td>\n",
       "    </tr>\n",
       "    <tr>\n",
       "      <th>R-LOC</th>\n",
       "      <td>29.167000</td>\n",
       "      <td>44.1670</td>\n",
       "      <td>47.500000</td>\n",
       "      <td>44.167000</td>\n",
       "      <td>29.167000</td>\n",
       "      <td>35.000000</td>\n",
       "      <td>47.500000</td>\n",
       "      <td>44.167</td>\n",
       "      <td>42.5000</td>\n",
       "      <td>44.16700</td>\n",
       "    </tr>\n",
       "    <tr>\n",
       "      <th>F1-ORG</th>\n",
       "      <td>0.000000</td>\n",
       "      <td>0.0000</td>\n",
       "      <td>0.000000</td>\n",
       "      <td>0.000000</td>\n",
       "      <td>0.000000</td>\n",
       "      <td>0.000000</td>\n",
       "      <td>0.000000</td>\n",
       "      <td>0.000</td>\n",
       "      <td>0.0000</td>\n",
       "      <td>0.00000</td>\n",
       "    </tr>\n",
       "    <tr>\n",
       "      <th>P-ORG</th>\n",
       "      <td>0.000000</td>\n",
       "      <td>0.0000</td>\n",
       "      <td>0.000000</td>\n",
       "      <td>0.000000</td>\n",
       "      <td>0.000000</td>\n",
       "      <td>0.000000</td>\n",
       "      <td>0.000000</td>\n",
       "      <td>0.000</td>\n",
       "      <td>0.0000</td>\n",
       "      <td>0.00000</td>\n",
       "    </tr>\n",
       "    <tr>\n",
       "      <th>R-ORG</th>\n",
       "      <td>0.000000</td>\n",
       "      <td>0.0000</td>\n",
       "      <td>0.000000</td>\n",
       "      <td>0.000000</td>\n",
       "      <td>0.000000</td>\n",
       "      <td>0.000000</td>\n",
       "      <td>0.000000</td>\n",
       "      <td>0.000</td>\n",
       "      <td>0.0000</td>\n",
       "      <td>0.00000</td>\n",
       "    </tr>\n",
       "  </tbody>\n",
       "</table>\n",
       "</div>"
      ],
      "text/plain": [
       "                  0        0          0          0          0          0  \\\n",
       "F1-O      97.635000  97.7570  97.641000  97.824000  97.646000  97.754000   \n",
       "P-O       97.074000  97.3410  97.081000  97.303000  96.996000  97.569000   \n",
       "R-O       98.223000  98.2150  98.235000  98.362000  98.349000  97.971000   \n",
       "F1-MISC  100.000000  80.0000  75.000000  78.571429  80.000000  80.000000   \n",
       "P-MISC    40.000000  40.0000  30.000000  60.000000  40.000000  40.000000   \n",
       "R-MISC    40.000000  40.0000  30.000000  53.333000  40.000000  40.000000   \n",
       "F1-PER    85.162000  84.1310  83.353000  83.670000  83.948000  86.065000   \n",
       "P-PER     86.206000  85.8970  85.746000  87.079000  86.079000  84.317000   \n",
       "R-PER     84.932000  84.0040  82.353000  81.977000  83.865000  88.543000   \n",
       "F1-LOC    43.672857  54.0475  65.815714  55.088750  43.672857  46.937143   \n",
       "P-LOC     37.500000  43.5000  45.000000  45.000000  37.500000  31.667000   \n",
       "R-LOC     29.167000  44.1670  47.500000  44.167000  29.167000  35.000000   \n",
       "F1-ORG     0.000000   0.0000   0.000000   0.000000   0.000000   0.000000   \n",
       "P-ORG      0.000000   0.0000   0.000000   0.000000   0.000000   0.000000   \n",
       "R-ORG      0.000000   0.0000   0.000000   0.000000   0.000000   0.000000   \n",
       "\n",
       "                 0        0        0         0  \n",
       "F1-O     97.814000   97.890  97.6300  97.63700  \n",
       "P-O      97.696000   97.445  97.3410  97.35900  \n",
       "R-O      97.969000   98.354  97.9630  97.96600  \n",
       "F1-MISC  77.778333  100.000  80.0000  93.33400  \n",
       "P-MISC   45.000000   30.000  40.0000  45.00000  \n",
       "R-MISC   50.000000   30.000  40.0000  50.00000  \n",
       "F1-PER   85.808000   86.414  83.9390  81.49400  \n",
       "P-PER    86.015000   86.317  84.2310  86.31700  \n",
       "R-PER    86.460000   87.293  85.4320  80.29300  \n",
       "F1-LOC   55.802500   56.875  51.4275  53.21375  \n",
       "P-LOC    42.500000   47.500  45.0000  42.50000  \n",
       "R-LOC    47.500000   44.167  42.5000  44.16700  \n",
       "F1-ORG    0.000000    0.000   0.0000   0.00000  \n",
       "P-ORG     0.000000    0.000   0.0000   0.00000  \n",
       "R-ORG     0.000000    0.000   0.0000   0.00000  "
      ]
     },
     "execution_count": 159,
     "metadata": {},
     "output_type": "execute_result"
    }
   ],
   "source": [
    "testByTagResult.to_csv(\"results/test-by-tag.csv\")\n",
    "testByTagResult"
   ]
  },
  {
   "cell_type": "code",
   "execution_count": 160,
   "metadata": {},
   "outputs": [
    {
     "data": {
      "text/html": [
       "<div>\n",
       "<style scoped>\n",
       "    .dataframe tbody tr th:only-of-type {\n",
       "        vertical-align: middle;\n",
       "    }\n",
       "\n",
       "    .dataframe tbody tr th {\n",
       "        vertical-align: top;\n",
       "    }\n",
       "\n",
       "    .dataframe thead th {\n",
       "        text-align: right;\n",
       "    }\n",
       "</style>\n",
       "<table border=\"1\" class=\"dataframe\">\n",
       "  <thead>\n",
       "    <tr style=\"text-align: right;\">\n",
       "      <th></th>\n",
       "      <th>0</th>\n",
       "    </tr>\n",
       "  </thead>\n",
       "  <tbody>\n",
       "    <tr>\n",
       "      <th>F1-O</th>\n",
       "      <td>97.722800</td>\n",
       "    </tr>\n",
       "    <tr>\n",
       "      <th>P-O</th>\n",
       "      <td>97.320500</td>\n",
       "    </tr>\n",
       "    <tr>\n",
       "      <th>R-O</th>\n",
       "      <td>98.160700</td>\n",
       "    </tr>\n",
       "    <tr>\n",
       "      <th>F1-MISC</th>\n",
       "      <td>84.468376</td>\n",
       "    </tr>\n",
       "    <tr>\n",
       "      <th>P-MISC</th>\n",
       "      <td>41.000000</td>\n",
       "    </tr>\n",
       "    <tr>\n",
       "      <th>R-MISC</th>\n",
       "      <td>41.333300</td>\n",
       "    </tr>\n",
       "    <tr>\n",
       "      <th>F1-PER</th>\n",
       "      <td>84.398400</td>\n",
       "    </tr>\n",
       "    <tr>\n",
       "      <th>P-PER</th>\n",
       "      <td>85.820400</td>\n",
       "    </tr>\n",
       "    <tr>\n",
       "      <th>R-PER</th>\n",
       "      <td>84.515200</td>\n",
       "    </tr>\n",
       "    <tr>\n",
       "      <th>F1-LOC</th>\n",
       "      <td>52.655357</td>\n",
       "    </tr>\n",
       "    <tr>\n",
       "      <th>P-LOC</th>\n",
       "      <td>41.766700</td>\n",
       "    </tr>\n",
       "    <tr>\n",
       "      <th>R-LOC</th>\n",
       "      <td>40.750200</td>\n",
       "    </tr>\n",
       "    <tr>\n",
       "      <th>F1-ORG</th>\n",
       "      <td>0.000000</td>\n",
       "    </tr>\n",
       "    <tr>\n",
       "      <th>P-ORG</th>\n",
       "      <td>0.000000</td>\n",
       "    </tr>\n",
       "    <tr>\n",
       "      <th>R-ORG</th>\n",
       "      <td>0.000000</td>\n",
       "    </tr>\n",
       "  </tbody>\n",
       "</table>\n",
       "</div>"
      ],
      "text/plain": [
       "                 0\n",
       "F1-O     97.722800\n",
       "P-O      97.320500\n",
       "R-O      98.160700\n",
       "F1-MISC  84.468376\n",
       "P-MISC   41.000000\n",
       "R-MISC   41.333300\n",
       "F1-PER   84.398400\n",
       "P-PER    85.820400\n",
       "R-PER    84.515200\n",
       "F1-LOC   52.655357\n",
       "P-LOC    41.766700\n",
       "R-LOC    40.750200\n",
       "F1-ORG    0.000000\n",
       "P-ORG     0.000000\n",
       "R-ORG     0.000000"
      ]
     },
     "execution_count": 160,
     "metadata": {},
     "output_type": "execute_result"
    }
   ],
   "source": [
    "testByTagResult.mean(axis=1).to_frame()"
   ]
  },
  {
   "cell_type": "code",
   "execution_count": 161,
   "metadata": {},
   "outputs": [
    {
     "data": {
      "text/html": [
       "<div>\n",
       "<style scoped>\n",
       "    .dataframe tbody tr th:only-of-type {\n",
       "        vertical-align: middle;\n",
       "    }\n",
       "\n",
       "    .dataframe tbody tr th {\n",
       "        vertical-align: top;\n",
       "    }\n",
       "\n",
       "    .dataframe thead th {\n",
       "        text-align: right;\n",
       "    }\n",
       "</style>\n",
       "<table border=\"1\" class=\"dataframe\">\n",
       "  <thead>\n",
       "    <tr style=\"text-align: right;\">\n",
       "      <th></th>\n",
       "      <th>0</th>\n",
       "    </tr>\n",
       "  </thead>\n",
       "  <tbody>\n",
       "    <tr>\n",
       "      <th>F1-O</th>\n",
       "      <td>0.097142</td>\n",
       "    </tr>\n",
       "    <tr>\n",
       "      <th>P-O</th>\n",
       "      <td>0.222187</td>\n",
       "    </tr>\n",
       "    <tr>\n",
       "      <th>R-O</th>\n",
       "      <td>0.174936</td>\n",
       "    </tr>\n",
       "    <tr>\n",
       "      <th>F1-MISC</th>\n",
       "      <td>9.487467</td>\n",
       "    </tr>\n",
       "    <tr>\n",
       "      <th>P-MISC</th>\n",
       "      <td>8.432740</td>\n",
       "    </tr>\n",
       "    <tr>\n",
       "      <th>R-MISC</th>\n",
       "      <td>7.888050</td>\n",
       "    </tr>\n",
       "    <tr>\n",
       "      <th>F1-PER</th>\n",
       "      <td>1.489020</td>\n",
       "    </tr>\n",
       "    <tr>\n",
       "      <th>P-PER</th>\n",
       "      <td>0.889977</td>\n",
       "    </tr>\n",
       "    <tr>\n",
       "      <th>R-PER</th>\n",
       "      <td>2.546555</td>\n",
       "    </tr>\n",
       "    <tr>\n",
       "      <th>F1-LOC</th>\n",
       "      <td>6.705324</td>\n",
       "    </tr>\n",
       "    <tr>\n",
       "      <th>P-LOC</th>\n",
       "      <td>4.792663</td>\n",
       "    </tr>\n",
       "    <tr>\n",
       "      <th>R-LOC</th>\n",
       "      <td>7.010194</td>\n",
       "    </tr>\n",
       "    <tr>\n",
       "      <th>F1-ORG</th>\n",
       "      <td>0.000000</td>\n",
       "    </tr>\n",
       "    <tr>\n",
       "      <th>P-ORG</th>\n",
       "      <td>0.000000</td>\n",
       "    </tr>\n",
       "    <tr>\n",
       "      <th>R-ORG</th>\n",
       "      <td>0.000000</td>\n",
       "    </tr>\n",
       "  </tbody>\n",
       "</table>\n",
       "</div>"
      ],
      "text/plain": [
       "                0\n",
       "F1-O     0.097142\n",
       "P-O      0.222187\n",
       "R-O      0.174936\n",
       "F1-MISC  9.487467\n",
       "P-MISC   8.432740\n",
       "R-MISC   7.888050\n",
       "F1-PER   1.489020\n",
       "P-PER    0.889977\n",
       "R-PER    2.546555\n",
       "F1-LOC   6.705324\n",
       "P-LOC    4.792663\n",
       "R-LOC    7.010194\n",
       "F1-ORG   0.000000\n",
       "P-ORG    0.000000\n",
       "R-ORG    0.000000"
      ]
     },
     "execution_count": 161,
     "metadata": {},
     "output_type": "execute_result"
    }
   ],
   "source": [
    "testByTagResult.std(axis=1).to_frame()"
   ]
  },
  {
   "cell_type": "code",
   "execution_count": 162,
   "metadata": {},
   "outputs": [],
   "source": [
    "ewoByTagResult.to_csv(\"results/ewo-by-tag.csv\")"
   ]
  },
  {
   "cell_type": "code",
   "execution_count": 163,
   "metadata": {},
   "outputs": [
    {
     "data": {
      "text/html": [
       "<div>\n",
       "<style scoped>\n",
       "    .dataframe tbody tr th:only-of-type {\n",
       "        vertical-align: middle;\n",
       "    }\n",
       "\n",
       "    .dataframe tbody tr th {\n",
       "        vertical-align: top;\n",
       "    }\n",
       "\n",
       "    .dataframe thead th {\n",
       "        text-align: right;\n",
       "    }\n",
       "</style>\n",
       "<table border=\"1\" class=\"dataframe\">\n",
       "  <thead>\n",
       "    <tr style=\"text-align: right;\">\n",
       "      <th></th>\n",
       "      <th>0</th>\n",
       "      <th>0.1</th>\n",
       "      <th>0.2</th>\n",
       "      <th>0.3</th>\n",
       "      <th>0.4</th>\n",
       "      <th>0.5</th>\n",
       "      <th>0.6</th>\n",
       "      <th>0.7</th>\n",
       "      <th>0.8</th>\n",
       "      <th>0.9</th>\n",
       "    </tr>\n",
       "  </thead>\n",
       "  <tbody>\n",
       "    <tr>\n",
       "      <th>F1-O</th>\n",
       "      <td>96.908000</td>\n",
       "      <td>97.103000</td>\n",
       "      <td>97.046000</td>\n",
       "      <td>97.001</td>\n",
       "      <td>97.036000</td>\n",
       "      <td>96.87500</td>\n",
       "      <td>97.154000</td>\n",
       "      <td>97.086000</td>\n",
       "      <td>97.129000</td>\n",
       "      <td>97.079000</td>\n",
       "    </tr>\n",
       "    <tr>\n",
       "      <th>P-O</th>\n",
       "      <td>96.240000</td>\n",
       "      <td>96.149000</td>\n",
       "      <td>96.245000</td>\n",
       "      <td>96.336</td>\n",
       "      <td>96.138000</td>\n",
       "      <td>96.31500</td>\n",
       "      <td>96.504000</td>\n",
       "      <td>96.299000</td>\n",
       "      <td>96.466000</td>\n",
       "      <td>96.687000</td>\n",
       "    </tr>\n",
       "    <tr>\n",
       "      <th>R-O</th>\n",
       "      <td>97.606000</td>\n",
       "      <td>98.089000</td>\n",
       "      <td>97.878000</td>\n",
       "      <td>97.693</td>\n",
       "      <td>97.967000</td>\n",
       "      <td>97.47400</td>\n",
       "      <td>97.837000</td>\n",
       "      <td>97.901000</td>\n",
       "      <td>97.824000</td>\n",
       "      <td>97.497000</td>\n",
       "    </tr>\n",
       "    <tr>\n",
       "      <th>F1-MISC</th>\n",
       "      <td>42.367500</td>\n",
       "      <td>41.070000</td>\n",
       "      <td>49.646250</td>\n",
       "      <td>43.177</td>\n",
       "      <td>47.562500</td>\n",
       "      <td>52.75375</td>\n",
       "      <td>45.768889</td>\n",
       "      <td>48.455000</td>\n",
       "      <td>42.516667</td>\n",
       "      <td>50.420000</td>\n",
       "    </tr>\n",
       "    <tr>\n",
       "      <th>P-MISC</th>\n",
       "      <td>50.002000</td>\n",
       "      <td>53.493000</td>\n",
       "      <td>54.645000</td>\n",
       "      <td>59.396</td>\n",
       "      <td>55.002000</td>\n",
       "      <td>51.51000</td>\n",
       "      <td>54.642000</td>\n",
       "      <td>51.669000</td>\n",
       "      <td>54.558000</td>\n",
       "      <td>57.700000</td>\n",
       "    </tr>\n",
       "    <tr>\n",
       "      <th>R-MISC</th>\n",
       "      <td>27.500000</td>\n",
       "      <td>30.000000</td>\n",
       "      <td>32.500000</td>\n",
       "      <td>36.250</td>\n",
       "      <td>30.000000</td>\n",
       "      <td>37.50000</td>\n",
       "      <td>37.500000</td>\n",
       "      <td>32.500000</td>\n",
       "      <td>31.250000</td>\n",
       "      <td>40.000000</td>\n",
       "    </tr>\n",
       "    <tr>\n",
       "      <th>F1-PER</th>\n",
       "      <td>76.372000</td>\n",
       "      <td>77.473000</td>\n",
       "      <td>78.226000</td>\n",
       "      <td>77.021</td>\n",
       "      <td>76.372000</td>\n",
       "      <td>75.45500</td>\n",
       "      <td>77.659000</td>\n",
       "      <td>76.998000</td>\n",
       "      <td>77.950000</td>\n",
       "      <td>78.662000</td>\n",
       "    </tr>\n",
       "    <tr>\n",
       "      <th>P-PER</th>\n",
       "      <td>76.617000</td>\n",
       "      <td>80.266000</td>\n",
       "      <td>80.886000</td>\n",
       "      <td>78.959</td>\n",
       "      <td>78.359000</td>\n",
       "      <td>76.90800</td>\n",
       "      <td>80.522000</td>\n",
       "      <td>78.165000</td>\n",
       "      <td>78.461000</td>\n",
       "      <td>79.765000</td>\n",
       "    </tr>\n",
       "    <tr>\n",
       "      <th>R-PER</th>\n",
       "      <td>77.125000</td>\n",
       "      <td>75.375000</td>\n",
       "      <td>76.875000</td>\n",
       "      <td>76.250</td>\n",
       "      <td>75.250000</td>\n",
       "      <td>76.00000</td>\n",
       "      <td>75.750000</td>\n",
       "      <td>76.625000</td>\n",
       "      <td>79.000000</td>\n",
       "      <td>78.500000</td>\n",
       "    </tr>\n",
       "    <tr>\n",
       "      <th>F1-LOC</th>\n",
       "      <td>57.048889</td>\n",
       "      <td>53.812222</td>\n",
       "      <td>53.695556</td>\n",
       "      <td>55.279</td>\n",
       "      <td>54.335556</td>\n",
       "      <td>53.62500</td>\n",
       "      <td>59.146000</td>\n",
       "      <td>59.925556</td>\n",
       "      <td>53.978000</td>\n",
       "      <td>59.692222</td>\n",
       "    </tr>\n",
       "    <tr>\n",
       "      <th>P-LOC</th>\n",
       "      <td>83.453000</td>\n",
       "      <td>79.384000</td>\n",
       "      <td>74.321000</td>\n",
       "      <td>83.320</td>\n",
       "      <td>83.435000</td>\n",
       "      <td>87.87100</td>\n",
       "      <td>83.042000</td>\n",
       "      <td>84.273000</td>\n",
       "      <td>94.182000</td>\n",
       "      <td>66.106000</td>\n",
       "    </tr>\n",
       "    <tr>\n",
       "      <th>R-LOC</th>\n",
       "      <td>38.331000</td>\n",
       "      <td>37.777000</td>\n",
       "      <td>38.888000</td>\n",
       "      <td>43.335</td>\n",
       "      <td>37.221000</td>\n",
       "      <td>41.66700</td>\n",
       "      <td>50.555000</td>\n",
       "      <td>40.555000</td>\n",
       "      <td>40.000000</td>\n",
       "      <td>48.889000</td>\n",
       "    </tr>\n",
       "    <tr>\n",
       "      <th>F1-ORG</th>\n",
       "      <td>33.330000</td>\n",
       "      <td>33.330000</td>\n",
       "      <td>33.330000</td>\n",
       "      <td>33.330</td>\n",
       "      <td>33.330000</td>\n",
       "      <td>33.33000</td>\n",
       "      <td>33.330000</td>\n",
       "      <td>33.330000</td>\n",
       "      <td>33.330000</td>\n",
       "      <td>33.330000</td>\n",
       "    </tr>\n",
       "    <tr>\n",
       "      <th>P-ORG</th>\n",
       "      <td>12.500000</td>\n",
       "      <td>10.000000</td>\n",
       "      <td>12.500000</td>\n",
       "      <td>10.000</td>\n",
       "      <td>10.000000</td>\n",
       "      <td>12.50000</td>\n",
       "      <td>7.500000</td>\n",
       "      <td>10.000000</td>\n",
       "      <td>5.000000</td>\n",
       "      <td>12.500000</td>\n",
       "    </tr>\n",
       "    <tr>\n",
       "      <th>R-ORG</th>\n",
       "      <td>25.000000</td>\n",
       "      <td>20.000000</td>\n",
       "      <td>25.000000</td>\n",
       "      <td>20.000</td>\n",
       "      <td>20.000000</td>\n",
       "      <td>25.00000</td>\n",
       "      <td>15.000000</td>\n",
       "      <td>20.000000</td>\n",
       "      <td>10.000000</td>\n",
       "      <td>25.000000</td>\n",
       "    </tr>\n",
       "  </tbody>\n",
       "</table>\n",
       "</div>"
      ],
      "text/plain": [
       "                 0        0.1        0.2     0.3        0.4       0.5  \\\n",
       "F1-O     96.908000  97.103000  97.046000  97.001  97.036000  96.87500   \n",
       "P-O      96.240000  96.149000  96.245000  96.336  96.138000  96.31500   \n",
       "R-O      97.606000  98.089000  97.878000  97.693  97.967000  97.47400   \n",
       "F1-MISC  42.367500  41.070000  49.646250  43.177  47.562500  52.75375   \n",
       "P-MISC   50.002000  53.493000  54.645000  59.396  55.002000  51.51000   \n",
       "R-MISC   27.500000  30.000000  32.500000  36.250  30.000000  37.50000   \n",
       "F1-PER   76.372000  77.473000  78.226000  77.021  76.372000  75.45500   \n",
       "P-PER    76.617000  80.266000  80.886000  78.959  78.359000  76.90800   \n",
       "R-PER    77.125000  75.375000  76.875000  76.250  75.250000  76.00000   \n",
       "F1-LOC   57.048889  53.812222  53.695556  55.279  54.335556  53.62500   \n",
       "P-LOC    83.453000  79.384000  74.321000  83.320  83.435000  87.87100   \n",
       "R-LOC    38.331000  37.777000  38.888000  43.335  37.221000  41.66700   \n",
       "F1-ORG   33.330000  33.330000  33.330000  33.330  33.330000  33.33000   \n",
       "P-ORG    12.500000  10.000000  12.500000  10.000  10.000000  12.50000   \n",
       "R-ORG    25.000000  20.000000  25.000000  20.000  20.000000  25.00000   \n",
       "\n",
       "               0.6        0.7        0.8        0.9  \n",
       "F1-O     97.154000  97.086000  97.129000  97.079000  \n",
       "P-O      96.504000  96.299000  96.466000  96.687000  \n",
       "R-O      97.837000  97.901000  97.824000  97.497000  \n",
       "F1-MISC  45.768889  48.455000  42.516667  50.420000  \n",
       "P-MISC   54.642000  51.669000  54.558000  57.700000  \n",
       "R-MISC   37.500000  32.500000  31.250000  40.000000  \n",
       "F1-PER   77.659000  76.998000  77.950000  78.662000  \n",
       "P-PER    80.522000  78.165000  78.461000  79.765000  \n",
       "R-PER    75.750000  76.625000  79.000000  78.500000  \n",
       "F1-LOC   59.146000  59.925556  53.978000  59.692222  \n",
       "P-LOC    83.042000  84.273000  94.182000  66.106000  \n",
       "R-LOC    50.555000  40.555000  40.000000  48.889000  \n",
       "F1-ORG   33.330000  33.330000  33.330000  33.330000  \n",
       "P-ORG     7.500000  10.000000   5.000000  12.500000  \n",
       "R-ORG    15.000000  20.000000  10.000000  25.000000  "
      ]
     },
     "execution_count": 163,
     "metadata": {},
     "output_type": "execute_result"
    }
   ],
   "source": [
    "ewoByTagResult = pd.read_csv(\"results/ewo-by-tag.csv\", index_col=0)\n",
    "ewoByTagResult"
   ]
  },
  {
   "cell_type": "code",
   "execution_count": 164,
   "metadata": {},
   "outputs": [
    {
     "data": {
      "text/html": [
       "<div>\n",
       "<style scoped>\n",
       "    .dataframe tbody tr th:only-of-type {\n",
       "        vertical-align: middle;\n",
       "    }\n",
       "\n",
       "    .dataframe tbody tr th {\n",
       "        vertical-align: top;\n",
       "    }\n",
       "\n",
       "    .dataframe thead th {\n",
       "        text-align: right;\n",
       "    }\n",
       "</style>\n",
       "<table border=\"1\" class=\"dataframe\">\n",
       "  <thead>\n",
       "    <tr style=\"text-align: right;\">\n",
       "      <th></th>\n",
       "      <th>0</th>\n",
       "    </tr>\n",
       "  </thead>\n",
       "  <tbody>\n",
       "    <tr>\n",
       "      <th>F1-O</th>\n",
       "      <td>97.041700</td>\n",
       "    </tr>\n",
       "    <tr>\n",
       "      <th>P-O</th>\n",
       "      <td>96.337900</td>\n",
       "    </tr>\n",
       "    <tr>\n",
       "      <th>R-O</th>\n",
       "      <td>97.776600</td>\n",
       "    </tr>\n",
       "    <tr>\n",
       "      <th>F1-MISC</th>\n",
       "      <td>46.373756</td>\n",
       "    </tr>\n",
       "    <tr>\n",
       "      <th>P-MISC</th>\n",
       "      <td>54.261700</td>\n",
       "    </tr>\n",
       "    <tr>\n",
       "      <th>R-MISC</th>\n",
       "      <td>33.500000</td>\n",
       "    </tr>\n",
       "    <tr>\n",
       "      <th>F1-PER</th>\n",
       "      <td>77.218800</td>\n",
       "    </tr>\n",
       "    <tr>\n",
       "      <th>P-PER</th>\n",
       "      <td>78.890800</td>\n",
       "    </tr>\n",
       "    <tr>\n",
       "      <th>R-PER</th>\n",
       "      <td>76.675000</td>\n",
       "    </tr>\n",
       "    <tr>\n",
       "      <th>F1-LOC</th>\n",
       "      <td>56.053800</td>\n",
       "    </tr>\n",
       "    <tr>\n",
       "      <th>P-LOC</th>\n",
       "      <td>81.938700</td>\n",
       "    </tr>\n",
       "    <tr>\n",
       "      <th>R-LOC</th>\n",
       "      <td>41.721800</td>\n",
       "    </tr>\n",
       "    <tr>\n",
       "      <th>F1-ORG</th>\n",
       "      <td>33.330000</td>\n",
       "    </tr>\n",
       "    <tr>\n",
       "      <th>P-ORG</th>\n",
       "      <td>10.250000</td>\n",
       "    </tr>\n",
       "    <tr>\n",
       "      <th>R-ORG</th>\n",
       "      <td>20.500000</td>\n",
       "    </tr>\n",
       "  </tbody>\n",
       "</table>\n",
       "</div>"
      ],
      "text/plain": [
       "                 0\n",
       "F1-O     97.041700\n",
       "P-O      96.337900\n",
       "R-O      97.776600\n",
       "F1-MISC  46.373756\n",
       "P-MISC   54.261700\n",
       "R-MISC   33.500000\n",
       "F1-PER   77.218800\n",
       "P-PER    78.890800\n",
       "R-PER    76.675000\n",
       "F1-LOC   56.053800\n",
       "P-LOC    81.938700\n",
       "R-LOC    41.721800\n",
       "F1-ORG   33.330000\n",
       "P-ORG    10.250000\n",
       "R-ORG    20.500000"
      ]
     },
     "execution_count": 164,
     "metadata": {},
     "output_type": "execute_result"
    }
   ],
   "source": [
    "ewoByTagResult.mean(axis=1).to_frame()"
   ]
  },
  {
   "cell_type": "code",
   "execution_count": 165,
   "metadata": {},
   "outputs": [
    {
     "data": {
      "text/html": [
       "<div>\n",
       "<style scoped>\n",
       "    .dataframe tbody tr th:only-of-type {\n",
       "        vertical-align: middle;\n",
       "    }\n",
       "\n",
       "    .dataframe tbody tr th {\n",
       "        vertical-align: top;\n",
       "    }\n",
       "\n",
       "    .dataframe thead th {\n",
       "        text-align: right;\n",
       "    }\n",
       "</style>\n",
       "<table border=\"1\" class=\"dataframe\">\n",
       "  <thead>\n",
       "    <tr style=\"text-align: right;\">\n",
       "      <th></th>\n",
       "      <th>0</th>\n",
       "    </tr>\n",
       "  </thead>\n",
       "  <tbody>\n",
       "    <tr>\n",
       "      <th>F1-O</th>\n",
       "      <td>0.091114</td>\n",
       "    </tr>\n",
       "    <tr>\n",
       "      <th>P-O</th>\n",
       "      <td>0.170545</td>\n",
       "    </tr>\n",
       "    <tr>\n",
       "      <th>R-O</th>\n",
       "      <td>0.203124</td>\n",
       "    </tr>\n",
       "    <tr>\n",
       "      <th>F1-MISC</th>\n",
       "      <td>3.988490</td>\n",
       "    </tr>\n",
       "    <tr>\n",
       "      <th>P-MISC</th>\n",
       "      <td>2.831180</td>\n",
       "    </tr>\n",
       "    <tr>\n",
       "      <th>R-MISC</th>\n",
       "      <td>4.073969</td>\n",
       "    </tr>\n",
       "    <tr>\n",
       "      <th>F1-PER</th>\n",
       "      <td>0.973158</td>\n",
       "    </tr>\n",
       "    <tr>\n",
       "      <th>P-PER</th>\n",
       "      <td>1.468093</td>\n",
       "    </tr>\n",
       "    <tr>\n",
       "      <th>R-PER</th>\n",
       "      <td>1.255820</td>\n",
       "    </tr>\n",
       "    <tr>\n",
       "      <th>F1-LOC</th>\n",
       "      <td>2.648421</td>\n",
       "    </tr>\n",
       "    <tr>\n",
       "      <th>P-LOC</th>\n",
       "      <td>7.552976</td>\n",
       "    </tr>\n",
       "    <tr>\n",
       "      <th>R-LOC</th>\n",
       "      <td>4.614858</td>\n",
       "    </tr>\n",
       "    <tr>\n",
       "      <th>F1-ORG</th>\n",
       "      <td>0.000000</td>\n",
       "    </tr>\n",
       "    <tr>\n",
       "      <th>P-ORG</th>\n",
       "      <td>2.486072</td>\n",
       "    </tr>\n",
       "    <tr>\n",
       "      <th>R-ORG</th>\n",
       "      <td>4.972145</td>\n",
       "    </tr>\n",
       "  </tbody>\n",
       "</table>\n",
       "</div>"
      ],
      "text/plain": [
       "                0\n",
       "F1-O     0.091114\n",
       "P-O      0.170545\n",
       "R-O      0.203124\n",
       "F1-MISC  3.988490\n",
       "P-MISC   2.831180\n",
       "R-MISC   4.073969\n",
       "F1-PER   0.973158\n",
       "P-PER    1.468093\n",
       "R-PER    1.255820\n",
       "F1-LOC   2.648421\n",
       "P-LOC    7.552976\n",
       "R-LOC    4.614858\n",
       "F1-ORG   0.000000\n",
       "P-ORG    2.486072\n",
       "R-ORG    4.972145"
      ]
     },
     "execution_count": 165,
     "metadata": {},
     "output_type": "execute_result"
    }
   ],
   "source": [
    "ewoByTagResult.std(axis=1).to_frame()"
   ]
  },
  {
   "cell_type": "code",
   "execution_count": 166,
   "metadata": {},
   "outputs": [
    {
     "name": "stdout",
     "output_type": "stream",
     "text": [
      "Pred\tReal\tFreq\tWord\n",
      "O\tLOC\t4170.0\tSamaria\n",
      "O\tLOC\t4170.0\tOlivet\n",
      "O\tMISC\t4170.0\tSabbath\n",
      "PER\tO\t4170.0\tupper\n",
      "PER\tO\t4170.0\troom\n",
      "PER\tO\t4170.0\twhere\n",
      "PER\tO\t4170.0\tZealot\n",
      "LOC\tO\t4170.0\tso\n",
      "LOC\tO\t4170.0\tlanguage\n",
      "O\tMISC\t4170.0\tPsalms\n",
      "PER\tO\t4170.0\tforward\n",
      "O\tMISC\t4170.0\tninth\n",
      "O\tPER\t4170.0\tMoses\n",
      "PER\tO\t4170.0\tproclaimed\n",
      "ORG\tO\t4170.0\tcaptain\n",
      "PER\tO\t4170.0\thigh-priestly\n",
      "PER\tO\t4170.0\tfamily\n",
      "O\tPER\t4170.0\tPontius\n",
      "O\tPER\t4170.0\tBarnabas\n",
      "O\tLOC\t4170.0\tCyprus\n",
      "O\tPER\t4170.0\tElijah\n",
      "O\tMISC\t4170.0\tr\n",
      "PER\tO\t4170.0\tJu\n",
      "PER\tO\t4170.0\th\n",
      "LOC\tO\t4170.0\tdeportation\n",
      "PER\tO\t4170.0\tus)\n"
     ]
    }
   ],
   "source": [
    "columns = en_fingerprints.columns\n",
    "\n",
    "print(\"Pred\", \"Real\", \"Freq\", \"Word\", sep=\"\\t\")\n",
    "for c in columns:\n",
    "    prediction = model.predict(en_fingerprints[c].values.reshape((1, 210)))\n",
    "    pred_tag = int2tag[np.argmax(prediction)]\n",
    "    real_tag = en_corpus[en_corpus.word == c].iloc[0]['ne-tag']\n",
    "    \n",
    "    if pred_tag != real_tag:\n",
    "        print(pred_tag, real_tag, en_fingerprints[c].max(), c, sep=\"\\t\")"
   ]
  }
 ],
 "metadata": {
  "anaconda-cloud": {},
  "colab": {
   "collapsed_sections": [],
   "default_view": {},
   "name": "rnn-ner.ipynb",
   "provenance": [
    {
     "file_id": "1bSiRRO29rixupIV6ume9T9B4KUKtYVKI",
     "timestamp": 1513688449690
    }
   ],
   "version": "0.3.2",
   "views": {}
  },
  "kernelspec": {
   "display_name": "Python [conda env:ner-projection] *",
   "language": "python",
   "name": "conda-env-ner-projection-py"
  },
  "language_info": {
   "codemirror_mode": {
    "name": "ipython",
    "version": 3
   },
   "file_extension": ".py",
   "mimetype": "text/x-python",
   "name": "python",
   "nbconvert_exporter": "python",
   "pygments_lexer": "ipython3",
   "version": "3.7.3"
  }
 },
 "nbformat": 4,
 "nbformat_minor": 1
}
