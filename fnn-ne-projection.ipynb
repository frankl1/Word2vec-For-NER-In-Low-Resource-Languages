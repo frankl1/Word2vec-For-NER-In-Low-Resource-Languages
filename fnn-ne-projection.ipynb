{
 "cells": [
  {
   "cell_type": "code",
   "execution_count": 1,
   "metadata": {
    "colab": {
     "autoexec": {
      "startup": false,
      "wait_interval": 0
     },
     "base_uri": "https://localhost:8080/",
     "height": 88,
     "output_extras": [
      {
       "item_id": 1
      }
     ]
    },
    "colab_type": "code",
    "executionInfo": {
     "elapsed": 2799,
     "status": "ok",
     "timestamp": 1516045322673,
     "user": {
      "displayName": "Michael Franklin Mbouopda",
      "photoUrl": "//lh3.googleusercontent.com/-2_Vuj9ESsJ0/AAAAAAAAAAI/AAAAAAAABSc/r-SRcN0jWPw/s50-c-k-no/photo.jpg",
      "userId": "117384351130599115261"
     },
     "user_tz": -60
    },
    "id": "NamUCuj1bBjd",
    "outputId": "7874258f-7c3e-4646-f238-36437759767b"
   },
   "outputs": [
    {
     "name": "stderr",
     "output_type": "stream",
     "text": [
      "Using TensorFlow backend.\n"
     ]
    }
   ],
   "source": [
    "# import\n",
    "import keras\n",
    "import sys\n",
    "import numpy as np\n",
    "import string\n",
    "import pandas as pd\n",
    "import matplotlib.pyplot as plt\n",
    "from keras.models import Sequential\n",
    "from keras.layers import SimpleRNN, Dense\n",
    "from keras.utils import np_utils, plot_model\n",
    "from keras.callbacks import ModelCheckpoint, EarlyStopping\n",
    "from sklearn import model_selection\n",
    "from sklearn.metrics import precision_score, recall_score, f1_score, accuracy_score, precision_recall_fscore_support\n",
    "import h5py as h5py"
   ]
  },
  {
   "cell_type": "code",
   "execution_count": 2,
   "metadata": {
    "colab": {
     "autoexec": {
      "startup": false,
      "wait_interval": 0
     }
    },
    "colab_type": "code",
    "id": "t9h7fyDCbkMG"
   },
   "outputs": [],
   "source": [
    "# if we are doeing binary classification. That means say if a token is a named entity or not\n",
    "BINARY = False\n",
    "\n",
    "# number of epochs for training\n",
    "epochs = 10 \n",
    "\n",
    "# the english side of the corpus\n",
    "en_corpus_file = \"corpus-en.txt\"\n",
    "\n",
    "# the ewondo side of the corpus\n",
    "ewo_corpus_file = \"corpus-ewo.txt\"\n",
    "\n",
    "# name of the file to same the model \n",
    "best_model_file = \"best-model-conll.hdfs\"\n",
    "\n",
    "# The maximal number of phrases to use\n",
    "max_nb_of_phrases =  -1\n",
    "\n",
    "# the maximal number of duplicates for each word in the corpus\n",
    "duplication = 1\n",
    "\n",
    "# wether we are using only the vocabulary, ro redundancy\n",
    "is_only_vocab = True\n",
    "\n",
    "# if word should be shuffle or not\n",
    "shuffle = is_only_vocab\n",
    "\n",
    "# the number of neurons in the first layer\n",
    "h1_size = 640\n",
    "\n",
    "# number of neurons in the second layer\n",
    "h2_size = 160  "
   ]
  },
  {
   "cell_type": "code",
   "execution_count": 3,
   "metadata": {
    "colab": {
     "autoexec": {
      "startup": false,
      "wait_interval": 0
     }
    },
    "colab_type": "code",
    "id": "q1OlcYPo1Att"
   },
   "outputs": [],
   "source": [
    "def getTag(aString):\n",
    "    \"\"\"\n",
    "        convert a string to a tag\n",
    "    \"\"\"\n",
    "    tag = \"O\"\n",
    "    if BINARY:\n",
    "        if aString != \"O\":\n",
    "            return \"NE\"\n",
    "    else:\n",
    "        tag = aString\n",
    "    return tag\n",
    "     "
   ]
  },
  {
   "cell_type": "code",
   "execution_count": 4,
   "metadata": {
    "colab": {
     "autoexec": {
      "startup": false,
      "wait_interval": 0
     }
    },
    "colab_type": "code",
    "id": "q1OlcYPo1Att"
   },
   "outputs": [],
   "source": [
    "def load_corpus(file, max_nb_of_phrases):\n",
    "    \"\"\"\n",
    "    Load a corpus stored in a file\n",
    "    Input:\n",
    "        - file: the name of the file of the corpus\n",
    "        - max_nb_of_phases: maximal number of phrases to load\n",
    "    \n",
    "    Return:\n",
    "        - a DataFrame representing the corpus\n",
    "        - the number of phrases in the corpus\n",
    "    \"\"\"\n",
    "    nb_of_phrases = 0\n",
    "    dataset = {\"word\": [], \"ne-tag\": []}\n",
    "    with open(file) as f:\n",
    "        prev_line = None\n",
    "        for cpt, line in enumerate(f):\n",
    "            if cpt == 0:\n",
    "                continue\n",
    "            if nb_of_phrases == max_nb_of_phrases:\n",
    "                break;\n",
    "\n",
    "            l = line.strip()\n",
    "            if len(l) == 0 and len(prev_line) != 0:\n",
    "                nb_of_phrases += 1\n",
    "                dataset[\"word\"].append(line)\n",
    "                dataset[\"ne-tag\"].append(None)\n",
    "            else:\n",
    "                l = l.split(\"\\t\")\n",
    "                if l[0] not in string.punctuation:\n",
    "                    dataset[\"word\"].append(l[0])\n",
    "                    dataset[\"ne-tag\"].append(ne_type(l[1]))\n",
    "            prev_line = line.strip()\n",
    "        \n",
    "    return pd.DataFrame(dataset), nb_of_phrases+1"
   ]
  },
  {
   "cell_type": "code",
   "execution_count": 5,
   "metadata": {
    "colab": {
     "autoexec": {
      "startup": false,
      "wait_interval": 0
     }
    },
    "colab_type": "code",
    "id": "q1OlcYPo1Att"
   },
   "outputs": [],
   "source": [
    "def corpus_fingerprint(aDataframe, nb_of_biphrases):\n",
    "    \"\"\"\n",
    "    Create the distributionnal signature of each word in the corpus\n",
    "    Input:\n",
    "        -aDataFrame: the corpus DataFrame\n",
    "        -nb_of_biphrases: number of phrases in the corpus\n",
    "    Return:\n",
    "        a DataFrame: corpus fingerprint, the columns are the words in the corpus\n",
    "    \"\"\"\n",
    "    fingerprints = {}\n",
    "    current_bi_phrase_index = 0\n",
    "    nb_word_in_corpus = aDataframe[aDataframe.word != \"\\n\"].word.size\n",
    "    words_in_current_phrase = []\n",
    "    for index, row in aDataframe.iterrows():\n",
    "        if current_bi_phrase_index > nb_of_biphrases:\n",
    "            break\n",
    "            \n",
    "        word = row['word']\n",
    "        \n",
    "        if word != \"\\n\":\n",
    "            words_in_current_phrase.append(word)\n",
    "            if word not in fingerprints:\n",
    "                fingerprints[word] = np.zeros(nb_of_biphrases, dtype=np.float32)\n",
    "            fingerprints[word][current_bi_phrase_index] += 1\n",
    "        else:\n",
    "            nb_word_in_current_phrase = len(words_in_current_phrase)\n",
    "#             for w in words_in_current_phrase:\n",
    "#                 fingerprints[w][current_bi_phrase_index] = nb_word_in_corpus / fingerprints[w][current_bi_phrase_index]                \n",
    "            current_bi_phrase_index += 1\n",
    "            words_in_current_phrase = []\n",
    "    for word in fingerprints:\n",
    "        for i in range(nb_of_biphrases):\n",
    "            if fingerprints[word][i] != 0:\n",
    "                fingerprints[word][i] = nb_word_in_corpus / fingerprints[word][i]\n",
    "#         fingerprints[word][nb_of_biphrases] = nb_word_in_corpus / aDataframe[aDataframe.word == word].word.size\n",
    "        \n",
    "    return pd.DataFrame(fingerprints)"
   ]
  },
  {
   "cell_type": "code",
   "execution_count": 6,
   "metadata": {
    "colab": {
     "autoexec": {
      "startup": false,
      "wait_interval": 0
     }
    },
    "colab_type": "code",
    "id": "q1OlcYPo1Att"
   },
   "outputs": [],
   "source": [
    "def corpus2trainingdata(aDataframe, fingerprintsDataFrame):\n",
    "    \"\"\"\n",
    "    Convert corpus to training data => numpy array\n",
    "    \n",
    "    Input:\n",
    "        -aDataFrame: Corpus dataframe\n",
    "        -fingerprintsDataFrame: distributionnal signature of words in the corpus\n",
    "    Return:\n",
    "        (X, y): X is the array of words (signature) in the corpus and y is the corresponding labels (NE tags)\n",
    "    \"\"\"\n",
    "    X = np.zeros((aDataframe.shape[0], fingerprintsDataFrame.shape[0]), dtype=np.int8)\n",
    "    y = np.zeros(aDataframe.shape[0], dtype=np.int8)\n",
    "    i = 0\n",
    "    for row in aDataframe.iterrows():\n",
    "        X[i] = fingerprintsDataFrame[row[1]['word']].values\n",
    "        y[i] = tag2int[getTag(row[1]['ne-tag'])]\n",
    "        i += 1\n",
    "    return X, y"
   ]
  },
  {
   "cell_type": "code",
   "execution_count": 7,
   "metadata": {
    "colab": {
     "autoexec": {
      "startup": false,
      "wait_interval": 0
     }
    },
    "colab_type": "code",
    "id": "q1OlcYPo1Att"
   },
   "outputs": [],
   "source": [
    "def train_test_split(X, y, test_size = 0.33):\n",
    "    total = X.shape[0]\n",
    "    train_length = round(total * (1 - test_size)) \n",
    "    return X[:train_length], X[train_length:], y[:train_length], y[train_length:]"
   ]
  },
  {
   "cell_type": "code",
   "execution_count": 8,
   "metadata": {
    "colab": {
     "autoexec": {
      "startup": false,
      "wait_interval": 0
     }
    },
    "colab_type": "code",
    "id": "q1OlcYPo1Att"
   },
   "outputs": [],
   "source": [
    "# A utility function to convert NE tags\n",
    "def ne_type(aType):\n",
    "    aType = aType.lower()\n",
    "    if 'per' in aType:\n",
    "        t =  'NE' if BINARY else 'PER' \n",
    "    elif 'loc' in aType:\n",
    "        t =  'NE' if BINARY else 'LOC'\n",
    "    elif 'org' in aType:\n",
    "        t =  'NE' if BINARY else 'ORG'\n",
    "    elif 'hour' in aType:\n",
    "        t =  'NE' if BINARY else 'MISC'\n",
    "    elif aType != 'o' and len(aType) > 0 :\n",
    "        t =  'NE' if BINARY else 'MISC'\n",
    "    else:\n",
    "        t = 'O'\n",
    "    return t"
   ]
  },
  {
   "cell_type": "code",
   "execution_count": 10,
   "metadata": {
    "colab": {
     "autoexec": {
      "startup": false,
      "wait_interval": 0
     }
    },
    "colab_type": "code",
    "id": "q1OlcYPo1Att"
   },
   "outputs": [],
   "source": [
    "def P_R_F1(y_pred, y_true, neg_class):\n",
    "    same = y_pred[y_true==y_pred]\n",
    "    tp = same[same != neg_class].size\n",
    "    nb_of_pos_exple = y_true[y_true != neg_class].size\n",
    "    nb_of_pos_pred = y_pred[y_pred != neg_class].size\n",
    "    p = r = f1 = 0\n",
    "    try:\n",
    "        p = np.round(tp*100/nb_of_pos_pred, 2)\n",
    "    except ZeroDivisionError:\n",
    "        print(\"number of correct positive predictions is 0\")\n",
    "        \n",
    "    try:\n",
    "        r = np.round(tp*100/nb_of_pos_exple, 2)\n",
    "    except ZeroDivisionError:\n",
    "        print(\"number of position exple is 0\")\n",
    "        \n",
    "    try:\n",
    "        f1 = np.round(2*r*p/(r+p), 2)\n",
    "    except ZeroDivisionError:\n",
    "        print(\"Recall and precision are 0\")\n",
    "\n",
    "    return p, r, f1"
   ]
  },
  {
   "cell_type": "code",
   "execution_count": 11,
   "metadata": {},
   "outputs": [],
   "source": [
    "def shuffle_data(X, y):\n",
    "    indices = [i for i in  range(X.shape[0])]\n",
    "    np.random.shuffle(indices)\n",
    "    return X[indices], y[indices]"
   ]
  },
  {
   "cell_type": "code",
   "execution_count": 12,
   "metadata": {
    "colab": {
     "autoexec": {
      "startup": false,
      "wait_interval": 0
     },
     "base_uri": "https://localhost:8080/",
     "height": 238,
     "output_extras": [
      {
       "item_id": 1
      }
     ]
    },
    "colab_type": "code",
    "executionInfo": {
     "elapsed": 1145,
     "status": "ok",
     "timestamp": 1515671862146,
     "user": {
      "displayName": "Michael Franklin Mbouopda",
      "photoUrl": "//lh3.googleusercontent.com/-2_Vuj9ESsJ0/AAAAAAAAAAI/AAAAAAAABSc/r-SRcN0jWPw/s50-c-k-no/photo.jpg",
      "userId": "117384351130599115261"
     },
     "user_tz": -60
    },
    "id": "cvpl6zMzxm6X",
    "outputId": "ef520c78-0fd3-494a-defd-fb3e2f01d371"
   },
   "outputs": [],
   "source": [
    "def create_model(input_dim, output_dim):\n",
    "    model = Sequential()\n",
    "    model.add(Dense(h1_size, input_dim=input_dim, activation='sigmoid', name=\"hidden1\"))\n",
    "    model.add(Dense(h2_size, activation='sigmoid', name=\"hidden2\"))\n",
    "    if BINARY:\n",
    "        model.add(Dense(1, activation='sigmoid', name=\"outputlayer\"))\n",
    "        model.compile(loss='binary_crossentropy', optimizer='rmsprop', metrics=['binary_accuracy'])\n",
    "    else:\n",
    "        model.add(Dense(output_dim, activation='softmax', name=\"outputlayer\"))\n",
    "        model.compile(loss='categorical_crossentropy', optimizer=\"rmsprop\", metrics=['accuracy'])\n",
    "    model.summary()\n",
    "    return model"
   ]
  },
  {
   "cell_type": "code",
   "execution_count": 13,
   "metadata": {
    "colab": {
     "autoexec": {
      "startup": false,
      "wait_interval": 0
     },
     "base_uri": "https://localhost:8080/",
     "height": 343,
     "output_extras": [
      {
       "item_id": 99
      },
      {
       "item_id": 223
      },
      {
       "item_id": 284
      },
      {
       "item_id": 347
      },
      {
       "item_id": 394
      },
      {
       "item_id": 445
      },
      {
       "item_id": 490
      },
      {
       "item_id": 542
      },
      {
       "item_id": 590
      },
      {
       "item_id": 639
      },
      {
       "item_id": 684
      }
     ]
    },
    "colab_type": "code",
    "executionInfo": {
     "elapsed": 676115,
     "status": "ok",
     "timestamp": 1515672664054,
     "user": {
      "displayName": "Michael Franklin Mbouopda",
      "photoUrl": "//lh3.googleusercontent.com/-2_Vuj9ESsJ0/AAAAAAAAAAI/AAAAAAAABSc/r-SRcN0jWPw/s50-c-k-no/photo.jpg",
      "userId": "117384351130599115261"
     },
     "user_tz": -60
    },
    "id": "uY2-NcCZxpXe",
    "outputId": "adcd5c23-d0c6-463a-bc11-db5d415eba1d"
   },
   "outputs": [],
   "source": [
    "def train_model(model, X_train, y_train, X_val, y_val, epochs=epochs):\n",
    "    # stop learning if the error is the same between two consecutive epochs\n",
    "    early_stop = EarlyStopping(patience=20, verbose=2)\n",
    "    \n",
    "    # saving best model\n",
    "    best_model_cp = ModelCheckpoint(best_model_file, save_best_only=True, verbose=1)\n",
    "    \n",
    "    model.fit(X_train, y_train, validation_data=(X_val, y_val), epochs=epochs, verbose=0, shuffle=shuffle, callbacks=[best_model_cp, early_stop])\n",
    "    \n",
    "    #loading and returning the best model\n",
    "    return keras.models.load_model(best_model_file)"
   ]
  },
  {
   "cell_type": "code",
   "execution_count": 14,
   "metadata": {},
   "outputs": [],
   "source": [
    "def predict(model, X, y, binary=BINARY):\n",
    "    if BINARY:\n",
    "        y_pred = np.round(model.predict(X))\n",
    "        y_true = y\n",
    "    else:\n",
    "        predictions = model.predict(X)\n",
    "        y_pred = np.array([np.argmax(p) for p in predictions])\n",
    "        y_true = np.array([np.argmax(t) for t in y ])\n",
    "    return y_true, y_pred"
   ]
  },
  {
   "cell_type": "code",
   "execution_count": 15,
   "metadata": {
    "colab": {
     "autoexec": {
      "startup": false,
      "wait_interval": 0
     },
     "base_uri": "https://localhost:8080/",
     "height": 34,
     "output_extras": [
      {
       "item_id": 1
      }
     ]
    },
    "colab_type": "code",
    "executionInfo": {
     "elapsed": 23179,
     "status": "ok",
     "timestamp": 1515672689915,
     "user": {
      "displayName": "Michael Franklin Mbouopda",
      "photoUrl": "//lh3.googleusercontent.com/-2_Vuj9ESsJ0/AAAAAAAAAAI/AAAAAAAABSc/r-SRcN0jWPw/s50-c-k-no/photo.jpg",
      "userId": "117384351130599115261"
     },
     "user_tz": -60
    },
    "id": "N33cmgKEyPOb",
    "outputId": "917cdaec-b68c-47d5-a8ea-bd6ef7387a67"
   },
   "outputs": [],
   "source": [
    "def model_performance(y_true, y_pred):\n",
    "    return P_R_F1(y_pred, y_true, tag2int['O']) #precision, recall, f1-score"
   ]
  },
  {
   "cell_type": "code",
   "execution_count": 16,
   "metadata": {},
   "outputs": [],
   "source": [
    "def model_performace_by_tag(y_true, y_pred, tag):\n",
    "    p, r, f1 = 0, 0, 0\n",
    "    \n",
    "    eq = y_pred[y_pred==y_true]\n",
    "    correctly_pred = eq[eq==tag].size\n",
    "    try:\n",
    "        p = np.round(100 * correctly_pred / y_pred[y_pred==tag].size, 2)\n",
    "    except ZeroDivisionError:\n",
    "        pass\n",
    "    \n",
    "    try:\n",
    "        r = np.round(100 * correctly_pred / y_true[y_true==tag].size, 2)\n",
    "    except ZeroDivisionError:\n",
    "        pass\n",
    "    \n",
    "    try:\n",
    "        f1 = np.round(2 * r * p / (r + p), 2)\n",
    "    except ZeroDivisionError:\n",
    "        pass\n",
    "    \n",
    "    return p, r, f1"
   ]
  },
  {
   "cell_type": "code",
   "execution_count": 17,
   "metadata": {},
   "outputs": [],
   "source": [
    "def algoEval(X_train, y_train, X_val, y_val, X_ewo, y_ewo, epochs=epochs, model=None):\n",
    "    \"\"\"\n",
    "    Train a model on (X, y) and validate on (X_val, y_val) then project on (X_ewo)\n",
    "    \"\"\"\n",
    "    test_precision, train_precision, ewo_precision = [], [], []\n",
    "    test_recall, train_recall, ewo_recall = [], [], []\n",
    "    test_fscore, train_fscore, ewo_fscore = [], [], []\n",
    "    \n",
    "    test_result_by_tag = {}\n",
    "    train_result_by_tag = {}\n",
    "    ewo_result_by_tag = {}\n",
    "    for t in tagSet:\n",
    "        f1_key = \"F1-\"+t\n",
    "        p_key = \"P-\"+t\n",
    "        r_key = \"R-\"+t\n",
    "        train_result_by_tag[f1_key], train_result_by_tag[p_key], train_result_by_tag[r_key] = [], [], []\n",
    "        test_result_by_tag[f1_key], test_result_by_tag[p_key], test_result_by_tag[r_key] = [], [], []\n",
    "        ewo_result_by_tag[f1_key], ewo_result_by_tag[p_key], ewo_result_by_tag[r_key] = [], [], []\n",
    "\n",
    "    m = train_model(model, X_train, y_train, X_val, y_val, epochs=epochs)\n",
    "        \n",
    "    y_true, y_pred = predict(m, X_train, y_train)\n",
    "    p_train, r_train, f1_train = model_performance(y_true, y_pred)\n",
    "        \n",
    "    y_true_val, y_pred_val = predict(m, X_val, y_val)\n",
    "    p_val, r_val, f1_val = model_performance(y_true_val, y_pred_val)\n",
    "        \n",
    "    y_true_ewo, y_pred_ewo = predict(m, X_ewo, y_ewo) \n",
    "    p_ewo, r_ewo, f1_ewo = model_performance(y_true_ewo, y_pred_ewo)\n",
    "        \n",
    "    for t in range(len(int2tag)):\n",
    "        f1_key = \"F1-\" + int2tag[t]\n",
    "        p_key = \"P-\" + int2tag[t]\n",
    "        r_key = \"R-\" + int2tag[t]\n",
    "            \n",
    "        p, r, f1 = model_performace_by_tag(y_true, y_pred, t)\n",
    "        train_result_by_tag[p_key].append(p)\n",
    "        train_result_by_tag[r_key].append(r)\n",
    "        train_result_by_tag[f1_key].append(f1)\n",
    "            \n",
    "        p, r, f1 = model_performace_by_tag(y_true_val, y_pred_val, t)\n",
    "        test_result_by_tag[p_key].append(p)\n",
    "        test_result_by_tag[r_key].append(r)\n",
    "        test_result_by_tag[f1_key].append(f1)\n",
    "            \n",
    "        p, r, f1 = model_performace_by_tag(y_true_ewo, y_pred_ewo, t)\n",
    "        ewo_result_by_tag[p_key].append(p)\n",
    "        ewo_result_by_tag[r_key].append(r)\n",
    "        ewo_result_by_tag[f1_key].append(f1)\n",
    "                \n",
    "    test_precision.append(p_val)\n",
    "    train_precision.append(p_train)\n",
    "    ewo_precision.append(p_ewo)\n",
    "        \n",
    "    test_recall.append(r_val)\n",
    "    train_recall.append(r_train)\n",
    "    ewo_recall.append(r_ewo)\n",
    "        \n",
    "    test_fscore.append(f1_val)\n",
    "    train_fscore.append(f1_train)\n",
    "    ewo_fscore.append(f1_ewo)\n",
    "    return pd.DataFrame({\n",
    "        'P_test': test_precision, \n",
    "        'P_train': train_precision, \n",
    "        'P_ewo': ewo_precision, 'R_test': test_recall, 'R_train': train_recall, \n",
    "        'R_ewo': ewo_recall, 'F1-test': test_fscore, 'F1-train': train_fscore, 'F1-ewo': ewo_fscore}), pd.DataFrame(train_result_by_tag), pd.DataFrame(test_result_by_tag), pd.DataFrame(ewo_result_by_tag)"
   ]
  },
  {
   "cell_type": "code",
   "execution_count": 18,
   "metadata": {},
   "outputs": [],
   "source": [
    "def algoCrossVal(X, y, X_ewo, y_ewo, k = 10, repeat=1): \n",
    "    \"\"\"\n",
    "    Traing a model with k-fold cross validation\n",
    "    We train the model `repeat` times to check it's stability\n",
    "    \"\"\"\n",
    "    block_size = int(X.shape[0] / k)   \n",
    "    output = None\n",
    "    model = None\n",
    "    train_by_tags, test_by_tags, ewo_by_tags = None, None, None\n",
    "    for it in range(repeat):\n",
    "        print(\"AlgoCrossValIter -\", it+1)\n",
    "        model = create_model(X.shape[1], len(tagSet))\n",
    "        results = None\n",
    "        train_by_tagsTmp, test_by_tagsTmp, ewo_by_tagsTmp = None, None, None\n",
    "        for i in range(k):\n",
    "            X_val, y_val = X[i*block_size:i*block_size+block_size], y[i*block_size:i*block_size+block_size]\n",
    "            X_train = np.concatenate((X[0:i*block_size], X[i*block_size+block_size:]))\n",
    "            y_train = np.concatenate((y[0:i*block_size], y[i*block_size+block_size:]))\n",
    "\n",
    "            X_train = X_train.reshape(X_train.shape[0], X_train.shape[1])\n",
    "            X_val = X_val.reshape(X_val.shape[0], X_val.shape[1])\n",
    "\n",
    "            result, train_by_tag, test_by_tag, ewo_by_tag = algoEval(X_train, y_train, X_val, y_val, X_ewo, y_ewo, model=model)\n",
    "            if results is None:\n",
    "                results = result.copy()\n",
    "                train_by_tagsTmp, test_by_tagsTmp, ewo_by_tagsTmp = train_by_tag.copy(), test_by_tag.copy(), ewo_by_tag.copy()\n",
    "            else:\n",
    "                results = pd.concat([results, result], ignore_index=True)\n",
    "                train_by_tagsTmp = pd.concat([train_by_tagsTmp, train_by_tag], ignore_index=True)\n",
    "                test_by_tagsTmp = pd.concat([test_by_tagsTmp, test_by_tag], ignore_index=True)\n",
    "                ewo_by_tagsTmp = pd.concat([ewo_by_tagsTmp, ewo_by_tag], ignore_index=True)\n",
    "        \n",
    "        if output is None:\n",
    "            output = results.mean(axis=0).to_frame()\n",
    "            train_by_tags = train_by_tagsTmp.mean(axis=0).to_frame()\n",
    "            test_by_tags = test_by_tagsTmp.mean(axis=0).to_frame()\n",
    "            ewo_by_tags = ewo_by_tagsTmp.mean(axis=0).to_frame()\n",
    "        else:\n",
    "            output = pd.concat([output, results.mean(axis=0).to_frame()], axis=1)\n",
    "            train_by_tags = pd.concat([train_by_tags, train_by_tagsTmp.mean(axis=0).to_frame()], axis=1)\n",
    "            test_by_tags = pd.concat([test_by_tags, test_by_tagsTmp.mean(axis=0).to_frame()], axis=1)\n",
    "            ewo_by_tags = pd.concat([ewo_by_tags, ewo_by_tagsTmp.mean(axis=0).to_frame()], axis=1)\n",
    "\n",
    "    return output, train_by_tags, test_by_tags, ewo_by_tags, model"
   ]
  },
  {
   "cell_type": "code",
   "execution_count": 19,
   "metadata": {
    "colab": {
     "autoexec": {
      "startup": false,
      "wait_interval": 0
     }
    },
    "colab_type": "code",
    "id": "TNN2TBckE8m_"
   },
   "outputs": [],
   "source": [
    "en_corpus, en_nb_of_phrases = load_corpus(en_corpus_file, max_nb_of_phrases)"
   ]
  },
  {
   "cell_type": "code",
   "execution_count": 20,
   "metadata": {},
   "outputs": [
    {
     "data": {
      "text/html": [
       "<div>\n",
       "<style scoped>\n",
       "    .dataframe tbody tr th:only-of-type {\n",
       "        vertical-align: middle;\n",
       "    }\n",
       "\n",
       "    .dataframe tbody tr th {\n",
       "        vertical-align: top;\n",
       "    }\n",
       "\n",
       "    .dataframe thead th {\n",
       "        text-align: right;\n",
       "    }\n",
       "</style>\n",
       "<table border=\"1\" class=\"dataframe\">\n",
       "  <thead>\n",
       "    <tr style=\"text-align: right;\">\n",
       "      <th></th>\n",
       "      <th>word</th>\n",
       "      <th>ne-tag</th>\n",
       "    </tr>\n",
       "  </thead>\n",
       "  <tbody>\n",
       "    <tr>\n",
       "      <th>1335</th>\n",
       "      <td>Sadducees</td>\n",
       "      <td>ORG</td>\n",
       "    </tr>\n",
       "  </tbody>\n",
       "</table>\n",
       "</div>"
      ],
      "text/plain": [
       "           word ne-tag\n",
       "1335  Sadducees    ORG"
      ]
     },
     "execution_count": 20,
     "metadata": {},
     "output_type": "execute_result"
    }
   ],
   "source": [
    "en_corpus.head()\n",
    "en_corpus.loc[en_corpus['ne-tag'] == 'ORG']"
   ]
  },
  {
   "cell_type": "code",
   "execution_count": 21,
   "metadata": {},
   "outputs": [
    {
     "name": "stdout",
     "output_type": "stream",
     "text": [
      "{'O': 0, 'MISC': 1, 'PER': 2, 'LOC': 3, 'ORG': 4}\n"
     ]
    }
   ],
   "source": [
    "tagSet = en_corpus[\"ne-tag\"].dropna().unique()\n",
    "if BINARY:\n",
    "    tagSet = ['NE', 'O']\n",
    "tag2int = {j: i for i, j in enumerate(tagSet)}\n",
    "int2tag = {i: j for i, j in enumerate(tagSet)}\n",
    "print(tag2int)"
   ]
  },
  {
   "cell_type": "code",
   "execution_count": 22,
   "metadata": {
    "colab": {
     "autoexec": {
      "startup": false,
      "wait_interval": 0
     },
     "base_uri": "https://localhost:8080/",
     "height": 34,
     "output_extras": [
      {
       "item_id": 1
      }
     ]
    },
    "colab_type": "code",
    "executionInfo": {
     "elapsed": 794,
     "status": "ok",
     "timestamp": 1515664141558,
     "user": {
      "displayName": "Michael Franklin Mbouopda",
      "photoUrl": "//lh3.googleusercontent.com/-2_Vuj9ESsJ0/AAAAAAAAAAI/AAAAAAAABSc/r-SRcN0jWPw/s50-c-k-no/photo.jpg",
      "userId": "117384351130599115261"
     },
     "user_tz": -60
    },
    "id": "m85WcghdzCph",
    "outputId": "9fa6817e-15c4-4205-f8f4-82c30c2cb610"
   },
   "outputs": [
    {
     "data": {
      "text/plain": [
       "210"
      ]
     },
     "execution_count": 22,
     "metadata": {},
     "output_type": "execute_result"
    }
   ],
   "source": [
    "en_nb_of_phrases"
   ]
  },
  {
   "cell_type": "code",
   "execution_count": 23,
   "metadata": {
    "colab": {
     "autoexec": {
      "startup": false,
      "wait_interval": 0
     },
     "base_uri": "https://localhost:8080/",
     "height": 173,
     "output_extras": [
      {
       "item_id": 1
      }
     ]
    },
    "colab_type": "code",
    "executionInfo": {
     "elapsed": 992,
     "status": "ok",
     "timestamp": 1515664144298,
     "user": {
      "displayName": "Michael Franklin Mbouopda",
      "photoUrl": "//lh3.googleusercontent.com/-2_Vuj9ESsJ0/AAAAAAAAAAI/AAAAAAAABSc/r-SRcN0jWPw/s50-c-k-no/photo.jpg",
      "userId": "117384351130599115261"
     },
     "user_tz": -60
    },
    "id": "Gw9r-Q9jlmvg",
    "outputId": "8ee33794-5639-4c97-ea43-06a66d89e207"
   },
   "outputs": [
    {
     "data": {
      "text/html": [
       "<div>\n",
       "<style scoped>\n",
       "    .dataframe tbody tr th:only-of-type {\n",
       "        vertical-align: middle;\n",
       "    }\n",
       "\n",
       "    .dataframe tbody tr th {\n",
       "        vertical-align: top;\n",
       "    }\n",
       "\n",
       "    .dataframe thead th {\n",
       "        text-align: right;\n",
       "    }\n",
       "</style>\n",
       "<table border=\"1\" class=\"dataframe\">\n",
       "  <thead>\n",
       "    <tr style=\"text-align: right;\">\n",
       "      <th></th>\n",
       "      <th>word</th>\n",
       "      <th>ne-tag</th>\n",
       "    </tr>\n",
       "  </thead>\n",
       "  <tbody>\n",
       "    <tr>\n",
       "      <th>count</th>\n",
       "      <td>4379</td>\n",
       "      <td>4170</td>\n",
       "    </tr>\n",
       "    <tr>\n",
       "      <th>unique</th>\n",
       "      <td>904</td>\n",
       "      <td>5</td>\n",
       "    </tr>\n",
       "    <tr>\n",
       "      <th>top</th>\n",
       "      <td>the</td>\n",
       "      <td>O</td>\n",
       "    </tr>\n",
       "    <tr>\n",
       "      <th>freq</th>\n",
       "      <td>313</td>\n",
       "      <td>3779</td>\n",
       "    </tr>\n",
       "  </tbody>\n",
       "</table>\n",
       "</div>"
      ],
      "text/plain": [
       "        word ne-tag\n",
       "count   4379   4170\n",
       "unique   904      5\n",
       "top      the      O\n",
       "freq     313   3779"
      ]
     },
     "execution_count": 23,
     "metadata": {},
     "output_type": "execute_result"
    }
   ],
   "source": [
    "en_corpus.describe()"
   ]
  },
  {
   "cell_type": "code",
   "execution_count": 24,
   "metadata": {
    "colab": {
     "autoexec": {
      "startup": false,
      "wait_interval": 0
     },
     "base_uri": "https://localhost:8080/",
     "height": 204,
     "output_extras": [
      {
       "item_id": 1
      }
     ]
    },
    "colab_type": "code",
    "executionInfo": {
     "elapsed": 1056,
     "status": "ok",
     "timestamp": 1515664147270,
     "user": {
      "displayName": "Michael Franklin Mbouopda",
      "photoUrl": "//lh3.googleusercontent.com/-2_Vuj9ESsJ0/AAAAAAAAAAI/AAAAAAAABSc/r-SRcN0jWPw/s50-c-k-no/photo.jpg",
      "userId": "117384351130599115261"
     },
     "user_tz": -60
    },
    "id": "EZ_5FqH3yxhU",
    "outputId": "a129592b-9fa2-4937-a35a-a73245aef4a8"
   },
   "outputs": [
    {
     "data": {
      "text/html": [
       "<div>\n",
       "<style scoped>\n",
       "    .dataframe tbody tr th:only-of-type {\n",
       "        vertical-align: middle;\n",
       "    }\n",
       "\n",
       "    .dataframe tbody tr th {\n",
       "        vertical-align: top;\n",
       "    }\n",
       "\n",
       "    .dataframe thead th {\n",
       "        text-align: right;\n",
       "    }\n",
       "</style>\n",
       "<table border=\"1\" class=\"dataframe\">\n",
       "  <thead>\n",
       "    <tr style=\"text-align: right;\">\n",
       "      <th></th>\n",
       "      <th>word</th>\n",
       "      <th>ne-tag</th>\n",
       "    </tr>\n",
       "  </thead>\n",
       "  <tbody>\n",
       "    <tr>\n",
       "      <th>0</th>\n",
       "      <td>The</td>\n",
       "      <td>O</td>\n",
       "    </tr>\n",
       "    <tr>\n",
       "      <th>1</th>\n",
       "      <td>Promise</td>\n",
       "      <td>O</td>\n",
       "    </tr>\n",
       "    <tr>\n",
       "      <th>2</th>\n",
       "      <td>of</td>\n",
       "      <td>O</td>\n",
       "    </tr>\n",
       "    <tr>\n",
       "      <th>3</th>\n",
       "      <td>the</td>\n",
       "      <td>O</td>\n",
       "    </tr>\n",
       "    <tr>\n",
       "      <th>4</th>\n",
       "      <td>Holy</td>\n",
       "      <td>MISC</td>\n",
       "    </tr>\n",
       "    <tr>\n",
       "      <th>5</th>\n",
       "      <td>Spirit</td>\n",
       "      <td>MISC</td>\n",
       "    </tr>\n",
       "    <tr>\n",
       "      <th>6</th>\n",
       "      <td>\\n</td>\n",
       "      <td>None</td>\n",
       "    </tr>\n",
       "    <tr>\n",
       "      <th>7</th>\n",
       "      <td>In</td>\n",
       "      <td>O</td>\n",
       "    </tr>\n",
       "    <tr>\n",
       "      <th>8</th>\n",
       "      <td>the</td>\n",
       "      <td>O</td>\n",
       "    </tr>\n",
       "    <tr>\n",
       "      <th>9</th>\n",
       "      <td>first</td>\n",
       "      <td>O</td>\n",
       "    </tr>\n",
       "  </tbody>\n",
       "</table>\n",
       "</div>"
      ],
      "text/plain": [
       "      word ne-tag\n",
       "0      The      O\n",
       "1  Promise      O\n",
       "2       of      O\n",
       "3      the      O\n",
       "4     Holy   MISC\n",
       "5   Spirit   MISC\n",
       "6       \\n   None\n",
       "7       In      O\n",
       "8      the      O\n",
       "9    first      O"
      ]
     },
     "execution_count": 24,
     "metadata": {},
     "output_type": "execute_result"
    }
   ],
   "source": [
    "en_corpus.head(10)"
   ]
  },
  {
   "cell_type": "code",
   "execution_count": 25,
   "metadata": {},
   "outputs": [
    {
     "name": "stdout",
     "output_type": "stream",
     "text": [
      "O % = 86.3 %\n",
      "MISC % = 2.4 %\n",
      "PER % = 5.59 %\n",
      "LOC % = 0.91 %\n",
      "ORG % = 0.02 %\n"
     ]
    }
   ],
   "source": [
    "for tag in tagSet:\n",
    "    print(\"{0} % = {1} %\".format(tag, np.round(en_corpus[en_corpus['ne-tag']==tag].shape[0] * 100 / en_corpus[en_corpus['ne-tag']!='\\n'].shape[0], 2)))"
   ]
  },
  {
   "cell_type": "code",
   "execution_count": 26,
   "metadata": {},
   "outputs": [
    {
     "name": "stdout",
     "output_type": "stream",
     "text": [
      "O % = 89.16 %\n",
      "MISC % = 1.88 %\n",
      "PER % = 8.96 %\n",
      "LOC % = 1.99 %\n",
      "ORG % = 0.11 %\n"
     ]
    }
   ],
   "source": [
    "for tag in tagSet:\n",
    "    print(\"{0} % = {1} %\".format(tag, np.round(en_corpus[en_corpus['ne-tag']==tag].word.unique().shape[0] * 100 / en_corpus[en_corpus['ne-tag']!='\\n'].word.unique().shape[0], 2)))"
   ]
  },
  {
   "cell_type": "code",
   "execution_count": 27,
   "metadata": {},
   "outputs": [
    {
     "data": {
      "text/plain": [
       "(209, 2)"
      ]
     },
     "execution_count": 27,
     "metadata": {},
     "output_type": "execute_result"
    }
   ],
   "source": [
    "en_corpus[en_corpus.word == \"\\n\"].shape"
   ]
  },
  {
   "cell_type": "code",
   "execution_count": 28,
   "metadata": {
    "colab": {
     "autoexec": {
      "startup": false,
      "wait_interval": 0
     },
     "base_uri": "https://localhost:8080/",
     "height": 190,
     "output_extras": [
      {
       "item_id": 1
      },
      {
       "item_id": 2
      }
     ]
    },
    "colab_type": "code",
    "executionInfo": {
     "elapsed": 40378,
     "status": "ok",
     "timestamp": 1515671247748,
     "user": {
      "displayName": "Michael Franklin Mbouopda",
      "photoUrl": "//lh3.googleusercontent.com/-2_Vuj9ESsJ0/AAAAAAAAAAI/AAAAAAAABSc/r-SRcN0jWPw/s50-c-k-no/photo.jpg",
      "userId": "117384351130599115261"
     },
     "user_tz": -60
    },
    "id": "Mx1Yl-Npvh12",
    "outputId": "29d26922-46c0-47b6-9d1b-26ac26b118d4"
   },
   "outputs": [
    {
     "name": "stdout",
     "output_type": "stream",
     "text": [
      "Nb of bi-phrases 210\n"
     ]
    }
   ],
   "source": [
    "print(\"Nb of bi-phrases\", en_nb_of_phrases)\n",
    "en_fingerprints = corpus_fingerprint(en_corpus, en_nb_of_phrases)"
   ]
  },
  {
   "cell_type": "code",
   "execution_count": 29,
   "metadata": {},
   "outputs": [
    {
     "data": {
      "text/html": [
       "<div>\n",
       "<style scoped>\n",
       "    .dataframe tbody tr th:only-of-type {\n",
       "        vertical-align: middle;\n",
       "    }\n",
       "\n",
       "    .dataframe tbody tr th {\n",
       "        vertical-align: top;\n",
       "    }\n",
       "\n",
       "    .dataframe thead th {\n",
       "        text-align: right;\n",
       "    }\n",
       "</style>\n",
       "<table border=\"1\" class=\"dataframe\">\n",
       "  <thead>\n",
       "    <tr style=\"text-align: right;\">\n",
       "      <th></th>\n",
       "      <th>The</th>\n",
       "      <th>Promise</th>\n",
       "      <th>of</th>\n",
       "      <th>the</th>\n",
       "      <th>Holy</th>\n",
       "      <th>Spirit</th>\n",
       "      <th>In</th>\n",
       "      <th>first</th>\n",
       "      <th>book</th>\n",
       "      <th>O</th>\n",
       "      <th>...</th>\n",
       "      <th>considered</th>\n",
       "      <th>dream</th>\n",
       "      <th>She</th>\n",
       "      <th>save</th>\n",
       "      <th>fulfill</th>\n",
       "      <th>Immanuel</th>\n",
       "      <th>us)</th>\n",
       "      <th>woke</th>\n",
       "      <th>sleep</th>\n",
       "      <th>knew</th>\n",
       "    </tr>\n",
       "  </thead>\n",
       "  <tbody>\n",
       "    <tr>\n",
       "      <th>0</th>\n",
       "      <td>4170.0</td>\n",
       "      <td>4170.0</td>\n",
       "      <td>4170.0</td>\n",
       "      <td>4170.0</td>\n",
       "      <td>4170.0</td>\n",
       "      <td>4170.0</td>\n",
       "      <td>0.0</td>\n",
       "      <td>0.0</td>\n",
       "      <td>0.0</td>\n",
       "      <td>0.0</td>\n",
       "      <td>...</td>\n",
       "      <td>0.0</td>\n",
       "      <td>0.0</td>\n",
       "      <td>0.0</td>\n",
       "      <td>0.0</td>\n",
       "      <td>0.0</td>\n",
       "      <td>0.0</td>\n",
       "      <td>0.0</td>\n",
       "      <td>0.0</td>\n",
       "      <td>0.0</td>\n",
       "      <td>0.0</td>\n",
       "    </tr>\n",
       "    <tr>\n",
       "      <th>1</th>\n",
       "      <td>0.0</td>\n",
       "      <td>0.0</td>\n",
       "      <td>0.0</td>\n",
       "      <td>4170.0</td>\n",
       "      <td>0.0</td>\n",
       "      <td>0.0</td>\n",
       "      <td>4170.0</td>\n",
       "      <td>4170.0</td>\n",
       "      <td>4170.0</td>\n",
       "      <td>4170.0</td>\n",
       "      <td>...</td>\n",
       "      <td>0.0</td>\n",
       "      <td>0.0</td>\n",
       "      <td>0.0</td>\n",
       "      <td>0.0</td>\n",
       "      <td>0.0</td>\n",
       "      <td>0.0</td>\n",
       "      <td>0.0</td>\n",
       "      <td>0.0</td>\n",
       "      <td>0.0</td>\n",
       "      <td>0.0</td>\n",
       "    </tr>\n",
       "    <tr>\n",
       "      <th>2</th>\n",
       "      <td>0.0</td>\n",
       "      <td>0.0</td>\n",
       "      <td>0.0</td>\n",
       "      <td>1390.0</td>\n",
       "      <td>4170.0</td>\n",
       "      <td>4170.0</td>\n",
       "      <td>0.0</td>\n",
       "      <td>0.0</td>\n",
       "      <td>0.0</td>\n",
       "      <td>0.0</td>\n",
       "      <td>...</td>\n",
       "      <td>0.0</td>\n",
       "      <td>0.0</td>\n",
       "      <td>0.0</td>\n",
       "      <td>0.0</td>\n",
       "      <td>0.0</td>\n",
       "      <td>0.0</td>\n",
       "      <td>0.0</td>\n",
       "      <td>0.0</td>\n",
       "      <td>0.0</td>\n",
       "      <td>0.0</td>\n",
       "    </tr>\n",
       "    <tr>\n",
       "      <th>3</th>\n",
       "      <td>0.0</td>\n",
       "      <td>0.0</td>\n",
       "      <td>4170.0</td>\n",
       "      <td>4170.0</td>\n",
       "      <td>0.0</td>\n",
       "      <td>0.0</td>\n",
       "      <td>0.0</td>\n",
       "      <td>0.0</td>\n",
       "      <td>0.0</td>\n",
       "      <td>0.0</td>\n",
       "      <td>...</td>\n",
       "      <td>0.0</td>\n",
       "      <td>0.0</td>\n",
       "      <td>0.0</td>\n",
       "      <td>0.0</td>\n",
       "      <td>0.0</td>\n",
       "      <td>0.0</td>\n",
       "      <td>0.0</td>\n",
       "      <td>0.0</td>\n",
       "      <td>0.0</td>\n",
       "      <td>0.0</td>\n",
       "    </tr>\n",
       "    <tr>\n",
       "      <th>4</th>\n",
       "      <td>0.0</td>\n",
       "      <td>0.0</td>\n",
       "      <td>4170.0</td>\n",
       "      <td>2085.0</td>\n",
       "      <td>0.0</td>\n",
       "      <td>0.0</td>\n",
       "      <td>0.0</td>\n",
       "      <td>0.0</td>\n",
       "      <td>0.0</td>\n",
       "      <td>0.0</td>\n",
       "      <td>...</td>\n",
       "      <td>0.0</td>\n",
       "      <td>0.0</td>\n",
       "      <td>0.0</td>\n",
       "      <td>0.0</td>\n",
       "      <td>0.0</td>\n",
       "      <td>0.0</td>\n",
       "      <td>0.0</td>\n",
       "      <td>0.0</td>\n",
       "      <td>0.0</td>\n",
       "      <td>0.0</td>\n",
       "    </tr>\n",
       "  </tbody>\n",
       "</table>\n",
       "<p>5 rows × 903 columns</p>\n",
       "</div>"
      ],
      "text/plain": [
       "      The  Promise      of     the    Holy  Spirit      In   first    book  \\\n",
       "0  4170.0   4170.0  4170.0  4170.0  4170.0  4170.0     0.0     0.0     0.0   \n",
       "1     0.0      0.0     0.0  4170.0     0.0     0.0  4170.0  4170.0  4170.0   \n",
       "2     0.0      0.0     0.0  1390.0  4170.0  4170.0     0.0     0.0     0.0   \n",
       "3     0.0      0.0  4170.0  4170.0     0.0     0.0     0.0     0.0     0.0   \n",
       "4     0.0      0.0  4170.0  2085.0     0.0     0.0     0.0     0.0     0.0   \n",
       "\n",
       "        O  ...  considered  dream  She  save  fulfill  Immanuel  us)  woke  \\\n",
       "0     0.0  ...         0.0    0.0  0.0   0.0      0.0       0.0  0.0   0.0   \n",
       "1  4170.0  ...         0.0    0.0  0.0   0.0      0.0       0.0  0.0   0.0   \n",
       "2     0.0  ...         0.0    0.0  0.0   0.0      0.0       0.0  0.0   0.0   \n",
       "3     0.0  ...         0.0    0.0  0.0   0.0      0.0       0.0  0.0   0.0   \n",
       "4     0.0  ...         0.0    0.0  0.0   0.0      0.0       0.0  0.0   0.0   \n",
       "\n",
       "   sleep  knew  \n",
       "0    0.0   0.0  \n",
       "1    0.0   0.0  \n",
       "2    0.0   0.0  \n",
       "3    0.0   0.0  \n",
       "4    0.0   0.0  \n",
       "\n",
       "[5 rows x 903 columns]"
      ]
     },
     "execution_count": 29,
     "metadata": {},
     "output_type": "execute_result"
    }
   ],
   "source": [
    "en_fingerprints.head(5)"
   ]
  },
  {
   "cell_type": "code",
   "execution_count": 30,
   "metadata": {},
   "outputs": [
    {
     "data": {
      "text/plain": [
       "(210,)"
      ]
     },
     "execution_count": 30,
     "metadata": {},
     "output_type": "execute_result"
    }
   ],
   "source": [
    "en_fingerprints['you'].values.shape"
   ]
  },
  {
   "cell_type": "code",
   "execution_count": 31,
   "metadata": {},
   "outputs": [
    {
     "data": {
      "text/plain": [
       "(4170, 2)"
      ]
     },
     "execution_count": 31,
     "metadata": {},
     "output_type": "execute_result"
    }
   ],
   "source": [
    "en_corpus[en_corpus.word != \"\\n\"].shape"
   ]
  },
  {
   "cell_type": "code",
   "execution_count": 32,
   "metadata": {},
   "outputs": [
    {
     "data": {
      "text/html": [
       "<div>\n",
       "<style scoped>\n",
       "    .dataframe tbody tr th:only-of-type {\n",
       "        vertical-align: middle;\n",
       "    }\n",
       "\n",
       "    .dataframe tbody tr th {\n",
       "        vertical-align: top;\n",
       "    }\n",
       "\n",
       "    .dataframe thead th {\n",
       "        text-align: right;\n",
       "    }\n",
       "</style>\n",
       "<table border=\"1\" class=\"dataframe\">\n",
       "  <thead>\n",
       "    <tr style=\"text-align: right;\">\n",
       "      <th></th>\n",
       "      <th>text</th>\n",
       "    </tr>\n",
       "  </thead>\n",
       "  <tbody>\n",
       "    <tr>\n",
       "      <th>count</th>\n",
       "      <td>903</td>\n",
       "    </tr>\n",
       "    <tr>\n",
       "      <th>unique</th>\n",
       "      <td>903</td>\n",
       "    </tr>\n",
       "    <tr>\n",
       "      <th>top</th>\n",
       "      <td>beforehand</td>\n",
       "    </tr>\n",
       "    <tr>\n",
       "      <th>freq</th>\n",
       "      <td>1</td>\n",
       "    </tr>\n",
       "  </tbody>\n",
       "</table>\n",
       "</div>"
      ],
      "text/plain": [
       "              text\n",
       "count          903\n",
       "unique         903\n",
       "top     beforehand\n",
       "freq             1"
      ]
     },
     "execution_count": 32,
     "metadata": {},
     "output_type": "execute_result"
    }
   ],
   "source": [
    "if is_only_vocab:\n",
    "    text = list(en_corpus[en_corpus.word != \"\\n\"].word.unique())\n",
    "else:\n",
    "    text = list(en_corpus[en_corpus.word != \"\\n\"].word)\n",
    "en_vocab = pd.DataFrame({'text': text})\n",
    "en_vocab.describe()"
   ]
  },
  {
   "cell_type": "code",
   "execution_count": 33,
   "metadata": {
    "colab": {
     "autoexec": {
      "startup": false,
      "wait_interval": 0
     },
     "base_uri": "https://localhost:8080/",
     "height": 190,
     "output_extras": [
      {
       "item_id": 1
      },
      {
       "item_id": 2
      }
     ]
    },
    "colab_type": "code",
    "executionInfo": {
     "elapsed": 40378,
     "status": "ok",
     "timestamp": 1515671247748,
     "user": {
      "displayName": "Michael Franklin Mbouopda",
      "photoUrl": "//lh3.googleusercontent.com/-2_Vuj9ESsJ0/AAAAAAAAAAI/AAAAAAAABSc/r-SRcN0jWPw/s50-c-k-no/photo.jpg",
      "userId": "117384351130599115261"
     },
     "user_tz": -60
    },
    "id": "Mx1Yl-Npvh12",
    "outputId": "29d26922-46c0-47b6-9d1b-26ac26b118d4"
   },
   "outputs": [
    {
     "name": "stdout",
     "output_type": "stream",
     "text": [
      "(903, 210) (210, 903) (903,)\n"
     ]
    }
   ],
   "source": [
    "if is_only_vocab:\n",
    "    X = np.zeros((en_vocab.shape[0] * duplication, en_nb_of_phrases))\n",
    "    target = np.zeros((en_vocab.shape[0] * duplication))\n",
    "    p=0\n",
    "    for i, row in en_vocab.iterrows():\n",
    "        c = row.text\n",
    "        for j in range(duplication):\n",
    "            X[p] = en_fingerprints[c.split(\" \")[0]]\n",
    "            target[p] = tag2int[getTag(en_corpus[en_corpus.word == c.split(\" \")[-1:][0]]['ne-tag'].iloc[0])]\n",
    "            p+=1\n",
    "    X, target = shuffle_data(X, target)\n",
    "    print(X.shape, en_fingerprints.shape, target.shape)"
   ]
  },
  {
   "cell_type": "code",
   "execution_count": 34,
   "metadata": {},
   "outputs": [
    {
     "data": {
      "text/html": [
       "<div>\n",
       "<style scoped>\n",
       "    .dataframe tbody tr th:only-of-type {\n",
       "        vertical-align: middle;\n",
       "    }\n",
       "\n",
       "    .dataframe tbody tr th {\n",
       "        vertical-align: top;\n",
       "    }\n",
       "\n",
       "    .dataframe thead th {\n",
       "        text-align: right;\n",
       "    }\n",
       "</style>\n",
       "<table border=\"1\" class=\"dataframe\">\n",
       "  <thead>\n",
       "    <tr style=\"text-align: right;\">\n",
       "      <th></th>\n",
       "      <th>text</th>\n",
       "    </tr>\n",
       "  </thead>\n",
       "  <tbody>\n",
       "    <tr>\n",
       "      <th>883</th>\n",
       "      <td>Eliud</td>\n",
       "    </tr>\n",
       "    <tr>\n",
       "      <th>884</th>\n",
       "      <td>Eleazar</td>\n",
       "    </tr>\n",
       "    <tr>\n",
       "      <th>885</th>\n",
       "      <td>Matthan</td>\n",
       "    </tr>\n",
       "    <tr>\n",
       "      <th>886</th>\n",
       "      <td>husband</td>\n",
       "    </tr>\n",
       "    <tr>\n",
       "      <th>887</th>\n",
       "      <td>fourteen</td>\n",
       "    </tr>\n",
       "    <tr>\n",
       "      <th>888</th>\n",
       "      <td>unwilling</td>\n",
       "    </tr>\n",
       "    <tr>\n",
       "      <th>889</th>\n",
       "      <td>shame</td>\n",
       "    </tr>\n",
       "    <tr>\n",
       "      <th>890</th>\n",
       "      <td>resolved</td>\n",
       "    </tr>\n",
       "    <tr>\n",
       "      <th>891</th>\n",
       "      <td>divorce</td>\n",
       "    </tr>\n",
       "    <tr>\n",
       "      <th>892</th>\n",
       "      <td>quietly</td>\n",
       "    </tr>\n",
       "    <tr>\n",
       "      <th>893</th>\n",
       "      <td>considered</td>\n",
       "    </tr>\n",
       "    <tr>\n",
       "      <th>894</th>\n",
       "      <td>dream</td>\n",
       "    </tr>\n",
       "    <tr>\n",
       "      <th>895</th>\n",
       "      <td>She</td>\n",
       "    </tr>\n",
       "    <tr>\n",
       "      <th>896</th>\n",
       "      <td>save</td>\n",
       "    </tr>\n",
       "    <tr>\n",
       "      <th>897</th>\n",
       "      <td>fulfill</td>\n",
       "    </tr>\n",
       "    <tr>\n",
       "      <th>898</th>\n",
       "      <td>Immanuel</td>\n",
       "    </tr>\n",
       "    <tr>\n",
       "      <th>899</th>\n",
       "      <td>us)</td>\n",
       "    </tr>\n",
       "    <tr>\n",
       "      <th>900</th>\n",
       "      <td>woke</td>\n",
       "    </tr>\n",
       "    <tr>\n",
       "      <th>901</th>\n",
       "      <td>sleep</td>\n",
       "    </tr>\n",
       "    <tr>\n",
       "      <th>902</th>\n",
       "      <td>knew</td>\n",
       "    </tr>\n",
       "  </tbody>\n",
       "</table>\n",
       "</div>"
      ],
      "text/plain": [
       "           text\n",
       "883       Eliud\n",
       "884     Eleazar\n",
       "885     Matthan\n",
       "886     husband\n",
       "887    fourteen\n",
       "888   unwilling\n",
       "889       shame\n",
       "890    resolved\n",
       "891     divorce\n",
       "892     quietly\n",
       "893  considered\n",
       "894       dream\n",
       "895         She\n",
       "896        save\n",
       "897     fulfill\n",
       "898    Immanuel\n",
       "899         us)\n",
       "900        woke\n",
       "901       sleep\n",
       "902        knew"
      ]
     },
     "execution_count": 34,
     "metadata": {},
     "output_type": "execute_result"
    }
   ],
   "source": [
    "en_vocab[-20:]"
   ]
  },
  {
   "cell_type": "code",
   "execution_count": 35,
   "metadata": {},
   "outputs": [],
   "source": [
    "if not is_only_vocab:\n",
    "    X, target = corpus2trainingdata(en_corpus[en_corpus.word != \"\\n\"], en_fingerprints)"
   ]
  },
  {
   "cell_type": "code",
   "execution_count": 36,
   "metadata": {},
   "outputs": [],
   "source": [
    "if shuffle:\n",
    "    X, target = shuffle_data(X, target)"
   ]
  },
  {
   "cell_type": "code",
   "execution_count": 37,
   "metadata": {
    "colab": {
     "autoexec": {
      "startup": false,
      "wait_interval": 0
     },
     "base_uri": "https://localhost:8080/",
     "height": 102,
     "output_extras": [
      {
       "item_id": 1
      }
     ]
    },
    "colab_type": "code",
    "executionInfo": {
     "elapsed": 1032,
     "status": "ok",
     "timestamp": 1515671250872,
     "user": {
      "displayName": "Michael Franklin Mbouopda",
      "photoUrl": "//lh3.googleusercontent.com/-2_Vuj9ESsJ0/AAAAAAAAAAI/AAAAAAAABSc/r-SRcN0jWPw/s50-c-k-no/photo.jpg",
      "userId": "117384351130599115261"
     },
     "user_tz": -60
    },
    "id": "HLn_an5ExZSC",
    "outputId": "382c3159-7917-40e3-e469-27c244d86663"
   },
   "outputs": [
    {
     "data": {
      "text/plain": [
       "(903, 5)"
      ]
     },
     "execution_count": 37,
     "metadata": {},
     "output_type": "execute_result"
    }
   ],
   "source": [
    "y = target.copy()\n",
    "y[0:100]\n",
    "if not BINARY:\n",
    "    y = np_utils.to_categorical(y, len(tagSet))\n",
    "y.shape"
   ]
  },
  {
   "cell_type": "code",
   "execution_count": 38,
   "metadata": {},
   "outputs": [],
   "source": [
    "from sklearn.decomposition import PCA\n",
    "\n",
    "def visualize(X, y):\n",
    "    pca = PCA(n_components=2)\n",
    "    X_embeded = pca.fit_transform(X)\n",
    "    plt.figure(figsize=(5, 5))\n",
    "    plt.scatter(X_embeded[:, 0], X_embeded[:, 1], c=y)\n",
    "    plt.legend()\n",
    "    plt.show()"
   ]
  },
  {
   "cell_type": "code",
   "execution_count": 39,
   "metadata": {},
   "outputs": [],
   "source": [
    "# visualize(X, target)"
   ]
  },
  {
   "cell_type": "code",
   "execution_count": 40,
   "metadata": {
    "colab": {
     "autoexec": {
      "startup": false,
      "wait_interval": 0
     },
     "base_uri": "https://localhost:8080/",
     "height": 119,
     "output_extras": [
      {
       "item_id": 1
      }
     ]
    },
    "colab_type": "code",
    "executionInfo": {
     "elapsed": 899,
     "status": "ok",
     "timestamp": 1515671252070,
     "user": {
      "displayName": "Michael Franklin Mbouopda",
      "photoUrl": "//lh3.googleusercontent.com/-2_Vuj9ESsJ0/AAAAAAAAAAI/AAAAAAAABSc/r-SRcN0jWPw/s50-c-k-no/photo.jpg",
      "userId": "117384351130599115261"
     },
     "user_tz": -60
    },
    "id": "sF3M9I53xlY1",
    "outputId": "8d011439-2df0-4440-b334-7e21e44c2208"
   },
   "outputs": [
    {
     "name": "stdout",
     "output_type": "stream",
     "text": [
      "X_train.shape = (605, 210)\n",
      "y_train.shape = (605, 5)\n",
      "X_val.shape = (298, 210)\n",
      "y_val.shape = (298, 5)\n",
      "O % in training data = 87.77 %\n",
      "O % in validation data = 89.26 %\n",
      "MISC % in training data = 1.16 %\n",
      "MISC % in validation data = 1.34 %\n",
      "PER % in training data = 9.09 %\n",
      "PER % in validation data = 7.38 %\n",
      "LOC % in training data = 1.98 %\n",
      "LOC % in validation data = 1.68 %\n",
      "ORG % in training data = 0.0 %\n",
      "ORG % in validation data = 0.34 %\n"
     ]
    }
   ],
   "source": [
    "X_train, X_val, y_train, y_val = model_selection.train_test_split(X, y, test_size=0.33)\n",
    "X_train = X_train.reshape(X_train.shape[0], X_train.shape[1])\n",
    "X_val = X_val.reshape(X_val.shape[0], X_val.shape[1])\n",
    "print(\"X_train.shape =\", X_train.shape)\n",
    "print(\"y_train.shape =\", y_train.shape)\n",
    "print(\"X_val.shape =\", X_val.shape)\n",
    "print(\"y_val.shape =\", y_val.shape)\n",
    "\n",
    "tTarget = np.array([np.argmax(yy) for yy in y_train])\n",
    "vTarget = np.array([np.argmax(yy) for yy in y_val])\n",
    "\n",
    "for tag in tagSet:\n",
    "    print(\"{0} % in training data = {1} %\".format(tag, np.round(tTarget[tTarget==tag2int[tag]].size * 100 / tTarget.shape[0], 2)))\n",
    "    print(\"{0} % in validation data = {1} %\".format(tag, np.round(vTarget[vTarget==tag2int[tag]].size * 100 / vTarget.shape[0], 2)))"
   ]
  },
  {
   "cell_type": "code",
   "execution_count": 41,
   "metadata": {
    "colab": {
     "autoexec": {
      "startup": false,
      "wait_interval": 0
     },
     "base_uri": "https://localhost:8080/",
     "height": 173,
     "output_extras": [
      {
       "item_id": 1
      }
     ]
    },
    "colab_type": "code",
    "executionInfo": {
     "elapsed": 758,
     "status": "ok",
     "timestamp": 1515664313240,
     "user": {
      "displayName": "Michael Franklin Mbouopda",
      "photoUrl": "//lh3.googleusercontent.com/-2_Vuj9ESsJ0/AAAAAAAAAAI/AAAAAAAABSc/r-SRcN0jWPw/s50-c-k-no/photo.jpg",
      "userId": "117384351130599115261"
     },
     "user_tz": -60
    },
    "id": "OObRLXTr268N",
    "outputId": "6361a898-fd04-4e15-8aa7-936a12b3221a"
   },
   "outputs": [],
   "source": [
    "ewo_corpus, ewo_nb_of_phrases = load_corpus(ewo_corpus_file, max_nb_of_phrases)"
   ]
  },
  {
   "cell_type": "code",
   "execution_count": 42,
   "metadata": {},
   "outputs": [
    {
     "data": {
      "text/html": [
       "<div>\n",
       "<style scoped>\n",
       "    .dataframe tbody tr th:only-of-type {\n",
       "        vertical-align: middle;\n",
       "    }\n",
       "\n",
       "    .dataframe tbody tr th {\n",
       "        vertical-align: top;\n",
       "    }\n",
       "\n",
       "    .dataframe thead th {\n",
       "        text-align: right;\n",
       "    }\n",
       "</style>\n",
       "<table border=\"1\" class=\"dataframe\">\n",
       "  <thead>\n",
       "    <tr style=\"text-align: right;\">\n",
       "      <th></th>\n",
       "      <th>word</th>\n",
       "      <th>ne-tag</th>\n",
       "    </tr>\n",
       "  </thead>\n",
       "  <tbody>\n",
       "    <tr>\n",
       "      <th>6</th>\n",
       "      <td>Teofil</td>\n",
       "      <td>PER</td>\n",
       "    </tr>\n",
       "    <tr>\n",
       "      <th>15</th>\n",
       "      <td>Yesus</td>\n",
       "      <td>PER</td>\n",
       "    </tr>\n",
       "    <tr>\n",
       "      <th>86</th>\n",
       "      <td>Yohannes</td>\n",
       "      <td>PER</td>\n",
       "    </tr>\n",
       "    <tr>\n",
       "      <th>104</th>\n",
       "      <td>Yesus</td>\n",
       "      <td>PER</td>\n",
       "    </tr>\n",
       "    <tr>\n",
       "      <th>230</th>\n",
       "      <td>Yesus</td>\n",
       "      <td>PER</td>\n",
       "    </tr>\n",
       "    <tr>\n",
       "      <th>...</th>\n",
       "      <td>...</td>\n",
       "      <td>...</td>\n",
       "    </tr>\n",
       "    <tr>\n",
       "      <th>3676</th>\n",
       "      <td>Maria</td>\n",
       "      <td>PER</td>\n",
       "    </tr>\n",
       "    <tr>\n",
       "      <th>3697</th>\n",
       "      <td>Yesus</td>\n",
       "      <td>PER</td>\n",
       "    </tr>\n",
       "    <tr>\n",
       "      <th>3740</th>\n",
       "      <td>Emmanuel</td>\n",
       "      <td>PER</td>\n",
       "    </tr>\n",
       "    <tr>\n",
       "      <th>3750</th>\n",
       "      <td>Yosef</td>\n",
       "      <td>PER</td>\n",
       "    </tr>\n",
       "    <tr>\n",
       "      <th>3778</th>\n",
       "      <td>Yesus</td>\n",
       "      <td>PER</td>\n",
       "    </tr>\n",
       "  </tbody>\n",
       "</table>\n",
       "<p>253 rows × 2 columns</p>\n",
       "</div>"
      ],
      "text/plain": [
       "          word ne-tag\n",
       "6       Teofil    PER\n",
       "15       Yesus    PER\n",
       "86    Yohannes    PER\n",
       "104      Yesus    PER\n",
       "230      Yesus    PER\n",
       "...        ...    ...\n",
       "3676     Maria    PER\n",
       "3697     Yesus    PER\n",
       "3740  Emmanuel    PER\n",
       "3750     Yosef    PER\n",
       "3778     Yesus    PER\n",
       "\n",
       "[253 rows x 2 columns]"
      ]
     },
     "execution_count": 42,
     "metadata": {},
     "output_type": "execute_result"
    }
   ],
   "source": [
    "ewo_corpus.loc[ewo_corpus['ne-tag'] == 'PER']"
   ]
  },
  {
   "cell_type": "code",
   "execution_count": 43,
   "metadata": {
    "colab": {
     "autoexec": {
      "startup": false,
      "wait_interval": 0
     },
     "base_uri": "https://localhost:8080/",
     "height": 173,
     "output_extras": [
      {
       "item_id": 1
      }
     ]
    },
    "colab_type": "code",
    "executionInfo": {
     "elapsed": 758,
     "status": "ok",
     "timestamp": 1515664313240,
     "user": {
      "displayName": "Michael Franklin Mbouopda",
      "photoUrl": "//lh3.googleusercontent.com/-2_Vuj9ESsJ0/AAAAAAAAAAI/AAAAAAAABSc/r-SRcN0jWPw/s50-c-k-no/photo.jpg",
      "userId": "117384351130599115261"
     },
     "user_tz": -60
    },
    "id": "OObRLXTr268N",
    "outputId": "6361a898-fd04-4e15-8aa7-936a12b3221a"
   },
   "outputs": [
    {
     "data": {
      "text/plain": [
       "210"
      ]
     },
     "execution_count": 43,
     "metadata": {},
     "output_type": "execute_result"
    }
   ],
   "source": [
    "ewo_nb_of_phrases"
   ]
  },
  {
   "cell_type": "code",
   "execution_count": 44,
   "metadata": {},
   "outputs": [
    {
     "name": "stdout",
     "output_type": "stream",
     "text": [
      "O % = 84.15 %\n",
      "MISC % = 2.54 %\n",
      "PER % = 6.69 %\n",
      "LOC % = 1.03 %\n",
      "ORG % = 0.05 %\n"
     ]
    }
   ],
   "source": [
    "for tag in tagSet:\n",
    "    print(\"{0} % = {1} %\".format(tag, np.round(ewo_corpus[ewo_corpus['ne-tag']==tag].shape[0] * 100 / ewo_corpus[ewo_corpus['ne-tag']!='\\n'].shape[0], 2)))"
   ]
  },
  {
   "cell_type": "code",
   "execution_count": 45,
   "metadata": {},
   "outputs": [
    {
     "name": "stdout",
     "output_type": "stream",
     "text": [
      "O % = 89.94 %\n",
      "MISC % = 1.17 %\n",
      "PER % = 8.3 %\n",
      "LOC % = 1.86 %\n",
      "ORG % = 0.2 %\n"
     ]
    }
   ],
   "source": [
    "for tag in tagSet:\n",
    "    print(\"{0} % = {1} %\".format(tag, np.round(ewo_corpus[ewo_corpus['ne-tag']==tag].word.unique().shape[0] * 100 / ewo_corpus[ewo_corpus['ne-tag']!='\\n'].word.unique().shape[0], 2)))"
   ]
  },
  {
   "cell_type": "code",
   "execution_count": 46,
   "metadata": {
    "colab": {
     "autoexec": {
      "startup": false,
      "wait_interval": 0
     },
     "base_uri": "https://localhost:8080/",
     "height": 173,
     "output_extras": [
      {
       "item_id": 1
      }
     ]
    },
    "colab_type": "code",
    "executionInfo": {
     "elapsed": 758,
     "status": "ok",
     "timestamp": 1515664313240,
     "user": {
      "displayName": "Michael Franklin Mbouopda",
      "photoUrl": "//lh3.googleusercontent.com/-2_Vuj9ESsJ0/AAAAAAAAAAI/AAAAAAAABSc/r-SRcN0jWPw/s50-c-k-no/photo.jpg",
      "userId": "117384351130599115261"
     },
     "user_tz": -60
    },
    "id": "OObRLXTr268N",
    "outputId": "6361a898-fd04-4e15-8aa7-936a12b3221a"
   },
   "outputs": [
    {
     "data": {
      "text/html": [
       "<div>\n",
       "<style scoped>\n",
       "    .dataframe tbody tr th:only-of-type {\n",
       "        vertical-align: middle;\n",
       "    }\n",
       "\n",
       "    .dataframe tbody tr th {\n",
       "        vertical-align: top;\n",
       "    }\n",
       "\n",
       "    .dataframe thead th {\n",
       "        text-align: right;\n",
       "    }\n",
       "</style>\n",
       "<table border=\"1\" class=\"dataframe\">\n",
       "  <thead>\n",
       "    <tr style=\"text-align: right;\">\n",
       "      <th></th>\n",
       "      <th>word</th>\n",
       "      <th>ne-tag</th>\n",
       "    </tr>\n",
       "  </thead>\n",
       "  <tbody>\n",
       "    <tr>\n",
       "      <th>count</th>\n",
       "      <td>3779</td>\n",
       "      <td>3570</td>\n",
       "    </tr>\n",
       "    <tr>\n",
       "      <th>unique</th>\n",
       "      <td>1024</td>\n",
       "      <td>5</td>\n",
       "    </tr>\n",
       "    <tr>\n",
       "      <th>top</th>\n",
       "      <td>\\n</td>\n",
       "      <td>O</td>\n",
       "    </tr>\n",
       "    <tr>\n",
       "      <th>freq</th>\n",
       "      <td>209</td>\n",
       "      <td>3180</td>\n",
       "    </tr>\n",
       "  </tbody>\n",
       "</table>\n",
       "</div>"
      ],
      "text/plain": [
       "        word ne-tag\n",
       "count   3779   3570\n",
       "unique  1024      5\n",
       "top       \\n      O\n",
       "freq     209   3180"
      ]
     },
     "execution_count": 46,
     "metadata": {},
     "output_type": "execute_result"
    }
   ],
   "source": [
    "ewo_corpus.describe()"
   ]
  },
  {
   "cell_type": "code",
   "execution_count": 47,
   "metadata": {
    "colab": {
     "autoexec": {
      "startup": false,
      "wait_interval": 0
     },
     "base_uri": "https://localhost:8080/",
     "height": 173,
     "output_extras": [
      {
       "item_id": 1
      }
     ]
    },
    "colab_type": "code",
    "executionInfo": {
     "elapsed": 758,
     "status": "ok",
     "timestamp": 1515664313240,
     "user": {
      "displayName": "Michael Franklin Mbouopda",
      "photoUrl": "//lh3.googleusercontent.com/-2_Vuj9ESsJ0/AAAAAAAAAAI/AAAAAAAABSc/r-SRcN0jWPw/s50-c-k-no/photo.jpg",
      "userId": "117384351130599115261"
     },
     "user_tz": -60
    },
    "id": "OObRLXTr268N",
    "outputId": "6361a898-fd04-4e15-8aa7-936a12b3221a"
   },
   "outputs": [
    {
     "data": {
      "text/html": [
       "<div>\n",
       "<style scoped>\n",
       "    .dataframe tbody tr th:only-of-type {\n",
       "        vertical-align: middle;\n",
       "    }\n",
       "\n",
       "    .dataframe tbody tr th {\n",
       "        vertical-align: top;\n",
       "    }\n",
       "\n",
       "    .dataframe thead th {\n",
       "        text-align: right;\n",
       "    }\n",
       "</style>\n",
       "<table border=\"1\" class=\"dataframe\">\n",
       "  <thead>\n",
       "    <tr style=\"text-align: right;\">\n",
       "      <th></th>\n",
       "      <th>word</th>\n",
       "      <th>ne-tag</th>\n",
       "    </tr>\n",
       "  </thead>\n",
       "  <tbody>\n",
       "    <tr>\n",
       "      <th>0</th>\n",
       "      <td>Mfufub</td>\n",
       "      <td>MISC</td>\n",
       "    </tr>\n",
       "    <tr>\n",
       "      <th>1</th>\n",
       "      <td>Nsisim</td>\n",
       "      <td>MISC</td>\n",
       "    </tr>\n",
       "    <tr>\n",
       "      <th>2</th>\n",
       "      <td>ayi</td>\n",
       "      <td>O</td>\n",
       "    </tr>\n",
       "    <tr>\n",
       "      <th>3</th>\n",
       "      <td>sò</td>\n",
       "      <td>O</td>\n",
       "    </tr>\n",
       "    <tr>\n",
       "      <th>4</th>\n",
       "      <td>\\n</td>\n",
       "      <td>None</td>\n",
       "    </tr>\n",
       "  </tbody>\n",
       "</table>\n",
       "</div>"
      ],
      "text/plain": [
       "     word ne-tag\n",
       "0  Mfufub   MISC\n",
       "1  Nsisim   MISC\n",
       "2     ayi      O\n",
       "3      sò      O\n",
       "4      \\n   None"
      ]
     },
     "execution_count": 47,
     "metadata": {},
     "output_type": "execute_result"
    }
   ],
   "source": [
    "ewo_corpus.head()"
   ]
  },
  {
   "cell_type": "code",
   "execution_count": 48,
   "metadata": {
    "colab": {
     "autoexec": {
      "startup": false,
      "wait_interval": 0
     },
     "base_uri": "https://localhost:8080/",
     "height": 214,
     "output_extras": [
      {
       "item_id": 1
      }
     ]
    },
    "colab_type": "code",
    "executionInfo": {
     "elapsed": 1473,
     "status": "error",
     "timestamp": 1515688720429,
     "user": {
      "displayName": "Michael Franklin Mbouopda",
      "photoUrl": "//lh3.googleusercontent.com/-2_Vuj9ESsJ0/AAAAAAAAAAI/AAAAAAAABSc/r-SRcN0jWPw/s50-c-k-no/photo.jpg",
      "userId": "117384351130599115261"
     },
     "user_tz": -60
    },
    "id": "aRDNM0C8yX5N",
    "outputId": "b5a14626-4a9b-484c-c597-f1b1f37673c9"
   },
   "outputs": [],
   "source": [
    "ewo_fingerprints = corpus_fingerprint(ewo_corpus, en_nb_of_phrases)"
   ]
  },
  {
   "cell_type": "code",
   "execution_count": 49,
   "metadata": {
    "colab": {
     "autoexec": {
      "startup": false,
      "wait_interval": 0
     },
     "base_uri": "https://localhost:8080/",
     "height": 214,
     "output_extras": [
      {
       "item_id": 1
      }
     ]
    },
    "colab_type": "code",
    "executionInfo": {
     "elapsed": 1473,
     "status": "error",
     "timestamp": 1515688720429,
     "user": {
      "displayName": "Michael Franklin Mbouopda",
      "photoUrl": "//lh3.googleusercontent.com/-2_Vuj9ESsJ0/AAAAAAAAAAI/AAAAAAAABSc/r-SRcN0jWPw/s50-c-k-no/photo.jpg",
      "userId": "117384351130599115261"
     },
     "user_tz": -60
    },
    "id": "aRDNM0C8yX5N",
    "outputId": "b5a14626-4a9b-484c-c597-f1b1f37673c9"
   },
   "outputs": [],
   "source": [
    "if is_only_vocab:\n",
    "    text = list(ewo_corpus[ewo_corpus.word != \"\\n\"].word.unique())\n",
    "else:\n",
    "    text = list(ewo_corpus[ewo_corpus.word != \"\\n\"].word)\n",
    "ewo_vocab = pd.DataFrame({\"text\":text})"
   ]
  },
  {
   "cell_type": "code",
   "execution_count": 50,
   "metadata": {
    "colab": {
     "autoexec": {
      "startup": false,
      "wait_interval": 0
     },
     "base_uri": "https://localhost:8080/",
     "height": 214,
     "output_extras": [
      {
       "item_id": 1
      }
     ]
    },
    "colab_type": "code",
    "executionInfo": {
     "elapsed": 1473,
     "status": "error",
     "timestamp": 1515688720429,
     "user": {
      "displayName": "Michael Franklin Mbouopda",
      "photoUrl": "//lh3.googleusercontent.com/-2_Vuj9ESsJ0/AAAAAAAAAAI/AAAAAAAABSc/r-SRcN0jWPw/s50-c-k-no/photo.jpg",
      "userId": "117384351130599115261"
     },
     "user_tz": -60
    },
    "id": "aRDNM0C8yX5N",
    "outputId": "b5a14626-4a9b-484c-c597-f1b1f37673c9"
   },
   "outputs": [],
   "source": [
    "if is_only_vocab:\n",
    "    X_ewo = np.zeros((ewo_vocab.shape[0] * duplication, en_nb_of_phrases))\n",
    "    ewo_target = np.zeros((ewo_vocab.shape[0] * duplication))\n",
    "    p=0\n",
    "    for i, row in ewo_vocab.iterrows():\n",
    "        c = row.text\n",
    "        for j in range(duplication):\n",
    "            X_ewo[p] = ewo_fingerprints[c.split(\" \")[0]]\n",
    "            ewo_target[p] = tag2int[getTag(ewo_corpus[ewo_corpus.word == c.split(\" \")[-1:][0]]['ne-tag'].iloc[0])]\n",
    "            p+=1\n",
    "    X_ewo, ewo_target = shuffle_data(X_ewo, ewo_target)"
   ]
  },
  {
   "cell_type": "code",
   "execution_count": 51,
   "metadata": {},
   "outputs": [
    {
     "data": {
      "text/html": [
       "<div>\n",
       "<style scoped>\n",
       "    .dataframe tbody tr th:only-of-type {\n",
       "        vertical-align: middle;\n",
       "    }\n",
       "\n",
       "    .dataframe tbody tr th {\n",
       "        vertical-align: top;\n",
       "    }\n",
       "\n",
       "    .dataframe thead th {\n",
       "        text-align: right;\n",
       "    }\n",
       "</style>\n",
       "<table border=\"1\" class=\"dataframe\">\n",
       "  <thead>\n",
       "    <tr style=\"text-align: right;\">\n",
       "      <th></th>\n",
       "      <th>text</th>\n",
       "    </tr>\n",
       "  </thead>\n",
       "  <tbody>\n",
       "    <tr>\n",
       "      <th>1013</th>\n",
       "      <td>sik</td>\n",
       "    </tr>\n",
       "    <tr>\n",
       "      <th>1014</th>\n",
       "      <td>Ntud</td>\n",
       "    </tr>\n",
       "    <tr>\n",
       "      <th>1015</th>\n",
       "      <td>bëyole</td>\n",
       "    </tr>\n",
       "    <tr>\n",
       "      <th>1016</th>\n",
       "      <td>Emmanuel</td>\n",
       "    </tr>\n",
       "    <tr>\n",
       "      <th>1017</th>\n",
       "      <td>Avëbë</td>\n",
       "    </tr>\n",
       "    <tr>\n",
       "      <th>1018</th>\n",
       "      <td>angavëbë</td>\n",
       "    </tr>\n",
       "    <tr>\n",
       "      <th>1019</th>\n",
       "      <td>oyò</td>\n",
       "    </tr>\n",
       "    <tr>\n",
       "      <th>1020</th>\n",
       "      <td>angabende</td>\n",
       "    </tr>\n",
       "    <tr>\n",
       "      <th>1021</th>\n",
       "      <td>anganòṅ</td>\n",
       "    </tr>\n",
       "    <tr>\n",
       "      <th>1022</th>\n",
       "      <td>angayole</td>\n",
       "    </tr>\n",
       "  </tbody>\n",
       "</table>\n",
       "</div>"
      ],
      "text/plain": [
       "           text\n",
       "1013        sik\n",
       "1014       Ntud\n",
       "1015     bëyole\n",
       "1016   Emmanuel\n",
       "1017      Avëbë\n",
       "1018   angavëbë\n",
       "1019        oyò\n",
       "1020  angabende\n",
       "1021    anganòṅ\n",
       "1022   angayole"
      ]
     },
     "execution_count": 51,
     "metadata": {},
     "output_type": "execute_result"
    }
   ],
   "source": [
    "ewo_vocab[-10:]"
   ]
  },
  {
   "cell_type": "code",
   "execution_count": 52,
   "metadata": {},
   "outputs": [],
   "source": [
    "if not is_only_vocab:\n",
    "    X_ewo, ewo_target = corpus2trainingdata(ewo_corpus[ewo_corpus.word != \"\\n\"], ewo_fingerprints)"
   ]
  },
  {
   "cell_type": "code",
   "execution_count": 53,
   "metadata": {},
   "outputs": [],
   "source": [
    "if shuffle:\n",
    "    X_ewo, ewo_target = shuffle_data(X_ewo, ewo_target)"
   ]
  },
  {
   "cell_type": "code",
   "execution_count": 54,
   "metadata": {},
   "outputs": [
    {
     "name": "stdout",
     "output_type": "stream",
     "text": [
      "(1023,) 1023\n"
     ]
    }
   ],
   "source": [
    "y_ewo = ewo_target.copy()\n",
    "print(y_ewo.shape, len(ewo_vocab))"
   ]
  },
  {
   "cell_type": "code",
   "execution_count": 55,
   "metadata": {},
   "outputs": [
    {
     "data": {
      "text/plain": [
       "(1023, 210)"
      ]
     },
     "execution_count": 55,
     "metadata": {},
     "output_type": "execute_result"
    }
   ],
   "source": [
    "X_ewo.shape"
   ]
  },
  {
   "cell_type": "code",
   "execution_count": 56,
   "metadata": {
    "colab": {
     "autoexec": {
      "startup": false,
      "wait_interval": 0
     },
     "base_uri": "https://localhost:8080/",
     "height": 34,
     "output_extras": [
      {
       "item_id": 1
      }
     ]
    },
    "colab_type": "code",
    "executionInfo": {
     "elapsed": 768,
     "status": "ok",
     "timestamp": 1514134592547,
     "user": {
      "displayName": "Michael Franklin Mbouopda",
      "photoUrl": "//lh3.googleusercontent.com/-2_Vuj9ESsJ0/AAAAAAAAAAI/AAAAAAAABSc/r-SRcN0jWPw/s50-c-k-no/photo.jpg",
      "userId": "117384351130599115261"
     },
     "user_tz": -60
    },
    "id": "fuSYSwUPDiQY",
    "outputId": "658c1a63-1a76-4487-e151-47364c6dbc85"
   },
   "outputs": [],
   "source": [
    "y_ewo = ewo_target.copy()\n",
    "y_ewo[:20]\n",
    "if not BINARY:\n",
    "    y_ewo = np_utils.to_categorical(y_ewo)"
   ]
  },
  {
   "cell_type": "code",
   "execution_count": 57,
   "metadata": {
    "colab": {
     "autoexec": {
      "startup": false,
      "wait_interval": 0
     },
     "base_uri": "https://localhost:8080/",
     "height": 34,
     "output_extras": [
      {
       "item_id": 1
      }
     ]
    },
    "colab_type": "code",
    "executionInfo": {
     "elapsed": 6835,
     "status": "ok",
     "timestamp": 1514134601113,
     "user": {
      "displayName": "Michael Franklin Mbouopda",
      "photoUrl": "//lh3.googleusercontent.com/-2_Vuj9ESsJ0/AAAAAAAAAAI/AAAAAAAABSc/r-SRcN0jWPw/s50-c-k-no/photo.jpg",
      "userId": "117384351130599115261"
     },
     "user_tz": -60
    },
    "id": "Cev5j8YFzPYl",
    "outputId": "87ab5b4b-a75d-43b0-d346-5ba18a4522c0"
   },
   "outputs": [],
   "source": [
    "X_ewo = X_ewo.reshape((X_ewo.shape[0], en_nb_of_phrases))"
   ]
  },
  {
   "cell_type": "code",
   "execution_count": 58,
   "metadata": {},
   "outputs": [],
   "source": [
    "# model = create_model(X.shape[1], len(tagSet))\n",
    "# resultEval, train_by_tag, test_by_tag, ewo_by_tag = algoEval(X_train, y_train, X_val, y_val, X_ewo, y_ewo, model=model)"
   ]
  },
  {
   "cell_type": "code",
   "execution_count": 59,
   "metadata": {},
   "outputs": [],
   "source": [
    "# resultEval"
   ]
  },
  {
   "cell_type": "code",
   "execution_count": 60,
   "metadata": {},
   "outputs": [],
   "source": [
    "# train_by_tag"
   ]
  },
  {
   "cell_type": "code",
   "execution_count": 61,
   "metadata": {},
   "outputs": [],
   "source": [
    "# test_by_tag"
   ]
  },
  {
   "cell_type": "code",
   "execution_count": 62,
   "metadata": {},
   "outputs": [],
   "source": [
    "# ewo_by_tag"
   ]
  },
  {
   "cell_type": "code",
   "execution_count": 63,
   "metadata": {},
   "outputs": [],
   "source": [
    "# resultEval.mean()"
   ]
  },
  {
   "cell_type": "code",
   "execution_count": 64,
   "metadata": {},
   "outputs": [],
   "source": [
    "# resultEval.std()"
   ]
  },
  {
   "cell_type": "code",
   "execution_count": 65,
   "metadata": {
    "scrolled": true
   },
   "outputs": [
    {
     "name": "stdout",
     "output_type": "stream",
     "text": [
      "AlgoCrossValIter - 1\n",
      "Model: \"sequential_1\"\n",
      "_________________________________________________________________\n",
      "Layer (type)                 Output Shape              Param #   \n",
      "=================================================================\n",
      "hidden1 (Dense)              (None, 640)               135040    \n",
      "_________________________________________________________________\n",
      "hidden2 (Dense)              (None, 160)               102560    \n",
      "_________________________________________________________________\n",
      "outputlayer (Dense)          (None, 5)                 805       \n",
      "=================================================================\n",
      "Total params: 238,405\n",
      "Trainable params: 238,405\n",
      "Non-trainable params: 0\n",
      "_________________________________________________________________\n",
      "\n",
      "Epoch 00001: val_loss improved from inf to 0.40357, saving model to best-model-conll.hdfs\n",
      "\n",
      "Epoch 00002: val_loss improved from 0.40357 to 0.36072, saving model to best-model-conll.hdfs\n",
      "\n",
      "Epoch 00003: val_loss improved from 0.36072 to 0.32171, saving model to best-model-conll.hdfs\n",
      "\n",
      "Epoch 00004: val_loss improved from 0.32171 to 0.29767, saving model to best-model-conll.hdfs\n",
      "\n",
      "Epoch 00005: val_loss did not improve from 0.29767\n",
      "\n",
      "Epoch 00006: val_loss did not improve from 0.29767\n",
      "\n",
      "Epoch 00007: val_loss did not improve from 0.29767\n",
      "\n",
      "Epoch 00008: val_loss did not improve from 0.29767\n",
      "\n",
      "Epoch 00009: val_loss did not improve from 0.29767\n",
      "\n",
      "Epoch 00010: val_loss did not improve from 0.29767\n"
     ]
    },
    {
     "name": "stderr",
     "output_type": "stream",
     "text": [
      "/home/frankl1/miniconda3/envs/ner-projection/lib/python3.7/site-packages/ipykernel_launcher.py:17: RuntimeWarning: invalid value encountered in double_scalars\n"
     ]
    },
    {
     "name": "stdout",
     "output_type": "stream",
     "text": [
      "\n",
      "Epoch 00001: val_loss improved from inf to 0.13868, saving model to best-model-conll.hdfs\n",
      "\n",
      "Epoch 00002: val_loss did not improve from 0.13868\n",
      "\n",
      "Epoch 00003: val_loss did not improve from 0.13868\n",
      "\n",
      "Epoch 00004: val_loss did not improve from 0.13868\n",
      "\n",
      "Epoch 00005: val_loss did not improve from 0.13868\n",
      "\n",
      "Epoch 00006: val_loss did not improve from 0.13868\n",
      "\n",
      "Epoch 00007: val_loss did not improve from 0.13868\n",
      "\n",
      "Epoch 00008: val_loss did not improve from 0.13868\n",
      "\n",
      "Epoch 00009: val_loss did not improve from 0.13868\n",
      "\n",
      "Epoch 00010: val_loss did not improve from 0.13868\n"
     ]
    },
    {
     "name": "stderr",
     "output_type": "stream",
     "text": [
      "/home/frankl1/miniconda3/envs/ner-projection/lib/python3.7/site-packages/ipykernel_launcher.py:17: RuntimeWarning: invalid value encountered in double_scalars\n"
     ]
    },
    {
     "name": "stdout",
     "output_type": "stream",
     "text": [
      "\n",
      "Epoch 00001: val_loss improved from inf to 0.07114, saving model to best-model-conll.hdfs\n",
      "\n",
      "Epoch 00002: val_loss did not improve from 0.07114\n",
      "\n",
      "Epoch 00003: val_loss did not improve from 0.07114\n",
      "\n",
      "Epoch 00004: val_loss did not improve from 0.07114\n",
      "\n",
      "Epoch 00005: val_loss did not improve from 0.07114\n",
      "\n",
      "Epoch 00006: val_loss did not improve from 0.07114\n",
      "\n",
      "Epoch 00007: val_loss did not improve from 0.07114\n",
      "\n",
      "Epoch 00008: val_loss did not improve from 0.07114\n",
      "\n",
      "Epoch 00009: val_loss did not improve from 0.07114\n",
      "\n",
      "Epoch 00010: val_loss did not improve from 0.07114\n"
     ]
    },
    {
     "name": "stderr",
     "output_type": "stream",
     "text": [
      "/home/frankl1/miniconda3/envs/ner-projection/lib/python3.7/site-packages/ipykernel_launcher.py:17: RuntimeWarning: invalid value encountered in double_scalars\n"
     ]
    },
    {
     "name": "stdout",
     "output_type": "stream",
     "text": [
      "\n",
      "Epoch 00001: val_loss improved from inf to 0.09692, saving model to best-model-conll.hdfs\n",
      "\n",
      "Epoch 00002: val_loss improved from 0.09692 to 0.09077, saving model to best-model-conll.hdfs\n",
      "\n",
      "Epoch 00003: val_loss did not improve from 0.09077\n",
      "\n",
      "Epoch 00004: val_loss did not improve from 0.09077\n",
      "\n",
      "Epoch 00005: val_loss did not improve from 0.09077\n",
      "\n",
      "Epoch 00006: val_loss did not improve from 0.09077\n",
      "\n",
      "Epoch 00007: val_loss did not improve from 0.09077\n",
      "\n",
      "Epoch 00008: val_loss did not improve from 0.09077\n",
      "\n",
      "Epoch 00009: val_loss did not improve from 0.09077\n",
      "\n",
      "Epoch 00010: val_loss did not improve from 0.09077\n"
     ]
    },
    {
     "name": "stderr",
     "output_type": "stream",
     "text": [
      "/home/frankl1/miniconda3/envs/ner-projection/lib/python3.7/site-packages/ipykernel_launcher.py:17: RuntimeWarning: invalid value encountered in double_scalars\n"
     ]
    },
    {
     "name": "stdout",
     "output_type": "stream",
     "text": [
      "\n",
      "Epoch 00001: val_loss improved from inf to 0.05832, saving model to best-model-conll.hdfs\n",
      "\n",
      "Epoch 00002: val_loss did not improve from 0.05832\n",
      "\n",
      "Epoch 00003: val_loss did not improve from 0.05832\n",
      "\n",
      "Epoch 00004: val_loss did not improve from 0.05832\n",
      "\n",
      "Epoch 00005: val_loss did not improve from 0.05832\n",
      "\n",
      "Epoch 00006: val_loss did not improve from 0.05832\n",
      "\n",
      "Epoch 00007: val_loss did not improve from 0.05832\n",
      "\n",
      "Epoch 00008: val_loss did not improve from 0.05832\n",
      "\n",
      "Epoch 00009: val_loss did not improve from 0.05832\n",
      "\n",
      "Epoch 00010: val_loss did not improve from 0.05832\n"
     ]
    },
    {
     "name": "stderr",
     "output_type": "stream",
     "text": [
      "/home/frankl1/miniconda3/envs/ner-projection/lib/python3.7/site-packages/ipykernel_launcher.py:17: RuntimeWarning: invalid value encountered in double_scalars\n"
     ]
    },
    {
     "name": "stdout",
     "output_type": "stream",
     "text": [
      "\n",
      "Epoch 00001: val_loss improved from inf to 0.02907, saving model to best-model-conll.hdfs\n",
      "\n",
      "Epoch 00002: val_loss did not improve from 0.02907\n",
      "\n",
      "Epoch 00003: val_loss did not improve from 0.02907\n",
      "\n",
      "Epoch 00004: val_loss did not improve from 0.02907\n",
      "\n",
      "Epoch 00005: val_loss did not improve from 0.02907\n",
      "\n",
      "Epoch 00006: val_loss did not improve from 0.02907\n",
      "\n",
      "Epoch 00007: val_loss did not improve from 0.02907\n",
      "\n",
      "Epoch 00008: val_loss did not improve from 0.02907\n",
      "\n",
      "Epoch 00009: val_loss did not improve from 0.02907\n",
      "\n",
      "Epoch 00010: val_loss did not improve from 0.02907\n"
     ]
    },
    {
     "name": "stderr",
     "output_type": "stream",
     "text": [
      "/home/frankl1/miniconda3/envs/ner-projection/lib/python3.7/site-packages/ipykernel_launcher.py:17: RuntimeWarning: invalid value encountered in double_scalars\n"
     ]
    },
    {
     "name": "stdout",
     "output_type": "stream",
     "text": [
      "\n",
      "Epoch 00001: val_loss improved from inf to 0.09674, saving model to best-model-conll.hdfs\n",
      "\n",
      "Epoch 00002: val_loss improved from 0.09674 to 0.08404, saving model to best-model-conll.hdfs\n",
      "\n",
      "Epoch 00003: val_loss did not improve from 0.08404\n",
      "\n",
      "Epoch 00004: val_loss did not improve from 0.08404\n",
      "\n",
      "Epoch 00005: val_loss did not improve from 0.08404\n",
      "\n",
      "Epoch 00006: val_loss did not improve from 0.08404\n",
      "\n",
      "Epoch 00007: val_loss did not improve from 0.08404\n",
      "\n",
      "Epoch 00008: val_loss did not improve from 0.08404\n",
      "\n",
      "Epoch 00009: val_loss did not improve from 0.08404\n",
      "\n",
      "Epoch 00010: val_loss did not improve from 0.08404\n",
      "\n",
      "Epoch 00001: val_loss improved from inf to 0.08972, saving model to best-model-conll.hdfs\n",
      "\n",
      "Epoch 00002: val_loss improved from 0.08972 to 0.07954, saving model to best-model-conll.hdfs\n",
      "\n",
      "Epoch 00003: val_loss did not improve from 0.07954\n",
      "\n",
      "Epoch 00004: val_loss did not improve from 0.07954\n",
      "\n",
      "Epoch 00005: val_loss did not improve from 0.07954\n",
      "\n",
      "Epoch 00006: val_loss did not improve from 0.07954\n",
      "\n",
      "Epoch 00007: val_loss did not improve from 0.07954\n",
      "\n",
      "Epoch 00008: val_loss did not improve from 0.07954\n",
      "\n",
      "Epoch 00009: val_loss did not improve from 0.07954\n",
      "\n",
      "Epoch 00010: val_loss did not improve from 0.07954\n"
     ]
    },
    {
     "name": "stderr",
     "output_type": "stream",
     "text": [
      "/home/frankl1/miniconda3/envs/ner-projection/lib/python3.7/site-packages/ipykernel_launcher.py:17: RuntimeWarning: invalid value encountered in double_scalars\n"
     ]
    },
    {
     "name": "stdout",
     "output_type": "stream",
     "text": [
      "\n",
      "Epoch 00001: val_loss improved from inf to 0.05033, saving model to best-model-conll.hdfs\n",
      "\n",
      "Epoch 00002: val_loss did not improve from 0.05033\n",
      "\n",
      "Epoch 00003: val_loss did not improve from 0.05033\n",
      "\n",
      "Epoch 00004: val_loss did not improve from 0.05033\n",
      "\n",
      "Epoch 00005: val_loss did not improve from 0.05033\n",
      "\n",
      "Epoch 00006: val_loss did not improve from 0.05033\n",
      "\n",
      "Epoch 00007: val_loss did not improve from 0.05033\n",
      "\n",
      "Epoch 00008: val_loss did not improve from 0.05033\n",
      "\n",
      "Epoch 00009: val_loss did not improve from 0.05033\n",
      "\n",
      "Epoch 00010: val_loss did not improve from 0.05033\n"
     ]
    },
    {
     "name": "stderr",
     "output_type": "stream",
     "text": [
      "/home/frankl1/miniconda3/envs/ner-projection/lib/python3.7/site-packages/ipykernel_launcher.py:17: RuntimeWarning: invalid value encountered in double_scalars\n"
     ]
    },
    {
     "name": "stdout",
     "output_type": "stream",
     "text": [
      "\n",
      "Epoch 00001: val_loss improved from inf to 0.08612, saving model to best-model-conll.hdfs\n",
      "\n",
      "Epoch 00002: val_loss did not improve from 0.08612\n",
      "\n",
      "Epoch 00003: val_loss did not improve from 0.08612\n",
      "\n",
      "Epoch 00004: val_loss did not improve from 0.08612\n",
      "\n",
      "Epoch 00005: val_loss did not improve from 0.08612\n",
      "\n",
      "Epoch 00006: val_loss did not improve from 0.08612\n",
      "\n",
      "Epoch 00007: val_loss did not improve from 0.08612\n",
      "\n",
      "Epoch 00008: val_loss did not improve from 0.08612\n",
      "\n",
      "Epoch 00009: val_loss did not improve from 0.08612\n",
      "\n",
      "Epoch 00010: val_loss did not improve from 0.08612\n"
     ]
    },
    {
     "name": "stderr",
     "output_type": "stream",
     "text": [
      "/home/frankl1/miniconda3/envs/ner-projection/lib/python3.7/site-packages/ipykernel_launcher.py:17: RuntimeWarning: invalid value encountered in double_scalars\n"
     ]
    },
    {
     "name": "stdout",
     "output_type": "stream",
     "text": [
      "AlgoCrossValIter - 2\n",
      "Model: \"sequential_2\"\n",
      "_________________________________________________________________\n",
      "Layer (type)                 Output Shape              Param #   \n",
      "=================================================================\n",
      "hidden1 (Dense)              (None, 640)               135040    \n",
      "_________________________________________________________________\n",
      "hidden2 (Dense)              (None, 160)               102560    \n",
      "_________________________________________________________________\n",
      "outputlayer (Dense)          (None, 5)                 805       \n",
      "=================================================================\n",
      "Total params: 238,405\n",
      "Trainable params: 238,405\n",
      "Non-trainable params: 0\n",
      "_________________________________________________________________\n",
      "\n",
      "Epoch 00001: val_loss improved from inf to 0.45720, saving model to best-model-conll.hdfs\n",
      "\n",
      "Epoch 00002: val_loss improved from 0.45720 to 0.41514, saving model to best-model-conll.hdfs\n",
      "\n",
      "Epoch 00003: val_loss did not improve from 0.41514\n",
      "\n",
      "Epoch 00004: val_loss improved from 0.41514 to 0.40879, saving model to best-model-conll.hdfs\n",
      "\n",
      "Epoch 00005: val_loss improved from 0.40879 to 0.36013, saving model to best-model-conll.hdfs\n",
      "\n",
      "Epoch 00006: val_loss improved from 0.36013 to 0.35206, saving model to best-model-conll.hdfs\n",
      "\n",
      "Epoch 00007: val_loss improved from 0.35206 to 0.32740, saving model to best-model-conll.hdfs\n",
      "\n",
      "Epoch 00008: val_loss did not improve from 0.32740\n",
      "\n",
      "Epoch 00009: val_loss did not improve from 0.32740\n",
      "\n",
      "Epoch 00010: val_loss did not improve from 0.32740\n"
     ]
    },
    {
     "name": "stderr",
     "output_type": "stream",
     "text": [
      "/home/frankl1/miniconda3/envs/ner-projection/lib/python3.7/site-packages/ipykernel_launcher.py:17: RuntimeWarning: invalid value encountered in double_scalars\n"
     ]
    },
    {
     "name": "stdout",
     "output_type": "stream",
     "text": [
      "\n",
      "Epoch 00001: val_loss improved from inf to 0.16141, saving model to best-model-conll.hdfs\n",
      "\n",
      "Epoch 00002: val_loss did not improve from 0.16141\n",
      "\n",
      "Epoch 00003: val_loss did not improve from 0.16141\n",
      "\n",
      "Epoch 00004: val_loss did not improve from 0.16141\n",
      "\n",
      "Epoch 00005: val_loss did not improve from 0.16141\n",
      "\n",
      "Epoch 00006: val_loss did not improve from 0.16141\n",
      "\n",
      "Epoch 00007: val_loss did not improve from 0.16141\n",
      "\n",
      "Epoch 00008: val_loss did not improve from 0.16141\n",
      "\n",
      "Epoch 00009: val_loss did not improve from 0.16141\n",
      "\n",
      "Epoch 00010: val_loss did not improve from 0.16141\n"
     ]
    },
    {
     "name": "stderr",
     "output_type": "stream",
     "text": [
      "/home/frankl1/miniconda3/envs/ner-projection/lib/python3.7/site-packages/ipykernel_launcher.py:17: RuntimeWarning: invalid value encountered in double_scalars\n"
     ]
    },
    {
     "name": "stdout",
     "output_type": "stream",
     "text": [
      "\n",
      "Epoch 00001: val_loss improved from inf to 0.08393, saving model to best-model-conll.hdfs\n",
      "\n",
      "Epoch 00002: val_loss did not improve from 0.08393\n",
      "\n",
      "Epoch 00003: val_loss did not improve from 0.08393\n",
      "\n",
      "Epoch 00004: val_loss did not improve from 0.08393\n",
      "\n",
      "Epoch 00005: val_loss did not improve from 0.08393\n",
      "\n",
      "Epoch 00006: val_loss did not improve from 0.08393\n",
      "\n",
      "Epoch 00007: val_loss did not improve from 0.08393\n",
      "\n",
      "Epoch 00008: val_loss did not improve from 0.08393\n",
      "\n",
      "Epoch 00009: val_loss did not improve from 0.08393\n",
      "\n",
      "Epoch 00010: val_loss did not improve from 0.08393\n"
     ]
    },
    {
     "name": "stderr",
     "output_type": "stream",
     "text": [
      "/home/frankl1/miniconda3/envs/ner-projection/lib/python3.7/site-packages/ipykernel_launcher.py:17: RuntimeWarning: invalid value encountered in double_scalars\n"
     ]
    },
    {
     "name": "stdout",
     "output_type": "stream",
     "text": [
      "\n",
      "Epoch 00001: val_loss improved from inf to 0.09233, saving model to best-model-conll.hdfs\n",
      "\n",
      "Epoch 00002: val_loss improved from 0.09233 to 0.09213, saving model to best-model-conll.hdfs\n",
      "\n",
      "Epoch 00003: val_loss did not improve from 0.09213\n",
      "\n",
      "Epoch 00004: val_loss did not improve from 0.09213\n",
      "\n",
      "Epoch 00005: val_loss did not improve from 0.09213\n",
      "\n",
      "Epoch 00006: val_loss did not improve from 0.09213\n",
      "\n",
      "Epoch 00007: val_loss did not improve from 0.09213\n",
      "\n",
      "Epoch 00008: val_loss did not improve from 0.09213\n",
      "\n",
      "Epoch 00009: val_loss did not improve from 0.09213\n",
      "\n",
      "Epoch 00010: val_loss did not improve from 0.09213\n"
     ]
    },
    {
     "name": "stderr",
     "output_type": "stream",
     "text": [
      "/home/frankl1/miniconda3/envs/ner-projection/lib/python3.7/site-packages/ipykernel_launcher.py:17: RuntimeWarning: invalid value encountered in double_scalars\n"
     ]
    },
    {
     "name": "stdout",
     "output_type": "stream",
     "text": [
      "\n",
      "Epoch 00001: val_loss improved from inf to 0.11717, saving model to best-model-conll.hdfs\n",
      "\n",
      "Epoch 00002: val_loss improved from 0.11717 to 0.06716, saving model to best-model-conll.hdfs\n",
      "\n",
      "Epoch 00003: val_loss did not improve from 0.06716\n",
      "\n",
      "Epoch 00004: val_loss did not improve from 0.06716\n",
      "\n",
      "Epoch 00005: val_loss did not improve from 0.06716\n",
      "\n",
      "Epoch 00006: val_loss did not improve from 0.06716\n",
      "\n",
      "Epoch 00007: val_loss did not improve from 0.06716\n",
      "\n",
      "Epoch 00008: val_loss did not improve from 0.06716\n",
      "\n",
      "Epoch 00009: val_loss did not improve from 0.06716\n",
      "\n",
      "Epoch 00010: val_loss did not improve from 0.06716\n"
     ]
    },
    {
     "name": "stderr",
     "output_type": "stream",
     "text": [
      "/home/frankl1/miniconda3/envs/ner-projection/lib/python3.7/site-packages/ipykernel_launcher.py:17: RuntimeWarning: invalid value encountered in double_scalars\n"
     ]
    },
    {
     "name": "stdout",
     "output_type": "stream",
     "text": [
      "\n",
      "Epoch 00001: val_loss improved from inf to 0.04540, saving model to best-model-conll.hdfs\n",
      "\n",
      "Epoch 00002: val_loss did not improve from 0.04540\n",
      "\n",
      "Epoch 00003: val_loss did not improve from 0.04540\n",
      "\n",
      "Epoch 00004: val_loss did not improve from 0.04540\n",
      "\n",
      "Epoch 00005: val_loss did not improve from 0.04540\n",
      "\n",
      "Epoch 00006: val_loss did not improve from 0.04540\n",
      "\n",
      "Epoch 00007: val_loss did not improve from 0.04540\n",
      "\n",
      "Epoch 00008: val_loss did not improve from 0.04540\n",
      "\n",
      "Epoch 00009: val_loss did not improve from 0.04540\n",
      "\n",
      "Epoch 00010: val_loss did not improve from 0.04540\n"
     ]
    },
    {
     "name": "stderr",
     "output_type": "stream",
     "text": [
      "/home/frankl1/miniconda3/envs/ner-projection/lib/python3.7/site-packages/ipykernel_launcher.py:17: RuntimeWarning: invalid value encountered in double_scalars\n"
     ]
    },
    {
     "name": "stdout",
     "output_type": "stream",
     "text": [
      "\n",
      "Epoch 00001: val_loss improved from inf to 0.07398, saving model to best-model-conll.hdfs\n",
      "\n",
      "Epoch 00002: val_loss did not improve from 0.07398\n",
      "\n",
      "Epoch 00003: val_loss did not improve from 0.07398\n",
      "\n",
      "Epoch 00004: val_loss did not improve from 0.07398\n",
      "\n",
      "Epoch 00005: val_loss did not improve from 0.07398\n",
      "\n",
      "Epoch 00006: val_loss did not improve from 0.07398\n",
      "\n",
      "Epoch 00007: val_loss did not improve from 0.07398\n",
      "\n",
      "Epoch 00008: val_loss did not improve from 0.07398\n",
      "\n",
      "Epoch 00009: val_loss did not improve from 0.07398\n",
      "\n",
      "Epoch 00010: val_loss did not improve from 0.07398\n"
     ]
    },
    {
     "name": "stderr",
     "output_type": "stream",
     "text": [
      "/home/frankl1/miniconda3/envs/ner-projection/lib/python3.7/site-packages/ipykernel_launcher.py:17: RuntimeWarning: invalid value encountered in double_scalars\n"
     ]
    },
    {
     "name": "stdout",
     "output_type": "stream",
     "text": [
      "\n",
      "Epoch 00001: val_loss improved from inf to 0.08193, saving model to best-model-conll.hdfs\n",
      "\n",
      "Epoch 00002: val_loss did not improve from 0.08193\n",
      "\n",
      "Epoch 00003: val_loss did not improve from 0.08193\n",
      "\n",
      "Epoch 00004: val_loss did not improve from 0.08193\n",
      "\n",
      "Epoch 00005: val_loss did not improve from 0.08193\n",
      "\n",
      "Epoch 00006: val_loss did not improve from 0.08193\n",
      "\n",
      "Epoch 00007: val_loss did not improve from 0.08193\n",
      "\n",
      "Epoch 00008: val_loss did not improve from 0.08193\n",
      "\n",
      "Epoch 00009: val_loss did not improve from 0.08193\n",
      "\n",
      "Epoch 00010: val_loss did not improve from 0.08193\n"
     ]
    },
    {
     "name": "stderr",
     "output_type": "stream",
     "text": [
      "/home/frankl1/miniconda3/envs/ner-projection/lib/python3.7/site-packages/ipykernel_launcher.py:17: RuntimeWarning: invalid value encountered in double_scalars\n"
     ]
    },
    {
     "name": "stdout",
     "output_type": "stream",
     "text": [
      "\n",
      "Epoch 00001: val_loss improved from inf to 0.06995, saving model to best-model-conll.hdfs\n",
      "\n",
      "Epoch 00002: val_loss improved from 0.06995 to 0.05922, saving model to best-model-conll.hdfs\n",
      "\n",
      "Epoch 00003: val_loss did not improve from 0.05922\n",
      "\n",
      "Epoch 00004: val_loss did not improve from 0.05922\n",
      "\n",
      "Epoch 00005: val_loss did not improve from 0.05922\n",
      "\n",
      "Epoch 00006: val_loss did not improve from 0.05922\n",
      "\n",
      "Epoch 00007: val_loss did not improve from 0.05922\n",
      "\n",
      "Epoch 00008: val_loss did not improve from 0.05922\n",
      "\n",
      "Epoch 00009: val_loss did not improve from 0.05922\n",
      "\n",
      "Epoch 00010: val_loss did not improve from 0.05922\n"
     ]
    },
    {
     "name": "stderr",
     "output_type": "stream",
     "text": [
      "/home/frankl1/miniconda3/envs/ner-projection/lib/python3.7/site-packages/ipykernel_launcher.py:17: RuntimeWarning: invalid value encountered in double_scalars\n"
     ]
    },
    {
     "name": "stdout",
     "output_type": "stream",
     "text": [
      "\n",
      "Epoch 00001: val_loss improved from inf to 0.09654, saving model to best-model-conll.hdfs\n",
      "\n",
      "Epoch 00002: val_loss improved from 0.09654 to 0.08872, saving model to best-model-conll.hdfs\n",
      "\n",
      "Epoch 00003: val_loss did not improve from 0.08872\n",
      "\n",
      "Epoch 00004: val_loss did not improve from 0.08872\n",
      "\n",
      "Epoch 00005: val_loss did not improve from 0.08872\n",
      "\n",
      "Epoch 00006: val_loss did not improve from 0.08872\n",
      "\n",
      "Epoch 00007: val_loss did not improve from 0.08872\n",
      "\n",
      "Epoch 00008: val_loss did not improve from 0.08872\n",
      "\n",
      "Epoch 00009: val_loss did not improve from 0.08872\n",
      "\n",
      "Epoch 00010: val_loss did not improve from 0.08872\n"
     ]
    },
    {
     "name": "stderr",
     "output_type": "stream",
     "text": [
      "/home/frankl1/miniconda3/envs/ner-projection/lib/python3.7/site-packages/ipykernel_launcher.py:17: RuntimeWarning: invalid value encountered in double_scalars\n"
     ]
    },
    {
     "name": "stdout",
     "output_type": "stream",
     "text": [
      "AlgoCrossValIter - 3\n",
      "Model: \"sequential_3\"\n",
      "_________________________________________________________________\n",
      "Layer (type)                 Output Shape              Param #   \n",
      "=================================================================\n",
      "hidden1 (Dense)              (None, 640)               135040    \n",
      "_________________________________________________________________\n",
      "hidden2 (Dense)              (None, 160)               102560    \n",
      "_________________________________________________________________\n",
      "outputlayer (Dense)          (None, 5)                 805       \n",
      "=================================================================\n",
      "Total params: 238,405\n",
      "Trainable params: 238,405\n",
      "Non-trainable params: 0\n",
      "_________________________________________________________________\n",
      "\n",
      "Epoch 00001: val_loss improved from inf to 0.41875, saving model to best-model-conll.hdfs\n",
      "\n",
      "Epoch 00002: val_loss did not improve from 0.41875\n",
      "\n",
      "Epoch 00003: val_loss improved from 0.41875 to 0.39373, saving model to best-model-conll.hdfs\n",
      "\n",
      "Epoch 00004: val_loss improved from 0.39373 to 0.29935, saving model to best-model-conll.hdfs\n",
      "\n",
      "Epoch 00005: val_loss improved from 0.29935 to 0.29222, saving model to best-model-conll.hdfs\n",
      "\n",
      "Epoch 00006: val_loss did not improve from 0.29222\n",
      "\n",
      "Epoch 00007: val_loss did not improve from 0.29222\n",
      "\n",
      "Epoch 00008: val_loss did not improve from 0.29222\n",
      "\n",
      "Epoch 00009: val_loss did not improve from 0.29222\n",
      "\n",
      "Epoch 00010: val_loss did not improve from 0.29222\n"
     ]
    },
    {
     "name": "stderr",
     "output_type": "stream",
     "text": [
      "/home/frankl1/miniconda3/envs/ner-projection/lib/python3.7/site-packages/ipykernel_launcher.py:17: RuntimeWarning: invalid value encountered in double_scalars\n"
     ]
    },
    {
     "name": "stdout",
     "output_type": "stream",
     "text": [
      "\n",
      "Epoch 00001: val_loss improved from inf to 0.11554, saving model to best-model-conll.hdfs\n",
      "\n",
      "Epoch 00002: val_loss did not improve from 0.11554\n",
      "\n",
      "Epoch 00003: val_loss did not improve from 0.11554\n",
      "\n",
      "Epoch 00004: val_loss did not improve from 0.11554\n",
      "\n",
      "Epoch 00005: val_loss did not improve from 0.11554\n",
      "\n",
      "Epoch 00006: val_loss did not improve from 0.11554\n",
      "\n",
      "Epoch 00007: val_loss did not improve from 0.11554\n",
      "\n",
      "Epoch 00008: val_loss did not improve from 0.11554\n",
      "\n",
      "Epoch 00009: val_loss did not improve from 0.11554\n",
      "\n",
      "Epoch 00010: val_loss did not improve from 0.11554\n"
     ]
    },
    {
     "name": "stderr",
     "output_type": "stream",
     "text": [
      "/home/frankl1/miniconda3/envs/ner-projection/lib/python3.7/site-packages/ipykernel_launcher.py:17: RuntimeWarning: invalid value encountered in double_scalars\n"
     ]
    },
    {
     "name": "stdout",
     "output_type": "stream",
     "text": [
      "\n",
      "Epoch 00001: val_loss improved from inf to 0.12108, saving model to best-model-conll.hdfs\n",
      "\n",
      "Epoch 00002: val_loss improved from 0.12108 to 0.09094, saving model to best-model-conll.hdfs\n",
      "\n",
      "Epoch 00003: val_loss did not improve from 0.09094\n",
      "\n",
      "Epoch 00004: val_loss did not improve from 0.09094\n",
      "\n",
      "Epoch 00005: val_loss did not improve from 0.09094\n",
      "\n",
      "Epoch 00006: val_loss did not improve from 0.09094\n",
      "\n",
      "Epoch 00007: val_loss improved from 0.09094 to 0.08793, saving model to best-model-conll.hdfs\n",
      "\n",
      "Epoch 00008: val_loss did not improve from 0.08793\n",
      "\n",
      "Epoch 00009: val_loss did not improve from 0.08793\n",
      "\n",
      "Epoch 00010: val_loss did not improve from 0.08793\n"
     ]
    },
    {
     "name": "stderr",
     "output_type": "stream",
     "text": [
      "/home/frankl1/miniconda3/envs/ner-projection/lib/python3.7/site-packages/ipykernel_launcher.py:17: RuntimeWarning: invalid value encountered in double_scalars\n"
     ]
    },
    {
     "name": "stdout",
     "output_type": "stream",
     "text": [
      "\n",
      "Epoch 00001: val_loss improved from inf to 0.06743, saving model to best-model-conll.hdfs\n",
      "\n",
      "Epoch 00002: val_loss did not improve from 0.06743\n",
      "\n",
      "Epoch 00003: val_loss did not improve from 0.06743\n",
      "\n",
      "Epoch 00004: val_loss did not improve from 0.06743\n",
      "\n",
      "Epoch 00005: val_loss did not improve from 0.06743\n",
      "\n",
      "Epoch 00006: val_loss did not improve from 0.06743\n",
      "\n",
      "Epoch 00007: val_loss did not improve from 0.06743\n",
      "\n",
      "Epoch 00008: val_loss did not improve from 0.06743\n",
      "\n",
      "Epoch 00009: val_loss did not improve from 0.06743\n",
      "\n",
      "Epoch 00010: val_loss did not improve from 0.06743\n",
      "\n",
      "Epoch 00001: val_loss improved from inf to 0.09427, saving model to best-model-conll.hdfs\n",
      "\n",
      "Epoch 00002: val_loss improved from 0.09427 to 0.07870, saving model to best-model-conll.hdfs\n",
      "\n",
      "Epoch 00003: val_loss did not improve from 0.07870\n",
      "\n",
      "Epoch 00004: val_loss improved from 0.07870 to 0.07846, saving model to best-model-conll.hdfs\n",
      "\n",
      "Epoch 00005: val_loss did not improve from 0.07846\n",
      "\n",
      "Epoch 00006: val_loss did not improve from 0.07846\n",
      "\n",
      "Epoch 00007: val_loss did not improve from 0.07846\n",
      "\n",
      "Epoch 00008: val_loss did not improve from 0.07846\n",
      "\n",
      "Epoch 00009: val_loss did not improve from 0.07846\n",
      "\n",
      "Epoch 00010: val_loss did not improve from 0.07846\n",
      "\n",
      "Epoch 00001: val_loss improved from inf to 0.03217, saving model to best-model-conll.hdfs\n",
      "\n",
      "Epoch 00002: val_loss did not improve from 0.03217\n",
      "\n",
      "Epoch 00003: val_loss did not improve from 0.03217\n",
      "\n",
      "Epoch 00004: val_loss did not improve from 0.03217\n",
      "\n",
      "Epoch 00005: val_loss did not improve from 0.03217\n",
      "\n",
      "Epoch 00006: val_loss did not improve from 0.03217\n",
      "\n",
      "Epoch 00007: val_loss did not improve from 0.03217\n",
      "\n",
      "Epoch 00008: val_loss did not improve from 0.03217\n",
      "\n",
      "Epoch 00009: val_loss did not improve from 0.03217\n",
      "\n",
      "Epoch 00010: val_loss did not improve from 0.03217\n"
     ]
    },
    {
     "name": "stderr",
     "output_type": "stream",
     "text": [
      "/home/frankl1/miniconda3/envs/ner-projection/lib/python3.7/site-packages/ipykernel_launcher.py:17: RuntimeWarning: invalid value encountered in double_scalars\n"
     ]
    },
    {
     "name": "stdout",
     "output_type": "stream",
     "text": [
      "\n",
      "Epoch 00001: val_loss improved from inf to 0.08680, saving model to best-model-conll.hdfs\n",
      "\n",
      "Epoch 00002: val_loss did not improve from 0.08680\n",
      "\n",
      "Epoch 00003: val_loss did not improve from 0.08680\n",
      "\n",
      "Epoch 00004: val_loss did not improve from 0.08680\n",
      "\n",
      "Epoch 00005: val_loss did not improve from 0.08680\n",
      "\n",
      "Epoch 00006: val_loss did not improve from 0.08680\n",
      "\n",
      "Epoch 00007: val_loss did not improve from 0.08680\n",
      "\n",
      "Epoch 00008: val_loss did not improve from 0.08680\n",
      "\n",
      "Epoch 00009: val_loss did not improve from 0.08680\n",
      "\n",
      "Epoch 00010: val_loss did not improve from 0.08680\n",
      "\n",
      "Epoch 00001: val_loss improved from inf to 0.07789, saving model to best-model-conll.hdfs\n",
      "\n",
      "Epoch 00002: val_loss did not improve from 0.07789\n",
      "\n",
      "Epoch 00003: val_loss did not improve from 0.07789\n",
      "\n",
      "Epoch 00004: val_loss did not improve from 0.07789\n",
      "\n",
      "Epoch 00005: val_loss did not improve from 0.07789\n",
      "\n",
      "Epoch 00006: val_loss did not improve from 0.07789\n",
      "\n",
      "Epoch 00007: val_loss did not improve from 0.07789\n",
      "\n",
      "Epoch 00008: val_loss did not improve from 0.07789\n",
      "\n",
      "Epoch 00009: val_loss did not improve from 0.07789\n",
      "\n",
      "Epoch 00010: val_loss did not improve from 0.07789\n",
      "\n",
      "Epoch 00001: val_loss improved from inf to 0.06866, saving model to best-model-conll.hdfs\n",
      "\n",
      "Epoch 00002: val_loss improved from 0.06866 to 0.06620, saving model to best-model-conll.hdfs\n",
      "\n",
      "Epoch 00003: val_loss did not improve from 0.06620\n",
      "\n",
      "Epoch 00004: val_loss did not improve from 0.06620\n",
      "\n",
      "Epoch 00005: val_loss did not improve from 0.06620\n",
      "\n",
      "Epoch 00006: val_loss did not improve from 0.06620\n",
      "\n",
      "Epoch 00007: val_loss did not improve from 0.06620\n",
      "\n",
      "Epoch 00008: val_loss did not improve from 0.06620\n",
      "\n",
      "Epoch 00009: val_loss did not improve from 0.06620\n",
      "\n",
      "Epoch 00010: val_loss did not improve from 0.06620\n"
     ]
    },
    {
     "name": "stderr",
     "output_type": "stream",
     "text": [
      "/home/frankl1/miniconda3/envs/ner-projection/lib/python3.7/site-packages/ipykernel_launcher.py:17: RuntimeWarning: invalid value encountered in double_scalars\n"
     ]
    },
    {
     "name": "stdout",
     "output_type": "stream",
     "text": [
      "\n",
      "Epoch 00001: val_loss improved from inf to 0.09986, saving model to best-model-conll.hdfs\n",
      "\n",
      "Epoch 00002: val_loss improved from 0.09986 to 0.09878, saving model to best-model-conll.hdfs\n",
      "\n",
      "Epoch 00003: val_loss did not improve from 0.09878\n",
      "\n",
      "Epoch 00004: val_loss did not improve from 0.09878\n",
      "\n",
      "Epoch 00005: val_loss did not improve from 0.09878\n",
      "\n",
      "Epoch 00006: val_loss did not improve from 0.09878\n",
      "\n",
      "Epoch 00007: val_loss did not improve from 0.09878\n",
      "\n",
      "Epoch 00008: val_loss did not improve from 0.09878\n",
      "\n",
      "Epoch 00009: val_loss did not improve from 0.09878\n",
      "\n",
      "Epoch 00010: val_loss did not improve from 0.09878\n"
     ]
    },
    {
     "name": "stderr",
     "output_type": "stream",
     "text": [
      "/home/frankl1/miniconda3/envs/ner-projection/lib/python3.7/site-packages/ipykernel_launcher.py:17: RuntimeWarning: invalid value encountered in double_scalars\n"
     ]
    },
    {
     "name": "stdout",
     "output_type": "stream",
     "text": [
      "AlgoCrossValIter - 4\n",
      "Model: \"sequential_4\"\n",
      "_________________________________________________________________\n",
      "Layer (type)                 Output Shape              Param #   \n",
      "=================================================================\n",
      "hidden1 (Dense)              (None, 640)               135040    \n",
      "_________________________________________________________________\n",
      "hidden2 (Dense)              (None, 160)               102560    \n",
      "_________________________________________________________________\n",
      "outputlayer (Dense)          (None, 5)                 805       \n",
      "=================================================================\n",
      "Total params: 238,405\n",
      "Trainable params: 238,405\n",
      "Non-trainable params: 0\n",
      "_________________________________________________________________\n",
      "\n",
      "Epoch 00001: val_loss improved from inf to 0.44326, saving model to best-model-conll.hdfs\n",
      "\n",
      "Epoch 00002: val_loss improved from 0.44326 to 0.42889, saving model to best-model-conll.hdfs\n",
      "\n",
      "Epoch 00003: val_loss improved from 0.42889 to 0.32257, saving model to best-model-conll.hdfs\n",
      "\n",
      "Epoch 00004: val_loss did not improve from 0.32257\n",
      "\n",
      "Epoch 00005: val_loss did not improve from 0.32257\n",
      "\n",
      "Epoch 00006: val_loss did not improve from 0.32257\n",
      "\n",
      "Epoch 00007: val_loss did not improve from 0.32257\n",
      "\n",
      "Epoch 00008: val_loss improved from 0.32257 to 0.31330, saving model to best-model-conll.hdfs\n",
      "\n",
      "Epoch 00009: val_loss did not improve from 0.31330\n",
      "\n",
      "Epoch 00010: val_loss did not improve from 0.31330\n"
     ]
    },
    {
     "name": "stderr",
     "output_type": "stream",
     "text": [
      "/home/frankl1/miniconda3/envs/ner-projection/lib/python3.7/site-packages/ipykernel_launcher.py:17: RuntimeWarning: invalid value encountered in double_scalars\n"
     ]
    },
    {
     "name": "stdout",
     "output_type": "stream",
     "text": [
      "\n",
      "Epoch 00001: val_loss improved from inf to 0.16912, saving model to best-model-conll.hdfs\n",
      "\n",
      "Epoch 00002: val_loss did not improve from 0.16912\n",
      "\n",
      "Epoch 00003: val_loss did not improve from 0.16912\n",
      "\n",
      "Epoch 00004: val_loss did not improve from 0.16912\n",
      "\n",
      "Epoch 00005: val_loss did not improve from 0.16912\n",
      "\n",
      "Epoch 00006: val_loss did not improve from 0.16912\n",
      "\n",
      "Epoch 00007: val_loss did not improve from 0.16912\n",
      "\n",
      "Epoch 00008: val_loss did not improve from 0.16912\n",
      "\n",
      "Epoch 00009: val_loss did not improve from 0.16912\n",
      "\n",
      "Epoch 00010: val_loss did not improve from 0.16912\n"
     ]
    },
    {
     "name": "stderr",
     "output_type": "stream",
     "text": [
      "/home/frankl1/miniconda3/envs/ner-projection/lib/python3.7/site-packages/ipykernel_launcher.py:17: RuntimeWarning: invalid value encountered in double_scalars\n"
     ]
    },
    {
     "name": "stdout",
     "output_type": "stream",
     "text": [
      "\n",
      "Epoch 00001: val_loss improved from inf to 0.07733, saving model to best-model-conll.hdfs\n",
      "\n",
      "Epoch 00002: val_loss did not improve from 0.07733\n",
      "\n",
      "Epoch 00003: val_loss did not improve from 0.07733\n",
      "\n",
      "Epoch 00004: val_loss did not improve from 0.07733\n",
      "\n",
      "Epoch 00005: val_loss did not improve from 0.07733\n",
      "\n",
      "Epoch 00006: val_loss did not improve from 0.07733\n",
      "\n",
      "Epoch 00007: val_loss did not improve from 0.07733\n",
      "\n",
      "Epoch 00008: val_loss did not improve from 0.07733\n",
      "\n",
      "Epoch 00009: val_loss did not improve from 0.07733\n",
      "\n",
      "Epoch 00010: val_loss did not improve from 0.07733\n"
     ]
    },
    {
     "name": "stderr",
     "output_type": "stream",
     "text": [
      "/home/frankl1/miniconda3/envs/ner-projection/lib/python3.7/site-packages/ipykernel_launcher.py:17: RuntimeWarning: invalid value encountered in double_scalars\n"
     ]
    },
    {
     "name": "stdout",
     "output_type": "stream",
     "text": [
      "\n",
      "Epoch 00001: val_loss improved from inf to 0.12771, saving model to best-model-conll.hdfs\n",
      "\n",
      "Epoch 00002: val_loss improved from 0.12771 to 0.08931, saving model to best-model-conll.hdfs\n",
      "\n",
      "Epoch 00003: val_loss did not improve from 0.08931\n",
      "\n",
      "Epoch 00004: val_loss did not improve from 0.08931\n",
      "\n",
      "Epoch 00005: val_loss did not improve from 0.08931\n",
      "\n",
      "Epoch 00006: val_loss did not improve from 0.08931\n",
      "\n",
      "Epoch 00007: val_loss did not improve from 0.08931\n",
      "\n",
      "Epoch 00008: val_loss did not improve from 0.08931\n",
      "\n",
      "Epoch 00009: val_loss did not improve from 0.08931\n",
      "\n",
      "Epoch 00010: val_loss did not improve from 0.08931\n"
     ]
    },
    {
     "name": "stderr",
     "output_type": "stream",
     "text": [
      "/home/frankl1/miniconda3/envs/ner-projection/lib/python3.7/site-packages/ipykernel_launcher.py:17: RuntimeWarning: invalid value encountered in double_scalars\n"
     ]
    },
    {
     "name": "stdout",
     "output_type": "stream",
     "text": [
      "\n",
      "Epoch 00001: val_loss improved from inf to 0.07902, saving model to best-model-conll.hdfs\n",
      "\n",
      "Epoch 00002: val_loss did not improve from 0.07902\n",
      "\n",
      "Epoch 00003: val_loss did not improve from 0.07902\n",
      "\n",
      "Epoch 00004: val_loss did not improve from 0.07902\n",
      "\n",
      "Epoch 00005: val_loss did not improve from 0.07902\n",
      "\n",
      "Epoch 00006: val_loss did not improve from 0.07902\n",
      "\n",
      "Epoch 00007: val_loss did not improve from 0.07902\n",
      "\n",
      "Epoch 00008: val_loss did not improve from 0.07902\n",
      "\n",
      "Epoch 00009: val_loss did not improve from 0.07902\n",
      "\n",
      "Epoch 00010: val_loss did not improve from 0.07902\n"
     ]
    },
    {
     "name": "stderr",
     "output_type": "stream",
     "text": [
      "/home/frankl1/miniconda3/envs/ner-projection/lib/python3.7/site-packages/ipykernel_launcher.py:17: RuntimeWarning: invalid value encountered in double_scalars\n"
     ]
    },
    {
     "name": "stdout",
     "output_type": "stream",
     "text": [
      "\n",
      "Epoch 00001: val_loss improved from inf to 0.04177, saving model to best-model-conll.hdfs\n",
      "\n",
      "Epoch 00002: val_loss did not improve from 0.04177\n",
      "\n",
      "Epoch 00003: val_loss did not improve from 0.04177\n",
      "\n",
      "Epoch 00004: val_loss did not improve from 0.04177\n",
      "\n",
      "Epoch 00005: val_loss did not improve from 0.04177\n",
      "\n",
      "Epoch 00006: val_loss did not improve from 0.04177\n",
      "\n",
      "Epoch 00007: val_loss did not improve from 0.04177\n",
      "\n",
      "Epoch 00008: val_loss did not improve from 0.04177\n",
      "\n",
      "Epoch 00009: val_loss did not improve from 0.04177\n",
      "\n",
      "Epoch 00010: val_loss did not improve from 0.04177\n"
     ]
    },
    {
     "name": "stderr",
     "output_type": "stream",
     "text": [
      "/home/frankl1/miniconda3/envs/ner-projection/lib/python3.7/site-packages/ipykernel_launcher.py:17: RuntimeWarning: invalid value encountered in double_scalars\n"
     ]
    },
    {
     "name": "stdout",
     "output_type": "stream",
     "text": [
      "\n",
      "Epoch 00001: val_loss improved from inf to 0.14691, saving model to best-model-conll.hdfs\n",
      "\n",
      "Epoch 00002: val_loss improved from 0.14691 to 0.07908, saving model to best-model-conll.hdfs\n",
      "\n",
      "Epoch 00003: val_loss did not improve from 0.07908\n",
      "\n",
      "Epoch 00004: val_loss did not improve from 0.07908\n",
      "\n",
      "Epoch 00005: val_loss did not improve from 0.07908\n",
      "\n",
      "Epoch 00006: val_loss did not improve from 0.07908\n",
      "\n",
      "Epoch 00007: val_loss did not improve from 0.07908\n",
      "\n",
      "Epoch 00008: val_loss did not improve from 0.07908\n",
      "\n",
      "Epoch 00009: val_loss did not improve from 0.07908\n",
      "\n",
      "Epoch 00010: val_loss did not improve from 0.07908\n",
      "\n",
      "Epoch 00001: val_loss improved from inf to 0.07793, saving model to best-model-conll.hdfs\n",
      "\n",
      "Epoch 00002: val_loss did not improve from 0.07793\n",
      "\n",
      "Epoch 00003: val_loss did not improve from 0.07793\n",
      "\n",
      "Epoch 00004: val_loss did not improve from 0.07793\n",
      "\n",
      "Epoch 00005: val_loss did not improve from 0.07793\n",
      "\n",
      "Epoch 00006: val_loss did not improve from 0.07793\n",
      "\n",
      "Epoch 00007: val_loss did not improve from 0.07793\n",
      "\n",
      "Epoch 00008: val_loss did not improve from 0.07793\n",
      "\n",
      "Epoch 00009: val_loss did not improve from 0.07793\n",
      "\n",
      "Epoch 00010: val_loss did not improve from 0.07793\n"
     ]
    },
    {
     "name": "stderr",
     "output_type": "stream",
     "text": [
      "/home/frankl1/miniconda3/envs/ner-projection/lib/python3.7/site-packages/ipykernel_launcher.py:17: RuntimeWarning: invalid value encountered in double_scalars\n"
     ]
    },
    {
     "name": "stdout",
     "output_type": "stream",
     "text": [
      "\n",
      "Epoch 00001: val_loss improved from inf to 0.05263, saving model to best-model-conll.hdfs\n",
      "\n",
      "Epoch 00002: val_loss did not improve from 0.05263\n",
      "\n",
      "Epoch 00003: val_loss did not improve from 0.05263\n",
      "\n",
      "Epoch 00004: val_loss did not improve from 0.05263\n",
      "\n",
      "Epoch 00005: val_loss did not improve from 0.05263\n",
      "\n",
      "Epoch 00006: val_loss did not improve from 0.05263\n",
      "\n",
      "Epoch 00007: val_loss did not improve from 0.05263\n",
      "\n",
      "Epoch 00008: val_loss did not improve from 0.05263\n",
      "\n",
      "Epoch 00009: val_loss did not improve from 0.05263\n",
      "\n",
      "Epoch 00010: val_loss did not improve from 0.05263\n"
     ]
    },
    {
     "name": "stderr",
     "output_type": "stream",
     "text": [
      "/home/frankl1/miniconda3/envs/ner-projection/lib/python3.7/site-packages/ipykernel_launcher.py:17: RuntimeWarning: invalid value encountered in double_scalars\n"
     ]
    },
    {
     "name": "stdout",
     "output_type": "stream",
     "text": [
      "\n",
      "Epoch 00001: val_loss improved from inf to 0.07881, saving model to best-model-conll.hdfs\n",
      "\n",
      "Epoch 00002: val_loss did not improve from 0.07881\n",
      "\n",
      "Epoch 00003: val_loss did not improve from 0.07881\n",
      "\n",
      "Epoch 00004: val_loss did not improve from 0.07881\n",
      "\n",
      "Epoch 00005: val_loss did not improve from 0.07881\n",
      "\n",
      "Epoch 00006: val_loss did not improve from 0.07881\n",
      "\n",
      "Epoch 00007: val_loss did not improve from 0.07881\n",
      "\n",
      "Epoch 00008: val_loss did not improve from 0.07881\n",
      "\n",
      "Epoch 00009: val_loss did not improve from 0.07881\n",
      "\n",
      "Epoch 00010: val_loss did not improve from 0.07881\n"
     ]
    },
    {
     "name": "stderr",
     "output_type": "stream",
     "text": [
      "/home/frankl1/miniconda3/envs/ner-projection/lib/python3.7/site-packages/ipykernel_launcher.py:17: RuntimeWarning: invalid value encountered in double_scalars\n"
     ]
    },
    {
     "name": "stdout",
     "output_type": "stream",
     "text": [
      "AlgoCrossValIter - 5\n",
      "Model: \"sequential_5\"\n",
      "_________________________________________________________________\n",
      "Layer (type)                 Output Shape              Param #   \n",
      "=================================================================\n",
      "hidden1 (Dense)              (None, 640)               135040    \n",
      "_________________________________________________________________\n",
      "hidden2 (Dense)              (None, 160)               102560    \n",
      "_________________________________________________________________\n",
      "outputlayer (Dense)          (None, 5)                 805       \n",
      "=================================================================\n",
      "Total params: 238,405\n",
      "Trainable params: 238,405\n",
      "Non-trainable params: 0\n",
      "_________________________________________________________________\n",
      "\n",
      "Epoch 00001: val_loss improved from inf to 0.46890, saving model to best-model-conll.hdfs\n",
      "\n",
      "Epoch 00002: val_loss improved from 0.46890 to 0.36376, saving model to best-model-conll.hdfs\n",
      "\n",
      "Epoch 00003: val_loss improved from 0.36376 to 0.35967, saving model to best-model-conll.hdfs\n",
      "\n",
      "Epoch 00004: val_loss improved from 0.35967 to 0.31660, saving model to best-model-conll.hdfs\n",
      "\n",
      "Epoch 00005: val_loss improved from 0.31660 to 0.30603, saving model to best-model-conll.hdfs\n",
      "\n",
      "Epoch 00006: val_loss did not improve from 0.30603\n",
      "\n",
      "Epoch 00007: val_loss did not improve from 0.30603\n",
      "\n",
      "Epoch 00008: val_loss did not improve from 0.30603\n",
      "\n",
      "Epoch 00009: val_loss did not improve from 0.30603\n",
      "\n",
      "Epoch 00010: val_loss did not improve from 0.30603\n"
     ]
    },
    {
     "name": "stderr",
     "output_type": "stream",
     "text": [
      "/home/frankl1/miniconda3/envs/ner-projection/lib/python3.7/site-packages/ipykernel_launcher.py:17: RuntimeWarning: invalid value encountered in double_scalars\n"
     ]
    },
    {
     "name": "stdout",
     "output_type": "stream",
     "text": [
      "\n",
      "Epoch 00001: val_loss improved from inf to 0.13511, saving model to best-model-conll.hdfs\n",
      "\n",
      "Epoch 00002: val_loss did not improve from 0.13511\n",
      "\n",
      "Epoch 00003: val_loss did not improve from 0.13511\n",
      "\n",
      "Epoch 00004: val_loss did not improve from 0.13511\n",
      "\n",
      "Epoch 00005: val_loss did not improve from 0.13511\n",
      "\n",
      "Epoch 00006: val_loss did not improve from 0.13511\n",
      "\n",
      "Epoch 00007: val_loss did not improve from 0.13511\n",
      "\n",
      "Epoch 00008: val_loss did not improve from 0.13511\n",
      "\n",
      "Epoch 00009: val_loss did not improve from 0.13511\n",
      "\n",
      "Epoch 00010: val_loss did not improve from 0.13511\n"
     ]
    },
    {
     "name": "stderr",
     "output_type": "stream",
     "text": [
      "/home/frankl1/miniconda3/envs/ner-projection/lib/python3.7/site-packages/ipykernel_launcher.py:17: RuntimeWarning: invalid value encountered in double_scalars\n"
     ]
    },
    {
     "name": "stdout",
     "output_type": "stream",
     "text": [
      "\n",
      "Epoch 00001: val_loss improved from inf to 0.07937, saving model to best-model-conll.hdfs\n",
      "\n",
      "Epoch 00002: val_loss did not improve from 0.07937\n",
      "\n",
      "Epoch 00003: val_loss did not improve from 0.07937\n",
      "\n",
      "Epoch 00004: val_loss did not improve from 0.07937\n",
      "\n",
      "Epoch 00005: val_loss did not improve from 0.07937\n",
      "\n",
      "Epoch 00006: val_loss did not improve from 0.07937\n",
      "\n",
      "Epoch 00007: val_loss did not improve from 0.07937\n",
      "\n",
      "Epoch 00008: val_loss did not improve from 0.07937\n",
      "\n",
      "Epoch 00009: val_loss did not improve from 0.07937\n",
      "\n",
      "Epoch 00010: val_loss did not improve from 0.07937\n"
     ]
    },
    {
     "name": "stderr",
     "output_type": "stream",
     "text": [
      "/home/frankl1/miniconda3/envs/ner-projection/lib/python3.7/site-packages/ipykernel_launcher.py:17: RuntimeWarning: invalid value encountered in double_scalars\n"
     ]
    },
    {
     "name": "stdout",
     "output_type": "stream",
     "text": [
      "\n",
      "Epoch 00001: val_loss improved from inf to 0.07378, saving model to best-model-conll.hdfs\n",
      "\n",
      "Epoch 00002: val_loss did not improve from 0.07378\n",
      "\n",
      "Epoch 00003: val_loss did not improve from 0.07378\n",
      "\n",
      "Epoch 00004: val_loss did not improve from 0.07378\n",
      "\n",
      "Epoch 00005: val_loss did not improve from 0.07378\n",
      "\n",
      "Epoch 00006: val_loss did not improve from 0.07378\n",
      "\n",
      "Epoch 00007: val_loss did not improve from 0.07378\n",
      "\n",
      "Epoch 00008: val_loss did not improve from 0.07378\n",
      "\n",
      "Epoch 00009: val_loss did not improve from 0.07378\n",
      "\n",
      "Epoch 00010: val_loss did not improve from 0.07378\n",
      "\n",
      "Epoch 00001: val_loss improved from inf to 0.07831, saving model to best-model-conll.hdfs\n",
      "\n",
      "Epoch 00002: val_loss did not improve from 0.07831\n",
      "\n",
      "Epoch 00003: val_loss did not improve from 0.07831\n",
      "\n",
      "Epoch 00004: val_loss did not improve from 0.07831\n",
      "\n",
      "Epoch 00005: val_loss did not improve from 0.07831\n",
      "\n",
      "Epoch 00006: val_loss did not improve from 0.07831\n",
      "\n",
      "Epoch 00007: val_loss did not improve from 0.07831\n",
      "\n",
      "Epoch 00008: val_loss did not improve from 0.07831\n",
      "\n",
      "Epoch 00009: val_loss did not improve from 0.07831\n",
      "\n",
      "Epoch 00010: val_loss did not improve from 0.07831\n"
     ]
    },
    {
     "name": "stderr",
     "output_type": "stream",
     "text": [
      "/home/frankl1/miniconda3/envs/ner-projection/lib/python3.7/site-packages/ipykernel_launcher.py:17: RuntimeWarning: invalid value encountered in double_scalars\n"
     ]
    },
    {
     "name": "stdout",
     "output_type": "stream",
     "text": [
      "\n",
      "Epoch 00001: val_loss improved from inf to 0.05761, saving model to best-model-conll.hdfs\n",
      "\n",
      "Epoch 00002: val_loss did not improve from 0.05761\n",
      "\n",
      "Epoch 00003: val_loss did not improve from 0.05761\n",
      "\n",
      "Epoch 00004: val_loss did not improve from 0.05761\n",
      "\n",
      "Epoch 00005: val_loss improved from 0.05761 to 0.04639, saving model to best-model-conll.hdfs\n",
      "\n",
      "Epoch 00006: val_loss did not improve from 0.04639\n",
      "\n",
      "Epoch 00007: val_loss did not improve from 0.04639\n",
      "\n",
      "Epoch 00008: val_loss did not improve from 0.04639\n",
      "\n",
      "Epoch 00009: val_loss did not improve from 0.04639\n",
      "\n",
      "Epoch 00010: val_loss did not improve from 0.04639\n"
     ]
    },
    {
     "name": "stderr",
     "output_type": "stream",
     "text": [
      "/home/frankl1/miniconda3/envs/ner-projection/lib/python3.7/site-packages/ipykernel_launcher.py:17: RuntimeWarning: invalid value encountered in double_scalars\n"
     ]
    },
    {
     "name": "stdout",
     "output_type": "stream",
     "text": [
      "\n",
      "Epoch 00001: val_loss improved from inf to 0.07444, saving model to best-model-conll.hdfs\n",
      "\n",
      "Epoch 00002: val_loss did not improve from 0.07444\n",
      "\n",
      "Epoch 00003: val_loss did not improve from 0.07444\n",
      "\n",
      "Epoch 00004: val_loss did not improve from 0.07444\n",
      "\n",
      "Epoch 00005: val_loss did not improve from 0.07444\n",
      "\n",
      "Epoch 00006: val_loss did not improve from 0.07444\n",
      "\n",
      "Epoch 00007: val_loss did not improve from 0.07444\n",
      "\n",
      "Epoch 00008: val_loss did not improve from 0.07444\n",
      "\n",
      "Epoch 00009: val_loss did not improve from 0.07444\n",
      "\n",
      "Epoch 00010: val_loss did not improve from 0.07444\n",
      "\n",
      "Epoch 00001: val_loss improved from inf to 0.08616, saving model to best-model-conll.hdfs\n",
      "\n",
      "Epoch 00002: val_loss did not improve from 0.08616\n",
      "\n",
      "Epoch 00003: val_loss did not improve from 0.08616\n",
      "\n",
      "Epoch 00004: val_loss did not improve from 0.08616\n",
      "\n",
      "Epoch 00005: val_loss did not improve from 0.08616\n",
      "\n",
      "Epoch 00006: val_loss did not improve from 0.08616\n",
      "\n",
      "Epoch 00007: val_loss did not improve from 0.08616\n",
      "\n",
      "Epoch 00008: val_loss did not improve from 0.08616\n",
      "\n",
      "Epoch 00009: val_loss did not improve from 0.08616\n",
      "\n",
      "Epoch 00010: val_loss did not improve from 0.08616\n",
      "\n",
      "Epoch 00001: val_loss improved from inf to 0.08367, saving model to best-model-conll.hdfs\n",
      "\n",
      "Epoch 00002: val_loss improved from 0.08367 to 0.06338, saving model to best-model-conll.hdfs\n",
      "\n",
      "Epoch 00003: val_loss did not improve from 0.06338\n",
      "\n",
      "Epoch 00004: val_loss did not improve from 0.06338\n",
      "\n",
      "Epoch 00005: val_loss did not improve from 0.06338\n",
      "\n",
      "Epoch 00006: val_loss did not improve from 0.06338\n",
      "\n",
      "Epoch 00007: val_loss did not improve from 0.06338\n",
      "\n",
      "Epoch 00008: val_loss did not improve from 0.06338\n",
      "\n",
      "Epoch 00009: val_loss did not improve from 0.06338\n",
      "\n",
      "Epoch 00010: val_loss did not improve from 0.06338\n"
     ]
    },
    {
     "name": "stderr",
     "output_type": "stream",
     "text": [
      "/home/frankl1/miniconda3/envs/ner-projection/lib/python3.7/site-packages/ipykernel_launcher.py:17: RuntimeWarning: invalid value encountered in double_scalars\n"
     ]
    },
    {
     "name": "stdout",
     "output_type": "stream",
     "text": [
      "\n",
      "Epoch 00001: val_loss improved from inf to 0.08966, saving model to best-model-conll.hdfs\n",
      "\n",
      "Epoch 00002: val_loss improved from 0.08966 to 0.08788, saving model to best-model-conll.hdfs\n",
      "\n",
      "Epoch 00003: val_loss did not improve from 0.08788\n",
      "\n",
      "Epoch 00004: val_loss did not improve from 0.08788\n",
      "\n",
      "Epoch 00005: val_loss did not improve from 0.08788\n",
      "\n",
      "Epoch 00006: val_loss did not improve from 0.08788\n",
      "\n",
      "Epoch 00007: val_loss did not improve from 0.08788\n",
      "\n",
      "Epoch 00008: val_loss did not improve from 0.08788\n",
      "\n",
      "Epoch 00009: val_loss did not improve from 0.08788\n",
      "\n",
      "Epoch 00010: val_loss did not improve from 0.08788\n"
     ]
    },
    {
     "name": "stderr",
     "output_type": "stream",
     "text": [
      "/home/frankl1/miniconda3/envs/ner-projection/lib/python3.7/site-packages/ipykernel_launcher.py:17: RuntimeWarning: invalid value encountered in double_scalars\n"
     ]
    },
    {
     "name": "stdout",
     "output_type": "stream",
     "text": [
      "AlgoCrossValIter - 6\n",
      "Model: \"sequential_6\"\n",
      "_________________________________________________________________\n",
      "Layer (type)                 Output Shape              Param #   \n",
      "=================================================================\n",
      "hidden1 (Dense)              (None, 640)               135040    \n",
      "_________________________________________________________________\n",
      "hidden2 (Dense)              (None, 160)               102560    \n",
      "_________________________________________________________________\n",
      "outputlayer (Dense)          (None, 5)                 805       \n",
      "=================================================================\n",
      "Total params: 238,405\n",
      "Trainable params: 238,405\n",
      "Non-trainable params: 0\n",
      "_________________________________________________________________\n",
      "\n",
      "Epoch 00001: val_loss improved from inf to 0.43140, saving model to best-model-conll.hdfs\n",
      "\n",
      "Epoch 00002: val_loss improved from 0.43140 to 0.37373, saving model to best-model-conll.hdfs\n",
      "\n",
      "Epoch 00003: val_loss improved from 0.37373 to 0.33747, saving model to best-model-conll.hdfs\n",
      "\n",
      "Epoch 00004: val_loss did not improve from 0.33747\n",
      "\n",
      "Epoch 00005: val_loss improved from 0.33747 to 0.31662, saving model to best-model-conll.hdfs\n",
      "\n",
      "Epoch 00006: val_loss did not improve from 0.31662\n",
      "\n",
      "Epoch 00007: val_loss improved from 0.31662 to 0.29330, saving model to best-model-conll.hdfs\n",
      "\n",
      "Epoch 00008: val_loss did not improve from 0.29330\n",
      "\n",
      "Epoch 00009: val_loss did not improve from 0.29330\n",
      "\n",
      "Epoch 00010: val_loss did not improve from 0.29330\n"
     ]
    },
    {
     "name": "stderr",
     "output_type": "stream",
     "text": [
      "/home/frankl1/miniconda3/envs/ner-projection/lib/python3.7/site-packages/ipykernel_launcher.py:17: RuntimeWarning: invalid value encountered in double_scalars\n"
     ]
    },
    {
     "name": "stdout",
     "output_type": "stream",
     "text": [
      "\n",
      "Epoch 00001: val_loss improved from inf to 0.14801, saving model to best-model-conll.hdfs\n",
      "\n",
      "Epoch 00002: val_loss did not improve from 0.14801\n",
      "\n",
      "Epoch 00003: val_loss did not improve from 0.14801\n",
      "\n",
      "Epoch 00004: val_loss did not improve from 0.14801\n",
      "\n",
      "Epoch 00005: val_loss did not improve from 0.14801\n",
      "\n",
      "Epoch 00006: val_loss did not improve from 0.14801\n",
      "\n",
      "Epoch 00007: val_loss did not improve from 0.14801\n",
      "\n",
      "Epoch 00008: val_loss did not improve from 0.14801\n",
      "\n",
      "Epoch 00009: val_loss did not improve from 0.14801\n",
      "\n",
      "Epoch 00010: val_loss did not improve from 0.14801\n"
     ]
    },
    {
     "name": "stderr",
     "output_type": "stream",
     "text": [
      "/home/frankl1/miniconda3/envs/ner-projection/lib/python3.7/site-packages/ipykernel_launcher.py:17: RuntimeWarning: invalid value encountered in double_scalars\n"
     ]
    },
    {
     "name": "stdout",
     "output_type": "stream",
     "text": [
      "\n",
      "Epoch 00001: val_loss improved from inf to 0.07436, saving model to best-model-conll.hdfs\n",
      "\n",
      "Epoch 00002: val_loss did not improve from 0.07436\n",
      "\n",
      "Epoch 00003: val_loss did not improve from 0.07436\n",
      "\n",
      "Epoch 00004: val_loss did not improve from 0.07436\n",
      "\n",
      "Epoch 00005: val_loss did not improve from 0.07436\n",
      "\n",
      "Epoch 00006: val_loss did not improve from 0.07436\n",
      "\n",
      "Epoch 00007: val_loss did not improve from 0.07436\n",
      "\n",
      "Epoch 00008: val_loss did not improve from 0.07436\n",
      "\n",
      "Epoch 00009: val_loss did not improve from 0.07436\n",
      "\n",
      "Epoch 00010: val_loss did not improve from 0.07436\n"
     ]
    },
    {
     "name": "stderr",
     "output_type": "stream",
     "text": [
      "/home/frankl1/miniconda3/envs/ner-projection/lib/python3.7/site-packages/ipykernel_launcher.py:17: RuntimeWarning: invalid value encountered in double_scalars\n"
     ]
    },
    {
     "name": "stdout",
     "output_type": "stream",
     "text": [
      "\n",
      "Epoch 00001: val_loss improved from inf to 0.09683, saving model to best-model-conll.hdfs\n",
      "\n",
      "Epoch 00002: val_loss did not improve from 0.09683\n",
      "\n",
      "Epoch 00003: val_loss did not improve from 0.09683\n",
      "\n",
      "Epoch 00004: val_loss did not improve from 0.09683\n",
      "\n",
      "Epoch 00005: val_loss did not improve from 0.09683\n",
      "\n",
      "Epoch 00006: val_loss did not improve from 0.09683\n",
      "\n",
      "Epoch 00007: val_loss did not improve from 0.09683\n",
      "\n",
      "Epoch 00008: val_loss did not improve from 0.09683\n",
      "\n",
      "Epoch 00009: val_loss did not improve from 0.09683\n",
      "\n",
      "Epoch 00010: val_loss did not improve from 0.09683\n"
     ]
    },
    {
     "name": "stderr",
     "output_type": "stream",
     "text": [
      "/home/frankl1/miniconda3/envs/ner-projection/lib/python3.7/site-packages/ipykernel_launcher.py:17: RuntimeWarning: invalid value encountered in double_scalars\n"
     ]
    },
    {
     "name": "stdout",
     "output_type": "stream",
     "text": [
      "\n",
      "Epoch 00001: val_loss improved from inf to 0.09181, saving model to best-model-conll.hdfs\n",
      "\n",
      "Epoch 00002: val_loss did not improve from 0.09181\n",
      "\n",
      "Epoch 00003: val_loss did not improve from 0.09181\n",
      "\n",
      "Epoch 00004: val_loss did not improve from 0.09181\n",
      "\n",
      "Epoch 00005: val_loss did not improve from 0.09181\n",
      "\n",
      "Epoch 00006: val_loss did not improve from 0.09181\n",
      "\n",
      "Epoch 00007: val_loss did not improve from 0.09181\n",
      "\n",
      "Epoch 00008: val_loss did not improve from 0.09181\n",
      "\n",
      "Epoch 00009: val_loss did not improve from 0.09181\n",
      "\n",
      "Epoch 00010: val_loss did not improve from 0.09181\n"
     ]
    },
    {
     "name": "stderr",
     "output_type": "stream",
     "text": [
      "/home/frankl1/miniconda3/envs/ner-projection/lib/python3.7/site-packages/ipykernel_launcher.py:17: RuntimeWarning: invalid value encountered in double_scalars\n"
     ]
    },
    {
     "name": "stdout",
     "output_type": "stream",
     "text": [
      "\n",
      "Epoch 00001: val_loss improved from inf to 0.03634, saving model to best-model-conll.hdfs\n",
      "\n",
      "Epoch 00002: val_loss did not improve from 0.03634\n",
      "\n",
      "Epoch 00003: val_loss did not improve from 0.03634\n",
      "\n",
      "Epoch 00004: val_loss did not improve from 0.03634\n",
      "\n",
      "Epoch 00005: val_loss did not improve from 0.03634\n",
      "\n",
      "Epoch 00006: val_loss did not improve from 0.03634\n",
      "\n",
      "Epoch 00007: val_loss did not improve from 0.03634\n",
      "\n",
      "Epoch 00008: val_loss did not improve from 0.03634\n",
      "\n",
      "Epoch 00009: val_loss did not improve from 0.03634\n",
      "\n",
      "Epoch 00010: val_loss did not improve from 0.03634\n"
     ]
    },
    {
     "name": "stderr",
     "output_type": "stream",
     "text": [
      "/home/frankl1/miniconda3/envs/ner-projection/lib/python3.7/site-packages/ipykernel_launcher.py:17: RuntimeWarning: invalid value encountered in double_scalars\n"
     ]
    },
    {
     "name": "stdout",
     "output_type": "stream",
     "text": [
      "\n",
      "Epoch 00001: val_loss improved from inf to 0.06394, saving model to best-model-conll.hdfs\n",
      "\n",
      "Epoch 00002: val_loss did not improve from 0.06394\n",
      "\n",
      "Epoch 00003: val_loss did not improve from 0.06394\n",
      "\n",
      "Epoch 00004: val_loss did not improve from 0.06394\n",
      "\n",
      "Epoch 00005: val_loss did not improve from 0.06394\n",
      "\n",
      "Epoch 00006: val_loss did not improve from 0.06394\n",
      "\n",
      "Epoch 00007: val_loss did not improve from 0.06394\n",
      "\n",
      "Epoch 00008: val_loss did not improve from 0.06394\n",
      "\n",
      "Epoch 00009: val_loss did not improve from 0.06394\n",
      "\n",
      "Epoch 00010: val_loss did not improve from 0.06394\n",
      "\n",
      "Epoch 00001: val_loss improved from inf to 0.09363, saving model to best-model-conll.hdfs\n",
      "\n",
      "Epoch 00002: val_loss improved from 0.09363 to 0.08938, saving model to best-model-conll.hdfs\n",
      "\n",
      "Epoch 00003: val_loss did not improve from 0.08938\n",
      "\n",
      "Epoch 00004: val_loss did not improve from 0.08938\n",
      "\n",
      "Epoch 00005: val_loss did not improve from 0.08938\n",
      "\n",
      "Epoch 00006: val_loss did not improve from 0.08938\n",
      "\n",
      "Epoch 00007: val_loss did not improve from 0.08938\n",
      "\n",
      "Epoch 00008: val_loss did not improve from 0.08938\n",
      "\n",
      "Epoch 00009: val_loss did not improve from 0.08938\n",
      "\n",
      "Epoch 00010: val_loss did not improve from 0.08938\n"
     ]
    },
    {
     "name": "stderr",
     "output_type": "stream",
     "text": [
      "/home/frankl1/miniconda3/envs/ner-projection/lib/python3.7/site-packages/ipykernel_launcher.py:17: RuntimeWarning: invalid value encountered in double_scalars\n"
     ]
    },
    {
     "name": "stdout",
     "output_type": "stream",
     "text": [
      "\n",
      "Epoch 00001: val_loss improved from inf to 0.08235, saving model to best-model-conll.hdfs\n",
      "\n",
      "Epoch 00002: val_loss improved from 0.08235 to 0.06381, saving model to best-model-conll.hdfs\n",
      "\n",
      "Epoch 00003: val_loss did not improve from 0.06381\n",
      "\n",
      "Epoch 00004: val_loss did not improve from 0.06381\n",
      "\n",
      "Epoch 00005: val_loss did not improve from 0.06381\n",
      "\n",
      "Epoch 00006: val_loss did not improve from 0.06381\n",
      "\n",
      "Epoch 00007: val_loss did not improve from 0.06381\n",
      "\n",
      "Epoch 00008: val_loss did not improve from 0.06381\n",
      "\n",
      "Epoch 00009: val_loss did not improve from 0.06381\n",
      "\n",
      "Epoch 00010: val_loss did not improve from 0.06381\n"
     ]
    },
    {
     "name": "stderr",
     "output_type": "stream",
     "text": [
      "/home/frankl1/miniconda3/envs/ner-projection/lib/python3.7/site-packages/ipykernel_launcher.py:17: RuntimeWarning: invalid value encountered in double_scalars\n"
     ]
    },
    {
     "name": "stdout",
     "output_type": "stream",
     "text": [
      "\n",
      "Epoch 00001: val_loss improved from inf to 0.07893, saving model to best-model-conll.hdfs\n",
      "\n",
      "Epoch 00002: val_loss did not improve from 0.07893\n",
      "\n",
      "Epoch 00003: val_loss did not improve from 0.07893\n",
      "\n",
      "Epoch 00004: val_loss did not improve from 0.07893\n",
      "\n",
      "Epoch 00005: val_loss did not improve from 0.07893\n",
      "\n",
      "Epoch 00006: val_loss did not improve from 0.07893\n",
      "\n",
      "Epoch 00007: val_loss did not improve from 0.07893\n",
      "\n",
      "Epoch 00008: val_loss did not improve from 0.07893\n",
      "\n",
      "Epoch 00009: val_loss did not improve from 0.07893\n",
      "\n",
      "Epoch 00010: val_loss did not improve from 0.07893\n"
     ]
    },
    {
     "name": "stderr",
     "output_type": "stream",
     "text": [
      "/home/frankl1/miniconda3/envs/ner-projection/lib/python3.7/site-packages/ipykernel_launcher.py:17: RuntimeWarning: invalid value encountered in double_scalars\n"
     ]
    },
    {
     "name": "stdout",
     "output_type": "stream",
     "text": [
      "AlgoCrossValIter - 7\n",
      "Model: \"sequential_7\"\n",
      "_________________________________________________________________\n",
      "Layer (type)                 Output Shape              Param #   \n",
      "=================================================================\n",
      "hidden1 (Dense)              (None, 640)               135040    \n",
      "_________________________________________________________________\n",
      "hidden2 (Dense)              (None, 160)               102560    \n",
      "_________________________________________________________________\n",
      "outputlayer (Dense)          (None, 5)                 805       \n",
      "=================================================================\n",
      "Total params: 238,405\n",
      "Trainable params: 238,405\n",
      "Non-trainable params: 0\n",
      "_________________________________________________________________\n",
      "\n",
      "Epoch 00001: val_loss improved from inf to 0.43250, saving model to best-model-conll.hdfs\n",
      "\n",
      "Epoch 00002: val_loss improved from 0.43250 to 0.36677, saving model to best-model-conll.hdfs\n",
      "\n",
      "Epoch 00003: val_loss did not improve from 0.36677\n",
      "\n",
      "Epoch 00004: val_loss improved from 0.36677 to 0.33225, saving model to best-model-conll.hdfs\n",
      "\n",
      "Epoch 00005: val_loss did not improve from 0.33225\n",
      "\n",
      "Epoch 00006: val_loss improved from 0.33225 to 0.32796, saving model to best-model-conll.hdfs\n",
      "\n",
      "Epoch 00007: val_loss did not improve from 0.32796\n",
      "\n",
      "Epoch 00008: val_loss did not improve from 0.32796\n",
      "\n",
      "Epoch 00009: val_loss did not improve from 0.32796\n",
      "\n",
      "Epoch 00010: val_loss did not improve from 0.32796\n"
     ]
    },
    {
     "name": "stderr",
     "output_type": "stream",
     "text": [
      "/home/frankl1/miniconda3/envs/ner-projection/lib/python3.7/site-packages/ipykernel_launcher.py:17: RuntimeWarning: invalid value encountered in double_scalars\n"
     ]
    },
    {
     "name": "stdout",
     "output_type": "stream",
     "text": [
      "\n",
      "Epoch 00001: val_loss improved from inf to 0.22529, saving model to best-model-conll.hdfs\n",
      "\n",
      "Epoch 00002: val_loss improved from 0.22529 to 0.17868, saving model to best-model-conll.hdfs\n",
      "\n",
      "Epoch 00003: val_loss did not improve from 0.17868\n",
      "\n",
      "Epoch 00004: val_loss did not improve from 0.17868\n",
      "\n",
      "Epoch 00005: val_loss did not improve from 0.17868\n",
      "\n",
      "Epoch 00006: val_loss did not improve from 0.17868\n",
      "\n",
      "Epoch 00007: val_loss did not improve from 0.17868\n",
      "\n",
      "Epoch 00008: val_loss did not improve from 0.17868\n",
      "\n",
      "Epoch 00009: val_loss did not improve from 0.17868\n",
      "\n",
      "Epoch 00010: val_loss did not improve from 0.17868\n"
     ]
    },
    {
     "name": "stderr",
     "output_type": "stream",
     "text": [
      "/home/frankl1/miniconda3/envs/ner-projection/lib/python3.7/site-packages/ipykernel_launcher.py:17: RuntimeWarning: invalid value encountered in double_scalars\n"
     ]
    },
    {
     "name": "stdout",
     "output_type": "stream",
     "text": [
      "\n",
      "Epoch 00001: val_loss improved from inf to 0.12847, saving model to best-model-conll.hdfs\n",
      "\n",
      "Epoch 00002: val_loss improved from 0.12847 to 0.10355, saving model to best-model-conll.hdfs\n",
      "\n",
      "Epoch 00003: val_loss improved from 0.10355 to 0.09869, saving model to best-model-conll.hdfs\n",
      "\n",
      "Epoch 00004: val_loss did not improve from 0.09869\n",
      "\n",
      "Epoch 00005: val_loss improved from 0.09869 to 0.09708, saving model to best-model-conll.hdfs\n",
      "\n",
      "Epoch 00006: val_loss did not improve from 0.09708\n",
      "\n",
      "Epoch 00007: val_loss did not improve from 0.09708\n",
      "\n",
      "Epoch 00008: val_loss did not improve from 0.09708\n",
      "\n",
      "Epoch 00009: val_loss did not improve from 0.09708\n",
      "\n",
      "Epoch 00010: val_loss did not improve from 0.09708\n"
     ]
    },
    {
     "name": "stderr",
     "output_type": "stream",
     "text": [
      "/home/frankl1/miniconda3/envs/ner-projection/lib/python3.7/site-packages/ipykernel_launcher.py:17: RuntimeWarning: invalid value encountered in double_scalars\n"
     ]
    },
    {
     "name": "stdout",
     "output_type": "stream",
     "text": [
      "\n",
      "Epoch 00001: val_loss improved from inf to 0.14337, saving model to best-model-conll.hdfs\n",
      "\n",
      "Epoch 00002: val_loss improved from 0.14337 to 0.07917, saving model to best-model-conll.hdfs\n",
      "\n",
      "Epoch 00003: val_loss did not improve from 0.07917\n",
      "\n",
      "Epoch 00004: val_loss did not improve from 0.07917\n",
      "\n",
      "Epoch 00005: val_loss did not improve from 0.07917\n",
      "\n",
      "Epoch 00006: val_loss did not improve from 0.07917\n",
      "\n",
      "Epoch 00007: val_loss did not improve from 0.07917\n",
      "\n",
      "Epoch 00008: val_loss did not improve from 0.07917\n",
      "\n",
      "Epoch 00009: val_loss did not improve from 0.07917\n",
      "\n",
      "Epoch 00010: val_loss did not improve from 0.07917\n"
     ]
    },
    {
     "name": "stderr",
     "output_type": "stream",
     "text": [
      "/home/frankl1/miniconda3/envs/ner-projection/lib/python3.7/site-packages/ipykernel_launcher.py:17: RuntimeWarning: invalid value encountered in double_scalars\n"
     ]
    },
    {
     "name": "stdout",
     "output_type": "stream",
     "text": [
      "\n",
      "Epoch 00001: val_loss improved from inf to 0.08216, saving model to best-model-conll.hdfs\n",
      "\n",
      "Epoch 00002: val_loss improved from 0.08216 to 0.06437, saving model to best-model-conll.hdfs\n",
      "\n",
      "Epoch 00003: val_loss did not improve from 0.06437\n",
      "\n",
      "Epoch 00004: val_loss did not improve from 0.06437\n",
      "\n",
      "Epoch 00005: val_loss did not improve from 0.06437\n",
      "\n",
      "Epoch 00006: val_loss did not improve from 0.06437\n",
      "\n",
      "Epoch 00007: val_loss did not improve from 0.06437\n",
      "\n",
      "Epoch 00008: val_loss did not improve from 0.06437\n",
      "\n",
      "Epoch 00009: val_loss did not improve from 0.06437\n",
      "\n",
      "Epoch 00010: val_loss did not improve from 0.06437\n"
     ]
    },
    {
     "name": "stderr",
     "output_type": "stream",
     "text": [
      "/home/frankl1/miniconda3/envs/ner-projection/lib/python3.7/site-packages/ipykernel_launcher.py:17: RuntimeWarning: invalid value encountered in double_scalars\n"
     ]
    },
    {
     "name": "stdout",
     "output_type": "stream",
     "text": [
      "\n",
      "Epoch 00001: val_loss improved from inf to 0.03683, saving model to best-model-conll.hdfs\n",
      "\n",
      "Epoch 00002: val_loss did not improve from 0.03683\n",
      "\n",
      "Epoch 00003: val_loss did not improve from 0.03683\n",
      "\n",
      "Epoch 00004: val_loss did not improve from 0.03683\n",
      "\n",
      "Epoch 00005: val_loss did not improve from 0.03683\n",
      "\n",
      "Epoch 00006: val_loss did not improve from 0.03683\n",
      "\n",
      "Epoch 00007: val_loss did not improve from 0.03683\n",
      "\n",
      "Epoch 00008: val_loss did not improve from 0.03683\n",
      "\n",
      "Epoch 00009: val_loss did not improve from 0.03683\n",
      "\n",
      "Epoch 00010: val_loss did not improve from 0.03683\n"
     ]
    },
    {
     "name": "stderr",
     "output_type": "stream",
     "text": [
      "/home/frankl1/miniconda3/envs/ner-projection/lib/python3.7/site-packages/ipykernel_launcher.py:17: RuntimeWarning: invalid value encountered in double_scalars\n"
     ]
    },
    {
     "name": "stdout",
     "output_type": "stream",
     "text": [
      "\n",
      "Epoch 00001: val_loss improved from inf to 0.14461, saving model to best-model-conll.hdfs\n",
      "\n",
      "Epoch 00002: val_loss improved from 0.14461 to 0.08794, saving model to best-model-conll.hdfs\n",
      "\n",
      "Epoch 00003: val_loss did not improve from 0.08794\n",
      "\n",
      "Epoch 00004: val_loss did not improve from 0.08794\n",
      "\n",
      "Epoch 00005: val_loss did not improve from 0.08794\n",
      "\n",
      "Epoch 00006: val_loss did not improve from 0.08794\n",
      "\n",
      "Epoch 00007: val_loss did not improve from 0.08794\n",
      "\n",
      "Epoch 00008: val_loss did not improve from 0.08794\n",
      "\n",
      "Epoch 00009: val_loss did not improve from 0.08794\n",
      "\n",
      "Epoch 00010: val_loss did not improve from 0.08794\n",
      "\n",
      "Epoch 00001: val_loss improved from inf to 0.07722, saving model to best-model-conll.hdfs\n",
      "\n",
      "Epoch 00002: val_loss did not improve from 0.07722\n",
      "\n",
      "Epoch 00003: val_loss did not improve from 0.07722\n",
      "\n",
      "Epoch 00004: val_loss did not improve from 0.07722\n",
      "\n",
      "Epoch 00005: val_loss did not improve from 0.07722\n",
      "\n",
      "Epoch 00006: val_loss did not improve from 0.07722\n",
      "\n",
      "Epoch 00007: val_loss did not improve from 0.07722\n",
      "\n",
      "Epoch 00008: val_loss did not improve from 0.07722\n",
      "\n",
      "Epoch 00009: val_loss did not improve from 0.07722\n",
      "\n",
      "Epoch 00010: val_loss did not improve from 0.07722\n",
      "\n",
      "Epoch 00001: val_loss improved from inf to 0.06645, saving model to best-model-conll.hdfs\n",
      "\n",
      "Epoch 00002: val_loss improved from 0.06645 to 0.05312, saving model to best-model-conll.hdfs\n",
      "\n",
      "Epoch 00003: val_loss did not improve from 0.05312\n",
      "\n",
      "Epoch 00004: val_loss did not improve from 0.05312\n",
      "\n",
      "Epoch 00005: val_loss did not improve from 0.05312\n",
      "\n",
      "Epoch 00006: val_loss did not improve from 0.05312\n",
      "\n",
      "Epoch 00007: val_loss did not improve from 0.05312\n",
      "\n",
      "Epoch 00008: val_loss did not improve from 0.05312\n",
      "\n",
      "Epoch 00009: val_loss did not improve from 0.05312\n",
      "\n",
      "Epoch 00010: val_loss did not improve from 0.05312\n"
     ]
    },
    {
     "name": "stderr",
     "output_type": "stream",
     "text": [
      "/home/frankl1/miniconda3/envs/ner-projection/lib/python3.7/site-packages/ipykernel_launcher.py:17: RuntimeWarning: invalid value encountered in double_scalars\n"
     ]
    },
    {
     "name": "stdout",
     "output_type": "stream",
     "text": [
      "\n",
      "Epoch 00001: val_loss improved from inf to 0.08436, saving model to best-model-conll.hdfs\n",
      "\n",
      "Epoch 00002: val_loss did not improve from 0.08436\n",
      "\n",
      "Epoch 00003: val_loss did not improve from 0.08436\n",
      "\n",
      "Epoch 00004: val_loss did not improve from 0.08436\n",
      "\n",
      "Epoch 00005: val_loss did not improve from 0.08436\n",
      "\n",
      "Epoch 00006: val_loss did not improve from 0.08436\n",
      "\n",
      "Epoch 00007: val_loss did not improve from 0.08436\n",
      "\n",
      "Epoch 00008: val_loss did not improve from 0.08436\n",
      "\n",
      "Epoch 00009: val_loss did not improve from 0.08436\n",
      "\n",
      "Epoch 00010: val_loss did not improve from 0.08436\n"
     ]
    },
    {
     "name": "stderr",
     "output_type": "stream",
     "text": [
      "/home/frankl1/miniconda3/envs/ner-projection/lib/python3.7/site-packages/ipykernel_launcher.py:17: RuntimeWarning: invalid value encountered in double_scalars\n"
     ]
    },
    {
     "name": "stdout",
     "output_type": "stream",
     "text": [
      "AlgoCrossValIter - 8\n",
      "Model: \"sequential_8\"\n",
      "_________________________________________________________________\n",
      "Layer (type)                 Output Shape              Param #   \n",
      "=================================================================\n",
      "hidden1 (Dense)              (None, 640)               135040    \n",
      "_________________________________________________________________\n",
      "hidden2 (Dense)              (None, 160)               102560    \n",
      "_________________________________________________________________\n",
      "outputlayer (Dense)          (None, 5)                 805       \n",
      "=================================================================\n",
      "Total params: 238,405\n",
      "Trainable params: 238,405\n",
      "Non-trainable params: 0\n",
      "_________________________________________________________________\n",
      "\n",
      "Epoch 00001: val_loss improved from inf to 0.44038, saving model to best-model-conll.hdfs\n",
      "\n",
      "Epoch 00002: val_loss improved from 0.44038 to 0.39434, saving model to best-model-conll.hdfs\n",
      "\n",
      "Epoch 00003: val_loss improved from 0.39434 to 0.34648, saving model to best-model-conll.hdfs\n",
      "\n",
      "Epoch 00004: val_loss did not improve from 0.34648\n",
      "\n",
      "Epoch 00005: val_loss improved from 0.34648 to 0.32703, saving model to best-model-conll.hdfs\n",
      "\n",
      "Epoch 00006: val_loss improved from 0.32703 to 0.32443, saving model to best-model-conll.hdfs\n",
      "\n",
      "Epoch 00007: val_loss did not improve from 0.32443\n",
      "\n",
      "Epoch 00008: val_loss improved from 0.32443 to 0.31729, saving model to best-model-conll.hdfs\n",
      "\n",
      "Epoch 00009: val_loss did not improve from 0.31729\n",
      "\n",
      "Epoch 00010: val_loss did not improve from 0.31729\n"
     ]
    },
    {
     "name": "stderr",
     "output_type": "stream",
     "text": [
      "/home/frankl1/miniconda3/envs/ner-projection/lib/python3.7/site-packages/ipykernel_launcher.py:17: RuntimeWarning: invalid value encountered in double_scalars\n"
     ]
    },
    {
     "name": "stdout",
     "output_type": "stream",
     "text": [
      "\n",
      "Epoch 00001: val_loss improved from inf to 0.12536, saving model to best-model-conll.hdfs\n",
      "\n",
      "Epoch 00002: val_loss did not improve from 0.12536\n",
      "\n",
      "Epoch 00003: val_loss did not improve from 0.12536\n",
      "\n",
      "Epoch 00004: val_loss did not improve from 0.12536\n",
      "\n",
      "Epoch 00005: val_loss did not improve from 0.12536\n",
      "\n",
      "Epoch 00006: val_loss did not improve from 0.12536\n",
      "\n",
      "Epoch 00007: val_loss did not improve from 0.12536\n",
      "\n",
      "Epoch 00008: val_loss did not improve from 0.12536\n",
      "\n",
      "Epoch 00009: val_loss did not improve from 0.12536\n",
      "\n",
      "Epoch 00010: val_loss did not improve from 0.12536\n"
     ]
    },
    {
     "name": "stderr",
     "output_type": "stream",
     "text": [
      "/home/frankl1/miniconda3/envs/ner-projection/lib/python3.7/site-packages/ipykernel_launcher.py:17: RuntimeWarning: invalid value encountered in double_scalars\n"
     ]
    },
    {
     "name": "stdout",
     "output_type": "stream",
     "text": [
      "\n",
      "Epoch 00001: val_loss improved from inf to 0.12654, saving model to best-model-conll.hdfs\n",
      "\n",
      "Epoch 00002: val_loss improved from 0.12654 to 0.08729, saving model to best-model-conll.hdfs\n",
      "\n",
      "Epoch 00003: val_loss improved from 0.08729 to 0.07896, saving model to best-model-conll.hdfs\n",
      "\n",
      "Epoch 00004: val_loss did not improve from 0.07896\n",
      "\n",
      "Epoch 00005: val_loss did not improve from 0.07896\n",
      "\n",
      "Epoch 00006: val_loss did not improve from 0.07896\n",
      "\n",
      "Epoch 00007: val_loss did not improve from 0.07896\n",
      "\n",
      "Epoch 00008: val_loss did not improve from 0.07896\n",
      "\n",
      "Epoch 00009: val_loss did not improve from 0.07896\n",
      "\n",
      "Epoch 00010: val_loss did not improve from 0.07896\n"
     ]
    },
    {
     "name": "stderr",
     "output_type": "stream",
     "text": [
      "/home/frankl1/miniconda3/envs/ner-projection/lib/python3.7/site-packages/ipykernel_launcher.py:17: RuntimeWarning: invalid value encountered in double_scalars\n"
     ]
    },
    {
     "name": "stdout",
     "output_type": "stream",
     "text": [
      "\n",
      "Epoch 00001: val_loss improved from inf to 0.07974, saving model to best-model-conll.hdfs\n",
      "\n",
      "Epoch 00002: val_loss improved from 0.07974 to 0.07859, saving model to best-model-conll.hdfs\n",
      "\n",
      "Epoch 00003: val_loss did not improve from 0.07859\n",
      "\n",
      "Epoch 00004: val_loss did not improve from 0.07859\n",
      "\n",
      "Epoch 00005: val_loss did not improve from 0.07859\n",
      "\n",
      "Epoch 00006: val_loss did not improve from 0.07859\n",
      "\n",
      "Epoch 00007: val_loss did not improve from 0.07859\n",
      "\n",
      "Epoch 00008: val_loss did not improve from 0.07859\n",
      "\n",
      "Epoch 00009: val_loss did not improve from 0.07859\n",
      "\n",
      "Epoch 00010: val_loss did not improve from 0.07859\n"
     ]
    },
    {
     "name": "stderr",
     "output_type": "stream",
     "text": [
      "/home/frankl1/miniconda3/envs/ner-projection/lib/python3.7/site-packages/ipykernel_launcher.py:17: RuntimeWarning: invalid value encountered in double_scalars\n"
     ]
    },
    {
     "name": "stdout",
     "output_type": "stream",
     "text": [
      "\n",
      "Epoch 00001: val_loss improved from inf to 0.12501, saving model to best-model-conll.hdfs\n",
      "\n",
      "Epoch 00002: val_loss improved from 0.12501 to 0.06778, saving model to best-model-conll.hdfs\n",
      "\n",
      "Epoch 00003: val_loss did not improve from 0.06778\n",
      "\n",
      "Epoch 00004: val_loss did not improve from 0.06778\n",
      "\n",
      "Epoch 00005: val_loss did not improve from 0.06778\n",
      "\n",
      "Epoch 00006: val_loss did not improve from 0.06778\n",
      "\n",
      "Epoch 00007: val_loss did not improve from 0.06778\n",
      "\n",
      "Epoch 00008: val_loss did not improve from 0.06778\n",
      "\n",
      "Epoch 00009: val_loss did not improve from 0.06778\n",
      "\n",
      "Epoch 00010: val_loss did not improve from 0.06778\n"
     ]
    },
    {
     "name": "stderr",
     "output_type": "stream",
     "text": [
      "/home/frankl1/miniconda3/envs/ner-projection/lib/python3.7/site-packages/ipykernel_launcher.py:17: RuntimeWarning: invalid value encountered in double_scalars\n"
     ]
    },
    {
     "name": "stdout",
     "output_type": "stream",
     "text": [
      "\n",
      "Epoch 00001: val_loss improved from inf to 0.02992, saving model to best-model-conll.hdfs\n",
      "\n",
      "Epoch 00002: val_loss did not improve from 0.02992\n",
      "\n",
      "Epoch 00003: val_loss did not improve from 0.02992\n",
      "\n",
      "Epoch 00004: val_loss did not improve from 0.02992\n",
      "\n",
      "Epoch 00005: val_loss did not improve from 0.02992\n",
      "\n",
      "Epoch 00006: val_loss did not improve from 0.02992\n",
      "\n",
      "Epoch 00007: val_loss did not improve from 0.02992\n",
      "\n",
      "Epoch 00008: val_loss did not improve from 0.02992\n",
      "\n",
      "Epoch 00009: val_loss did not improve from 0.02992\n",
      "\n",
      "Epoch 00010: val_loss did not improve from 0.02992\n"
     ]
    },
    {
     "name": "stderr",
     "output_type": "stream",
     "text": [
      "/home/frankl1/miniconda3/envs/ner-projection/lib/python3.7/site-packages/ipykernel_launcher.py:17: RuntimeWarning: invalid value encountered in double_scalars\n"
     ]
    },
    {
     "name": "stdout",
     "output_type": "stream",
     "text": [
      "\n",
      "Epoch 00001: val_loss improved from inf to 0.09367, saving model to best-model-conll.hdfs\n",
      "\n",
      "Epoch 00002: val_loss improved from 0.09367 to 0.08390, saving model to best-model-conll.hdfs\n",
      "\n",
      "Epoch 00003: val_loss did not improve from 0.08390\n",
      "\n",
      "Epoch 00004: val_loss did not improve from 0.08390\n",
      "\n",
      "Epoch 00005: val_loss did not improve from 0.08390\n",
      "\n",
      "Epoch 00006: val_loss did not improve from 0.08390\n",
      "\n",
      "Epoch 00007: val_loss did not improve from 0.08390\n",
      "\n",
      "Epoch 00008: val_loss did not improve from 0.08390\n",
      "\n",
      "Epoch 00009: val_loss did not improve from 0.08390\n",
      "\n",
      "Epoch 00010: val_loss did not improve from 0.08390\n"
     ]
    },
    {
     "name": "stderr",
     "output_type": "stream",
     "text": [
      "/home/frankl1/miniconda3/envs/ner-projection/lib/python3.7/site-packages/ipykernel_launcher.py:17: RuntimeWarning: invalid value encountered in double_scalars\n"
     ]
    },
    {
     "name": "stdout",
     "output_type": "stream",
     "text": [
      "\n",
      "Epoch 00001: val_loss improved from inf to 0.08492, saving model to best-model-conll.hdfs\n",
      "\n",
      "Epoch 00002: val_loss did not improve from 0.08492\n",
      "\n",
      "Epoch 00003: val_loss did not improve from 0.08492\n",
      "\n",
      "Epoch 00004: val_loss did not improve from 0.08492\n",
      "\n",
      "Epoch 00005: val_loss did not improve from 0.08492\n",
      "\n",
      "Epoch 00006: val_loss did not improve from 0.08492\n",
      "\n",
      "Epoch 00007: val_loss did not improve from 0.08492\n",
      "\n",
      "Epoch 00008: val_loss did not improve from 0.08492\n",
      "\n",
      "Epoch 00009: val_loss did not improve from 0.08492\n",
      "\n",
      "Epoch 00010: val_loss did not improve from 0.08492\n",
      "\n",
      "Epoch 00001: val_loss improved from inf to 0.06004, saving model to best-model-conll.hdfs\n",
      "\n",
      "Epoch 00002: val_loss did not improve from 0.06004\n",
      "\n",
      "Epoch 00003: val_loss did not improve from 0.06004\n",
      "\n",
      "Epoch 00004: val_loss did not improve from 0.06004\n",
      "\n",
      "Epoch 00005: val_loss did not improve from 0.06004\n",
      "\n",
      "Epoch 00006: val_loss did not improve from 0.06004\n",
      "\n",
      "Epoch 00007: val_loss did not improve from 0.06004\n",
      "\n",
      "Epoch 00008: val_loss did not improve from 0.06004\n",
      "\n",
      "Epoch 00009: val_loss did not improve from 0.06004\n",
      "\n",
      "Epoch 00010: val_loss did not improve from 0.06004\n"
     ]
    },
    {
     "name": "stderr",
     "output_type": "stream",
     "text": [
      "/home/frankl1/miniconda3/envs/ner-projection/lib/python3.7/site-packages/ipykernel_launcher.py:17: RuntimeWarning: invalid value encountered in double_scalars\n"
     ]
    },
    {
     "name": "stdout",
     "output_type": "stream",
     "text": [
      "\n",
      "Epoch 00001: val_loss improved from inf to 0.08514, saving model to best-model-conll.hdfs\n",
      "\n",
      "Epoch 00002: val_loss did not improve from 0.08514\n",
      "\n",
      "Epoch 00003: val_loss did not improve from 0.08514\n",
      "\n",
      "Epoch 00004: val_loss did not improve from 0.08514\n",
      "\n",
      "Epoch 00005: val_loss did not improve from 0.08514\n",
      "\n",
      "Epoch 00006: val_loss did not improve from 0.08514\n",
      "\n",
      "Epoch 00007: val_loss did not improve from 0.08514\n",
      "\n",
      "Epoch 00008: val_loss did not improve from 0.08514\n",
      "\n",
      "Epoch 00009: val_loss did not improve from 0.08514\n",
      "\n",
      "Epoch 00010: val_loss did not improve from 0.08514\n"
     ]
    },
    {
     "name": "stderr",
     "output_type": "stream",
     "text": [
      "/home/frankl1/miniconda3/envs/ner-projection/lib/python3.7/site-packages/ipykernel_launcher.py:17: RuntimeWarning: invalid value encountered in double_scalars\n"
     ]
    },
    {
     "name": "stdout",
     "output_type": "stream",
     "text": [
      "AlgoCrossValIter - 9\n",
      "Model: \"sequential_9\"\n",
      "_________________________________________________________________\n",
      "Layer (type)                 Output Shape              Param #   \n",
      "=================================================================\n",
      "hidden1 (Dense)              (None, 640)               135040    \n",
      "_________________________________________________________________\n",
      "hidden2 (Dense)              (None, 160)               102560    \n",
      "_________________________________________________________________\n",
      "outputlayer (Dense)          (None, 5)                 805       \n",
      "=================================================================\n",
      "Total params: 238,405\n",
      "Trainable params: 238,405\n",
      "Non-trainable params: 0\n",
      "_________________________________________________________________\n",
      "\n",
      "Epoch 00001: val_loss improved from inf to 0.43451, saving model to best-model-conll.hdfs\n",
      "\n",
      "Epoch 00002: val_loss improved from 0.43451 to 0.39154, saving model to best-model-conll.hdfs\n",
      "\n",
      "Epoch 00003: val_loss improved from 0.39154 to 0.29928, saving model to best-model-conll.hdfs\n",
      "\n",
      "Epoch 00004: val_loss did not improve from 0.29928\n",
      "\n",
      "Epoch 00005: val_loss did not improve from 0.29928\n",
      "\n",
      "Epoch 00006: val_loss did not improve from 0.29928\n",
      "\n",
      "Epoch 00007: val_loss did not improve from 0.29928\n",
      "\n",
      "Epoch 00008: val_loss did not improve from 0.29928\n",
      "\n",
      "Epoch 00009: val_loss did not improve from 0.29928\n",
      "\n",
      "Epoch 00010: val_loss did not improve from 0.29928\n"
     ]
    },
    {
     "name": "stderr",
     "output_type": "stream",
     "text": [
      "/home/frankl1/miniconda3/envs/ner-projection/lib/python3.7/site-packages/ipykernel_launcher.py:17: RuntimeWarning: invalid value encountered in double_scalars\n"
     ]
    },
    {
     "name": "stdout",
     "output_type": "stream",
     "text": [
      "\n",
      "Epoch 00001: val_loss improved from inf to 0.15639, saving model to best-model-conll.hdfs\n",
      "\n",
      "Epoch 00002: val_loss did not improve from 0.15639\n",
      "\n",
      "Epoch 00003: val_loss did not improve from 0.15639\n",
      "\n",
      "Epoch 00004: val_loss did not improve from 0.15639\n",
      "\n",
      "Epoch 00005: val_loss did not improve from 0.15639\n",
      "\n",
      "Epoch 00006: val_loss did not improve from 0.15639\n",
      "\n",
      "Epoch 00007: val_loss did not improve from 0.15639\n",
      "\n",
      "Epoch 00008: val_loss did not improve from 0.15639\n",
      "\n",
      "Epoch 00009: val_loss did not improve from 0.15639\n",
      "\n",
      "Epoch 00010: val_loss did not improve from 0.15639\n"
     ]
    },
    {
     "name": "stderr",
     "output_type": "stream",
     "text": [
      "/home/frankl1/miniconda3/envs/ner-projection/lib/python3.7/site-packages/ipykernel_launcher.py:17: RuntimeWarning: invalid value encountered in double_scalars\n"
     ]
    },
    {
     "name": "stdout",
     "output_type": "stream",
     "text": [
      "\n",
      "Epoch 00001: val_loss improved from inf to 0.07509, saving model to best-model-conll.hdfs\n",
      "\n",
      "Epoch 00002: val_loss did not improve from 0.07509\n",
      "\n",
      "Epoch 00003: val_loss did not improve from 0.07509\n",
      "\n",
      "Epoch 00004: val_loss did not improve from 0.07509\n",
      "\n",
      "Epoch 00005: val_loss did not improve from 0.07509\n",
      "\n",
      "Epoch 00006: val_loss did not improve from 0.07509\n",
      "\n",
      "Epoch 00007: val_loss did not improve from 0.07509\n",
      "\n",
      "Epoch 00008: val_loss did not improve from 0.07509\n",
      "\n",
      "Epoch 00009: val_loss did not improve from 0.07509\n",
      "\n",
      "Epoch 00010: val_loss did not improve from 0.07509\n"
     ]
    },
    {
     "name": "stderr",
     "output_type": "stream",
     "text": [
      "/home/frankl1/miniconda3/envs/ner-projection/lib/python3.7/site-packages/ipykernel_launcher.py:17: RuntimeWarning: invalid value encountered in double_scalars\n"
     ]
    },
    {
     "name": "stdout",
     "output_type": "stream",
     "text": [
      "\n",
      "Epoch 00001: val_loss improved from inf to 0.07837, saving model to best-model-conll.hdfs\n",
      "\n",
      "Epoch 00002: val_loss did not improve from 0.07837\n",
      "\n",
      "Epoch 00003: val_loss did not improve from 0.07837\n",
      "\n",
      "Epoch 00004: val_loss did not improve from 0.07837\n",
      "\n",
      "Epoch 00005: val_loss did not improve from 0.07837\n",
      "\n",
      "Epoch 00006: val_loss did not improve from 0.07837\n",
      "\n",
      "Epoch 00007: val_loss did not improve from 0.07837\n",
      "\n",
      "Epoch 00008: val_loss did not improve from 0.07837\n",
      "\n",
      "Epoch 00009: val_loss did not improve from 0.07837\n",
      "\n",
      "Epoch 00010: val_loss did not improve from 0.07837\n"
     ]
    },
    {
     "name": "stderr",
     "output_type": "stream",
     "text": [
      "/home/frankl1/miniconda3/envs/ner-projection/lib/python3.7/site-packages/ipykernel_launcher.py:17: RuntimeWarning: invalid value encountered in double_scalars\n"
     ]
    },
    {
     "name": "stdout",
     "output_type": "stream",
     "text": [
      "\n",
      "Epoch 00001: val_loss improved from inf to 0.10644, saving model to best-model-conll.hdfs\n",
      "\n",
      "Epoch 00002: val_loss improved from 0.10644 to 0.05850, saving model to best-model-conll.hdfs\n",
      "\n",
      "Epoch 00003: val_loss did not improve from 0.05850\n",
      "\n",
      "Epoch 00004: val_loss did not improve from 0.05850\n",
      "\n",
      "Epoch 00005: val_loss did not improve from 0.05850\n",
      "\n",
      "Epoch 00006: val_loss did not improve from 0.05850\n",
      "\n",
      "Epoch 00007: val_loss did not improve from 0.05850\n",
      "\n",
      "Epoch 00008: val_loss did not improve from 0.05850\n",
      "\n",
      "Epoch 00009: val_loss did not improve from 0.05850\n",
      "\n",
      "Epoch 00010: val_loss did not improve from 0.05850\n"
     ]
    },
    {
     "name": "stderr",
     "output_type": "stream",
     "text": [
      "/home/frankl1/miniconda3/envs/ner-projection/lib/python3.7/site-packages/ipykernel_launcher.py:17: RuntimeWarning: invalid value encountered in double_scalars\n"
     ]
    },
    {
     "name": "stdout",
     "output_type": "stream",
     "text": [
      "\n",
      "Epoch 00001: val_loss improved from inf to 0.03811, saving model to best-model-conll.hdfs\n",
      "\n",
      "Epoch 00002: val_loss did not improve from 0.03811\n",
      "\n",
      "Epoch 00003: val_loss did not improve from 0.03811\n",
      "\n",
      "Epoch 00004: val_loss did not improve from 0.03811\n",
      "\n",
      "Epoch 00005: val_loss did not improve from 0.03811\n",
      "\n",
      "Epoch 00006: val_loss did not improve from 0.03811\n",
      "\n",
      "Epoch 00007: val_loss did not improve from 0.03811\n",
      "\n",
      "Epoch 00008: val_loss did not improve from 0.03811\n",
      "\n",
      "Epoch 00009: val_loss did not improve from 0.03811\n",
      "\n",
      "Epoch 00010: val_loss did not improve from 0.03811\n"
     ]
    },
    {
     "name": "stderr",
     "output_type": "stream",
     "text": [
      "/home/frankl1/miniconda3/envs/ner-projection/lib/python3.7/site-packages/ipykernel_launcher.py:17: RuntimeWarning: invalid value encountered in double_scalars\n"
     ]
    },
    {
     "name": "stdout",
     "output_type": "stream",
     "text": [
      "\n",
      "Epoch 00001: val_loss improved from inf to 0.08699, saving model to best-model-conll.hdfs\n",
      "\n",
      "Epoch 00002: val_loss did not improve from 0.08699\n",
      "\n",
      "Epoch 00003: val_loss did not improve from 0.08699\n",
      "\n",
      "Epoch 00004: val_loss did not improve from 0.08699\n",
      "\n",
      "Epoch 00005: val_loss did not improve from 0.08699\n",
      "\n",
      "Epoch 00006: val_loss did not improve from 0.08699\n",
      "\n",
      "Epoch 00007: val_loss did not improve from 0.08699\n",
      "\n",
      "Epoch 00008: val_loss did not improve from 0.08699\n",
      "\n",
      "Epoch 00009: val_loss did not improve from 0.08699\n",
      "\n",
      "Epoch 00010: val_loss did not improve from 0.08699\n"
     ]
    },
    {
     "name": "stderr",
     "output_type": "stream",
     "text": [
      "/home/frankl1/miniconda3/envs/ner-projection/lib/python3.7/site-packages/ipykernel_launcher.py:17: RuntimeWarning: invalid value encountered in double_scalars\n"
     ]
    },
    {
     "name": "stdout",
     "output_type": "stream",
     "text": [
      "\n",
      "Epoch 00001: val_loss improved from inf to 0.08102, saving model to best-model-conll.hdfs\n",
      "\n",
      "Epoch 00002: val_loss did not improve from 0.08102\n",
      "\n",
      "Epoch 00003: val_loss did not improve from 0.08102\n",
      "\n",
      "Epoch 00004: val_loss did not improve from 0.08102\n",
      "\n",
      "Epoch 00005: val_loss did not improve from 0.08102\n",
      "\n",
      "Epoch 00006: val_loss did not improve from 0.08102\n",
      "\n",
      "Epoch 00007: val_loss did not improve from 0.08102\n",
      "\n",
      "Epoch 00008: val_loss did not improve from 0.08102\n",
      "\n",
      "Epoch 00009: val_loss did not improve from 0.08102\n",
      "\n",
      "Epoch 00010: val_loss did not improve from 0.08102\n",
      "\n",
      "Epoch 00001: val_loss improved from inf to 0.07085, saving model to best-model-conll.hdfs\n",
      "\n",
      "Epoch 00002: val_loss improved from 0.07085 to 0.06012, saving model to best-model-conll.hdfs\n",
      "\n",
      "Epoch 00003: val_loss did not improve from 0.06012\n",
      "\n",
      "Epoch 00004: val_loss did not improve from 0.06012\n",
      "\n",
      "Epoch 00005: val_loss did not improve from 0.06012\n",
      "\n",
      "Epoch 00006: val_loss did not improve from 0.06012\n",
      "\n",
      "Epoch 00007: val_loss did not improve from 0.06012\n",
      "\n",
      "Epoch 00008: val_loss did not improve from 0.06012\n",
      "\n",
      "Epoch 00009: val_loss did not improve from 0.06012\n",
      "\n",
      "Epoch 00010: val_loss did not improve from 0.06012\n"
     ]
    },
    {
     "name": "stderr",
     "output_type": "stream",
     "text": [
      "/home/frankl1/miniconda3/envs/ner-projection/lib/python3.7/site-packages/ipykernel_launcher.py:17: RuntimeWarning: invalid value encountered in double_scalars\n"
     ]
    },
    {
     "name": "stdout",
     "output_type": "stream",
     "text": [
      "\n",
      "Epoch 00001: val_loss improved from inf to 0.08381, saving model to best-model-conll.hdfs\n",
      "\n",
      "Epoch 00002: val_loss did not improve from 0.08381\n",
      "\n",
      "Epoch 00003: val_loss did not improve from 0.08381\n",
      "\n",
      "Epoch 00004: val_loss did not improve from 0.08381\n",
      "\n",
      "Epoch 00005: val_loss did not improve from 0.08381\n",
      "\n",
      "Epoch 00006: val_loss did not improve from 0.08381\n",
      "\n",
      "Epoch 00007: val_loss did not improve from 0.08381\n",
      "\n",
      "Epoch 00008: val_loss did not improve from 0.08381\n",
      "\n",
      "Epoch 00009: val_loss did not improve from 0.08381\n",
      "\n",
      "Epoch 00010: val_loss did not improve from 0.08381\n"
     ]
    },
    {
     "name": "stderr",
     "output_type": "stream",
     "text": [
      "/home/frankl1/miniconda3/envs/ner-projection/lib/python3.7/site-packages/ipykernel_launcher.py:17: RuntimeWarning: invalid value encountered in double_scalars\n"
     ]
    },
    {
     "name": "stdout",
     "output_type": "stream",
     "text": [
      "AlgoCrossValIter - 10\n",
      "Model: \"sequential_10\"\n",
      "_________________________________________________________________\n",
      "Layer (type)                 Output Shape              Param #   \n",
      "=================================================================\n",
      "hidden1 (Dense)              (None, 640)               135040    \n",
      "_________________________________________________________________\n",
      "hidden2 (Dense)              (None, 160)               102560    \n",
      "_________________________________________________________________\n",
      "outputlayer (Dense)          (None, 5)                 805       \n",
      "=================================================================\n",
      "Total params: 238,405\n",
      "Trainable params: 238,405\n",
      "Non-trainable params: 0\n",
      "_________________________________________________________________\n",
      "\n",
      "Epoch 00001: val_loss improved from inf to 0.52630, saving model to best-model-conll.hdfs\n",
      "\n",
      "Epoch 00002: val_loss improved from 0.52630 to 0.40790, saving model to best-model-conll.hdfs\n",
      "\n",
      "Epoch 00003: val_loss improved from 0.40790 to 0.36896, saving model to best-model-conll.hdfs\n",
      "\n",
      "Epoch 00004: val_loss improved from 0.36896 to 0.34985, saving model to best-model-conll.hdfs\n",
      "\n",
      "Epoch 00005: val_loss improved from 0.34985 to 0.32490, saving model to best-model-conll.hdfs\n",
      "\n",
      "Epoch 00006: val_loss did not improve from 0.32490\n",
      "\n",
      "Epoch 00007: val_loss improved from 0.32490 to 0.31297, saving model to best-model-conll.hdfs\n",
      "\n",
      "Epoch 00008: val_loss did not improve from 0.31297\n",
      "\n",
      "Epoch 00009: val_loss did not improve from 0.31297\n",
      "\n",
      "Epoch 00010: val_loss did not improve from 0.31297\n"
     ]
    },
    {
     "name": "stderr",
     "output_type": "stream",
     "text": [
      "/home/frankl1/miniconda3/envs/ner-projection/lib/python3.7/site-packages/ipykernel_launcher.py:17: RuntimeWarning: invalid value encountered in double_scalars\n"
     ]
    },
    {
     "name": "stdout",
     "output_type": "stream",
     "text": [
      "\n",
      "Epoch 00001: val_loss improved from inf to 0.13837, saving model to best-model-conll.hdfs\n",
      "\n",
      "Epoch 00002: val_loss did not improve from 0.13837\n",
      "\n",
      "Epoch 00003: val_loss did not improve from 0.13837\n",
      "\n",
      "Epoch 00004: val_loss did not improve from 0.13837\n",
      "\n",
      "Epoch 00005: val_loss did not improve from 0.13837\n",
      "\n",
      "Epoch 00006: val_loss did not improve from 0.13837\n",
      "\n",
      "Epoch 00007: val_loss did not improve from 0.13837\n",
      "\n",
      "Epoch 00008: val_loss did not improve from 0.13837\n",
      "\n",
      "Epoch 00009: val_loss did not improve from 0.13837\n",
      "\n",
      "Epoch 00010: val_loss did not improve from 0.13837\n"
     ]
    },
    {
     "name": "stderr",
     "output_type": "stream",
     "text": [
      "/home/frankl1/miniconda3/envs/ner-projection/lib/python3.7/site-packages/ipykernel_launcher.py:17: RuntimeWarning: invalid value encountered in double_scalars\n"
     ]
    },
    {
     "name": "stdout",
     "output_type": "stream",
     "text": [
      "\n",
      "Epoch 00001: val_loss improved from inf to 0.10037, saving model to best-model-conll.hdfs\n",
      "\n",
      "Epoch 00002: val_loss did not improve from 0.10037\n",
      "\n",
      "Epoch 00003: val_loss improved from 0.10037 to 0.08301, saving model to best-model-conll.hdfs\n",
      "\n",
      "Epoch 00004: val_loss did not improve from 0.08301\n",
      "\n",
      "Epoch 00005: val_loss did not improve from 0.08301\n",
      "\n",
      "Epoch 00006: val_loss did not improve from 0.08301\n",
      "\n",
      "Epoch 00007: val_loss did not improve from 0.08301\n",
      "\n",
      "Epoch 00008: val_loss did not improve from 0.08301\n",
      "\n",
      "Epoch 00009: val_loss did not improve from 0.08301\n",
      "\n",
      "Epoch 00010: val_loss did not improve from 0.08301\n"
     ]
    },
    {
     "name": "stderr",
     "output_type": "stream",
     "text": [
      "/home/frankl1/miniconda3/envs/ner-projection/lib/python3.7/site-packages/ipykernel_launcher.py:17: RuntimeWarning: invalid value encountered in double_scalars\n"
     ]
    },
    {
     "name": "stdout",
     "output_type": "stream",
     "text": [
      "\n",
      "Epoch 00001: val_loss improved from inf to 0.10425, saving model to best-model-conll.hdfs\n",
      "\n",
      "Epoch 00002: val_loss did not improve from 0.10425\n",
      "\n",
      "Epoch 00003: val_loss improved from 0.10425 to 0.09288, saving model to best-model-conll.hdfs\n",
      "\n",
      "Epoch 00004: val_loss did not improve from 0.09288\n",
      "\n",
      "Epoch 00005: val_loss did not improve from 0.09288\n",
      "\n",
      "Epoch 00006: val_loss did not improve from 0.09288\n",
      "\n",
      "Epoch 00007: val_loss did not improve from 0.09288\n",
      "\n",
      "Epoch 00008: val_loss did not improve from 0.09288\n",
      "\n",
      "Epoch 00009: val_loss did not improve from 0.09288\n",
      "\n",
      "Epoch 00010: val_loss did not improve from 0.09288\n",
      "\n",
      "Epoch 00001: val_loss improved from inf to 0.07366, saving model to best-model-conll.hdfs\n",
      "\n",
      "Epoch 00002: val_loss did not improve from 0.07366\n",
      "\n",
      "Epoch 00003: val_loss did not improve from 0.07366\n",
      "\n",
      "Epoch 00004: val_loss did not improve from 0.07366\n",
      "\n",
      "Epoch 00005: val_loss did not improve from 0.07366\n",
      "\n",
      "Epoch 00006: val_loss did not improve from 0.07366\n",
      "\n",
      "Epoch 00007: val_loss did not improve from 0.07366\n",
      "\n",
      "Epoch 00008: val_loss did not improve from 0.07366\n",
      "\n",
      "Epoch 00009: val_loss did not improve from 0.07366\n",
      "\n",
      "Epoch 00010: val_loss did not improve from 0.07366\n"
     ]
    },
    {
     "name": "stderr",
     "output_type": "stream",
     "text": [
      "/home/frankl1/miniconda3/envs/ner-projection/lib/python3.7/site-packages/ipykernel_launcher.py:17: RuntimeWarning: invalid value encountered in double_scalars\n"
     ]
    },
    {
     "name": "stdout",
     "output_type": "stream",
     "text": [
      "\n",
      "Epoch 00001: val_loss improved from inf to 0.10611, saving model to best-model-conll.hdfs\n",
      "\n",
      "Epoch 00002: val_loss improved from 0.10611 to 0.04759, saving model to best-model-conll.hdfs\n",
      "\n",
      "Epoch 00003: val_loss improved from 0.04759 to 0.04225, saving model to best-model-conll.hdfs\n",
      "\n",
      "Epoch 00004: val_loss did not improve from 0.04225\n",
      "\n",
      "Epoch 00005: val_loss did not improve from 0.04225\n",
      "\n",
      "Epoch 00006: val_loss improved from 0.04225 to 0.03642, saving model to best-model-conll.hdfs\n",
      "\n",
      "Epoch 00007: val_loss did not improve from 0.03642\n",
      "\n",
      "Epoch 00008: val_loss did not improve from 0.03642\n",
      "\n",
      "Epoch 00009: val_loss did not improve from 0.03642\n",
      "\n",
      "Epoch 00010: val_loss did not improve from 0.03642\n"
     ]
    },
    {
     "name": "stderr",
     "output_type": "stream",
     "text": [
      "/home/frankl1/miniconda3/envs/ner-projection/lib/python3.7/site-packages/ipykernel_launcher.py:17: RuntimeWarning: invalid value encountered in double_scalars\n"
     ]
    },
    {
     "name": "stdout",
     "output_type": "stream",
     "text": [
      "\n",
      "Epoch 00001: val_loss improved from inf to 0.08256, saving model to best-model-conll.hdfs\n",
      "\n",
      "Epoch 00002: val_loss did not improve from 0.08256\n",
      "\n",
      "Epoch 00003: val_loss did not improve from 0.08256\n",
      "\n",
      "Epoch 00004: val_loss did not improve from 0.08256\n",
      "\n",
      "Epoch 00005: val_loss did not improve from 0.08256\n",
      "\n",
      "Epoch 00006: val_loss did not improve from 0.08256\n",
      "\n",
      "Epoch 00007: val_loss did not improve from 0.08256\n",
      "\n",
      "Epoch 00008: val_loss did not improve from 0.08256\n",
      "\n",
      "Epoch 00009: val_loss did not improve from 0.08256\n",
      "\n",
      "Epoch 00010: val_loss did not improve from 0.08256\n",
      "\n",
      "Epoch 00001: val_loss improved from inf to 0.08078, saving model to best-model-conll.hdfs\n",
      "\n",
      "Epoch 00002: val_loss did not improve from 0.08078\n",
      "\n",
      "Epoch 00003: val_loss did not improve from 0.08078\n",
      "\n",
      "Epoch 00004: val_loss did not improve from 0.08078\n",
      "\n",
      "Epoch 00005: val_loss did not improve from 0.08078\n",
      "\n",
      "Epoch 00006: val_loss did not improve from 0.08078\n",
      "\n",
      "Epoch 00007: val_loss did not improve from 0.08078\n",
      "\n",
      "Epoch 00008: val_loss did not improve from 0.08078\n",
      "\n",
      "Epoch 00009: val_loss did not improve from 0.08078\n",
      "\n",
      "Epoch 00010: val_loss did not improve from 0.08078\n"
     ]
    },
    {
     "name": "stderr",
     "output_type": "stream",
     "text": [
      "/home/frankl1/miniconda3/envs/ner-projection/lib/python3.7/site-packages/ipykernel_launcher.py:17: RuntimeWarning: invalid value encountered in double_scalars\n"
     ]
    },
    {
     "name": "stdout",
     "output_type": "stream",
     "text": [
      "\n",
      "Epoch 00001: val_loss improved from inf to 0.08002, saving model to best-model-conll.hdfs\n",
      "\n",
      "Epoch 00002: val_loss improved from 0.08002 to 0.06687, saving model to best-model-conll.hdfs\n",
      "\n",
      "Epoch 00003: val_loss did not improve from 0.06687\n",
      "\n",
      "Epoch 00004: val_loss did not improve from 0.06687\n",
      "\n",
      "Epoch 00005: val_loss did not improve from 0.06687\n",
      "\n",
      "Epoch 00006: val_loss did not improve from 0.06687\n",
      "\n",
      "Epoch 00007: val_loss did not improve from 0.06687\n",
      "\n",
      "Epoch 00008: val_loss did not improve from 0.06687\n",
      "\n",
      "Epoch 00009: val_loss did not improve from 0.06687\n",
      "\n",
      "Epoch 00010: val_loss did not improve from 0.06687\n"
     ]
    },
    {
     "name": "stderr",
     "output_type": "stream",
     "text": [
      "/home/frankl1/miniconda3/envs/ner-projection/lib/python3.7/site-packages/ipykernel_launcher.py:17: RuntimeWarning: invalid value encountered in double_scalars\n"
     ]
    },
    {
     "name": "stdout",
     "output_type": "stream",
     "text": [
      "\n",
      "Epoch 00001: val_loss improved from inf to 0.08159, saving model to best-model-conll.hdfs\n",
      "\n",
      "Epoch 00002: val_loss did not improve from 0.08159\n",
      "\n",
      "Epoch 00003: val_loss did not improve from 0.08159\n",
      "\n",
      "Epoch 00004: val_loss did not improve from 0.08159\n",
      "\n",
      "Epoch 00005: val_loss did not improve from 0.08159\n",
      "\n",
      "Epoch 00006: val_loss did not improve from 0.08159\n",
      "\n",
      "Epoch 00007: val_loss did not improve from 0.08159\n",
      "\n",
      "Epoch 00008: val_loss did not improve from 0.08159\n",
      "\n",
      "Epoch 00009: val_loss did not improve from 0.08159\n",
      "\n",
      "Epoch 00010: val_loss did not improve from 0.08159\n"
     ]
    },
    {
     "name": "stderr",
     "output_type": "stream",
     "text": [
      "/home/frankl1/miniconda3/envs/ner-projection/lib/python3.7/site-packages/ipykernel_launcher.py:17: RuntimeWarning: invalid value encountered in double_scalars\n"
     ]
    }
   ],
   "source": [
    "resultCrossVal, trainByTagResult, testByTagResult, ewoByTagResult, model = algoCrossVal(X, y, X_ewo, y_ewo, repeat=10)"
   ]
  },
  {
   "cell_type": "code",
   "execution_count": 66,
   "metadata": {},
   "outputs": [
    {
     "data": {
      "text/html": [
       "<div>\n",
       "<style scoped>\n",
       "    .dataframe tbody tr th:only-of-type {\n",
       "        vertical-align: middle;\n",
       "    }\n",
       "\n",
       "    .dataframe tbody tr th {\n",
       "        vertical-align: top;\n",
       "    }\n",
       "\n",
       "    .dataframe thead th {\n",
       "        text-align: right;\n",
       "    }\n",
       "</style>\n",
       "<table border=\"1\" class=\"dataframe\">\n",
       "  <thead>\n",
       "    <tr style=\"text-align: right;\">\n",
       "      <th></th>\n",
       "      <th>0</th>\n",
       "      <th>0</th>\n",
       "      <th>0</th>\n",
       "      <th>0</th>\n",
       "      <th>0</th>\n",
       "      <th>0</th>\n",
       "      <th>0</th>\n",
       "      <th>0</th>\n",
       "      <th>0</th>\n",
       "      <th>0</th>\n",
       "    </tr>\n",
       "  </thead>\n",
       "  <tbody>\n",
       "    <tr>\n",
       "      <th>P_test</th>\n",
       "      <td>87.468</td>\n",
       "      <td>85.864</td>\n",
       "      <td>86.099</td>\n",
       "      <td>85.261</td>\n",
       "      <td>82.481</td>\n",
       "      <td>87.193</td>\n",
       "      <td>87.162</td>\n",
       "      <td>84.920</td>\n",
       "      <td>84.812</td>\n",
       "      <td>83.190</td>\n",
       "    </tr>\n",
       "    <tr>\n",
       "      <th>P_train</th>\n",
       "      <td>89.051</td>\n",
       "      <td>87.796</td>\n",
       "      <td>88.162</td>\n",
       "      <td>86.770</td>\n",
       "      <td>85.625</td>\n",
       "      <td>88.212</td>\n",
       "      <td>88.029</td>\n",
       "      <td>88.544</td>\n",
       "      <td>86.805</td>\n",
       "      <td>86.083</td>\n",
       "    </tr>\n",
       "    <tr>\n",
       "      <th>P_ewo</th>\n",
       "      <td>78.938</td>\n",
       "      <td>78.155</td>\n",
       "      <td>79.673</td>\n",
       "      <td>76.452</td>\n",
       "      <td>73.532</td>\n",
       "      <td>79.324</td>\n",
       "      <td>79.343</td>\n",
       "      <td>78.099</td>\n",
       "      <td>77.792</td>\n",
       "      <td>75.034</td>\n",
       "    </tr>\n",
       "    <tr>\n",
       "      <th>R_test</th>\n",
       "      <td>78.488</td>\n",
       "      <td>77.960</td>\n",
       "      <td>77.961</td>\n",
       "      <td>81.293</td>\n",
       "      <td>82.009</td>\n",
       "      <td>83.738</td>\n",
       "      <td>77.127</td>\n",
       "      <td>81.988</td>\n",
       "      <td>77.960</td>\n",
       "      <td>80.460</td>\n",
       "    </tr>\n",
       "    <tr>\n",
       "      <th>R_train</th>\n",
       "      <td>77.086</td>\n",
       "      <td>83.385</td>\n",
       "      <td>82.176</td>\n",
       "      <td>85.221</td>\n",
       "      <td>85.736</td>\n",
       "      <td>82.702</td>\n",
       "      <td>81.866</td>\n",
       "      <td>85.515</td>\n",
       "      <td>82.475</td>\n",
       "      <td>85.715</td>\n",
       "    </tr>\n",
       "    <tr>\n",
       "      <th>R_ewo</th>\n",
       "      <td>62.408</td>\n",
       "      <td>66.760</td>\n",
       "      <td>65.186</td>\n",
       "      <td>68.518</td>\n",
       "      <td>70.650</td>\n",
       "      <td>67.502</td>\n",
       "      <td>65.834</td>\n",
       "      <td>68.426</td>\n",
       "      <td>65.740</td>\n",
       "      <td>69.907</td>\n",
       "    </tr>\n",
       "    <tr>\n",
       "      <th>F1-test</th>\n",
       "      <td>82.323</td>\n",
       "      <td>81.515</td>\n",
       "      <td>80.863</td>\n",
       "      <td>82.876</td>\n",
       "      <td>81.427</td>\n",
       "      <td>84.265</td>\n",
       "      <td>81.460</td>\n",
       "      <td>82.557</td>\n",
       "      <td>80.161</td>\n",
       "      <td>81.335</td>\n",
       "    </tr>\n",
       "    <tr>\n",
       "      <th>F1-train</th>\n",
       "      <td>81.476</td>\n",
       "      <td>85.263</td>\n",
       "      <td>84.546</td>\n",
       "      <td>85.703</td>\n",
       "      <td>85.225</td>\n",
       "      <td>84.408</td>\n",
       "      <td>84.385</td>\n",
       "      <td>86.962</td>\n",
       "      <td>84.046</td>\n",
       "      <td>85.500</td>\n",
       "    </tr>\n",
       "    <tr>\n",
       "      <th>F1-ewo</th>\n",
       "      <td>68.678</td>\n",
       "      <td>71.603</td>\n",
       "      <td>71.099</td>\n",
       "      <td>71.741</td>\n",
       "      <td>71.275</td>\n",
       "      <td>71.955</td>\n",
       "      <td>71.606</td>\n",
       "      <td>72.886</td>\n",
       "      <td>70.520</td>\n",
       "      <td>71.641</td>\n",
       "    </tr>\n",
       "  </tbody>\n",
       "</table>\n",
       "</div>"
      ],
      "text/plain": [
       "               0       0       0       0       0       0       0       0  \\\n",
       "P_test    87.468  85.864  86.099  85.261  82.481  87.193  87.162  84.920   \n",
       "P_train   89.051  87.796  88.162  86.770  85.625  88.212  88.029  88.544   \n",
       "P_ewo     78.938  78.155  79.673  76.452  73.532  79.324  79.343  78.099   \n",
       "R_test    78.488  77.960  77.961  81.293  82.009  83.738  77.127  81.988   \n",
       "R_train   77.086  83.385  82.176  85.221  85.736  82.702  81.866  85.515   \n",
       "R_ewo     62.408  66.760  65.186  68.518  70.650  67.502  65.834  68.426   \n",
       "F1-test   82.323  81.515  80.863  82.876  81.427  84.265  81.460  82.557   \n",
       "F1-train  81.476  85.263  84.546  85.703  85.225  84.408  84.385  86.962   \n",
       "F1-ewo    68.678  71.603  71.099  71.741  71.275  71.955  71.606  72.886   \n",
       "\n",
       "               0       0  \n",
       "P_test    84.812  83.190  \n",
       "P_train   86.805  86.083  \n",
       "P_ewo     77.792  75.034  \n",
       "R_test    77.960  80.460  \n",
       "R_train   82.475  85.715  \n",
       "R_ewo     65.740  69.907  \n",
       "F1-test   80.161  81.335  \n",
       "F1-train  84.046  85.500  \n",
       "F1-ewo    70.520  71.641  "
      ]
     },
     "execution_count": 66,
     "metadata": {},
     "output_type": "execute_result"
    }
   ],
   "source": [
    "resultCrossVal.to_csv(\"results.csv\")\n",
    "resultCrossVal"
   ]
  },
  {
   "cell_type": "code",
   "execution_count": 67,
   "metadata": {},
   "outputs": [
    {
     "data": {
      "text/html": [
       "<div>\n",
       "<style scoped>\n",
       "    .dataframe tbody tr th:only-of-type {\n",
       "        vertical-align: middle;\n",
       "    }\n",
       "\n",
       "    .dataframe tbody tr th {\n",
       "        vertical-align: top;\n",
       "    }\n",
       "\n",
       "    .dataframe thead th {\n",
       "        text-align: right;\n",
       "    }\n",
       "</style>\n",
       "<table border=\"1\" class=\"dataframe\">\n",
       "  <thead>\n",
       "    <tr style=\"text-align: right;\">\n",
       "      <th></th>\n",
       "      <th>0</th>\n",
       "    </tr>\n",
       "  </thead>\n",
       "  <tbody>\n",
       "    <tr>\n",
       "      <th>P_test</th>\n",
       "      <td>85.4450</td>\n",
       "    </tr>\n",
       "    <tr>\n",
       "      <th>P_train</th>\n",
       "      <td>87.5077</td>\n",
       "    </tr>\n",
       "    <tr>\n",
       "      <th>P_ewo</th>\n",
       "      <td>77.6342</td>\n",
       "    </tr>\n",
       "    <tr>\n",
       "      <th>R_test</th>\n",
       "      <td>79.8984</td>\n",
       "    </tr>\n",
       "    <tr>\n",
       "      <th>R_train</th>\n",
       "      <td>83.1877</td>\n",
       "    </tr>\n",
       "    <tr>\n",
       "      <th>R_ewo</th>\n",
       "      <td>67.0931</td>\n",
       "    </tr>\n",
       "    <tr>\n",
       "      <th>F1-test</th>\n",
       "      <td>81.8782</td>\n",
       "    </tr>\n",
       "    <tr>\n",
       "      <th>F1-train</th>\n",
       "      <td>84.7514</td>\n",
       "    </tr>\n",
       "    <tr>\n",
       "      <th>F1-ewo</th>\n",
       "      <td>71.3004</td>\n",
       "    </tr>\n",
       "  </tbody>\n",
       "</table>\n",
       "</div>"
      ],
      "text/plain": [
       "                0\n",
       "P_test    85.4450\n",
       "P_train   87.5077\n",
       "P_ewo     77.6342\n",
       "R_test    79.8984\n",
       "R_train   83.1877\n",
       "R_ewo     67.0931\n",
       "F1-test   81.8782\n",
       "F1-train  84.7514\n",
       "F1-ewo    71.3004"
      ]
     },
     "execution_count": 67,
     "metadata": {},
     "output_type": "execute_result"
    }
   ],
   "source": [
    "resultCrossVal.mean(axis=1).to_frame()"
   ]
  },
  {
   "cell_type": "code",
   "execution_count": 68,
   "metadata": {},
   "outputs": [
    {
     "data": {
      "text/html": [
       "<div>\n",
       "<style scoped>\n",
       "    .dataframe tbody tr th:only-of-type {\n",
       "        vertical-align: middle;\n",
       "    }\n",
       "\n",
       "    .dataframe tbody tr th {\n",
       "        vertical-align: top;\n",
       "    }\n",
       "\n",
       "    .dataframe thead th {\n",
       "        text-align: right;\n",
       "    }\n",
       "</style>\n",
       "<table border=\"1\" class=\"dataframe\">\n",
       "  <thead>\n",
       "    <tr style=\"text-align: right;\">\n",
       "      <th></th>\n",
       "      <th>0</th>\n",
       "    </tr>\n",
       "  </thead>\n",
       "  <tbody>\n",
       "    <tr>\n",
       "      <th>P_test</th>\n",
       "      <td>1.675970</td>\n",
       "    </tr>\n",
       "    <tr>\n",
       "      <th>P_train</th>\n",
       "      <td>1.122845</td>\n",
       "    </tr>\n",
       "    <tr>\n",
       "      <th>P_ewo</th>\n",
       "      <td>2.031170</td>\n",
       "    </tr>\n",
       "    <tr>\n",
       "      <th>R_test</th>\n",
       "      <td>2.279427</td>\n",
       "    </tr>\n",
       "    <tr>\n",
       "      <th>R_train</th>\n",
       "      <td>2.650276</td>\n",
       "    </tr>\n",
       "    <tr>\n",
       "      <th>R_ewo</th>\n",
       "      <td>2.441723</td>\n",
       "    </tr>\n",
       "    <tr>\n",
       "      <th>F1-test</th>\n",
       "      <td>1.161220</td>\n",
       "    </tr>\n",
       "    <tr>\n",
       "      <th>F1-train</th>\n",
       "      <td>1.428244</td>\n",
       "    </tr>\n",
       "    <tr>\n",
       "      <th>F1-ewo</th>\n",
       "      <td>1.103778</td>\n",
       "    </tr>\n",
       "  </tbody>\n",
       "</table>\n",
       "</div>"
      ],
      "text/plain": [
       "                 0\n",
       "P_test    1.675970\n",
       "P_train   1.122845\n",
       "P_ewo     2.031170\n",
       "R_test    2.279427\n",
       "R_train   2.650276\n",
       "R_ewo     2.441723\n",
       "F1-test   1.161220\n",
       "F1-train  1.428244\n",
       "F1-ewo    1.103778"
      ]
     },
     "execution_count": 68,
     "metadata": {},
     "output_type": "execute_result"
    }
   ],
   "source": [
    "resultCrossVal.std(axis=1).to_frame()"
   ]
  },
  {
   "cell_type": "code",
   "execution_count": 69,
   "metadata": {},
   "outputs": [
    {
     "data": {
      "text/html": [
       "<div>\n",
       "<style scoped>\n",
       "    .dataframe tbody tr th:only-of-type {\n",
       "        vertical-align: middle;\n",
       "    }\n",
       "\n",
       "    .dataframe tbody tr th {\n",
       "        vertical-align: top;\n",
       "    }\n",
       "\n",
       "    .dataframe thead th {\n",
       "        text-align: right;\n",
       "    }\n",
       "</style>\n",
       "<table border=\"1\" class=\"dataframe\">\n",
       "  <thead>\n",
       "    <tr style=\"text-align: right;\">\n",
       "      <th></th>\n",
       "      <th>0</th>\n",
       "      <th>0</th>\n",
       "      <th>0</th>\n",
       "      <th>0</th>\n",
       "      <th>0</th>\n",
       "      <th>0</th>\n",
       "      <th>0</th>\n",
       "      <th>0</th>\n",
       "      <th>0</th>\n",
       "      <th>0</th>\n",
       "    </tr>\n",
       "  </thead>\n",
       "  <tbody>\n",
       "    <tr>\n",
       "      <th>F1-O</th>\n",
       "      <td>97.852</td>\n",
       "      <td>98.143000</td>\n",
       "      <td>98.075000</td>\n",
       "      <td>98.163</td>\n",
       "      <td>98.084000</td>\n",
       "      <td>98.087</td>\n",
       "      <td>98.074000</td>\n",
       "      <td>98.303</td>\n",
       "      <td>98.066000</td>\n",
       "      <td>98.152000</td>\n",
       "    </tr>\n",
       "    <tr>\n",
       "      <th>P-O</th>\n",
       "      <td>97.073</td>\n",
       "      <td>97.860000</td>\n",
       "      <td>97.675000</td>\n",
       "      <td>98.079</td>\n",
       "      <td>98.152000</td>\n",
       "      <td>97.767</td>\n",
       "      <td>97.648000</td>\n",
       "      <td>98.086</td>\n",
       "      <td>97.784000</td>\n",
       "      <td>98.174000</td>\n",
       "    </tr>\n",
       "    <tr>\n",
       "      <th>R-O</th>\n",
       "      <td>98.677</td>\n",
       "      <td>98.439000</td>\n",
       "      <td>98.495000</td>\n",
       "      <td>98.259</td>\n",
       "      <td>98.036000</td>\n",
       "      <td>98.437</td>\n",
       "      <td>98.522000</td>\n",
       "      <td>98.522</td>\n",
       "      <td>98.369000</td>\n",
       "      <td>98.147000</td>\n",
       "    </tr>\n",
       "    <tr>\n",
       "      <th>F1-MISC</th>\n",
       "      <td>72.341</td>\n",
       "      <td>76.006000</td>\n",
       "      <td>74.693000</td>\n",
       "      <td>77.008</td>\n",
       "      <td>74.756000</td>\n",
       "      <td>75.942</td>\n",
       "      <td>74.030000</td>\n",
       "      <td>75.984</td>\n",
       "      <td>77.362222</td>\n",
       "      <td>76.678000</td>\n",
       "    </tr>\n",
       "    <tr>\n",
       "      <th>P-MISC</th>\n",
       "      <td>97.273</td>\n",
       "      <td>93.660000</td>\n",
       "      <td>91.528000</td>\n",
       "      <td>87.584</td>\n",
       "      <td>91.250000</td>\n",
       "      <td>93.472</td>\n",
       "      <td>95.500000</td>\n",
       "      <td>97.500</td>\n",
       "      <td>84.632000</td>\n",
       "      <td>86.675000</td>\n",
       "    </tr>\n",
       "    <tr>\n",
       "      <th>R-MISC</th>\n",
       "      <td>60.443</td>\n",
       "      <td>66.493000</td>\n",
       "      <td>65.511000</td>\n",
       "      <td>71.715</td>\n",
       "      <td>66.260000</td>\n",
       "      <td>65.059</td>\n",
       "      <td>63.352000</td>\n",
       "      <td>63.170</td>\n",
       "      <td>61.039000</td>\n",
       "      <td>70.716000</td>\n",
       "    </tr>\n",
       "    <tr>\n",
       "      <th>F1-PER</th>\n",
       "      <td>84.902</td>\n",
       "      <td>88.763000</td>\n",
       "      <td>88.188000</td>\n",
       "      <td>88.838</td>\n",
       "      <td>88.844000</td>\n",
       "      <td>87.390</td>\n",
       "      <td>87.854000</td>\n",
       "      <td>90.210</td>\n",
       "      <td>88.149000</td>\n",
       "      <td>88.743000</td>\n",
       "    </tr>\n",
       "    <tr>\n",
       "      <th>P-PER</th>\n",
       "      <td>88.766</td>\n",
       "      <td>89.239000</td>\n",
       "      <td>89.297000</td>\n",
       "      <td>87.969</td>\n",
       "      <td>86.696000</td>\n",
       "      <td>89.090</td>\n",
       "      <td>88.577000</td>\n",
       "      <td>88.622</td>\n",
       "      <td>88.438000</td>\n",
       "      <td>88.623000</td>\n",
       "    </tr>\n",
       "    <tr>\n",
       "      <th>R-PER</th>\n",
       "      <td>83.377</td>\n",
       "      <td>88.694000</td>\n",
       "      <td>87.820000</td>\n",
       "      <td>90.094</td>\n",
       "      <td>91.578000</td>\n",
       "      <td>87.547</td>\n",
       "      <td>87.604000</td>\n",
       "      <td>91.943</td>\n",
       "      <td>88.225000</td>\n",
       "      <td>89.702000</td>\n",
       "    </tr>\n",
       "    <tr>\n",
       "      <th>F1-LOC</th>\n",
       "      <td>70.089</td>\n",
       "      <td>75.932000</td>\n",
       "      <td>78.053333</td>\n",
       "      <td>78.185</td>\n",
       "      <td>79.707778</td>\n",
       "      <td>76.629</td>\n",
       "      <td>80.151111</td>\n",
       "      <td>79.042</td>\n",
       "      <td>79.094444</td>\n",
       "      <td>77.638000</td>\n",
       "    </tr>\n",
       "    <tr>\n",
       "      <th>P-LOC</th>\n",
       "      <td>89.691</td>\n",
       "      <td>83.917000</td>\n",
       "      <td>77.662000</td>\n",
       "      <td>85.025</td>\n",
       "      <td>73.831000</td>\n",
       "      <td>84.304</td>\n",
       "      <td>75.989000</td>\n",
       "      <td>86.552</td>\n",
       "      <td>72.602000</td>\n",
       "      <td>80.839000</td>\n",
       "    </tr>\n",
       "    <tr>\n",
       "      <th>R-LOC</th>\n",
       "      <td>61.384</td>\n",
       "      <td>74.363000</td>\n",
       "      <td>67.471000</td>\n",
       "      <td>74.456</td>\n",
       "      <td>72.113000</td>\n",
       "      <td>74.373</td>\n",
       "      <td>69.571000</td>\n",
       "      <td>74.394</td>\n",
       "      <td>71.904000</td>\n",
       "      <td>78.677000</td>\n",
       "    </tr>\n",
       "    <tr>\n",
       "      <th>F1-ORG</th>\n",
       "      <td>60.002</td>\n",
       "      <td>55.556667</td>\n",
       "      <td>62.502500</td>\n",
       "      <td>60.002</td>\n",
       "      <td>61.907143</td>\n",
       "      <td>60.002</td>\n",
       "      <td>60.002000</td>\n",
       "      <td>58.335</td>\n",
       "      <td>60.002000</td>\n",
       "      <td>61.907143</td>\n",
       "    </tr>\n",
       "    <tr>\n",
       "      <th>P-ORG</th>\n",
       "      <td>25.000</td>\n",
       "      <td>15.000000</td>\n",
       "      <td>40.000000</td>\n",
       "      <td>25.000</td>\n",
       "      <td>35.000000</td>\n",
       "      <td>25.000</td>\n",
       "      <td>25.000000</td>\n",
       "      <td>20.000</td>\n",
       "      <td>25.000000</td>\n",
       "      <td>35.000000</td>\n",
       "    </tr>\n",
       "    <tr>\n",
       "      <th>R-ORG</th>\n",
       "      <td>40.000</td>\n",
       "      <td>20.000000</td>\n",
       "      <td>70.000000</td>\n",
       "      <td>40.000</td>\n",
       "      <td>60.000000</td>\n",
       "      <td>40.000</td>\n",
       "      <td>40.000000</td>\n",
       "      <td>30.000</td>\n",
       "      <td>40.000000</td>\n",
       "      <td>60.000000</td>\n",
       "    </tr>\n",
       "  </tbody>\n",
       "</table>\n",
       "</div>"
      ],
      "text/plain": [
       "              0          0          0       0          0       0          0  \\\n",
       "F1-O     97.852  98.143000  98.075000  98.163  98.084000  98.087  98.074000   \n",
       "P-O      97.073  97.860000  97.675000  98.079  98.152000  97.767  97.648000   \n",
       "R-O      98.677  98.439000  98.495000  98.259  98.036000  98.437  98.522000   \n",
       "F1-MISC  72.341  76.006000  74.693000  77.008  74.756000  75.942  74.030000   \n",
       "P-MISC   97.273  93.660000  91.528000  87.584  91.250000  93.472  95.500000   \n",
       "R-MISC   60.443  66.493000  65.511000  71.715  66.260000  65.059  63.352000   \n",
       "F1-PER   84.902  88.763000  88.188000  88.838  88.844000  87.390  87.854000   \n",
       "P-PER    88.766  89.239000  89.297000  87.969  86.696000  89.090  88.577000   \n",
       "R-PER    83.377  88.694000  87.820000  90.094  91.578000  87.547  87.604000   \n",
       "F1-LOC   70.089  75.932000  78.053333  78.185  79.707778  76.629  80.151111   \n",
       "P-LOC    89.691  83.917000  77.662000  85.025  73.831000  84.304  75.989000   \n",
       "R-LOC    61.384  74.363000  67.471000  74.456  72.113000  74.373  69.571000   \n",
       "F1-ORG   60.002  55.556667  62.502500  60.002  61.907143  60.002  60.002000   \n",
       "P-ORG    25.000  15.000000  40.000000  25.000  35.000000  25.000  25.000000   \n",
       "R-ORG    40.000  20.000000  70.000000  40.000  60.000000  40.000  40.000000   \n",
       "\n",
       "              0          0          0  \n",
       "F1-O     98.303  98.066000  98.152000  \n",
       "P-O      98.086  97.784000  98.174000  \n",
       "R-O      98.522  98.369000  98.147000  \n",
       "F1-MISC  75.984  77.362222  76.678000  \n",
       "P-MISC   97.500  84.632000  86.675000  \n",
       "R-MISC   63.170  61.039000  70.716000  \n",
       "F1-PER   90.210  88.149000  88.743000  \n",
       "P-PER    88.622  88.438000  88.623000  \n",
       "R-PER    91.943  88.225000  89.702000  \n",
       "F1-LOC   79.042  79.094444  77.638000  \n",
       "P-LOC    86.552  72.602000  80.839000  \n",
       "R-LOC    74.394  71.904000  78.677000  \n",
       "F1-ORG   58.335  60.002000  61.907143  \n",
       "P-ORG    20.000  25.000000  35.000000  \n",
       "R-ORG    30.000  40.000000  60.000000  "
      ]
     },
     "execution_count": 69,
     "metadata": {},
     "output_type": "execute_result"
    }
   ],
   "source": [
    "trainByTagResult.to_csv(\"results/train-by-tag.csv\")\n",
    "trainByTagResult"
   ]
  },
  {
   "cell_type": "code",
   "execution_count": 70,
   "metadata": {
    "scrolled": true
   },
   "outputs": [
    {
     "data": {
      "text/html": [
       "<div>\n",
       "<style scoped>\n",
       "    .dataframe tbody tr th:only-of-type {\n",
       "        vertical-align: middle;\n",
       "    }\n",
       "\n",
       "    .dataframe tbody tr th {\n",
       "        vertical-align: top;\n",
       "    }\n",
       "\n",
       "    .dataframe thead th {\n",
       "        text-align: right;\n",
       "    }\n",
       "</style>\n",
       "<table border=\"1\" class=\"dataframe\">\n",
       "  <thead>\n",
       "    <tr style=\"text-align: right;\">\n",
       "      <th></th>\n",
       "      <th>0</th>\n",
       "    </tr>\n",
       "  </thead>\n",
       "  <tbody>\n",
       "    <tr>\n",
       "      <th>F1-O</th>\n",
       "      <td>98.099900</td>\n",
       "    </tr>\n",
       "    <tr>\n",
       "      <th>P-O</th>\n",
       "      <td>97.829800</td>\n",
       "    </tr>\n",
       "    <tr>\n",
       "      <th>R-O</th>\n",
       "      <td>98.390300</td>\n",
       "    </tr>\n",
       "    <tr>\n",
       "      <th>F1-MISC</th>\n",
       "      <td>75.480022</td>\n",
       "    </tr>\n",
       "    <tr>\n",
       "      <th>P-MISC</th>\n",
       "      <td>91.907400</td>\n",
       "    </tr>\n",
       "    <tr>\n",
       "      <th>R-MISC</th>\n",
       "      <td>65.375800</td>\n",
       "    </tr>\n",
       "    <tr>\n",
       "      <th>F1-PER</th>\n",
       "      <td>88.188100</td>\n",
       "    </tr>\n",
       "    <tr>\n",
       "      <th>P-PER</th>\n",
       "      <td>88.531700</td>\n",
       "    </tr>\n",
       "    <tr>\n",
       "      <th>R-PER</th>\n",
       "      <td>88.658400</td>\n",
       "    </tr>\n",
       "    <tr>\n",
       "      <th>F1-LOC</th>\n",
       "      <td>77.452167</td>\n",
       "    </tr>\n",
       "    <tr>\n",
       "      <th>P-LOC</th>\n",
       "      <td>81.041200</td>\n",
       "    </tr>\n",
       "    <tr>\n",
       "      <th>R-LOC</th>\n",
       "      <td>71.870600</td>\n",
       "    </tr>\n",
       "    <tr>\n",
       "      <th>F1-ORG</th>\n",
       "      <td>60.021845</td>\n",
       "    </tr>\n",
       "    <tr>\n",
       "      <th>P-ORG</th>\n",
       "      <td>27.000000</td>\n",
       "    </tr>\n",
       "    <tr>\n",
       "      <th>R-ORG</th>\n",
       "      <td>44.000000</td>\n",
       "    </tr>\n",
       "  </tbody>\n",
       "</table>\n",
       "</div>"
      ],
      "text/plain": [
       "                 0\n",
       "F1-O     98.099900\n",
       "P-O      97.829800\n",
       "R-O      98.390300\n",
       "F1-MISC  75.480022\n",
       "P-MISC   91.907400\n",
       "R-MISC   65.375800\n",
       "F1-PER   88.188100\n",
       "P-PER    88.531700\n",
       "R-PER    88.658400\n",
       "F1-LOC   77.452167\n",
       "P-LOC    81.041200\n",
       "R-LOC    71.870600\n",
       "F1-ORG   60.021845\n",
       "P-ORG    27.000000\n",
       "R-ORG    44.000000"
      ]
     },
     "execution_count": 70,
     "metadata": {},
     "output_type": "execute_result"
    }
   ],
   "source": [
    "trainByTagResult.mean(axis=1).to_frame()"
   ]
  },
  {
   "cell_type": "code",
   "execution_count": 71,
   "metadata": {},
   "outputs": [
    {
     "data": {
      "text/html": [
       "<div>\n",
       "<style scoped>\n",
       "    .dataframe tbody tr th:only-of-type {\n",
       "        vertical-align: middle;\n",
       "    }\n",
       "\n",
       "    .dataframe tbody tr th {\n",
       "        vertical-align: top;\n",
       "    }\n",
       "\n",
       "    .dataframe thead th {\n",
       "        text-align: right;\n",
       "    }\n",
       "</style>\n",
       "<table border=\"1\" class=\"dataframe\">\n",
       "  <thead>\n",
       "    <tr style=\"text-align: right;\">\n",
       "      <th></th>\n",
       "      <th>0</th>\n",
       "    </tr>\n",
       "  </thead>\n",
       "  <tbody>\n",
       "    <tr>\n",
       "      <th>F1-O</th>\n",
       "      <td>0.112604</td>\n",
       "    </tr>\n",
       "    <tr>\n",
       "      <th>P-O</th>\n",
       "      <td>0.331116</td>\n",
       "    </tr>\n",
       "    <tr>\n",
       "      <th>R-O</th>\n",
       "      <td>0.192878</td>\n",
       "    </tr>\n",
       "    <tr>\n",
       "      <th>F1-MISC</th>\n",
       "      <td>1.533197</td>\n",
       "    </tr>\n",
       "    <tr>\n",
       "      <th>P-MISC</th>\n",
       "      <td>4.448103</td>\n",
       "    </tr>\n",
       "    <tr>\n",
       "      <th>R-MISC</th>\n",
       "      <td>3.696146</td>\n",
       "    </tr>\n",
       "    <tr>\n",
       "      <th>F1-PER</th>\n",
       "      <td>1.379519</td>\n",
       "    </tr>\n",
       "    <tr>\n",
       "      <th>P-PER</th>\n",
       "      <td>0.757650</td>\n",
       "    </tr>\n",
       "    <tr>\n",
       "      <th>R-PER</th>\n",
       "      <td>2.440284</td>\n",
       "    </tr>\n",
       "    <tr>\n",
       "      <th>F1-LOC</th>\n",
       "      <td>2.900851</td>\n",
       "    </tr>\n",
       "    <tr>\n",
       "      <th>P-LOC</th>\n",
       "      <td>5.775104</td>\n",
       "    </tr>\n",
       "    <tr>\n",
       "      <th>R-LOC</th>\n",
       "      <td>4.790341</td>\n",
       "    </tr>\n",
       "    <tr>\n",
       "      <th>F1-ORG</th>\n",
       "      <td>2.001321</td>\n",
       "    </tr>\n",
       "    <tr>\n",
       "      <th>P-ORG</th>\n",
       "      <td>7.527727</td>\n",
       "    </tr>\n",
       "    <tr>\n",
       "      <th>R-ORG</th>\n",
       "      <td>15.055453</td>\n",
       "    </tr>\n",
       "  </tbody>\n",
       "</table>\n",
       "</div>"
      ],
      "text/plain": [
       "                 0\n",
       "F1-O      0.112604\n",
       "P-O       0.331116\n",
       "R-O       0.192878\n",
       "F1-MISC   1.533197\n",
       "P-MISC    4.448103\n",
       "R-MISC    3.696146\n",
       "F1-PER    1.379519\n",
       "P-PER     0.757650\n",
       "R-PER     2.440284\n",
       "F1-LOC    2.900851\n",
       "P-LOC     5.775104\n",
       "R-LOC     4.790341\n",
       "F1-ORG    2.001321\n",
       "P-ORG     7.527727\n",
       "R-ORG    15.055453"
      ]
     },
     "execution_count": 71,
     "metadata": {},
     "output_type": "execute_result"
    }
   ],
   "source": [
    "trainByTagResult.std(axis=1).to_frame()"
   ]
  },
  {
   "cell_type": "code",
   "execution_count": 72,
   "metadata": {},
   "outputs": [
    {
     "data": {
      "text/html": [
       "<div>\n",
       "<style scoped>\n",
       "    .dataframe tbody tr th:only-of-type {\n",
       "        vertical-align: middle;\n",
       "    }\n",
       "\n",
       "    .dataframe tbody tr th {\n",
       "        vertical-align: top;\n",
       "    }\n",
       "\n",
       "    .dataframe thead th {\n",
       "        text-align: right;\n",
       "    }\n",
       "</style>\n",
       "<table border=\"1\" class=\"dataframe\">\n",
       "  <thead>\n",
       "    <tr style=\"text-align: right;\">\n",
       "      <th></th>\n",
       "      <th>0</th>\n",
       "      <th>0</th>\n",
       "      <th>0</th>\n",
       "      <th>0</th>\n",
       "      <th>0</th>\n",
       "      <th>0</th>\n",
       "      <th>0</th>\n",
       "      <th>0</th>\n",
       "      <th>0</th>\n",
       "      <th>0</th>\n",
       "    </tr>\n",
       "  </thead>\n",
       "  <tbody>\n",
       "    <tr>\n",
       "      <th>F1-O</th>\n",
       "      <td>97.881000</td>\n",
       "      <td>97.750000</td>\n",
       "      <td>97.693000</td>\n",
       "      <td>97.871000</td>\n",
       "      <td>97.811000</td>\n",
       "      <td>98.062000</td>\n",
       "      <td>97.821000</td>\n",
       "      <td>97.809000</td>\n",
       "      <td>97.561000</td>\n",
       "      <td>97.6120</td>\n",
       "    </tr>\n",
       "    <tr>\n",
       "      <th>P-O</th>\n",
       "      <td>97.159000</td>\n",
       "      <td>97.140000</td>\n",
       "      <td>97.040000</td>\n",
       "      <td>97.506000</td>\n",
       "      <td>97.773000</td>\n",
       "      <td>97.772000</td>\n",
       "      <td>97.040000</td>\n",
       "      <td>97.512000</td>\n",
       "      <td>97.040000</td>\n",
       "      <td>97.3710</td>\n",
       "    </tr>\n",
       "    <tr>\n",
       "      <th>R-O</th>\n",
       "      <td>98.630000</td>\n",
       "      <td>98.378000</td>\n",
       "      <td>98.392000</td>\n",
       "      <td>98.255000</td>\n",
       "      <td>97.878000</td>\n",
       "      <td>98.390000</td>\n",
       "      <td>98.632000</td>\n",
       "      <td>98.140000</td>\n",
       "      <td>98.126000</td>\n",
       "      <td>97.8720</td>\n",
       "    </tr>\n",
       "    <tr>\n",
       "      <th>F1-MISC</th>\n",
       "      <td>57.037778</td>\n",
       "      <td>57.037778</td>\n",
       "      <td>57.037778</td>\n",
       "      <td>53.334444</td>\n",
       "      <td>57.037778</td>\n",
       "      <td>59.260000</td>\n",
       "      <td>53.334444</td>\n",
       "      <td>57.037778</td>\n",
       "      <td>57.037778</td>\n",
       "      <td>66.6675</td>\n",
       "    </tr>\n",
       "    <tr>\n",
       "      <th>P-MISC</th>\n",
       "      <td>60.000000</td>\n",
       "      <td>60.000000</td>\n",
       "      <td>60.000000</td>\n",
       "      <td>55.000000</td>\n",
       "      <td>55.000000</td>\n",
       "      <td>60.000000</td>\n",
       "      <td>55.000000</td>\n",
       "      <td>60.000000</td>\n",
       "      <td>60.000000</td>\n",
       "      <td>60.0000</td>\n",
       "    </tr>\n",
       "    <tr>\n",
       "      <th>R-MISC</th>\n",
       "      <td>46.667000</td>\n",
       "      <td>46.667000</td>\n",
       "      <td>46.667000</td>\n",
       "      <td>46.667000</td>\n",
       "      <td>51.667000</td>\n",
       "      <td>50.000000</td>\n",
       "      <td>46.667000</td>\n",
       "      <td>46.667000</td>\n",
       "      <td>46.667000</td>\n",
       "      <td>50.0000</td>\n",
       "    </tr>\n",
       "    <tr>\n",
       "      <th>F1-PER</th>\n",
       "      <td>87.217000</td>\n",
       "      <td>86.920000</td>\n",
       "      <td>85.274000</td>\n",
       "      <td>88.682000</td>\n",
       "      <td>86.901000</td>\n",
       "      <td>87.495000</td>\n",
       "      <td>86.920000</td>\n",
       "      <td>86.609000</td>\n",
       "      <td>84.683000</td>\n",
       "      <td>85.8590</td>\n",
       "    </tr>\n",
       "    <tr>\n",
       "      <th>P-PER</th>\n",
       "      <td>88.070000</td>\n",
       "      <td>88.682000</td>\n",
       "      <td>85.118000</td>\n",
       "      <td>87.432000</td>\n",
       "      <td>83.206000</td>\n",
       "      <td>87.729000</td>\n",
       "      <td>88.682000</td>\n",
       "      <td>85.507000</td>\n",
       "      <td>86.182000</td>\n",
       "      <td>85.2290</td>\n",
       "    </tr>\n",
       "    <tr>\n",
       "      <th>R-PER</th>\n",
       "      <td>87.305000</td>\n",
       "      <td>87.127000</td>\n",
       "      <td>87.444000</td>\n",
       "      <td>91.234000</td>\n",
       "      <td>92.484000</td>\n",
       "      <td>89.984000</td>\n",
       "      <td>87.127000</td>\n",
       "      <td>89.984000</td>\n",
       "      <td>86.055000</td>\n",
       "      <td>88.5550</td>\n",
       "    </tr>\n",
       "    <tr>\n",
       "      <th>F1-LOC</th>\n",
       "      <td>78.750000</td>\n",
       "      <td>71.906250</td>\n",
       "      <td>81.251250</td>\n",
       "      <td>72.501250</td>\n",
       "      <td>75.715714</td>\n",
       "      <td>80.741111</td>\n",
       "      <td>82.858571</td>\n",
       "      <td>77.407778</td>\n",
       "      <td>74.585000</td>\n",
       "      <td>70.4175</td>\n",
       "    </tr>\n",
       "    <tr>\n",
       "      <th>P-LOC</th>\n",
       "      <td>71.667000</td>\n",
       "      <td>63.333000</td>\n",
       "      <td>75.000000</td>\n",
       "      <td>65.000000</td>\n",
       "      <td>58.333000</td>\n",
       "      <td>76.667000</td>\n",
       "      <td>65.000000</td>\n",
       "      <td>76.667000</td>\n",
       "      <td>63.333000</td>\n",
       "      <td>63.3330</td>\n",
       "    </tr>\n",
       "    <tr>\n",
       "      <th>R-LOC</th>\n",
       "      <td>60.833000</td>\n",
       "      <td>59.167000</td>\n",
       "      <td>63.333000</td>\n",
       "      <td>59.167000</td>\n",
       "      <td>56.667000</td>\n",
       "      <td>74.167000</td>\n",
       "      <td>56.667000</td>\n",
       "      <td>70.833000</td>\n",
       "      <td>66.667000</td>\n",
       "      <td>59.1670</td>\n",
       "    </tr>\n",
       "    <tr>\n",
       "      <th>F1-ORG</th>\n",
       "      <td>0.000000</td>\n",
       "      <td>0.000000</td>\n",
       "      <td>0.000000</td>\n",
       "      <td>0.000000</td>\n",
       "      <td>0.000000</td>\n",
       "      <td>0.000000</td>\n",
       "      <td>0.000000</td>\n",
       "      <td>0.000000</td>\n",
       "      <td>0.000000</td>\n",
       "      <td>0.0000</td>\n",
       "    </tr>\n",
       "    <tr>\n",
       "      <th>P-ORG</th>\n",
       "      <td>0.000000</td>\n",
       "      <td>0.000000</td>\n",
       "      <td>0.000000</td>\n",
       "      <td>0.000000</td>\n",
       "      <td>0.000000</td>\n",
       "      <td>0.000000</td>\n",
       "      <td>0.000000</td>\n",
       "      <td>0.000000</td>\n",
       "      <td>0.000000</td>\n",
       "      <td>0.0000</td>\n",
       "    </tr>\n",
       "    <tr>\n",
       "      <th>R-ORG</th>\n",
       "      <td>0.000000</td>\n",
       "      <td>0.000000</td>\n",
       "      <td>0.000000</td>\n",
       "      <td>0.000000</td>\n",
       "      <td>0.000000</td>\n",
       "      <td>0.000000</td>\n",
       "      <td>0.000000</td>\n",
       "      <td>0.000000</td>\n",
       "      <td>0.000000</td>\n",
       "      <td>0.0000</td>\n",
       "    </tr>\n",
       "  </tbody>\n",
       "</table>\n",
       "</div>"
      ],
      "text/plain": [
       "                 0          0          0          0          0          0  \\\n",
       "F1-O     97.881000  97.750000  97.693000  97.871000  97.811000  98.062000   \n",
       "P-O      97.159000  97.140000  97.040000  97.506000  97.773000  97.772000   \n",
       "R-O      98.630000  98.378000  98.392000  98.255000  97.878000  98.390000   \n",
       "F1-MISC  57.037778  57.037778  57.037778  53.334444  57.037778  59.260000   \n",
       "P-MISC   60.000000  60.000000  60.000000  55.000000  55.000000  60.000000   \n",
       "R-MISC   46.667000  46.667000  46.667000  46.667000  51.667000  50.000000   \n",
       "F1-PER   87.217000  86.920000  85.274000  88.682000  86.901000  87.495000   \n",
       "P-PER    88.070000  88.682000  85.118000  87.432000  83.206000  87.729000   \n",
       "R-PER    87.305000  87.127000  87.444000  91.234000  92.484000  89.984000   \n",
       "F1-LOC   78.750000  71.906250  81.251250  72.501250  75.715714  80.741111   \n",
       "P-LOC    71.667000  63.333000  75.000000  65.000000  58.333000  76.667000   \n",
       "R-LOC    60.833000  59.167000  63.333000  59.167000  56.667000  74.167000   \n",
       "F1-ORG    0.000000   0.000000   0.000000   0.000000   0.000000   0.000000   \n",
       "P-ORG     0.000000   0.000000   0.000000   0.000000   0.000000   0.000000   \n",
       "R-ORG     0.000000   0.000000   0.000000   0.000000   0.000000   0.000000   \n",
       "\n",
       "                 0          0          0        0  \n",
       "F1-O     97.821000  97.809000  97.561000  97.6120  \n",
       "P-O      97.040000  97.512000  97.040000  97.3710  \n",
       "R-O      98.632000  98.140000  98.126000  97.8720  \n",
       "F1-MISC  53.334444  57.037778  57.037778  66.6675  \n",
       "P-MISC   55.000000  60.000000  60.000000  60.0000  \n",
       "R-MISC   46.667000  46.667000  46.667000  50.0000  \n",
       "F1-PER   86.920000  86.609000  84.683000  85.8590  \n",
       "P-PER    88.682000  85.507000  86.182000  85.2290  \n",
       "R-PER    87.127000  89.984000  86.055000  88.5550  \n",
       "F1-LOC   82.858571  77.407778  74.585000  70.4175  \n",
       "P-LOC    65.000000  76.667000  63.333000  63.3330  \n",
       "R-LOC    56.667000  70.833000  66.667000  59.1670  \n",
       "F1-ORG    0.000000   0.000000   0.000000   0.0000  \n",
       "P-ORG     0.000000   0.000000   0.000000   0.0000  \n",
       "R-ORG     0.000000   0.000000   0.000000   0.0000  "
      ]
     },
     "execution_count": 72,
     "metadata": {},
     "output_type": "execute_result"
    }
   ],
   "source": [
    "testByTagResult.to_csv(\"results/test-by-tag.csv\")\n",
    "testByTagResult"
   ]
  },
  {
   "cell_type": "code",
   "execution_count": 73,
   "metadata": {},
   "outputs": [
    {
     "data": {
      "text/html": [
       "<div>\n",
       "<style scoped>\n",
       "    .dataframe tbody tr th:only-of-type {\n",
       "        vertical-align: middle;\n",
       "    }\n",
       "\n",
       "    .dataframe tbody tr th {\n",
       "        vertical-align: top;\n",
       "    }\n",
       "\n",
       "    .dataframe thead th {\n",
       "        text-align: right;\n",
       "    }\n",
       "</style>\n",
       "<table border=\"1\" class=\"dataframe\">\n",
       "  <thead>\n",
       "    <tr style=\"text-align: right;\">\n",
       "      <th></th>\n",
       "      <th>0</th>\n",
       "    </tr>\n",
       "  </thead>\n",
       "  <tbody>\n",
       "    <tr>\n",
       "      <th>F1-O</th>\n",
       "      <td>97.787100</td>\n",
       "    </tr>\n",
       "    <tr>\n",
       "      <th>P-O</th>\n",
       "      <td>97.335300</td>\n",
       "    </tr>\n",
       "    <tr>\n",
       "      <th>R-O</th>\n",
       "      <td>98.269300</td>\n",
       "    </tr>\n",
       "    <tr>\n",
       "      <th>F1-MISC</th>\n",
       "      <td>57.482306</td>\n",
       "    </tr>\n",
       "    <tr>\n",
       "      <th>P-MISC</th>\n",
       "      <td>58.500000</td>\n",
       "    </tr>\n",
       "    <tr>\n",
       "      <th>R-MISC</th>\n",
       "      <td>47.833600</td>\n",
       "    </tr>\n",
       "    <tr>\n",
       "      <th>F1-PER</th>\n",
       "      <td>86.656000</td>\n",
       "    </tr>\n",
       "    <tr>\n",
       "      <th>P-PER</th>\n",
       "      <td>86.583700</td>\n",
       "    </tr>\n",
       "    <tr>\n",
       "      <th>R-PER</th>\n",
       "      <td>88.729900</td>\n",
       "    </tr>\n",
       "    <tr>\n",
       "      <th>F1-LOC</th>\n",
       "      <td>76.613442</td>\n",
       "    </tr>\n",
       "    <tr>\n",
       "      <th>P-LOC</th>\n",
       "      <td>67.833300</td>\n",
       "    </tr>\n",
       "    <tr>\n",
       "      <th>R-LOC</th>\n",
       "      <td>62.666800</td>\n",
       "    </tr>\n",
       "    <tr>\n",
       "      <th>F1-ORG</th>\n",
       "      <td>0.000000</td>\n",
       "    </tr>\n",
       "    <tr>\n",
       "      <th>P-ORG</th>\n",
       "      <td>0.000000</td>\n",
       "    </tr>\n",
       "    <tr>\n",
       "      <th>R-ORG</th>\n",
       "      <td>0.000000</td>\n",
       "    </tr>\n",
       "  </tbody>\n",
       "</table>\n",
       "</div>"
      ],
      "text/plain": [
       "                 0\n",
       "F1-O     97.787100\n",
       "P-O      97.335300\n",
       "R-O      98.269300\n",
       "F1-MISC  57.482306\n",
       "P-MISC   58.500000\n",
       "R-MISC   47.833600\n",
       "F1-PER   86.656000\n",
       "P-PER    86.583700\n",
       "R-PER    88.729900\n",
       "F1-LOC   76.613442\n",
       "P-LOC    67.833300\n",
       "R-LOC    62.666800\n",
       "F1-ORG    0.000000\n",
       "P-ORG     0.000000\n",
       "R-ORG     0.000000"
      ]
     },
     "execution_count": 73,
     "metadata": {},
     "output_type": "execute_result"
    }
   ],
   "source": [
    "testByTagResult.mean(axis=1).to_frame()"
   ]
  },
  {
   "cell_type": "code",
   "execution_count": 74,
   "metadata": {},
   "outputs": [
    {
     "data": {
      "text/html": [
       "<div>\n",
       "<style scoped>\n",
       "    .dataframe tbody tr th:only-of-type {\n",
       "        vertical-align: middle;\n",
       "    }\n",
       "\n",
       "    .dataframe tbody tr th {\n",
       "        vertical-align: top;\n",
       "    }\n",
       "\n",
       "    .dataframe thead th {\n",
       "        text-align: right;\n",
       "    }\n",
       "</style>\n",
       "<table border=\"1\" class=\"dataframe\">\n",
       "  <thead>\n",
       "    <tr style=\"text-align: right;\">\n",
       "      <th></th>\n",
       "      <th>0</th>\n",
       "    </tr>\n",
       "  </thead>\n",
       "  <tbody>\n",
       "    <tr>\n",
       "      <th>F1-O</th>\n",
       "      <td>0.143619</td>\n",
       "    </tr>\n",
       "    <tr>\n",
       "      <th>P-O</th>\n",
       "      <td>0.293400</td>\n",
       "    </tr>\n",
       "    <tr>\n",
       "      <th>R-O</th>\n",
       "      <td>0.269055</td>\n",
       "    </tr>\n",
       "    <tr>\n",
       "      <th>F1-MISC</th>\n",
       "      <td>3.698695</td>\n",
       "    </tr>\n",
       "    <tr>\n",
       "      <th>P-MISC</th>\n",
       "      <td>2.415229</td>\n",
       "    </tr>\n",
       "    <tr>\n",
       "      <th>R-MISC</th>\n",
       "      <td>1.932420</td>\n",
       "    </tr>\n",
       "    <tr>\n",
       "      <th>F1-PER</th>\n",
       "      <td>1.143232</td>\n",
       "    </tr>\n",
       "    <tr>\n",
       "      <th>P-PER</th>\n",
       "      <td>1.818398</td>\n",
       "    </tr>\n",
       "    <tr>\n",
       "      <th>R-PER</th>\n",
       "      <td>2.095430</td>\n",
       "    </tr>\n",
       "    <tr>\n",
       "      <th>F1-LOC</th>\n",
       "      <td>4.283332</td>\n",
       "    </tr>\n",
       "    <tr>\n",
       "      <th>P-LOC</th>\n",
       "      <td>6.576020</td>\n",
       "    </tr>\n",
       "    <tr>\n",
       "      <th>R-LOC</th>\n",
       "      <td>6.032234</td>\n",
       "    </tr>\n",
       "    <tr>\n",
       "      <th>F1-ORG</th>\n",
       "      <td>0.000000</td>\n",
       "    </tr>\n",
       "    <tr>\n",
       "      <th>P-ORG</th>\n",
       "      <td>0.000000</td>\n",
       "    </tr>\n",
       "    <tr>\n",
       "      <th>R-ORG</th>\n",
       "      <td>0.000000</td>\n",
       "    </tr>\n",
       "  </tbody>\n",
       "</table>\n",
       "</div>"
      ],
      "text/plain": [
       "                0\n",
       "F1-O     0.143619\n",
       "P-O      0.293400\n",
       "R-O      0.269055\n",
       "F1-MISC  3.698695\n",
       "P-MISC   2.415229\n",
       "R-MISC   1.932420\n",
       "F1-PER   1.143232\n",
       "P-PER    1.818398\n",
       "R-PER    2.095430\n",
       "F1-LOC   4.283332\n",
       "P-LOC    6.576020\n",
       "R-LOC    6.032234\n",
       "F1-ORG   0.000000\n",
       "P-ORG    0.000000\n",
       "R-ORG    0.000000"
      ]
     },
     "execution_count": 74,
     "metadata": {},
     "output_type": "execute_result"
    }
   ],
   "source": [
    "testByTagResult.std(axis=1).to_frame()"
   ]
  },
  {
   "cell_type": "code",
   "execution_count": 75,
   "metadata": {},
   "outputs": [],
   "source": [
    "ewoByTagResult.to_csv(\"results/ewo-by-tag.csv\")"
   ]
  },
  {
   "cell_type": "code",
   "execution_count": 76,
   "metadata": {},
   "outputs": [
    {
     "data": {
      "text/html": [
       "<div>\n",
       "<style scoped>\n",
       "    .dataframe tbody tr th:only-of-type {\n",
       "        vertical-align: middle;\n",
       "    }\n",
       "\n",
       "    .dataframe tbody tr th {\n",
       "        vertical-align: top;\n",
       "    }\n",
       "\n",
       "    .dataframe thead th {\n",
       "        text-align: right;\n",
       "    }\n",
       "</style>\n",
       "<table border=\"1\" class=\"dataframe\">\n",
       "  <thead>\n",
       "    <tr style=\"text-align: right;\">\n",
       "      <th></th>\n",
       "      <th>0</th>\n",
       "      <th>0.1</th>\n",
       "      <th>0.2</th>\n",
       "      <th>0.3</th>\n",
       "      <th>0.4</th>\n",
       "      <th>0.5</th>\n",
       "      <th>0.6</th>\n",
       "      <th>0.7</th>\n",
       "      <th>0.8</th>\n",
       "      <th>0.9</th>\n",
       "    </tr>\n",
       "  </thead>\n",
       "  <tbody>\n",
       "    <tr>\n",
       "      <th>F1-O</th>\n",
       "      <td>96.908000</td>\n",
       "      <td>97.081</td>\n",
       "      <td>97.084000</td>\n",
       "      <td>97.079</td>\n",
       "      <td>96.886000</td>\n",
       "      <td>97.150</td>\n",
       "      <td>97.145000</td>\n",
       "      <td>97.236</td>\n",
       "      <td>97.025000</td>\n",
       "      <td>97.018</td>\n",
       "    </tr>\n",
       "    <tr>\n",
       "      <th>P-O</th>\n",
       "      <td>95.830000</td>\n",
       "      <td>96.331</td>\n",
       "      <td>96.128000</td>\n",
       "      <td>96.565</td>\n",
       "      <td>96.796000</td>\n",
       "      <td>96.418</td>\n",
       "      <td>96.210000</td>\n",
       "      <td>96.542</td>\n",
       "      <td>96.247000</td>\n",
       "      <td>96.737</td>\n",
       "    </tr>\n",
       "    <tr>\n",
       "      <th>R-O</th>\n",
       "      <td>98.035000</td>\n",
       "      <td>97.858</td>\n",
       "      <td>98.076000</td>\n",
       "      <td>97.616</td>\n",
       "      <td>97.006000</td>\n",
       "      <td>97.911</td>\n",
       "      <td>98.110000</td>\n",
       "      <td>97.944</td>\n",
       "      <td>97.836000</td>\n",
       "      <td>97.321</td>\n",
       "    </tr>\n",
       "    <tr>\n",
       "      <th>F1-MISC</th>\n",
       "      <td>41.524444</td>\n",
       "      <td>41.228</td>\n",
       "      <td>42.044444</td>\n",
       "      <td>49.647</td>\n",
       "      <td>42.498000</td>\n",
       "      <td>51.926</td>\n",
       "      <td>43.474444</td>\n",
       "      <td>42.833</td>\n",
       "      <td>39.460000</td>\n",
       "      <td>48.981</td>\n",
       "    </tr>\n",
       "    <tr>\n",
       "      <th>P-MISC</th>\n",
       "      <td>60.002000</td>\n",
       "      <td>63.336</td>\n",
       "      <td>54.669000</td>\n",
       "      <td>61.892</td>\n",
       "      <td>60.557000</td>\n",
       "      <td>69.407</td>\n",
       "      <td>58.892000</td>\n",
       "      <td>67.979</td>\n",
       "      <td>56.669000</td>\n",
       "      <td>60.669</td>\n",
       "    </tr>\n",
       "    <tr>\n",
       "      <th>R-MISC</th>\n",
       "      <td>28.750000</td>\n",
       "      <td>33.750</td>\n",
       "      <td>30.000000</td>\n",
       "      <td>46.250</td>\n",
       "      <td>36.250000</td>\n",
       "      <td>43.750</td>\n",
       "      <td>31.250000</td>\n",
       "      <td>32.500</td>\n",
       "      <td>28.750000</td>\n",
       "      <td>43.750</td>\n",
       "    </tr>\n",
       "    <tr>\n",
       "      <th>F1-PER</th>\n",
       "      <td>75.488000</td>\n",
       "      <td>78.339</td>\n",
       "      <td>78.125000</td>\n",
       "      <td>77.220</td>\n",
       "      <td>77.325000</td>\n",
       "      <td>76.959</td>\n",
       "      <td>78.122000</td>\n",
       "      <td>78.364</td>\n",
       "      <td>77.054000</td>\n",
       "      <td>77.609</td>\n",
       "    </tr>\n",
       "    <tr>\n",
       "      <th>P-PER</th>\n",
       "      <td>79.992000</td>\n",
       "      <td>80.234</td>\n",
       "      <td>82.362000</td>\n",
       "      <td>78.016</td>\n",
       "      <td>74.847000</td>\n",
       "      <td>79.787</td>\n",
       "      <td>80.269000</td>\n",
       "      <td>77.993</td>\n",
       "      <td>80.024000</td>\n",
       "      <td>78.286</td>\n",
       "    </tr>\n",
       "    <tr>\n",
       "      <th>R-PER</th>\n",
       "      <td>73.375000</td>\n",
       "      <td>77.000</td>\n",
       "      <td>75.250000</td>\n",
       "      <td>77.125</td>\n",
       "      <td>81.125000</td>\n",
       "      <td>76.000</td>\n",
       "      <td>76.500000</td>\n",
       "      <td>78.875</td>\n",
       "      <td>75.000000</td>\n",
       "      <td>78.500</td>\n",
       "    </tr>\n",
       "    <tr>\n",
       "      <th>F1-LOC</th>\n",
       "      <td>46.267000</td>\n",
       "      <td>52.133</td>\n",
       "      <td>56.088889</td>\n",
       "      <td>57.388</td>\n",
       "      <td>59.341111</td>\n",
       "      <td>58.811</td>\n",
       "      <td>57.526667</td>\n",
       "      <td>58.181</td>\n",
       "      <td>59.501111</td>\n",
       "      <td>55.863</td>\n",
       "    </tr>\n",
       "    <tr>\n",
       "      <th>P-LOC</th>\n",
       "      <td>94.567000</td>\n",
       "      <td>84.796</td>\n",
       "      <td>78.224000</td>\n",
       "      <td>86.614</td>\n",
       "      <td>79.424000</td>\n",
       "      <td>91.455</td>\n",
       "      <td>83.444000</td>\n",
       "      <td>92.698</td>\n",
       "      <td>71.263000</td>\n",
       "      <td>79.449</td>\n",
       "    </tr>\n",
       "    <tr>\n",
       "      <th>R-LOC</th>\n",
       "      <td>33.332000</td>\n",
       "      <td>42.222</td>\n",
       "      <td>39.443000</td>\n",
       "      <td>45.556</td>\n",
       "      <td>43.890000</td>\n",
       "      <td>45.554</td>\n",
       "      <td>38.888000</td>\n",
       "      <td>43.889</td>\n",
       "      <td>46.111000</td>\n",
       "      <td>47.777</td>\n",
       "    </tr>\n",
       "    <tr>\n",
       "      <th>F1-ORG</th>\n",
       "      <td>33.330000</td>\n",
       "      <td>33.330</td>\n",
       "      <td>33.330000</td>\n",
       "      <td>33.330</td>\n",
       "      <td>33.330000</td>\n",
       "      <td>33.330</td>\n",
       "      <td>33.330000</td>\n",
       "      <td>33.330</td>\n",
       "      <td>33.330000</td>\n",
       "      <td>33.330</td>\n",
       "    </tr>\n",
       "    <tr>\n",
       "      <th>P-ORG</th>\n",
       "      <td>10.000000</td>\n",
       "      <td>5.000</td>\n",
       "      <td>17.500000</td>\n",
       "      <td>10.000</td>\n",
       "      <td>15.000000</td>\n",
       "      <td>10.000</td>\n",
       "      <td>10.000000</td>\n",
       "      <td>7.500</td>\n",
       "      <td>10.000000</td>\n",
       "      <td>15.000</td>\n",
       "    </tr>\n",
       "    <tr>\n",
       "      <th>R-ORG</th>\n",
       "      <td>20.000000</td>\n",
       "      <td>10.000</td>\n",
       "      <td>35.000000</td>\n",
       "      <td>20.000</td>\n",
       "      <td>30.000000</td>\n",
       "      <td>20.000</td>\n",
       "      <td>20.000000</td>\n",
       "      <td>15.000</td>\n",
       "      <td>20.000000</td>\n",
       "      <td>30.000</td>\n",
       "    </tr>\n",
       "  </tbody>\n",
       "</table>\n",
       "</div>"
      ],
      "text/plain": [
       "                 0     0.1        0.2     0.3        0.4     0.5        0.6  \\\n",
       "F1-O     96.908000  97.081  97.084000  97.079  96.886000  97.150  97.145000   \n",
       "P-O      95.830000  96.331  96.128000  96.565  96.796000  96.418  96.210000   \n",
       "R-O      98.035000  97.858  98.076000  97.616  97.006000  97.911  98.110000   \n",
       "F1-MISC  41.524444  41.228  42.044444  49.647  42.498000  51.926  43.474444   \n",
       "P-MISC   60.002000  63.336  54.669000  61.892  60.557000  69.407  58.892000   \n",
       "R-MISC   28.750000  33.750  30.000000  46.250  36.250000  43.750  31.250000   \n",
       "F1-PER   75.488000  78.339  78.125000  77.220  77.325000  76.959  78.122000   \n",
       "P-PER    79.992000  80.234  82.362000  78.016  74.847000  79.787  80.269000   \n",
       "R-PER    73.375000  77.000  75.250000  77.125  81.125000  76.000  76.500000   \n",
       "F1-LOC   46.267000  52.133  56.088889  57.388  59.341111  58.811  57.526667   \n",
       "P-LOC    94.567000  84.796  78.224000  86.614  79.424000  91.455  83.444000   \n",
       "R-LOC    33.332000  42.222  39.443000  45.556  43.890000  45.554  38.888000   \n",
       "F1-ORG   33.330000  33.330  33.330000  33.330  33.330000  33.330  33.330000   \n",
       "P-ORG    10.000000   5.000  17.500000  10.000  15.000000  10.000  10.000000   \n",
       "R-ORG    20.000000  10.000  35.000000  20.000  30.000000  20.000  20.000000   \n",
       "\n",
       "            0.7        0.8     0.9  \n",
       "F1-O     97.236  97.025000  97.018  \n",
       "P-O      96.542  96.247000  96.737  \n",
       "R-O      97.944  97.836000  97.321  \n",
       "F1-MISC  42.833  39.460000  48.981  \n",
       "P-MISC   67.979  56.669000  60.669  \n",
       "R-MISC   32.500  28.750000  43.750  \n",
       "F1-PER   78.364  77.054000  77.609  \n",
       "P-PER    77.993  80.024000  78.286  \n",
       "R-PER    78.875  75.000000  78.500  \n",
       "F1-LOC   58.181  59.501111  55.863  \n",
       "P-LOC    92.698  71.263000  79.449  \n",
       "R-LOC    43.889  46.111000  47.777  \n",
       "F1-ORG   33.330  33.330000  33.330  \n",
       "P-ORG     7.500  10.000000  15.000  \n",
       "R-ORG    15.000  20.000000  30.000  "
      ]
     },
     "execution_count": 76,
     "metadata": {},
     "output_type": "execute_result"
    }
   ],
   "source": [
    "ewoByTagResult = pd.read_csv(\"results/ewo-by-tag.csv\", index_col=0)\n",
    "ewoByTagResult"
   ]
  },
  {
   "cell_type": "code",
   "execution_count": 77,
   "metadata": {},
   "outputs": [
    {
     "data": {
      "text/html": [
       "<div>\n",
       "<style scoped>\n",
       "    .dataframe tbody tr th:only-of-type {\n",
       "        vertical-align: middle;\n",
       "    }\n",
       "\n",
       "    .dataframe tbody tr th {\n",
       "        vertical-align: top;\n",
       "    }\n",
       "\n",
       "    .dataframe thead th {\n",
       "        text-align: right;\n",
       "    }\n",
       "</style>\n",
       "<table border=\"1\" class=\"dataframe\">\n",
       "  <thead>\n",
       "    <tr style=\"text-align: right;\">\n",
       "      <th></th>\n",
       "      <th>0</th>\n",
       "    </tr>\n",
       "  </thead>\n",
       "  <tbody>\n",
       "    <tr>\n",
       "      <th>F1-O</th>\n",
       "      <td>97.061200</td>\n",
       "    </tr>\n",
       "    <tr>\n",
       "      <th>P-O</th>\n",
       "      <td>96.380400</td>\n",
       "    </tr>\n",
       "    <tr>\n",
       "      <th>R-O</th>\n",
       "      <td>97.771300</td>\n",
       "    </tr>\n",
       "    <tr>\n",
       "      <th>F1-MISC</th>\n",
       "      <td>44.361633</td>\n",
       "    </tr>\n",
       "    <tr>\n",
       "      <th>P-MISC</th>\n",
       "      <td>61.407200</td>\n",
       "    </tr>\n",
       "    <tr>\n",
       "      <th>R-MISC</th>\n",
       "      <td>35.500000</td>\n",
       "    </tr>\n",
       "    <tr>\n",
       "      <th>F1-PER</th>\n",
       "      <td>77.460500</td>\n",
       "    </tr>\n",
       "    <tr>\n",
       "      <th>P-PER</th>\n",
       "      <td>79.181000</td>\n",
       "    </tr>\n",
       "    <tr>\n",
       "      <th>R-PER</th>\n",
       "      <td>76.875000</td>\n",
       "    </tr>\n",
       "    <tr>\n",
       "      <th>F1-LOC</th>\n",
       "      <td>56.110078</td>\n",
       "    </tr>\n",
       "    <tr>\n",
       "      <th>P-LOC</th>\n",
       "      <td>84.193400</td>\n",
       "    </tr>\n",
       "    <tr>\n",
       "      <th>R-LOC</th>\n",
       "      <td>42.666200</td>\n",
       "    </tr>\n",
       "    <tr>\n",
       "      <th>F1-ORG</th>\n",
       "      <td>33.330000</td>\n",
       "    </tr>\n",
       "    <tr>\n",
       "      <th>P-ORG</th>\n",
       "      <td>11.000000</td>\n",
       "    </tr>\n",
       "    <tr>\n",
       "      <th>R-ORG</th>\n",
       "      <td>22.000000</td>\n",
       "    </tr>\n",
       "  </tbody>\n",
       "</table>\n",
       "</div>"
      ],
      "text/plain": [
       "                 0\n",
       "F1-O     97.061200\n",
       "P-O      96.380400\n",
       "R-O      97.771300\n",
       "F1-MISC  44.361633\n",
       "P-MISC   61.407200\n",
       "R-MISC   35.500000\n",
       "F1-PER   77.460500\n",
       "P-PER    79.181000\n",
       "R-PER    76.875000\n",
       "F1-LOC   56.110078\n",
       "P-LOC    84.193400\n",
       "R-LOC    42.666200\n",
       "F1-ORG   33.330000\n",
       "P-ORG    11.000000\n",
       "R-ORG    22.000000"
      ]
     },
     "execution_count": 77,
     "metadata": {},
     "output_type": "execute_result"
    }
   ],
   "source": [
    "ewoByTagResult.mean(axis=1).to_frame()"
   ]
  },
  {
   "cell_type": "code",
   "execution_count": 78,
   "metadata": {},
   "outputs": [
    {
     "data": {
      "text/html": [
       "<div>\n",
       "<style scoped>\n",
       "    .dataframe tbody tr th:only-of-type {\n",
       "        vertical-align: middle;\n",
       "    }\n",
       "\n",
       "    .dataframe tbody tr th {\n",
       "        vertical-align: top;\n",
       "    }\n",
       "\n",
       "    .dataframe thead th {\n",
       "        text-align: right;\n",
       "    }\n",
       "</style>\n",
       "<table border=\"1\" class=\"dataframe\">\n",
       "  <thead>\n",
       "    <tr style=\"text-align: right;\">\n",
       "      <th></th>\n",
       "      <th>0</th>\n",
       "    </tr>\n",
       "  </thead>\n",
       "  <tbody>\n",
       "    <tr>\n",
       "      <th>F1-O</th>\n",
       "      <td>1.075141e-01</td>\n",
       "    </tr>\n",
       "    <tr>\n",
       "      <th>P-O</th>\n",
       "      <td>2.939029e-01</td>\n",
       "    </tr>\n",
       "    <tr>\n",
       "      <th>R-O</th>\n",
       "      <td>3.575711e-01</td>\n",
       "    </tr>\n",
       "    <tr>\n",
       "      <th>F1-MISC</th>\n",
       "      <td>4.221044e+00</td>\n",
       "    </tr>\n",
       "    <tr>\n",
       "      <th>P-MISC</th>\n",
       "      <td>4.577276e+00</td>\n",
       "    </tr>\n",
       "    <tr>\n",
       "      <th>R-MISC</th>\n",
       "      <td>6.697844e+00</td>\n",
       "    </tr>\n",
       "    <tr>\n",
       "      <th>F1-PER</th>\n",
       "      <td>8.738784e-01</td>\n",
       "    </tr>\n",
       "    <tr>\n",
       "      <th>P-PER</th>\n",
       "      <td>2.013843e+00</td>\n",
       "    </tr>\n",
       "    <tr>\n",
       "      <th>R-PER</th>\n",
       "      <td>2.213437e+00</td>\n",
       "    </tr>\n",
       "    <tr>\n",
       "      <th>F1-LOC</th>\n",
       "      <td>4.081490e+00</td>\n",
       "    </tr>\n",
       "    <tr>\n",
       "      <th>P-LOC</th>\n",
       "      <td>7.360104e+00</td>\n",
       "    </tr>\n",
       "    <tr>\n",
       "      <th>R-LOC</th>\n",
       "      <td>4.341769e+00</td>\n",
       "    </tr>\n",
       "    <tr>\n",
       "      <th>F1-ORG</th>\n",
       "      <td>4.102320e-15</td>\n",
       "    </tr>\n",
       "    <tr>\n",
       "      <th>P-ORG</th>\n",
       "      <td>3.763863e+00</td>\n",
       "    </tr>\n",
       "    <tr>\n",
       "      <th>R-ORG</th>\n",
       "      <td>7.527727e+00</td>\n",
       "    </tr>\n",
       "  </tbody>\n",
       "</table>\n",
       "</div>"
      ],
      "text/plain": [
       "                    0\n",
       "F1-O     1.075141e-01\n",
       "P-O      2.939029e-01\n",
       "R-O      3.575711e-01\n",
       "F1-MISC  4.221044e+00\n",
       "P-MISC   4.577276e+00\n",
       "R-MISC   6.697844e+00\n",
       "F1-PER   8.738784e-01\n",
       "P-PER    2.013843e+00\n",
       "R-PER    2.213437e+00\n",
       "F1-LOC   4.081490e+00\n",
       "P-LOC    7.360104e+00\n",
       "R-LOC    4.341769e+00\n",
       "F1-ORG   4.102320e-15\n",
       "P-ORG    3.763863e+00\n",
       "R-ORG    7.527727e+00"
      ]
     },
     "execution_count": 78,
     "metadata": {},
     "output_type": "execute_result"
    }
   ],
   "source": [
    "ewoByTagResult.std(axis=1).to_frame()"
   ]
  },
  {
   "cell_type": "code",
   "execution_count": 79,
   "metadata": {},
   "outputs": [
    {
     "name": "stdout",
     "output_type": "stream",
     "text": [
      "Pred\tReal\tFreq\tWord\n",
      "O\tLOC\t4170.0\tSamaria\n",
      "O\tLOC\t4170.0\tOlivet\n",
      "O\tMISC\t4170.0\tSabbath\n",
      "PER\tO\t4170.0\tupper\n",
      "PER\tO\t4170.0\troom\n",
      "PER\tO\t4170.0\twhere\n",
      "PER\tO\t4170.0\tZealot\n",
      "LOC\tO\t4170.0\tso\n",
      "LOC\tO\t4170.0\tlanguage\n",
      "O\tMISC\t4170.0\tPsalms\n",
      "PER\tO\t4170.0\tforward\n",
      "O\tMISC\t4170.0\tninth\n",
      "O\tPER\t4170.0\tMoses\n",
      "O\tPER\t4170.0\tSamuel\n",
      "ORG\tO\t4170.0\tcaptain\n",
      "PER\tO\t4170.0\thigh-priestly\n",
      "PER\tO\t4170.0\tfamily\n",
      "O\tPER\t4170.0\tPontius\n",
      "O\tPER\t4170.0\tBarnabas\n",
      "O\tLOC\t4170.0\tCyprus\n",
      "O\tPER\t4170.0\tElijah\n",
      "O\tMISC\t4170.0\tr\n",
      "PER\tO\t4170.0\tJu\n",
      "PER\tO\t4170.0\th\n",
      "LOC\tO\t4170.0\tdeportation\n",
      "O\tPER\t4170.0\tImmanuel\n"
     ]
    }
   ],
   "source": [
    "columns = en_fingerprints.columns\n",
    "\n",
    "print(\"Pred\", \"Real\", \"Freq\", \"Word\", sep=\"\\t\")\n",
    "for c in columns:\n",
    "    prediction = model.predict(en_fingerprints[c].values.reshape((1, 210)))\n",
    "    pred_tag = int2tag[np.argmax(prediction)]\n",
    "    real_tag = en_corpus[en_corpus.word == c].iloc[0]['ne-tag']\n",
    "    \n",
    "    if pred_tag != real_tag:\n",
    "        print(pred_tag, real_tag, en_fingerprints[c].max(), c, sep=\"\\t\")"
   ]
  }
 ],
 "metadata": {
  "anaconda-cloud": {},
  "colab": {
   "collapsed_sections": [],
   "default_view": {},
   "name": "rnn-ner.ipynb",
   "provenance": [
    {
     "file_id": "1bSiRRO29rixupIV6ume9T9B4KUKtYVKI",
     "timestamp": 1513688449690
    }
   ],
   "version": "0.3.2",
   "views": {}
  },
  "kernelspec": {
   "display_name": "Python [conda env:ner-projection] *",
   "language": "python",
   "name": "conda-env-ner-projection-py"
  },
  "language_info": {
   "codemirror_mode": {
    "name": "ipython",
    "version": 3
   },
   "file_extension": ".py",
   "mimetype": "text/x-python",
   "name": "python",
   "nbconvert_exporter": "python",
   "pygments_lexer": "ipython3",
   "version": "3.7.3"
  }
 },
 "nbformat": 4,
 "nbformat_minor": 1
}
