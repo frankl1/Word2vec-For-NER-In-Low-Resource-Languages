{
 "cells": [
  {
   "cell_type": "code",
   "execution_count": 1,
   "metadata": {
    "colab": {
     "autoexec": {
      "startup": false,
      "wait_interval": 0
     },
     "base_uri": "https://localhost:8080/",
     "height": 88,
     "output_extras": [
      {
       "item_id": 1
      }
     ]
    },
    "colab_type": "code",
    "executionInfo": {
     "elapsed": 2799,
     "status": "ok",
     "timestamp": 1516045322673,
     "user": {
      "displayName": "Michael Franklin Mbouopda",
      "photoUrl": "//lh3.googleusercontent.com/-2_Vuj9ESsJ0/AAAAAAAAAAI/AAAAAAAABSc/r-SRcN0jWPw/s50-c-k-no/photo.jpg",
      "userId": "117384351130599115261"
     },
     "user_tz": -60
    },
    "id": "NamUCuj1bBjd",
    "outputId": "7874258f-7c3e-4646-f238-36437759767b"
   },
   "outputs": [
    {
     "name": "stderr",
     "output_type": "stream",
     "text": [
      "Using TensorFlow backend.\n"
     ]
    }
   ],
   "source": [
    "# import\n",
    "import keras\n",
    "import sys\n",
    "import numpy as np\n",
    "import string\n",
    "import pandas as pd\n",
    "import matplotlib.pyplot as plt\n",
    "from keras.models import Sequential\n",
    "from keras.layers import SimpleRNN, Dense\n",
    "from keras.utils import np_utils, plot_model\n",
    "from keras.callbacks import ModelCheckpoint, EarlyStopping\n",
    "from sklearn import model_selection\n",
    "from sklearn.metrics import precision_score, recall_score, f1_score, accuracy_score, precision_recall_fscore_support\n",
    "import h5py as h5py"
   ]
  },
  {
   "cell_type": "code",
   "execution_count": 2,
   "metadata": {
    "colab": {
     "autoexec": {
      "startup": false,
      "wait_interval": 0
     }
    },
    "colab_type": "code",
    "id": "t9h7fyDCbkMG"
   },
   "outputs": [],
   "source": [
    "# if we are doeing binary classification. That means say if a token is a named entity or not\n",
    "BINARY = False\n",
    "\n",
    "# number of epochs for training\n",
    "epochs = 10 \n",
    "\n",
    "# the english side of the corpus\n",
    "en_corpus_file = \"corpus-en.txt\"\n",
    "\n",
    "# the ewondo side of the corpus\n",
    "ewo_corpus_file = \"corpus-ewo.txt\"\n",
    "\n",
    "# name of the file to same the model \n",
    "best_model_file = \"best-model-conll.hdfs\"\n",
    "\n",
    "# The maximal number of phrases to use\n",
    "max_nb_of_phrases =  -1\n",
    "\n",
    "# the maximal number of duplicates for each word in the corpus\n",
    "duplication = 1\n",
    "\n",
    "# wether we are using only the vocabulary, ro redundancy\n",
    "is_only_vocab = True\n",
    "\n",
    "# if word should be shuffle or not\n",
    "shuffle = is_only_vocab\n",
    "\n",
    "# if we are using the Zennaki et al. signature\n",
    "is_zennaki = False\n",
    "\n",
    "# the number of neurons in the first layer\n",
    "h1_size = 640\n",
    "\n",
    "# number of neurons in the second layer\n",
    "h2_size = 160  "
   ]
  },
  {
   "cell_type": "code",
   "execution_count": 3,
   "metadata": {
    "colab": {
     "autoexec": {
      "startup": false,
      "wait_interval": 0
     }
    },
    "colab_type": "code",
    "id": "q1OlcYPo1Att"
   },
   "outputs": [],
   "source": [
    "def getTag(aString):\n",
    "    \"\"\"\n",
    "        convert a string to a tag\n",
    "    \"\"\"\n",
    "    tag = \"O\"\n",
    "    if BINARY:\n",
    "        if aString != \"O\":\n",
    "            return \"NE\"\n",
    "    else:\n",
    "        tag = aString\n",
    "    return tag\n",
    "     "
   ]
  },
  {
   "cell_type": "code",
   "execution_count": 4,
   "metadata": {
    "colab": {
     "autoexec": {
      "startup": false,
      "wait_interval": 0
     }
    },
    "colab_type": "code",
    "id": "q1OlcYPo1Att"
   },
   "outputs": [],
   "source": [
    "def load_corpus(file, max_nb_of_phrases):\n",
    "    \"\"\"\n",
    "    Load a corpus stored in a file\n",
    "    Input:\n",
    "        - file: the name of the file of the corpus\n",
    "        - max_nb_of_phases: maximal number of phrases to load\n",
    "    \n",
    "    Return:\n",
    "        - a DataFrame representing the corpus\n",
    "        - the number of phrases in the corpus\n",
    "    \"\"\"\n",
    "    nb_of_phrases = 0\n",
    "    dataset = {\"word\": [], \"ne-tag\": []}\n",
    "    with open(file) as f:\n",
    "        prev_line = None\n",
    "        for cpt, line in enumerate(f):\n",
    "            if cpt == 0:\n",
    "                continue\n",
    "            if nb_of_phrases == max_nb_of_phrases:\n",
    "                break;\n",
    "\n",
    "            l = line.strip()\n",
    "            if len(l) == 0 and len(prev_line) != 0:\n",
    "                nb_of_phrases += 1\n",
    "                dataset[\"word\"].append(line)\n",
    "                dataset[\"ne-tag\"].append(None)\n",
    "            else:\n",
    "                l = l.split(\"\\t\")\n",
    "                if l[0] not in string.punctuation:\n",
    "                    dataset[\"word\"].append(l[0])\n",
    "                    dataset[\"ne-tag\"].append(ne_type(l[1]))\n",
    "            prev_line = line.strip()\n",
    "        \n",
    "    return pd.DataFrame(dataset), nb_of_phrases+1"
   ]
  },
  {
   "cell_type": "code",
   "execution_count": 5,
   "metadata": {
    "colab": {
     "autoexec": {
      "startup": false,
      "wait_interval": 0
     }
    },
    "colab_type": "code",
    "id": "q1OlcYPo1Att"
   },
   "outputs": [],
   "source": [
    "def corpus_fingerprint(aDataframe, nb_of_biphrases):\n",
    "    \"\"\"\n",
    "    Create the distributionnal signature of each word in the corpus\n",
    "    Input:\n",
    "        -aDataFrame: the corpus DataFrame\n",
    "        -nb_of_biphrases: number of phrases in the corpus\n",
    "    Return:\n",
    "        a DataFrame: corpus fingerprint, the columns are the words in the corpus\n",
    "    \"\"\"\n",
    "    fingerprints = {}\n",
    "    current_bi_phrase_index = 0\n",
    "    nb_word_in_corpus = aDataframe[aDataframe.word != \"\\n\"].word.size\n",
    "    words_in_current_phrase = []\n",
    "    for index, row in aDataframe.iterrows():\n",
    "        if current_bi_phrase_index > nb_of_biphrases:\n",
    "            break\n",
    "            \n",
    "        word = row['word']\n",
    "        \n",
    "        if word != \"\\n\":\n",
    "            words_in_current_phrase.append(word)\n",
    "            if word not in fingerprints:\n",
    "                fingerprints[word] = np.zeros(nb_of_biphrases, dtype=np.float32)\n",
    "            fingerprints[word][current_bi_phrase_index] += 1\n",
    "        else:\n",
    "            nb_word_in_current_phrase = len(words_in_current_phrase)\n",
    "#             for w in words_in_current_phrase:\n",
    "#                 fingerprints[w][current_bi_phrase_index] = nb_word_in_corpus / fingerprints[w][current_bi_phrase_index]                \n",
    "            current_bi_phrase_index += 1\n",
    "            words_in_current_phrase = []\n",
    "    for word in fingerprints:\n",
    "        for i in range(nb_of_biphrases):\n",
    "            if fingerprints[word][i] != 0:\n",
    "                fingerprints[word][i] = nb_word_in_corpus / fingerprints[word][i]\n",
    "#         fingerprints[word][nb_of_biphrases] = nb_word_in_corpus / aDataframe[aDataframe.word == word].word.size\n",
    "    ret = pd.DataFrame(fingerprints)\n",
    "    if is_zennaki:\n",
    "        ret[ret > 0] = 1\n",
    "        \n",
    "    return ret"
   ]
  },
  {
   "cell_type": "code",
   "execution_count": 6,
   "metadata": {
    "colab": {
     "autoexec": {
      "startup": false,
      "wait_interval": 0
     }
    },
    "colab_type": "code",
    "id": "q1OlcYPo1Att"
   },
   "outputs": [],
   "source": [
    "def corpus2trainingdata(aDataframe, fingerprintsDataFrame):\n",
    "    \"\"\"\n",
    "    Convert corpus to training data => numpy array\n",
    "    \n",
    "    Input:\n",
    "        -aDataFrame: Corpus dataframe\n",
    "        -fingerprintsDataFrame: distributionnal signature of words in the corpus\n",
    "    Return:\n",
    "        (X, y): X is the array of words (signature) in the corpus and y is the corresponding labels (NE tags)\n",
    "    \"\"\"\n",
    "    X = np.zeros((aDataframe.shape[0], fingerprintsDataFrame.shape[0]), dtype=np.int8)\n",
    "    y = np.zeros(aDataframe.shape[0], dtype=np.int8)\n",
    "    i = 0\n",
    "    for row in aDataframe.iterrows():\n",
    "        X[i] = fingerprintsDataFrame[row[1]['word']].values\n",
    "        y[i] = tag2int[getTag(row[1]['ne-tag'])]\n",
    "        i += 1\n",
    "    return X, y"
   ]
  },
  {
   "cell_type": "code",
   "execution_count": 7,
   "metadata": {
    "colab": {
     "autoexec": {
      "startup": false,
      "wait_interval": 0
     }
    },
    "colab_type": "code",
    "id": "q1OlcYPo1Att"
   },
   "outputs": [],
   "source": [
    "# def train_test_split(X, y, test_size = 0.33):\n",
    "#     total = X.shape[0]\n",
    "#     train_length = round(total * (1 - test_size)) \n",
    "#     return X[:train_length], X[train_length:], y[:train_length], y[train_length:]"
   ]
  },
  {
   "cell_type": "code",
   "execution_count": 8,
   "metadata": {
    "colab": {
     "autoexec": {
      "startup": false,
      "wait_interval": 0
     }
    },
    "colab_type": "code",
    "id": "q1OlcYPo1Att"
   },
   "outputs": [],
   "source": [
    "# A utility function to convert NE tags\n",
    "def ne_type(aType):\n",
    "    aType = aType.lower()\n",
    "    if 'per' in aType:\n",
    "        t =  'NE' if BINARY else 'PER' \n",
    "    elif 'loc' in aType:\n",
    "        t =  'NE' if BINARY else 'LOC'\n",
    "    elif 'org' in aType:\n",
    "        t =  'NE' if BINARY else 'ORG'\n",
    "    elif 'hour' in aType:\n",
    "        t =  'NE' if BINARY else 'MISC'\n",
    "    elif aType != 'o' and len(aType) > 0 :\n",
    "        t =  'NE' if BINARY else 'MISC'\n",
    "    else:\n",
    "        t = 'O'\n",
    "    return t"
   ]
  },
  {
   "cell_type": "code",
   "execution_count": 9,
   "metadata": {
    "colab": {
     "autoexec": {
      "startup": false,
      "wait_interval": 0
     }
    },
    "colab_type": "code",
    "id": "q1OlcYPo1Att"
   },
   "outputs": [],
   "source": [
    "def P_R_F1(y_pred, y_true, neg_class):\n",
    "    same = y_pred[y_true==y_pred]\n",
    "    tp = same[same != neg_class].size\n",
    "    nb_of_pos_exple = y_true[y_true != neg_class].size\n",
    "    nb_of_pos_pred = y_pred[y_pred != neg_class].size\n",
    "    p = r = f1 = 0\n",
    "    try:\n",
    "        p = np.round(tp*100/nb_of_pos_pred, 2)\n",
    "    except ZeroDivisionError:\n",
    "        print(\"number of correct positive predictions is 0\")\n",
    "        \n",
    "    try:\n",
    "        r = np.round(tp*100/nb_of_pos_exple, 2)\n",
    "    except ZeroDivisionError:\n",
    "        print(\"number of position exple is 0\")\n",
    "        \n",
    "    try:\n",
    "        f1 = np.round(2*r*p/(r+p), 2)\n",
    "    except ZeroDivisionError:\n",
    "        print(\"Recall and precision are 0\")\n",
    "\n",
    "    return p, r, f1"
   ]
  },
  {
   "cell_type": "code",
   "execution_count": 10,
   "metadata": {},
   "outputs": [],
   "source": [
    "def shuffle_data(X, y):\n",
    "    indices = [i for i in  range(X.shape[0])]\n",
    "    np.random.shuffle(indices)\n",
    "    return X[indices], y[indices]"
   ]
  },
  {
   "cell_type": "code",
   "execution_count": 11,
   "metadata": {
    "colab": {
     "autoexec": {
      "startup": false,
      "wait_interval": 0
     },
     "base_uri": "https://localhost:8080/",
     "height": 238,
     "output_extras": [
      {
       "item_id": 1
      }
     ]
    },
    "colab_type": "code",
    "executionInfo": {
     "elapsed": 1145,
     "status": "ok",
     "timestamp": 1515671862146,
     "user": {
      "displayName": "Michael Franklin Mbouopda",
      "photoUrl": "//lh3.googleusercontent.com/-2_Vuj9ESsJ0/AAAAAAAAAAI/AAAAAAAABSc/r-SRcN0jWPw/s50-c-k-no/photo.jpg",
      "userId": "117384351130599115261"
     },
     "user_tz": -60
    },
    "id": "cvpl6zMzxm6X",
    "outputId": "ef520c78-0fd3-494a-defd-fb3e2f01d371"
   },
   "outputs": [],
   "source": [
    "def create_model(input_dim, output_dim):\n",
    "    model = Sequential()\n",
    "    model.add(Dense(h1_size, input_dim=input_dim, activation='sigmoid', name=\"hidden1\"))\n",
    "    model.add(Dense(h2_size, activation='sigmoid', name=\"hidden2\"))\n",
    "    if BINARY:\n",
    "        model.add(Dense(1, activation='sigmoid', name=\"outputlayer\"))\n",
    "        model.compile(loss='binary_crossentropy', optimizer='rmsprop', metrics=['binary_accuracy'])\n",
    "    else:\n",
    "        model.add(Dense(output_dim, activation='softmax', name=\"outputlayer\"))\n",
    "        model.compile(loss='categorical_crossentropy', optimizer=\"rmsprop\", metrics=['accuracy'])\n",
    "    model.summary()\n",
    "    return model"
   ]
  },
  {
   "cell_type": "code",
   "execution_count": 12,
   "metadata": {
    "colab": {
     "autoexec": {
      "startup": false,
      "wait_interval": 0
     },
     "base_uri": "https://localhost:8080/",
     "height": 343,
     "output_extras": [
      {
       "item_id": 99
      },
      {
       "item_id": 223
      },
      {
       "item_id": 284
      },
      {
       "item_id": 347
      },
      {
       "item_id": 394
      },
      {
       "item_id": 445
      },
      {
       "item_id": 490
      },
      {
       "item_id": 542
      },
      {
       "item_id": 590
      },
      {
       "item_id": 639
      },
      {
       "item_id": 684
      }
     ]
    },
    "colab_type": "code",
    "executionInfo": {
     "elapsed": 676115,
     "status": "ok",
     "timestamp": 1515672664054,
     "user": {
      "displayName": "Michael Franklin Mbouopda",
      "photoUrl": "//lh3.googleusercontent.com/-2_Vuj9ESsJ0/AAAAAAAAAAI/AAAAAAAABSc/r-SRcN0jWPw/s50-c-k-no/photo.jpg",
      "userId": "117384351130599115261"
     },
     "user_tz": -60
    },
    "id": "uY2-NcCZxpXe",
    "outputId": "adcd5c23-d0c6-463a-bc11-db5d415eba1d"
   },
   "outputs": [],
   "source": [
    "def train_model(model, X_train, y_train, X_val, y_val, epochs=epochs):\n",
    "    # stop learning if the error is the same between two consecutive epochs\n",
    "    early_stop = EarlyStopping(patience=20, verbose=2)\n",
    "    \n",
    "    # saving best model\n",
    "    best_model_cp = ModelCheckpoint(best_model_file, save_best_only=True, verbose=1)\n",
    "    \n",
    "    model.fit(X_train, y_train, validation_data=(X_val, y_val), epochs=epochs, verbose=0, shuffle=shuffle, callbacks=[best_model_cp, early_stop])\n",
    "    \n",
    "    #loading and returning the best model\n",
    "    return keras.models.load_model(best_model_file)"
   ]
  },
  {
   "cell_type": "code",
   "execution_count": 13,
   "metadata": {},
   "outputs": [],
   "source": [
    "def predict(model, X, y, binary=BINARY):\n",
    "    if BINARY:\n",
    "        y_pred = np.round(model.predict(X))\n",
    "        y_true = y\n",
    "    else:\n",
    "        predictions = model.predict(X)\n",
    "        y_pred = np.array([np.argmax(p) for p in predictions])\n",
    "        y_true = np.array([np.argmax(t) for t in y ])\n",
    "    return y_true, y_pred"
   ]
  },
  {
   "cell_type": "code",
   "execution_count": 14,
   "metadata": {
    "colab": {
     "autoexec": {
      "startup": false,
      "wait_interval": 0
     },
     "base_uri": "https://localhost:8080/",
     "height": 34,
     "output_extras": [
      {
       "item_id": 1
      }
     ]
    },
    "colab_type": "code",
    "executionInfo": {
     "elapsed": 23179,
     "status": "ok",
     "timestamp": 1515672689915,
     "user": {
      "displayName": "Michael Franklin Mbouopda",
      "photoUrl": "//lh3.googleusercontent.com/-2_Vuj9ESsJ0/AAAAAAAAAAI/AAAAAAAABSc/r-SRcN0jWPw/s50-c-k-no/photo.jpg",
      "userId": "117384351130599115261"
     },
     "user_tz": -60
    },
    "id": "N33cmgKEyPOb",
    "outputId": "917cdaec-b68c-47d5-a8ea-bd6ef7387a67"
   },
   "outputs": [],
   "source": [
    "def model_performance(y_true, y_pred):\n",
    "    return P_R_F1(y_pred, y_true, tag2int['O']) #precision, recall, f1-score"
   ]
  },
  {
   "cell_type": "code",
   "execution_count": 15,
   "metadata": {},
   "outputs": [],
   "source": [
    "def model_performace_by_tag(y_true, y_pred, tag):\n",
    "    p, r, f1 = 0, 0, 0\n",
    "    \n",
    "    eq = y_pred[y_pred==y_true]\n",
    "    correctly_pred = eq[eq==tag].size\n",
    "    try:\n",
    "        p = np.round(100 * correctly_pred / y_pred[y_pred==tag].size, 2)\n",
    "    except ZeroDivisionError:\n",
    "        pass\n",
    "    \n",
    "    try:\n",
    "        r = np.round(100 * correctly_pred / y_true[y_true==tag].size, 2)\n",
    "    except ZeroDivisionError:\n",
    "        pass\n",
    "    \n",
    "    try:\n",
    "        f1 = np.round(2 * r * p / (r + p), 2)\n",
    "    except ZeroDivisionError:\n",
    "        pass\n",
    "    \n",
    "    return p, r, f1"
   ]
  },
  {
   "cell_type": "code",
   "execution_count": 16,
   "metadata": {},
   "outputs": [],
   "source": [
    "def algoEval(X_train, y_train, X_val, y_val, X_ewo, y_ewo, epochs=epochs, model=None):\n",
    "    \"\"\"\n",
    "    Train a model on (X, y) and validate on (X_val, y_val) then project on (X_ewo)\n",
    "    \"\"\"\n",
    "    test_precision, train_precision, ewo_precision = [], [], []\n",
    "    test_recall, train_recall, ewo_recall = [], [], []\n",
    "    test_fscore, train_fscore, ewo_fscore = [], [], []\n",
    "    \n",
    "    test_result_by_tag = {}\n",
    "    train_result_by_tag = {}\n",
    "    ewo_result_by_tag = {}\n",
    "    for t in tagSet:\n",
    "        f1_key = \"F1-\"+t\n",
    "        p_key = \"P-\"+t\n",
    "        r_key = \"R-\"+t\n",
    "        train_result_by_tag[f1_key], train_result_by_tag[p_key], train_result_by_tag[r_key] = [], [], []\n",
    "        test_result_by_tag[f1_key], test_result_by_tag[p_key], test_result_by_tag[r_key] = [], [], []\n",
    "        ewo_result_by_tag[f1_key], ewo_result_by_tag[p_key], ewo_result_by_tag[r_key] = [], [], []\n",
    "\n",
    "    m = train_model(model, X_train, y_train, X_val, y_val, epochs=epochs)\n",
    "        \n",
    "    y_true, y_pred = predict(m, X_train, y_train)\n",
    "    p_train, r_train, f1_train = model_performance(y_true, y_pred)\n",
    "        \n",
    "    y_true_val, y_pred_val = predict(m, X_val, y_val)\n",
    "    p_val, r_val, f1_val = model_performance(y_true_val, y_pred_val)\n",
    "        \n",
    "    y_true_ewo, y_pred_ewo = predict(m, X_ewo, y_ewo) \n",
    "    p_ewo, r_ewo, f1_ewo = model_performance(y_true_ewo, y_pred_ewo)\n",
    "        \n",
    "    for t in range(len(int2tag)):\n",
    "        f1_key = \"F1-\" + int2tag[t]\n",
    "        p_key = \"P-\" + int2tag[t]\n",
    "        r_key = \"R-\" + int2tag[t]\n",
    "            \n",
    "        p, r, f1 = model_performace_by_tag(y_true, y_pred, t)\n",
    "        train_result_by_tag[p_key].append(p)\n",
    "        train_result_by_tag[r_key].append(r)\n",
    "        train_result_by_tag[f1_key].append(f1)\n",
    "            \n",
    "        p, r, f1 = model_performace_by_tag(y_true_val, y_pred_val, t)\n",
    "        test_result_by_tag[p_key].append(p)\n",
    "        test_result_by_tag[r_key].append(r)\n",
    "        test_result_by_tag[f1_key].append(f1)\n",
    "            \n",
    "        p, r, f1 = model_performace_by_tag(y_true_ewo, y_pred_ewo, t)\n",
    "        ewo_result_by_tag[p_key].append(p)\n",
    "        ewo_result_by_tag[r_key].append(r)\n",
    "        ewo_result_by_tag[f1_key].append(f1)\n",
    "                \n",
    "    test_precision.append(p_val)\n",
    "    train_precision.append(p_train)\n",
    "    ewo_precision.append(p_ewo)\n",
    "        \n",
    "    test_recall.append(r_val)\n",
    "    train_recall.append(r_train)\n",
    "    ewo_recall.append(r_ewo)\n",
    "        \n",
    "    test_fscore.append(f1_val)\n",
    "    train_fscore.append(f1_train)\n",
    "    ewo_fscore.append(f1_ewo)\n",
    "    return pd.DataFrame({\n",
    "        'P_val': test_precision, \n",
    "        'P_train': train_precision, \n",
    "        'P_ewo': ewo_precision, 'R_val': test_recall, 'R_train': train_recall, \n",
    "        'R_ewo': ewo_recall, 'F1-val': test_fscore, 'F1-train': train_fscore, 'F1-ewo': ewo_fscore}), pd.DataFrame(train_result_by_tag), pd.DataFrame(test_result_by_tag), pd.DataFrame(ewo_result_by_tag)"
   ]
  },
  {
   "cell_type": "code",
   "execution_count": 17,
   "metadata": {},
   "outputs": [],
   "source": [
    "def algoCrossVal(X, y, X_ewo, y_ewo, k = 10, repeat=1): \n",
    "    \"\"\"\n",
    "    Traing a model with k-fold cross validation\n",
    "    We train the model `repeat` times to check it's stability\n",
    "    \"\"\"\n",
    "    block_size = int(X.shape[0] / k)   \n",
    "    output = None\n",
    "    model = None\n",
    "    train_by_tags, test_by_tags, ewo_by_tags = None, None, None\n",
    "    for it in range(repeat):\n",
    "        print(\"AlgoCrossValIter -\", it+1)\n",
    "        model = create_model(X.shape[1], len(tagSet))\n",
    "        results = None\n",
    "        train_by_tagsTmp, test_by_tagsTmp, ewo_by_tagsTmp = None, None, None\n",
    "        for i in range(k):\n",
    "            X_val, y_val = X[i*block_size:i*block_size+block_size], y[i*block_size:i*block_size+block_size]\n",
    "            X_train = np.concatenate((X[0:i*block_size], X[i*block_size+block_size:]))\n",
    "            y_train = np.concatenate((y[0:i*block_size], y[i*block_size+block_size:]))\n",
    "\n",
    "            X_train = X_train.reshape(X_train.shape[0], X_train.shape[1])\n",
    "            X_val = X_val.reshape(X_val.shape[0], X_val.shape[1])\n",
    "\n",
    "            result, train_by_tag, test_by_tag, ewo_by_tag = algoEval(X_train, y_train, X_val, y_val, X_ewo, y_ewo, model=model)\n",
    "            if results is None:\n",
    "                results = result.copy()\n",
    "                train_by_tagsTmp, test_by_tagsTmp, ewo_by_tagsTmp = train_by_tag.copy(), test_by_tag.copy(), ewo_by_tag.copy()\n",
    "            else:\n",
    "                results = pd.concat([results, result], ignore_index=True)\n",
    "                train_by_tagsTmp = pd.concat([train_by_tagsTmp, train_by_tag], ignore_index=True)\n",
    "                test_by_tagsTmp = pd.concat([test_by_tagsTmp, test_by_tag], ignore_index=True)\n",
    "                ewo_by_tagsTmp = pd.concat([ewo_by_tagsTmp, ewo_by_tag], ignore_index=True)\n",
    "        \n",
    "        if output is None:\n",
    "            output = results.mean(axis=0).to_frame()\n",
    "            train_by_tags = train_by_tagsTmp.mean(axis=0).to_frame()\n",
    "            test_by_tags = test_by_tagsTmp.mean(axis=0).to_frame()\n",
    "            ewo_by_tags = ewo_by_tagsTmp.mean(axis=0).to_frame()\n",
    "        else:\n",
    "            output = pd.concat([output, results.mean(axis=0).to_frame()], axis=1)\n",
    "            train_by_tags = pd.concat([train_by_tags, train_by_tagsTmp.mean(axis=0).to_frame()], axis=1)\n",
    "            test_by_tags = pd.concat([test_by_tags, test_by_tagsTmp.mean(axis=0).to_frame()], axis=1)\n",
    "            ewo_by_tags = pd.concat([ewo_by_tags, ewo_by_tagsTmp.mean(axis=0).to_frame()], axis=1)\n",
    "\n",
    "    return output, train_by_tags, test_by_tags, ewo_by_tags, model"
   ]
  },
  {
   "cell_type": "code",
   "execution_count": 18,
   "metadata": {
    "colab": {
     "autoexec": {
      "startup": false,
      "wait_interval": 0
     }
    },
    "colab_type": "code",
    "id": "TNN2TBckE8m_"
   },
   "outputs": [],
   "source": [
    "en_corpus, en_nb_of_phrases = load_corpus(en_corpus_file, max_nb_of_phrases)"
   ]
  },
  {
   "cell_type": "code",
   "execution_count": 19,
   "metadata": {},
   "outputs": [
    {
     "data": {
      "text/html": [
       "<div>\n",
       "<style scoped>\n",
       "    .dataframe tbody tr th:only-of-type {\n",
       "        vertical-align: middle;\n",
       "    }\n",
       "\n",
       "    .dataframe tbody tr th {\n",
       "        vertical-align: top;\n",
       "    }\n",
       "\n",
       "    .dataframe thead th {\n",
       "        text-align: right;\n",
       "    }\n",
       "</style>\n",
       "<table border=\"1\" class=\"dataframe\">\n",
       "  <thead>\n",
       "    <tr style=\"text-align: right;\">\n",
       "      <th></th>\n",
       "      <th>word</th>\n",
       "      <th>ne-tag</th>\n",
       "    </tr>\n",
       "  </thead>\n",
       "  <tbody>\n",
       "    <tr>\n",
       "      <th>1335</th>\n",
       "      <td>Sadducees</td>\n",
       "      <td>ORG</td>\n",
       "    </tr>\n",
       "  </tbody>\n",
       "</table>\n",
       "</div>"
      ],
      "text/plain": [
       "           word ne-tag\n",
       "1335  Sadducees    ORG"
      ]
     },
     "execution_count": 19,
     "metadata": {},
     "output_type": "execute_result"
    }
   ],
   "source": [
    "en_corpus.head()\n",
    "en_corpus.loc[en_corpus['ne-tag'] == 'ORG']"
   ]
  },
  {
   "cell_type": "code",
   "execution_count": 20,
   "metadata": {},
   "outputs": [
    {
     "name": "stdout",
     "output_type": "stream",
     "text": [
      "{'O': 0, 'MISC': 1, 'PER': 2, 'LOC': 3, 'ORG': 4}\n"
     ]
    }
   ],
   "source": [
    "tagSet = en_corpus[\"ne-tag\"].dropna().unique()\n",
    "if BINARY:\n",
    "    tagSet = ['NE', 'O']\n",
    "tag2int = {j: i for i, j in enumerate(tagSet)}\n",
    "int2tag = {i: j for i, j in enumerate(tagSet)}\n",
    "print(tag2int)"
   ]
  },
  {
   "cell_type": "code",
   "execution_count": 21,
   "metadata": {
    "colab": {
     "autoexec": {
      "startup": false,
      "wait_interval": 0
     },
     "base_uri": "https://localhost:8080/",
     "height": 34,
     "output_extras": [
      {
       "item_id": 1
      }
     ]
    },
    "colab_type": "code",
    "executionInfo": {
     "elapsed": 794,
     "status": "ok",
     "timestamp": 1515664141558,
     "user": {
      "displayName": "Michael Franklin Mbouopda",
      "photoUrl": "//lh3.googleusercontent.com/-2_Vuj9ESsJ0/AAAAAAAAAAI/AAAAAAAABSc/r-SRcN0jWPw/s50-c-k-no/photo.jpg",
      "userId": "117384351130599115261"
     },
     "user_tz": -60
    },
    "id": "m85WcghdzCph",
    "outputId": "9fa6817e-15c4-4205-f8f4-82c30c2cb610"
   },
   "outputs": [
    {
     "data": {
      "text/plain": [
       "210"
      ]
     },
     "execution_count": 21,
     "metadata": {},
     "output_type": "execute_result"
    }
   ],
   "source": [
    "en_nb_of_phrases"
   ]
  },
  {
   "cell_type": "code",
   "execution_count": 22,
   "metadata": {
    "colab": {
     "autoexec": {
      "startup": false,
      "wait_interval": 0
     },
     "base_uri": "https://localhost:8080/",
     "height": 173,
     "output_extras": [
      {
       "item_id": 1
      }
     ]
    },
    "colab_type": "code",
    "executionInfo": {
     "elapsed": 992,
     "status": "ok",
     "timestamp": 1515664144298,
     "user": {
      "displayName": "Michael Franklin Mbouopda",
      "photoUrl": "//lh3.googleusercontent.com/-2_Vuj9ESsJ0/AAAAAAAAAAI/AAAAAAAABSc/r-SRcN0jWPw/s50-c-k-no/photo.jpg",
      "userId": "117384351130599115261"
     },
     "user_tz": -60
    },
    "id": "Gw9r-Q9jlmvg",
    "outputId": "8ee33794-5639-4c97-ea43-06a66d89e207"
   },
   "outputs": [
    {
     "data": {
      "text/html": [
       "<div>\n",
       "<style scoped>\n",
       "    .dataframe tbody tr th:only-of-type {\n",
       "        vertical-align: middle;\n",
       "    }\n",
       "\n",
       "    .dataframe tbody tr th {\n",
       "        vertical-align: top;\n",
       "    }\n",
       "\n",
       "    .dataframe thead th {\n",
       "        text-align: right;\n",
       "    }\n",
       "</style>\n",
       "<table border=\"1\" class=\"dataframe\">\n",
       "  <thead>\n",
       "    <tr style=\"text-align: right;\">\n",
       "      <th></th>\n",
       "      <th>word</th>\n",
       "      <th>ne-tag</th>\n",
       "    </tr>\n",
       "  </thead>\n",
       "  <tbody>\n",
       "    <tr>\n",
       "      <th>count</th>\n",
       "      <td>4379</td>\n",
       "      <td>4170</td>\n",
       "    </tr>\n",
       "    <tr>\n",
       "      <th>unique</th>\n",
       "      <td>904</td>\n",
       "      <td>5</td>\n",
       "    </tr>\n",
       "    <tr>\n",
       "      <th>top</th>\n",
       "      <td>the</td>\n",
       "      <td>O</td>\n",
       "    </tr>\n",
       "    <tr>\n",
       "      <th>freq</th>\n",
       "      <td>313</td>\n",
       "      <td>3779</td>\n",
       "    </tr>\n",
       "  </tbody>\n",
       "</table>\n",
       "</div>"
      ],
      "text/plain": [
       "        word ne-tag\n",
       "count   4379   4170\n",
       "unique   904      5\n",
       "top      the      O\n",
       "freq     313   3779"
      ]
     },
     "execution_count": 22,
     "metadata": {},
     "output_type": "execute_result"
    }
   ],
   "source": [
    "en_corpus.describe()"
   ]
  },
  {
   "cell_type": "code",
   "execution_count": 23,
   "metadata": {
    "colab": {
     "autoexec": {
      "startup": false,
      "wait_interval": 0
     },
     "base_uri": "https://localhost:8080/",
     "height": 204,
     "output_extras": [
      {
       "item_id": 1
      }
     ]
    },
    "colab_type": "code",
    "executionInfo": {
     "elapsed": 1056,
     "status": "ok",
     "timestamp": 1515664147270,
     "user": {
      "displayName": "Michael Franklin Mbouopda",
      "photoUrl": "//lh3.googleusercontent.com/-2_Vuj9ESsJ0/AAAAAAAAAAI/AAAAAAAABSc/r-SRcN0jWPw/s50-c-k-no/photo.jpg",
      "userId": "117384351130599115261"
     },
     "user_tz": -60
    },
    "id": "EZ_5FqH3yxhU",
    "outputId": "a129592b-9fa2-4937-a35a-a73245aef4a8"
   },
   "outputs": [
    {
     "data": {
      "text/html": [
       "<div>\n",
       "<style scoped>\n",
       "    .dataframe tbody tr th:only-of-type {\n",
       "        vertical-align: middle;\n",
       "    }\n",
       "\n",
       "    .dataframe tbody tr th {\n",
       "        vertical-align: top;\n",
       "    }\n",
       "\n",
       "    .dataframe thead th {\n",
       "        text-align: right;\n",
       "    }\n",
       "</style>\n",
       "<table border=\"1\" class=\"dataframe\">\n",
       "  <thead>\n",
       "    <tr style=\"text-align: right;\">\n",
       "      <th></th>\n",
       "      <th>word</th>\n",
       "      <th>ne-tag</th>\n",
       "    </tr>\n",
       "  </thead>\n",
       "  <tbody>\n",
       "    <tr>\n",
       "      <th>0</th>\n",
       "      <td>The</td>\n",
       "      <td>O</td>\n",
       "    </tr>\n",
       "    <tr>\n",
       "      <th>1</th>\n",
       "      <td>Promise</td>\n",
       "      <td>O</td>\n",
       "    </tr>\n",
       "    <tr>\n",
       "      <th>2</th>\n",
       "      <td>of</td>\n",
       "      <td>O</td>\n",
       "    </tr>\n",
       "    <tr>\n",
       "      <th>3</th>\n",
       "      <td>the</td>\n",
       "      <td>O</td>\n",
       "    </tr>\n",
       "    <tr>\n",
       "      <th>4</th>\n",
       "      <td>Holy</td>\n",
       "      <td>MISC</td>\n",
       "    </tr>\n",
       "    <tr>\n",
       "      <th>5</th>\n",
       "      <td>Spirit</td>\n",
       "      <td>MISC</td>\n",
       "    </tr>\n",
       "    <tr>\n",
       "      <th>6</th>\n",
       "      <td>\\n</td>\n",
       "      <td>None</td>\n",
       "    </tr>\n",
       "    <tr>\n",
       "      <th>7</th>\n",
       "      <td>In</td>\n",
       "      <td>O</td>\n",
       "    </tr>\n",
       "    <tr>\n",
       "      <th>8</th>\n",
       "      <td>the</td>\n",
       "      <td>O</td>\n",
       "    </tr>\n",
       "    <tr>\n",
       "      <th>9</th>\n",
       "      <td>first</td>\n",
       "      <td>O</td>\n",
       "    </tr>\n",
       "  </tbody>\n",
       "</table>\n",
       "</div>"
      ],
      "text/plain": [
       "      word ne-tag\n",
       "0      The      O\n",
       "1  Promise      O\n",
       "2       of      O\n",
       "3      the      O\n",
       "4     Holy   MISC\n",
       "5   Spirit   MISC\n",
       "6       \\n   None\n",
       "7       In      O\n",
       "8      the      O\n",
       "9    first      O"
      ]
     },
     "execution_count": 23,
     "metadata": {},
     "output_type": "execute_result"
    }
   ],
   "source": [
    "en_corpus.head(10)"
   ]
  },
  {
   "cell_type": "code",
   "execution_count": 24,
   "metadata": {},
   "outputs": [
    {
     "name": "stdout",
     "output_type": "stream",
     "text": [
      "O % = 86.3 %\n",
      "MISC % = 2.4 %\n",
      "PER % = 5.59 %\n",
      "LOC % = 0.91 %\n",
      "ORG % = 0.02 %\n"
     ]
    }
   ],
   "source": [
    "for tag in tagSet:\n",
    "    print(\"{0} % = {1} %\".format(tag, np.round(en_corpus[en_corpus['ne-tag']==tag].shape[0] * 100 / en_corpus[en_corpus['ne-tag']!='\\n'].shape[0], 2)))"
   ]
  },
  {
   "cell_type": "code",
   "execution_count": 25,
   "metadata": {},
   "outputs": [
    {
     "name": "stdout",
     "output_type": "stream",
     "text": [
      "O % = 89.16 %\n",
      "MISC % = 1.88 %\n",
      "PER % = 8.96 %\n",
      "LOC % = 1.99 %\n",
      "ORG % = 0.11 %\n"
     ]
    }
   ],
   "source": [
    "for tag in tagSet:\n",
    "    print(\"{0} % = {1} %\".format(tag, np.round(en_corpus[en_corpus['ne-tag']==tag].word.unique().shape[0] * 100 / en_corpus[en_corpus['ne-tag']!='\\n'].word.unique().shape[0], 2)))"
   ]
  },
  {
   "cell_type": "code",
   "execution_count": 26,
   "metadata": {},
   "outputs": [
    {
     "data": {
      "text/plain": [
       "(209, 2)"
      ]
     },
     "execution_count": 26,
     "metadata": {},
     "output_type": "execute_result"
    }
   ],
   "source": [
    "en_corpus[en_corpus.word == \"\\n\"].shape"
   ]
  },
  {
   "cell_type": "code",
   "execution_count": 27,
   "metadata": {
    "colab": {
     "autoexec": {
      "startup": false,
      "wait_interval": 0
     },
     "base_uri": "https://localhost:8080/",
     "height": 190,
     "output_extras": [
      {
       "item_id": 1
      },
      {
       "item_id": 2
      }
     ]
    },
    "colab_type": "code",
    "executionInfo": {
     "elapsed": 40378,
     "status": "ok",
     "timestamp": 1515671247748,
     "user": {
      "displayName": "Michael Franklin Mbouopda",
      "photoUrl": "//lh3.googleusercontent.com/-2_Vuj9ESsJ0/AAAAAAAAAAI/AAAAAAAABSc/r-SRcN0jWPw/s50-c-k-no/photo.jpg",
      "userId": "117384351130599115261"
     },
     "user_tz": -60
    },
    "id": "Mx1Yl-Npvh12",
    "outputId": "29d26922-46c0-47b6-9d1b-26ac26b118d4"
   },
   "outputs": [
    {
     "name": "stdout",
     "output_type": "stream",
     "text": [
      "Nb of bi-phrases 210\n"
     ]
    }
   ],
   "source": [
    "print(\"Nb of bi-phrases\", en_nb_of_phrases)\n",
    "en_fingerprints = corpus_fingerprint(en_corpus, en_nb_of_phrases)"
   ]
  },
  {
   "cell_type": "code",
   "execution_count": 28,
   "metadata": {},
   "outputs": [
    {
     "data": {
      "text/html": [
       "<div>\n",
       "<style scoped>\n",
       "    .dataframe tbody tr th:only-of-type {\n",
       "        vertical-align: middle;\n",
       "    }\n",
       "\n",
       "    .dataframe tbody tr th {\n",
       "        vertical-align: top;\n",
       "    }\n",
       "\n",
       "    .dataframe thead th {\n",
       "        text-align: right;\n",
       "    }\n",
       "</style>\n",
       "<table border=\"1\" class=\"dataframe\">\n",
       "  <thead>\n",
       "    <tr style=\"text-align: right;\">\n",
       "      <th></th>\n",
       "      <th>The</th>\n",
       "      <th>Promise</th>\n",
       "      <th>of</th>\n",
       "      <th>the</th>\n",
       "      <th>Holy</th>\n",
       "      <th>Spirit</th>\n",
       "      <th>In</th>\n",
       "      <th>first</th>\n",
       "      <th>book</th>\n",
       "      <th>O</th>\n",
       "      <th>...</th>\n",
       "      <th>considered</th>\n",
       "      <th>dream</th>\n",
       "      <th>She</th>\n",
       "      <th>save</th>\n",
       "      <th>fulfill</th>\n",
       "      <th>Immanuel</th>\n",
       "      <th>us)</th>\n",
       "      <th>woke</th>\n",
       "      <th>sleep</th>\n",
       "      <th>knew</th>\n",
       "    </tr>\n",
       "  </thead>\n",
       "  <tbody>\n",
       "    <tr>\n",
       "      <th>0</th>\n",
       "      <td>4170.0</td>\n",
       "      <td>4170.0</td>\n",
       "      <td>4170.0</td>\n",
       "      <td>4170.0</td>\n",
       "      <td>4170.0</td>\n",
       "      <td>4170.0</td>\n",
       "      <td>0.0</td>\n",
       "      <td>0.0</td>\n",
       "      <td>0.0</td>\n",
       "      <td>0.0</td>\n",
       "      <td>...</td>\n",
       "      <td>0.0</td>\n",
       "      <td>0.0</td>\n",
       "      <td>0.0</td>\n",
       "      <td>0.0</td>\n",
       "      <td>0.0</td>\n",
       "      <td>0.0</td>\n",
       "      <td>0.0</td>\n",
       "      <td>0.0</td>\n",
       "      <td>0.0</td>\n",
       "      <td>0.0</td>\n",
       "    </tr>\n",
       "    <tr>\n",
       "      <th>1</th>\n",
       "      <td>0.0</td>\n",
       "      <td>0.0</td>\n",
       "      <td>0.0</td>\n",
       "      <td>4170.0</td>\n",
       "      <td>0.0</td>\n",
       "      <td>0.0</td>\n",
       "      <td>4170.0</td>\n",
       "      <td>4170.0</td>\n",
       "      <td>4170.0</td>\n",
       "      <td>4170.0</td>\n",
       "      <td>...</td>\n",
       "      <td>0.0</td>\n",
       "      <td>0.0</td>\n",
       "      <td>0.0</td>\n",
       "      <td>0.0</td>\n",
       "      <td>0.0</td>\n",
       "      <td>0.0</td>\n",
       "      <td>0.0</td>\n",
       "      <td>0.0</td>\n",
       "      <td>0.0</td>\n",
       "      <td>0.0</td>\n",
       "    </tr>\n",
       "    <tr>\n",
       "      <th>2</th>\n",
       "      <td>0.0</td>\n",
       "      <td>0.0</td>\n",
       "      <td>0.0</td>\n",
       "      <td>1390.0</td>\n",
       "      <td>4170.0</td>\n",
       "      <td>4170.0</td>\n",
       "      <td>0.0</td>\n",
       "      <td>0.0</td>\n",
       "      <td>0.0</td>\n",
       "      <td>0.0</td>\n",
       "      <td>...</td>\n",
       "      <td>0.0</td>\n",
       "      <td>0.0</td>\n",
       "      <td>0.0</td>\n",
       "      <td>0.0</td>\n",
       "      <td>0.0</td>\n",
       "      <td>0.0</td>\n",
       "      <td>0.0</td>\n",
       "      <td>0.0</td>\n",
       "      <td>0.0</td>\n",
       "      <td>0.0</td>\n",
       "    </tr>\n",
       "    <tr>\n",
       "      <th>3</th>\n",
       "      <td>0.0</td>\n",
       "      <td>0.0</td>\n",
       "      <td>4170.0</td>\n",
       "      <td>4170.0</td>\n",
       "      <td>0.0</td>\n",
       "      <td>0.0</td>\n",
       "      <td>0.0</td>\n",
       "      <td>0.0</td>\n",
       "      <td>0.0</td>\n",
       "      <td>0.0</td>\n",
       "      <td>...</td>\n",
       "      <td>0.0</td>\n",
       "      <td>0.0</td>\n",
       "      <td>0.0</td>\n",
       "      <td>0.0</td>\n",
       "      <td>0.0</td>\n",
       "      <td>0.0</td>\n",
       "      <td>0.0</td>\n",
       "      <td>0.0</td>\n",
       "      <td>0.0</td>\n",
       "      <td>0.0</td>\n",
       "    </tr>\n",
       "    <tr>\n",
       "      <th>4</th>\n",
       "      <td>0.0</td>\n",
       "      <td>0.0</td>\n",
       "      <td>4170.0</td>\n",
       "      <td>2085.0</td>\n",
       "      <td>0.0</td>\n",
       "      <td>0.0</td>\n",
       "      <td>0.0</td>\n",
       "      <td>0.0</td>\n",
       "      <td>0.0</td>\n",
       "      <td>0.0</td>\n",
       "      <td>...</td>\n",
       "      <td>0.0</td>\n",
       "      <td>0.0</td>\n",
       "      <td>0.0</td>\n",
       "      <td>0.0</td>\n",
       "      <td>0.0</td>\n",
       "      <td>0.0</td>\n",
       "      <td>0.0</td>\n",
       "      <td>0.0</td>\n",
       "      <td>0.0</td>\n",
       "      <td>0.0</td>\n",
       "    </tr>\n",
       "  </tbody>\n",
       "</table>\n",
       "<p>5 rows × 903 columns</p>\n",
       "</div>"
      ],
      "text/plain": [
       "      The  Promise      of     the    Holy  Spirit      In   first    book  \\\n",
       "0  4170.0   4170.0  4170.0  4170.0  4170.0  4170.0     0.0     0.0     0.0   \n",
       "1     0.0      0.0     0.0  4170.0     0.0     0.0  4170.0  4170.0  4170.0   \n",
       "2     0.0      0.0     0.0  1390.0  4170.0  4170.0     0.0     0.0     0.0   \n",
       "3     0.0      0.0  4170.0  4170.0     0.0     0.0     0.0     0.0     0.0   \n",
       "4     0.0      0.0  4170.0  2085.0     0.0     0.0     0.0     0.0     0.0   \n",
       "\n",
       "        O  ...  considered  dream  She  save  fulfill  Immanuel  us)  woke  \\\n",
       "0     0.0  ...         0.0    0.0  0.0   0.0      0.0       0.0  0.0   0.0   \n",
       "1  4170.0  ...         0.0    0.0  0.0   0.0      0.0       0.0  0.0   0.0   \n",
       "2     0.0  ...         0.0    0.0  0.0   0.0      0.0       0.0  0.0   0.0   \n",
       "3     0.0  ...         0.0    0.0  0.0   0.0      0.0       0.0  0.0   0.0   \n",
       "4     0.0  ...         0.0    0.0  0.0   0.0      0.0       0.0  0.0   0.0   \n",
       "\n",
       "   sleep  knew  \n",
       "0    0.0   0.0  \n",
       "1    0.0   0.0  \n",
       "2    0.0   0.0  \n",
       "3    0.0   0.0  \n",
       "4    0.0   0.0  \n",
       "\n",
       "[5 rows x 903 columns]"
      ]
     },
     "execution_count": 28,
     "metadata": {},
     "output_type": "execute_result"
    }
   ],
   "source": [
    "en_fingerprints.head(5)"
   ]
  },
  {
   "cell_type": "code",
   "execution_count": 29,
   "metadata": {},
   "outputs": [
    {
     "data": {
      "text/plain": [
       "(210,)"
      ]
     },
     "execution_count": 29,
     "metadata": {},
     "output_type": "execute_result"
    }
   ],
   "source": [
    "en_fingerprints['you'].values.shape"
   ]
  },
  {
   "cell_type": "code",
   "execution_count": 30,
   "metadata": {},
   "outputs": [
    {
     "data": {
      "text/plain": [
       "(4170, 2)"
      ]
     },
     "execution_count": 30,
     "metadata": {},
     "output_type": "execute_result"
    }
   ],
   "source": [
    "en_corpus[en_corpus.word != \"\\n\"].shape"
   ]
  },
  {
   "cell_type": "code",
   "execution_count": 31,
   "metadata": {},
   "outputs": [
    {
     "data": {
      "text/html": [
       "<div>\n",
       "<style scoped>\n",
       "    .dataframe tbody tr th:only-of-type {\n",
       "        vertical-align: middle;\n",
       "    }\n",
       "\n",
       "    .dataframe tbody tr th {\n",
       "        vertical-align: top;\n",
       "    }\n",
       "\n",
       "    .dataframe thead th {\n",
       "        text-align: right;\n",
       "    }\n",
       "</style>\n",
       "<table border=\"1\" class=\"dataframe\">\n",
       "  <thead>\n",
       "    <tr style=\"text-align: right;\">\n",
       "      <th></th>\n",
       "      <th>text</th>\n",
       "    </tr>\n",
       "  </thead>\n",
       "  <tbody>\n",
       "    <tr>\n",
       "      <th>count</th>\n",
       "      <td>903</td>\n",
       "    </tr>\n",
       "    <tr>\n",
       "      <th>unique</th>\n",
       "      <td>903</td>\n",
       "    </tr>\n",
       "    <tr>\n",
       "      <th>top</th>\n",
       "      <td>(the</td>\n",
       "    </tr>\n",
       "    <tr>\n",
       "      <th>freq</th>\n",
       "      <td>1</td>\n",
       "    </tr>\n",
       "  </tbody>\n",
       "</table>\n",
       "</div>"
      ],
      "text/plain": [
       "        text\n",
       "count    903\n",
       "unique   903\n",
       "top     (the\n",
       "freq       1"
      ]
     },
     "execution_count": 31,
     "metadata": {},
     "output_type": "execute_result"
    }
   ],
   "source": [
    "if is_only_vocab:\n",
    "    text = list(en_corpus[en_corpus.word != \"\\n\"].word.unique())\n",
    "else:\n",
    "    text = list(en_corpus[en_corpus.word != \"\\n\"].word)\n",
    "en_vocab = pd.DataFrame({'text': text})\n",
    "en_vocab.describe()"
   ]
  },
  {
   "cell_type": "code",
   "execution_count": 32,
   "metadata": {
    "colab": {
     "autoexec": {
      "startup": false,
      "wait_interval": 0
     },
     "base_uri": "https://localhost:8080/",
     "height": 190,
     "output_extras": [
      {
       "item_id": 1
      },
      {
       "item_id": 2
      }
     ]
    },
    "colab_type": "code",
    "executionInfo": {
     "elapsed": 40378,
     "status": "ok",
     "timestamp": 1515671247748,
     "user": {
      "displayName": "Michael Franklin Mbouopda",
      "photoUrl": "//lh3.googleusercontent.com/-2_Vuj9ESsJ0/AAAAAAAAAAI/AAAAAAAABSc/r-SRcN0jWPw/s50-c-k-no/photo.jpg",
      "userId": "117384351130599115261"
     },
     "user_tz": -60
    },
    "id": "Mx1Yl-Npvh12",
    "outputId": "29d26922-46c0-47b6-9d1b-26ac26b118d4"
   },
   "outputs": [
    {
     "name": "stdout",
     "output_type": "stream",
     "text": [
      "(903, 210) (210, 903) (903,)\n"
     ]
    }
   ],
   "source": [
    "if is_only_vocab:\n",
    "    X = np.zeros((en_vocab.shape[0] * duplication, en_nb_of_phrases))\n",
    "    target = np.zeros((en_vocab.shape[0] * duplication))\n",
    "    p=0\n",
    "    for i, row in en_vocab.iterrows():\n",
    "        c = row.text\n",
    "        for j in range(duplication):\n",
    "            X[p] = en_fingerprints[c.split(\" \")[0]]\n",
    "            target[p] = tag2int[getTag(en_corpus[en_corpus.word == c.split(\" \")[-1:][0]]['ne-tag'].iloc[0])]\n",
    "            p+=1\n",
    "    X, target = shuffle_data(X, target)\n",
    "    print(X.shape, en_fingerprints.shape, target.shape)"
   ]
  },
  {
   "cell_type": "code",
   "execution_count": 33,
   "metadata": {},
   "outputs": [
    {
     "data": {
      "text/html": [
       "<div>\n",
       "<style scoped>\n",
       "    .dataframe tbody tr th:only-of-type {\n",
       "        vertical-align: middle;\n",
       "    }\n",
       "\n",
       "    .dataframe tbody tr th {\n",
       "        vertical-align: top;\n",
       "    }\n",
       "\n",
       "    .dataframe thead th {\n",
       "        text-align: right;\n",
       "    }\n",
       "</style>\n",
       "<table border=\"1\" class=\"dataframe\">\n",
       "  <thead>\n",
       "    <tr style=\"text-align: right;\">\n",
       "      <th></th>\n",
       "      <th>text</th>\n",
       "    </tr>\n",
       "  </thead>\n",
       "  <tbody>\n",
       "    <tr>\n",
       "      <th>883</th>\n",
       "      <td>Eliud</td>\n",
       "    </tr>\n",
       "    <tr>\n",
       "      <th>884</th>\n",
       "      <td>Eleazar</td>\n",
       "    </tr>\n",
       "    <tr>\n",
       "      <th>885</th>\n",
       "      <td>Matthan</td>\n",
       "    </tr>\n",
       "    <tr>\n",
       "      <th>886</th>\n",
       "      <td>husband</td>\n",
       "    </tr>\n",
       "    <tr>\n",
       "      <th>887</th>\n",
       "      <td>fourteen</td>\n",
       "    </tr>\n",
       "    <tr>\n",
       "      <th>888</th>\n",
       "      <td>unwilling</td>\n",
       "    </tr>\n",
       "    <tr>\n",
       "      <th>889</th>\n",
       "      <td>shame</td>\n",
       "    </tr>\n",
       "    <tr>\n",
       "      <th>890</th>\n",
       "      <td>resolved</td>\n",
       "    </tr>\n",
       "    <tr>\n",
       "      <th>891</th>\n",
       "      <td>divorce</td>\n",
       "    </tr>\n",
       "    <tr>\n",
       "      <th>892</th>\n",
       "      <td>quietly</td>\n",
       "    </tr>\n",
       "    <tr>\n",
       "      <th>893</th>\n",
       "      <td>considered</td>\n",
       "    </tr>\n",
       "    <tr>\n",
       "      <th>894</th>\n",
       "      <td>dream</td>\n",
       "    </tr>\n",
       "    <tr>\n",
       "      <th>895</th>\n",
       "      <td>She</td>\n",
       "    </tr>\n",
       "    <tr>\n",
       "      <th>896</th>\n",
       "      <td>save</td>\n",
       "    </tr>\n",
       "    <tr>\n",
       "      <th>897</th>\n",
       "      <td>fulfill</td>\n",
       "    </tr>\n",
       "    <tr>\n",
       "      <th>898</th>\n",
       "      <td>Immanuel</td>\n",
       "    </tr>\n",
       "    <tr>\n",
       "      <th>899</th>\n",
       "      <td>us)</td>\n",
       "    </tr>\n",
       "    <tr>\n",
       "      <th>900</th>\n",
       "      <td>woke</td>\n",
       "    </tr>\n",
       "    <tr>\n",
       "      <th>901</th>\n",
       "      <td>sleep</td>\n",
       "    </tr>\n",
       "    <tr>\n",
       "      <th>902</th>\n",
       "      <td>knew</td>\n",
       "    </tr>\n",
       "  </tbody>\n",
       "</table>\n",
       "</div>"
      ],
      "text/plain": [
       "           text\n",
       "883       Eliud\n",
       "884     Eleazar\n",
       "885     Matthan\n",
       "886     husband\n",
       "887    fourteen\n",
       "888   unwilling\n",
       "889       shame\n",
       "890    resolved\n",
       "891     divorce\n",
       "892     quietly\n",
       "893  considered\n",
       "894       dream\n",
       "895         She\n",
       "896        save\n",
       "897     fulfill\n",
       "898    Immanuel\n",
       "899         us)\n",
       "900        woke\n",
       "901       sleep\n",
       "902        knew"
      ]
     },
     "execution_count": 33,
     "metadata": {},
     "output_type": "execute_result"
    }
   ],
   "source": [
    "en_vocab[-20:]"
   ]
  },
  {
   "cell_type": "code",
   "execution_count": 34,
   "metadata": {},
   "outputs": [],
   "source": [
    "if not is_only_vocab:\n",
    "    X, target = corpus2trainingdata(en_corpus[en_corpus.word != \"\\n\"], en_fingerprints)"
   ]
  },
  {
   "cell_type": "code",
   "execution_count": 35,
   "metadata": {},
   "outputs": [],
   "source": [
    "if shuffle:\n",
    "    X, target = shuffle_data(X, target)"
   ]
  },
  {
   "cell_type": "code",
   "execution_count": 36,
   "metadata": {
    "colab": {
     "autoexec": {
      "startup": false,
      "wait_interval": 0
     },
     "base_uri": "https://localhost:8080/",
     "height": 102,
     "output_extras": [
      {
       "item_id": 1
      }
     ]
    },
    "colab_type": "code",
    "executionInfo": {
     "elapsed": 1032,
     "status": "ok",
     "timestamp": 1515671250872,
     "user": {
      "displayName": "Michael Franklin Mbouopda",
      "photoUrl": "//lh3.googleusercontent.com/-2_Vuj9ESsJ0/AAAAAAAAAAI/AAAAAAAABSc/r-SRcN0jWPw/s50-c-k-no/photo.jpg",
      "userId": "117384351130599115261"
     },
     "user_tz": -60
    },
    "id": "HLn_an5ExZSC",
    "outputId": "382c3159-7917-40e3-e469-27c244d86663"
   },
   "outputs": [
    {
     "data": {
      "text/plain": [
       "(903, 5)"
      ]
     },
     "execution_count": 36,
     "metadata": {},
     "output_type": "execute_result"
    }
   ],
   "source": [
    "y = target.copy()\n",
    "y[0:100]\n",
    "if not BINARY:\n",
    "    y = np_utils.to_categorical(y, len(tagSet))\n",
    "y.shape"
   ]
  },
  {
   "cell_type": "code",
   "execution_count": 37,
   "metadata": {},
   "outputs": [],
   "source": [
    "from sklearn.decomposition import PCA\n",
    "\n",
    "def visualize(X, y):\n",
    "    pca = PCA(n_components=2)\n",
    "    X_embeded = pca.fit_transform(X)\n",
    "    plt.figure(figsize=(5, 5))\n",
    "    plt.scatter(X_embeded[:, 0], X_embeded[:, 1], c=y)\n",
    "    plt.legend()\n",
    "    plt.show()"
   ]
  },
  {
   "cell_type": "code",
   "execution_count": 38,
   "metadata": {},
   "outputs": [],
   "source": [
    "# visualize(X, target)"
   ]
  },
  {
   "cell_type": "code",
   "execution_count": 39,
   "metadata": {
    "colab": {
     "autoexec": {
      "startup": false,
      "wait_interval": 0
     },
     "base_uri": "https://localhost:8080/",
     "height": 119,
     "output_extras": [
      {
       "item_id": 1
      }
     ]
    },
    "colab_type": "code",
    "executionInfo": {
     "elapsed": 899,
     "status": "ok",
     "timestamp": 1515671252070,
     "user": {
      "displayName": "Michael Franklin Mbouopda",
      "photoUrl": "//lh3.googleusercontent.com/-2_Vuj9ESsJ0/AAAAAAAAAAI/AAAAAAAABSc/r-SRcN0jWPw/s50-c-k-no/photo.jpg",
      "userId": "117384351130599115261"
     },
     "user_tz": -60
    },
    "id": "sF3M9I53xlY1",
    "outputId": "8d011439-2df0-4440-b334-7e21e44c2208"
   },
   "outputs": [
    {
     "name": "stdout",
     "output_type": "stream",
     "text": [
      "X_train.shape = (605, 210)\n",
      "y_train.shape = (605, 5)\n",
      "X_val.shape = (298, 210)\n",
      "y_val.shape = (298, 5)\n",
      "O % in training data = 87.93 %\n",
      "O % in validation data = 88.93 %\n",
      "MISC % in training data = 1.16 %\n",
      "MISC % in validation data = 1.34 %\n",
      "PER % in training data = 8.26 %\n",
      "PER % in validation data = 9.06 %\n",
      "LOC % in training data = 2.48 %\n",
      "LOC % in validation data = 0.67 %\n",
      "ORG % in training data = 0.17 %\n",
      "ORG % in validation data = 0.0 %\n"
     ]
    }
   ],
   "source": [
    "X_train, X_val, y_train, y_val = model_selection.train_test_split(X, y, test_size=0.33)\n",
    "X_train = X_train.reshape(X_train.shape[0], X_train.shape[1])\n",
    "X_val = X_val.reshape(X_val.shape[0], X_val.shape[1])\n",
    "print(\"X_train.shape =\", X_train.shape)\n",
    "print(\"y_train.shape =\", y_train.shape)\n",
    "print(\"X_val.shape =\", X_val.shape)\n",
    "print(\"y_val.shape =\", y_val.shape)\n",
    "\n",
    "tTarget = np.array([np.argmax(yy) for yy in y_train])\n",
    "vTarget = np.array([np.argmax(yy) for yy in y_val])\n",
    "\n",
    "for tag in tagSet:\n",
    "    print(\"{0} % in training data = {1} %\".format(tag, np.round(tTarget[tTarget==tag2int[tag]].size * 100 / tTarget.shape[0], 2)))\n",
    "    print(\"{0} % in validation data = {1} %\".format(tag, np.round(vTarget[vTarget==tag2int[tag]].size * 100 / vTarget.shape[0], 2)))"
   ]
  },
  {
   "cell_type": "code",
   "execution_count": 40,
   "metadata": {
    "colab": {
     "autoexec": {
      "startup": false,
      "wait_interval": 0
     },
     "base_uri": "https://localhost:8080/",
     "height": 173,
     "output_extras": [
      {
       "item_id": 1
      }
     ]
    },
    "colab_type": "code",
    "executionInfo": {
     "elapsed": 758,
     "status": "ok",
     "timestamp": 1515664313240,
     "user": {
      "displayName": "Michael Franklin Mbouopda",
      "photoUrl": "//lh3.googleusercontent.com/-2_Vuj9ESsJ0/AAAAAAAAAAI/AAAAAAAABSc/r-SRcN0jWPw/s50-c-k-no/photo.jpg",
      "userId": "117384351130599115261"
     },
     "user_tz": -60
    },
    "id": "OObRLXTr268N",
    "outputId": "6361a898-fd04-4e15-8aa7-936a12b3221a"
   },
   "outputs": [],
   "source": [
    "ewo_corpus, ewo_nb_of_phrases = load_corpus(ewo_corpus_file, max_nb_of_phrases)"
   ]
  },
  {
   "cell_type": "code",
   "execution_count": 41,
   "metadata": {},
   "outputs": [
    {
     "data": {
      "text/html": [
       "<div>\n",
       "<style scoped>\n",
       "    .dataframe tbody tr th:only-of-type {\n",
       "        vertical-align: middle;\n",
       "    }\n",
       "\n",
       "    .dataframe tbody tr th {\n",
       "        vertical-align: top;\n",
       "    }\n",
       "\n",
       "    .dataframe thead th {\n",
       "        text-align: right;\n",
       "    }\n",
       "</style>\n",
       "<table border=\"1\" class=\"dataframe\">\n",
       "  <thead>\n",
       "    <tr style=\"text-align: right;\">\n",
       "      <th></th>\n",
       "      <th>word</th>\n",
       "      <th>ne-tag</th>\n",
       "    </tr>\n",
       "  </thead>\n",
       "  <tbody>\n",
       "    <tr>\n",
       "      <th>6</th>\n",
       "      <td>Teofil</td>\n",
       "      <td>PER</td>\n",
       "    </tr>\n",
       "    <tr>\n",
       "      <th>15</th>\n",
       "      <td>Yesus</td>\n",
       "      <td>PER</td>\n",
       "    </tr>\n",
       "    <tr>\n",
       "      <th>86</th>\n",
       "      <td>Yohannes</td>\n",
       "      <td>PER</td>\n",
       "    </tr>\n",
       "    <tr>\n",
       "      <th>104</th>\n",
       "      <td>Yesus</td>\n",
       "      <td>PER</td>\n",
       "    </tr>\n",
       "    <tr>\n",
       "      <th>230</th>\n",
       "      <td>Yesus</td>\n",
       "      <td>PER</td>\n",
       "    </tr>\n",
       "    <tr>\n",
       "      <th>...</th>\n",
       "      <td>...</td>\n",
       "      <td>...</td>\n",
       "    </tr>\n",
       "    <tr>\n",
       "      <th>3676</th>\n",
       "      <td>Maria</td>\n",
       "      <td>PER</td>\n",
       "    </tr>\n",
       "    <tr>\n",
       "      <th>3697</th>\n",
       "      <td>Yesus</td>\n",
       "      <td>PER</td>\n",
       "    </tr>\n",
       "    <tr>\n",
       "      <th>3740</th>\n",
       "      <td>Emmanuel</td>\n",
       "      <td>PER</td>\n",
       "    </tr>\n",
       "    <tr>\n",
       "      <th>3750</th>\n",
       "      <td>Yosef</td>\n",
       "      <td>PER</td>\n",
       "    </tr>\n",
       "    <tr>\n",
       "      <th>3778</th>\n",
       "      <td>Yesus</td>\n",
       "      <td>PER</td>\n",
       "    </tr>\n",
       "  </tbody>\n",
       "</table>\n",
       "<p>253 rows × 2 columns</p>\n",
       "</div>"
      ],
      "text/plain": [
       "          word ne-tag\n",
       "6       Teofil    PER\n",
       "15       Yesus    PER\n",
       "86    Yohannes    PER\n",
       "104      Yesus    PER\n",
       "230      Yesus    PER\n",
       "...        ...    ...\n",
       "3676     Maria    PER\n",
       "3697     Yesus    PER\n",
       "3740  Emmanuel    PER\n",
       "3750     Yosef    PER\n",
       "3778     Yesus    PER\n",
       "\n",
       "[253 rows x 2 columns]"
      ]
     },
     "execution_count": 41,
     "metadata": {},
     "output_type": "execute_result"
    }
   ],
   "source": [
    "ewo_corpus.loc[ewo_corpus['ne-tag'] == 'PER']"
   ]
  },
  {
   "cell_type": "code",
   "execution_count": 42,
   "metadata": {
    "colab": {
     "autoexec": {
      "startup": false,
      "wait_interval": 0
     },
     "base_uri": "https://localhost:8080/",
     "height": 173,
     "output_extras": [
      {
       "item_id": 1
      }
     ]
    },
    "colab_type": "code",
    "executionInfo": {
     "elapsed": 758,
     "status": "ok",
     "timestamp": 1515664313240,
     "user": {
      "displayName": "Michael Franklin Mbouopda",
      "photoUrl": "//lh3.googleusercontent.com/-2_Vuj9ESsJ0/AAAAAAAAAAI/AAAAAAAABSc/r-SRcN0jWPw/s50-c-k-no/photo.jpg",
      "userId": "117384351130599115261"
     },
     "user_tz": -60
    },
    "id": "OObRLXTr268N",
    "outputId": "6361a898-fd04-4e15-8aa7-936a12b3221a"
   },
   "outputs": [
    {
     "data": {
      "text/plain": [
       "210"
      ]
     },
     "execution_count": 42,
     "metadata": {},
     "output_type": "execute_result"
    }
   ],
   "source": [
    "ewo_nb_of_phrases"
   ]
  },
  {
   "cell_type": "code",
   "execution_count": 43,
   "metadata": {},
   "outputs": [
    {
     "name": "stdout",
     "output_type": "stream",
     "text": [
      "O % = 84.15 %\n",
      "MISC % = 2.54 %\n",
      "PER % = 6.69 %\n",
      "LOC % = 1.03 %\n",
      "ORG % = 0.05 %\n"
     ]
    }
   ],
   "source": [
    "for tag in tagSet:\n",
    "    print(\"{0} % = {1} %\".format(tag, np.round(ewo_corpus[ewo_corpus['ne-tag']==tag].shape[0] * 100 / ewo_corpus[ewo_corpus['ne-tag']!='\\n'].shape[0], 2)))"
   ]
  },
  {
   "cell_type": "code",
   "execution_count": 44,
   "metadata": {},
   "outputs": [
    {
     "name": "stdout",
     "output_type": "stream",
     "text": [
      "O % = 89.94 %\n",
      "MISC % = 1.17 %\n",
      "PER % = 8.3 %\n",
      "LOC % = 1.86 %\n",
      "ORG % = 0.2 %\n"
     ]
    }
   ],
   "source": [
    "for tag in tagSet:\n",
    "    print(\"{0} % = {1} %\".format(tag, np.round(ewo_corpus[ewo_corpus['ne-tag']==tag].word.unique().shape[0] * 100 / ewo_corpus[ewo_corpus['ne-tag']!='\\n'].word.unique().shape[0], 2)))"
   ]
  },
  {
   "cell_type": "code",
   "execution_count": 45,
   "metadata": {
    "colab": {
     "autoexec": {
      "startup": false,
      "wait_interval": 0
     },
     "base_uri": "https://localhost:8080/",
     "height": 173,
     "output_extras": [
      {
       "item_id": 1
      }
     ]
    },
    "colab_type": "code",
    "executionInfo": {
     "elapsed": 758,
     "status": "ok",
     "timestamp": 1515664313240,
     "user": {
      "displayName": "Michael Franklin Mbouopda",
      "photoUrl": "//lh3.googleusercontent.com/-2_Vuj9ESsJ0/AAAAAAAAAAI/AAAAAAAABSc/r-SRcN0jWPw/s50-c-k-no/photo.jpg",
      "userId": "117384351130599115261"
     },
     "user_tz": -60
    },
    "id": "OObRLXTr268N",
    "outputId": "6361a898-fd04-4e15-8aa7-936a12b3221a"
   },
   "outputs": [
    {
     "data": {
      "text/html": [
       "<div>\n",
       "<style scoped>\n",
       "    .dataframe tbody tr th:only-of-type {\n",
       "        vertical-align: middle;\n",
       "    }\n",
       "\n",
       "    .dataframe tbody tr th {\n",
       "        vertical-align: top;\n",
       "    }\n",
       "\n",
       "    .dataframe thead th {\n",
       "        text-align: right;\n",
       "    }\n",
       "</style>\n",
       "<table border=\"1\" class=\"dataframe\">\n",
       "  <thead>\n",
       "    <tr style=\"text-align: right;\">\n",
       "      <th></th>\n",
       "      <th>word</th>\n",
       "      <th>ne-tag</th>\n",
       "    </tr>\n",
       "  </thead>\n",
       "  <tbody>\n",
       "    <tr>\n",
       "      <th>count</th>\n",
       "      <td>3779</td>\n",
       "      <td>3570</td>\n",
       "    </tr>\n",
       "    <tr>\n",
       "      <th>unique</th>\n",
       "      <td>1024</td>\n",
       "      <td>5</td>\n",
       "    </tr>\n",
       "    <tr>\n",
       "      <th>top</th>\n",
       "      <td>\\n</td>\n",
       "      <td>O</td>\n",
       "    </tr>\n",
       "    <tr>\n",
       "      <th>freq</th>\n",
       "      <td>209</td>\n",
       "      <td>3180</td>\n",
       "    </tr>\n",
       "  </tbody>\n",
       "</table>\n",
       "</div>"
      ],
      "text/plain": [
       "        word ne-tag\n",
       "count   3779   3570\n",
       "unique  1024      5\n",
       "top       \\n      O\n",
       "freq     209   3180"
      ]
     },
     "execution_count": 45,
     "metadata": {},
     "output_type": "execute_result"
    }
   ],
   "source": [
    "ewo_corpus.describe()"
   ]
  },
  {
   "cell_type": "code",
   "execution_count": 46,
   "metadata": {
    "colab": {
     "autoexec": {
      "startup": false,
      "wait_interval": 0
     },
     "base_uri": "https://localhost:8080/",
     "height": 173,
     "output_extras": [
      {
       "item_id": 1
      }
     ]
    },
    "colab_type": "code",
    "executionInfo": {
     "elapsed": 758,
     "status": "ok",
     "timestamp": 1515664313240,
     "user": {
      "displayName": "Michael Franklin Mbouopda",
      "photoUrl": "//lh3.googleusercontent.com/-2_Vuj9ESsJ0/AAAAAAAAAAI/AAAAAAAABSc/r-SRcN0jWPw/s50-c-k-no/photo.jpg",
      "userId": "117384351130599115261"
     },
     "user_tz": -60
    },
    "id": "OObRLXTr268N",
    "outputId": "6361a898-fd04-4e15-8aa7-936a12b3221a"
   },
   "outputs": [
    {
     "data": {
      "text/html": [
       "<div>\n",
       "<style scoped>\n",
       "    .dataframe tbody tr th:only-of-type {\n",
       "        vertical-align: middle;\n",
       "    }\n",
       "\n",
       "    .dataframe tbody tr th {\n",
       "        vertical-align: top;\n",
       "    }\n",
       "\n",
       "    .dataframe thead th {\n",
       "        text-align: right;\n",
       "    }\n",
       "</style>\n",
       "<table border=\"1\" class=\"dataframe\">\n",
       "  <thead>\n",
       "    <tr style=\"text-align: right;\">\n",
       "      <th></th>\n",
       "      <th>word</th>\n",
       "      <th>ne-tag</th>\n",
       "    </tr>\n",
       "  </thead>\n",
       "  <tbody>\n",
       "    <tr>\n",
       "      <th>0</th>\n",
       "      <td>Mfufub</td>\n",
       "      <td>MISC</td>\n",
       "    </tr>\n",
       "    <tr>\n",
       "      <th>1</th>\n",
       "      <td>Nsisim</td>\n",
       "      <td>MISC</td>\n",
       "    </tr>\n",
       "    <tr>\n",
       "      <th>2</th>\n",
       "      <td>ayi</td>\n",
       "      <td>O</td>\n",
       "    </tr>\n",
       "    <tr>\n",
       "      <th>3</th>\n",
       "      <td>sò</td>\n",
       "      <td>O</td>\n",
       "    </tr>\n",
       "    <tr>\n",
       "      <th>4</th>\n",
       "      <td>\\n</td>\n",
       "      <td>None</td>\n",
       "    </tr>\n",
       "  </tbody>\n",
       "</table>\n",
       "</div>"
      ],
      "text/plain": [
       "     word ne-tag\n",
       "0  Mfufub   MISC\n",
       "1  Nsisim   MISC\n",
       "2     ayi      O\n",
       "3      sò      O\n",
       "4      \\n   None"
      ]
     },
     "execution_count": 46,
     "metadata": {},
     "output_type": "execute_result"
    }
   ],
   "source": [
    "ewo_corpus.head()"
   ]
  },
  {
   "cell_type": "code",
   "execution_count": 47,
   "metadata": {
    "colab": {
     "autoexec": {
      "startup": false,
      "wait_interval": 0
     },
     "base_uri": "https://localhost:8080/",
     "height": 214,
     "output_extras": [
      {
       "item_id": 1
      }
     ]
    },
    "colab_type": "code",
    "executionInfo": {
     "elapsed": 1473,
     "status": "error",
     "timestamp": 1515688720429,
     "user": {
      "displayName": "Michael Franklin Mbouopda",
      "photoUrl": "//lh3.googleusercontent.com/-2_Vuj9ESsJ0/AAAAAAAAAAI/AAAAAAAABSc/r-SRcN0jWPw/s50-c-k-no/photo.jpg",
      "userId": "117384351130599115261"
     },
     "user_tz": -60
    },
    "id": "aRDNM0C8yX5N",
    "outputId": "b5a14626-4a9b-484c-c597-f1b1f37673c9"
   },
   "outputs": [],
   "source": [
    "ewo_fingerprints = corpus_fingerprint(ewo_corpus, en_nb_of_phrases)"
   ]
  },
  {
   "cell_type": "code",
   "execution_count": 48,
   "metadata": {
    "colab": {
     "autoexec": {
      "startup": false,
      "wait_interval": 0
     },
     "base_uri": "https://localhost:8080/",
     "height": 214,
     "output_extras": [
      {
       "item_id": 1
      }
     ]
    },
    "colab_type": "code",
    "executionInfo": {
     "elapsed": 1473,
     "status": "error",
     "timestamp": 1515688720429,
     "user": {
      "displayName": "Michael Franklin Mbouopda",
      "photoUrl": "//lh3.googleusercontent.com/-2_Vuj9ESsJ0/AAAAAAAAAAI/AAAAAAAABSc/r-SRcN0jWPw/s50-c-k-no/photo.jpg",
      "userId": "117384351130599115261"
     },
     "user_tz": -60
    },
    "id": "aRDNM0C8yX5N",
    "outputId": "b5a14626-4a9b-484c-c597-f1b1f37673c9"
   },
   "outputs": [],
   "source": [
    "if is_only_vocab:\n",
    "    text = list(ewo_corpus[ewo_corpus.word != \"\\n\"].word.unique())\n",
    "else:\n",
    "    text = list(ewo_corpus[ewo_corpus.word != \"\\n\"].word)\n",
    "ewo_vocab = pd.DataFrame({\"text\":text})"
   ]
  },
  {
   "cell_type": "code",
   "execution_count": 49,
   "metadata": {
    "colab": {
     "autoexec": {
      "startup": false,
      "wait_interval": 0
     },
     "base_uri": "https://localhost:8080/",
     "height": 214,
     "output_extras": [
      {
       "item_id": 1
      }
     ]
    },
    "colab_type": "code",
    "executionInfo": {
     "elapsed": 1473,
     "status": "error",
     "timestamp": 1515688720429,
     "user": {
      "displayName": "Michael Franklin Mbouopda",
      "photoUrl": "//lh3.googleusercontent.com/-2_Vuj9ESsJ0/AAAAAAAAAAI/AAAAAAAABSc/r-SRcN0jWPw/s50-c-k-no/photo.jpg",
      "userId": "117384351130599115261"
     },
     "user_tz": -60
    },
    "id": "aRDNM0C8yX5N",
    "outputId": "b5a14626-4a9b-484c-c597-f1b1f37673c9"
   },
   "outputs": [],
   "source": [
    "if is_only_vocab:\n",
    "    X_ewo = np.zeros((ewo_vocab.shape[0] * duplication, en_nb_of_phrases))\n",
    "    ewo_target = np.zeros((ewo_vocab.shape[0] * duplication))\n",
    "    p=0\n",
    "    for i, row in ewo_vocab.iterrows():\n",
    "        c = row.text\n",
    "        for j in range(duplication):\n",
    "            X_ewo[p] = ewo_fingerprints[c.split(\" \")[0]]\n",
    "            ewo_target[p] = tag2int[getTag(ewo_corpus[ewo_corpus.word == c.split(\" \")[-1:][0]]['ne-tag'].iloc[0])]\n",
    "            p+=1\n",
    "    X_ewo, ewo_target = shuffle_data(X_ewo, ewo_target)"
   ]
  },
  {
   "cell_type": "code",
   "execution_count": 50,
   "metadata": {},
   "outputs": [
    {
     "data": {
      "text/html": [
       "<div>\n",
       "<style scoped>\n",
       "    .dataframe tbody tr th:only-of-type {\n",
       "        vertical-align: middle;\n",
       "    }\n",
       "\n",
       "    .dataframe tbody tr th {\n",
       "        vertical-align: top;\n",
       "    }\n",
       "\n",
       "    .dataframe thead th {\n",
       "        text-align: right;\n",
       "    }\n",
       "</style>\n",
       "<table border=\"1\" class=\"dataframe\">\n",
       "  <thead>\n",
       "    <tr style=\"text-align: right;\">\n",
       "      <th></th>\n",
       "      <th>text</th>\n",
       "    </tr>\n",
       "  </thead>\n",
       "  <tbody>\n",
       "    <tr>\n",
       "      <th>1013</th>\n",
       "      <td>sik</td>\n",
       "    </tr>\n",
       "    <tr>\n",
       "      <th>1014</th>\n",
       "      <td>Ntud</td>\n",
       "    </tr>\n",
       "    <tr>\n",
       "      <th>1015</th>\n",
       "      <td>bëyole</td>\n",
       "    </tr>\n",
       "    <tr>\n",
       "      <th>1016</th>\n",
       "      <td>Emmanuel</td>\n",
       "    </tr>\n",
       "    <tr>\n",
       "      <th>1017</th>\n",
       "      <td>Avëbë</td>\n",
       "    </tr>\n",
       "    <tr>\n",
       "      <th>1018</th>\n",
       "      <td>angavëbë</td>\n",
       "    </tr>\n",
       "    <tr>\n",
       "      <th>1019</th>\n",
       "      <td>oyò</td>\n",
       "    </tr>\n",
       "    <tr>\n",
       "      <th>1020</th>\n",
       "      <td>angabende</td>\n",
       "    </tr>\n",
       "    <tr>\n",
       "      <th>1021</th>\n",
       "      <td>anganòṅ</td>\n",
       "    </tr>\n",
       "    <tr>\n",
       "      <th>1022</th>\n",
       "      <td>angayole</td>\n",
       "    </tr>\n",
       "  </tbody>\n",
       "</table>\n",
       "</div>"
      ],
      "text/plain": [
       "           text\n",
       "1013        sik\n",
       "1014       Ntud\n",
       "1015     bëyole\n",
       "1016   Emmanuel\n",
       "1017      Avëbë\n",
       "1018   angavëbë\n",
       "1019        oyò\n",
       "1020  angabende\n",
       "1021    anganòṅ\n",
       "1022   angayole"
      ]
     },
     "execution_count": 50,
     "metadata": {},
     "output_type": "execute_result"
    }
   ],
   "source": [
    "ewo_vocab[-10:]"
   ]
  },
  {
   "cell_type": "code",
   "execution_count": 51,
   "metadata": {},
   "outputs": [],
   "source": [
    "if not is_only_vocab:\n",
    "    X_ewo, ewo_target = corpus2trainingdata(ewo_corpus[ewo_corpus.word != \"\\n\"], ewo_fingerprints)"
   ]
  },
  {
   "cell_type": "code",
   "execution_count": 52,
   "metadata": {},
   "outputs": [],
   "source": [
    "if shuffle:\n",
    "    X_ewo, ewo_target = shuffle_data(X_ewo, ewo_target)"
   ]
  },
  {
   "cell_type": "code",
   "execution_count": 53,
   "metadata": {},
   "outputs": [
    {
     "name": "stdout",
     "output_type": "stream",
     "text": [
      "(1023,) 1023\n"
     ]
    }
   ],
   "source": [
    "y_ewo = ewo_target.copy()\n",
    "print(y_ewo.shape, len(ewo_vocab))"
   ]
  },
  {
   "cell_type": "code",
   "execution_count": 54,
   "metadata": {},
   "outputs": [
    {
     "data": {
      "text/plain": [
       "(1023, 210)"
      ]
     },
     "execution_count": 54,
     "metadata": {},
     "output_type": "execute_result"
    }
   ],
   "source": [
    "X_ewo.shape"
   ]
  },
  {
   "cell_type": "code",
   "execution_count": 55,
   "metadata": {
    "colab": {
     "autoexec": {
      "startup": false,
      "wait_interval": 0
     },
     "base_uri": "https://localhost:8080/",
     "height": 34,
     "output_extras": [
      {
       "item_id": 1
      }
     ]
    },
    "colab_type": "code",
    "executionInfo": {
     "elapsed": 768,
     "status": "ok",
     "timestamp": 1514134592547,
     "user": {
      "displayName": "Michael Franklin Mbouopda",
      "photoUrl": "//lh3.googleusercontent.com/-2_Vuj9ESsJ0/AAAAAAAAAAI/AAAAAAAABSc/r-SRcN0jWPw/s50-c-k-no/photo.jpg",
      "userId": "117384351130599115261"
     },
     "user_tz": -60
    },
    "id": "fuSYSwUPDiQY",
    "outputId": "658c1a63-1a76-4487-e151-47364c6dbc85"
   },
   "outputs": [],
   "source": [
    "y_ewo = ewo_target.copy()\n",
    "y_ewo[:20]\n",
    "if not BINARY:\n",
    "    y_ewo = np_utils.to_categorical(y_ewo)"
   ]
  },
  {
   "cell_type": "code",
   "execution_count": 56,
   "metadata": {
    "colab": {
     "autoexec": {
      "startup": false,
      "wait_interval": 0
     },
     "base_uri": "https://localhost:8080/",
     "height": 34,
     "output_extras": [
      {
       "item_id": 1
      }
     ]
    },
    "colab_type": "code",
    "executionInfo": {
     "elapsed": 6835,
     "status": "ok",
     "timestamp": 1514134601113,
     "user": {
      "displayName": "Michael Franklin Mbouopda",
      "photoUrl": "//lh3.googleusercontent.com/-2_Vuj9ESsJ0/AAAAAAAAAAI/AAAAAAAABSc/r-SRcN0jWPw/s50-c-k-no/photo.jpg",
      "userId": "117384351130599115261"
     },
     "user_tz": -60
    },
    "id": "Cev5j8YFzPYl",
    "outputId": "87ab5b4b-a75d-43b0-d346-5ba18a4522c0"
   },
   "outputs": [],
   "source": [
    "X_ewo = X_ewo.reshape((X_ewo.shape[0], en_nb_of_phrases))"
   ]
  },
  {
   "cell_type": "code",
   "execution_count": 57,
   "metadata": {},
   "outputs": [],
   "source": [
    "# model = create_model(X.shape[1], len(tagSet))\n",
    "# resultEval, train_by_tag, test_by_tag, ewo_by_tag = algoEval(X_train, y_train, X_val, y_val, X_ewo, y_ewo, model=model)"
   ]
  },
  {
   "cell_type": "code",
   "execution_count": 58,
   "metadata": {},
   "outputs": [],
   "source": [
    "# resultEval"
   ]
  },
  {
   "cell_type": "code",
   "execution_count": 59,
   "metadata": {},
   "outputs": [],
   "source": [
    "# train_by_tag"
   ]
  },
  {
   "cell_type": "code",
   "execution_count": 60,
   "metadata": {},
   "outputs": [],
   "source": [
    "# test_by_tag"
   ]
  },
  {
   "cell_type": "code",
   "execution_count": 61,
   "metadata": {},
   "outputs": [],
   "source": [
    "# ewo_by_tag"
   ]
  },
  {
   "cell_type": "code",
   "execution_count": 62,
   "metadata": {},
   "outputs": [],
   "source": [
    "# resultEval.mean()"
   ]
  },
  {
   "cell_type": "code",
   "execution_count": 63,
   "metadata": {},
   "outputs": [],
   "source": [
    "# resultEval.std()"
   ]
  },
  {
   "cell_type": "code",
   "execution_count": 64,
   "metadata": {
    "scrolled": true
   },
   "outputs": [
    {
     "name": "stdout",
     "output_type": "stream",
     "text": [
      "AlgoCrossValIter - 1\n",
      "Model: \"sequential_1\"\n",
      "_________________________________________________________________\n",
      "Layer (type)                 Output Shape              Param #   \n",
      "=================================================================\n",
      "hidden1 (Dense)              (None, 640)               135040    \n",
      "_________________________________________________________________\n",
      "hidden2 (Dense)              (None, 160)               102560    \n",
      "_________________________________________________________________\n",
      "outputlayer (Dense)          (None, 5)                 805       \n",
      "=================================================================\n",
      "Total params: 238,405\n",
      "Trainable params: 238,405\n",
      "Non-trainable params: 0\n",
      "_________________________________________________________________\n",
      "\n",
      "Epoch 00001: val_loss improved from inf to 0.29419, saving model to best-model-conll.hdfs\n",
      "\n",
      "Epoch 00002: val_loss did not improve from 0.29419\n",
      "\n",
      "Epoch 00003: val_loss did not improve from 0.29419\n",
      "\n",
      "Epoch 00004: val_loss improved from 0.29419 to 0.23311, saving model to best-model-conll.hdfs\n",
      "\n",
      "Epoch 00005: val_loss did not improve from 0.23311\n",
      "\n",
      "Epoch 00006: val_loss did not improve from 0.23311\n",
      "\n",
      "Epoch 00007: val_loss did not improve from 0.23311\n",
      "\n",
      "Epoch 00008: val_loss did not improve from 0.23311\n",
      "\n",
      "Epoch 00009: val_loss did not improve from 0.23311\n",
      "\n",
      "Epoch 00010: val_loss did not improve from 0.23311\n"
     ]
    },
    {
     "name": "stderr",
     "output_type": "stream",
     "text": [
      "/home/frankl1/miniconda3/envs/ner-projection/lib/python3.7/site-packages/ipykernel_launcher.py:17: RuntimeWarning: invalid value encountered in double_scalars\n"
     ]
    },
    {
     "name": "stdout",
     "output_type": "stream",
     "text": [
      "\n",
      "Epoch 00001: val_loss improved from inf to 0.08584, saving model to best-model-conll.hdfs\n",
      "\n",
      "Epoch 00002: val_loss improved from 0.08584 to 0.08438, saving model to best-model-conll.hdfs\n",
      "\n",
      "Epoch 00003: val_loss did not improve from 0.08438\n",
      "\n",
      "Epoch 00004: val_loss did not improve from 0.08438\n",
      "\n",
      "Epoch 00005: val_loss did not improve from 0.08438\n",
      "\n",
      "Epoch 00006: val_loss did not improve from 0.08438\n",
      "\n",
      "Epoch 00007: val_loss did not improve from 0.08438\n",
      "\n",
      "Epoch 00008: val_loss did not improve from 0.08438\n",
      "\n",
      "Epoch 00009: val_loss did not improve from 0.08438\n",
      "\n",
      "Epoch 00010: val_loss did not improve from 0.08438\n"
     ]
    },
    {
     "name": "stderr",
     "output_type": "stream",
     "text": [
      "/home/frankl1/miniconda3/envs/ner-projection/lib/python3.7/site-packages/ipykernel_launcher.py:17: RuntimeWarning: invalid value encountered in double_scalars\n"
     ]
    },
    {
     "name": "stdout",
     "output_type": "stream",
     "text": [
      "\n",
      "Epoch 00001: val_loss improved from inf to 0.11388, saving model to best-model-conll.hdfs\n",
      "\n",
      "Epoch 00002: val_loss improved from 0.11388 to 0.10864, saving model to best-model-conll.hdfs\n",
      "\n",
      "Epoch 00003: val_loss did not improve from 0.10864\n",
      "\n",
      "Epoch 00004: val_loss did not improve from 0.10864\n",
      "\n",
      "Epoch 00005: val_loss did not improve from 0.10864\n",
      "\n",
      "Epoch 00006: val_loss did not improve from 0.10864\n",
      "\n",
      "Epoch 00007: val_loss did not improve from 0.10864\n",
      "\n",
      "Epoch 00008: val_loss did not improve from 0.10864\n",
      "\n",
      "Epoch 00009: val_loss did not improve from 0.10864\n",
      "\n",
      "Epoch 00010: val_loss did not improve from 0.10864\n"
     ]
    },
    {
     "name": "stderr",
     "output_type": "stream",
     "text": [
      "/home/frankl1/miniconda3/envs/ner-projection/lib/python3.7/site-packages/ipykernel_launcher.py:17: RuntimeWarning: invalid value encountered in double_scalars\n"
     ]
    },
    {
     "name": "stdout",
     "output_type": "stream",
     "text": [
      "\n",
      "Epoch 00001: val_loss improved from inf to 0.10010, saving model to best-model-conll.hdfs\n",
      "\n",
      "Epoch 00002: val_loss improved from 0.10010 to 0.06423, saving model to best-model-conll.hdfs\n",
      "\n",
      "Epoch 00003: val_loss did not improve from 0.06423\n",
      "\n",
      "Epoch 00004: val_loss did not improve from 0.06423\n",
      "\n",
      "Epoch 00005: val_loss did not improve from 0.06423\n",
      "\n",
      "Epoch 00006: val_loss did not improve from 0.06423\n",
      "\n",
      "Epoch 00007: val_loss did not improve from 0.06423\n",
      "\n",
      "Epoch 00008: val_loss did not improve from 0.06423\n",
      "\n",
      "Epoch 00009: val_loss did not improve from 0.06423\n",
      "\n",
      "Epoch 00010: val_loss did not improve from 0.06423\n"
     ]
    },
    {
     "name": "stderr",
     "output_type": "stream",
     "text": [
      "/home/frankl1/miniconda3/envs/ner-projection/lib/python3.7/site-packages/ipykernel_launcher.py:17: RuntimeWarning: invalid value encountered in double_scalars\n"
     ]
    },
    {
     "name": "stdout",
     "output_type": "stream",
     "text": [
      "\n",
      "Epoch 00001: val_loss improved from inf to 0.18781, saving model to best-model-conll.hdfs\n",
      "\n",
      "Epoch 00002: val_loss improved from 0.18781 to 0.18374, saving model to best-model-conll.hdfs\n",
      "\n",
      "Epoch 00003: val_loss did not improve from 0.18374\n",
      "\n",
      "Epoch 00004: val_loss improved from 0.18374 to 0.15634, saving model to best-model-conll.hdfs\n",
      "\n",
      "Epoch 00005: val_loss did not improve from 0.15634\n",
      "\n",
      "Epoch 00006: val_loss did not improve from 0.15634\n",
      "\n",
      "Epoch 00007: val_loss did not improve from 0.15634\n",
      "\n",
      "Epoch 00008: val_loss did not improve from 0.15634\n",
      "\n",
      "Epoch 00009: val_loss did not improve from 0.15634\n",
      "\n",
      "Epoch 00010: val_loss did not improve from 0.15634\n",
      "\n",
      "Epoch 00001: val_loss improved from inf to 0.05820, saving model to best-model-conll.hdfs\n",
      "\n",
      "Epoch 00002: val_loss did not improve from 0.05820\n",
      "\n",
      "Epoch 00003: val_loss did not improve from 0.05820\n",
      "\n",
      "Epoch 00004: val_loss did not improve from 0.05820\n",
      "\n",
      "Epoch 00005: val_loss did not improve from 0.05820\n",
      "\n",
      "Epoch 00006: val_loss did not improve from 0.05820\n",
      "\n",
      "Epoch 00007: val_loss did not improve from 0.05820\n",
      "\n",
      "Epoch 00008: val_loss did not improve from 0.05820\n",
      "\n",
      "Epoch 00009: val_loss did not improve from 0.05820\n",
      "\n",
      "Epoch 00010: val_loss did not improve from 0.05820\n"
     ]
    },
    {
     "name": "stderr",
     "output_type": "stream",
     "text": [
      "/home/frankl1/miniconda3/envs/ner-projection/lib/python3.7/site-packages/ipykernel_launcher.py:17: RuntimeWarning: invalid value encountered in double_scalars\n"
     ]
    },
    {
     "name": "stdout",
     "output_type": "stream",
     "text": [
      "\n",
      "Epoch 00001: val_loss improved from inf to 0.14936, saving model to best-model-conll.hdfs\n",
      "\n",
      "Epoch 00002: val_loss did not improve from 0.14936\n",
      "\n",
      "Epoch 00003: val_loss did not improve from 0.14936\n",
      "\n",
      "Epoch 00004: val_loss did not improve from 0.14936\n",
      "\n",
      "Epoch 00005: val_loss did not improve from 0.14936\n",
      "\n",
      "Epoch 00006: val_loss did not improve from 0.14936\n",
      "\n",
      "Epoch 00007: val_loss did not improve from 0.14936\n",
      "\n",
      "Epoch 00008: val_loss did not improve from 0.14936\n",
      "\n",
      "Epoch 00009: val_loss did not improve from 0.14936\n",
      "\n",
      "Epoch 00010: val_loss did not improve from 0.14936\n"
     ]
    },
    {
     "name": "stderr",
     "output_type": "stream",
     "text": [
      "/home/frankl1/miniconda3/envs/ner-projection/lib/python3.7/site-packages/ipykernel_launcher.py:17: RuntimeWarning: invalid value encountered in double_scalars\n"
     ]
    },
    {
     "name": "stdout",
     "output_type": "stream",
     "text": [
      "\n",
      "Epoch 00001: val_loss improved from inf to 0.02456, saving model to best-model-conll.hdfs\n",
      "\n",
      "Epoch 00002: val_loss did not improve from 0.02456\n",
      "\n",
      "Epoch 00003: val_loss did not improve from 0.02456\n",
      "\n",
      "Epoch 00004: val_loss did not improve from 0.02456\n",
      "\n",
      "Epoch 00005: val_loss did not improve from 0.02456\n",
      "\n",
      "Epoch 00006: val_loss did not improve from 0.02456\n",
      "\n",
      "Epoch 00007: val_loss did not improve from 0.02456\n",
      "\n",
      "Epoch 00008: val_loss did not improve from 0.02456\n",
      "\n",
      "Epoch 00009: val_loss did not improve from 0.02456\n",
      "\n",
      "Epoch 00010: val_loss did not improve from 0.02456\n"
     ]
    },
    {
     "name": "stderr",
     "output_type": "stream",
     "text": [
      "/home/frankl1/miniconda3/envs/ner-projection/lib/python3.7/site-packages/ipykernel_launcher.py:17: RuntimeWarning: invalid value encountered in double_scalars\n"
     ]
    },
    {
     "name": "stdout",
     "output_type": "stream",
     "text": [
      "\n",
      "Epoch 00001: val_loss improved from inf to 0.03976, saving model to best-model-conll.hdfs\n",
      "\n",
      "Epoch 00002: val_loss did not improve from 0.03976\n",
      "\n",
      "Epoch 00003: val_loss did not improve from 0.03976\n",
      "\n",
      "Epoch 00004: val_loss did not improve from 0.03976\n",
      "\n",
      "Epoch 00005: val_loss did not improve from 0.03976\n",
      "\n",
      "Epoch 00006: val_loss did not improve from 0.03976\n",
      "\n",
      "Epoch 00007: val_loss did not improve from 0.03976\n",
      "\n",
      "Epoch 00008: val_loss did not improve from 0.03976\n",
      "\n",
      "Epoch 00009: val_loss did not improve from 0.03976\n",
      "\n",
      "Epoch 00010: val_loss did not improve from 0.03976\n",
      "\n",
      "Epoch 00001: val_loss improved from inf to 0.06814, saving model to best-model-conll.hdfs\n",
      "\n",
      "Epoch 00002: val_loss did not improve from 0.06814\n",
      "\n",
      "Epoch 00003: val_loss did not improve from 0.06814\n",
      "\n",
      "Epoch 00004: val_loss did not improve from 0.06814\n",
      "\n",
      "Epoch 00005: val_loss did not improve from 0.06814\n",
      "\n",
      "Epoch 00006: val_loss did not improve from 0.06814\n",
      "\n",
      "Epoch 00007: val_loss did not improve from 0.06814\n",
      "\n",
      "Epoch 00008: val_loss did not improve from 0.06814\n",
      "\n",
      "Epoch 00009: val_loss did not improve from 0.06814\n",
      "\n",
      "Epoch 00010: val_loss did not improve from 0.06814\n",
      "AlgoCrossValIter - 2\n",
      "Model: \"sequential_2\"\n",
      "_________________________________________________________________\n",
      "Layer (type)                 Output Shape              Param #   \n",
      "=================================================================\n",
      "hidden1 (Dense)              (None, 640)               135040    \n",
      "_________________________________________________________________\n",
      "hidden2 (Dense)              (None, 160)               102560    \n",
      "_________________________________________________________________\n",
      "outputlayer (Dense)          (None, 5)                 805       \n",
      "=================================================================\n",
      "Total params: 238,405\n",
      "Trainable params: 238,405\n",
      "Non-trainable params: 0\n",
      "_________________________________________________________________\n",
      "\n",
      "Epoch 00001: val_loss improved from inf to 0.61523, saving model to best-model-conll.hdfs\n",
      "\n",
      "Epoch 00002: val_loss improved from 0.61523 to 0.29041, saving model to best-model-conll.hdfs\n",
      "\n",
      "Epoch 00003: val_loss improved from 0.29041 to 0.21539, saving model to best-model-conll.hdfs\n",
      "\n",
      "Epoch 00004: val_loss did not improve from 0.21539\n",
      "\n",
      "Epoch 00005: val_loss did not improve from 0.21539\n",
      "\n",
      "Epoch 00006: val_loss did not improve from 0.21539\n",
      "\n",
      "Epoch 00007: val_loss did not improve from 0.21539\n",
      "\n",
      "Epoch 00008: val_loss did not improve from 0.21539\n",
      "\n",
      "Epoch 00009: val_loss did not improve from 0.21539\n",
      "\n",
      "Epoch 00010: val_loss did not improve from 0.21539\n"
     ]
    },
    {
     "name": "stderr",
     "output_type": "stream",
     "text": [
      "/home/frankl1/miniconda3/envs/ner-projection/lib/python3.7/site-packages/ipykernel_launcher.py:17: RuntimeWarning: invalid value encountered in double_scalars\n"
     ]
    },
    {
     "name": "stdout",
     "output_type": "stream",
     "text": [
      "\n",
      "Epoch 00001: val_loss improved from inf to 0.09024, saving model to best-model-conll.hdfs\n",
      "\n",
      "Epoch 00002: val_loss did not improve from 0.09024\n",
      "\n",
      "Epoch 00003: val_loss did not improve from 0.09024\n",
      "\n",
      "Epoch 00004: val_loss did not improve from 0.09024\n",
      "\n",
      "Epoch 00005: val_loss did not improve from 0.09024\n",
      "\n",
      "Epoch 00006: val_loss did not improve from 0.09024\n",
      "\n",
      "Epoch 00007: val_loss did not improve from 0.09024\n",
      "\n",
      "Epoch 00008: val_loss did not improve from 0.09024\n",
      "\n",
      "Epoch 00009: val_loss did not improve from 0.09024\n",
      "\n",
      "Epoch 00010: val_loss did not improve from 0.09024\n"
     ]
    },
    {
     "name": "stderr",
     "output_type": "stream",
     "text": [
      "/home/frankl1/miniconda3/envs/ner-projection/lib/python3.7/site-packages/ipykernel_launcher.py:17: RuntimeWarning: invalid value encountered in double_scalars\n"
     ]
    },
    {
     "name": "stdout",
     "output_type": "stream",
     "text": [
      "\n",
      "Epoch 00001: val_loss improved from inf to 0.09060, saving model to best-model-conll.hdfs\n",
      "\n",
      "Epoch 00002: val_loss did not improve from 0.09060\n",
      "\n",
      "Epoch 00003: val_loss did not improve from 0.09060\n",
      "\n",
      "Epoch 00004: val_loss did not improve from 0.09060\n",
      "\n",
      "Epoch 00005: val_loss did not improve from 0.09060\n",
      "\n",
      "Epoch 00006: val_loss did not improve from 0.09060\n",
      "\n",
      "Epoch 00007: val_loss did not improve from 0.09060\n",
      "\n",
      "Epoch 00008: val_loss did not improve from 0.09060\n",
      "\n",
      "Epoch 00009: val_loss did not improve from 0.09060\n",
      "\n",
      "Epoch 00010: val_loss did not improve from 0.09060\n"
     ]
    },
    {
     "name": "stderr",
     "output_type": "stream",
     "text": [
      "/home/frankl1/miniconda3/envs/ner-projection/lib/python3.7/site-packages/ipykernel_launcher.py:17: RuntimeWarning: invalid value encountered in double_scalars\n"
     ]
    },
    {
     "name": "stdout",
     "output_type": "stream",
     "text": [
      "\n",
      "Epoch 00001: val_loss improved from inf to 0.05555, saving model to best-model-conll.hdfs\n",
      "\n",
      "Epoch 00002: val_loss improved from 0.05555 to 0.04293, saving model to best-model-conll.hdfs\n",
      "\n",
      "Epoch 00003: val_loss did not improve from 0.04293\n",
      "\n",
      "Epoch 00004: val_loss did not improve from 0.04293\n",
      "\n",
      "Epoch 00005: val_loss did not improve from 0.04293\n",
      "\n",
      "Epoch 00006: val_loss did not improve from 0.04293\n",
      "\n",
      "Epoch 00007: val_loss did not improve from 0.04293\n",
      "\n",
      "Epoch 00008: val_loss did not improve from 0.04293\n",
      "\n",
      "Epoch 00009: val_loss did not improve from 0.04293\n",
      "\n",
      "Epoch 00010: val_loss did not improve from 0.04293\n"
     ]
    },
    {
     "name": "stderr",
     "output_type": "stream",
     "text": [
      "/home/frankl1/miniconda3/envs/ner-projection/lib/python3.7/site-packages/ipykernel_launcher.py:17: RuntimeWarning: invalid value encountered in double_scalars\n"
     ]
    },
    {
     "name": "stdout",
     "output_type": "stream",
     "text": [
      "\n",
      "Epoch 00001: val_loss improved from inf to 0.12329, saving model to best-model-conll.hdfs\n",
      "\n",
      "Epoch 00002: val_loss did not improve from 0.12329\n",
      "\n",
      "Epoch 00003: val_loss did not improve from 0.12329\n",
      "\n",
      "Epoch 00004: val_loss did not improve from 0.12329\n",
      "\n",
      "Epoch 00005: val_loss did not improve from 0.12329\n",
      "\n",
      "Epoch 00006: val_loss did not improve from 0.12329\n",
      "\n",
      "Epoch 00007: val_loss did not improve from 0.12329\n",
      "\n",
      "Epoch 00008: val_loss did not improve from 0.12329\n",
      "\n",
      "Epoch 00009: val_loss did not improve from 0.12329\n",
      "\n",
      "Epoch 00010: val_loss did not improve from 0.12329\n"
     ]
    },
    {
     "name": "stderr",
     "output_type": "stream",
     "text": [
      "/home/frankl1/miniconda3/envs/ner-projection/lib/python3.7/site-packages/ipykernel_launcher.py:17: RuntimeWarning: invalid value encountered in double_scalars\n"
     ]
    },
    {
     "name": "stdout",
     "output_type": "stream",
     "text": [
      "\n",
      "Epoch 00001: val_loss improved from inf to 0.05213, saving model to best-model-conll.hdfs\n",
      "\n",
      "Epoch 00002: val_loss did not improve from 0.05213\n",
      "\n",
      "Epoch 00003: val_loss did not improve from 0.05213\n",
      "\n",
      "Epoch 00004: val_loss did not improve from 0.05213\n",
      "\n",
      "Epoch 00005: val_loss did not improve from 0.05213\n",
      "\n",
      "Epoch 00006: val_loss did not improve from 0.05213\n",
      "\n",
      "Epoch 00007: val_loss did not improve from 0.05213\n",
      "\n",
      "Epoch 00008: val_loss did not improve from 0.05213\n",
      "\n",
      "Epoch 00009: val_loss did not improve from 0.05213\n",
      "\n",
      "Epoch 00010: val_loss did not improve from 0.05213\n"
     ]
    },
    {
     "name": "stderr",
     "output_type": "stream",
     "text": [
      "/home/frankl1/miniconda3/envs/ner-projection/lib/python3.7/site-packages/ipykernel_launcher.py:17: RuntimeWarning: invalid value encountered in double_scalars\n"
     ]
    },
    {
     "name": "stdout",
     "output_type": "stream",
     "text": [
      "\n",
      "Epoch 00001: val_loss improved from inf to 0.16377, saving model to best-model-conll.hdfs\n",
      "\n",
      "Epoch 00002: val_loss did not improve from 0.16377\n",
      "\n",
      "Epoch 00003: val_loss did not improve from 0.16377\n",
      "\n",
      "Epoch 00004: val_loss did not improve from 0.16377\n",
      "\n",
      "Epoch 00005: val_loss did not improve from 0.16377\n",
      "\n",
      "Epoch 00006: val_loss did not improve from 0.16377\n",
      "\n",
      "Epoch 00007: val_loss did not improve from 0.16377\n",
      "\n",
      "Epoch 00008: val_loss did not improve from 0.16377\n",
      "\n",
      "Epoch 00009: val_loss did not improve from 0.16377\n",
      "\n",
      "Epoch 00010: val_loss did not improve from 0.16377\n"
     ]
    },
    {
     "name": "stderr",
     "output_type": "stream",
     "text": [
      "/home/frankl1/miniconda3/envs/ner-projection/lib/python3.7/site-packages/ipykernel_launcher.py:17: RuntimeWarning: invalid value encountered in double_scalars\n"
     ]
    },
    {
     "name": "stdout",
     "output_type": "stream",
     "text": [
      "\n",
      "Epoch 00001: val_loss improved from inf to 0.02684, saving model to best-model-conll.hdfs\n",
      "\n",
      "Epoch 00002: val_loss did not improve from 0.02684\n",
      "\n",
      "Epoch 00003: val_loss did not improve from 0.02684\n",
      "\n",
      "Epoch 00004: val_loss did not improve from 0.02684\n",
      "\n",
      "Epoch 00005: val_loss did not improve from 0.02684\n",
      "\n",
      "Epoch 00006: val_loss did not improve from 0.02684\n",
      "\n",
      "Epoch 00007: val_loss did not improve from 0.02684\n",
      "\n",
      "Epoch 00008: val_loss did not improve from 0.02684\n",
      "\n",
      "Epoch 00009: val_loss did not improve from 0.02684\n",
      "\n",
      "Epoch 00010: val_loss did not improve from 0.02684\n"
     ]
    },
    {
     "name": "stderr",
     "output_type": "stream",
     "text": [
      "/home/frankl1/miniconda3/envs/ner-projection/lib/python3.7/site-packages/ipykernel_launcher.py:17: RuntimeWarning: invalid value encountered in double_scalars\n"
     ]
    },
    {
     "name": "stdout",
     "output_type": "stream",
     "text": [
      "\n",
      "Epoch 00001: val_loss improved from inf to 0.04152, saving model to best-model-conll.hdfs\n",
      "\n",
      "Epoch 00002: val_loss did not improve from 0.04152\n",
      "\n",
      "Epoch 00003: val_loss did not improve from 0.04152\n",
      "\n",
      "Epoch 00004: val_loss did not improve from 0.04152\n",
      "\n",
      "Epoch 00005: val_loss did not improve from 0.04152\n",
      "\n",
      "Epoch 00006: val_loss did not improve from 0.04152\n",
      "\n",
      "Epoch 00007: val_loss did not improve from 0.04152\n",
      "\n",
      "Epoch 00008: val_loss did not improve from 0.04152\n",
      "\n",
      "Epoch 00009: val_loss did not improve from 0.04152\n",
      "\n",
      "Epoch 00010: val_loss did not improve from 0.04152\n"
     ]
    },
    {
     "name": "stderr",
     "output_type": "stream",
     "text": [
      "/home/frankl1/miniconda3/envs/ner-projection/lib/python3.7/site-packages/ipykernel_launcher.py:17: RuntimeWarning: invalid value encountered in double_scalars\n"
     ]
    },
    {
     "name": "stdout",
     "output_type": "stream",
     "text": [
      "\n",
      "Epoch 00001: val_loss improved from inf to 0.06816, saving model to best-model-conll.hdfs\n",
      "\n",
      "Epoch 00002: val_loss did not improve from 0.06816\n",
      "\n",
      "Epoch 00003: val_loss did not improve from 0.06816\n",
      "\n",
      "Epoch 00004: val_loss did not improve from 0.06816\n",
      "\n",
      "Epoch 00005: val_loss did not improve from 0.06816\n",
      "\n",
      "Epoch 00006: val_loss did not improve from 0.06816\n",
      "\n",
      "Epoch 00007: val_loss did not improve from 0.06816\n",
      "\n",
      "Epoch 00008: val_loss did not improve from 0.06816\n",
      "\n",
      "Epoch 00009: val_loss did not improve from 0.06816\n",
      "\n",
      "Epoch 00010: val_loss did not improve from 0.06816\n",
      "AlgoCrossValIter - 3\n",
      "Model: \"sequential_3\"\n",
      "_________________________________________________________________\n",
      "Layer (type)                 Output Shape              Param #   \n",
      "=================================================================\n",
      "hidden1 (Dense)              (None, 640)               135040    \n",
      "_________________________________________________________________\n",
      "hidden2 (Dense)              (None, 160)               102560    \n",
      "_________________________________________________________________\n",
      "outputlayer (Dense)          (None, 5)                 805       \n",
      "=================================================================\n",
      "Total params: 238,405\n",
      "Trainable params: 238,405\n",
      "Non-trainable params: 0\n",
      "_________________________________________________________________\n",
      "\n",
      "Epoch 00001: val_loss improved from inf to 0.25453, saving model to best-model-conll.hdfs\n",
      "\n",
      "Epoch 00002: val_loss improved from 0.25453 to 0.24991, saving model to best-model-conll.hdfs\n",
      "\n",
      "Epoch 00003: val_loss improved from 0.24991 to 0.22334, saving model to best-model-conll.hdfs\n",
      "\n",
      "Epoch 00004: val_loss did not improve from 0.22334\n",
      "\n",
      "Epoch 00005: val_loss did not improve from 0.22334\n",
      "\n",
      "Epoch 00006: val_loss did not improve from 0.22334\n",
      "\n",
      "Epoch 00007: val_loss improved from 0.22334 to 0.22197, saving model to best-model-conll.hdfs\n",
      "\n",
      "Epoch 00008: val_loss did not improve from 0.22197\n",
      "\n",
      "Epoch 00009: val_loss did not improve from 0.22197\n",
      "\n",
      "Epoch 00010: val_loss did not improve from 0.22197\n"
     ]
    },
    {
     "name": "stderr",
     "output_type": "stream",
     "text": [
      "/home/frankl1/miniconda3/envs/ner-projection/lib/python3.7/site-packages/ipykernel_launcher.py:17: RuntimeWarning: invalid value encountered in double_scalars\n"
     ]
    },
    {
     "name": "stdout",
     "output_type": "stream",
     "text": [
      "\n",
      "Epoch 00001: val_loss improved from inf to 0.08093, saving model to best-model-conll.hdfs\n",
      "\n",
      "Epoch 00002: val_loss did not improve from 0.08093\n",
      "\n",
      "Epoch 00003: val_loss did not improve from 0.08093\n",
      "\n",
      "Epoch 00004: val_loss did not improve from 0.08093\n",
      "\n",
      "Epoch 00005: val_loss did not improve from 0.08093\n",
      "\n",
      "Epoch 00006: val_loss did not improve from 0.08093\n",
      "\n",
      "Epoch 00007: val_loss did not improve from 0.08093\n",
      "\n",
      "Epoch 00008: val_loss did not improve from 0.08093\n",
      "\n",
      "Epoch 00009: val_loss did not improve from 0.08093\n",
      "\n",
      "Epoch 00010: val_loss did not improve from 0.08093\n"
     ]
    },
    {
     "name": "stderr",
     "output_type": "stream",
     "text": [
      "/home/frankl1/miniconda3/envs/ner-projection/lib/python3.7/site-packages/ipykernel_launcher.py:17: RuntimeWarning: invalid value encountered in double_scalars\n"
     ]
    },
    {
     "name": "stdout",
     "output_type": "stream",
     "text": [
      "\n",
      "Epoch 00001: val_loss improved from inf to 0.12521, saving model to best-model-conll.hdfs\n",
      "\n",
      "Epoch 00002: val_loss did not improve from 0.12521\n",
      "\n",
      "Epoch 00003: val_loss did not improve from 0.12521\n",
      "\n",
      "Epoch 00004: val_loss did not improve from 0.12521\n",
      "\n",
      "Epoch 00005: val_loss did not improve from 0.12521\n",
      "\n",
      "Epoch 00006: val_loss did not improve from 0.12521\n",
      "\n",
      "Epoch 00007: val_loss did not improve from 0.12521\n",
      "\n",
      "Epoch 00008: val_loss did not improve from 0.12521\n",
      "\n",
      "Epoch 00009: val_loss did not improve from 0.12521\n",
      "\n",
      "Epoch 00010: val_loss did not improve from 0.12521\n",
      "\n",
      "Epoch 00001: val_loss improved from inf to 0.09288, saving model to best-model-conll.hdfs\n",
      "\n",
      "Epoch 00002: val_loss did not improve from 0.09288\n",
      "\n",
      "Epoch 00003: val_loss improved from 0.09288 to 0.07771, saving model to best-model-conll.hdfs\n",
      "\n",
      "Epoch 00004: val_loss did not improve from 0.07771\n",
      "\n",
      "Epoch 00005: val_loss did not improve from 0.07771\n",
      "\n",
      "Epoch 00006: val_loss did not improve from 0.07771\n",
      "\n",
      "Epoch 00007: val_loss did not improve from 0.07771\n",
      "\n",
      "Epoch 00008: val_loss did not improve from 0.07771\n",
      "\n",
      "Epoch 00009: val_loss did not improve from 0.07771\n",
      "\n",
      "Epoch 00010: val_loss did not improve from 0.07771\n",
      "\n",
      "Epoch 00001: val_loss improved from inf to 0.16111, saving model to best-model-conll.hdfs\n",
      "\n",
      "Epoch 00002: val_loss improved from 0.16111 to 0.13365, saving model to best-model-conll.hdfs\n",
      "\n",
      "Epoch 00003: val_loss did not improve from 0.13365\n",
      "\n",
      "Epoch 00004: val_loss did not improve from 0.13365\n",
      "\n",
      "Epoch 00005: val_loss did not improve from 0.13365\n",
      "\n",
      "Epoch 00006: val_loss did not improve from 0.13365\n",
      "\n",
      "Epoch 00007: val_loss did not improve from 0.13365\n",
      "\n",
      "Epoch 00008: val_loss did not improve from 0.13365\n",
      "\n",
      "Epoch 00009: val_loss did not improve from 0.13365\n",
      "\n",
      "Epoch 00010: val_loss did not improve from 0.13365\n"
     ]
    },
    {
     "name": "stderr",
     "output_type": "stream",
     "text": [
      "/home/frankl1/miniconda3/envs/ner-projection/lib/python3.7/site-packages/ipykernel_launcher.py:17: RuntimeWarning: invalid value encountered in double_scalars\n"
     ]
    },
    {
     "name": "stdout",
     "output_type": "stream",
     "text": [
      "\n",
      "Epoch 00001: val_loss improved from inf to 0.07783, saving model to best-model-conll.hdfs\n",
      "\n",
      "Epoch 00002: val_loss improved from 0.07783 to 0.07259, saving model to best-model-conll.hdfs\n",
      "\n",
      "Epoch 00003: val_loss did not improve from 0.07259\n",
      "\n",
      "Epoch 00004: val_loss did not improve from 0.07259\n",
      "\n",
      "Epoch 00005: val_loss did not improve from 0.07259\n",
      "\n",
      "Epoch 00006: val_loss did not improve from 0.07259\n",
      "\n",
      "Epoch 00007: val_loss did not improve from 0.07259\n",
      "\n",
      "Epoch 00008: val_loss did not improve from 0.07259\n",
      "\n",
      "Epoch 00009: val_loss did not improve from 0.07259\n",
      "\n",
      "Epoch 00010: val_loss did not improve from 0.07259\n"
     ]
    },
    {
     "name": "stderr",
     "output_type": "stream",
     "text": [
      "/home/frankl1/miniconda3/envs/ner-projection/lib/python3.7/site-packages/ipykernel_launcher.py:17: RuntimeWarning: invalid value encountered in double_scalars\n"
     ]
    },
    {
     "name": "stdout",
     "output_type": "stream",
     "text": [
      "\n",
      "Epoch 00001: val_loss improved from inf to 0.14646, saving model to best-model-conll.hdfs\n",
      "\n",
      "Epoch 00002: val_loss did not improve from 0.14646\n",
      "\n",
      "Epoch 00003: val_loss did not improve from 0.14646\n",
      "\n",
      "Epoch 00004: val_loss did not improve from 0.14646\n",
      "\n",
      "Epoch 00005: val_loss did not improve from 0.14646\n",
      "\n",
      "Epoch 00006: val_loss did not improve from 0.14646\n",
      "\n",
      "Epoch 00007: val_loss did not improve from 0.14646\n",
      "\n",
      "Epoch 00008: val_loss did not improve from 0.14646\n",
      "\n",
      "Epoch 00009: val_loss did not improve from 0.14646\n",
      "\n",
      "Epoch 00010: val_loss did not improve from 0.14646\n"
     ]
    },
    {
     "name": "stderr",
     "output_type": "stream",
     "text": [
      "/home/frankl1/miniconda3/envs/ner-projection/lib/python3.7/site-packages/ipykernel_launcher.py:17: RuntimeWarning: invalid value encountered in double_scalars\n"
     ]
    },
    {
     "name": "stdout",
     "output_type": "stream",
     "text": [
      "\n",
      "Epoch 00001: val_loss improved from inf to 0.01989, saving model to best-model-conll.hdfs\n",
      "\n",
      "Epoch 00002: val_loss did not improve from 0.01989\n",
      "\n",
      "Epoch 00003: val_loss did not improve from 0.01989\n",
      "\n",
      "Epoch 00004: val_loss did not improve from 0.01989\n",
      "\n",
      "Epoch 00005: val_loss did not improve from 0.01989\n",
      "\n",
      "Epoch 00006: val_loss did not improve from 0.01989\n",
      "\n",
      "Epoch 00007: val_loss did not improve from 0.01989\n",
      "\n",
      "Epoch 00008: val_loss did not improve from 0.01989\n",
      "\n",
      "Epoch 00009: val_loss did not improve from 0.01989\n",
      "\n",
      "Epoch 00010: val_loss did not improve from 0.01989\n",
      "\n",
      "Epoch 00001: val_loss improved from inf to 0.04750, saving model to best-model-conll.hdfs\n",
      "\n",
      "Epoch 00002: val_loss did not improve from 0.04750\n",
      "\n",
      "Epoch 00003: val_loss did not improve from 0.04750\n",
      "\n",
      "Epoch 00004: val_loss did not improve from 0.04750\n",
      "\n",
      "Epoch 00005: val_loss improved from 0.04750 to 0.04445, saving model to best-model-conll.hdfs\n",
      "\n",
      "Epoch 00006: val_loss did not improve from 0.04445\n",
      "\n",
      "Epoch 00007: val_loss did not improve from 0.04445\n",
      "\n",
      "Epoch 00008: val_loss did not improve from 0.04445\n",
      "\n",
      "Epoch 00009: val_loss did not improve from 0.04445\n",
      "\n",
      "Epoch 00010: val_loss did not improve from 0.04445\n"
     ]
    },
    {
     "name": "stderr",
     "output_type": "stream",
     "text": [
      "/home/frankl1/miniconda3/envs/ner-projection/lib/python3.7/site-packages/ipykernel_launcher.py:17: RuntimeWarning: invalid value encountered in double_scalars\n"
     ]
    },
    {
     "name": "stdout",
     "output_type": "stream",
     "text": [
      "\n",
      "Epoch 00001: val_loss improved from inf to 0.06485, saving model to best-model-conll.hdfs\n",
      "\n",
      "Epoch 00002: val_loss did not improve from 0.06485\n",
      "\n",
      "Epoch 00003: val_loss did not improve from 0.06485\n",
      "\n",
      "Epoch 00004: val_loss did not improve from 0.06485\n",
      "\n",
      "Epoch 00005: val_loss did not improve from 0.06485\n",
      "\n",
      "Epoch 00006: val_loss did not improve from 0.06485\n",
      "\n",
      "Epoch 00007: val_loss did not improve from 0.06485\n",
      "\n",
      "Epoch 00008: val_loss did not improve from 0.06485\n",
      "\n",
      "Epoch 00009: val_loss did not improve from 0.06485\n",
      "\n",
      "Epoch 00010: val_loss did not improve from 0.06485\n"
     ]
    },
    {
     "name": "stderr",
     "output_type": "stream",
     "text": [
      "/home/frankl1/miniconda3/envs/ner-projection/lib/python3.7/site-packages/ipykernel_launcher.py:17: RuntimeWarning: invalid value encountered in double_scalars\n"
     ]
    },
    {
     "name": "stdout",
     "output_type": "stream",
     "text": [
      "AlgoCrossValIter - 4\n",
      "Model: \"sequential_4\"\n",
      "_________________________________________________________________\n",
      "Layer (type)                 Output Shape              Param #   \n",
      "=================================================================\n",
      "hidden1 (Dense)              (None, 640)               135040    \n",
      "_________________________________________________________________\n",
      "hidden2 (Dense)              (None, 160)               102560    \n",
      "_________________________________________________________________\n",
      "outputlayer (Dense)          (None, 5)                 805       \n",
      "=================================================================\n",
      "Total params: 238,405\n",
      "Trainable params: 238,405\n",
      "Non-trainable params: 0\n",
      "_________________________________________________________________\n",
      "\n",
      "Epoch 00001: val_loss improved from inf to 0.30519, saving model to best-model-conll.hdfs\n",
      "\n",
      "Epoch 00002: val_loss improved from 0.30519 to 0.26850, saving model to best-model-conll.hdfs\n",
      "\n",
      "Epoch 00003: val_loss improved from 0.26850 to 0.25258, saving model to best-model-conll.hdfs\n",
      "\n",
      "Epoch 00004: val_loss improved from 0.25258 to 0.24820, saving model to best-model-conll.hdfs\n",
      "\n",
      "Epoch 00005: val_loss did not improve from 0.24820\n",
      "\n",
      "Epoch 00006: val_loss did not improve from 0.24820\n",
      "\n",
      "Epoch 00007: val_loss did not improve from 0.24820\n",
      "\n",
      "Epoch 00008: val_loss did not improve from 0.24820\n",
      "\n",
      "Epoch 00009: val_loss did not improve from 0.24820\n",
      "\n",
      "Epoch 00010: val_loss did not improve from 0.24820\n"
     ]
    },
    {
     "name": "stderr",
     "output_type": "stream",
     "text": [
      "/home/frankl1/miniconda3/envs/ner-projection/lib/python3.7/site-packages/ipykernel_launcher.py:17: RuntimeWarning: invalid value encountered in double_scalars\n"
     ]
    },
    {
     "name": "stdout",
     "output_type": "stream",
     "text": [
      "\n",
      "Epoch 00001: val_loss improved from inf to 0.11403, saving model to best-model-conll.hdfs\n",
      "\n",
      "Epoch 00002: val_loss improved from 0.11403 to 0.08352, saving model to best-model-conll.hdfs\n",
      "\n",
      "Epoch 00003: val_loss did not improve from 0.08352\n",
      "\n",
      "Epoch 00004: val_loss did not improve from 0.08352\n",
      "\n",
      "Epoch 00005: val_loss did not improve from 0.08352\n",
      "\n",
      "Epoch 00006: val_loss did not improve from 0.08352\n",
      "\n",
      "Epoch 00007: val_loss did not improve from 0.08352\n",
      "\n",
      "Epoch 00008: val_loss did not improve from 0.08352\n",
      "\n",
      "Epoch 00009: val_loss did not improve from 0.08352\n",
      "\n",
      "Epoch 00010: val_loss did not improve from 0.08352\n"
     ]
    },
    {
     "name": "stderr",
     "output_type": "stream",
     "text": [
      "/home/frankl1/miniconda3/envs/ner-projection/lib/python3.7/site-packages/ipykernel_launcher.py:17: RuntimeWarning: invalid value encountered in double_scalars\n"
     ]
    },
    {
     "name": "stdout",
     "output_type": "stream",
     "text": [
      "\n",
      "Epoch 00001: val_loss improved from inf to 0.13694, saving model to best-model-conll.hdfs\n",
      "\n",
      "Epoch 00002: val_loss improved from 0.13694 to 0.11520, saving model to best-model-conll.hdfs\n",
      "\n",
      "Epoch 00003: val_loss did not improve from 0.11520\n",
      "\n",
      "Epoch 00004: val_loss did not improve from 0.11520\n",
      "\n",
      "Epoch 00005: val_loss did not improve from 0.11520\n",
      "\n",
      "Epoch 00006: val_loss did not improve from 0.11520\n",
      "\n",
      "Epoch 00007: val_loss did not improve from 0.11520\n",
      "\n",
      "Epoch 00008: val_loss did not improve from 0.11520\n",
      "\n",
      "Epoch 00009: val_loss did not improve from 0.11520\n",
      "\n",
      "Epoch 00010: val_loss did not improve from 0.11520\n"
     ]
    },
    {
     "name": "stderr",
     "output_type": "stream",
     "text": [
      "/home/frankl1/miniconda3/envs/ner-projection/lib/python3.7/site-packages/ipykernel_launcher.py:17: RuntimeWarning: invalid value encountered in double_scalars\n"
     ]
    },
    {
     "name": "stdout",
     "output_type": "stream",
     "text": [
      "\n",
      "Epoch 00001: val_loss improved from inf to 0.05523, saving model to best-model-conll.hdfs\n",
      "\n",
      "Epoch 00002: val_loss improved from 0.05523 to 0.05457, saving model to best-model-conll.hdfs\n",
      "\n",
      "Epoch 00003: val_loss did not improve from 0.05457\n",
      "\n",
      "Epoch 00004: val_loss did not improve from 0.05457\n",
      "\n",
      "Epoch 00005: val_loss did not improve from 0.05457\n",
      "\n",
      "Epoch 00006: val_loss did not improve from 0.05457\n",
      "\n",
      "Epoch 00007: val_loss did not improve from 0.05457\n",
      "\n",
      "Epoch 00008: val_loss did not improve from 0.05457\n",
      "\n",
      "Epoch 00009: val_loss did not improve from 0.05457\n",
      "\n",
      "Epoch 00010: val_loss did not improve from 0.05457\n"
     ]
    },
    {
     "name": "stderr",
     "output_type": "stream",
     "text": [
      "/home/frankl1/miniconda3/envs/ner-projection/lib/python3.7/site-packages/ipykernel_launcher.py:17: RuntimeWarning: invalid value encountered in double_scalars\n"
     ]
    },
    {
     "name": "stdout",
     "output_type": "stream",
     "text": [
      "\n",
      "Epoch 00001: val_loss improved from inf to 0.11583, saving model to best-model-conll.hdfs\n",
      "\n",
      "Epoch 00002: val_loss did not improve from 0.11583\n",
      "\n",
      "Epoch 00003: val_loss did not improve from 0.11583\n",
      "\n",
      "Epoch 00004: val_loss did not improve from 0.11583\n",
      "\n",
      "Epoch 00005: val_loss did not improve from 0.11583\n",
      "\n",
      "Epoch 00006: val_loss did not improve from 0.11583\n",
      "\n",
      "Epoch 00007: val_loss did not improve from 0.11583\n",
      "\n",
      "Epoch 00008: val_loss did not improve from 0.11583\n",
      "\n",
      "Epoch 00009: val_loss did not improve from 0.11583\n",
      "\n",
      "Epoch 00010: val_loss did not improve from 0.11583\n"
     ]
    },
    {
     "name": "stderr",
     "output_type": "stream",
     "text": [
      "/home/frankl1/miniconda3/envs/ner-projection/lib/python3.7/site-packages/ipykernel_launcher.py:17: RuntimeWarning: invalid value encountered in double_scalars\n"
     ]
    },
    {
     "name": "stdout",
     "output_type": "stream",
     "text": [
      "\n",
      "Epoch 00001: val_loss improved from inf to 0.05589, saving model to best-model-conll.hdfs\n",
      "\n",
      "Epoch 00002: val_loss did not improve from 0.05589\n",
      "\n",
      "Epoch 00003: val_loss did not improve from 0.05589\n",
      "\n",
      "Epoch 00004: val_loss did not improve from 0.05589\n",
      "\n",
      "Epoch 00005: val_loss did not improve from 0.05589\n",
      "\n",
      "Epoch 00006: val_loss did not improve from 0.05589\n",
      "\n",
      "Epoch 00007: val_loss did not improve from 0.05589\n",
      "\n",
      "Epoch 00008: val_loss did not improve from 0.05589\n",
      "\n",
      "Epoch 00009: val_loss did not improve from 0.05589\n",
      "\n",
      "Epoch 00010: val_loss did not improve from 0.05589\n"
     ]
    },
    {
     "name": "stderr",
     "output_type": "stream",
     "text": [
      "/home/frankl1/miniconda3/envs/ner-projection/lib/python3.7/site-packages/ipykernel_launcher.py:17: RuntimeWarning: invalid value encountered in double_scalars\n"
     ]
    },
    {
     "name": "stdout",
     "output_type": "stream",
     "text": [
      "\n",
      "Epoch 00001: val_loss improved from inf to 0.14171, saving model to best-model-conll.hdfs\n",
      "\n",
      "Epoch 00002: val_loss did not improve from 0.14171\n",
      "\n",
      "Epoch 00003: val_loss did not improve from 0.14171\n",
      "\n",
      "Epoch 00004: val_loss did not improve from 0.14171\n",
      "\n",
      "Epoch 00005: val_loss did not improve from 0.14171\n",
      "\n",
      "Epoch 00006: val_loss did not improve from 0.14171\n",
      "\n",
      "Epoch 00007: val_loss did not improve from 0.14171\n",
      "\n",
      "Epoch 00008: val_loss did not improve from 0.14171\n",
      "\n",
      "Epoch 00009: val_loss did not improve from 0.14171\n",
      "\n",
      "Epoch 00010: val_loss did not improve from 0.14171\n"
     ]
    },
    {
     "name": "stderr",
     "output_type": "stream",
     "text": [
      "/home/frankl1/miniconda3/envs/ner-projection/lib/python3.7/site-packages/ipykernel_launcher.py:17: RuntimeWarning: invalid value encountered in double_scalars\n"
     ]
    },
    {
     "name": "stdout",
     "output_type": "stream",
     "text": [
      "\n",
      "Epoch 00001: val_loss improved from inf to 0.02181, saving model to best-model-conll.hdfs\n",
      "\n",
      "Epoch 00002: val_loss did not improve from 0.02181\n",
      "\n",
      "Epoch 00003: val_loss did not improve from 0.02181\n",
      "\n",
      "Epoch 00004: val_loss did not improve from 0.02181\n",
      "\n",
      "Epoch 00005: val_loss did not improve from 0.02181\n",
      "\n",
      "Epoch 00006: val_loss did not improve from 0.02181\n",
      "\n",
      "Epoch 00007: val_loss did not improve from 0.02181\n",
      "\n",
      "Epoch 00008: val_loss did not improve from 0.02181\n",
      "\n",
      "Epoch 00009: val_loss did not improve from 0.02181\n",
      "\n",
      "Epoch 00010: val_loss did not improve from 0.02181\n"
     ]
    },
    {
     "name": "stderr",
     "output_type": "stream",
     "text": [
      "/home/frankl1/miniconda3/envs/ner-projection/lib/python3.7/site-packages/ipykernel_launcher.py:17: RuntimeWarning: invalid value encountered in double_scalars\n"
     ]
    },
    {
     "name": "stdout",
     "output_type": "stream",
     "text": [
      "\n",
      "Epoch 00001: val_loss improved from inf to 0.05861, saving model to best-model-conll.hdfs\n",
      "\n",
      "Epoch 00002: val_loss improved from 0.05861 to 0.03394, saving model to best-model-conll.hdfs\n",
      "\n",
      "Epoch 00003: val_loss did not improve from 0.03394\n",
      "\n",
      "Epoch 00004: val_loss did not improve from 0.03394\n",
      "\n",
      "Epoch 00005: val_loss did not improve from 0.03394\n",
      "\n",
      "Epoch 00006: val_loss did not improve from 0.03394\n",
      "\n",
      "Epoch 00007: val_loss did not improve from 0.03394\n",
      "\n",
      "Epoch 00008: val_loss did not improve from 0.03394\n",
      "\n",
      "Epoch 00009: val_loss did not improve from 0.03394\n",
      "\n",
      "Epoch 00010: val_loss did not improve from 0.03394\n"
     ]
    },
    {
     "name": "stderr",
     "output_type": "stream",
     "text": [
      "/home/frankl1/miniconda3/envs/ner-projection/lib/python3.7/site-packages/ipykernel_launcher.py:17: RuntimeWarning: invalid value encountered in double_scalars\n"
     ]
    },
    {
     "name": "stdout",
     "output_type": "stream",
     "text": [
      "\n",
      "Epoch 00001: val_loss improved from inf to 0.06559, saving model to best-model-conll.hdfs\n",
      "\n",
      "Epoch 00002: val_loss did not improve from 0.06559\n",
      "\n",
      "Epoch 00003: val_loss did not improve from 0.06559\n",
      "\n",
      "Epoch 00004: val_loss did not improve from 0.06559\n",
      "\n",
      "Epoch 00005: val_loss did not improve from 0.06559\n",
      "\n",
      "Epoch 00006: val_loss did not improve from 0.06559\n",
      "\n",
      "Epoch 00007: val_loss did not improve from 0.06559\n",
      "\n",
      "Epoch 00008: val_loss did not improve from 0.06559\n",
      "\n",
      "Epoch 00009: val_loss did not improve from 0.06559\n",
      "\n",
      "Epoch 00010: val_loss did not improve from 0.06559\n"
     ]
    },
    {
     "name": "stderr",
     "output_type": "stream",
     "text": [
      "/home/frankl1/miniconda3/envs/ner-projection/lib/python3.7/site-packages/ipykernel_launcher.py:17: RuntimeWarning: invalid value encountered in double_scalars\n"
     ]
    },
    {
     "name": "stdout",
     "output_type": "stream",
     "text": [
      "\n",
      "Epoch 00001: val_loss improved from inf to 0.09761, saving model to best-model-conll.hdfs\n",
      "\n",
      "Epoch 00002: val_loss did not improve from 0.09761\n",
      "\n",
      "Epoch 00003: val_loss did not improve from 0.09761\n",
      "\n",
      "Epoch 00004: val_loss did not improve from 0.09761\n",
      "\n",
      "Epoch 00005: val_loss did not improve from 0.09761\n",
      "\n",
      "Epoch 00006: val_loss did not improve from 0.09761\n",
      "\n",
      "Epoch 00007: val_loss did not improve from 0.09761\n",
      "\n",
      "Epoch 00008: val_loss did not improve from 0.09761\n",
      "\n",
      "Epoch 00009: val_loss did not improve from 0.09761\n",
      "\n",
      "Epoch 00010: val_loss did not improve from 0.09761\n",
      "AlgoCrossValIter - 5\n",
      "Model: \"sequential_5\"\n",
      "_________________________________________________________________\n",
      "Layer (type)                 Output Shape              Param #   \n",
      "=================================================================\n",
      "hidden1 (Dense)              (None, 640)               135040    \n",
      "_________________________________________________________________\n",
      "hidden2 (Dense)              (None, 160)               102560    \n",
      "_________________________________________________________________\n",
      "outputlayer (Dense)          (None, 5)                 805       \n",
      "=================================================================\n",
      "Total params: 238,405\n",
      "Trainable params: 238,405\n",
      "Non-trainable params: 0\n",
      "_________________________________________________________________\n",
      "\n",
      "Epoch 00001: val_loss improved from inf to 0.27574, saving model to best-model-conll.hdfs\n",
      "\n",
      "Epoch 00002: val_loss improved from 0.27574 to 0.23852, saving model to best-model-conll.hdfs\n",
      "\n",
      "Epoch 00003: val_loss did not improve from 0.23852\n",
      "\n",
      "Epoch 00004: val_loss improved from 0.23852 to 0.21328, saving model to best-model-conll.hdfs\n",
      "\n",
      "Epoch 00005: val_loss did not improve from 0.21328\n",
      "\n",
      "Epoch 00006: val_loss did not improve from 0.21328\n",
      "\n",
      "Epoch 00007: val_loss did not improve from 0.21328\n",
      "\n",
      "Epoch 00008: val_loss did not improve from 0.21328\n",
      "\n",
      "Epoch 00009: val_loss did not improve from 0.21328\n",
      "\n",
      "Epoch 00010: val_loss did not improve from 0.21328\n"
     ]
    },
    {
     "name": "stderr",
     "output_type": "stream",
     "text": [
      "/home/frankl1/miniconda3/envs/ner-projection/lib/python3.7/site-packages/ipykernel_launcher.py:17: RuntimeWarning: invalid value encountered in double_scalars\n"
     ]
    },
    {
     "name": "stdout",
     "output_type": "stream",
     "text": [
      "\n",
      "Epoch 00001: val_loss improved from inf to 0.08195, saving model to best-model-conll.hdfs\n",
      "\n",
      "Epoch 00002: val_loss did not improve from 0.08195\n",
      "\n",
      "Epoch 00003: val_loss did not improve from 0.08195\n",
      "\n",
      "Epoch 00004: val_loss did not improve from 0.08195\n",
      "\n",
      "Epoch 00005: val_loss did not improve from 0.08195\n",
      "\n",
      "Epoch 00006: val_loss did not improve from 0.08195\n",
      "\n",
      "Epoch 00007: val_loss did not improve from 0.08195\n",
      "\n",
      "Epoch 00008: val_loss did not improve from 0.08195\n",
      "\n",
      "Epoch 00009: val_loss did not improve from 0.08195\n",
      "\n",
      "Epoch 00010: val_loss did not improve from 0.08195\n"
     ]
    },
    {
     "name": "stderr",
     "output_type": "stream",
     "text": [
      "/home/frankl1/miniconda3/envs/ner-projection/lib/python3.7/site-packages/ipykernel_launcher.py:17: RuntimeWarning: invalid value encountered in double_scalars\n"
     ]
    },
    {
     "name": "stdout",
     "output_type": "stream",
     "text": [
      "\n",
      "Epoch 00001: val_loss improved from inf to 0.08471, saving model to best-model-conll.hdfs\n",
      "\n",
      "Epoch 00002: val_loss did not improve from 0.08471\n",
      "\n",
      "Epoch 00003: val_loss did not improve from 0.08471\n",
      "\n",
      "Epoch 00004: val_loss did not improve from 0.08471\n",
      "\n",
      "Epoch 00005: val_loss did not improve from 0.08471\n",
      "\n",
      "Epoch 00006: val_loss did not improve from 0.08471\n",
      "\n",
      "Epoch 00007: val_loss did not improve from 0.08471\n",
      "\n",
      "Epoch 00008: val_loss did not improve from 0.08471\n",
      "\n",
      "Epoch 00009: val_loss did not improve from 0.08471\n",
      "\n",
      "Epoch 00010: val_loss did not improve from 0.08471\n"
     ]
    },
    {
     "name": "stderr",
     "output_type": "stream",
     "text": [
      "/home/frankl1/miniconda3/envs/ner-projection/lib/python3.7/site-packages/ipykernel_launcher.py:17: RuntimeWarning: invalid value encountered in double_scalars\n"
     ]
    },
    {
     "name": "stdout",
     "output_type": "stream",
     "text": [
      "\n",
      "Epoch 00001: val_loss improved from inf to 0.06860, saving model to best-model-conll.hdfs\n",
      "\n",
      "Epoch 00002: val_loss did not improve from 0.06860\n",
      "\n",
      "Epoch 00003: val_loss did not improve from 0.06860\n",
      "\n",
      "Epoch 00004: val_loss did not improve from 0.06860\n",
      "\n",
      "Epoch 00005: val_loss did not improve from 0.06860\n",
      "\n",
      "Epoch 00006: val_loss did not improve from 0.06860\n",
      "\n",
      "Epoch 00007: val_loss did not improve from 0.06860\n",
      "\n",
      "Epoch 00008: val_loss did not improve from 0.06860\n",
      "\n",
      "Epoch 00009: val_loss did not improve from 0.06860\n",
      "\n",
      "Epoch 00010: val_loss did not improve from 0.06860\n",
      "\n",
      "Epoch 00001: val_loss improved from inf to 0.16444, saving model to best-model-conll.hdfs\n",
      "\n",
      "Epoch 00002: val_loss improved from 0.16444 to 0.14140, saving model to best-model-conll.hdfs\n",
      "\n",
      "Epoch 00003: val_loss did not improve from 0.14140\n",
      "\n",
      "Epoch 00004: val_loss did not improve from 0.14140\n",
      "\n",
      "Epoch 00005: val_loss did not improve from 0.14140\n",
      "\n",
      "Epoch 00006: val_loss did not improve from 0.14140\n",
      "\n",
      "Epoch 00007: val_loss did not improve from 0.14140\n",
      "\n",
      "Epoch 00008: val_loss did not improve from 0.14140\n",
      "\n",
      "Epoch 00009: val_loss did not improve from 0.14140\n",
      "\n",
      "Epoch 00010: val_loss did not improve from 0.14140\n"
     ]
    },
    {
     "name": "stderr",
     "output_type": "stream",
     "text": [
      "/home/frankl1/miniconda3/envs/ner-projection/lib/python3.7/site-packages/ipykernel_launcher.py:17: RuntimeWarning: invalid value encountered in double_scalars\n"
     ]
    },
    {
     "name": "stdout",
     "output_type": "stream",
     "text": [
      "\n",
      "Epoch 00001: val_loss improved from inf to 0.05643, saving model to best-model-conll.hdfs\n",
      "\n",
      "Epoch 00002: val_loss did not improve from 0.05643\n",
      "\n",
      "Epoch 00003: val_loss did not improve from 0.05643\n",
      "\n",
      "Epoch 00004: val_loss did not improve from 0.05643\n",
      "\n",
      "Epoch 00005: val_loss did not improve from 0.05643\n",
      "\n",
      "Epoch 00006: val_loss did not improve from 0.05643\n",
      "\n",
      "Epoch 00007: val_loss did not improve from 0.05643\n",
      "\n",
      "Epoch 00008: val_loss did not improve from 0.05643\n",
      "\n",
      "Epoch 00009: val_loss did not improve from 0.05643\n",
      "\n",
      "Epoch 00010: val_loss did not improve from 0.05643\n"
     ]
    },
    {
     "name": "stderr",
     "output_type": "stream",
     "text": [
      "/home/frankl1/miniconda3/envs/ner-projection/lib/python3.7/site-packages/ipykernel_launcher.py:17: RuntimeWarning: invalid value encountered in double_scalars\n"
     ]
    },
    {
     "name": "stdout",
     "output_type": "stream",
     "text": [
      "\n",
      "Epoch 00001: val_loss improved from inf to 0.15460, saving model to best-model-conll.hdfs\n",
      "\n",
      "Epoch 00002: val_loss did not improve from 0.15460\n",
      "\n",
      "Epoch 00003: val_loss did not improve from 0.15460\n",
      "\n",
      "Epoch 00004: val_loss did not improve from 0.15460\n",
      "\n",
      "Epoch 00005: val_loss did not improve from 0.15460\n",
      "\n",
      "Epoch 00006: val_loss did not improve from 0.15460\n",
      "\n",
      "Epoch 00007: val_loss did not improve from 0.15460\n",
      "\n",
      "Epoch 00008: val_loss did not improve from 0.15460\n",
      "\n",
      "Epoch 00009: val_loss did not improve from 0.15460\n",
      "\n",
      "Epoch 00010: val_loss did not improve from 0.15460\n"
     ]
    },
    {
     "name": "stderr",
     "output_type": "stream",
     "text": [
      "/home/frankl1/miniconda3/envs/ner-projection/lib/python3.7/site-packages/ipykernel_launcher.py:17: RuntimeWarning: invalid value encountered in double_scalars\n"
     ]
    },
    {
     "name": "stdout",
     "output_type": "stream",
     "text": [
      "\n",
      "Epoch 00001: val_loss improved from inf to 0.02117, saving model to best-model-conll.hdfs\n",
      "\n",
      "Epoch 00002: val_loss did not improve from 0.02117\n",
      "\n",
      "Epoch 00003: val_loss did not improve from 0.02117\n",
      "\n",
      "Epoch 00004: val_loss did not improve from 0.02117\n",
      "\n",
      "Epoch 00005: val_loss did not improve from 0.02117\n",
      "\n",
      "Epoch 00006: val_loss did not improve from 0.02117\n",
      "\n",
      "Epoch 00007: val_loss did not improve from 0.02117\n",
      "\n",
      "Epoch 00008: val_loss did not improve from 0.02117\n",
      "\n",
      "Epoch 00009: val_loss did not improve from 0.02117\n",
      "\n",
      "Epoch 00010: val_loss did not improve from 0.02117\n",
      "\n",
      "Epoch 00001: val_loss improved from inf to 0.04101, saving model to best-model-conll.hdfs\n",
      "\n",
      "Epoch 00002: val_loss improved from 0.04101 to 0.03415, saving model to best-model-conll.hdfs\n",
      "\n",
      "Epoch 00003: val_loss did not improve from 0.03415\n",
      "\n",
      "Epoch 00004: val_loss did not improve from 0.03415\n",
      "\n",
      "Epoch 00005: val_loss did not improve from 0.03415\n",
      "\n",
      "Epoch 00006: val_loss did not improve from 0.03415\n",
      "\n",
      "Epoch 00007: val_loss did not improve from 0.03415\n",
      "\n",
      "Epoch 00008: val_loss did not improve from 0.03415\n",
      "\n",
      "Epoch 00009: val_loss did not improve from 0.03415\n",
      "\n",
      "Epoch 00010: val_loss did not improve from 0.03415\n"
     ]
    },
    {
     "name": "stderr",
     "output_type": "stream",
     "text": [
      "/home/frankl1/miniconda3/envs/ner-projection/lib/python3.7/site-packages/ipykernel_launcher.py:17: RuntimeWarning: invalid value encountered in double_scalars\n"
     ]
    },
    {
     "name": "stdout",
     "output_type": "stream",
     "text": [
      "\n",
      "Epoch 00001: val_loss improved from inf to 0.06650, saving model to best-model-conll.hdfs\n",
      "\n",
      "Epoch 00002: val_loss did not improve from 0.06650\n",
      "\n",
      "Epoch 00003: val_loss did not improve from 0.06650\n",
      "\n",
      "Epoch 00004: val_loss did not improve from 0.06650\n",
      "\n",
      "Epoch 00005: val_loss did not improve from 0.06650\n",
      "\n",
      "Epoch 00006: val_loss did not improve from 0.06650\n",
      "\n",
      "Epoch 00007: val_loss did not improve from 0.06650\n",
      "\n",
      "Epoch 00008: val_loss did not improve from 0.06650\n",
      "\n",
      "Epoch 00009: val_loss did not improve from 0.06650\n",
      "\n",
      "Epoch 00010: val_loss did not improve from 0.06650\n",
      "AlgoCrossValIter - 6\n",
      "Model: \"sequential_6\"\n",
      "_________________________________________________________________\n",
      "Layer (type)                 Output Shape              Param #   \n",
      "=================================================================\n",
      "hidden1 (Dense)              (None, 640)               135040    \n",
      "_________________________________________________________________\n",
      "hidden2 (Dense)              (None, 160)               102560    \n",
      "_________________________________________________________________\n",
      "outputlayer (Dense)          (None, 5)                 805       \n",
      "=================================================================\n",
      "Total params: 238,405\n",
      "Trainable params: 238,405\n",
      "Non-trainable params: 0\n",
      "_________________________________________________________________\n",
      "\n",
      "Epoch 00001: val_loss improved from inf to 0.30236, saving model to best-model-conll.hdfs\n",
      "\n",
      "Epoch 00002: val_loss did not improve from 0.30236\n",
      "\n",
      "Epoch 00003: val_loss did not improve from 0.30236\n",
      "\n",
      "Epoch 00004: val_loss improved from 0.30236 to 0.24061, saving model to best-model-conll.hdfs\n",
      "\n",
      "Epoch 00005: val_loss did not improve from 0.24061\n",
      "\n",
      "Epoch 00006: val_loss did not improve from 0.24061\n",
      "\n",
      "Epoch 00007: val_loss did not improve from 0.24061\n",
      "\n",
      "Epoch 00008: val_loss did not improve from 0.24061\n",
      "\n",
      "Epoch 00009: val_loss did not improve from 0.24061\n",
      "\n",
      "Epoch 00010: val_loss did not improve from 0.24061\n"
     ]
    },
    {
     "name": "stderr",
     "output_type": "stream",
     "text": [
      "/home/frankl1/miniconda3/envs/ner-projection/lib/python3.7/site-packages/ipykernel_launcher.py:17: RuntimeWarning: invalid value encountered in double_scalars\n"
     ]
    },
    {
     "name": "stdout",
     "output_type": "stream",
     "text": [
      "\n",
      "Epoch 00001: val_loss improved from inf to 0.08738, saving model to best-model-conll.hdfs\n",
      "\n",
      "Epoch 00002: val_loss did not improve from 0.08738\n",
      "\n",
      "Epoch 00003: val_loss did not improve from 0.08738\n",
      "\n",
      "Epoch 00004: val_loss did not improve from 0.08738\n",
      "\n",
      "Epoch 00005: val_loss did not improve from 0.08738\n",
      "\n",
      "Epoch 00006: val_loss did not improve from 0.08738\n",
      "\n",
      "Epoch 00007: val_loss did not improve from 0.08738\n",
      "\n",
      "Epoch 00008: val_loss did not improve from 0.08738\n",
      "\n",
      "Epoch 00009: val_loss did not improve from 0.08738\n",
      "\n",
      "Epoch 00010: val_loss did not improve from 0.08738\n"
     ]
    },
    {
     "name": "stderr",
     "output_type": "stream",
     "text": [
      "/home/frankl1/miniconda3/envs/ner-projection/lib/python3.7/site-packages/ipykernel_launcher.py:17: RuntimeWarning: invalid value encountered in double_scalars\n"
     ]
    },
    {
     "name": "stdout",
     "output_type": "stream",
     "text": [
      "\n",
      "Epoch 00001: val_loss improved from inf to 0.12287, saving model to best-model-conll.hdfs\n",
      "\n",
      "Epoch 00002: val_loss did not improve from 0.12287\n",
      "\n",
      "Epoch 00003: val_loss did not improve from 0.12287\n",
      "\n",
      "Epoch 00004: val_loss did not improve from 0.12287\n",
      "\n",
      "Epoch 00005: val_loss did not improve from 0.12287\n",
      "\n",
      "Epoch 00006: val_loss did not improve from 0.12287\n",
      "\n",
      "Epoch 00007: val_loss did not improve from 0.12287\n",
      "\n",
      "Epoch 00008: val_loss did not improve from 0.12287\n",
      "\n",
      "Epoch 00009: val_loss did not improve from 0.12287\n",
      "\n",
      "Epoch 00010: val_loss did not improve from 0.12287\n",
      "\n",
      "Epoch 00001: val_loss improved from inf to 0.06153, saving model to best-model-conll.hdfs\n",
      "\n",
      "Epoch 00002: val_loss did not improve from 0.06153\n",
      "\n",
      "Epoch 00003: val_loss did not improve from 0.06153\n",
      "\n",
      "Epoch 00004: val_loss did not improve from 0.06153\n",
      "\n",
      "Epoch 00005: val_loss did not improve from 0.06153\n",
      "\n",
      "Epoch 00006: val_loss did not improve from 0.06153\n",
      "\n",
      "Epoch 00007: val_loss did not improve from 0.06153\n",
      "\n",
      "Epoch 00008: val_loss did not improve from 0.06153\n",
      "\n",
      "Epoch 00009: val_loss did not improve from 0.06153\n",
      "\n",
      "Epoch 00010: val_loss did not improve from 0.06153\n",
      "\n",
      "Epoch 00001: val_loss improved from inf to 0.15007, saving model to best-model-conll.hdfs\n",
      "\n",
      "Epoch 00002: val_loss improved from 0.15007 to 0.14853, saving model to best-model-conll.hdfs\n",
      "\n",
      "Epoch 00003: val_loss improved from 0.14853 to 0.14054, saving model to best-model-conll.hdfs\n",
      "\n",
      "Epoch 00004: val_loss did not improve from 0.14054\n",
      "\n",
      "Epoch 00005: val_loss did not improve from 0.14054\n",
      "\n",
      "Epoch 00006: val_loss did not improve from 0.14054\n",
      "\n",
      "Epoch 00007: val_loss did not improve from 0.14054\n",
      "\n",
      "Epoch 00008: val_loss did not improve from 0.14054\n",
      "\n",
      "Epoch 00009: val_loss did not improve from 0.14054\n",
      "\n",
      "Epoch 00010: val_loss did not improve from 0.14054\n"
     ]
    },
    {
     "name": "stderr",
     "output_type": "stream",
     "text": [
      "/home/frankl1/miniconda3/envs/ner-projection/lib/python3.7/site-packages/ipykernel_launcher.py:17: RuntimeWarning: invalid value encountered in double_scalars\n"
     ]
    },
    {
     "name": "stdout",
     "output_type": "stream",
     "text": [
      "\n",
      "Epoch 00001: val_loss improved from inf to 0.05013, saving model to best-model-conll.hdfs\n",
      "\n",
      "Epoch 00002: val_loss did not improve from 0.05013\n",
      "\n",
      "Epoch 00003: val_loss did not improve from 0.05013\n",
      "\n",
      "Epoch 00004: val_loss did not improve from 0.05013\n",
      "\n",
      "Epoch 00005: val_loss did not improve from 0.05013\n",
      "\n",
      "Epoch 00006: val_loss did not improve from 0.05013\n",
      "\n",
      "Epoch 00007: val_loss did not improve from 0.05013\n",
      "\n",
      "Epoch 00008: val_loss did not improve from 0.05013\n",
      "\n",
      "Epoch 00009: val_loss did not improve from 0.05013\n",
      "\n",
      "Epoch 00010: val_loss did not improve from 0.05013\n"
     ]
    },
    {
     "name": "stderr",
     "output_type": "stream",
     "text": [
      "/home/frankl1/miniconda3/envs/ner-projection/lib/python3.7/site-packages/ipykernel_launcher.py:17: RuntimeWarning: invalid value encountered in double_scalars\n"
     ]
    },
    {
     "name": "stdout",
     "output_type": "stream",
     "text": [
      "\n",
      "Epoch 00001: val_loss improved from inf to 0.13882, saving model to best-model-conll.hdfs\n",
      "\n",
      "Epoch 00002: val_loss did not improve from 0.13882\n",
      "\n",
      "Epoch 00003: val_loss did not improve from 0.13882\n",
      "\n",
      "Epoch 00004: val_loss did not improve from 0.13882\n",
      "\n",
      "Epoch 00005: val_loss did not improve from 0.13882\n",
      "\n",
      "Epoch 00006: val_loss did not improve from 0.13882\n",
      "\n",
      "Epoch 00007: val_loss did not improve from 0.13882\n",
      "\n",
      "Epoch 00008: val_loss did not improve from 0.13882\n",
      "\n",
      "Epoch 00009: val_loss did not improve from 0.13882\n",
      "\n",
      "Epoch 00010: val_loss did not improve from 0.13882\n"
     ]
    },
    {
     "name": "stderr",
     "output_type": "stream",
     "text": [
      "/home/frankl1/miniconda3/envs/ner-projection/lib/python3.7/site-packages/ipykernel_launcher.py:17: RuntimeWarning: invalid value encountered in double_scalars\n"
     ]
    },
    {
     "name": "stdout",
     "output_type": "stream",
     "text": [
      "\n",
      "Epoch 00001: val_loss improved from inf to 0.02605, saving model to best-model-conll.hdfs\n",
      "\n",
      "Epoch 00002: val_loss did not improve from 0.02605\n",
      "\n",
      "Epoch 00003: val_loss did not improve from 0.02605\n",
      "\n",
      "Epoch 00004: val_loss did not improve from 0.02605\n",
      "\n",
      "Epoch 00005: val_loss did not improve from 0.02605\n",
      "\n",
      "Epoch 00006: val_loss did not improve from 0.02605\n",
      "\n",
      "Epoch 00007: val_loss did not improve from 0.02605\n",
      "\n",
      "Epoch 00008: val_loss did not improve from 0.02605\n",
      "\n",
      "Epoch 00009: val_loss did not improve from 0.02605\n",
      "\n",
      "Epoch 00010: val_loss did not improve from 0.02605\n"
     ]
    },
    {
     "name": "stderr",
     "output_type": "stream",
     "text": [
      "/home/frankl1/miniconda3/envs/ner-projection/lib/python3.7/site-packages/ipykernel_launcher.py:17: RuntimeWarning: invalid value encountered in double_scalars\n"
     ]
    },
    {
     "name": "stdout",
     "output_type": "stream",
     "text": [
      "\n",
      "Epoch 00001: val_loss improved from inf to 0.04456, saving model to best-model-conll.hdfs\n",
      "\n",
      "Epoch 00002: val_loss did not improve from 0.04456\n",
      "\n",
      "Epoch 00003: val_loss did not improve from 0.04456\n",
      "\n",
      "Epoch 00004: val_loss did not improve from 0.04456\n",
      "\n",
      "Epoch 00005: val_loss did not improve from 0.04456\n",
      "\n",
      "Epoch 00006: val_loss did not improve from 0.04456\n",
      "\n",
      "Epoch 00007: val_loss did not improve from 0.04456\n",
      "\n",
      "Epoch 00008: val_loss did not improve from 0.04456\n",
      "\n",
      "Epoch 00009: val_loss improved from 0.04456 to 0.04427, saving model to best-model-conll.hdfs\n",
      "\n",
      "Epoch 00010: val_loss did not improve from 0.04427\n"
     ]
    },
    {
     "name": "stderr",
     "output_type": "stream",
     "text": [
      "/home/frankl1/miniconda3/envs/ner-projection/lib/python3.7/site-packages/ipykernel_launcher.py:17: RuntimeWarning: invalid value encountered in double_scalars\n"
     ]
    },
    {
     "name": "stdout",
     "output_type": "stream",
     "text": [
      "\n",
      "Epoch 00001: val_loss improved from inf to 0.06752, saving model to best-model-conll.hdfs\n",
      "\n",
      "Epoch 00002: val_loss did not improve from 0.06752\n",
      "\n",
      "Epoch 00003: val_loss did not improve from 0.06752\n",
      "\n",
      "Epoch 00004: val_loss did not improve from 0.06752\n",
      "\n",
      "Epoch 00005: val_loss did not improve from 0.06752\n",
      "\n",
      "Epoch 00006: val_loss did not improve from 0.06752\n",
      "\n",
      "Epoch 00007: val_loss did not improve from 0.06752\n",
      "\n",
      "Epoch 00008: val_loss did not improve from 0.06752\n",
      "\n",
      "Epoch 00009: val_loss did not improve from 0.06752\n",
      "\n",
      "Epoch 00010: val_loss did not improve from 0.06752\n",
      "AlgoCrossValIter - 7\n",
      "Model: \"sequential_7\"\n",
      "_________________________________________________________________\n",
      "Layer (type)                 Output Shape              Param #   \n",
      "=================================================================\n",
      "hidden1 (Dense)              (None, 640)               135040    \n",
      "_________________________________________________________________\n",
      "hidden2 (Dense)              (None, 160)               102560    \n",
      "_________________________________________________________________\n",
      "outputlayer (Dense)          (None, 5)                 805       \n",
      "=================================================================\n",
      "Total params: 238,405\n",
      "Trainable params: 238,405\n",
      "Non-trainable params: 0\n",
      "_________________________________________________________________\n",
      "\n",
      "Epoch 00001: val_loss improved from inf to 0.34235, saving model to best-model-conll.hdfs\n",
      "\n",
      "Epoch 00002: val_loss improved from 0.34235 to 0.28096, saving model to best-model-conll.hdfs\n",
      "\n",
      "Epoch 00003: val_loss improved from 0.28096 to 0.25953, saving model to best-model-conll.hdfs\n",
      "\n",
      "Epoch 00004: val_loss improved from 0.25953 to 0.25213, saving model to best-model-conll.hdfs\n",
      "\n",
      "Epoch 00005: val_loss did not improve from 0.25213\n",
      "\n",
      "Epoch 00006: val_loss improved from 0.25213 to 0.24675, saving model to best-model-conll.hdfs\n",
      "\n",
      "Epoch 00007: val_loss did not improve from 0.24675\n",
      "\n",
      "Epoch 00008: val_loss improved from 0.24675 to 0.23778, saving model to best-model-conll.hdfs\n",
      "\n",
      "Epoch 00009: val_loss did not improve from 0.23778\n",
      "\n",
      "Epoch 00010: val_loss did not improve from 0.23778\n"
     ]
    },
    {
     "name": "stderr",
     "output_type": "stream",
     "text": [
      "/home/frankl1/miniconda3/envs/ner-projection/lib/python3.7/site-packages/ipykernel_launcher.py:17: RuntimeWarning: invalid value encountered in double_scalars\n"
     ]
    },
    {
     "name": "stdout",
     "output_type": "stream",
     "text": [
      "\n",
      "Epoch 00001: val_loss improved from inf to 0.08683, saving model to best-model-conll.hdfs\n",
      "\n",
      "Epoch 00002: val_loss did not improve from 0.08683\n",
      "\n",
      "Epoch 00003: val_loss did not improve from 0.08683\n",
      "\n",
      "Epoch 00004: val_loss did not improve from 0.08683\n",
      "\n",
      "Epoch 00005: val_loss did not improve from 0.08683\n",
      "\n",
      "Epoch 00006: val_loss did not improve from 0.08683\n",
      "\n",
      "Epoch 00007: val_loss did not improve from 0.08683\n",
      "\n",
      "Epoch 00008: val_loss did not improve from 0.08683\n",
      "\n",
      "Epoch 00009: val_loss did not improve from 0.08683\n",
      "\n",
      "Epoch 00010: val_loss did not improve from 0.08683\n"
     ]
    },
    {
     "name": "stderr",
     "output_type": "stream",
     "text": [
      "/home/frankl1/miniconda3/envs/ner-projection/lib/python3.7/site-packages/ipykernel_launcher.py:17: RuntimeWarning: invalid value encountered in double_scalars\n"
     ]
    },
    {
     "name": "stdout",
     "output_type": "stream",
     "text": [
      "\n",
      "Epoch 00001: val_loss improved from inf to 0.15137, saving model to best-model-conll.hdfs\n",
      "\n",
      "Epoch 00002: val_loss improved from 0.15137 to 0.11146, saving model to best-model-conll.hdfs\n",
      "\n",
      "Epoch 00003: val_loss did not improve from 0.11146\n",
      "\n",
      "Epoch 00004: val_loss did not improve from 0.11146\n",
      "\n",
      "Epoch 00005: val_loss did not improve from 0.11146\n",
      "\n",
      "Epoch 00006: val_loss did not improve from 0.11146\n",
      "\n",
      "Epoch 00007: val_loss did not improve from 0.11146\n",
      "\n",
      "Epoch 00008: val_loss did not improve from 0.11146\n",
      "\n",
      "Epoch 00009: val_loss did not improve from 0.11146\n",
      "\n",
      "Epoch 00010: val_loss did not improve from 0.11146\n",
      "\n",
      "Epoch 00001: val_loss improved from inf to 0.10641, saving model to best-model-conll.hdfs\n",
      "\n",
      "Epoch 00002: val_loss improved from 0.10641 to 0.07489, saving model to best-model-conll.hdfs\n",
      "\n",
      "Epoch 00003: val_loss improved from 0.07489 to 0.07430, saving model to best-model-conll.hdfs\n",
      "\n",
      "Epoch 00004: val_loss did not improve from 0.07430\n",
      "\n",
      "Epoch 00005: val_loss did not improve from 0.07430\n",
      "\n",
      "Epoch 00006: val_loss did not improve from 0.07430\n",
      "\n",
      "Epoch 00007: val_loss did not improve from 0.07430\n",
      "\n",
      "Epoch 00008: val_loss did not improve from 0.07430\n",
      "\n",
      "Epoch 00009: val_loss did not improve from 0.07430\n",
      "\n",
      "Epoch 00010: val_loss did not improve from 0.07430\n",
      "\n",
      "Epoch 00001: val_loss improved from inf to 0.17651, saving model to best-model-conll.hdfs\n",
      "\n",
      "Epoch 00002: val_loss improved from 0.17651 to 0.11649, saving model to best-model-conll.hdfs\n",
      "\n",
      "Epoch 00003: val_loss did not improve from 0.11649\n",
      "\n",
      "Epoch 00004: val_loss did not improve from 0.11649\n",
      "\n",
      "Epoch 00005: val_loss did not improve from 0.11649\n",
      "\n",
      "Epoch 00006: val_loss did not improve from 0.11649\n",
      "\n",
      "Epoch 00007: val_loss did not improve from 0.11649\n",
      "\n",
      "Epoch 00008: val_loss did not improve from 0.11649\n",
      "\n",
      "Epoch 00009: val_loss did not improve from 0.11649\n",
      "\n",
      "Epoch 00010: val_loss did not improve from 0.11649\n"
     ]
    },
    {
     "name": "stderr",
     "output_type": "stream",
     "text": [
      "/home/frankl1/miniconda3/envs/ner-projection/lib/python3.7/site-packages/ipykernel_launcher.py:17: RuntimeWarning: invalid value encountered in double_scalars\n"
     ]
    },
    {
     "name": "stdout",
     "output_type": "stream",
     "text": [
      "\n",
      "Epoch 00001: val_loss improved from inf to 0.06029, saving model to best-model-conll.hdfs\n",
      "\n",
      "Epoch 00002: val_loss did not improve from 0.06029\n",
      "\n",
      "Epoch 00003: val_loss did not improve from 0.06029\n",
      "\n",
      "Epoch 00004: val_loss did not improve from 0.06029\n",
      "\n",
      "Epoch 00005: val_loss did not improve from 0.06029\n",
      "\n",
      "Epoch 00006: val_loss did not improve from 0.06029\n",
      "\n",
      "Epoch 00007: val_loss did not improve from 0.06029\n",
      "\n",
      "Epoch 00008: val_loss did not improve from 0.06029\n",
      "\n",
      "Epoch 00009: val_loss did not improve from 0.06029\n",
      "\n",
      "Epoch 00010: val_loss did not improve from 0.06029\n"
     ]
    },
    {
     "name": "stderr",
     "output_type": "stream",
     "text": [
      "/home/frankl1/miniconda3/envs/ner-projection/lib/python3.7/site-packages/ipykernel_launcher.py:17: RuntimeWarning: invalid value encountered in double_scalars\n"
     ]
    },
    {
     "name": "stdout",
     "output_type": "stream",
     "text": [
      "\n",
      "Epoch 00001: val_loss improved from inf to 0.15110, saving model to best-model-conll.hdfs\n",
      "\n",
      "Epoch 00002: val_loss did not improve from 0.15110\n",
      "\n",
      "Epoch 00003: val_loss did not improve from 0.15110\n",
      "\n",
      "Epoch 00004: val_loss did not improve from 0.15110\n",
      "\n",
      "Epoch 00005: val_loss did not improve from 0.15110\n",
      "\n",
      "Epoch 00006: val_loss did not improve from 0.15110\n",
      "\n",
      "Epoch 00007: val_loss did not improve from 0.15110\n",
      "\n",
      "Epoch 00008: val_loss did not improve from 0.15110\n",
      "\n",
      "Epoch 00009: val_loss did not improve from 0.15110\n",
      "\n",
      "Epoch 00010: val_loss did not improve from 0.15110\n"
     ]
    },
    {
     "name": "stderr",
     "output_type": "stream",
     "text": [
      "/home/frankl1/miniconda3/envs/ner-projection/lib/python3.7/site-packages/ipykernel_launcher.py:17: RuntimeWarning: invalid value encountered in double_scalars\n"
     ]
    },
    {
     "name": "stdout",
     "output_type": "stream",
     "text": [
      "\n",
      "Epoch 00001: val_loss improved from inf to 0.03737, saving model to best-model-conll.hdfs\n",
      "\n",
      "Epoch 00002: val_loss improved from 0.03737 to 0.03187, saving model to best-model-conll.hdfs\n",
      "\n",
      "Epoch 00003: val_loss did not improve from 0.03187\n",
      "\n",
      "Epoch 00004: val_loss did not improve from 0.03187\n",
      "\n",
      "Epoch 00005: val_loss did not improve from 0.03187\n",
      "\n",
      "Epoch 00006: val_loss did not improve from 0.03187\n",
      "\n",
      "Epoch 00007: val_loss did not improve from 0.03187\n",
      "\n",
      "Epoch 00008: val_loss did not improve from 0.03187\n",
      "\n",
      "Epoch 00009: val_loss did not improve from 0.03187\n",
      "\n",
      "Epoch 00010: val_loss did not improve from 0.03187\n",
      "\n",
      "Epoch 00001: val_loss improved from inf to 0.04569, saving model to best-model-conll.hdfs\n",
      "\n",
      "Epoch 00002: val_loss did not improve from 0.04569\n",
      "\n",
      "Epoch 00003: val_loss improved from 0.04569 to 0.04336, saving model to best-model-conll.hdfs\n",
      "\n",
      "Epoch 00004: val_loss did not improve from 0.04336\n",
      "\n",
      "Epoch 00005: val_loss did not improve from 0.04336\n",
      "\n",
      "Epoch 00006: val_loss improved from 0.04336 to 0.04224, saving model to best-model-conll.hdfs\n",
      "\n",
      "Epoch 00007: val_loss did not improve from 0.04224\n",
      "\n",
      "Epoch 00008: val_loss did not improve from 0.04224\n",
      "\n",
      "Epoch 00009: val_loss did not improve from 0.04224\n",
      "\n",
      "Epoch 00010: val_loss improved from 0.04224 to 0.03676, saving model to best-model-conll.hdfs\n"
     ]
    },
    {
     "name": "stderr",
     "output_type": "stream",
     "text": [
      "/home/frankl1/miniconda3/envs/ner-projection/lib/python3.7/site-packages/ipykernel_launcher.py:17: RuntimeWarning: invalid value encountered in double_scalars\n"
     ]
    },
    {
     "name": "stdout",
     "output_type": "stream",
     "text": [
      "\n",
      "Epoch 00001: val_loss improved from inf to 0.07363, saving model to best-model-conll.hdfs\n",
      "\n",
      "Epoch 00002: val_loss did not improve from 0.07363\n",
      "\n",
      "Epoch 00003: val_loss did not improve from 0.07363\n",
      "\n",
      "Epoch 00004: val_loss did not improve from 0.07363\n",
      "\n",
      "Epoch 00005: val_loss did not improve from 0.07363\n",
      "\n",
      "Epoch 00006: val_loss did not improve from 0.07363\n",
      "\n",
      "Epoch 00007: val_loss did not improve from 0.07363\n",
      "\n",
      "Epoch 00008: val_loss did not improve from 0.07363\n",
      "\n",
      "Epoch 00009: val_loss did not improve from 0.07363\n",
      "\n",
      "Epoch 00010: val_loss did not improve from 0.07363\n"
     ]
    },
    {
     "name": "stderr",
     "output_type": "stream",
     "text": [
      "/home/frankl1/miniconda3/envs/ner-projection/lib/python3.7/site-packages/ipykernel_launcher.py:17: RuntimeWarning: invalid value encountered in double_scalars\n"
     ]
    },
    {
     "name": "stdout",
     "output_type": "stream",
     "text": [
      "AlgoCrossValIter - 8\n",
      "Model: \"sequential_8\"\n",
      "_________________________________________________________________\n",
      "Layer (type)                 Output Shape              Param #   \n",
      "=================================================================\n",
      "hidden1 (Dense)              (None, 640)               135040    \n",
      "_________________________________________________________________\n",
      "hidden2 (Dense)              (None, 160)               102560    \n",
      "_________________________________________________________________\n",
      "outputlayer (Dense)          (None, 5)                 805       \n",
      "=================================================================\n",
      "Total params: 238,405\n",
      "Trainable params: 238,405\n",
      "Non-trainable params: 0\n",
      "_________________________________________________________________\n",
      "\n",
      "Epoch 00001: val_loss improved from inf to 0.27183, saving model to best-model-conll.hdfs\n",
      "\n",
      "Epoch 00002: val_loss did not improve from 0.27183\n",
      "\n",
      "Epoch 00003: val_loss did not improve from 0.27183\n",
      "\n",
      "Epoch 00004: val_loss improved from 0.27183 to 0.24617, saving model to best-model-conll.hdfs\n",
      "\n",
      "Epoch 00005: val_loss did not improve from 0.24617\n",
      "\n",
      "Epoch 00006: val_loss did not improve from 0.24617\n",
      "\n",
      "Epoch 00007: val_loss did not improve from 0.24617\n",
      "\n",
      "Epoch 00008: val_loss did not improve from 0.24617\n",
      "\n",
      "Epoch 00009: val_loss did not improve from 0.24617\n",
      "\n",
      "Epoch 00010: val_loss did not improve from 0.24617\n"
     ]
    },
    {
     "name": "stderr",
     "output_type": "stream",
     "text": [
      "/home/frankl1/miniconda3/envs/ner-projection/lib/python3.7/site-packages/ipykernel_launcher.py:17: RuntimeWarning: invalid value encountered in double_scalars\n"
     ]
    },
    {
     "name": "stdout",
     "output_type": "stream",
     "text": [
      "\n",
      "Epoch 00001: val_loss improved from inf to 0.07984, saving model to best-model-conll.hdfs\n",
      "\n",
      "Epoch 00002: val_loss did not improve from 0.07984\n",
      "\n",
      "Epoch 00003: val_loss did not improve from 0.07984\n",
      "\n",
      "Epoch 00004: val_loss did not improve from 0.07984\n",
      "\n",
      "Epoch 00005: val_loss did not improve from 0.07984\n",
      "\n",
      "Epoch 00006: val_loss did not improve from 0.07984\n",
      "\n",
      "Epoch 00007: val_loss did not improve from 0.07984\n",
      "\n",
      "Epoch 00008: val_loss did not improve from 0.07984\n",
      "\n",
      "Epoch 00009: val_loss did not improve from 0.07984\n",
      "\n",
      "Epoch 00010: val_loss did not improve from 0.07984\n"
     ]
    },
    {
     "name": "stderr",
     "output_type": "stream",
     "text": [
      "/home/frankl1/miniconda3/envs/ner-projection/lib/python3.7/site-packages/ipykernel_launcher.py:17: RuntimeWarning: invalid value encountered in double_scalars\n"
     ]
    },
    {
     "name": "stdout",
     "output_type": "stream",
     "text": [
      "\n",
      "Epoch 00001: val_loss improved from inf to 0.12785, saving model to best-model-conll.hdfs\n",
      "\n",
      "Epoch 00002: val_loss improved from 0.12785 to 0.10458, saving model to best-model-conll.hdfs\n",
      "\n",
      "Epoch 00003: val_loss improved from 0.10458 to 0.09434, saving model to best-model-conll.hdfs\n",
      "\n",
      "Epoch 00004: val_loss did not improve from 0.09434\n",
      "\n",
      "Epoch 00005: val_loss did not improve from 0.09434\n",
      "\n",
      "Epoch 00006: val_loss did not improve from 0.09434\n",
      "\n",
      "Epoch 00007: val_loss did not improve from 0.09434\n",
      "\n",
      "Epoch 00008: val_loss did not improve from 0.09434\n",
      "\n",
      "Epoch 00009: val_loss did not improve from 0.09434\n",
      "\n",
      "Epoch 00010: val_loss did not improve from 0.09434\n",
      "\n",
      "Epoch 00001: val_loss improved from inf to 0.07530, saving model to best-model-conll.hdfs\n",
      "\n",
      "Epoch 00002: val_loss did not improve from 0.07530\n",
      "\n",
      "Epoch 00003: val_loss did not improve from 0.07530\n",
      "\n",
      "Epoch 00004: val_loss did not improve from 0.07530\n",
      "\n",
      "Epoch 00005: val_loss did not improve from 0.07530\n",
      "\n",
      "Epoch 00006: val_loss did not improve from 0.07530\n",
      "\n",
      "Epoch 00007: val_loss did not improve from 0.07530\n",
      "\n",
      "Epoch 00008: val_loss did not improve from 0.07530\n",
      "\n",
      "Epoch 00009: val_loss did not improve from 0.07530\n",
      "\n",
      "Epoch 00010: val_loss did not improve from 0.07530\n"
     ]
    },
    {
     "name": "stderr",
     "output_type": "stream",
     "text": [
      "/home/frankl1/miniconda3/envs/ner-projection/lib/python3.7/site-packages/ipykernel_launcher.py:17: RuntimeWarning: invalid value encountered in double_scalars\n"
     ]
    },
    {
     "name": "stdout",
     "output_type": "stream",
     "text": [
      "\n",
      "Epoch 00001: val_loss improved from inf to 0.11512, saving model to best-model-conll.hdfs\n",
      "\n",
      "Epoch 00002: val_loss did not improve from 0.11512\n",
      "\n",
      "Epoch 00003: val_loss did not improve from 0.11512\n",
      "\n",
      "Epoch 00004: val_loss did not improve from 0.11512\n",
      "\n",
      "Epoch 00005: val_loss did not improve from 0.11512\n",
      "\n",
      "Epoch 00006: val_loss did not improve from 0.11512\n",
      "\n",
      "Epoch 00007: val_loss did not improve from 0.11512\n",
      "\n",
      "Epoch 00008: val_loss did not improve from 0.11512\n",
      "\n",
      "Epoch 00009: val_loss did not improve from 0.11512\n",
      "\n",
      "Epoch 00010: val_loss did not improve from 0.11512\n",
      "\n",
      "Epoch 00001: val_loss improved from inf to 0.05039, saving model to best-model-conll.hdfs\n",
      "\n",
      "Epoch 00002: val_loss did not improve from 0.05039\n",
      "\n",
      "Epoch 00003: val_loss did not improve from 0.05039\n",
      "\n",
      "Epoch 00004: val_loss did not improve from 0.05039\n",
      "\n",
      "Epoch 00005: val_loss did not improve from 0.05039\n",
      "\n",
      "Epoch 00006: val_loss did not improve from 0.05039\n",
      "\n",
      "Epoch 00007: val_loss did not improve from 0.05039\n",
      "\n",
      "Epoch 00008: val_loss did not improve from 0.05039\n",
      "\n",
      "Epoch 00009: val_loss did not improve from 0.05039\n",
      "\n",
      "Epoch 00010: val_loss did not improve from 0.05039\n"
     ]
    },
    {
     "name": "stderr",
     "output_type": "stream",
     "text": [
      "/home/frankl1/miniconda3/envs/ner-projection/lib/python3.7/site-packages/ipykernel_launcher.py:17: RuntimeWarning: invalid value encountered in double_scalars\n"
     ]
    },
    {
     "name": "stdout",
     "output_type": "stream",
     "text": [
      "\n",
      "Epoch 00001: val_loss improved from inf to 0.14149, saving model to best-model-conll.hdfs\n",
      "\n",
      "Epoch 00002: val_loss did not improve from 0.14149\n",
      "\n",
      "Epoch 00003: val_loss did not improve from 0.14149\n",
      "\n",
      "Epoch 00004: val_loss did not improve from 0.14149\n",
      "\n",
      "Epoch 00005: val_loss did not improve from 0.14149\n",
      "\n",
      "Epoch 00006: val_loss did not improve from 0.14149\n",
      "\n",
      "Epoch 00007: val_loss did not improve from 0.14149\n",
      "\n",
      "Epoch 00008: val_loss did not improve from 0.14149\n",
      "\n",
      "Epoch 00009: val_loss did not improve from 0.14149\n",
      "\n",
      "Epoch 00010: val_loss did not improve from 0.14149\n"
     ]
    },
    {
     "name": "stderr",
     "output_type": "stream",
     "text": [
      "/home/frankl1/miniconda3/envs/ner-projection/lib/python3.7/site-packages/ipykernel_launcher.py:17: RuntimeWarning: invalid value encountered in double_scalars\n"
     ]
    },
    {
     "name": "stdout",
     "output_type": "stream",
     "text": [
      "\n",
      "Epoch 00001: val_loss improved from inf to 0.03200, saving model to best-model-conll.hdfs\n",
      "\n",
      "Epoch 00002: val_loss improved from 0.03200 to 0.03094, saving model to best-model-conll.hdfs\n",
      "\n",
      "Epoch 00003: val_loss improved from 0.03094 to 0.02664, saving model to best-model-conll.hdfs\n",
      "\n",
      "Epoch 00004: val_loss did not improve from 0.02664\n",
      "\n",
      "Epoch 00005: val_loss did not improve from 0.02664\n",
      "\n",
      "Epoch 00006: val_loss did not improve from 0.02664\n",
      "\n",
      "Epoch 00007: val_loss did not improve from 0.02664\n",
      "\n",
      "Epoch 00008: val_loss did not improve from 0.02664\n",
      "\n",
      "Epoch 00009: val_loss did not improve from 0.02664\n",
      "\n",
      "Epoch 00010: val_loss did not improve from 0.02664\n",
      "\n",
      "Epoch 00001: val_loss improved from inf to 0.04221, saving model to best-model-conll.hdfs\n",
      "\n",
      "Epoch 00002: val_loss improved from 0.04221 to 0.04051, saving model to best-model-conll.hdfs\n",
      "\n",
      "Epoch 00003: val_loss did not improve from 0.04051\n",
      "\n",
      "Epoch 00004: val_loss did not improve from 0.04051\n",
      "\n",
      "Epoch 00005: val_loss did not improve from 0.04051\n",
      "\n",
      "Epoch 00006: val_loss did not improve from 0.04051\n",
      "\n",
      "Epoch 00007: val_loss did not improve from 0.04051\n",
      "\n",
      "Epoch 00008: val_loss did not improve from 0.04051\n",
      "\n",
      "Epoch 00009: val_loss did not improve from 0.04051\n",
      "\n",
      "Epoch 00010: val_loss did not improve from 0.04051\n",
      "\n",
      "Epoch 00001: val_loss improved from inf to 0.07251, saving model to best-model-conll.hdfs\n",
      "\n",
      "Epoch 00002: val_loss did not improve from 0.07251\n",
      "\n",
      "Epoch 00003: val_loss did not improve from 0.07251\n",
      "\n",
      "Epoch 00004: val_loss did not improve from 0.07251\n",
      "\n",
      "Epoch 00005: val_loss did not improve from 0.07251\n",
      "\n",
      "Epoch 00006: val_loss did not improve from 0.07251\n",
      "\n",
      "Epoch 00007: val_loss did not improve from 0.07251\n",
      "\n",
      "Epoch 00008: val_loss did not improve from 0.07251\n",
      "\n",
      "Epoch 00009: val_loss did not improve from 0.07251\n",
      "\n",
      "Epoch 00010: val_loss did not improve from 0.07251\n"
     ]
    },
    {
     "name": "stderr",
     "output_type": "stream",
     "text": [
      "/home/frankl1/miniconda3/envs/ner-projection/lib/python3.7/site-packages/ipykernel_launcher.py:17: RuntimeWarning: invalid value encountered in double_scalars\n"
     ]
    },
    {
     "name": "stdout",
     "output_type": "stream",
     "text": [
      "AlgoCrossValIter - 9\n",
      "Model: \"sequential_9\"\n",
      "_________________________________________________________________\n",
      "Layer (type)                 Output Shape              Param #   \n",
      "=================================================================\n",
      "hidden1 (Dense)              (None, 640)               135040    \n",
      "_________________________________________________________________\n",
      "hidden2 (Dense)              (None, 160)               102560    \n",
      "_________________________________________________________________\n",
      "outputlayer (Dense)          (None, 5)                 805       \n",
      "=================================================================\n",
      "Total params: 238,405\n",
      "Trainable params: 238,405\n",
      "Non-trainable params: 0\n",
      "_________________________________________________________________\n",
      "\n",
      "Epoch 00001: val_loss improved from inf to 0.28154, saving model to best-model-conll.hdfs\n",
      "\n",
      "Epoch 00002: val_loss did not improve from 0.28154\n",
      "\n",
      "Epoch 00003: val_loss did not improve from 0.28154\n",
      "\n",
      "Epoch 00004: val_loss did not improve from 0.28154\n",
      "\n",
      "Epoch 00005: val_loss improved from 0.28154 to 0.26731, saving model to best-model-conll.hdfs\n",
      "\n",
      "Epoch 00006: val_loss did not improve from 0.26731\n",
      "\n",
      "Epoch 00007: val_loss did not improve from 0.26731\n",
      "\n",
      "Epoch 00008: val_loss did not improve from 0.26731\n",
      "\n",
      "Epoch 00009: val_loss did not improve from 0.26731\n",
      "\n",
      "Epoch 00010: val_loss improved from 0.26731 to 0.22325, saving model to best-model-conll.hdfs\n"
     ]
    },
    {
     "name": "stderr",
     "output_type": "stream",
     "text": [
      "/home/frankl1/miniconda3/envs/ner-projection/lib/python3.7/site-packages/ipykernel_launcher.py:17: RuntimeWarning: invalid value encountered in double_scalars\n"
     ]
    },
    {
     "name": "stdout",
     "output_type": "stream",
     "text": [
      "\n",
      "Epoch 00001: val_loss improved from inf to 0.09206, saving model to best-model-conll.hdfs\n",
      "\n",
      "Epoch 00002: val_loss improved from 0.09206 to 0.08798, saving model to best-model-conll.hdfs\n",
      "\n",
      "Epoch 00003: val_loss did not improve from 0.08798\n",
      "\n",
      "Epoch 00004: val_loss did not improve from 0.08798\n",
      "\n",
      "Epoch 00005: val_loss did not improve from 0.08798\n",
      "\n",
      "Epoch 00006: val_loss did not improve from 0.08798\n",
      "\n",
      "Epoch 00007: val_loss did not improve from 0.08798\n",
      "\n",
      "Epoch 00008: val_loss did not improve from 0.08798\n",
      "\n",
      "Epoch 00009: val_loss did not improve from 0.08798\n",
      "\n",
      "Epoch 00010: val_loss did not improve from 0.08798\n"
     ]
    },
    {
     "name": "stderr",
     "output_type": "stream",
     "text": [
      "/home/frankl1/miniconda3/envs/ner-projection/lib/python3.7/site-packages/ipykernel_launcher.py:17: RuntimeWarning: invalid value encountered in double_scalars\n"
     ]
    },
    {
     "name": "stdout",
     "output_type": "stream",
     "text": [
      "\n",
      "Epoch 00001: val_loss improved from inf to 0.21540, saving model to best-model-conll.hdfs\n",
      "\n",
      "Epoch 00002: val_loss improved from 0.21540 to 0.13632, saving model to best-model-conll.hdfs\n",
      "\n",
      "Epoch 00003: val_loss improved from 0.13632 to 0.11826, saving model to best-model-conll.hdfs\n",
      "\n",
      "Epoch 00004: val_loss did not improve from 0.11826\n",
      "\n",
      "Epoch 00005: val_loss did not improve from 0.11826\n",
      "\n",
      "Epoch 00006: val_loss did not improve from 0.11826\n",
      "\n",
      "Epoch 00007: val_loss did not improve from 0.11826\n",
      "\n",
      "Epoch 00008: val_loss did not improve from 0.11826\n",
      "\n",
      "Epoch 00009: val_loss did not improve from 0.11826\n",
      "\n",
      "Epoch 00010: val_loss did not improve from 0.11826\n"
     ]
    },
    {
     "name": "stderr",
     "output_type": "stream",
     "text": [
      "/home/frankl1/miniconda3/envs/ner-projection/lib/python3.7/site-packages/ipykernel_launcher.py:17: RuntimeWarning: invalid value encountered in double_scalars\n"
     ]
    },
    {
     "name": "stdout",
     "output_type": "stream",
     "text": [
      "\n",
      "Epoch 00001: val_loss improved from inf to 0.05625, saving model to best-model-conll.hdfs\n",
      "\n",
      "Epoch 00002: val_loss did not improve from 0.05625\n",
      "\n",
      "Epoch 00003: val_loss improved from 0.05625 to 0.05362, saving model to best-model-conll.hdfs\n",
      "\n",
      "Epoch 00004: val_loss did not improve from 0.05362\n",
      "\n",
      "Epoch 00005: val_loss did not improve from 0.05362\n",
      "\n",
      "Epoch 00006: val_loss did not improve from 0.05362\n",
      "\n",
      "Epoch 00007: val_loss did not improve from 0.05362\n",
      "\n",
      "Epoch 00008: val_loss did not improve from 0.05362\n",
      "\n",
      "Epoch 00009: val_loss did not improve from 0.05362\n",
      "\n",
      "Epoch 00010: val_loss did not improve from 0.05362\n",
      "\n",
      "Epoch 00001: val_loss improved from inf to 0.11795, saving model to best-model-conll.hdfs\n",
      "\n",
      "Epoch 00002: val_loss did not improve from 0.11795\n",
      "\n",
      "Epoch 00003: val_loss did not improve from 0.11795\n",
      "\n",
      "Epoch 00004: val_loss did not improve from 0.11795\n",
      "\n",
      "Epoch 00005: val_loss did not improve from 0.11795\n",
      "\n",
      "Epoch 00006: val_loss did not improve from 0.11795\n",
      "\n",
      "Epoch 00007: val_loss did not improve from 0.11795\n",
      "\n",
      "Epoch 00008: val_loss did not improve from 0.11795\n",
      "\n",
      "Epoch 00009: val_loss did not improve from 0.11795\n",
      "\n",
      "Epoch 00010: val_loss did not improve from 0.11795\n",
      "\n",
      "Epoch 00001: val_loss improved from inf to 0.06285, saving model to best-model-conll.hdfs\n",
      "\n",
      "Epoch 00002: val_loss did not improve from 0.06285\n",
      "\n",
      "Epoch 00003: val_loss did not improve from 0.06285\n",
      "\n",
      "Epoch 00004: val_loss did not improve from 0.06285\n",
      "\n",
      "Epoch 00005: val_loss did not improve from 0.06285\n",
      "\n",
      "Epoch 00006: val_loss did not improve from 0.06285\n",
      "\n",
      "Epoch 00007: val_loss did not improve from 0.06285\n",
      "\n",
      "Epoch 00008: val_loss did not improve from 0.06285\n",
      "\n",
      "Epoch 00009: val_loss did not improve from 0.06285\n",
      "\n",
      "Epoch 00010: val_loss did not improve from 0.06285\n"
     ]
    },
    {
     "name": "stderr",
     "output_type": "stream",
     "text": [
      "/home/frankl1/miniconda3/envs/ner-projection/lib/python3.7/site-packages/ipykernel_launcher.py:17: RuntimeWarning: invalid value encountered in double_scalars\n"
     ]
    },
    {
     "name": "stdout",
     "output_type": "stream",
     "text": [
      "\n",
      "Epoch 00001: val_loss improved from inf to 0.16257, saving model to best-model-conll.hdfs\n",
      "\n",
      "Epoch 00002: val_loss did not improve from 0.16257\n",
      "\n",
      "Epoch 00003: val_loss did not improve from 0.16257\n",
      "\n",
      "Epoch 00004: val_loss did not improve from 0.16257\n",
      "\n",
      "Epoch 00005: val_loss did not improve from 0.16257\n",
      "\n",
      "Epoch 00006: val_loss did not improve from 0.16257\n",
      "\n",
      "Epoch 00007: val_loss did not improve from 0.16257\n",
      "\n",
      "Epoch 00008: val_loss did not improve from 0.16257\n",
      "\n",
      "Epoch 00009: val_loss did not improve from 0.16257\n",
      "\n",
      "Epoch 00010: val_loss did not improve from 0.16257\n"
     ]
    },
    {
     "name": "stderr",
     "output_type": "stream",
     "text": [
      "/home/frankl1/miniconda3/envs/ner-projection/lib/python3.7/site-packages/ipykernel_launcher.py:17: RuntimeWarning: invalid value encountered in double_scalars\n"
     ]
    },
    {
     "name": "stdout",
     "output_type": "stream",
     "text": [
      "\n",
      "Epoch 00001: val_loss improved from inf to 0.02151, saving model to best-model-conll.hdfs\n",
      "\n",
      "Epoch 00002: val_loss did not improve from 0.02151\n",
      "\n",
      "Epoch 00003: val_loss did not improve from 0.02151\n",
      "\n",
      "Epoch 00004: val_loss did not improve from 0.02151\n",
      "\n",
      "Epoch 00005: val_loss did not improve from 0.02151\n",
      "\n",
      "Epoch 00006: val_loss did not improve from 0.02151\n",
      "\n",
      "Epoch 00007: val_loss did not improve from 0.02151\n",
      "\n",
      "Epoch 00008: val_loss did not improve from 0.02151\n",
      "\n",
      "Epoch 00009: val_loss did not improve from 0.02151\n",
      "\n",
      "Epoch 00010: val_loss did not improve from 0.02151\n",
      "\n",
      "Epoch 00001: val_loss improved from inf to 0.04207, saving model to best-model-conll.hdfs\n",
      "\n",
      "Epoch 00002: val_loss did not improve from 0.04207\n",
      "\n",
      "Epoch 00003: val_loss improved from 0.04207 to 0.03951, saving model to best-model-conll.hdfs\n",
      "\n",
      "Epoch 00004: val_loss did not improve from 0.03951\n",
      "\n",
      "Epoch 00005: val_loss did not improve from 0.03951\n",
      "\n",
      "Epoch 00006: val_loss did not improve from 0.03951\n",
      "\n",
      "Epoch 00007: val_loss did not improve from 0.03951\n",
      "\n",
      "Epoch 00008: val_loss did not improve from 0.03951\n",
      "\n",
      "Epoch 00009: val_loss did not improve from 0.03951\n",
      "\n",
      "Epoch 00010: val_loss did not improve from 0.03951\n"
     ]
    },
    {
     "name": "stderr",
     "output_type": "stream",
     "text": [
      "/home/frankl1/miniconda3/envs/ner-projection/lib/python3.7/site-packages/ipykernel_launcher.py:17: RuntimeWarning: invalid value encountered in double_scalars\n"
     ]
    },
    {
     "name": "stdout",
     "output_type": "stream",
     "text": [
      "\n",
      "Epoch 00001: val_loss improved from inf to 0.07055, saving model to best-model-conll.hdfs\n",
      "\n",
      "Epoch 00002: val_loss did not improve from 0.07055\n",
      "\n",
      "Epoch 00003: val_loss did not improve from 0.07055\n",
      "\n",
      "Epoch 00004: val_loss did not improve from 0.07055\n",
      "\n",
      "Epoch 00005: val_loss did not improve from 0.07055\n",
      "\n",
      "Epoch 00006: val_loss did not improve from 0.07055\n",
      "\n",
      "Epoch 00007: val_loss did not improve from 0.07055\n",
      "\n",
      "Epoch 00008: val_loss did not improve from 0.07055\n",
      "\n",
      "Epoch 00009: val_loss did not improve from 0.07055\n",
      "\n",
      "Epoch 00010: val_loss did not improve from 0.07055\n"
     ]
    },
    {
     "name": "stderr",
     "output_type": "stream",
     "text": [
      "/home/frankl1/miniconda3/envs/ner-projection/lib/python3.7/site-packages/ipykernel_launcher.py:17: RuntimeWarning: invalid value encountered in double_scalars\n"
     ]
    },
    {
     "name": "stdout",
     "output_type": "stream",
     "text": [
      "AlgoCrossValIter - 10\n",
      "Model: \"sequential_10\"\n",
      "_________________________________________________________________\n",
      "Layer (type)                 Output Shape              Param #   \n",
      "=================================================================\n",
      "hidden1 (Dense)              (None, 640)               135040    \n",
      "_________________________________________________________________\n",
      "hidden2 (Dense)              (None, 160)               102560    \n",
      "_________________________________________________________________\n",
      "outputlayer (Dense)          (None, 5)                 805       \n",
      "=================================================================\n",
      "Total params: 238,405\n",
      "Trainable params: 238,405\n",
      "Non-trainable params: 0\n",
      "_________________________________________________________________\n",
      "\n",
      "Epoch 00001: val_loss improved from inf to 0.28832, saving model to best-model-conll.hdfs\n",
      "\n",
      "Epoch 00002: val_loss improved from 0.28832 to 0.25328, saving model to best-model-conll.hdfs\n",
      "\n",
      "Epoch 00003: val_loss did not improve from 0.25328\n",
      "\n",
      "Epoch 00004: val_loss improved from 0.25328 to 0.23485, saving model to best-model-conll.hdfs\n",
      "\n",
      "Epoch 00005: val_loss did not improve from 0.23485\n",
      "\n",
      "Epoch 00006: val_loss did not improve from 0.23485\n",
      "\n",
      "Epoch 00007: val_loss improved from 0.23485 to 0.22159, saving model to best-model-conll.hdfs\n",
      "\n",
      "Epoch 00008: val_loss did not improve from 0.22159\n",
      "\n",
      "Epoch 00009: val_loss did not improve from 0.22159\n",
      "\n",
      "Epoch 00010: val_loss did not improve from 0.22159\n"
     ]
    },
    {
     "name": "stderr",
     "output_type": "stream",
     "text": [
      "/home/frankl1/miniconda3/envs/ner-projection/lib/python3.7/site-packages/ipykernel_launcher.py:17: RuntimeWarning: invalid value encountered in double_scalars\n"
     ]
    },
    {
     "name": "stdout",
     "output_type": "stream",
     "text": [
      "\n",
      "Epoch 00001: val_loss improved from inf to 0.08560, saving model to best-model-conll.hdfs\n",
      "\n",
      "Epoch 00002: val_loss did not improve from 0.08560\n",
      "\n",
      "Epoch 00003: val_loss did not improve from 0.08560\n",
      "\n",
      "Epoch 00004: val_loss did not improve from 0.08560\n",
      "\n",
      "Epoch 00005: val_loss did not improve from 0.08560\n",
      "\n",
      "Epoch 00006: val_loss did not improve from 0.08560\n",
      "\n",
      "Epoch 00007: val_loss did not improve from 0.08560\n",
      "\n",
      "Epoch 00008: val_loss did not improve from 0.08560\n",
      "\n",
      "Epoch 00009: val_loss did not improve from 0.08560\n",
      "\n",
      "Epoch 00010: val_loss did not improve from 0.08560\n"
     ]
    },
    {
     "name": "stderr",
     "output_type": "stream",
     "text": [
      "/home/frankl1/miniconda3/envs/ner-projection/lib/python3.7/site-packages/ipykernel_launcher.py:17: RuntimeWarning: invalid value encountered in double_scalars\n"
     ]
    },
    {
     "name": "stdout",
     "output_type": "stream",
     "text": [
      "\n",
      "Epoch 00001: val_loss improved from inf to 0.08252, saving model to best-model-conll.hdfs\n",
      "\n",
      "Epoch 00002: val_loss did not improve from 0.08252\n",
      "\n",
      "Epoch 00003: val_loss did not improve from 0.08252\n",
      "\n",
      "Epoch 00004: val_loss did not improve from 0.08252\n",
      "\n",
      "Epoch 00005: val_loss did not improve from 0.08252\n",
      "\n",
      "Epoch 00006: val_loss did not improve from 0.08252\n",
      "\n",
      "Epoch 00007: val_loss did not improve from 0.08252\n",
      "\n",
      "Epoch 00008: val_loss did not improve from 0.08252\n",
      "\n",
      "Epoch 00009: val_loss did not improve from 0.08252\n",
      "\n",
      "Epoch 00010: val_loss did not improve from 0.08252\n",
      "\n",
      "Epoch 00001: val_loss improved from inf to 0.09320, saving model to best-model-conll.hdfs\n",
      "\n",
      "Epoch 00002: val_loss improved from 0.09320 to 0.05967, saving model to best-model-conll.hdfs\n",
      "\n",
      "Epoch 00003: val_loss did not improve from 0.05967\n",
      "\n",
      "Epoch 00004: val_loss did not improve from 0.05967\n",
      "\n",
      "Epoch 00005: val_loss did not improve from 0.05967\n",
      "\n",
      "Epoch 00006: val_loss did not improve from 0.05967\n",
      "\n",
      "Epoch 00007: val_loss did not improve from 0.05967\n",
      "\n",
      "Epoch 00008: val_loss did not improve from 0.05967\n",
      "\n",
      "Epoch 00009: val_loss did not improve from 0.05967\n",
      "\n",
      "Epoch 00010: val_loss did not improve from 0.05967\n"
     ]
    },
    {
     "name": "stderr",
     "output_type": "stream",
     "text": [
      "/home/frankl1/miniconda3/envs/ner-projection/lib/python3.7/site-packages/ipykernel_launcher.py:17: RuntimeWarning: invalid value encountered in double_scalars\n"
     ]
    },
    {
     "name": "stdout",
     "output_type": "stream",
     "text": [
      "\n",
      "Epoch 00001: val_loss improved from inf to 0.13099, saving model to best-model-conll.hdfs\n",
      "\n",
      "Epoch 00002: val_loss improved from 0.13099 to 0.12896, saving model to best-model-conll.hdfs\n",
      "\n",
      "Epoch 00003: val_loss did not improve from 0.12896\n",
      "\n",
      "Epoch 00004: val_loss did not improve from 0.12896\n",
      "\n",
      "Epoch 00005: val_loss did not improve from 0.12896\n",
      "\n",
      "Epoch 00006: val_loss did not improve from 0.12896\n",
      "\n",
      "Epoch 00007: val_loss did not improve from 0.12896\n",
      "\n",
      "Epoch 00008: val_loss did not improve from 0.12896\n",
      "\n",
      "Epoch 00009: val_loss did not improve from 0.12896\n",
      "\n",
      "Epoch 00010: val_loss did not improve from 0.12896\n",
      "\n",
      "Epoch 00001: val_loss improved from inf to 0.11199, saving model to best-model-conll.hdfs\n",
      "\n",
      "Epoch 00002: val_loss improved from 0.11199 to 0.06618, saving model to best-model-conll.hdfs\n",
      "\n",
      "Epoch 00003: val_loss did not improve from 0.06618\n",
      "\n",
      "Epoch 00004: val_loss did not improve from 0.06618\n",
      "\n",
      "Epoch 00005: val_loss did not improve from 0.06618\n",
      "\n",
      "Epoch 00006: val_loss did not improve from 0.06618\n",
      "\n",
      "Epoch 00007: val_loss did not improve from 0.06618\n",
      "\n",
      "Epoch 00008: val_loss did not improve from 0.06618\n",
      "\n",
      "Epoch 00009: val_loss did not improve from 0.06618\n",
      "\n",
      "Epoch 00010: val_loss did not improve from 0.06618\n"
     ]
    },
    {
     "name": "stderr",
     "output_type": "stream",
     "text": [
      "/home/frankl1/miniconda3/envs/ner-projection/lib/python3.7/site-packages/ipykernel_launcher.py:17: RuntimeWarning: invalid value encountered in double_scalars\n"
     ]
    },
    {
     "name": "stdout",
     "output_type": "stream",
     "text": [
      "\n",
      "Epoch 00001: val_loss improved from inf to 0.18500, saving model to best-model-conll.hdfs\n",
      "\n",
      "Epoch 00002: val_loss improved from 0.18500 to 0.18020, saving model to best-model-conll.hdfs\n",
      "\n",
      "Epoch 00003: val_loss did not improve from 0.18020\n",
      "\n",
      "Epoch 00004: val_loss did not improve from 0.18020\n",
      "\n",
      "Epoch 00005: val_loss did not improve from 0.18020\n",
      "\n",
      "Epoch 00006: val_loss did not improve from 0.18020\n",
      "\n",
      "Epoch 00007: val_loss did not improve from 0.18020\n",
      "\n",
      "Epoch 00008: val_loss did not improve from 0.18020\n",
      "\n",
      "Epoch 00009: val_loss did not improve from 0.18020\n",
      "\n",
      "Epoch 00010: val_loss did not improve from 0.18020\n"
     ]
    },
    {
     "name": "stderr",
     "output_type": "stream",
     "text": [
      "/home/frankl1/miniconda3/envs/ner-projection/lib/python3.7/site-packages/ipykernel_launcher.py:17: RuntimeWarning: invalid value encountered in double_scalars\n"
     ]
    },
    {
     "name": "stdout",
     "output_type": "stream",
     "text": [
      "\n",
      "Epoch 00001: val_loss improved from inf to 0.01547, saving model to best-model-conll.hdfs\n",
      "\n",
      "Epoch 00002: val_loss did not improve from 0.01547\n",
      "\n",
      "Epoch 00003: val_loss did not improve from 0.01547\n",
      "\n",
      "Epoch 00004: val_loss did not improve from 0.01547\n",
      "\n",
      "Epoch 00005: val_loss did not improve from 0.01547\n",
      "\n",
      "Epoch 00006: val_loss did not improve from 0.01547\n",
      "\n",
      "Epoch 00007: val_loss did not improve from 0.01547\n",
      "\n",
      "Epoch 00008: val_loss did not improve from 0.01547\n",
      "\n",
      "Epoch 00009: val_loss did not improve from 0.01547\n",
      "\n",
      "Epoch 00010: val_loss did not improve from 0.01547\n",
      "\n",
      "Epoch 00001: val_loss improved from inf to 0.04193, saving model to best-model-conll.hdfs\n",
      "\n",
      "Epoch 00002: val_loss did not improve from 0.04193\n",
      "\n",
      "Epoch 00003: val_loss did not improve from 0.04193\n",
      "\n",
      "Epoch 00004: val_loss improved from 0.04193 to 0.03771, saving model to best-model-conll.hdfs\n",
      "\n",
      "Epoch 00005: val_loss did not improve from 0.03771\n",
      "\n",
      "Epoch 00006: val_loss did not improve from 0.03771\n",
      "\n",
      "Epoch 00007: val_loss did not improve from 0.03771\n",
      "\n",
      "Epoch 00008: val_loss did not improve from 0.03771\n",
      "\n",
      "Epoch 00009: val_loss did not improve from 0.03771\n",
      "\n",
      "Epoch 00010: val_loss did not improve from 0.03771\n",
      "\n",
      "Epoch 00001: val_loss improved from inf to 0.08139, saving model to best-model-conll.hdfs\n",
      "\n",
      "Epoch 00002: val_loss improved from 0.08139 to 0.07702, saving model to best-model-conll.hdfs\n",
      "\n",
      "Epoch 00003: val_loss did not improve from 0.07702\n",
      "\n",
      "Epoch 00004: val_loss did not improve from 0.07702\n",
      "\n",
      "Epoch 00005: val_loss did not improve from 0.07702\n",
      "\n",
      "Epoch 00006: val_loss did not improve from 0.07702\n",
      "\n",
      "Epoch 00007: val_loss did not improve from 0.07702\n",
      "\n",
      "Epoch 00008: val_loss did not improve from 0.07702\n",
      "\n",
      "Epoch 00009: val_loss did not improve from 0.07702\n",
      "\n",
      "Epoch 00010: val_loss did not improve from 0.07702\n"
     ]
    },
    {
     "name": "stderr",
     "output_type": "stream",
     "text": [
      "/home/frankl1/miniconda3/envs/ner-projection/lib/python3.7/site-packages/ipykernel_launcher.py:17: RuntimeWarning: invalid value encountered in double_scalars\n"
     ]
    }
   ],
   "source": [
    "resultCrossVal, trainByTagResult, testByTagResult, ewoByTagResult, model = algoCrossVal(X, y, X_ewo, y_ewo, repeat=10)"
   ]
  },
  {
   "cell_type": "code",
   "execution_count": 65,
   "metadata": {},
   "outputs": [
    {
     "data": {
      "text/html": [
       "<div>\n",
       "<style scoped>\n",
       "    .dataframe tbody tr th:only-of-type {\n",
       "        vertical-align: middle;\n",
       "    }\n",
       "\n",
       "    .dataframe tbody tr th {\n",
       "        vertical-align: top;\n",
       "    }\n",
       "\n",
       "    .dataframe thead th {\n",
       "        text-align: right;\n",
       "    }\n",
       "</style>\n",
       "<table border=\"1\" class=\"dataframe\">\n",
       "  <thead>\n",
       "    <tr style=\"text-align: right;\">\n",
       "      <th></th>\n",
       "      <th>0</th>\n",
       "      <th>0</th>\n",
       "      <th>0</th>\n",
       "      <th>0</th>\n",
       "      <th>0</th>\n",
       "      <th>0</th>\n",
       "      <th>0</th>\n",
       "      <th>0</th>\n",
       "      <th>0</th>\n",
       "      <th>0</th>\n",
       "    </tr>\n",
       "  </thead>\n",
       "  <tbody>\n",
       "    <tr>\n",
       "      <th>P_val</th>\n",
       "      <td>82.069</td>\n",
       "      <td>85.724</td>\n",
       "      <td>79.706</td>\n",
       "      <td>82.784</td>\n",
       "      <td>84.504</td>\n",
       "      <td>84.769</td>\n",
       "      <td>78.601</td>\n",
       "      <td>85.746</td>\n",
       "      <td>81.353</td>\n",
       "      <td>81.553</td>\n",
       "    </tr>\n",
       "    <tr>\n",
       "      <th>P_train</th>\n",
       "      <td>87.964</td>\n",
       "      <td>87.661</td>\n",
       "      <td>86.345</td>\n",
       "      <td>88.557</td>\n",
       "      <td>87.611</td>\n",
       "      <td>87.581</td>\n",
       "      <td>86.966</td>\n",
       "      <td>87.588</td>\n",
       "      <td>87.307</td>\n",
       "      <td>87.454</td>\n",
       "    </tr>\n",
       "    <tr>\n",
       "      <th>P_ewo</th>\n",
       "      <td>80.936</td>\n",
       "      <td>77.373</td>\n",
       "      <td>76.763</td>\n",
       "      <td>78.735</td>\n",
       "      <td>78.116</td>\n",
       "      <td>79.000</td>\n",
       "      <td>76.332</td>\n",
       "      <td>77.473</td>\n",
       "      <td>76.939</td>\n",
       "      <td>78.176</td>\n",
       "    </tr>\n",
       "    <tr>\n",
       "      <th>R_val</th>\n",
       "      <td>82.089</td>\n",
       "      <td>78.792</td>\n",
       "      <td>81.879</td>\n",
       "      <td>80.776</td>\n",
       "      <td>81.982</td>\n",
       "      <td>77.234</td>\n",
       "      <td>79.816</td>\n",
       "      <td>80.175</td>\n",
       "      <td>82.032</td>\n",
       "      <td>83.941</td>\n",
       "    </tr>\n",
       "    <tr>\n",
       "      <th>R_train</th>\n",
       "      <td>82.289</td>\n",
       "      <td>82.166</td>\n",
       "      <td>85.766</td>\n",
       "      <td>81.329</td>\n",
       "      <td>82.101</td>\n",
       "      <td>79.348</td>\n",
       "      <td>85.231</td>\n",
       "      <td>82.098</td>\n",
       "      <td>85.890</td>\n",
       "      <td>83.967</td>\n",
       "    </tr>\n",
       "    <tr>\n",
       "      <th>R_ewo</th>\n",
       "      <td>66.109</td>\n",
       "      <td>64.351</td>\n",
       "      <td>70.555</td>\n",
       "      <td>66.481</td>\n",
       "      <td>67.316</td>\n",
       "      <td>65.000</td>\n",
       "      <td>68.981</td>\n",
       "      <td>66.943</td>\n",
       "      <td>69.352</td>\n",
       "      <td>69.353</td>\n",
       "    </tr>\n",
       "    <tr>\n",
       "      <th>F1-val</th>\n",
       "      <td>81.290</td>\n",
       "      <td>78.416</td>\n",
       "      <td>80.168</td>\n",
       "      <td>80.998</td>\n",
       "      <td>82.181</td>\n",
       "      <td>79.520</td>\n",
       "      <td>78.823</td>\n",
       "      <td>79.293</td>\n",
       "      <td>81.113</td>\n",
       "      <td>82.181</td>\n",
       "    </tr>\n",
       "    <tr>\n",
       "      <th>F1-train</th>\n",
       "      <td>84.596</td>\n",
       "      <td>83.967</td>\n",
       "      <td>85.724</td>\n",
       "      <td>84.500</td>\n",
       "      <td>84.147</td>\n",
       "      <td>82.033</td>\n",
       "      <td>85.731</td>\n",
       "      <td>83.989</td>\n",
       "      <td>86.449</td>\n",
       "      <td>85.297</td>\n",
       "    </tr>\n",
       "    <tr>\n",
       "      <th>F1-ewo</th>\n",
       "      <td>72.475</td>\n",
       "      <td>69.507</td>\n",
       "      <td>72.823</td>\n",
       "      <td>71.702</td>\n",
       "      <td>71.659</td>\n",
       "      <td>69.814</td>\n",
       "      <td>71.889</td>\n",
       "      <td>70.949</td>\n",
       "      <td>72.672</td>\n",
       "      <td>73.072</td>\n",
       "    </tr>\n",
       "  </tbody>\n",
       "</table>\n",
       "</div>"
      ],
      "text/plain": [
       "               0       0       0       0       0       0       0       0  \\\n",
       "P_val     82.069  85.724  79.706  82.784  84.504  84.769  78.601  85.746   \n",
       "P_train   87.964  87.661  86.345  88.557  87.611  87.581  86.966  87.588   \n",
       "P_ewo     80.936  77.373  76.763  78.735  78.116  79.000  76.332  77.473   \n",
       "R_val     82.089  78.792  81.879  80.776  81.982  77.234  79.816  80.175   \n",
       "R_train   82.289  82.166  85.766  81.329  82.101  79.348  85.231  82.098   \n",
       "R_ewo     66.109  64.351  70.555  66.481  67.316  65.000  68.981  66.943   \n",
       "F1-val    81.290  78.416  80.168  80.998  82.181  79.520  78.823  79.293   \n",
       "F1-train  84.596  83.967  85.724  84.500  84.147  82.033  85.731  83.989   \n",
       "F1-ewo    72.475  69.507  72.823  71.702  71.659  69.814  71.889  70.949   \n",
       "\n",
       "               0       0  \n",
       "P_val     81.353  81.553  \n",
       "P_train   87.307  87.454  \n",
       "P_ewo     76.939  78.176  \n",
       "R_val     82.032  83.941  \n",
       "R_train   85.890  83.967  \n",
       "R_ewo     69.352  69.353  \n",
       "F1-val    81.113  82.181  \n",
       "F1-train  86.449  85.297  \n",
       "F1-ewo    72.672  73.072  "
      ]
     },
     "execution_count": 65,
     "metadata": {},
     "output_type": "execute_result"
    }
   ],
   "source": [
    "resultCrossVal.to_csv(\"results.csv\")\n",
    "resultCrossVal"
   ]
  },
  {
   "cell_type": "code",
   "execution_count": 66,
   "metadata": {},
   "outputs": [
    {
     "data": {
      "text/html": [
       "<div>\n",
       "<style scoped>\n",
       "    .dataframe tbody tr th:only-of-type {\n",
       "        vertical-align: middle;\n",
       "    }\n",
       "\n",
       "    .dataframe tbody tr th {\n",
       "        vertical-align: top;\n",
       "    }\n",
       "\n",
       "    .dataframe thead th {\n",
       "        text-align: right;\n",
       "    }\n",
       "</style>\n",
       "<table border=\"1\" class=\"dataframe\">\n",
       "  <thead>\n",
       "    <tr style=\"text-align: right;\">\n",
       "      <th></th>\n",
       "      <th>0</th>\n",
       "    </tr>\n",
       "  </thead>\n",
       "  <tbody>\n",
       "    <tr>\n",
       "      <th>P_val</th>\n",
       "      <td>82.6809</td>\n",
       "    </tr>\n",
       "    <tr>\n",
       "      <th>P_train</th>\n",
       "      <td>87.5034</td>\n",
       "    </tr>\n",
       "    <tr>\n",
       "      <th>P_ewo</th>\n",
       "      <td>77.9843</td>\n",
       "    </tr>\n",
       "    <tr>\n",
       "      <th>R_val</th>\n",
       "      <td>80.8716</td>\n",
       "    </tr>\n",
       "    <tr>\n",
       "      <th>R_train</th>\n",
       "      <td>83.0185</td>\n",
       "    </tr>\n",
       "    <tr>\n",
       "      <th>R_ewo</th>\n",
       "      <td>67.4441</td>\n",
       "    </tr>\n",
       "    <tr>\n",
       "      <th>F1-val</th>\n",
       "      <td>80.3983</td>\n",
       "    </tr>\n",
       "    <tr>\n",
       "      <th>F1-train</th>\n",
       "      <td>84.6433</td>\n",
       "    </tr>\n",
       "    <tr>\n",
       "      <th>F1-ewo</th>\n",
       "      <td>71.6562</td>\n",
       "    </tr>\n",
       "  </tbody>\n",
       "</table>\n",
       "</div>"
      ],
      "text/plain": [
       "                0\n",
       "P_val     82.6809\n",
       "P_train   87.5034\n",
       "P_ewo     77.9843\n",
       "R_val     80.8716\n",
       "R_train   83.0185\n",
       "R_ewo     67.4441\n",
       "F1-val    80.3983\n",
       "F1-train  84.6433\n",
       "F1-ewo    71.6562"
      ]
     },
     "execution_count": 66,
     "metadata": {},
     "output_type": "execute_result"
    }
   ],
   "source": [
    "resultCrossVal.mean(axis=1).to_frame()"
   ]
  },
  {
   "cell_type": "code",
   "execution_count": 67,
   "metadata": {},
   "outputs": [
    {
     "data": {
      "text/html": [
       "<div>\n",
       "<style scoped>\n",
       "    .dataframe tbody tr th:only-of-type {\n",
       "        vertical-align: middle;\n",
       "    }\n",
       "\n",
       "    .dataframe tbody tr th {\n",
       "        vertical-align: top;\n",
       "    }\n",
       "\n",
       "    .dataframe thead th {\n",
       "        text-align: right;\n",
       "    }\n",
       "</style>\n",
       "<table border=\"1\" class=\"dataframe\">\n",
       "  <thead>\n",
       "    <tr style=\"text-align: right;\">\n",
       "      <th></th>\n",
       "      <th>0</th>\n",
       "    </tr>\n",
       "  </thead>\n",
       "  <tbody>\n",
       "    <tr>\n",
       "      <th>P_val</th>\n",
       "      <td>2.477797</td>\n",
       "    </tr>\n",
       "    <tr>\n",
       "      <th>P_train</th>\n",
       "      <td>0.581523</td>\n",
       "    </tr>\n",
       "    <tr>\n",
       "      <th>P_ewo</th>\n",
       "      <td>1.346240</td>\n",
       "    </tr>\n",
       "    <tr>\n",
       "      <th>R_val</th>\n",
       "      <td>1.934000</td>\n",
       "    </tr>\n",
       "    <tr>\n",
       "      <th>R_train</th>\n",
       "      <td>2.130835</td>\n",
       "    </tr>\n",
       "    <tr>\n",
       "      <th>R_ewo</th>\n",
       "      <td>2.050534</td>\n",
       "    </tr>\n",
       "    <tr>\n",
       "      <th>F1-val</th>\n",
       "      <td>1.353137</td>\n",
       "    </tr>\n",
       "    <tr>\n",
       "      <th>F1-train</th>\n",
       "      <td>1.247536</td>\n",
       "    </tr>\n",
       "    <tr>\n",
       "      <th>F1-ewo</th>\n",
       "      <td>1.230961</td>\n",
       "    </tr>\n",
       "  </tbody>\n",
       "</table>\n",
       "</div>"
      ],
      "text/plain": [
       "                 0\n",
       "P_val     2.477797\n",
       "P_train   0.581523\n",
       "P_ewo     1.346240\n",
       "R_val     1.934000\n",
       "R_train   2.130835\n",
       "R_ewo     2.050534\n",
       "F1-val    1.353137\n",
       "F1-train  1.247536\n",
       "F1-ewo    1.230961"
      ]
     },
     "execution_count": 67,
     "metadata": {},
     "output_type": "execute_result"
    }
   ],
   "source": [
    "resultCrossVal.std(axis=1).to_frame()"
   ]
  },
  {
   "cell_type": "code",
   "execution_count": 68,
   "metadata": {},
   "outputs": [
    {
     "data": {
      "text/html": [
       "<div>\n",
       "<style scoped>\n",
       "    .dataframe tbody tr th:only-of-type {\n",
       "        vertical-align: middle;\n",
       "    }\n",
       "\n",
       "    .dataframe tbody tr th {\n",
       "        vertical-align: top;\n",
       "    }\n",
       "\n",
       "    .dataframe thead th {\n",
       "        text-align: right;\n",
       "    }\n",
       "</style>\n",
       "<table border=\"1\" class=\"dataframe\">\n",
       "  <thead>\n",
       "    <tr style=\"text-align: right;\">\n",
       "      <th></th>\n",
       "      <th>0</th>\n",
       "      <th>0</th>\n",
       "      <th>0</th>\n",
       "      <th>0</th>\n",
       "      <th>0</th>\n",
       "      <th>0</th>\n",
       "      <th>0</th>\n",
       "      <th>0</th>\n",
       "      <th>0</th>\n",
       "      <th>0</th>\n",
       "    </tr>\n",
       "  </thead>\n",
       "  <tbody>\n",
       "    <tr>\n",
       "      <th>F1-O</th>\n",
       "      <td>98.088000</td>\n",
       "      <td>98.050000</td>\n",
       "      <td>98.1320</td>\n",
       "      <td>98.076000</td>\n",
       "      <td>98.041</td>\n",
       "      <td>97.866000</td>\n",
       "      <td>98.1560</td>\n",
       "      <td>98.030000</td>\n",
       "      <td>98.2310</td>\n",
       "      <td>98.125000</td>\n",
       "    </tr>\n",
       "    <tr>\n",
       "      <th>P-O</th>\n",
       "      <td>97.671000</td>\n",
       "      <td>97.663000</td>\n",
       "      <td>98.1310</td>\n",
       "      <td>97.546000</td>\n",
       "      <td>97.651</td>\n",
       "      <td>97.324000</td>\n",
       "      <td>98.0520</td>\n",
       "      <td>97.645000</td>\n",
       "      <td>98.1280</td>\n",
       "      <td>97.881000</td>\n",
       "    </tr>\n",
       "    <tr>\n",
       "      <th>R-O</th>\n",
       "      <td>98.524000</td>\n",
       "      <td>98.467000</td>\n",
       "      <td>98.1490</td>\n",
       "      <td>98.623000</td>\n",
       "      <td>98.456</td>\n",
       "      <td>98.456000</td>\n",
       "      <td>98.2740</td>\n",
       "      <td>98.440000</td>\n",
       "      <td>98.3420</td>\n",
       "      <td>98.384000</td>\n",
       "    </tr>\n",
       "    <tr>\n",
       "      <th>F1-MISC</th>\n",
       "      <td>73.673000</td>\n",
       "      <td>78.417778</td>\n",
       "      <td>76.2740</td>\n",
       "      <td>73.819000</td>\n",
       "      <td>75.540</td>\n",
       "      <td>78.245556</td>\n",
       "      <td>75.3300</td>\n",
       "      <td>78.560000</td>\n",
       "      <td>77.6240</td>\n",
       "      <td>77.568000</td>\n",
       "    </tr>\n",
       "    <tr>\n",
       "      <th>P-MISC</th>\n",
       "      <td>94.250000</td>\n",
       "      <td>87.500000</td>\n",
       "      <td>91.2610</td>\n",
       "      <td>96.528000</td>\n",
       "      <td>93.889</td>\n",
       "      <td>87.639000</td>\n",
       "      <td>90.1020</td>\n",
       "      <td>83.523000</td>\n",
       "      <td>88.3010</td>\n",
       "      <td>91.301000</td>\n",
       "    </tr>\n",
       "    <tr>\n",
       "      <th>R-MISC</th>\n",
       "      <td>63.539000</td>\n",
       "      <td>59.562000</td>\n",
       "      <td>67.1270</td>\n",
       "      <td>62.198000</td>\n",
       "      <td>65.448</td>\n",
       "      <td>59.721000</td>\n",
       "      <td>68.6270</td>\n",
       "      <td>63.062000</td>\n",
       "      <td>71.6470</td>\n",
       "      <td>69.175000</td>\n",
       "    </tr>\n",
       "    <tr>\n",
       "      <th>F1-PER</th>\n",
       "      <td>88.399000</td>\n",
       "      <td>87.719000</td>\n",
       "      <td>88.9520</td>\n",
       "      <td>88.459000</td>\n",
       "      <td>88.100</td>\n",
       "      <td>85.786000</td>\n",
       "      <td>89.1800</td>\n",
       "      <td>88.041000</td>\n",
       "      <td>89.7620</td>\n",
       "      <td>88.593000</td>\n",
       "    </tr>\n",
       "    <tr>\n",
       "      <th>P-PER</th>\n",
       "      <td>88.692000</td>\n",
       "      <td>87.812000</td>\n",
       "      <td>86.5380</td>\n",
       "      <td>88.225000</td>\n",
       "      <td>88.463</td>\n",
       "      <td>87.735000</td>\n",
       "      <td>87.4180</td>\n",
       "      <td>88.541000</td>\n",
       "      <td>88.0160</td>\n",
       "      <td>88.581000</td>\n",
       "    </tr>\n",
       "    <tr>\n",
       "      <th>R-PER</th>\n",
       "      <td>88.399000</td>\n",
       "      <td>88.491000</td>\n",
       "      <td>92.0040</td>\n",
       "      <td>89.015000</td>\n",
       "      <td>88.269</td>\n",
       "      <td>85.448000</td>\n",
       "      <td>91.5140</td>\n",
       "      <td>88.111000</td>\n",
       "      <td>91.7230</td>\n",
       "      <td>89.032000</td>\n",
       "    </tr>\n",
       "    <tr>\n",
       "      <th>F1-LOC</th>\n",
       "      <td>80.464444</td>\n",
       "      <td>81.544444</td>\n",
       "      <td>77.4210</td>\n",
       "      <td>77.877778</td>\n",
       "      <td>77.550</td>\n",
       "      <td>78.494444</td>\n",
       "      <td>75.8800</td>\n",
       "      <td>79.536667</td>\n",
       "      <td>77.4880</td>\n",
       "      <td>81.992222</td>\n",
       "    </tr>\n",
       "    <tr>\n",
       "      <th>P-LOC</th>\n",
       "      <td>76.396000</td>\n",
       "      <td>75.721000</td>\n",
       "      <td>85.7800</td>\n",
       "      <td>80.733000</td>\n",
       "      <td>76.271</td>\n",
       "      <td>76.661000</td>\n",
       "      <td>88.4450</td>\n",
       "      <td>74.627000</td>\n",
       "      <td>86.8980</td>\n",
       "      <td>74.630000</td>\n",
       "    </tr>\n",
       "    <tr>\n",
       "      <th>R-LOC</th>\n",
       "      <td>69.873000</td>\n",
       "      <td>71.446000</td>\n",
       "      <td>72.9550</td>\n",
       "      <td>63.859000</td>\n",
       "      <td>68.024</td>\n",
       "      <td>67.770000</td>\n",
       "      <td>71.0850</td>\n",
       "      <td>70.414000</td>\n",
       "      <td>72.1750</td>\n",
       "      <td>73.393000</td>\n",
       "    </tr>\n",
       "    <tr>\n",
       "      <th>F1-ORG</th>\n",
       "      <td>53.336000</td>\n",
       "      <td>58.335000</td>\n",
       "      <td>50.0025</td>\n",
       "      <td>33.335000</td>\n",
       "      <td>53.336</td>\n",
       "      <td>50.002500</td>\n",
       "      <td>50.0025</td>\n",
       "      <td>53.336000</td>\n",
       "      <td>50.0025</td>\n",
       "      <td>53.336000</td>\n",
       "    </tr>\n",
       "    <tr>\n",
       "      <th>P-ORG</th>\n",
       "      <td>20.000000</td>\n",
       "      <td>20.000000</td>\n",
       "      <td>15.0000</td>\n",
       "      <td>5.000000</td>\n",
       "      <td>20.000</td>\n",
       "      <td>15.000000</td>\n",
       "      <td>15.0000</td>\n",
       "      <td>20.000000</td>\n",
       "      <td>15.0000</td>\n",
       "      <td>20.000000</td>\n",
       "    </tr>\n",
       "    <tr>\n",
       "      <th>R-ORG</th>\n",
       "      <td>40.000000</td>\n",
       "      <td>30.000000</td>\n",
       "      <td>30.0000</td>\n",
       "      <td>10.000000</td>\n",
       "      <td>40.000</td>\n",
       "      <td>30.000000</td>\n",
       "      <td>30.0000</td>\n",
       "      <td>40.000000</td>\n",
       "      <td>30.0000</td>\n",
       "      <td>40.000000</td>\n",
       "    </tr>\n",
       "  </tbody>\n",
       "</table>\n",
       "</div>"
      ],
      "text/plain": [
       "                 0          0        0          0       0          0        0  \\\n",
       "F1-O     98.088000  98.050000  98.1320  98.076000  98.041  97.866000  98.1560   \n",
       "P-O      97.671000  97.663000  98.1310  97.546000  97.651  97.324000  98.0520   \n",
       "R-O      98.524000  98.467000  98.1490  98.623000  98.456  98.456000  98.2740   \n",
       "F1-MISC  73.673000  78.417778  76.2740  73.819000  75.540  78.245556  75.3300   \n",
       "P-MISC   94.250000  87.500000  91.2610  96.528000  93.889  87.639000  90.1020   \n",
       "R-MISC   63.539000  59.562000  67.1270  62.198000  65.448  59.721000  68.6270   \n",
       "F1-PER   88.399000  87.719000  88.9520  88.459000  88.100  85.786000  89.1800   \n",
       "P-PER    88.692000  87.812000  86.5380  88.225000  88.463  87.735000  87.4180   \n",
       "R-PER    88.399000  88.491000  92.0040  89.015000  88.269  85.448000  91.5140   \n",
       "F1-LOC   80.464444  81.544444  77.4210  77.877778  77.550  78.494444  75.8800   \n",
       "P-LOC    76.396000  75.721000  85.7800  80.733000  76.271  76.661000  88.4450   \n",
       "R-LOC    69.873000  71.446000  72.9550  63.859000  68.024  67.770000  71.0850   \n",
       "F1-ORG   53.336000  58.335000  50.0025  33.335000  53.336  50.002500  50.0025   \n",
       "P-ORG    20.000000  20.000000  15.0000   5.000000  20.000  15.000000  15.0000   \n",
       "R-ORG    40.000000  30.000000  30.0000  10.000000  40.000  30.000000  30.0000   \n",
       "\n",
       "                 0        0          0  \n",
       "F1-O     98.030000  98.2310  98.125000  \n",
       "P-O      97.645000  98.1280  97.881000  \n",
       "R-O      98.440000  98.3420  98.384000  \n",
       "F1-MISC  78.560000  77.6240  77.568000  \n",
       "P-MISC   83.523000  88.3010  91.301000  \n",
       "R-MISC   63.062000  71.6470  69.175000  \n",
       "F1-PER   88.041000  89.7620  88.593000  \n",
       "P-PER    88.541000  88.0160  88.581000  \n",
       "R-PER    88.111000  91.7230  89.032000  \n",
       "F1-LOC   79.536667  77.4880  81.992222  \n",
       "P-LOC    74.627000  86.8980  74.630000  \n",
       "R-LOC    70.414000  72.1750  73.393000  \n",
       "F1-ORG   53.336000  50.0025  53.336000  \n",
       "P-ORG    20.000000  15.0000  20.000000  \n",
       "R-ORG    40.000000  30.0000  40.000000  "
      ]
     },
     "execution_count": 68,
     "metadata": {},
     "output_type": "execute_result"
    }
   ],
   "source": [
    "trainByTagResult.to_csv(\"results/train-by-tag.csv\")\n",
    "trainByTagResult"
   ]
  },
  {
   "cell_type": "code",
   "execution_count": 69,
   "metadata": {
    "scrolled": true
   },
   "outputs": [
    {
     "data": {
      "text/html": [
       "<div>\n",
       "<style scoped>\n",
       "    .dataframe tbody tr th:only-of-type {\n",
       "        vertical-align: middle;\n",
       "    }\n",
       "\n",
       "    .dataframe tbody tr th {\n",
       "        vertical-align: top;\n",
       "    }\n",
       "\n",
       "    .dataframe thead th {\n",
       "        text-align: right;\n",
       "    }\n",
       "</style>\n",
       "<table border=\"1\" class=\"dataframe\">\n",
       "  <thead>\n",
       "    <tr style=\"text-align: right;\">\n",
       "      <th></th>\n",
       "      <th>0</th>\n",
       "    </tr>\n",
       "  </thead>\n",
       "  <tbody>\n",
       "    <tr>\n",
       "      <th>F1-O</th>\n",
       "      <td>98.079500</td>\n",
       "    </tr>\n",
       "    <tr>\n",
       "      <th>P-O</th>\n",
       "      <td>97.769200</td>\n",
       "    </tr>\n",
       "    <tr>\n",
       "      <th>R-O</th>\n",
       "      <td>98.411500</td>\n",
       "    </tr>\n",
       "    <tr>\n",
       "      <th>F1-MISC</th>\n",
       "      <td>76.505133</td>\n",
       "    </tr>\n",
       "    <tr>\n",
       "      <th>P-MISC</th>\n",
       "      <td>90.429400</td>\n",
       "    </tr>\n",
       "    <tr>\n",
       "      <th>R-MISC</th>\n",
       "      <td>65.010600</td>\n",
       "    </tr>\n",
       "    <tr>\n",
       "      <th>F1-PER</th>\n",
       "      <td>88.299100</td>\n",
       "    </tr>\n",
       "    <tr>\n",
       "      <th>P-PER</th>\n",
       "      <td>88.002100</td>\n",
       "    </tr>\n",
       "    <tr>\n",
       "      <th>R-PER</th>\n",
       "      <td>89.200600</td>\n",
       "    </tr>\n",
       "    <tr>\n",
       "      <th>F1-LOC</th>\n",
       "      <td>78.824900</td>\n",
       "    </tr>\n",
       "    <tr>\n",
       "      <th>P-LOC</th>\n",
       "      <td>79.616200</td>\n",
       "    </tr>\n",
       "    <tr>\n",
       "      <th>R-LOC</th>\n",
       "      <td>70.099400</td>\n",
       "    </tr>\n",
       "    <tr>\n",
       "      <th>F1-ORG</th>\n",
       "      <td>50.502400</td>\n",
       "    </tr>\n",
       "    <tr>\n",
       "      <th>P-ORG</th>\n",
       "      <td>16.500000</td>\n",
       "    </tr>\n",
       "    <tr>\n",
       "      <th>R-ORG</th>\n",
       "      <td>32.000000</td>\n",
       "    </tr>\n",
       "  </tbody>\n",
       "</table>\n",
       "</div>"
      ],
      "text/plain": [
       "                 0\n",
       "F1-O     98.079500\n",
       "P-O      97.769200\n",
       "R-O      98.411500\n",
       "F1-MISC  76.505133\n",
       "P-MISC   90.429400\n",
       "R-MISC   65.010600\n",
       "F1-PER   88.299100\n",
       "P-PER    88.002100\n",
       "R-PER    89.200600\n",
       "F1-LOC   78.824900\n",
       "P-LOC    79.616200\n",
       "R-LOC    70.099400\n",
       "F1-ORG   50.502400\n",
       "P-ORG    16.500000\n",
       "R-ORG    32.000000"
      ]
     },
     "execution_count": 69,
     "metadata": {},
     "output_type": "execute_result"
    }
   ],
   "source": [
    "trainByTagResult.mean(axis=1).to_frame()"
   ]
  },
  {
   "cell_type": "code",
   "execution_count": 70,
   "metadata": {},
   "outputs": [
    {
     "data": {
      "text/html": [
       "<div>\n",
       "<style scoped>\n",
       "    .dataframe tbody tr th:only-of-type {\n",
       "        vertical-align: middle;\n",
       "    }\n",
       "\n",
       "    .dataframe tbody tr th {\n",
       "        vertical-align: top;\n",
       "    }\n",
       "\n",
       "    .dataframe thead th {\n",
       "        text-align: right;\n",
       "    }\n",
       "</style>\n",
       "<table border=\"1\" class=\"dataframe\">\n",
       "  <thead>\n",
       "    <tr style=\"text-align: right;\">\n",
       "      <th></th>\n",
       "      <th>0</th>\n",
       "    </tr>\n",
       "  </thead>\n",
       "  <tbody>\n",
       "    <tr>\n",
       "      <th>F1-O</th>\n",
       "      <td>0.096667</td>\n",
       "    </tr>\n",
       "    <tr>\n",
       "      <th>P-O</th>\n",
       "      <td>0.268835</td>\n",
       "    </tr>\n",
       "    <tr>\n",
       "      <th>R-O</th>\n",
       "      <td>0.132766</td>\n",
       "    </tr>\n",
       "    <tr>\n",
       "      <th>F1-MISC</th>\n",
       "      <td>1.852729</td>\n",
       "    </tr>\n",
       "    <tr>\n",
       "      <th>P-MISC</th>\n",
       "      <td>3.857364</td>\n",
       "    </tr>\n",
       "    <tr>\n",
       "      <th>R-MISC</th>\n",
       "      <td>4.091635</td>\n",
       "    </tr>\n",
       "    <tr>\n",
       "      <th>F1-PER</th>\n",
       "      <td>1.065766</td>\n",
       "    </tr>\n",
       "    <tr>\n",
       "      <th>P-PER</th>\n",
       "      <td>0.662994</td>\n",
       "    </tr>\n",
       "    <tr>\n",
       "      <th>R-PER</th>\n",
       "      <td>2.025379</td>\n",
       "    </tr>\n",
       "    <tr>\n",
       "      <th>F1-LOC</th>\n",
       "      <td>1.991227</td>\n",
       "    </tr>\n",
       "    <tr>\n",
       "      <th>P-LOC</th>\n",
       "      <td>5.430696</td>\n",
       "    </tr>\n",
       "    <tr>\n",
       "      <th>R-LOC</th>\n",
       "      <td>2.885237</td>\n",
       "    </tr>\n",
       "    <tr>\n",
       "      <th>F1-ORG</th>\n",
       "      <td>6.575933</td>\n",
       "    </tr>\n",
       "    <tr>\n",
       "      <th>P-ORG</th>\n",
       "      <td>4.743416</td>\n",
       "    </tr>\n",
       "    <tr>\n",
       "      <th>R-ORG</th>\n",
       "      <td>9.189366</td>\n",
       "    </tr>\n",
       "  </tbody>\n",
       "</table>\n",
       "</div>"
      ],
      "text/plain": [
       "                0\n",
       "F1-O     0.096667\n",
       "P-O      0.268835\n",
       "R-O      0.132766\n",
       "F1-MISC  1.852729\n",
       "P-MISC   3.857364\n",
       "R-MISC   4.091635\n",
       "F1-PER   1.065766\n",
       "P-PER    0.662994\n",
       "R-PER    2.025379\n",
       "F1-LOC   1.991227\n",
       "P-LOC    5.430696\n",
       "R-LOC    2.885237\n",
       "F1-ORG   6.575933\n",
       "P-ORG    4.743416\n",
       "R-ORG    9.189366"
      ]
     },
     "execution_count": 70,
     "metadata": {},
     "output_type": "execute_result"
    }
   ],
   "source": [
    "trainByTagResult.std(axis=1).to_frame()"
   ]
  },
  {
   "cell_type": "code",
   "execution_count": 71,
   "metadata": {},
   "outputs": [
    {
     "data": {
      "text/html": [
       "<div>\n",
       "<style scoped>\n",
       "    .dataframe tbody tr th:only-of-type {\n",
       "        vertical-align: middle;\n",
       "    }\n",
       "\n",
       "    .dataframe tbody tr th {\n",
       "        vertical-align: top;\n",
       "    }\n",
       "\n",
       "    .dataframe thead th {\n",
       "        text-align: right;\n",
       "    }\n",
       "</style>\n",
       "<table border=\"1\" class=\"dataframe\">\n",
       "  <thead>\n",
       "    <tr style=\"text-align: right;\">\n",
       "      <th></th>\n",
       "      <th>0</th>\n",
       "      <th>0</th>\n",
       "      <th>0</th>\n",
       "      <th>0</th>\n",
       "      <th>0</th>\n",
       "      <th>0</th>\n",
       "      <th>0</th>\n",
       "      <th>0</th>\n",
       "      <th>0</th>\n",
       "      <th>0</th>\n",
       "    </tr>\n",
       "  </thead>\n",
       "  <tbody>\n",
       "    <tr>\n",
       "      <th>F1-O</th>\n",
       "      <td>97.930000</td>\n",
       "      <td>97.938000</td>\n",
       "      <td>97.854</td>\n",
       "      <td>97.935000</td>\n",
       "      <td>97.922000</td>\n",
       "      <td>98.003000</td>\n",
       "      <td>97.798000</td>\n",
       "      <td>97.865</td>\n",
       "      <td>97.797</td>\n",
       "      <td>98.047</td>\n",
       "    </tr>\n",
       "    <tr>\n",
       "      <th>P-O</th>\n",
       "      <td>97.754000</td>\n",
       "      <td>97.544000</td>\n",
       "      <td>98.005</td>\n",
       "      <td>97.636000</td>\n",
       "      <td>97.624000</td>\n",
       "      <td>97.552000</td>\n",
       "      <td>97.873000</td>\n",
       "      <td>97.661</td>\n",
       "      <td>97.743</td>\n",
       "      <td>98.112</td>\n",
       "    </tr>\n",
       "    <tr>\n",
       "      <th>R-O</th>\n",
       "      <td>98.125000</td>\n",
       "      <td>98.376000</td>\n",
       "      <td>97.720</td>\n",
       "      <td>98.251000</td>\n",
       "      <td>98.251000</td>\n",
       "      <td>98.485000</td>\n",
       "      <td>97.734000</td>\n",
       "      <td>98.102</td>\n",
       "      <td>97.861</td>\n",
       "      <td>97.990</td>\n",
       "    </tr>\n",
       "    <tr>\n",
       "      <th>F1-MISC</th>\n",
       "      <td>61.111111</td>\n",
       "      <td>61.111111</td>\n",
       "      <td>63.000</td>\n",
       "      <td>61.111111</td>\n",
       "      <td>61.111111</td>\n",
       "      <td>60.000000</td>\n",
       "      <td>60.000000</td>\n",
       "      <td>60.000</td>\n",
       "      <td>60.000</td>\n",
       "      <td>60.000</td>\n",
       "    </tr>\n",
       "    <tr>\n",
       "      <th>P-MISC</th>\n",
       "      <td>60.000000</td>\n",
       "      <td>60.000000</td>\n",
       "      <td>66.667</td>\n",
       "      <td>60.000000</td>\n",
       "      <td>60.000000</td>\n",
       "      <td>65.000000</td>\n",
       "      <td>65.000000</td>\n",
       "      <td>65.000</td>\n",
       "      <td>65.000</td>\n",
       "      <td>65.000</td>\n",
       "    </tr>\n",
       "    <tr>\n",
       "      <th>R-MISC</th>\n",
       "      <td>53.333000</td>\n",
       "      <td>53.333000</td>\n",
       "      <td>63.333</td>\n",
       "      <td>53.333000</td>\n",
       "      <td>53.333000</td>\n",
       "      <td>58.333000</td>\n",
       "      <td>58.333000</td>\n",
       "      <td>58.333</td>\n",
       "      <td>58.333</td>\n",
       "      <td>58.333</td>\n",
       "    </tr>\n",
       "    <tr>\n",
       "      <th>F1-PER</th>\n",
       "      <td>82.186000</td>\n",
       "      <td>80.446000</td>\n",
       "      <td>79.540</td>\n",
       "      <td>81.432000</td>\n",
       "      <td>83.521000</td>\n",
       "      <td>81.731000</td>\n",
       "      <td>82.208000</td>\n",
       "      <td>79.406</td>\n",
       "      <td>83.122</td>\n",
       "      <td>83.469</td>\n",
       "    </tr>\n",
       "    <tr>\n",
       "      <th>P-PER</th>\n",
       "      <td>80.912000</td>\n",
       "      <td>84.932000</td>\n",
       "      <td>77.614</td>\n",
       "      <td>80.023000</td>\n",
       "      <td>83.685000</td>\n",
       "      <td>84.644000</td>\n",
       "      <td>78.667000</td>\n",
       "      <td>85.038</td>\n",
       "      <td>81.094</td>\n",
       "      <td>81.023</td>\n",
       "    </tr>\n",
       "    <tr>\n",
       "      <th>R-PER</th>\n",
       "      <td>86.400000</td>\n",
       "      <td>85.083000</td>\n",
       "      <td>84.845</td>\n",
       "      <td>85.844000</td>\n",
       "      <td>86.940000</td>\n",
       "      <td>83.178000</td>\n",
       "      <td>88.940000</td>\n",
       "      <td>82.988</td>\n",
       "      <td>87.829</td>\n",
       "      <td>88.940</td>\n",
       "    </tr>\n",
       "    <tr>\n",
       "      <th>F1-LOC</th>\n",
       "      <td>68.667000</td>\n",
       "      <td>64.667000</td>\n",
       "      <td>67.334</td>\n",
       "      <td>69.334000</td>\n",
       "      <td>65.334000</td>\n",
       "      <td>63.704444</td>\n",
       "      <td>55.926667</td>\n",
       "      <td>68.667</td>\n",
       "      <td>62.667</td>\n",
       "      <td>65.334</td>\n",
       "    </tr>\n",
       "    <tr>\n",
       "      <th>P-LOC</th>\n",
       "      <td>70.001000</td>\n",
       "      <td>73.334000</td>\n",
       "      <td>73.334</td>\n",
       "      <td>76.667000</td>\n",
       "      <td>70.001000</td>\n",
       "      <td>63.334000</td>\n",
       "      <td>61.667000</td>\n",
       "      <td>70.001</td>\n",
       "      <td>70.001</td>\n",
       "      <td>70.001</td>\n",
       "    </tr>\n",
       "    <tr>\n",
       "      <th>R-LOC</th>\n",
       "      <td>71.667000</td>\n",
       "      <td>64.167000</td>\n",
       "      <td>66.667</td>\n",
       "      <td>66.667000</td>\n",
       "      <td>66.667000</td>\n",
       "      <td>56.667000</td>\n",
       "      <td>50.833000</td>\n",
       "      <td>71.667</td>\n",
       "      <td>64.167</td>\n",
       "      <td>66.667</td>\n",
       "    </tr>\n",
       "    <tr>\n",
       "      <th>F1-ORG</th>\n",
       "      <td>0.000000</td>\n",
       "      <td>0.000000</td>\n",
       "      <td>0.000</td>\n",
       "      <td>0.000000</td>\n",
       "      <td>0.000000</td>\n",
       "      <td>0.000000</td>\n",
       "      <td>0.000000</td>\n",
       "      <td>0.000</td>\n",
       "      <td>0.000</td>\n",
       "      <td>0.000</td>\n",
       "    </tr>\n",
       "    <tr>\n",
       "      <th>P-ORG</th>\n",
       "      <td>0.000000</td>\n",
       "      <td>0.000000</td>\n",
       "      <td>0.000</td>\n",
       "      <td>0.000000</td>\n",
       "      <td>0.000000</td>\n",
       "      <td>0.000000</td>\n",
       "      <td>0.000000</td>\n",
       "      <td>0.000</td>\n",
       "      <td>0.000</td>\n",
       "      <td>0.000</td>\n",
       "    </tr>\n",
       "    <tr>\n",
       "      <th>R-ORG</th>\n",
       "      <td>0.000000</td>\n",
       "      <td>0.000000</td>\n",
       "      <td>0.000</td>\n",
       "      <td>0.000000</td>\n",
       "      <td>0.000000</td>\n",
       "      <td>0.000000</td>\n",
       "      <td>0.000000</td>\n",
       "      <td>0.000</td>\n",
       "      <td>0.000</td>\n",
       "      <td>0.000</td>\n",
       "    </tr>\n",
       "  </tbody>\n",
       "</table>\n",
       "</div>"
      ],
      "text/plain": [
       "                 0          0       0          0          0          0  \\\n",
       "F1-O     97.930000  97.938000  97.854  97.935000  97.922000  98.003000   \n",
       "P-O      97.754000  97.544000  98.005  97.636000  97.624000  97.552000   \n",
       "R-O      98.125000  98.376000  97.720  98.251000  98.251000  98.485000   \n",
       "F1-MISC  61.111111  61.111111  63.000  61.111111  61.111111  60.000000   \n",
       "P-MISC   60.000000  60.000000  66.667  60.000000  60.000000  65.000000   \n",
       "R-MISC   53.333000  53.333000  63.333  53.333000  53.333000  58.333000   \n",
       "F1-PER   82.186000  80.446000  79.540  81.432000  83.521000  81.731000   \n",
       "P-PER    80.912000  84.932000  77.614  80.023000  83.685000  84.644000   \n",
       "R-PER    86.400000  85.083000  84.845  85.844000  86.940000  83.178000   \n",
       "F1-LOC   68.667000  64.667000  67.334  69.334000  65.334000  63.704444   \n",
       "P-LOC    70.001000  73.334000  73.334  76.667000  70.001000  63.334000   \n",
       "R-LOC    71.667000  64.167000  66.667  66.667000  66.667000  56.667000   \n",
       "F1-ORG    0.000000   0.000000   0.000   0.000000   0.000000   0.000000   \n",
       "P-ORG     0.000000   0.000000   0.000   0.000000   0.000000   0.000000   \n",
       "R-ORG     0.000000   0.000000   0.000   0.000000   0.000000   0.000000   \n",
       "\n",
       "                 0       0       0       0  \n",
       "F1-O     97.798000  97.865  97.797  98.047  \n",
       "P-O      97.873000  97.661  97.743  98.112  \n",
       "R-O      97.734000  98.102  97.861  97.990  \n",
       "F1-MISC  60.000000  60.000  60.000  60.000  \n",
       "P-MISC   65.000000  65.000  65.000  65.000  \n",
       "R-MISC   58.333000  58.333  58.333  58.333  \n",
       "F1-PER   82.208000  79.406  83.122  83.469  \n",
       "P-PER    78.667000  85.038  81.094  81.023  \n",
       "R-PER    88.940000  82.988  87.829  88.940  \n",
       "F1-LOC   55.926667  68.667  62.667  65.334  \n",
       "P-LOC    61.667000  70.001  70.001  70.001  \n",
       "R-LOC    50.833000  71.667  64.167  66.667  \n",
       "F1-ORG    0.000000   0.000   0.000   0.000  \n",
       "P-ORG     0.000000   0.000   0.000   0.000  \n",
       "R-ORG     0.000000   0.000   0.000   0.000  "
      ]
     },
     "execution_count": 71,
     "metadata": {},
     "output_type": "execute_result"
    }
   ],
   "source": [
    "testByTagResult.to_csv(\"results/test-by-tag.csv\")\n",
    "testByTagResult"
   ]
  },
  {
   "cell_type": "code",
   "execution_count": 72,
   "metadata": {},
   "outputs": [
    {
     "data": {
      "text/html": [
       "<div>\n",
       "<style scoped>\n",
       "    .dataframe tbody tr th:only-of-type {\n",
       "        vertical-align: middle;\n",
       "    }\n",
       "\n",
       "    .dataframe tbody tr th {\n",
       "        vertical-align: top;\n",
       "    }\n",
       "\n",
       "    .dataframe thead th {\n",
       "        text-align: right;\n",
       "    }\n",
       "</style>\n",
       "<table border=\"1\" class=\"dataframe\">\n",
       "  <thead>\n",
       "    <tr style=\"text-align: right;\">\n",
       "      <th></th>\n",
       "      <th>0</th>\n",
       "    </tr>\n",
       "  </thead>\n",
       "  <tbody>\n",
       "    <tr>\n",
       "      <th>F1-O</th>\n",
       "      <td>97.908900</td>\n",
       "    </tr>\n",
       "    <tr>\n",
       "      <th>P-O</th>\n",
       "      <td>97.750400</td>\n",
       "    </tr>\n",
       "    <tr>\n",
       "      <th>R-O</th>\n",
       "      <td>98.089500</td>\n",
       "    </tr>\n",
       "    <tr>\n",
       "      <th>F1-MISC</th>\n",
       "      <td>60.744444</td>\n",
       "    </tr>\n",
       "    <tr>\n",
       "      <th>P-MISC</th>\n",
       "      <td>63.166700</td>\n",
       "    </tr>\n",
       "    <tr>\n",
       "      <th>R-MISC</th>\n",
       "      <td>56.833000</td>\n",
       "    </tr>\n",
       "    <tr>\n",
       "      <th>F1-PER</th>\n",
       "      <td>81.706100</td>\n",
       "    </tr>\n",
       "    <tr>\n",
       "      <th>P-PER</th>\n",
       "      <td>81.763200</td>\n",
       "    </tr>\n",
       "    <tr>\n",
       "      <th>R-PER</th>\n",
       "      <td>86.098700</td>\n",
       "    </tr>\n",
       "    <tr>\n",
       "      <th>F1-LOC</th>\n",
       "      <td>65.163511</td>\n",
       "    </tr>\n",
       "    <tr>\n",
       "      <th>P-LOC</th>\n",
       "      <td>69.834100</td>\n",
       "    </tr>\n",
       "    <tr>\n",
       "      <th>R-LOC</th>\n",
       "      <td>64.583600</td>\n",
       "    </tr>\n",
       "    <tr>\n",
       "      <th>F1-ORG</th>\n",
       "      <td>8.666667</td>\n",
       "    </tr>\n",
       "    <tr>\n",
       "      <th>P-ORG</th>\n",
       "      <td>8.000000</td>\n",
       "    </tr>\n",
       "    <tr>\n",
       "      <th>R-ORG</th>\n",
       "      <td>8.000000</td>\n",
       "    </tr>\n",
       "  </tbody>\n",
       "</table>\n",
       "</div>"
      ],
      "text/plain": [
       "                 0\n",
       "F1-O     97.908900\n",
       "P-O      97.750400\n",
       "R-O      98.089500\n",
       "F1-MISC  60.744444\n",
       "P-MISC   63.166700\n",
       "R-MISC   56.833000\n",
       "F1-PER   81.706100\n",
       "P-PER    81.763200\n",
       "R-PER    86.098700\n",
       "F1-LOC   65.163511\n",
       "P-LOC    69.834100\n",
       "R-LOC    64.583600\n",
       "F1-ORG    0.000000\n",
       "P-ORG     0.000000\n",
       "R-ORG     0.000000"
      ]
     },
     "execution_count": 72,
     "metadata": {},
     "output_type": "execute_result"
    }
   ],
   "source": [
    "testByTagResult.mean(axis=1).to_frame()"
   ]
  },
  {
   "cell_type": "code",
   "execution_count": 73,
   "metadata": {},
   "outputs": [
    {
     "data": {
      "text/html": [
       "<div>\n",
       "<style scoped>\n",
       "    .dataframe tbody tr th:only-of-type {\n",
       "        vertical-align: middle;\n",
       "    }\n",
       "\n",
       "    .dataframe tbody tr th {\n",
       "        vertical-align: top;\n",
       "    }\n",
       "\n",
       "    .dataframe thead th {\n",
       "        text-align: right;\n",
       "    }\n",
       "</style>\n",
       "<table border=\"1\" class=\"dataframe\">\n",
       "  <thead>\n",
       "    <tr style=\"text-align: right;\">\n",
       "      <th></th>\n",
       "      <th>0</th>\n",
       "    </tr>\n",
       "  </thead>\n",
       "  <tbody>\n",
       "    <tr>\n",
       "      <th>F1-O</th>\n",
       "      <td>0.081536</td>\n",
       "    </tr>\n",
       "    <tr>\n",
       "      <th>P-O</th>\n",
       "      <td>0.191397</td>\n",
       "    </tr>\n",
       "    <tr>\n",
       "      <th>R-O</th>\n",
       "      <td>0.261854</td>\n",
       "    </tr>\n",
       "    <tr>\n",
       "      <th>F1-MISC</th>\n",
       "      <td>0.965879</td>\n",
       "    </tr>\n",
       "    <tr>\n",
       "      <th>P-MISC</th>\n",
       "      <td>2.772263</td>\n",
       "    </tr>\n",
       "    <tr>\n",
       "      <th>R-MISC</th>\n",
       "      <td>3.374743</td>\n",
       "    </tr>\n",
       "    <tr>\n",
       "      <th>F1-PER</th>\n",
       "      <td>1.510508</td>\n",
       "    </tr>\n",
       "    <tr>\n",
       "      <th>P-PER</th>\n",
       "      <td>2.673092</td>\n",
       "    </tr>\n",
       "    <tr>\n",
       "      <th>R-PER</th>\n",
       "      <td>2.129520</td>\n",
       "    </tr>\n",
       "    <tr>\n",
       "      <th>F1-LOC</th>\n",
       "      <td>3.953033</td>\n",
       "    </tr>\n",
       "    <tr>\n",
       "      <th>P-LOC</th>\n",
       "      <td>4.475603</td>\n",
       "    </tr>\n",
       "    <tr>\n",
       "      <th>R-LOC</th>\n",
       "      <td>6.410148</td>\n",
       "    </tr>\n",
       "    <tr>\n",
       "      <th>F1-ORG</th>\n",
       "      <td>4.590202</td>\n",
       "    </tr>\n",
       "    <tr>\n",
       "      <th>P-ORG</th>\n",
       "      <td>4.216370</td>\n",
       "    </tr>\n",
       "    <tr>\n",
       "      <th>R-ORG</th>\n",
       "      <td>4.216370</td>\n",
       "    </tr>\n",
       "  </tbody>\n",
       "</table>\n",
       "</div>"
      ],
      "text/plain": [
       "                0\n",
       "F1-O     0.081536\n",
       "P-O      0.191397\n",
       "R-O      0.261854\n",
       "F1-MISC  0.965879\n",
       "P-MISC   2.772263\n",
       "R-MISC   3.374743\n",
       "F1-PER   1.510508\n",
       "P-PER    2.673092\n",
       "R-PER    2.129520\n",
       "F1-LOC   3.953033\n",
       "P-LOC    4.475603\n",
       "R-LOC    6.410148\n",
       "F1-ORG   0.000000\n",
       "P-ORG    0.000000\n",
       "R-ORG    0.000000"
      ]
     },
     "execution_count": 73,
     "metadata": {},
     "output_type": "execute_result"
    }
   ],
   "source": [
    "testByTagResult.std(axis=1).to_frame()"
   ]
  },
  {
   "cell_type": "code",
   "execution_count": 74,
   "metadata": {},
   "outputs": [],
   "source": [
    "ewoByTagResult.to_csv(\"results/ewo-by-tag.csv\")"
   ]
  },
  {
   "cell_type": "code",
   "execution_count": 75,
   "metadata": {},
   "outputs": [
    {
     "data": {
      "text/html": [
       "<div>\n",
       "<style scoped>\n",
       "    .dataframe tbody tr th:only-of-type {\n",
       "        vertical-align: middle;\n",
       "    }\n",
       "\n",
       "    .dataframe tbody tr th {\n",
       "        vertical-align: top;\n",
       "    }\n",
       "\n",
       "    .dataframe thead th {\n",
       "        text-align: right;\n",
       "    }\n",
       "</style>\n",
       "<table border=\"1\" class=\"dataframe\">\n",
       "  <thead>\n",
       "    <tr style=\"text-align: right;\">\n",
       "      <th></th>\n",
       "      <th>0</th>\n",
       "      <th>0.1</th>\n",
       "      <th>0.2</th>\n",
       "      <th>0.3</th>\n",
       "      <th>0.4</th>\n",
       "      <th>0.5</th>\n",
       "      <th>0.6</th>\n",
       "      <th>0.7</th>\n",
       "      <th>0.8</th>\n",
       "      <th>0.9</th>\n",
       "    </tr>\n",
       "  </thead>\n",
       "  <tbody>\n",
       "    <tr>\n",
       "      <th>F1-O</th>\n",
       "      <td>97.248000</td>\n",
       "      <td>96.926000</td>\n",
       "      <td>97.120</td>\n",
       "      <td>97.149000</td>\n",
       "      <td>97.149000</td>\n",
       "      <td>97.026000</td>\n",
       "      <td>97.082</td>\n",
       "      <td>97.073000</td>\n",
       "      <td>97.162</td>\n",
       "      <td>97.253000</td>\n",
       "    </tr>\n",
       "    <tr>\n",
       "      <th>P-O</th>\n",
       "      <td>96.233000</td>\n",
       "      <td>96.030000</td>\n",
       "      <td>96.798</td>\n",
       "      <td>96.316000</td>\n",
       "      <td>96.425000</td>\n",
       "      <td>96.200000</td>\n",
       "      <td>96.627</td>\n",
       "      <td>96.376000</td>\n",
       "      <td>96.645</td>\n",
       "      <td>96.657000</td>\n",
       "    </tr>\n",
       "    <tr>\n",
       "      <th>R-O</th>\n",
       "      <td>98.296000</td>\n",
       "      <td>97.855000</td>\n",
       "      <td>97.475</td>\n",
       "      <td>98.010000</td>\n",
       "      <td>97.901000</td>\n",
       "      <td>97.911000</td>\n",
       "      <td>97.562</td>\n",
       "      <td>97.803000</td>\n",
       "      <td>97.694</td>\n",
       "      <td>97.869000</td>\n",
       "    </tr>\n",
       "    <tr>\n",
       "      <th>F1-MISC</th>\n",
       "      <td>42.665556</td>\n",
       "      <td>40.977778</td>\n",
       "      <td>48.041</td>\n",
       "      <td>43.286667</td>\n",
       "      <td>47.904444</td>\n",
       "      <td>49.494444</td>\n",
       "      <td>46.210</td>\n",
       "      <td>52.784444</td>\n",
       "      <td>54.275</td>\n",
       "      <td>50.192000</td>\n",
       "    </tr>\n",
       "    <tr>\n",
       "      <th>P-MISC</th>\n",
       "      <td>57.336000</td>\n",
       "      <td>60.003000</td>\n",
       "      <td>64.924</td>\n",
       "      <td>60.003000</td>\n",
       "      <td>60.003000</td>\n",
       "      <td>63.097000</td>\n",
       "      <td>62.079</td>\n",
       "      <td>61.153000</td>\n",
       "      <td>64.924</td>\n",
       "      <td>65.003000</td>\n",
       "    </tr>\n",
       "    <tr>\n",
       "      <th>R-MISC</th>\n",
       "      <td>30.000000</td>\n",
       "      <td>27.500000</td>\n",
       "      <td>41.250</td>\n",
       "      <td>30.000000</td>\n",
       "      <td>35.000000</td>\n",
       "      <td>36.250000</td>\n",
       "      <td>42.500</td>\n",
       "      <td>41.250000</td>\n",
       "      <td>48.750</td>\n",
       "      <td>42.500000</td>\n",
       "    </tr>\n",
       "    <tr>\n",
       "      <th>F1-PER</th>\n",
       "      <td>79.054000</td>\n",
       "      <td>75.679000</td>\n",
       "      <td>78.402</td>\n",
       "      <td>78.603000</td>\n",
       "      <td>77.903000</td>\n",
       "      <td>76.243000</td>\n",
       "      <td>78.035</td>\n",
       "      <td>76.543000</td>\n",
       "      <td>77.992</td>\n",
       "      <td>78.320000</td>\n",
       "    </tr>\n",
       "    <tr>\n",
       "      <th>P-PER</th>\n",
       "      <td>82.103000</td>\n",
       "      <td>77.698000</td>\n",
       "      <td>76.964</td>\n",
       "      <td>78.370000</td>\n",
       "      <td>79.027000</td>\n",
       "      <td>79.832000</td>\n",
       "      <td>77.669</td>\n",
       "      <td>78.277000</td>\n",
       "      <td>77.322</td>\n",
       "      <td>78.748000</td>\n",
       "    </tr>\n",
       "    <tr>\n",
       "      <th>R-PER</th>\n",
       "      <td>76.500000</td>\n",
       "      <td>74.875000</td>\n",
       "      <td>81.125</td>\n",
       "      <td>79.625000</td>\n",
       "      <td>77.750000</td>\n",
       "      <td>75.250000</td>\n",
       "      <td>79.250</td>\n",
       "      <td>75.875000</td>\n",
       "      <td>79.125</td>\n",
       "      <td>78.625000</td>\n",
       "    </tr>\n",
       "    <tr>\n",
       "      <th>F1-LOC</th>\n",
       "      <td>60.317778</td>\n",
       "      <td>57.435556</td>\n",
       "      <td>55.901</td>\n",
       "      <td>50.177778</td>\n",
       "      <td>57.750000</td>\n",
       "      <td>53.504444</td>\n",
       "      <td>52.064</td>\n",
       "      <td>60.253333</td>\n",
       "      <td>55.072</td>\n",
       "      <td>64.368889</td>\n",
       "    </tr>\n",
       "    <tr>\n",
       "      <th>P-LOC</th>\n",
       "      <td>82.546000</td>\n",
       "      <td>78.197000</td>\n",
       "      <td>89.381</td>\n",
       "      <td>87.778000</td>\n",
       "      <td>80.481000</td>\n",
       "      <td>72.503000</td>\n",
       "      <td>86.386</td>\n",
       "      <td>74.486000</td>\n",
       "      <td>91.797</td>\n",
       "      <td>81.973000</td>\n",
       "    </tr>\n",
       "    <tr>\n",
       "      <th>R-LOC</th>\n",
       "      <td>41.110000</td>\n",
       "      <td>39.444000</td>\n",
       "      <td>42.777</td>\n",
       "      <td>31.110000</td>\n",
       "      <td>40.555000</td>\n",
       "      <td>37.778000</td>\n",
       "      <td>41.112</td>\n",
       "      <td>43.889000</td>\n",
       "      <td>41.110</td>\n",
       "      <td>45.555000</td>\n",
       "    </tr>\n",
       "    <tr>\n",
       "      <th>F1-ORG</th>\n",
       "      <td>33.330000</td>\n",
       "      <td>33.330000</td>\n",
       "      <td>33.330</td>\n",
       "      <td>33.330000</td>\n",
       "      <td>33.330000</td>\n",
       "      <td>33.330000</td>\n",
       "      <td>33.330</td>\n",
       "      <td>33.330000</td>\n",
       "      <td>33.330</td>\n",
       "      <td>33.330000</td>\n",
       "    </tr>\n",
       "    <tr>\n",
       "      <th>P-ORG</th>\n",
       "      <td>10.000000</td>\n",
       "      <td>7.500000</td>\n",
       "      <td>7.500</td>\n",
       "      <td>2.500000</td>\n",
       "      <td>10.000000</td>\n",
       "      <td>7.500000</td>\n",
       "      <td>7.500</td>\n",
       "      <td>10.000000</td>\n",
       "      <td>7.500</td>\n",
       "      <td>10.000000</td>\n",
       "    </tr>\n",
       "    <tr>\n",
       "      <th>R-ORG</th>\n",
       "      <td>20.000000</td>\n",
       "      <td>15.000000</td>\n",
       "      <td>15.000</td>\n",
       "      <td>5.000000</td>\n",
       "      <td>20.000000</td>\n",
       "      <td>15.000000</td>\n",
       "      <td>15.000</td>\n",
       "      <td>20.000000</td>\n",
       "      <td>15.000</td>\n",
       "      <td>20.000000</td>\n",
       "    </tr>\n",
       "  </tbody>\n",
       "</table>\n",
       "</div>"
      ],
      "text/plain": [
       "                 0        0.1     0.2        0.3        0.4        0.5  \\\n",
       "F1-O     97.248000  96.926000  97.120  97.149000  97.149000  97.026000   \n",
       "P-O      96.233000  96.030000  96.798  96.316000  96.425000  96.200000   \n",
       "R-O      98.296000  97.855000  97.475  98.010000  97.901000  97.911000   \n",
       "F1-MISC  42.665556  40.977778  48.041  43.286667  47.904444  49.494444   \n",
       "P-MISC   57.336000  60.003000  64.924  60.003000  60.003000  63.097000   \n",
       "R-MISC   30.000000  27.500000  41.250  30.000000  35.000000  36.250000   \n",
       "F1-PER   79.054000  75.679000  78.402  78.603000  77.903000  76.243000   \n",
       "P-PER    82.103000  77.698000  76.964  78.370000  79.027000  79.832000   \n",
       "R-PER    76.500000  74.875000  81.125  79.625000  77.750000  75.250000   \n",
       "F1-LOC   60.317778  57.435556  55.901  50.177778  57.750000  53.504444   \n",
       "P-LOC    82.546000  78.197000  89.381  87.778000  80.481000  72.503000   \n",
       "R-LOC    41.110000  39.444000  42.777  31.110000  40.555000  37.778000   \n",
       "F1-ORG   33.330000  33.330000  33.330  33.330000  33.330000  33.330000   \n",
       "P-ORG    10.000000   7.500000   7.500   2.500000  10.000000   7.500000   \n",
       "R-ORG    20.000000  15.000000  15.000   5.000000  20.000000  15.000000   \n",
       "\n",
       "            0.6        0.7     0.8        0.9  \n",
       "F1-O     97.082  97.073000  97.162  97.253000  \n",
       "P-O      96.627  96.376000  96.645  96.657000  \n",
       "R-O      97.562  97.803000  97.694  97.869000  \n",
       "F1-MISC  46.210  52.784444  54.275  50.192000  \n",
       "P-MISC   62.079  61.153000  64.924  65.003000  \n",
       "R-MISC   42.500  41.250000  48.750  42.500000  \n",
       "F1-PER   78.035  76.543000  77.992  78.320000  \n",
       "P-PER    77.669  78.277000  77.322  78.748000  \n",
       "R-PER    79.250  75.875000  79.125  78.625000  \n",
       "F1-LOC   52.064  60.253333  55.072  64.368889  \n",
       "P-LOC    86.386  74.486000  91.797  81.973000  \n",
       "R-LOC    41.112  43.889000  41.110  45.555000  \n",
       "F1-ORG   33.330  33.330000  33.330  33.330000  \n",
       "P-ORG     7.500  10.000000   7.500  10.000000  \n",
       "R-ORG    15.000  20.000000  15.000  20.000000  "
      ]
     },
     "execution_count": 75,
     "metadata": {},
     "output_type": "execute_result"
    }
   ],
   "source": [
    "ewoByTagResult = pd.read_csv(\"results/ewo-by-tag.csv\", index_col=0)\n",
    "ewoByTagResult"
   ]
  },
  {
   "cell_type": "code",
   "execution_count": 76,
   "metadata": {},
   "outputs": [
    {
     "data": {
      "text/html": [
       "<div>\n",
       "<style scoped>\n",
       "    .dataframe tbody tr th:only-of-type {\n",
       "        vertical-align: middle;\n",
       "    }\n",
       "\n",
       "    .dataframe tbody tr th {\n",
       "        vertical-align: top;\n",
       "    }\n",
       "\n",
       "    .dataframe thead th {\n",
       "        text-align: right;\n",
       "    }\n",
       "</style>\n",
       "<table border=\"1\" class=\"dataframe\">\n",
       "  <thead>\n",
       "    <tr style=\"text-align: right;\">\n",
       "      <th></th>\n",
       "      <th>0</th>\n",
       "    </tr>\n",
       "  </thead>\n",
       "  <tbody>\n",
       "    <tr>\n",
       "      <th>F1-O</th>\n",
       "      <td>97.118800</td>\n",
       "    </tr>\n",
       "    <tr>\n",
       "      <th>P-O</th>\n",
       "      <td>96.430700</td>\n",
       "    </tr>\n",
       "    <tr>\n",
       "      <th>R-O</th>\n",
       "      <td>97.837600</td>\n",
       "    </tr>\n",
       "    <tr>\n",
       "      <th>F1-MISC</th>\n",
       "      <td>47.583133</td>\n",
       "    </tr>\n",
       "    <tr>\n",
       "      <th>P-MISC</th>\n",
       "      <td>61.852500</td>\n",
       "    </tr>\n",
       "    <tr>\n",
       "      <th>R-MISC</th>\n",
       "      <td>37.500000</td>\n",
       "    </tr>\n",
       "    <tr>\n",
       "      <th>F1-PER</th>\n",
       "      <td>77.677400</td>\n",
       "    </tr>\n",
       "    <tr>\n",
       "      <th>P-PER</th>\n",
       "      <td>78.601000</td>\n",
       "    </tr>\n",
       "    <tr>\n",
       "      <th>R-PER</th>\n",
       "      <td>77.800000</td>\n",
       "    </tr>\n",
       "    <tr>\n",
       "      <th>F1-LOC</th>\n",
       "      <td>56.684478</td>\n",
       "    </tr>\n",
       "    <tr>\n",
       "      <th>P-LOC</th>\n",
       "      <td>82.552800</td>\n",
       "    </tr>\n",
       "    <tr>\n",
       "      <th>R-LOC</th>\n",
       "      <td>40.444000</td>\n",
       "    </tr>\n",
       "    <tr>\n",
       "      <th>F1-ORG</th>\n",
       "      <td>33.330000</td>\n",
       "    </tr>\n",
       "    <tr>\n",
       "      <th>P-ORG</th>\n",
       "      <td>8.000000</td>\n",
       "    </tr>\n",
       "    <tr>\n",
       "      <th>R-ORG</th>\n",
       "      <td>16.000000</td>\n",
       "    </tr>\n",
       "  </tbody>\n",
       "</table>\n",
       "</div>"
      ],
      "text/plain": [
       "                 0\n",
       "F1-O     97.118800\n",
       "P-O      96.430700\n",
       "R-O      97.837600\n",
       "F1-MISC  47.583133\n",
       "P-MISC   61.852500\n",
       "R-MISC   37.500000\n",
       "F1-PER   77.677400\n",
       "P-PER    78.601000\n",
       "R-PER    77.800000\n",
       "F1-LOC   56.684478\n",
       "P-LOC    82.552800\n",
       "R-LOC    40.444000\n",
       "F1-ORG   33.330000\n",
       "P-ORG     8.000000\n",
       "R-ORG    16.000000"
      ]
     },
     "execution_count": 76,
     "metadata": {},
     "output_type": "execute_result"
    }
   ],
   "source": [
    "ewoByTagResult.mean(axis=1).to_frame()"
   ]
  },
  {
   "cell_type": "code",
   "execution_count": 77,
   "metadata": {},
   "outputs": [
    {
     "data": {
      "text/html": [
       "<div>\n",
       "<style scoped>\n",
       "    .dataframe tbody tr th:only-of-type {\n",
       "        vertical-align: middle;\n",
       "    }\n",
       "\n",
       "    .dataframe tbody tr th {\n",
       "        vertical-align: top;\n",
       "    }\n",
       "\n",
       "    .dataframe thead th {\n",
       "        text-align: right;\n",
       "    }\n",
       "</style>\n",
       "<table border=\"1\" class=\"dataframe\">\n",
       "  <thead>\n",
       "    <tr style=\"text-align: right;\">\n",
       "      <th></th>\n",
       "      <th>0</th>\n",
       "    </tr>\n",
       "  </thead>\n",
       "  <tbody>\n",
       "    <tr>\n",
       "      <th>F1-O</th>\n",
       "      <td>0.098674</td>\n",
       "    </tr>\n",
       "    <tr>\n",
       "      <th>P-O</th>\n",
       "      <td>0.244865</td>\n",
       "    </tr>\n",
       "    <tr>\n",
       "      <th>R-O</th>\n",
       "      <td>0.230892</td>\n",
       "    </tr>\n",
       "    <tr>\n",
       "      <th>F1-MISC</th>\n",
       "      <td>4.355907</td>\n",
       "    </tr>\n",
       "    <tr>\n",
       "      <th>P-MISC</th>\n",
       "      <td>2.614999</td>\n",
       "    </tr>\n",
       "    <tr>\n",
       "      <th>R-MISC</th>\n",
       "      <td>6.871843</td>\n",
       "    </tr>\n",
       "    <tr>\n",
       "      <th>F1-PER</th>\n",
       "      <td>1.120786</td>\n",
       "    </tr>\n",
       "    <tr>\n",
       "      <th>P-PER</th>\n",
       "      <td>1.495936</td>\n",
       "    </tr>\n",
       "    <tr>\n",
       "      <th>R-PER</th>\n",
       "      <td>2.091816</td>\n",
       "    </tr>\n",
       "    <tr>\n",
       "      <th>F1-LOC</th>\n",
       "      <td>4.264840</td>\n",
       "    </tr>\n",
       "    <tr>\n",
       "      <th>P-LOC</th>\n",
       "      <td>6.357402</td>\n",
       "    </tr>\n",
       "    <tr>\n",
       "      <th>R-LOC</th>\n",
       "      <td>3.944194</td>\n",
       "    </tr>\n",
       "    <tr>\n",
       "      <th>F1-ORG</th>\n",
       "      <td>0.000000</td>\n",
       "    </tr>\n",
       "    <tr>\n",
       "      <th>P-ORG</th>\n",
       "      <td>2.297341</td>\n",
       "    </tr>\n",
       "    <tr>\n",
       "      <th>R-ORG</th>\n",
       "      <td>4.594683</td>\n",
       "    </tr>\n",
       "  </tbody>\n",
       "</table>\n",
       "</div>"
      ],
      "text/plain": [
       "                0\n",
       "F1-O     0.098674\n",
       "P-O      0.244865\n",
       "R-O      0.230892\n",
       "F1-MISC  4.355907\n",
       "P-MISC   2.614999\n",
       "R-MISC   6.871843\n",
       "F1-PER   1.120786\n",
       "P-PER    1.495936\n",
       "R-PER    2.091816\n",
       "F1-LOC   4.264840\n",
       "P-LOC    6.357402\n",
       "R-LOC    3.944194\n",
       "F1-ORG   0.000000\n",
       "P-ORG    2.297341\n",
       "R-ORG    4.594683"
      ]
     },
     "execution_count": 77,
     "metadata": {},
     "output_type": "execute_result"
    }
   ],
   "source": [
    "ewoByTagResult.std(axis=1).to_frame()"
   ]
  },
  {
   "cell_type": "code",
   "execution_count": 78,
   "metadata": {},
   "outputs": [
    {
     "name": "stdout",
     "output_type": "stream",
     "text": [
      "Pred\tReal\tFreq\tWord\n",
      "O\tLOC\t4170.0\tSamaria\n",
      "O\tLOC\t4170.0\tOlivet\n",
      "O\tMISC\t4170.0\tSabbath\n",
      "PER\tO\t4170.0\tupper\n",
      "PER\tO\t4170.0\troom\n",
      "PER\tO\t4170.0\twhere\n",
      "PER\tO\t4170.0\tZealot\n",
      "LOC\tO\t4170.0\tso\n",
      "LOC\tO\t4170.0\tlanguage\n",
      "O\tMISC\t4170.0\tPsalms\n",
      "PER\tO\t4170.0\tforward\n",
      "MISC\tO\t4170.0\tgoing\n",
      "O\tPER\t4170.0\tMoses\n",
      "PER\tO\t4170.0\tproclaimed\n",
      "ORG\tO\t4170.0\tcaptain\n",
      "PER\tO\t4170.0\thigh-priestly\n",
      "PER\tO\t4170.0\tfamily\n",
      "O\tPER\t4170.0\tPontius\n",
      "O\tPER\t4170.0\tBarnabas\n",
      "O\tLOC\t4170.0\tCyprus\n",
      "O\tPER\t4170.0\tElijah\n",
      "O\tMISC\t4170.0\tr\n",
      "PER\tO\t4170.0\tJu\n",
      "PER\tO\t4170.0\th\n",
      "LOC\tO\t4170.0\tdeportation\n",
      "PER\tO\t4170.0\tus)\n"
     ]
    }
   ],
   "source": [
    "columns = en_fingerprints.columns\n",
    "\n",
    "print(\"Pred\", \"Real\", \"Freq\", \"Word\", sep=\"\\t\")\n",
    "for c in columns:\n",
    "    prediction = model.predict(en_fingerprints[c].values.reshape((1, 210)))\n",
    "    pred_tag = int2tag[np.argmax(prediction)]\n",
    "    real_tag = en_corpus[en_corpus.word == c].iloc[0]['ne-tag']\n",
    "    \n",
    "    if pred_tag != real_tag:\n",
    "        print(pred_tag, real_tag, en_fingerprints[c].max(), c, sep=\"\\t\")"
   ]
  }
 ],
 "metadata": {
  "anaconda-cloud": {},
  "colab": {
   "collapsed_sections": [],
   "default_view": {},
   "name": "rnn-ner.ipynb",
   "provenance": [
    {
     "file_id": "1bSiRRO29rixupIV6ume9T9B4KUKtYVKI",
     "timestamp": 1513688449690
    }
   ],
   "version": "0.3.2",
   "views": {}
  },
  "kernelspec": {
   "display_name": "Python [conda env:ner-projection] *",
   "language": "python",
   "name": "conda-env-ner-projection-py"
  },
  "language_info": {
   "codemirror_mode": {
    "name": "ipython",
    "version": 3
   },
   "file_extension": ".py",
   "mimetype": "text/x-python",
   "name": "python",
   "nbconvert_exporter": "python",
   "pygments_lexer": "ipython3",
   "version": "3.7.3"
  }
 },
 "nbformat": 4,
 "nbformat_minor": 1
}
