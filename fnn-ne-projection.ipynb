{
 "cells": [
  {
   "cell_type": "code",
   "execution_count": 1,
   "metadata": {
    "colab": {
     "autoexec": {
      "startup": false,
      "wait_interval": 0
     },
     "base_uri": "https://localhost:8080/",
     "height": 88,
     "output_extras": [
      {
       "item_id": 1
      }
     ]
    },
    "colab_type": "code",
    "executionInfo": {
     "elapsed": 2799,
     "status": "ok",
     "timestamp": 1516045322673,
     "user": {
      "displayName": "Michael Franklin Mbouopda",
      "photoUrl": "//lh3.googleusercontent.com/-2_Vuj9ESsJ0/AAAAAAAAAAI/AAAAAAAABSc/r-SRcN0jWPw/s50-c-k-no/photo.jpg",
      "userId": "117384351130599115261"
     },
     "user_tz": -60
    },
    "id": "NamUCuj1bBjd",
    "outputId": "7874258f-7c3e-4646-f238-36437759767b"
   },
   "outputs": [
    {
     "name": "stderr",
     "output_type": "stream",
     "text": [
      "Using TensorFlow backend.\n"
     ]
    }
   ],
   "source": [
    "# import\n",
    "import keras\n",
    "import sys\n",
    "import numpy as np\n",
    "import string\n",
    "import pandas as pd\n",
    "import matplotlib.pyplot as plt\n",
    "from keras.models import Sequential\n",
    "from keras.layers import SimpleRNN, Dense\n",
    "from keras.utils import np_utils, plot_model\n",
    "from keras.callbacks import ModelCheckpoint, EarlyStopping\n",
    "from sklearn import model_selection\n",
    "from sklearn.metrics import precision_score, recall_score, f1_score, accuracy_score, precision_recall_fscore_support\n",
    "import h5py as h5py"
   ]
  },
  {
   "cell_type": "code",
   "execution_count": 2,
   "metadata": {
    "colab": {
     "autoexec": {
      "startup": false,
      "wait_interval": 0
     }
    },
    "colab_type": "code",
    "id": "t9h7fyDCbkMG"
   },
   "outputs": [],
   "source": [
    "# if we are doeing binary classification. That means say if a token is a named entity or not\n",
    "BINARY = False\n",
    "\n",
    "# number of epochs for training\n",
    "epochs = 10 \n",
    "\n",
    "# the english side of the corpus\n",
    "en_corpus_file = \"corpus-en.txt\"\n",
    "\n",
    "# the ewondo side of the corpus\n",
    "ewo_corpus_file = \"corpus-ewo.txt\"\n",
    "\n",
    "# name of the file to same the model \n",
    "best_model_file = \"best-model-conll.hdfs\"\n",
    "\n",
    "# The maximal number of phrases to use\n",
    "max_nb_of_phrases =  -1\n",
    "\n",
    "# the maximal number of duplicates for each word in the corpus\n",
    "duplication = 1\n",
    "\n",
    "# wether we are using only the vocabulary, ro redundancy\n",
    "is_only_vocab = True\n",
    "\n",
    "# if word should be shuffle or not\n",
    "shuffle = is_only_vocab\n",
    "\n",
    "# normalization strategy\n",
    "# \"exp\": normalization by exponentiation expo(nbWV)/exp(nbOcc(w))\n",
    "# \"log\": normalization by logarithm log(nbWV)/log(nbOcc(w))\n",
    "# \"max\": normalization by max [nbWV/nbOcc(w)]/ [nbWV/nbOcc(w*)] = nbOcc(w*)/nbOcc(w) where w* is the most frequent word\n",
    "# None: for no normalization\n",
    "normalization_strategy = \"max\"\n",
    "\n",
    "# if we are using the Zennaki et al. signature\n",
    "is_zennaki = False\n",
    "\n",
    "# the number of neurons in the first layer\n",
    "h1_size = 640\n",
    "\n",
    "# number of neurons in the second layer\n",
    "h2_size = 160  "
   ]
  },
  {
   "cell_type": "code",
   "execution_count": 3,
   "metadata": {
    "colab": {
     "autoexec": {
      "startup": false,
      "wait_interval": 0
     }
    },
    "colab_type": "code",
    "id": "q1OlcYPo1Att"
   },
   "outputs": [],
   "source": [
    "def getTag(aString):\n",
    "    \"\"\"\n",
    "        convert a string to a tag\n",
    "    \"\"\"\n",
    "    tag = \"O\"\n",
    "    if BINARY:\n",
    "        if aString != \"O\":\n",
    "            return \"NE\"\n",
    "    else:\n",
    "        tag = aString\n",
    "    return tag\n",
    "     "
   ]
  },
  {
   "cell_type": "code",
   "execution_count": 4,
   "metadata": {
    "colab": {
     "autoexec": {
      "startup": false,
      "wait_interval": 0
     }
    },
    "colab_type": "code",
    "id": "q1OlcYPo1Att"
   },
   "outputs": [],
   "source": [
    "def load_corpus(file, max_nb_of_phrases):\n",
    "    \"\"\"\n",
    "    Load a corpus stored in a file\n",
    "    Input:\n",
    "        - file: the name of the file of the corpus\n",
    "        - max_nb_of_phases: maximal number of phrases to load\n",
    "    \n",
    "    Return:\n",
    "        - a DataFrame representing the corpus\n",
    "        - the number of phrases in the corpus\n",
    "    \"\"\"\n",
    "    nb_of_phrases = 0\n",
    "    dataset = {\"word\": [], \"ne-tag\": []}\n",
    "    with open(file) as f:\n",
    "        prev_line = None\n",
    "        for cpt, line in enumerate(f):\n",
    "            if cpt == 0:\n",
    "                continue\n",
    "            if nb_of_phrases == max_nb_of_phrases:\n",
    "                break;\n",
    "\n",
    "            l = line.strip()\n",
    "            if len(l) == 0 and len(prev_line) != 0:\n",
    "                nb_of_phrases += 1\n",
    "                dataset[\"word\"].append(line)\n",
    "                dataset[\"ne-tag\"].append(None)\n",
    "            else:\n",
    "                l = l.split(\"\\t\")\n",
    "                if l[0] not in string.punctuation:\n",
    "                    dataset[\"word\"].append(l[0])\n",
    "                    dataset[\"ne-tag\"].append(ne_type(l[1]))\n",
    "            prev_line = line.strip()\n",
    "        \n",
    "    return pd.DataFrame(dataset), nb_of_phrases+1"
   ]
  },
  {
   "cell_type": "code",
   "execution_count": 94,
   "metadata": {
    "colab": {
     "autoexec": {
      "startup": false,
      "wait_interval": 0
     }
    },
    "colab_type": "code",
    "id": "q1OlcYPo1Att"
   },
   "outputs": [],
   "source": [
    "def corpus_fingerprint(aDataframe, nb_of_biphrases):\n",
    "    \"\"\"\n",
    "    Create the distributionnal signature of each word in the corpus\n",
    "    Input:\n",
    "        -aDataFrame: the corpus DataFrame\n",
    "        -nb_of_biphrases: number of phrases in the corpus\n",
    "    Return:\n",
    "        a DataFrame: corpus fingerprint, the columns are the words in the corpus\n",
    "    \"\"\"\n",
    "    print(\"Normalization strategy:\", normalization_strategy)\n",
    "    fingerprints = {}\n",
    "    current_bi_phrase_index = 0\n",
    "    nb_word_in_corpus = aDataframe[aDataframe.word != \"\\n\"].word.size\n",
    "    words_in_current_phrase = []\n",
    "    for index, row in aDataframe.iterrows():\n",
    "        if current_bi_phrase_index > nb_of_biphrases:\n",
    "            break\n",
    "            \n",
    "        word = row['word']\n",
    "        \n",
    "        if word != \"\\n\":\n",
    "            words_in_current_phrase.append(word)\n",
    "            if word not in fingerprints:\n",
    "                fingerprints[word] = np.zeros(nb_of_biphrases, dtype=np.float32)\n",
    "            fingerprints[word][current_bi_phrase_index] += 1\n",
    "        else:\n",
    "            nb_word_in_current_phrase = len(words_in_current_phrase)\n",
    "#             for w in words_in_current_phrase:\n",
    "#                 fingerprints[w][current_bi_phrase_index] = nb_word_in_corpus / fingerprints[w][current_bi_phrase_index]                \n",
    "            current_bi_phrase_index += 1\n",
    "            words_in_current_phrase = []\n",
    "        \n",
    "    for word in fingerprints:\n",
    "        for i in range(nb_of_biphrases):\n",
    "            if fingerprints[word][i] != 0:\n",
    "                if normalization_strategy == \"exp\":\n",
    "                    fingerprints[word][i] = np.exp(nb_word_in_corpus) / np.exp(fingerprints[word][i])\n",
    "                elif normalization_strategy == \"log\":\n",
    "                    fingerprints[word][i] = np.log(nb_word_in_corpus) / (np.log(fingerprints[word][i]) or 1)\n",
    "                else:\n",
    "                    fingerprints[word][i] = nb_word_in_corpus / fingerprints[word][i]\n",
    "#         fingerprints[word][nb_of_biphrases] = nb_word_in_corpus / aDataframe[aDataframe.word == word].word.size\n",
    "    ret = pd.DataFrame(fingerprints)\n",
    "    \n",
    "    if is_zennaki:\n",
    "        ret[ret > 0] = 1\n",
    "    elif normalization_strategy == \"max\":\n",
    "        _max = ret.max().max()\n",
    "        ret[ret > 0] = _max / ret[ret > 0]\n",
    "        \n",
    "    return ret"
   ]
  },
  {
   "cell_type": "code",
   "execution_count": 6,
   "metadata": {
    "colab": {
     "autoexec": {
      "startup": false,
      "wait_interval": 0
     }
    },
    "colab_type": "code",
    "id": "q1OlcYPo1Att"
   },
   "outputs": [],
   "source": [
    "def corpus2trainingdata(aDataframe, fingerprintsDataFrame):\n",
    "    \"\"\"\n",
    "    Convert corpus to training data => numpy array\n",
    "    \n",
    "    Input:\n",
    "        -aDataFrame: Corpus dataframe\n",
    "        -fingerprintsDataFrame: distributionnal signature of words in the corpus\n",
    "    Return:\n",
    "        (X, y): X is the array of words (signature) in the corpus and y is the corresponding labels (NE tags)\n",
    "    \"\"\"\n",
    "    X = np.zeros((aDataframe.shape[0], fingerprintsDataFrame.shape[0]), dtype=np.int8)\n",
    "    y = np.zeros(aDataframe.shape[0], dtype=np.int8)\n",
    "    i = 0\n",
    "    for row in aDataframe.iterrows():\n",
    "        X[i] = fingerprintsDataFrame[row[1]['word']].values\n",
    "        y[i] = tag2int[getTag(row[1]['ne-tag'])]\n",
    "        i += 1\n",
    "    return X, y"
   ]
  },
  {
   "cell_type": "code",
   "execution_count": 7,
   "metadata": {
    "colab": {
     "autoexec": {
      "startup": false,
      "wait_interval": 0
     }
    },
    "colab_type": "code",
    "id": "q1OlcYPo1Att"
   },
   "outputs": [],
   "source": [
    "# A utility function to convert NE tags\n",
    "def ne_type(aType):\n",
    "    aType = aType.lower()\n",
    "    if 'per' in aType:\n",
    "        t =  'NE' if BINARY else 'PER' \n",
    "    elif 'loc' in aType:\n",
    "        t =  'NE' if BINARY else 'LOC'\n",
    "    elif 'org' in aType:\n",
    "        t =  'NE' if BINARY else 'ORG'\n",
    "    elif 'hour' in aType:\n",
    "        t =  'NE' if BINARY else 'MISC'\n",
    "    elif aType != 'o' and len(aType) > 0 :\n",
    "        t =  'NE' if BINARY else 'MISC'\n",
    "    else:\n",
    "        t = 'O'\n",
    "    return t"
   ]
  },
  {
   "cell_type": "code",
   "execution_count": 8,
   "metadata": {
    "colab": {
     "autoexec": {
      "startup": false,
      "wait_interval": 0
     }
    },
    "colab_type": "code",
    "id": "q1OlcYPo1Att"
   },
   "outputs": [],
   "source": [
    "def P_R_F1(y_pred, y_true, neg_class):\n",
    "    same = y_pred[y_true==y_pred]\n",
    "    tp = same[same != neg_class].size\n",
    "    nb_of_pos_exple = y_true[y_true != neg_class].size\n",
    "    nb_of_pos_pred = y_pred[y_pred != neg_class].size\n",
    "    p = r = f1 = 0\n",
    "    try:\n",
    "        p = np.round(tp*100/nb_of_pos_pred, 2)\n",
    "    except ZeroDivisionError:\n",
    "        print(\"number of correct positive predictions is 0\")\n",
    "        \n",
    "    try:\n",
    "        r = np.round(tp*100/nb_of_pos_exple, 2)\n",
    "    except ZeroDivisionError:\n",
    "        print(\"number of position exple is 0\")\n",
    "        \n",
    "    try:\n",
    "        f1 = np.round(2*r*p/(r+p), 2)\n",
    "    except ZeroDivisionError:\n",
    "        print(\"Recall and precision are 0\")\n",
    "\n",
    "    return p, r, f1"
   ]
  },
  {
   "cell_type": "code",
   "execution_count": 9,
   "metadata": {},
   "outputs": [],
   "source": [
    "def shuffle_data(X, y):\n",
    "    indices = [i for i in  range(X.shape[0])]\n",
    "    np.random.shuffle(indices)\n",
    "    return X[indices], y[indices]"
   ]
  },
  {
   "cell_type": "code",
   "execution_count": 10,
   "metadata": {
    "colab": {
     "autoexec": {
      "startup": false,
      "wait_interval": 0
     },
     "base_uri": "https://localhost:8080/",
     "height": 238,
     "output_extras": [
      {
       "item_id": 1
      }
     ]
    },
    "colab_type": "code",
    "executionInfo": {
     "elapsed": 1145,
     "status": "ok",
     "timestamp": 1515671862146,
     "user": {
      "displayName": "Michael Franklin Mbouopda",
      "photoUrl": "//lh3.googleusercontent.com/-2_Vuj9ESsJ0/AAAAAAAAAAI/AAAAAAAABSc/r-SRcN0jWPw/s50-c-k-no/photo.jpg",
      "userId": "117384351130599115261"
     },
     "user_tz": -60
    },
    "id": "cvpl6zMzxm6X",
    "outputId": "ef520c78-0fd3-494a-defd-fb3e2f01d371"
   },
   "outputs": [],
   "source": [
    "def create_model(input_dim, output_dim):\n",
    "    model = Sequential()\n",
    "    model.add(Dense(h1_size, input_dim=input_dim, activation='sigmoid', name=\"hidden1\"))\n",
    "    model.add(Dense(h2_size, activation='sigmoid', name=\"hidden2\"))\n",
    "    if BINARY:\n",
    "        model.add(Dense(1, activation='sigmoid', name=\"outputlayer\"))\n",
    "        model.compile(loss='binary_crossentropy', optimizer='rmsprop', metrics=['binary_accuracy'])\n",
    "    else:\n",
    "        model.add(Dense(output_dim, activation='softmax', name=\"outputlayer\"))\n",
    "        model.compile(loss='categorical_crossentropy', optimizer=\"rmsprop\", metrics=['accuracy'])\n",
    "    model.summary()\n",
    "    return model"
   ]
  },
  {
   "cell_type": "code",
   "execution_count": 11,
   "metadata": {
    "colab": {
     "autoexec": {
      "startup": false,
      "wait_interval": 0
     },
     "base_uri": "https://localhost:8080/",
     "height": 343,
     "output_extras": [
      {
       "item_id": 99
      },
      {
       "item_id": 223
      },
      {
       "item_id": 284
      },
      {
       "item_id": 347
      },
      {
       "item_id": 394
      },
      {
       "item_id": 445
      },
      {
       "item_id": 490
      },
      {
       "item_id": 542
      },
      {
       "item_id": 590
      },
      {
       "item_id": 639
      },
      {
       "item_id": 684
      }
     ]
    },
    "colab_type": "code",
    "executionInfo": {
     "elapsed": 676115,
     "status": "ok",
     "timestamp": 1515672664054,
     "user": {
      "displayName": "Michael Franklin Mbouopda",
      "photoUrl": "//lh3.googleusercontent.com/-2_Vuj9ESsJ0/AAAAAAAAAAI/AAAAAAAABSc/r-SRcN0jWPw/s50-c-k-no/photo.jpg",
      "userId": "117384351130599115261"
     },
     "user_tz": -60
    },
    "id": "uY2-NcCZxpXe",
    "outputId": "adcd5c23-d0c6-463a-bc11-db5d415eba1d"
   },
   "outputs": [],
   "source": [
    "def train_model(model, X_train, y_train, X_val, y_val, epochs=epochs):\n",
    "    # stop learning if the error is the same between two consecutive epochs\n",
    "    early_stop = EarlyStopping(patience=20, verbose=2)\n",
    "    \n",
    "    # saving best model\n",
    "    best_model_cp = ModelCheckpoint(best_model_file, save_best_only=True, verbose=1)\n",
    "    \n",
    "    model.fit(X_train, y_train, validation_data=(X_val, y_val), epochs=epochs, verbose=0, shuffle=shuffle, callbacks=[best_model_cp, early_stop])\n",
    "    \n",
    "    #loading and returning the best model\n",
    "    return keras.models.load_model(best_model_file)"
   ]
  },
  {
   "cell_type": "code",
   "execution_count": 12,
   "metadata": {},
   "outputs": [],
   "source": [
    "def predict(model, X, y, binary=BINARY):\n",
    "    if BINARY:\n",
    "        y_pred = np.round(model.predict(X))\n",
    "        y_true = y\n",
    "    else:\n",
    "        predictions = model.predict(X)\n",
    "        y_pred = np.array([np.argmax(p) for p in predictions])\n",
    "        y_true = np.array([np.argmax(t) for t in y ])\n",
    "    return y_true, y_pred"
   ]
  },
  {
   "cell_type": "code",
   "execution_count": 13,
   "metadata": {
    "colab": {
     "autoexec": {
      "startup": false,
      "wait_interval": 0
     },
     "base_uri": "https://localhost:8080/",
     "height": 34,
     "output_extras": [
      {
       "item_id": 1
      }
     ]
    },
    "colab_type": "code",
    "executionInfo": {
     "elapsed": 23179,
     "status": "ok",
     "timestamp": 1515672689915,
     "user": {
      "displayName": "Michael Franklin Mbouopda",
      "photoUrl": "//lh3.googleusercontent.com/-2_Vuj9ESsJ0/AAAAAAAAAAI/AAAAAAAABSc/r-SRcN0jWPw/s50-c-k-no/photo.jpg",
      "userId": "117384351130599115261"
     },
     "user_tz": -60
    },
    "id": "N33cmgKEyPOb",
    "outputId": "917cdaec-b68c-47d5-a8ea-bd6ef7387a67"
   },
   "outputs": [],
   "source": [
    "def model_performance(y_true, y_pred):\n",
    "    return P_R_F1(y_pred, y_true, tag2int['O']) #precision, recall, f1-score"
   ]
  },
  {
   "cell_type": "code",
   "execution_count": 14,
   "metadata": {},
   "outputs": [],
   "source": [
    "def model_performace_by_tag(y_true, y_pred, tag):\n",
    "    p, r, f1 = 0, 0, 0\n",
    "    \n",
    "    eq = y_pred[y_pred==y_true]\n",
    "    correctly_pred = eq[eq==tag].size\n",
    "    try:\n",
    "        p = np.round(100 * correctly_pred / y_pred[y_pred==tag].size, 2)\n",
    "    except ZeroDivisionError:\n",
    "        pass\n",
    "    \n",
    "    try:\n",
    "        r = np.round(100 * correctly_pred / y_true[y_true==tag].size, 2)\n",
    "    except ZeroDivisionError:\n",
    "        pass\n",
    "    \n",
    "    try:\n",
    "        f1 = np.round(2 * r * p / (r + p), 2)\n",
    "    except ZeroDivisionError:\n",
    "        pass\n",
    "    \n",
    "    return p, r, f1"
   ]
  },
  {
   "cell_type": "code",
   "execution_count": 15,
   "metadata": {},
   "outputs": [],
   "source": [
    "def algoEval(X_train, y_train, X_val, y_val, X_ewo, y_ewo, epochs=epochs, model=None):\n",
    "    \"\"\"\n",
    "    Train a model on (X, y) and validate on (X_val, y_val) then project on (X_ewo)\n",
    "    \"\"\"\n",
    "    test_precision, train_precision, ewo_precision = [], [], []\n",
    "    test_recall, train_recall, ewo_recall = [], [], []\n",
    "    test_fscore, train_fscore, ewo_fscore = [], [], []\n",
    "    \n",
    "    test_result_by_tag = {}\n",
    "    train_result_by_tag = {}\n",
    "    ewo_result_by_tag = {}\n",
    "    for t in tagSet:\n",
    "        f1_key = \"F1-\"+t\n",
    "        p_key = \"P-\"+t\n",
    "        r_key = \"R-\"+t\n",
    "        train_result_by_tag[f1_key], train_result_by_tag[p_key], train_result_by_tag[r_key] = [], [], []\n",
    "        test_result_by_tag[f1_key], test_result_by_tag[p_key], test_result_by_tag[r_key] = [], [], []\n",
    "        ewo_result_by_tag[f1_key], ewo_result_by_tag[p_key], ewo_result_by_tag[r_key] = [], [], []\n",
    "\n",
    "    m = train_model(model, X_train, y_train, X_val, y_val, epochs=epochs)\n",
    "        \n",
    "    y_true, y_pred = predict(m, X_train, y_train)\n",
    "    p_train, r_train, f1_train = model_performance(y_true, y_pred)\n",
    "        \n",
    "    y_true_val, y_pred_val = predict(m, X_val, y_val)\n",
    "    p_val, r_val, f1_val = model_performance(y_true_val, y_pred_val)\n",
    "        \n",
    "    y_true_ewo, y_pred_ewo = predict(m, X_ewo, y_ewo) \n",
    "    p_ewo, r_ewo, f1_ewo = model_performance(y_true_ewo, y_pred_ewo)\n",
    "        \n",
    "    for t in range(len(int2tag)):\n",
    "        f1_key = \"F1-\" + int2tag[t]\n",
    "        p_key = \"P-\" + int2tag[t]\n",
    "        r_key = \"R-\" + int2tag[t]\n",
    "            \n",
    "        p, r, f1 = model_performace_by_tag(y_true, y_pred, t)\n",
    "        train_result_by_tag[p_key].append(p)\n",
    "        train_result_by_tag[r_key].append(r)\n",
    "        train_result_by_tag[f1_key].append(f1)\n",
    "            \n",
    "        p, r, f1 = model_performace_by_tag(y_true_val, y_pred_val, t)\n",
    "        test_result_by_tag[p_key].append(p)\n",
    "        test_result_by_tag[r_key].append(r)\n",
    "        test_result_by_tag[f1_key].append(f1)\n",
    "            \n",
    "        p, r, f1 = model_performace_by_tag(y_true_ewo, y_pred_ewo, t)\n",
    "        ewo_result_by_tag[p_key].append(p)\n",
    "        ewo_result_by_tag[r_key].append(r)\n",
    "        ewo_result_by_tag[f1_key].append(f1)\n",
    "                \n",
    "    test_precision.append(p_val)\n",
    "    train_precision.append(p_train)\n",
    "    ewo_precision.append(p_ewo)\n",
    "        \n",
    "    test_recall.append(r_val)\n",
    "    train_recall.append(r_train)\n",
    "    ewo_recall.append(r_ewo)\n",
    "        \n",
    "    test_fscore.append(f1_val)\n",
    "    train_fscore.append(f1_train)\n",
    "    ewo_fscore.append(f1_ewo)\n",
    "    return pd.DataFrame({\n",
    "        'P_val': test_precision, \n",
    "        'P_train': train_precision, \n",
    "        'P_ewo': ewo_precision, 'R_val': test_recall, 'R_train': train_recall, \n",
    "        'R_ewo': ewo_recall, 'F1-val': test_fscore, 'F1-train': train_fscore, 'F1-ewo': ewo_fscore}), pd.DataFrame(train_result_by_tag), pd.DataFrame(test_result_by_tag), pd.DataFrame(ewo_result_by_tag)"
   ]
  },
  {
   "cell_type": "code",
   "execution_count": 16,
   "metadata": {},
   "outputs": [],
   "source": [
    "def algoCrossVal(X, y, X_ewo, y_ewo, k = 10, repeat=1): \n",
    "    \"\"\"\n",
    "    Traing a model with k-fold cross validation\n",
    "    We train the model `repeat` times to check it's stability\n",
    "    \"\"\"\n",
    "    block_size = int(X.shape[0] / k)   \n",
    "    output = None\n",
    "    model = None\n",
    "    train_by_tags, test_by_tags, ewo_by_tags = None, None, None\n",
    "    for it in range(repeat):\n",
    "        print(\"AlgoCrossValIter -\", it+1)\n",
    "        model = create_model(X.shape[1], len(tagSet))\n",
    "        results = None\n",
    "        train_by_tagsTmp, test_by_tagsTmp, ewo_by_tagsTmp = None, None, None\n",
    "        for i in range(k):\n",
    "            X_val, y_val = X[i*block_size:i*block_size+block_size], y[i*block_size:i*block_size+block_size]\n",
    "            X_train = np.concatenate((X[0:i*block_size], X[i*block_size+block_size:]))\n",
    "            y_train = np.concatenate((y[0:i*block_size], y[i*block_size+block_size:]))\n",
    "\n",
    "            X_train = X_train.reshape(X_train.shape[0], X_train.shape[1])\n",
    "            X_val = X_val.reshape(X_val.shape[0], X_val.shape[1])\n",
    "\n",
    "            result, train_by_tag, test_by_tag, ewo_by_tag = algoEval(X_train, y_train, X_val, y_val, X_ewo, y_ewo, model=model)\n",
    "            if results is None:\n",
    "                results = result.copy()\n",
    "                train_by_tagsTmp, test_by_tagsTmp, ewo_by_tagsTmp = train_by_tag.copy(), test_by_tag.copy(), ewo_by_tag.copy()\n",
    "            else:\n",
    "                results = pd.concat([results, result], ignore_index=True)\n",
    "                train_by_tagsTmp = pd.concat([train_by_tagsTmp, train_by_tag], ignore_index=True)\n",
    "                test_by_tagsTmp = pd.concat([test_by_tagsTmp, test_by_tag], ignore_index=True)\n",
    "                ewo_by_tagsTmp = pd.concat([ewo_by_tagsTmp, ewo_by_tag], ignore_index=True)\n",
    "        \n",
    "        if output is None:\n",
    "            output = results.mean(axis=0).to_frame()\n",
    "            train_by_tags = train_by_tagsTmp.mean(axis=0).to_frame()\n",
    "            test_by_tags = test_by_tagsTmp.mean(axis=0).to_frame()\n",
    "            ewo_by_tags = ewo_by_tagsTmp.mean(axis=0).to_frame()\n",
    "        else:\n",
    "            output = pd.concat([output, results.mean(axis=0).to_frame()], axis=1)\n",
    "            train_by_tags = pd.concat([train_by_tags, train_by_tagsTmp.mean(axis=0).to_frame()], axis=1)\n",
    "            test_by_tags = pd.concat([test_by_tags, test_by_tagsTmp.mean(axis=0).to_frame()], axis=1)\n",
    "            ewo_by_tags = pd.concat([ewo_by_tags, ewo_by_tagsTmp.mean(axis=0).to_frame()], axis=1)\n",
    "\n",
    "    return output, train_by_tags, test_by_tags, ewo_by_tags, model"
   ]
  },
  {
   "cell_type": "code",
   "execution_count": 17,
   "metadata": {
    "colab": {
     "autoexec": {
      "startup": false,
      "wait_interval": 0
     }
    },
    "colab_type": "code",
    "id": "TNN2TBckE8m_"
   },
   "outputs": [],
   "source": [
    "en_corpus, en_nb_of_phrases = load_corpus(en_corpus_file, max_nb_of_phrases)"
   ]
  },
  {
   "cell_type": "code",
   "execution_count": 18,
   "metadata": {},
   "outputs": [
    {
     "name": "stdout",
     "output_type": "stream",
     "text": [
      "Nb word in corpus 4170\n"
     ]
    }
   ],
   "source": [
    "nb_word_in_corpus = en_corpus[en_corpus.word != \"\\n\"].word.size\n",
    "print(\"Nb word in corpus\", nb_word_in_corpus)"
   ]
  },
  {
   "cell_type": "code",
   "execution_count": 19,
   "metadata": {},
   "outputs": [
    {
     "data": {
      "text/html": [
       "<div>\n",
       "<style scoped>\n",
       "    .dataframe tbody tr th:only-of-type {\n",
       "        vertical-align: middle;\n",
       "    }\n",
       "\n",
       "    .dataframe tbody tr th {\n",
       "        vertical-align: top;\n",
       "    }\n",
       "\n",
       "    .dataframe thead th {\n",
       "        text-align: right;\n",
       "    }\n",
       "</style>\n",
       "<table border=\"1\" class=\"dataframe\">\n",
       "  <thead>\n",
       "    <tr style=\"text-align: right;\">\n",
       "      <th></th>\n",
       "      <th>word</th>\n",
       "      <th>ne-tag</th>\n",
       "    </tr>\n",
       "  </thead>\n",
       "  <tbody>\n",
       "    <tr>\n",
       "      <th>1335</th>\n",
       "      <td>Sadducees</td>\n",
       "      <td>ORG</td>\n",
       "    </tr>\n",
       "  </tbody>\n",
       "</table>\n",
       "</div>"
      ],
      "text/plain": [
       "           word ne-tag\n",
       "1335  Sadducees    ORG"
      ]
     },
     "execution_count": 19,
     "metadata": {},
     "output_type": "execute_result"
    }
   ],
   "source": [
    "en_corpus.head()\n",
    "en_corpus.loc[en_corpus['ne-tag'] == 'ORG']"
   ]
  },
  {
   "cell_type": "code",
   "execution_count": 20,
   "metadata": {},
   "outputs": [
    {
     "name": "stdout",
     "output_type": "stream",
     "text": [
      "{'O': 0, 'MISC': 1, 'PER': 2, 'LOC': 3, 'ORG': 4}\n"
     ]
    }
   ],
   "source": [
    "tagSet = en_corpus[\"ne-tag\"].dropna().unique()\n",
    "if BINARY:\n",
    "    tagSet = ['NE', 'O']\n",
    "tag2int = {j: i for i, j in enumerate(tagSet)}\n",
    "int2tag = {i: j for i, j in enumerate(tagSet)}\n",
    "print(tag2int)"
   ]
  },
  {
   "cell_type": "code",
   "execution_count": 21,
   "metadata": {
    "colab": {
     "autoexec": {
      "startup": false,
      "wait_interval": 0
     },
     "base_uri": "https://localhost:8080/",
     "height": 34,
     "output_extras": [
      {
       "item_id": 1
      }
     ]
    },
    "colab_type": "code",
    "executionInfo": {
     "elapsed": 794,
     "status": "ok",
     "timestamp": 1515664141558,
     "user": {
      "displayName": "Michael Franklin Mbouopda",
      "photoUrl": "//lh3.googleusercontent.com/-2_Vuj9ESsJ0/AAAAAAAAAAI/AAAAAAAABSc/r-SRcN0jWPw/s50-c-k-no/photo.jpg",
      "userId": "117384351130599115261"
     },
     "user_tz": -60
    },
    "id": "m85WcghdzCph",
    "outputId": "9fa6817e-15c4-4205-f8f4-82c30c2cb610"
   },
   "outputs": [
    {
     "data": {
      "text/plain": [
       "210"
      ]
     },
     "execution_count": 21,
     "metadata": {},
     "output_type": "execute_result"
    }
   ],
   "source": [
    "en_nb_of_phrases"
   ]
  },
  {
   "cell_type": "code",
   "execution_count": 22,
   "metadata": {
    "colab": {
     "autoexec": {
      "startup": false,
      "wait_interval": 0
     },
     "base_uri": "https://localhost:8080/",
     "height": 173,
     "output_extras": [
      {
       "item_id": 1
      }
     ]
    },
    "colab_type": "code",
    "executionInfo": {
     "elapsed": 992,
     "status": "ok",
     "timestamp": 1515664144298,
     "user": {
      "displayName": "Michael Franklin Mbouopda",
      "photoUrl": "//lh3.googleusercontent.com/-2_Vuj9ESsJ0/AAAAAAAAAAI/AAAAAAAABSc/r-SRcN0jWPw/s50-c-k-no/photo.jpg",
      "userId": "117384351130599115261"
     },
     "user_tz": -60
    },
    "id": "Gw9r-Q9jlmvg",
    "outputId": "8ee33794-5639-4c97-ea43-06a66d89e207"
   },
   "outputs": [
    {
     "data": {
      "text/html": [
       "<div>\n",
       "<style scoped>\n",
       "    .dataframe tbody tr th:only-of-type {\n",
       "        vertical-align: middle;\n",
       "    }\n",
       "\n",
       "    .dataframe tbody tr th {\n",
       "        vertical-align: top;\n",
       "    }\n",
       "\n",
       "    .dataframe thead th {\n",
       "        text-align: right;\n",
       "    }\n",
       "</style>\n",
       "<table border=\"1\" class=\"dataframe\">\n",
       "  <thead>\n",
       "    <tr style=\"text-align: right;\">\n",
       "      <th></th>\n",
       "      <th>word</th>\n",
       "      <th>ne-tag</th>\n",
       "    </tr>\n",
       "  </thead>\n",
       "  <tbody>\n",
       "    <tr>\n",
       "      <th>count</th>\n",
       "      <td>4379</td>\n",
       "      <td>4170</td>\n",
       "    </tr>\n",
       "    <tr>\n",
       "      <th>unique</th>\n",
       "      <td>904</td>\n",
       "      <td>5</td>\n",
       "    </tr>\n",
       "    <tr>\n",
       "      <th>top</th>\n",
       "      <td>the</td>\n",
       "      <td>O</td>\n",
       "    </tr>\n",
       "    <tr>\n",
       "      <th>freq</th>\n",
       "      <td>313</td>\n",
       "      <td>3779</td>\n",
       "    </tr>\n",
       "  </tbody>\n",
       "</table>\n",
       "</div>"
      ],
      "text/plain": [
       "        word ne-tag\n",
       "count   4379   4170\n",
       "unique   904      5\n",
       "top      the      O\n",
       "freq     313   3779"
      ]
     },
     "execution_count": 22,
     "metadata": {},
     "output_type": "execute_result"
    }
   ],
   "source": [
    "en_corpus.describe()"
   ]
  },
  {
   "cell_type": "code",
   "execution_count": 23,
   "metadata": {
    "colab": {
     "autoexec": {
      "startup": false,
      "wait_interval": 0
     },
     "base_uri": "https://localhost:8080/",
     "height": 204,
     "output_extras": [
      {
       "item_id": 1
      }
     ]
    },
    "colab_type": "code",
    "executionInfo": {
     "elapsed": 1056,
     "status": "ok",
     "timestamp": 1515664147270,
     "user": {
      "displayName": "Michael Franklin Mbouopda",
      "photoUrl": "//lh3.googleusercontent.com/-2_Vuj9ESsJ0/AAAAAAAAAAI/AAAAAAAABSc/r-SRcN0jWPw/s50-c-k-no/photo.jpg",
      "userId": "117384351130599115261"
     },
     "user_tz": -60
    },
    "id": "EZ_5FqH3yxhU",
    "outputId": "a129592b-9fa2-4937-a35a-a73245aef4a8"
   },
   "outputs": [
    {
     "data": {
      "text/html": [
       "<div>\n",
       "<style scoped>\n",
       "    .dataframe tbody tr th:only-of-type {\n",
       "        vertical-align: middle;\n",
       "    }\n",
       "\n",
       "    .dataframe tbody tr th {\n",
       "        vertical-align: top;\n",
       "    }\n",
       "\n",
       "    .dataframe thead th {\n",
       "        text-align: right;\n",
       "    }\n",
       "</style>\n",
       "<table border=\"1\" class=\"dataframe\">\n",
       "  <thead>\n",
       "    <tr style=\"text-align: right;\">\n",
       "      <th></th>\n",
       "      <th>word</th>\n",
       "      <th>ne-tag</th>\n",
       "    </tr>\n",
       "  </thead>\n",
       "  <tbody>\n",
       "    <tr>\n",
       "      <th>0</th>\n",
       "      <td>The</td>\n",
       "      <td>O</td>\n",
       "    </tr>\n",
       "    <tr>\n",
       "      <th>1</th>\n",
       "      <td>Promise</td>\n",
       "      <td>O</td>\n",
       "    </tr>\n",
       "    <tr>\n",
       "      <th>2</th>\n",
       "      <td>of</td>\n",
       "      <td>O</td>\n",
       "    </tr>\n",
       "    <tr>\n",
       "      <th>3</th>\n",
       "      <td>the</td>\n",
       "      <td>O</td>\n",
       "    </tr>\n",
       "    <tr>\n",
       "      <th>4</th>\n",
       "      <td>Holy</td>\n",
       "      <td>MISC</td>\n",
       "    </tr>\n",
       "    <tr>\n",
       "      <th>5</th>\n",
       "      <td>Spirit</td>\n",
       "      <td>MISC</td>\n",
       "    </tr>\n",
       "    <tr>\n",
       "      <th>6</th>\n",
       "      <td>\\n</td>\n",
       "      <td>None</td>\n",
       "    </tr>\n",
       "    <tr>\n",
       "      <th>7</th>\n",
       "      <td>In</td>\n",
       "      <td>O</td>\n",
       "    </tr>\n",
       "    <tr>\n",
       "      <th>8</th>\n",
       "      <td>the</td>\n",
       "      <td>O</td>\n",
       "    </tr>\n",
       "    <tr>\n",
       "      <th>9</th>\n",
       "      <td>first</td>\n",
       "      <td>O</td>\n",
       "    </tr>\n",
       "  </tbody>\n",
       "</table>\n",
       "</div>"
      ],
      "text/plain": [
       "      word ne-tag\n",
       "0      The      O\n",
       "1  Promise      O\n",
       "2       of      O\n",
       "3      the      O\n",
       "4     Holy   MISC\n",
       "5   Spirit   MISC\n",
       "6       \\n   None\n",
       "7       In      O\n",
       "8      the      O\n",
       "9    first      O"
      ]
     },
     "execution_count": 23,
     "metadata": {},
     "output_type": "execute_result"
    }
   ],
   "source": [
    "en_corpus.head(10)"
   ]
  },
  {
   "cell_type": "code",
   "execution_count": 24,
   "metadata": {},
   "outputs": [
    {
     "name": "stdout",
     "output_type": "stream",
     "text": [
      "O % = 86.3 %\n",
      "MISC % = 2.4 %\n",
      "PER % = 5.59 %\n",
      "LOC % = 0.91 %\n",
      "ORG % = 0.02 %\n"
     ]
    }
   ],
   "source": [
    "for tag in tagSet:\n",
    "    print(\"{0} % = {1} %\".format(tag, np.round(en_corpus[en_corpus['ne-tag']==tag].shape[0] * 100 / en_corpus[en_corpus['ne-tag']!='\\n'].shape[0], 2)))"
   ]
  },
  {
   "cell_type": "code",
   "execution_count": 25,
   "metadata": {},
   "outputs": [
    {
     "name": "stdout",
     "output_type": "stream",
     "text": [
      "O % = 89.16 %\n",
      "MISC % = 1.88 %\n",
      "PER % = 8.96 %\n",
      "LOC % = 1.99 %\n",
      "ORG % = 0.11 %\n"
     ]
    }
   ],
   "source": [
    "for tag in tagSet:\n",
    "    print(\"{0} % = {1} %\".format(tag, np.round(en_corpus[en_corpus['ne-tag']==tag].word.unique().shape[0] * 100 / en_corpus[en_corpus['ne-tag']!='\\n'].word.unique().shape[0], 2)))"
   ]
  },
  {
   "cell_type": "code",
   "execution_count": 26,
   "metadata": {},
   "outputs": [
    {
     "data": {
      "text/plain": [
       "(209, 2)"
      ]
     },
     "execution_count": 26,
     "metadata": {},
     "output_type": "execute_result"
    }
   ],
   "source": [
    "en_corpus[en_corpus.word == \"\\n\"].shape"
   ]
  },
  {
   "cell_type": "code",
   "execution_count": 27,
   "metadata": {
    "colab": {
     "autoexec": {
      "startup": false,
      "wait_interval": 0
     },
     "base_uri": "https://localhost:8080/",
     "height": 190,
     "output_extras": [
      {
       "item_id": 1
      },
      {
       "item_id": 2
      }
     ]
    },
    "colab_type": "code",
    "executionInfo": {
     "elapsed": 40378,
     "status": "ok",
     "timestamp": 1515671247748,
     "user": {
      "displayName": "Michael Franklin Mbouopda",
      "photoUrl": "//lh3.googleusercontent.com/-2_Vuj9ESsJ0/AAAAAAAAAAI/AAAAAAAABSc/r-SRcN0jWPw/s50-c-k-no/photo.jpg",
      "userId": "117384351130599115261"
     },
     "user_tz": -60
    },
    "id": "Mx1Yl-Npvh12",
    "outputId": "29d26922-46c0-47b6-9d1b-26ac26b118d4"
   },
   "outputs": [
    {
     "name": "stdout",
     "output_type": "stream",
     "text": [
      "Nb of bi-phrases 210\n"
     ]
    }
   ],
   "source": [
    "print(\"Nb of bi-phrases\", en_nb_of_phrases)"
   ]
  },
  {
   "cell_type": "code",
   "execution_count": 97,
   "metadata": {
    "colab": {
     "autoexec": {
      "startup": false,
      "wait_interval": 0
     },
     "base_uri": "https://localhost:8080/",
     "height": 190,
     "output_extras": [
      {
       "item_id": 1
      },
      {
       "item_id": 2
      }
     ]
    },
    "colab_type": "code",
    "executionInfo": {
     "elapsed": 40378,
     "status": "ok",
     "timestamp": 1515671247748,
     "user": {
      "displayName": "Michael Franklin Mbouopda",
      "photoUrl": "//lh3.googleusercontent.com/-2_Vuj9ESsJ0/AAAAAAAAAAI/AAAAAAAABSc/r-SRcN0jWPw/s50-c-k-no/photo.jpg",
      "userId": "117384351130599115261"
     },
     "user_tz": -60
    },
    "id": "Mx1Yl-Npvh12",
    "outputId": "29d26922-46c0-47b6-9d1b-26ac26b118d4"
   },
   "outputs": [
    {
     "name": "stdout",
     "output_type": "stream",
     "text": [
      "Normalization strategy: log\n"
     ]
    }
   ],
   "source": [
    "normalization_strategy = \"log\"\n",
    "en_fingerprints = corpus_fingerprint(en_corpus, en_nb_of_phrases)"
   ]
  },
  {
   "cell_type": "code",
   "execution_count": 99,
   "metadata": {},
   "outputs": [
    {
     "data": {
      "text/html": [
       "<div>\n",
       "<style scoped>\n",
       "    .dataframe tbody tr th:only-of-type {\n",
       "        vertical-align: middle;\n",
       "    }\n",
       "\n",
       "    .dataframe tbody tr th {\n",
       "        vertical-align: top;\n",
       "    }\n",
       "\n",
       "    .dataframe thead th {\n",
       "        text-align: right;\n",
       "    }\n",
       "</style>\n",
       "<table border=\"1\" class=\"dataframe\">\n",
       "  <thead>\n",
       "    <tr style=\"text-align: right;\">\n",
       "      <th></th>\n",
       "      <th>The</th>\n",
       "      <th>Promise</th>\n",
       "      <th>of</th>\n",
       "      <th>the</th>\n",
       "      <th>Holy</th>\n",
       "      <th>Spirit</th>\n",
       "      <th>In</th>\n",
       "      <th>first</th>\n",
       "      <th>book</th>\n",
       "      <th>O</th>\n",
       "      <th>...</th>\n",
       "      <th>considered</th>\n",
       "      <th>dream</th>\n",
       "      <th>She</th>\n",
       "      <th>save</th>\n",
       "      <th>fulfill</th>\n",
       "      <th>Immanuel</th>\n",
       "      <th>us)</th>\n",
       "      <th>woke</th>\n",
       "      <th>sleep</th>\n",
       "      <th>knew</th>\n",
       "    </tr>\n",
       "  </thead>\n",
       "  <tbody>\n",
       "    <tr>\n",
       "      <th>0</th>\n",
       "      <td>8.335671</td>\n",
       "      <td>8.335671</td>\n",
       "      <td>8.335671</td>\n",
       "      <td>8.335671</td>\n",
       "      <td>8.335671</td>\n",
       "      <td>8.335671</td>\n",
       "      <td>0.000000</td>\n",
       "      <td>0.000000</td>\n",
       "      <td>0.000000</td>\n",
       "      <td>0.000000</td>\n",
       "      <td>...</td>\n",
       "      <td>0.0</td>\n",
       "      <td>0.0</td>\n",
       "      <td>0.0</td>\n",
       "      <td>0.0</td>\n",
       "      <td>0.0</td>\n",
       "      <td>0.0</td>\n",
       "      <td>0.0</td>\n",
       "      <td>0.0</td>\n",
       "      <td>0.0</td>\n",
       "      <td>0.0</td>\n",
       "    </tr>\n",
       "    <tr>\n",
       "      <th>1</th>\n",
       "      <td>0.000000</td>\n",
       "      <td>0.000000</td>\n",
       "      <td>0.000000</td>\n",
       "      <td>8.335671</td>\n",
       "      <td>0.000000</td>\n",
       "      <td>0.000000</td>\n",
       "      <td>8.335671</td>\n",
       "      <td>8.335671</td>\n",
       "      <td>8.335671</td>\n",
       "      <td>8.335671</td>\n",
       "      <td>...</td>\n",
       "      <td>0.0</td>\n",
       "      <td>0.0</td>\n",
       "      <td>0.0</td>\n",
       "      <td>0.0</td>\n",
       "      <td>0.0</td>\n",
       "      <td>0.0</td>\n",
       "      <td>0.0</td>\n",
       "      <td>0.0</td>\n",
       "      <td>0.0</td>\n",
       "      <td>0.0</td>\n",
       "    </tr>\n",
       "    <tr>\n",
       "      <th>2</th>\n",
       "      <td>0.000000</td>\n",
       "      <td>0.000000</td>\n",
       "      <td>0.000000</td>\n",
       "      <td>7.587455</td>\n",
       "      <td>8.335671</td>\n",
       "      <td>8.335671</td>\n",
       "      <td>0.000000</td>\n",
       "      <td>0.000000</td>\n",
       "      <td>0.000000</td>\n",
       "      <td>0.000000</td>\n",
       "      <td>...</td>\n",
       "      <td>0.0</td>\n",
       "      <td>0.0</td>\n",
       "      <td>0.0</td>\n",
       "      <td>0.0</td>\n",
       "      <td>0.0</td>\n",
       "      <td>0.0</td>\n",
       "      <td>0.0</td>\n",
       "      <td>0.0</td>\n",
       "      <td>0.0</td>\n",
       "      <td>0.0</td>\n",
       "    </tr>\n",
       "    <tr>\n",
       "      <th>3</th>\n",
       "      <td>0.000000</td>\n",
       "      <td>0.000000</td>\n",
       "      <td>8.335671</td>\n",
       "      <td>8.335671</td>\n",
       "      <td>0.000000</td>\n",
       "      <td>0.000000</td>\n",
       "      <td>0.000000</td>\n",
       "      <td>0.000000</td>\n",
       "      <td>0.000000</td>\n",
       "      <td>0.000000</td>\n",
       "      <td>...</td>\n",
       "      <td>0.0</td>\n",
       "      <td>0.0</td>\n",
       "      <td>0.0</td>\n",
       "      <td>0.0</td>\n",
       "      <td>0.0</td>\n",
       "      <td>0.0</td>\n",
       "      <td>0.0</td>\n",
       "      <td>0.0</td>\n",
       "      <td>0.0</td>\n",
       "      <td>0.0</td>\n",
       "    </tr>\n",
       "    <tr>\n",
       "      <th>4</th>\n",
       "      <td>0.000000</td>\n",
       "      <td>0.000000</td>\n",
       "      <td>8.335671</td>\n",
       "      <td>12.025831</td>\n",
       "      <td>0.000000</td>\n",
       "      <td>0.000000</td>\n",
       "      <td>0.000000</td>\n",
       "      <td>0.000000</td>\n",
       "      <td>0.000000</td>\n",
       "      <td>0.000000</td>\n",
       "      <td>...</td>\n",
       "      <td>0.0</td>\n",
       "      <td>0.0</td>\n",
       "      <td>0.0</td>\n",
       "      <td>0.0</td>\n",
       "      <td>0.0</td>\n",
       "      <td>0.0</td>\n",
       "      <td>0.0</td>\n",
       "      <td>0.0</td>\n",
       "      <td>0.0</td>\n",
       "      <td>0.0</td>\n",
       "    </tr>\n",
       "    <tr>\n",
       "      <th>5</th>\n",
       "      <td>0.000000</td>\n",
       "      <td>0.000000</td>\n",
       "      <td>0.000000</td>\n",
       "      <td>8.335671</td>\n",
       "      <td>8.335671</td>\n",
       "      <td>8.335671</td>\n",
       "      <td>0.000000</td>\n",
       "      <td>0.000000</td>\n",
       "      <td>0.000000</td>\n",
       "      <td>0.000000</td>\n",
       "      <td>...</td>\n",
       "      <td>0.0</td>\n",
       "      <td>0.0</td>\n",
       "      <td>0.0</td>\n",
       "      <td>0.0</td>\n",
       "      <td>0.0</td>\n",
       "      <td>0.0</td>\n",
       "      <td>0.0</td>\n",
       "      <td>0.0</td>\n",
       "      <td>0.0</td>\n",
       "      <td>0.0</td>\n",
       "    </tr>\n",
       "    <tr>\n",
       "      <th>6</th>\n",
       "      <td>8.335671</td>\n",
       "      <td>0.000000</td>\n",
       "      <td>0.000000</td>\n",
       "      <td>0.000000</td>\n",
       "      <td>0.000000</td>\n",
       "      <td>0.000000</td>\n",
       "      <td>0.000000</td>\n",
       "      <td>0.000000</td>\n",
       "      <td>0.000000</td>\n",
       "      <td>0.000000</td>\n",
       "      <td>...</td>\n",
       "      <td>0.0</td>\n",
       "      <td>0.0</td>\n",
       "      <td>0.0</td>\n",
       "      <td>0.0</td>\n",
       "      <td>0.0</td>\n",
       "      <td>0.0</td>\n",
       "      <td>0.0</td>\n",
       "      <td>0.0</td>\n",
       "      <td>0.0</td>\n",
       "      <td>0.0</td>\n",
       "    </tr>\n",
       "    <tr>\n",
       "      <th>7</th>\n",
       "      <td>0.000000</td>\n",
       "      <td>0.000000</td>\n",
       "      <td>0.000000</td>\n",
       "      <td>8.335671</td>\n",
       "      <td>0.000000</td>\n",
       "      <td>0.000000</td>\n",
       "      <td>0.000000</td>\n",
       "      <td>0.000000</td>\n",
       "      <td>0.000000</td>\n",
       "      <td>0.000000</td>\n",
       "      <td>...</td>\n",
       "      <td>0.0</td>\n",
       "      <td>0.0</td>\n",
       "      <td>0.0</td>\n",
       "      <td>0.0</td>\n",
       "      <td>0.0</td>\n",
       "      <td>0.0</td>\n",
       "      <td>0.0</td>\n",
       "      <td>0.0</td>\n",
       "      <td>0.0</td>\n",
       "      <td>0.0</td>\n",
       "    </tr>\n",
       "    <tr>\n",
       "      <th>8</th>\n",
       "      <td>0.000000</td>\n",
       "      <td>0.000000</td>\n",
       "      <td>0.000000</td>\n",
       "      <td>8.335671</td>\n",
       "      <td>0.000000</td>\n",
       "      <td>0.000000</td>\n",
       "      <td>0.000000</td>\n",
       "      <td>0.000000</td>\n",
       "      <td>0.000000</td>\n",
       "      <td>0.000000</td>\n",
       "      <td>...</td>\n",
       "      <td>0.0</td>\n",
       "      <td>0.0</td>\n",
       "      <td>0.0</td>\n",
       "      <td>0.0</td>\n",
       "      <td>0.0</td>\n",
       "      <td>0.0</td>\n",
       "      <td>0.0</td>\n",
       "      <td>0.0</td>\n",
       "      <td>0.0</td>\n",
       "      <td>0.0</td>\n",
       "    </tr>\n",
       "    <tr>\n",
       "      <th>9</th>\n",
       "      <td>0.000000</td>\n",
       "      <td>0.000000</td>\n",
       "      <td>8.335671</td>\n",
       "      <td>7.587455</td>\n",
       "      <td>8.335671</td>\n",
       "      <td>8.335671</td>\n",
       "      <td>0.000000</td>\n",
       "      <td>0.000000</td>\n",
       "      <td>0.000000</td>\n",
       "      <td>0.000000</td>\n",
       "      <td>...</td>\n",
       "      <td>0.0</td>\n",
       "      <td>0.0</td>\n",
       "      <td>0.0</td>\n",
       "      <td>0.0</td>\n",
       "      <td>0.0</td>\n",
       "      <td>0.0</td>\n",
       "      <td>0.0</td>\n",
       "      <td>0.0</td>\n",
       "      <td>0.0</td>\n",
       "      <td>0.0</td>\n",
       "    </tr>\n",
       "  </tbody>\n",
       "</table>\n",
       "<p>10 rows × 903 columns</p>\n",
       "</div>"
      ],
      "text/plain": [
       "        The   Promise        of        the      Holy    Spirit        In  \\\n",
       "0  8.335671  8.335671  8.335671   8.335671  8.335671  8.335671  0.000000   \n",
       "1  0.000000  0.000000  0.000000   8.335671  0.000000  0.000000  8.335671   \n",
       "2  0.000000  0.000000  0.000000   7.587455  8.335671  8.335671  0.000000   \n",
       "3  0.000000  0.000000  8.335671   8.335671  0.000000  0.000000  0.000000   \n",
       "4  0.000000  0.000000  8.335671  12.025831  0.000000  0.000000  0.000000   \n",
       "5  0.000000  0.000000  0.000000   8.335671  8.335671  8.335671  0.000000   \n",
       "6  8.335671  0.000000  0.000000   0.000000  0.000000  0.000000  0.000000   \n",
       "7  0.000000  0.000000  0.000000   8.335671  0.000000  0.000000  0.000000   \n",
       "8  0.000000  0.000000  0.000000   8.335671  0.000000  0.000000  0.000000   \n",
       "9  0.000000  0.000000  8.335671   7.587455  8.335671  8.335671  0.000000   \n",
       "\n",
       "      first      book         O  ...  considered  dream  She  save  fulfill  \\\n",
       "0  0.000000  0.000000  0.000000  ...         0.0    0.0  0.0   0.0      0.0   \n",
       "1  8.335671  8.335671  8.335671  ...         0.0    0.0  0.0   0.0      0.0   \n",
       "2  0.000000  0.000000  0.000000  ...         0.0    0.0  0.0   0.0      0.0   \n",
       "3  0.000000  0.000000  0.000000  ...         0.0    0.0  0.0   0.0      0.0   \n",
       "4  0.000000  0.000000  0.000000  ...         0.0    0.0  0.0   0.0      0.0   \n",
       "5  0.000000  0.000000  0.000000  ...         0.0    0.0  0.0   0.0      0.0   \n",
       "6  0.000000  0.000000  0.000000  ...         0.0    0.0  0.0   0.0      0.0   \n",
       "7  0.000000  0.000000  0.000000  ...         0.0    0.0  0.0   0.0      0.0   \n",
       "8  0.000000  0.000000  0.000000  ...         0.0    0.0  0.0   0.0      0.0   \n",
       "9  0.000000  0.000000  0.000000  ...         0.0    0.0  0.0   0.0      0.0   \n",
       "\n",
       "   Immanuel  us)  woke  sleep  knew  \n",
       "0       0.0  0.0   0.0    0.0   0.0  \n",
       "1       0.0  0.0   0.0    0.0   0.0  \n",
       "2       0.0  0.0   0.0    0.0   0.0  \n",
       "3       0.0  0.0   0.0    0.0   0.0  \n",
       "4       0.0  0.0   0.0    0.0   0.0  \n",
       "5       0.0  0.0   0.0    0.0   0.0  \n",
       "6       0.0  0.0   0.0    0.0   0.0  \n",
       "7       0.0  0.0   0.0    0.0   0.0  \n",
       "8       0.0  0.0   0.0    0.0   0.0  \n",
       "9       0.0  0.0   0.0    0.0   0.0  \n",
       "\n",
       "[10 rows x 903 columns]"
      ]
     },
     "execution_count": 99,
     "metadata": {},
     "output_type": "execute_result"
    }
   ],
   "source": [
    "en_fingerprints.head(10)"
   ]
  },
  {
   "cell_type": "code",
   "execution_count": 100,
   "metadata": {},
   "outputs": [
    {
     "data": {
      "text/plain": [
       "1.0"
      ]
     },
     "execution_count": 100,
     "metadata": {},
     "output_type": "execute_result"
    }
   ],
   "source": [
    "(4170 / nb_word_in_corpus)"
   ]
  },
  {
   "cell_type": "code",
   "execution_count": 101,
   "metadata": {},
   "outputs": [
    {
     "data": {
      "text/plain": [
       "(4379, 2)"
      ]
     },
     "execution_count": 101,
     "metadata": {},
     "output_type": "execute_result"
    }
   ],
   "source": [
    "en_corpus.shape"
   ]
  },
  {
   "cell_type": "code",
   "execution_count": 102,
   "metadata": {},
   "outputs": [
    {
     "data": {
      "text/plain": [
       "(210,)"
      ]
     },
     "execution_count": 102,
     "metadata": {},
     "output_type": "execute_result"
    }
   ],
   "source": [
    "en_fingerprints['you'].values.shape"
   ]
  },
  {
   "cell_type": "code",
   "execution_count": 103,
   "metadata": {},
   "outputs": [
    {
     "data": {
      "text/plain": [
       "(4170, 2)"
      ]
     },
     "execution_count": 103,
     "metadata": {},
     "output_type": "execute_result"
    }
   ],
   "source": [
    "en_corpus[en_corpus.word != \"\\n\"].shape"
   ]
  },
  {
   "cell_type": "code",
   "execution_count": 104,
   "metadata": {},
   "outputs": [
    {
     "data": {
      "text/html": [
       "<div>\n",
       "<style scoped>\n",
       "    .dataframe tbody tr th:only-of-type {\n",
       "        vertical-align: middle;\n",
       "    }\n",
       "\n",
       "    .dataframe tbody tr th {\n",
       "        vertical-align: top;\n",
       "    }\n",
       "\n",
       "    .dataframe thead th {\n",
       "        text-align: right;\n",
       "    }\n",
       "</style>\n",
       "<table border=\"1\" class=\"dataframe\">\n",
       "  <thead>\n",
       "    <tr style=\"text-align: right;\">\n",
       "      <th></th>\n",
       "      <th>text</th>\n",
       "    </tr>\n",
       "  </thead>\n",
       "  <tbody>\n",
       "    <tr>\n",
       "      <th>count</th>\n",
       "      <td>903</td>\n",
       "    </tr>\n",
       "    <tr>\n",
       "      <th>unique</th>\n",
       "      <td>903</td>\n",
       "    </tr>\n",
       "    <tr>\n",
       "      <th>top</th>\n",
       "      <td>ministry</td>\n",
       "    </tr>\n",
       "    <tr>\n",
       "      <th>freq</th>\n",
       "      <td>1</td>\n",
       "    </tr>\n",
       "  </tbody>\n",
       "</table>\n",
       "</div>"
      ],
      "text/plain": [
       "            text\n",
       "count        903\n",
       "unique       903\n",
       "top     ministry\n",
       "freq           1"
      ]
     },
     "execution_count": 104,
     "metadata": {},
     "output_type": "execute_result"
    }
   ],
   "source": [
    "if is_only_vocab:\n",
    "    text = list(en_corpus[en_corpus.word != \"\\n\"].word.unique())\n",
    "else:\n",
    "    text = list(en_corpus[en_corpus.word != \"\\n\"].word)\n",
    "en_vocab = pd.DataFrame({'text': text})\n",
    "en_vocab.describe()"
   ]
  },
  {
   "cell_type": "code",
   "execution_count": 105,
   "metadata": {
    "colab": {
     "autoexec": {
      "startup": false,
      "wait_interval": 0
     },
     "base_uri": "https://localhost:8080/",
     "height": 190,
     "output_extras": [
      {
       "item_id": 1
      },
      {
       "item_id": 2
      }
     ]
    },
    "colab_type": "code",
    "executionInfo": {
     "elapsed": 40378,
     "status": "ok",
     "timestamp": 1515671247748,
     "user": {
      "displayName": "Michael Franklin Mbouopda",
      "photoUrl": "//lh3.googleusercontent.com/-2_Vuj9ESsJ0/AAAAAAAAAAI/AAAAAAAABSc/r-SRcN0jWPw/s50-c-k-no/photo.jpg",
      "userId": "117384351130599115261"
     },
     "user_tz": -60
    },
    "id": "Mx1Yl-Npvh12",
    "outputId": "29d26922-46c0-47b6-9d1b-26ac26b118d4"
   },
   "outputs": [
    {
     "name": "stdout",
     "output_type": "stream",
     "text": [
      "(903, 210) (210, 903) (903,)\n"
     ]
    }
   ],
   "source": [
    "if is_only_vocab:\n",
    "    X = np.zeros((en_vocab.shape[0] * duplication, en_nb_of_phrases))\n",
    "    target = np.zeros((en_vocab.shape[0] * duplication))\n",
    "    p=0\n",
    "    for i, row in en_vocab.iterrows():\n",
    "        c = row.text\n",
    "        for j in range(duplication):\n",
    "            X[p] = en_fingerprints[c.split(\" \")[0]]\n",
    "            target[p] = tag2int[getTag(en_corpus[en_corpus.word == c.split(\" \")[-1:][0]]['ne-tag'].iloc[0])]\n",
    "            p+=1\n",
    "    X, target = shuffle_data(X, target)\n",
    "    print(X.shape, en_fingerprints.shape, target.shape)"
   ]
  },
  {
   "cell_type": "code",
   "execution_count": 106,
   "metadata": {},
   "outputs": [
    {
     "data": {
      "text/html": [
       "<div>\n",
       "<style scoped>\n",
       "    .dataframe tbody tr th:only-of-type {\n",
       "        vertical-align: middle;\n",
       "    }\n",
       "\n",
       "    .dataframe tbody tr th {\n",
       "        vertical-align: top;\n",
       "    }\n",
       "\n",
       "    .dataframe thead th {\n",
       "        text-align: right;\n",
       "    }\n",
       "</style>\n",
       "<table border=\"1\" class=\"dataframe\">\n",
       "  <thead>\n",
       "    <tr style=\"text-align: right;\">\n",
       "      <th></th>\n",
       "      <th>text</th>\n",
       "    </tr>\n",
       "  </thead>\n",
       "  <tbody>\n",
       "    <tr>\n",
       "      <th>883</th>\n",
       "      <td>Eliud</td>\n",
       "    </tr>\n",
       "    <tr>\n",
       "      <th>884</th>\n",
       "      <td>Eleazar</td>\n",
       "    </tr>\n",
       "    <tr>\n",
       "      <th>885</th>\n",
       "      <td>Matthan</td>\n",
       "    </tr>\n",
       "    <tr>\n",
       "      <th>886</th>\n",
       "      <td>husband</td>\n",
       "    </tr>\n",
       "    <tr>\n",
       "      <th>887</th>\n",
       "      <td>fourteen</td>\n",
       "    </tr>\n",
       "    <tr>\n",
       "      <th>888</th>\n",
       "      <td>unwilling</td>\n",
       "    </tr>\n",
       "    <tr>\n",
       "      <th>889</th>\n",
       "      <td>shame</td>\n",
       "    </tr>\n",
       "    <tr>\n",
       "      <th>890</th>\n",
       "      <td>resolved</td>\n",
       "    </tr>\n",
       "    <tr>\n",
       "      <th>891</th>\n",
       "      <td>divorce</td>\n",
       "    </tr>\n",
       "    <tr>\n",
       "      <th>892</th>\n",
       "      <td>quietly</td>\n",
       "    </tr>\n",
       "    <tr>\n",
       "      <th>893</th>\n",
       "      <td>considered</td>\n",
       "    </tr>\n",
       "    <tr>\n",
       "      <th>894</th>\n",
       "      <td>dream</td>\n",
       "    </tr>\n",
       "    <tr>\n",
       "      <th>895</th>\n",
       "      <td>She</td>\n",
       "    </tr>\n",
       "    <tr>\n",
       "      <th>896</th>\n",
       "      <td>save</td>\n",
       "    </tr>\n",
       "    <tr>\n",
       "      <th>897</th>\n",
       "      <td>fulfill</td>\n",
       "    </tr>\n",
       "    <tr>\n",
       "      <th>898</th>\n",
       "      <td>Immanuel</td>\n",
       "    </tr>\n",
       "    <tr>\n",
       "      <th>899</th>\n",
       "      <td>us)</td>\n",
       "    </tr>\n",
       "    <tr>\n",
       "      <th>900</th>\n",
       "      <td>woke</td>\n",
       "    </tr>\n",
       "    <tr>\n",
       "      <th>901</th>\n",
       "      <td>sleep</td>\n",
       "    </tr>\n",
       "    <tr>\n",
       "      <th>902</th>\n",
       "      <td>knew</td>\n",
       "    </tr>\n",
       "  </tbody>\n",
       "</table>\n",
       "</div>"
      ],
      "text/plain": [
       "           text\n",
       "883       Eliud\n",
       "884     Eleazar\n",
       "885     Matthan\n",
       "886     husband\n",
       "887    fourteen\n",
       "888   unwilling\n",
       "889       shame\n",
       "890    resolved\n",
       "891     divorce\n",
       "892     quietly\n",
       "893  considered\n",
       "894       dream\n",
       "895         She\n",
       "896        save\n",
       "897     fulfill\n",
       "898    Immanuel\n",
       "899         us)\n",
       "900        woke\n",
       "901       sleep\n",
       "902        knew"
      ]
     },
     "execution_count": 106,
     "metadata": {},
     "output_type": "execute_result"
    }
   ],
   "source": [
    "en_vocab[-20:]"
   ]
  },
  {
   "cell_type": "code",
   "execution_count": 107,
   "metadata": {},
   "outputs": [],
   "source": [
    "if not is_only_vocab:\n",
    "    X, target = corpus2trainingdata(en_corpus[en_corpus.word != \"\\n\"], en_fingerprints)"
   ]
  },
  {
   "cell_type": "code",
   "execution_count": 108,
   "metadata": {},
   "outputs": [],
   "source": [
    "if shuffle:\n",
    "    X, target = shuffle_data(X, target)"
   ]
  },
  {
   "cell_type": "code",
   "execution_count": 109,
   "metadata": {
    "colab": {
     "autoexec": {
      "startup": false,
      "wait_interval": 0
     },
     "base_uri": "https://localhost:8080/",
     "height": 102,
     "output_extras": [
      {
       "item_id": 1
      }
     ]
    },
    "colab_type": "code",
    "executionInfo": {
     "elapsed": 1032,
     "status": "ok",
     "timestamp": 1515671250872,
     "user": {
      "displayName": "Michael Franklin Mbouopda",
      "photoUrl": "//lh3.googleusercontent.com/-2_Vuj9ESsJ0/AAAAAAAAAAI/AAAAAAAABSc/r-SRcN0jWPw/s50-c-k-no/photo.jpg",
      "userId": "117384351130599115261"
     },
     "user_tz": -60
    },
    "id": "HLn_an5ExZSC",
    "outputId": "382c3159-7917-40e3-e469-27c244d86663"
   },
   "outputs": [
    {
     "data": {
      "text/plain": [
       "(903, 5)"
      ]
     },
     "execution_count": 109,
     "metadata": {},
     "output_type": "execute_result"
    }
   ],
   "source": [
    "y = target.copy()\n",
    "y[0:100]\n",
    "if not BINARY:\n",
    "    y = np_utils.to_categorical(y, len(tagSet))\n",
    "y.shape"
   ]
  },
  {
   "cell_type": "code",
   "execution_count": 110,
   "metadata": {},
   "outputs": [],
   "source": [
    "from sklearn.decomposition import PCA\n",
    "\n",
    "def visualize(X, y):\n",
    "    pca = PCA(n_components=2)\n",
    "    X_embeded = pca.fit_transform(X)\n",
    "    plt.figure(figsize=(5, 5))\n",
    "    plt.scatter(X_embeded[:, 0], X_embeded[:, 1], c=y)\n",
    "    plt.legend()\n",
    "    plt.show()"
   ]
  },
  {
   "cell_type": "code",
   "execution_count": 111,
   "metadata": {},
   "outputs": [],
   "source": [
    "# visualize(X, target)"
   ]
  },
  {
   "cell_type": "code",
   "execution_count": 112,
   "metadata": {
    "colab": {
     "autoexec": {
      "startup": false,
      "wait_interval": 0
     },
     "base_uri": "https://localhost:8080/",
     "height": 119,
     "output_extras": [
      {
       "item_id": 1
      }
     ]
    },
    "colab_type": "code",
    "executionInfo": {
     "elapsed": 899,
     "status": "ok",
     "timestamp": 1515671252070,
     "user": {
      "displayName": "Michael Franklin Mbouopda",
      "photoUrl": "//lh3.googleusercontent.com/-2_Vuj9ESsJ0/AAAAAAAAAAI/AAAAAAAABSc/r-SRcN0jWPw/s50-c-k-no/photo.jpg",
      "userId": "117384351130599115261"
     },
     "user_tz": -60
    },
    "id": "sF3M9I53xlY1",
    "outputId": "8d011439-2df0-4440-b334-7e21e44c2208"
   },
   "outputs": [
    {
     "name": "stdout",
     "output_type": "stream",
     "text": [
      "X_train.shape = (605, 210)\n",
      "y_train.shape = (605, 5)\n",
      "X_val.shape = (298, 210)\n",
      "y_val.shape = (298, 5)\n",
      "O % in training data = 87.44 %\n",
      "O % in validation data = 89.93 %\n",
      "MISC % in training data = 0.99 %\n",
      "MISC % in validation data = 1.68 %\n",
      "PER % in training data = 9.42 %\n",
      "PER % in validation data = 6.71 %\n",
      "LOC % in training data = 1.98 %\n",
      "LOC % in validation data = 1.68 %\n",
      "ORG % in training data = 0.17 %\n",
      "ORG % in validation data = 0.0 %\n"
     ]
    }
   ],
   "source": [
    "X_train, X_val, y_train, y_val = model_selection.train_test_split(X, y, test_size=0.33)\n",
    "X_train = X_train.reshape(X_train.shape[0], X_train.shape[1])\n",
    "X_val = X_val.reshape(X_val.shape[0], X_val.shape[1])\n",
    "print(\"X_train.shape =\", X_train.shape)\n",
    "print(\"y_train.shape =\", y_train.shape)\n",
    "print(\"X_val.shape =\", X_val.shape)\n",
    "print(\"y_val.shape =\", y_val.shape)\n",
    "\n",
    "tTarget = np.array([np.argmax(yy) for yy in y_train])\n",
    "vTarget = np.array([np.argmax(yy) for yy in y_val])\n",
    "\n",
    "for tag in tagSet:\n",
    "    print(\"{0} % in training data = {1} %\".format(tag, np.round(tTarget[tTarget==tag2int[tag]].size * 100 / tTarget.shape[0], 2)))\n",
    "    print(\"{0} % in validation data = {1} %\".format(tag, np.round(vTarget[vTarget==tag2int[tag]].size * 100 / vTarget.shape[0], 2)))"
   ]
  },
  {
   "cell_type": "code",
   "execution_count": 113,
   "metadata": {
    "colab": {
     "autoexec": {
      "startup": false,
      "wait_interval": 0
     },
     "base_uri": "https://localhost:8080/",
     "height": 173,
     "output_extras": [
      {
       "item_id": 1
      }
     ]
    },
    "colab_type": "code",
    "executionInfo": {
     "elapsed": 758,
     "status": "ok",
     "timestamp": 1515664313240,
     "user": {
      "displayName": "Michael Franklin Mbouopda",
      "photoUrl": "//lh3.googleusercontent.com/-2_Vuj9ESsJ0/AAAAAAAAAAI/AAAAAAAABSc/r-SRcN0jWPw/s50-c-k-no/photo.jpg",
      "userId": "117384351130599115261"
     },
     "user_tz": -60
    },
    "id": "OObRLXTr268N",
    "outputId": "6361a898-fd04-4e15-8aa7-936a12b3221a"
   },
   "outputs": [],
   "source": [
    "ewo_corpus, ewo_nb_of_phrases = load_corpus(ewo_corpus_file, max_nb_of_phrases)"
   ]
  },
  {
   "cell_type": "code",
   "execution_count": 114,
   "metadata": {},
   "outputs": [
    {
     "data": {
      "text/html": [
       "<div>\n",
       "<style scoped>\n",
       "    .dataframe tbody tr th:only-of-type {\n",
       "        vertical-align: middle;\n",
       "    }\n",
       "\n",
       "    .dataframe tbody tr th {\n",
       "        vertical-align: top;\n",
       "    }\n",
       "\n",
       "    .dataframe thead th {\n",
       "        text-align: right;\n",
       "    }\n",
       "</style>\n",
       "<table border=\"1\" class=\"dataframe\">\n",
       "  <thead>\n",
       "    <tr style=\"text-align: right;\">\n",
       "      <th></th>\n",
       "      <th>word</th>\n",
       "      <th>ne-tag</th>\n",
       "    </tr>\n",
       "  </thead>\n",
       "  <tbody>\n",
       "    <tr>\n",
       "      <th>6</th>\n",
       "      <td>Teofil</td>\n",
       "      <td>PER</td>\n",
       "    </tr>\n",
       "    <tr>\n",
       "      <th>15</th>\n",
       "      <td>Yesus</td>\n",
       "      <td>PER</td>\n",
       "    </tr>\n",
       "    <tr>\n",
       "      <th>86</th>\n",
       "      <td>Yohannes</td>\n",
       "      <td>PER</td>\n",
       "    </tr>\n",
       "    <tr>\n",
       "      <th>104</th>\n",
       "      <td>Yesus</td>\n",
       "      <td>PER</td>\n",
       "    </tr>\n",
       "    <tr>\n",
       "      <th>230</th>\n",
       "      <td>Yesus</td>\n",
       "      <td>PER</td>\n",
       "    </tr>\n",
       "    <tr>\n",
       "      <th>...</th>\n",
       "      <td>...</td>\n",
       "      <td>...</td>\n",
       "    </tr>\n",
       "    <tr>\n",
       "      <th>3676</th>\n",
       "      <td>Maria</td>\n",
       "      <td>PER</td>\n",
       "    </tr>\n",
       "    <tr>\n",
       "      <th>3697</th>\n",
       "      <td>Yesus</td>\n",
       "      <td>PER</td>\n",
       "    </tr>\n",
       "    <tr>\n",
       "      <th>3740</th>\n",
       "      <td>Emmanuel</td>\n",
       "      <td>PER</td>\n",
       "    </tr>\n",
       "    <tr>\n",
       "      <th>3750</th>\n",
       "      <td>Yosef</td>\n",
       "      <td>PER</td>\n",
       "    </tr>\n",
       "    <tr>\n",
       "      <th>3778</th>\n",
       "      <td>Yesus</td>\n",
       "      <td>PER</td>\n",
       "    </tr>\n",
       "  </tbody>\n",
       "</table>\n",
       "<p>253 rows × 2 columns</p>\n",
       "</div>"
      ],
      "text/plain": [
       "          word ne-tag\n",
       "6       Teofil    PER\n",
       "15       Yesus    PER\n",
       "86    Yohannes    PER\n",
       "104      Yesus    PER\n",
       "230      Yesus    PER\n",
       "...        ...    ...\n",
       "3676     Maria    PER\n",
       "3697     Yesus    PER\n",
       "3740  Emmanuel    PER\n",
       "3750     Yosef    PER\n",
       "3778     Yesus    PER\n",
       "\n",
       "[253 rows x 2 columns]"
      ]
     },
     "execution_count": 114,
     "metadata": {},
     "output_type": "execute_result"
    }
   ],
   "source": [
    "ewo_corpus.loc[ewo_corpus['ne-tag'] == 'PER']"
   ]
  },
  {
   "cell_type": "code",
   "execution_count": 115,
   "metadata": {
    "colab": {
     "autoexec": {
      "startup": false,
      "wait_interval": 0
     },
     "base_uri": "https://localhost:8080/",
     "height": 173,
     "output_extras": [
      {
       "item_id": 1
      }
     ]
    },
    "colab_type": "code",
    "executionInfo": {
     "elapsed": 758,
     "status": "ok",
     "timestamp": 1515664313240,
     "user": {
      "displayName": "Michael Franklin Mbouopda",
      "photoUrl": "//lh3.googleusercontent.com/-2_Vuj9ESsJ0/AAAAAAAAAAI/AAAAAAAABSc/r-SRcN0jWPw/s50-c-k-no/photo.jpg",
      "userId": "117384351130599115261"
     },
     "user_tz": -60
    },
    "id": "OObRLXTr268N",
    "outputId": "6361a898-fd04-4e15-8aa7-936a12b3221a"
   },
   "outputs": [
    {
     "data": {
      "text/plain": [
       "210"
      ]
     },
     "execution_count": 115,
     "metadata": {},
     "output_type": "execute_result"
    }
   ],
   "source": [
    "ewo_nb_of_phrases"
   ]
  },
  {
   "cell_type": "code",
   "execution_count": 116,
   "metadata": {},
   "outputs": [
    {
     "name": "stdout",
     "output_type": "stream",
     "text": [
      "O % = 84.15 %\n",
      "MISC % = 2.54 %\n",
      "PER % = 6.69 %\n",
      "LOC % = 1.03 %\n",
      "ORG % = 0.05 %\n"
     ]
    }
   ],
   "source": [
    "for tag in tagSet:\n",
    "    print(\"{0} % = {1} %\".format(tag, np.round(ewo_corpus[ewo_corpus['ne-tag']==tag].shape[0] * 100 / ewo_corpus[ewo_corpus['ne-tag']!='\\n'].shape[0], 2)))"
   ]
  },
  {
   "cell_type": "code",
   "execution_count": 117,
   "metadata": {},
   "outputs": [
    {
     "name": "stdout",
     "output_type": "stream",
     "text": [
      "O % = 89.94 %\n",
      "MISC % = 1.17 %\n",
      "PER % = 8.3 %\n",
      "LOC % = 1.86 %\n",
      "ORG % = 0.2 %\n"
     ]
    }
   ],
   "source": [
    "for tag in tagSet:\n",
    "    print(\"{0} % = {1} %\".format(tag, np.round(ewo_corpus[ewo_corpus['ne-tag']==tag].word.unique().shape[0] * 100 / ewo_corpus[ewo_corpus['ne-tag']!='\\n'].word.unique().shape[0], 2)))"
   ]
  },
  {
   "cell_type": "code",
   "execution_count": 118,
   "metadata": {
    "colab": {
     "autoexec": {
      "startup": false,
      "wait_interval": 0
     },
     "base_uri": "https://localhost:8080/",
     "height": 173,
     "output_extras": [
      {
       "item_id": 1
      }
     ]
    },
    "colab_type": "code",
    "executionInfo": {
     "elapsed": 758,
     "status": "ok",
     "timestamp": 1515664313240,
     "user": {
      "displayName": "Michael Franklin Mbouopda",
      "photoUrl": "//lh3.googleusercontent.com/-2_Vuj9ESsJ0/AAAAAAAAAAI/AAAAAAAABSc/r-SRcN0jWPw/s50-c-k-no/photo.jpg",
      "userId": "117384351130599115261"
     },
     "user_tz": -60
    },
    "id": "OObRLXTr268N",
    "outputId": "6361a898-fd04-4e15-8aa7-936a12b3221a"
   },
   "outputs": [
    {
     "data": {
      "text/html": [
       "<div>\n",
       "<style scoped>\n",
       "    .dataframe tbody tr th:only-of-type {\n",
       "        vertical-align: middle;\n",
       "    }\n",
       "\n",
       "    .dataframe tbody tr th {\n",
       "        vertical-align: top;\n",
       "    }\n",
       "\n",
       "    .dataframe thead th {\n",
       "        text-align: right;\n",
       "    }\n",
       "</style>\n",
       "<table border=\"1\" class=\"dataframe\">\n",
       "  <thead>\n",
       "    <tr style=\"text-align: right;\">\n",
       "      <th></th>\n",
       "      <th>word</th>\n",
       "      <th>ne-tag</th>\n",
       "    </tr>\n",
       "  </thead>\n",
       "  <tbody>\n",
       "    <tr>\n",
       "      <th>count</th>\n",
       "      <td>3779</td>\n",
       "      <td>3570</td>\n",
       "    </tr>\n",
       "    <tr>\n",
       "      <th>unique</th>\n",
       "      <td>1024</td>\n",
       "      <td>5</td>\n",
       "    </tr>\n",
       "    <tr>\n",
       "      <th>top</th>\n",
       "      <td>\\n</td>\n",
       "      <td>O</td>\n",
       "    </tr>\n",
       "    <tr>\n",
       "      <th>freq</th>\n",
       "      <td>209</td>\n",
       "      <td>3180</td>\n",
       "    </tr>\n",
       "  </tbody>\n",
       "</table>\n",
       "</div>"
      ],
      "text/plain": [
       "        word ne-tag\n",
       "count   3779   3570\n",
       "unique  1024      5\n",
       "top       \\n      O\n",
       "freq     209   3180"
      ]
     },
     "execution_count": 118,
     "metadata": {},
     "output_type": "execute_result"
    }
   ],
   "source": [
    "ewo_corpus.describe()"
   ]
  },
  {
   "cell_type": "code",
   "execution_count": 119,
   "metadata": {
    "colab": {
     "autoexec": {
      "startup": false,
      "wait_interval": 0
     },
     "base_uri": "https://localhost:8080/",
     "height": 173,
     "output_extras": [
      {
       "item_id": 1
      }
     ]
    },
    "colab_type": "code",
    "executionInfo": {
     "elapsed": 758,
     "status": "ok",
     "timestamp": 1515664313240,
     "user": {
      "displayName": "Michael Franklin Mbouopda",
      "photoUrl": "//lh3.googleusercontent.com/-2_Vuj9ESsJ0/AAAAAAAAAAI/AAAAAAAABSc/r-SRcN0jWPw/s50-c-k-no/photo.jpg",
      "userId": "117384351130599115261"
     },
     "user_tz": -60
    },
    "id": "OObRLXTr268N",
    "outputId": "6361a898-fd04-4e15-8aa7-936a12b3221a"
   },
   "outputs": [
    {
     "data": {
      "text/html": [
       "<div>\n",
       "<style scoped>\n",
       "    .dataframe tbody tr th:only-of-type {\n",
       "        vertical-align: middle;\n",
       "    }\n",
       "\n",
       "    .dataframe tbody tr th {\n",
       "        vertical-align: top;\n",
       "    }\n",
       "\n",
       "    .dataframe thead th {\n",
       "        text-align: right;\n",
       "    }\n",
       "</style>\n",
       "<table border=\"1\" class=\"dataframe\">\n",
       "  <thead>\n",
       "    <tr style=\"text-align: right;\">\n",
       "      <th></th>\n",
       "      <th>word</th>\n",
       "      <th>ne-tag</th>\n",
       "    </tr>\n",
       "  </thead>\n",
       "  <tbody>\n",
       "    <tr>\n",
       "      <th>0</th>\n",
       "      <td>Mfufub</td>\n",
       "      <td>MISC</td>\n",
       "    </tr>\n",
       "    <tr>\n",
       "      <th>1</th>\n",
       "      <td>Nsisim</td>\n",
       "      <td>MISC</td>\n",
       "    </tr>\n",
       "    <tr>\n",
       "      <th>2</th>\n",
       "      <td>ayi</td>\n",
       "      <td>O</td>\n",
       "    </tr>\n",
       "    <tr>\n",
       "      <th>3</th>\n",
       "      <td>sò</td>\n",
       "      <td>O</td>\n",
       "    </tr>\n",
       "    <tr>\n",
       "      <th>4</th>\n",
       "      <td>\\n</td>\n",
       "      <td>None</td>\n",
       "    </tr>\n",
       "  </tbody>\n",
       "</table>\n",
       "</div>"
      ],
      "text/plain": [
       "     word ne-tag\n",
       "0  Mfufub   MISC\n",
       "1  Nsisim   MISC\n",
       "2     ayi      O\n",
       "3      sò      O\n",
       "4      \\n   None"
      ]
     },
     "execution_count": 119,
     "metadata": {},
     "output_type": "execute_result"
    }
   ],
   "source": [
    "ewo_corpus.head()"
   ]
  },
  {
   "cell_type": "code",
   "execution_count": 120,
   "metadata": {
    "colab": {
     "autoexec": {
      "startup": false,
      "wait_interval": 0
     },
     "base_uri": "https://localhost:8080/",
     "height": 214,
     "output_extras": [
      {
       "item_id": 1
      }
     ]
    },
    "colab_type": "code",
    "executionInfo": {
     "elapsed": 1473,
     "status": "error",
     "timestamp": 1515688720429,
     "user": {
      "displayName": "Michael Franklin Mbouopda",
      "photoUrl": "//lh3.googleusercontent.com/-2_Vuj9ESsJ0/AAAAAAAAAAI/AAAAAAAABSc/r-SRcN0jWPw/s50-c-k-no/photo.jpg",
      "userId": "117384351130599115261"
     },
     "user_tz": -60
    },
    "id": "aRDNM0C8yX5N",
    "outputId": "b5a14626-4a9b-484c-c597-f1b1f37673c9"
   },
   "outputs": [
    {
     "name": "stdout",
     "output_type": "stream",
     "text": [
      "Normalization strategy: log\n"
     ]
    }
   ],
   "source": [
    "ewo_fingerprints = corpus_fingerprint(ewo_corpus, en_nb_of_phrases)"
   ]
  },
  {
   "cell_type": "code",
   "execution_count": 127,
   "metadata": {
    "colab": {
     "autoexec": {
      "startup": false,
      "wait_interval": 0
     },
     "base_uri": "https://localhost:8080/",
     "height": 214,
     "output_extras": [
      {
       "item_id": 1
      }
     ]
    },
    "colab_type": "code",
    "executionInfo": {
     "elapsed": 1473,
     "status": "error",
     "timestamp": 1515688720429,
     "user": {
      "displayName": "Michael Franklin Mbouopda",
      "photoUrl": "//lh3.googleusercontent.com/-2_Vuj9ESsJ0/AAAAAAAAAAI/AAAAAAAABSc/r-SRcN0jWPw/s50-c-k-no/photo.jpg",
      "userId": "117384351130599115261"
     },
     "user_tz": -60
    },
    "id": "aRDNM0C8yX5N",
    "outputId": "b5a14626-4a9b-484c-c597-f1b1f37673c9"
   },
   "outputs": [],
   "source": [
    "if is_only_vocab:\n",
    "    text = list(ewo_corpus[ewo_corpus.word != \"\\n\"].word.unique())\n",
    "else:\n",
    "    text = list(ewo_corpus[ewo_corpus.word != \"\\n\"].word)\n",
    "ewo_vocab = pd.DataFrame({\"text\":text})"
   ]
  },
  {
   "cell_type": "code",
   "execution_count": 128,
   "metadata": {
    "colab": {
     "autoexec": {
      "startup": false,
      "wait_interval": 0
     },
     "base_uri": "https://localhost:8080/",
     "height": 214,
     "output_extras": [
      {
       "item_id": 1
      }
     ]
    },
    "colab_type": "code",
    "executionInfo": {
     "elapsed": 1473,
     "status": "error",
     "timestamp": 1515688720429,
     "user": {
      "displayName": "Michael Franklin Mbouopda",
      "photoUrl": "//lh3.googleusercontent.com/-2_Vuj9ESsJ0/AAAAAAAAAAI/AAAAAAAABSc/r-SRcN0jWPw/s50-c-k-no/photo.jpg",
      "userId": "117384351130599115261"
     },
     "user_tz": -60
    },
    "id": "aRDNM0C8yX5N",
    "outputId": "b5a14626-4a9b-484c-c597-f1b1f37673c9"
   },
   "outputs": [],
   "source": [
    "if is_only_vocab:\n",
    "    X_ewo = np.zeros((ewo_vocab.shape[0] * duplication, en_nb_of_phrases))\n",
    "    ewo_target = np.zeros((ewo_vocab.shape[0] * duplication))\n",
    "    p=0\n",
    "    for i, row in ewo_vocab.iterrows():\n",
    "        c = row.text\n",
    "        for j in range(duplication):\n",
    "            X_ewo[p] = ewo_fingerprints[c.split(\" \")[0]]\n",
    "            ewo_target[p] = tag2int[getTag(ewo_corpus[ewo_corpus.word == c.split(\" \")[-1:][0]]['ne-tag'].iloc[0])]\n",
    "            p+=1\n",
    "    X_ewo, ewo_target = shuffle_data(X_ewo, ewo_target)"
   ]
  },
  {
   "cell_type": "code",
   "execution_count": 129,
   "metadata": {},
   "outputs": [
    {
     "data": {
      "text/html": [
       "<div>\n",
       "<style scoped>\n",
       "    .dataframe tbody tr th:only-of-type {\n",
       "        vertical-align: middle;\n",
       "    }\n",
       "\n",
       "    .dataframe tbody tr th {\n",
       "        vertical-align: top;\n",
       "    }\n",
       "\n",
       "    .dataframe thead th {\n",
       "        text-align: right;\n",
       "    }\n",
       "</style>\n",
       "<table border=\"1\" class=\"dataframe\">\n",
       "  <thead>\n",
       "    <tr style=\"text-align: right;\">\n",
       "      <th></th>\n",
       "      <th>text</th>\n",
       "    </tr>\n",
       "  </thead>\n",
       "  <tbody>\n",
       "    <tr>\n",
       "      <th>1013</th>\n",
       "      <td>sik</td>\n",
       "    </tr>\n",
       "    <tr>\n",
       "      <th>1014</th>\n",
       "      <td>Ntud</td>\n",
       "    </tr>\n",
       "    <tr>\n",
       "      <th>1015</th>\n",
       "      <td>bëyole</td>\n",
       "    </tr>\n",
       "    <tr>\n",
       "      <th>1016</th>\n",
       "      <td>Emmanuel</td>\n",
       "    </tr>\n",
       "    <tr>\n",
       "      <th>1017</th>\n",
       "      <td>Avëbë</td>\n",
       "    </tr>\n",
       "    <tr>\n",
       "      <th>1018</th>\n",
       "      <td>angavëbë</td>\n",
       "    </tr>\n",
       "    <tr>\n",
       "      <th>1019</th>\n",
       "      <td>oyò</td>\n",
       "    </tr>\n",
       "    <tr>\n",
       "      <th>1020</th>\n",
       "      <td>angabende</td>\n",
       "    </tr>\n",
       "    <tr>\n",
       "      <th>1021</th>\n",
       "      <td>anganòṅ</td>\n",
       "    </tr>\n",
       "    <tr>\n",
       "      <th>1022</th>\n",
       "      <td>angayole</td>\n",
       "    </tr>\n",
       "  </tbody>\n",
       "</table>\n",
       "</div>"
      ],
      "text/plain": [
       "           text\n",
       "1013        sik\n",
       "1014       Ntud\n",
       "1015     bëyole\n",
       "1016   Emmanuel\n",
       "1017      Avëbë\n",
       "1018   angavëbë\n",
       "1019        oyò\n",
       "1020  angabende\n",
       "1021    anganòṅ\n",
       "1022   angayole"
      ]
     },
     "execution_count": 129,
     "metadata": {},
     "output_type": "execute_result"
    }
   ],
   "source": [
    "ewo_vocab[-10:]"
   ]
  },
  {
   "cell_type": "code",
   "execution_count": 130,
   "metadata": {},
   "outputs": [],
   "source": [
    "if not is_only_vocab:\n",
    "    X_ewo, ewo_target = corpus2trainingdata(ewo_corpus[ewo_corpus.word != \"\\n\"], ewo_fingerprints)"
   ]
  },
  {
   "cell_type": "code",
   "execution_count": 131,
   "metadata": {},
   "outputs": [],
   "source": [
    "if shuffle:\n",
    "    X_ewo, ewo_target = shuffle_data(X_ewo, ewo_target)"
   ]
  },
  {
   "cell_type": "code",
   "execution_count": 132,
   "metadata": {},
   "outputs": [
    {
     "name": "stdout",
     "output_type": "stream",
     "text": [
      "(1023,) 1023\n"
     ]
    }
   ],
   "source": [
    "y_ewo = ewo_target.copy()\n",
    "print(y_ewo.shape, len(ewo_vocab))"
   ]
  },
  {
   "cell_type": "code",
   "execution_count": 133,
   "metadata": {},
   "outputs": [
    {
     "data": {
      "text/plain": [
       "(1023, 210)"
      ]
     },
     "execution_count": 133,
     "metadata": {},
     "output_type": "execute_result"
    }
   ],
   "source": [
    "X_ewo.shape"
   ]
  },
  {
   "cell_type": "code",
   "execution_count": 134,
   "metadata": {
    "colab": {
     "autoexec": {
      "startup": false,
      "wait_interval": 0
     },
     "base_uri": "https://localhost:8080/",
     "height": 34,
     "output_extras": [
      {
       "item_id": 1
      }
     ]
    },
    "colab_type": "code",
    "executionInfo": {
     "elapsed": 768,
     "status": "ok",
     "timestamp": 1514134592547,
     "user": {
      "displayName": "Michael Franklin Mbouopda",
      "photoUrl": "//lh3.googleusercontent.com/-2_Vuj9ESsJ0/AAAAAAAAAAI/AAAAAAAABSc/r-SRcN0jWPw/s50-c-k-no/photo.jpg",
      "userId": "117384351130599115261"
     },
     "user_tz": -60
    },
    "id": "fuSYSwUPDiQY",
    "outputId": "658c1a63-1a76-4487-e151-47364c6dbc85"
   },
   "outputs": [],
   "source": [
    "y_ewo = ewo_target.copy()\n",
    "y_ewo[:20]\n",
    "if not BINARY:\n",
    "    y_ewo = np_utils.to_categorical(y_ewo)"
   ]
  },
  {
   "cell_type": "code",
   "execution_count": 135,
   "metadata": {
    "colab": {
     "autoexec": {
      "startup": false,
      "wait_interval": 0
     },
     "base_uri": "https://localhost:8080/",
     "height": 34,
     "output_extras": [
      {
       "item_id": 1
      }
     ]
    },
    "colab_type": "code",
    "executionInfo": {
     "elapsed": 6835,
     "status": "ok",
     "timestamp": 1514134601113,
     "user": {
      "displayName": "Michael Franklin Mbouopda",
      "photoUrl": "//lh3.googleusercontent.com/-2_Vuj9ESsJ0/AAAAAAAAAAI/AAAAAAAABSc/r-SRcN0jWPw/s50-c-k-no/photo.jpg",
      "userId": "117384351130599115261"
     },
     "user_tz": -60
    },
    "id": "Cev5j8YFzPYl",
    "outputId": "87ab5b4b-a75d-43b0-d346-5ba18a4522c0"
   },
   "outputs": [],
   "source": [
    "X_ewo = X_ewo.reshape((X_ewo.shape[0], en_nb_of_phrases))"
   ]
  },
  {
   "cell_type": "code",
   "execution_count": 136,
   "metadata": {},
   "outputs": [],
   "source": [
    "# model = create_model(X.shape[1], len(tagSet))\n",
    "# resultEval, train_by_tag, test_by_tag, ewo_by_tag = algoEval(X_train, y_train, X_val, y_val, X_ewo, y_ewo, model=model)"
   ]
  },
  {
   "cell_type": "code",
   "execution_count": 137,
   "metadata": {},
   "outputs": [],
   "source": [
    "# resultEval"
   ]
  },
  {
   "cell_type": "code",
   "execution_count": 138,
   "metadata": {},
   "outputs": [],
   "source": [
    "# train_by_tag"
   ]
  },
  {
   "cell_type": "code",
   "execution_count": 139,
   "metadata": {},
   "outputs": [],
   "source": [
    "# test_by_tag"
   ]
  },
  {
   "cell_type": "code",
   "execution_count": 140,
   "metadata": {},
   "outputs": [],
   "source": [
    "# ewo_by_tag"
   ]
  },
  {
   "cell_type": "code",
   "execution_count": 141,
   "metadata": {},
   "outputs": [],
   "source": [
    "# resultEval.mean()"
   ]
  },
  {
   "cell_type": "code",
   "execution_count": 142,
   "metadata": {},
   "outputs": [],
   "source": [
    "# resultEval.std()"
   ]
  },
  {
   "cell_type": "code",
   "execution_count": 143,
   "metadata": {
    "scrolled": true
   },
   "outputs": [
    {
     "name": "stdout",
     "output_type": "stream",
     "text": [
      "AlgoCrossValIter - 1\n",
      "Model: \"sequential_11\"\n",
      "_________________________________________________________________\n",
      "Layer (type)                 Output Shape              Param #   \n",
      "=================================================================\n",
      "hidden1 (Dense)              (None, 640)               135040    \n",
      "_________________________________________________________________\n",
      "hidden2 (Dense)              (None, 160)               102560    \n",
      "_________________________________________________________________\n",
      "outputlayer (Dense)          (None, 5)                 805       \n",
      "=================================================================\n",
      "Total params: 238,405\n",
      "Trainable params: 238,405\n",
      "Non-trainable params: 0\n",
      "_________________________________________________________________\n",
      "\n",
      "Epoch 00001: val_loss improved from inf to 0.41321, saving model to best-model-conll.hdfs\n",
      "\n",
      "Epoch 00002: val_loss improved from 0.41321 to 0.34123, saving model to best-model-conll.hdfs\n",
      "\n",
      "Epoch 00003: val_loss did not improve from 0.34123\n",
      "\n",
      "Epoch 00004: val_loss did not improve from 0.34123\n",
      "\n",
      "Epoch 00005: val_loss improved from 0.34123 to 0.28535, saving model to best-model-conll.hdfs\n",
      "\n",
      "Epoch 00006: val_loss did not improve from 0.28535\n",
      "\n",
      "Epoch 00007: val_loss improved from 0.28535 to 0.28262, saving model to best-model-conll.hdfs\n",
      "\n",
      "Epoch 00008: val_loss did not improve from 0.28262\n",
      "\n",
      "Epoch 00009: val_loss did not improve from 0.28262\n",
      "\n",
      "Epoch 00010: val_loss did not improve from 0.28262\n"
     ]
    },
    {
     "name": "stderr",
     "output_type": "stream",
     "text": [
      "/home/frankl1/miniconda3/envs/ner-projection/lib/python3.7/site-packages/ipykernel_launcher.py:17: RuntimeWarning: invalid value encountered in double_scalars\n"
     ]
    },
    {
     "name": "stdout",
     "output_type": "stream",
     "text": [
      "\n",
      "Epoch 00001: val_loss improved from inf to 0.20404, saving model to best-model-conll.hdfs\n",
      "\n",
      "Epoch 00002: val_loss did not improve from 0.20404\n",
      "\n",
      "Epoch 00003: val_loss did not improve from 0.20404\n",
      "\n",
      "Epoch 00004: val_loss did not improve from 0.20404\n",
      "\n",
      "Epoch 00005: val_loss did not improve from 0.20404\n",
      "\n",
      "Epoch 00006: val_loss did not improve from 0.20404\n",
      "\n",
      "Epoch 00007: val_loss did not improve from 0.20404\n",
      "\n",
      "Epoch 00008: val_loss did not improve from 0.20404\n",
      "\n",
      "Epoch 00009: val_loss did not improve from 0.20404\n",
      "\n",
      "Epoch 00010: val_loss did not improve from 0.20404\n"
     ]
    },
    {
     "name": "stderr",
     "output_type": "stream",
     "text": [
      "/home/frankl1/miniconda3/envs/ner-projection/lib/python3.7/site-packages/ipykernel_launcher.py:17: RuntimeWarning: invalid value encountered in double_scalars\n"
     ]
    },
    {
     "name": "stdout",
     "output_type": "stream",
     "text": [
      "\n",
      "Epoch 00001: val_loss improved from inf to 0.08818, saving model to best-model-conll.hdfs\n",
      "\n",
      "Epoch 00002: val_loss did not improve from 0.08818\n",
      "\n",
      "Epoch 00003: val_loss did not improve from 0.08818\n",
      "\n",
      "Epoch 00004: val_loss did not improve from 0.08818\n",
      "\n",
      "Epoch 00005: val_loss did not improve from 0.08818\n",
      "\n",
      "Epoch 00006: val_loss did not improve from 0.08818\n",
      "\n",
      "Epoch 00007: val_loss did not improve from 0.08818\n",
      "\n",
      "Epoch 00008: val_loss did not improve from 0.08818\n",
      "\n",
      "Epoch 00009: val_loss did not improve from 0.08818\n",
      "\n",
      "Epoch 00010: val_loss did not improve from 0.08818\n"
     ]
    },
    {
     "name": "stderr",
     "output_type": "stream",
     "text": [
      "/home/frankl1/miniconda3/envs/ner-projection/lib/python3.7/site-packages/ipykernel_launcher.py:17: RuntimeWarning: invalid value encountered in double_scalars\n"
     ]
    },
    {
     "name": "stdout",
     "output_type": "stream",
     "text": [
      "\n",
      "Epoch 00001: val_loss improved from inf to 0.13397, saving model to best-model-conll.hdfs\n",
      "\n",
      "Epoch 00002: val_loss improved from 0.13397 to 0.07494, saving model to best-model-conll.hdfs\n",
      "\n",
      "Epoch 00003: val_loss did not improve from 0.07494\n",
      "\n",
      "Epoch 00004: val_loss did not improve from 0.07494\n",
      "\n",
      "Epoch 00005: val_loss did not improve from 0.07494\n",
      "\n",
      "Epoch 00006: val_loss did not improve from 0.07494\n",
      "\n",
      "Epoch 00007: val_loss did not improve from 0.07494\n",
      "\n",
      "Epoch 00008: val_loss did not improve from 0.07494\n",
      "\n",
      "Epoch 00009: val_loss did not improve from 0.07494\n",
      "\n",
      "Epoch 00010: val_loss did not improve from 0.07494\n"
     ]
    },
    {
     "name": "stderr",
     "output_type": "stream",
     "text": [
      "/home/frankl1/miniconda3/envs/ner-projection/lib/python3.7/site-packages/ipykernel_launcher.py:17: RuntimeWarning: invalid value encountered in double_scalars\n"
     ]
    },
    {
     "name": "stdout",
     "output_type": "stream",
     "text": [
      "\n",
      "Epoch 00001: val_loss improved from inf to 0.09600, saving model to best-model-conll.hdfs\n",
      "\n",
      "Epoch 00002: val_loss did not improve from 0.09600\n",
      "\n",
      "Epoch 00003: val_loss did not improve from 0.09600\n",
      "\n",
      "Epoch 00004: val_loss did not improve from 0.09600\n",
      "\n",
      "Epoch 00005: val_loss did not improve from 0.09600\n",
      "\n",
      "Epoch 00006: val_loss did not improve from 0.09600\n",
      "\n",
      "Epoch 00007: val_loss did not improve from 0.09600\n",
      "\n",
      "Epoch 00008: val_loss did not improve from 0.09600\n",
      "\n",
      "Epoch 00009: val_loss did not improve from 0.09600\n",
      "\n",
      "Epoch 00010: val_loss did not improve from 0.09600\n"
     ]
    },
    {
     "name": "stderr",
     "output_type": "stream",
     "text": [
      "/home/frankl1/miniconda3/envs/ner-projection/lib/python3.7/site-packages/ipykernel_launcher.py:17: RuntimeWarning: invalid value encountered in double_scalars\n"
     ]
    },
    {
     "name": "stdout",
     "output_type": "stream",
     "text": [
      "\n",
      "Epoch 00001: val_loss improved from inf to 0.07115, saving model to best-model-conll.hdfs\n",
      "\n",
      "Epoch 00002: val_loss did not improve from 0.07115\n",
      "\n",
      "Epoch 00003: val_loss did not improve from 0.07115\n",
      "\n",
      "Epoch 00004: val_loss did not improve from 0.07115\n",
      "\n",
      "Epoch 00005: val_loss did not improve from 0.07115\n",
      "\n",
      "Epoch 00006: val_loss did not improve from 0.07115\n",
      "\n",
      "Epoch 00007: val_loss did not improve from 0.07115\n",
      "\n",
      "Epoch 00008: val_loss did not improve from 0.07115\n",
      "\n",
      "Epoch 00009: val_loss did not improve from 0.07115\n",
      "\n",
      "Epoch 00010: val_loss did not improve from 0.07115\n"
     ]
    },
    {
     "name": "stderr",
     "output_type": "stream",
     "text": [
      "/home/frankl1/miniconda3/envs/ner-projection/lib/python3.7/site-packages/ipykernel_launcher.py:17: RuntimeWarning: invalid value encountered in double_scalars\n"
     ]
    },
    {
     "name": "stdout",
     "output_type": "stream",
     "text": [
      "\n",
      "Epoch 00001: val_loss improved from inf to 0.13695, saving model to best-model-conll.hdfs\n",
      "\n",
      "Epoch 00002: val_loss improved from 0.13695 to 0.11536, saving model to best-model-conll.hdfs\n",
      "\n",
      "Epoch 00003: val_loss did not improve from 0.11536\n",
      "\n",
      "Epoch 00004: val_loss did not improve from 0.11536\n",
      "\n",
      "Epoch 00005: val_loss did not improve from 0.11536\n",
      "\n",
      "Epoch 00006: val_loss did not improve from 0.11536\n",
      "\n",
      "Epoch 00007: val_loss did not improve from 0.11536\n",
      "\n",
      "Epoch 00008: val_loss did not improve from 0.11536\n",
      "\n",
      "Epoch 00009: val_loss did not improve from 0.11536\n",
      "\n",
      "Epoch 00010: val_loss did not improve from 0.11536\n"
     ]
    },
    {
     "name": "stderr",
     "output_type": "stream",
     "text": [
      "/home/frankl1/miniconda3/envs/ner-projection/lib/python3.7/site-packages/ipykernel_launcher.py:17: RuntimeWarning: invalid value encountered in double_scalars\n"
     ]
    },
    {
     "name": "stdout",
     "output_type": "stream",
     "text": [
      "\n",
      "Epoch 00001: val_loss improved from inf to 0.16497, saving model to best-model-conll.hdfs\n",
      "\n",
      "Epoch 00002: val_loss did not improve from 0.16497\n",
      "\n",
      "Epoch 00003: val_loss did not improve from 0.16497\n",
      "\n",
      "Epoch 00004: val_loss did not improve from 0.16497\n",
      "\n",
      "Epoch 00005: val_loss did not improve from 0.16497\n",
      "\n",
      "Epoch 00006: val_loss did not improve from 0.16497\n",
      "\n",
      "Epoch 00007: val_loss did not improve from 0.16497\n",
      "\n",
      "Epoch 00008: val_loss did not improve from 0.16497\n",
      "\n",
      "Epoch 00009: val_loss did not improve from 0.16497\n",
      "\n",
      "Epoch 00010: val_loss did not improve from 0.16497\n"
     ]
    },
    {
     "name": "stderr",
     "output_type": "stream",
     "text": [
      "/home/frankl1/miniconda3/envs/ner-projection/lib/python3.7/site-packages/ipykernel_launcher.py:17: RuntimeWarning: invalid value encountered in double_scalars\n"
     ]
    },
    {
     "name": "stdout",
     "output_type": "stream",
     "text": [
      "\n",
      "Epoch 00001: val_loss improved from inf to 0.07071, saving model to best-model-conll.hdfs\n",
      "\n",
      "Epoch 00002: val_loss did not improve from 0.07071\n",
      "\n",
      "Epoch 00003: val_loss did not improve from 0.07071\n",
      "\n",
      "Epoch 00004: val_loss did not improve from 0.07071\n",
      "\n",
      "Epoch 00005: val_loss did not improve from 0.07071\n",
      "\n",
      "Epoch 00006: val_loss did not improve from 0.07071\n",
      "\n",
      "Epoch 00007: val_loss did not improve from 0.07071\n",
      "\n",
      "Epoch 00008: val_loss did not improve from 0.07071\n",
      "\n",
      "Epoch 00009: val_loss did not improve from 0.07071\n",
      "\n",
      "Epoch 00010: val_loss did not improve from 0.07071\n"
     ]
    },
    {
     "name": "stderr",
     "output_type": "stream",
     "text": [
      "/home/frankl1/miniconda3/envs/ner-projection/lib/python3.7/site-packages/ipykernel_launcher.py:17: RuntimeWarning: invalid value encountered in double_scalars\n"
     ]
    },
    {
     "name": "stdout",
     "output_type": "stream",
     "text": [
      "\n",
      "Epoch 00001: val_loss improved from inf to 0.07668, saving model to best-model-conll.hdfs\n",
      "\n",
      "Epoch 00002: val_loss improved from 0.07668 to 0.06382, saving model to best-model-conll.hdfs\n",
      "\n",
      "Epoch 00003: val_loss did not improve from 0.06382\n",
      "\n",
      "Epoch 00004: val_loss did not improve from 0.06382\n",
      "\n",
      "Epoch 00005: val_loss did not improve from 0.06382\n",
      "\n",
      "Epoch 00006: val_loss did not improve from 0.06382\n",
      "\n",
      "Epoch 00007: val_loss did not improve from 0.06382\n",
      "\n",
      "Epoch 00008: val_loss did not improve from 0.06382\n",
      "\n",
      "Epoch 00009: val_loss did not improve from 0.06382\n",
      "\n",
      "Epoch 00010: val_loss did not improve from 0.06382\n"
     ]
    },
    {
     "name": "stderr",
     "output_type": "stream",
     "text": [
      "/home/frankl1/miniconda3/envs/ner-projection/lib/python3.7/site-packages/ipykernel_launcher.py:17: RuntimeWarning: invalid value encountered in double_scalars\n"
     ]
    },
    {
     "name": "stdout",
     "output_type": "stream",
     "text": [
      "AlgoCrossValIter - 2\n",
      "Model: \"sequential_12\"\n",
      "_________________________________________________________________\n",
      "Layer (type)                 Output Shape              Param #   \n",
      "=================================================================\n",
      "hidden1 (Dense)              (None, 640)               135040    \n",
      "_________________________________________________________________\n",
      "hidden2 (Dense)              (None, 160)               102560    \n",
      "_________________________________________________________________\n",
      "outputlayer (Dense)          (None, 5)                 805       \n",
      "=================================================================\n",
      "Total params: 238,405\n",
      "Trainable params: 238,405\n",
      "Non-trainable params: 0\n",
      "_________________________________________________________________\n",
      "\n",
      "Epoch 00001: val_loss improved from inf to 0.47209, saving model to best-model-conll.hdfs\n",
      "\n",
      "Epoch 00002: val_loss did not improve from 0.47209\n",
      "\n",
      "Epoch 00003: val_loss improved from 0.47209 to 0.39099, saving model to best-model-conll.hdfs\n",
      "\n",
      "Epoch 00004: val_loss improved from 0.39099 to 0.29533, saving model to best-model-conll.hdfs\n",
      "\n",
      "Epoch 00005: val_loss did not improve from 0.29533\n",
      "\n",
      "Epoch 00006: val_loss improved from 0.29533 to 0.26873, saving model to best-model-conll.hdfs\n",
      "\n",
      "Epoch 00007: val_loss did not improve from 0.26873\n",
      "\n",
      "Epoch 00008: val_loss did not improve from 0.26873\n",
      "\n",
      "Epoch 00009: val_loss did not improve from 0.26873\n",
      "\n",
      "Epoch 00010: val_loss did not improve from 0.26873\n"
     ]
    },
    {
     "name": "stderr",
     "output_type": "stream",
     "text": [
      "/home/frankl1/miniconda3/envs/ner-projection/lib/python3.7/site-packages/ipykernel_launcher.py:17: RuntimeWarning: invalid value encountered in double_scalars\n"
     ]
    },
    {
     "name": "stdout",
     "output_type": "stream",
     "text": [
      "\n",
      "Epoch 00001: val_loss improved from inf to 0.22521, saving model to best-model-conll.hdfs\n",
      "\n",
      "Epoch 00002: val_loss did not improve from 0.22521\n",
      "\n",
      "Epoch 00003: val_loss did not improve from 0.22521\n",
      "\n",
      "Epoch 00004: val_loss did not improve from 0.22521\n",
      "\n",
      "Epoch 00005: val_loss did not improve from 0.22521\n",
      "\n",
      "Epoch 00006: val_loss did not improve from 0.22521\n",
      "\n",
      "Epoch 00007: val_loss did not improve from 0.22521\n",
      "\n",
      "Epoch 00008: val_loss did not improve from 0.22521\n",
      "\n",
      "Epoch 00009: val_loss did not improve from 0.22521\n",
      "\n",
      "Epoch 00010: val_loss did not improve from 0.22521\n"
     ]
    },
    {
     "name": "stderr",
     "output_type": "stream",
     "text": [
      "/home/frankl1/miniconda3/envs/ner-projection/lib/python3.7/site-packages/ipykernel_launcher.py:17: RuntimeWarning: invalid value encountered in double_scalars\n"
     ]
    },
    {
     "name": "stdout",
     "output_type": "stream",
     "text": [
      "\n",
      "Epoch 00001: val_loss improved from inf to 0.17604, saving model to best-model-conll.hdfs\n",
      "\n",
      "Epoch 00002: val_loss improved from 0.17604 to 0.13500, saving model to best-model-conll.hdfs\n",
      "\n",
      "Epoch 00003: val_loss did not improve from 0.13500\n",
      "\n",
      "Epoch 00004: val_loss did not improve from 0.13500\n",
      "\n",
      "Epoch 00005: val_loss did not improve from 0.13500\n",
      "\n",
      "Epoch 00006: val_loss did not improve from 0.13500\n",
      "\n",
      "Epoch 00007: val_loss did not improve from 0.13500\n",
      "\n",
      "Epoch 00008: val_loss did not improve from 0.13500\n",
      "\n",
      "Epoch 00009: val_loss did not improve from 0.13500\n",
      "\n",
      "Epoch 00010: val_loss did not improve from 0.13500\n"
     ]
    },
    {
     "name": "stderr",
     "output_type": "stream",
     "text": [
      "/home/frankl1/miniconda3/envs/ner-projection/lib/python3.7/site-packages/ipykernel_launcher.py:17: RuntimeWarning: invalid value encountered in double_scalars\n"
     ]
    },
    {
     "name": "stdout",
     "output_type": "stream",
     "text": [
      "\n",
      "Epoch 00001: val_loss improved from inf to 0.06045, saving model to best-model-conll.hdfs\n",
      "\n",
      "Epoch 00002: val_loss did not improve from 0.06045\n",
      "\n",
      "Epoch 00003: val_loss did not improve from 0.06045\n",
      "\n",
      "Epoch 00004: val_loss did not improve from 0.06045\n",
      "\n",
      "Epoch 00005: val_loss did not improve from 0.06045\n",
      "\n",
      "Epoch 00006: val_loss did not improve from 0.06045\n",
      "\n",
      "Epoch 00007: val_loss did not improve from 0.06045\n",
      "\n",
      "Epoch 00008: val_loss did not improve from 0.06045\n",
      "\n",
      "Epoch 00009: val_loss did not improve from 0.06045\n",
      "\n",
      "Epoch 00010: val_loss did not improve from 0.06045\n"
     ]
    },
    {
     "name": "stderr",
     "output_type": "stream",
     "text": [
      "/home/frankl1/miniconda3/envs/ner-projection/lib/python3.7/site-packages/ipykernel_launcher.py:17: RuntimeWarning: invalid value encountered in double_scalars\n"
     ]
    },
    {
     "name": "stdout",
     "output_type": "stream",
     "text": [
      "\n",
      "Epoch 00001: val_loss improved from inf to 0.09502, saving model to best-model-conll.hdfs\n",
      "\n",
      "Epoch 00002: val_loss did not improve from 0.09502\n",
      "\n",
      "Epoch 00003: val_loss did not improve from 0.09502\n",
      "\n",
      "Epoch 00004: val_loss did not improve from 0.09502\n",
      "\n",
      "Epoch 00005: val_loss did not improve from 0.09502\n",
      "\n",
      "Epoch 00006: val_loss did not improve from 0.09502\n",
      "\n",
      "Epoch 00007: val_loss did not improve from 0.09502\n",
      "\n",
      "Epoch 00008: val_loss did not improve from 0.09502\n",
      "\n",
      "Epoch 00009: val_loss did not improve from 0.09502\n",
      "\n",
      "Epoch 00010: val_loss did not improve from 0.09502\n"
     ]
    },
    {
     "name": "stderr",
     "output_type": "stream",
     "text": [
      "/home/frankl1/miniconda3/envs/ner-projection/lib/python3.7/site-packages/ipykernel_launcher.py:17: RuntimeWarning: invalid value encountered in double_scalars\n"
     ]
    },
    {
     "name": "stdout",
     "output_type": "stream",
     "text": [
      "\n",
      "Epoch 00001: val_loss improved from inf to 0.08017, saving model to best-model-conll.hdfs\n",
      "\n",
      "Epoch 00002: val_loss did not improve from 0.08017\n",
      "\n",
      "Epoch 00003: val_loss did not improve from 0.08017\n",
      "\n",
      "Epoch 00004: val_loss did not improve from 0.08017\n",
      "\n",
      "Epoch 00005: val_loss did not improve from 0.08017\n",
      "\n",
      "Epoch 00006: val_loss did not improve from 0.08017\n",
      "\n",
      "Epoch 00007: val_loss did not improve from 0.08017\n",
      "\n",
      "Epoch 00008: val_loss did not improve from 0.08017\n",
      "\n",
      "Epoch 00009: val_loss did not improve from 0.08017\n",
      "\n",
      "Epoch 00010: val_loss did not improve from 0.08017\n"
     ]
    },
    {
     "name": "stderr",
     "output_type": "stream",
     "text": [
      "/home/frankl1/miniconda3/envs/ner-projection/lib/python3.7/site-packages/ipykernel_launcher.py:17: RuntimeWarning: invalid value encountered in double_scalars\n"
     ]
    },
    {
     "name": "stdout",
     "output_type": "stream",
     "text": [
      "\n",
      "Epoch 00001: val_loss improved from inf to 0.09157, saving model to best-model-conll.hdfs\n",
      "\n",
      "Epoch 00002: val_loss did not improve from 0.09157\n",
      "\n",
      "Epoch 00003: val_loss did not improve from 0.09157\n",
      "\n",
      "Epoch 00004: val_loss did not improve from 0.09157\n",
      "\n",
      "Epoch 00005: val_loss did not improve from 0.09157\n",
      "\n",
      "Epoch 00006: val_loss did not improve from 0.09157\n",
      "\n",
      "Epoch 00007: val_loss did not improve from 0.09157\n",
      "\n",
      "Epoch 00008: val_loss did not improve from 0.09157\n",
      "\n",
      "Epoch 00009: val_loss did not improve from 0.09157\n",
      "\n",
      "Epoch 00010: val_loss did not improve from 0.09157\n"
     ]
    },
    {
     "name": "stderr",
     "output_type": "stream",
     "text": [
      "/home/frankl1/miniconda3/envs/ner-projection/lib/python3.7/site-packages/ipykernel_launcher.py:17: RuntimeWarning: invalid value encountered in double_scalars\n"
     ]
    },
    {
     "name": "stdout",
     "output_type": "stream",
     "text": [
      "\n",
      "Epoch 00001: val_loss improved from inf to 0.14642, saving model to best-model-conll.hdfs\n",
      "\n",
      "Epoch 00002: val_loss did not improve from 0.14642\n",
      "\n",
      "Epoch 00003: val_loss did not improve from 0.14642\n",
      "\n",
      "Epoch 00004: val_loss did not improve from 0.14642\n",
      "\n",
      "Epoch 00005: val_loss did not improve from 0.14642\n",
      "\n",
      "Epoch 00006: val_loss did not improve from 0.14642\n",
      "\n",
      "Epoch 00007: val_loss did not improve from 0.14642\n",
      "\n",
      "Epoch 00008: val_loss did not improve from 0.14642\n",
      "\n",
      "Epoch 00009: val_loss did not improve from 0.14642\n",
      "\n",
      "Epoch 00010: val_loss did not improve from 0.14642\n"
     ]
    },
    {
     "name": "stderr",
     "output_type": "stream",
     "text": [
      "/home/frankl1/miniconda3/envs/ner-projection/lib/python3.7/site-packages/ipykernel_launcher.py:17: RuntimeWarning: invalid value encountered in double_scalars\n"
     ]
    },
    {
     "name": "stdout",
     "output_type": "stream",
     "text": [
      "\n",
      "Epoch 00001: val_loss improved from inf to 0.06582, saving model to best-model-conll.hdfs\n",
      "\n",
      "Epoch 00002: val_loss did not improve from 0.06582\n",
      "\n",
      "Epoch 00003: val_loss did not improve from 0.06582\n",
      "\n",
      "Epoch 00004: val_loss did not improve from 0.06582\n",
      "\n",
      "Epoch 00005: val_loss did not improve from 0.06582\n",
      "\n",
      "Epoch 00006: val_loss did not improve from 0.06582\n",
      "\n",
      "Epoch 00007: val_loss did not improve from 0.06582\n",
      "\n",
      "Epoch 00008: val_loss did not improve from 0.06582\n",
      "\n",
      "Epoch 00009: val_loss did not improve from 0.06582\n",
      "\n",
      "Epoch 00010: val_loss did not improve from 0.06582\n"
     ]
    },
    {
     "name": "stderr",
     "output_type": "stream",
     "text": [
      "/home/frankl1/miniconda3/envs/ner-projection/lib/python3.7/site-packages/ipykernel_launcher.py:17: RuntimeWarning: invalid value encountered in double_scalars\n"
     ]
    },
    {
     "name": "stdout",
     "output_type": "stream",
     "text": [
      "\n",
      "Epoch 00001: val_loss improved from inf to 0.07165, saving model to best-model-conll.hdfs\n",
      "\n",
      "Epoch 00002: val_loss did not improve from 0.07165\n",
      "\n",
      "Epoch 00003: val_loss did not improve from 0.07165\n",
      "\n",
      "Epoch 00004: val_loss did not improve from 0.07165\n",
      "\n",
      "Epoch 00005: val_loss did not improve from 0.07165\n",
      "\n",
      "Epoch 00006: val_loss did not improve from 0.07165\n",
      "\n",
      "Epoch 00007: val_loss did not improve from 0.07165\n",
      "\n",
      "Epoch 00008: val_loss did not improve from 0.07165\n",
      "\n",
      "Epoch 00009: val_loss did not improve from 0.07165\n",
      "\n",
      "Epoch 00010: val_loss did not improve from 0.07165\n"
     ]
    },
    {
     "name": "stderr",
     "output_type": "stream",
     "text": [
      "/home/frankl1/miniconda3/envs/ner-projection/lib/python3.7/site-packages/ipykernel_launcher.py:17: RuntimeWarning: invalid value encountered in double_scalars\n"
     ]
    },
    {
     "name": "stdout",
     "output_type": "stream",
     "text": [
      "AlgoCrossValIter - 3\n",
      "Model: \"sequential_13\"\n",
      "_________________________________________________________________\n",
      "Layer (type)                 Output Shape              Param #   \n",
      "=================================================================\n",
      "hidden1 (Dense)              (None, 640)               135040    \n",
      "_________________________________________________________________\n",
      "hidden2 (Dense)              (None, 160)               102560    \n",
      "_________________________________________________________________\n",
      "outputlayer (Dense)          (None, 5)                 805       \n",
      "=================================================================\n",
      "Total params: 238,405\n",
      "Trainable params: 238,405\n",
      "Non-trainable params: 0\n",
      "_________________________________________________________________\n",
      "\n",
      "Epoch 00001: val_loss improved from inf to 0.38551, saving model to best-model-conll.hdfs\n",
      "\n",
      "Epoch 00002: val_loss improved from 0.38551 to 0.36870, saving model to best-model-conll.hdfs\n",
      "\n",
      "Epoch 00003: val_loss improved from 0.36870 to 0.32060, saving model to best-model-conll.hdfs\n",
      "\n",
      "Epoch 00004: val_loss did not improve from 0.32060\n",
      "\n",
      "Epoch 00005: val_loss improved from 0.32060 to 0.31634, saving model to best-model-conll.hdfs\n",
      "\n",
      "Epoch 00006: val_loss did not improve from 0.31634\n",
      "\n",
      "Epoch 00007: val_loss improved from 0.31634 to 0.27221, saving model to best-model-conll.hdfs\n",
      "\n",
      "Epoch 00008: val_loss did not improve from 0.27221\n",
      "\n",
      "Epoch 00009: val_loss did not improve from 0.27221\n",
      "\n",
      "Epoch 00010: val_loss did not improve from 0.27221\n"
     ]
    },
    {
     "name": "stderr",
     "output_type": "stream",
     "text": [
      "/home/frankl1/miniconda3/envs/ner-projection/lib/python3.7/site-packages/ipykernel_launcher.py:17: RuntimeWarning: invalid value encountered in double_scalars\n"
     ]
    },
    {
     "name": "stdout",
     "output_type": "stream",
     "text": [
      "\n",
      "Epoch 00001: val_loss improved from inf to 0.26010, saving model to best-model-conll.hdfs\n",
      "\n",
      "Epoch 00002: val_loss improved from 0.26010 to 0.24873, saving model to best-model-conll.hdfs\n",
      "\n",
      "Epoch 00003: val_loss improved from 0.24873 to 0.23308, saving model to best-model-conll.hdfs\n",
      "\n",
      "Epoch 00004: val_loss did not improve from 0.23308\n",
      "\n",
      "Epoch 00005: val_loss did not improve from 0.23308\n",
      "\n",
      "Epoch 00006: val_loss did not improve from 0.23308\n",
      "\n",
      "Epoch 00007: val_loss did not improve from 0.23308\n",
      "\n",
      "Epoch 00008: val_loss did not improve from 0.23308\n",
      "\n",
      "Epoch 00009: val_loss did not improve from 0.23308\n",
      "\n",
      "Epoch 00010: val_loss did not improve from 0.23308\n"
     ]
    },
    {
     "name": "stderr",
     "output_type": "stream",
     "text": [
      "/home/frankl1/miniconda3/envs/ner-projection/lib/python3.7/site-packages/ipykernel_launcher.py:17: RuntimeWarning: invalid value encountered in double_scalars\n"
     ]
    },
    {
     "name": "stdout",
     "output_type": "stream",
     "text": [
      "\n",
      "Epoch 00001: val_loss improved from inf to 0.10570, saving model to best-model-conll.hdfs\n",
      "\n",
      "Epoch 00002: val_loss did not improve from 0.10570\n",
      "\n",
      "Epoch 00003: val_loss did not improve from 0.10570\n",
      "\n",
      "Epoch 00004: val_loss did not improve from 0.10570\n",
      "\n",
      "Epoch 00005: val_loss did not improve from 0.10570\n",
      "\n",
      "Epoch 00006: val_loss did not improve from 0.10570\n",
      "\n",
      "Epoch 00007: val_loss did not improve from 0.10570\n",
      "\n",
      "Epoch 00008: val_loss did not improve from 0.10570\n",
      "\n",
      "Epoch 00009: val_loss did not improve from 0.10570\n",
      "\n",
      "Epoch 00010: val_loss did not improve from 0.10570\n"
     ]
    },
    {
     "name": "stderr",
     "output_type": "stream",
     "text": [
      "/home/frankl1/miniconda3/envs/ner-projection/lib/python3.7/site-packages/ipykernel_launcher.py:17: RuntimeWarning: invalid value encountered in double_scalars\n"
     ]
    },
    {
     "name": "stdout",
     "output_type": "stream",
     "text": [
      "\n",
      "Epoch 00001: val_loss improved from inf to 0.05612, saving model to best-model-conll.hdfs\n",
      "\n",
      "Epoch 00002: val_loss did not improve from 0.05612\n",
      "\n",
      "Epoch 00003: val_loss did not improve from 0.05612\n",
      "\n",
      "Epoch 00004: val_loss did not improve from 0.05612\n",
      "\n",
      "Epoch 00005: val_loss did not improve from 0.05612\n",
      "\n",
      "Epoch 00006: val_loss did not improve from 0.05612\n",
      "\n",
      "Epoch 00007: val_loss did not improve from 0.05612\n",
      "\n",
      "Epoch 00008: val_loss did not improve from 0.05612\n",
      "\n",
      "Epoch 00009: val_loss did not improve from 0.05612\n",
      "\n",
      "Epoch 00010: val_loss did not improve from 0.05612\n"
     ]
    },
    {
     "name": "stderr",
     "output_type": "stream",
     "text": [
      "/home/frankl1/miniconda3/envs/ner-projection/lib/python3.7/site-packages/ipykernel_launcher.py:17: RuntimeWarning: invalid value encountered in double_scalars\n"
     ]
    },
    {
     "name": "stdout",
     "output_type": "stream",
     "text": [
      "\n",
      "Epoch 00001: val_loss improved from inf to 0.09531, saving model to best-model-conll.hdfs\n",
      "\n",
      "Epoch 00002: val_loss did not improve from 0.09531\n",
      "\n",
      "Epoch 00003: val_loss did not improve from 0.09531\n",
      "\n",
      "Epoch 00004: val_loss did not improve from 0.09531\n",
      "\n",
      "Epoch 00005: val_loss did not improve from 0.09531\n",
      "\n",
      "Epoch 00006: val_loss did not improve from 0.09531\n",
      "\n",
      "Epoch 00007: val_loss did not improve from 0.09531\n",
      "\n",
      "Epoch 00008: val_loss did not improve from 0.09531\n",
      "\n",
      "Epoch 00009: val_loss did not improve from 0.09531\n",
      "\n",
      "Epoch 00010: val_loss did not improve from 0.09531\n"
     ]
    },
    {
     "name": "stderr",
     "output_type": "stream",
     "text": [
      "/home/frankl1/miniconda3/envs/ner-projection/lib/python3.7/site-packages/ipykernel_launcher.py:17: RuntimeWarning: invalid value encountered in double_scalars\n"
     ]
    },
    {
     "name": "stdout",
     "output_type": "stream",
     "text": [
      "\n",
      "Epoch 00001: val_loss improved from inf to 0.07856, saving model to best-model-conll.hdfs\n",
      "\n",
      "Epoch 00002: val_loss improved from 0.07856 to 0.07473, saving model to best-model-conll.hdfs\n",
      "\n",
      "Epoch 00003: val_loss did not improve from 0.07473\n",
      "\n",
      "Epoch 00004: val_loss did not improve from 0.07473\n",
      "\n",
      "Epoch 00005: val_loss did not improve from 0.07473\n",
      "\n",
      "Epoch 00006: val_loss did not improve from 0.07473\n",
      "\n",
      "Epoch 00007: val_loss did not improve from 0.07473\n",
      "\n",
      "Epoch 00008: val_loss did not improve from 0.07473\n",
      "\n",
      "Epoch 00009: val_loss did not improve from 0.07473\n",
      "\n",
      "Epoch 00010: val_loss did not improve from 0.07473\n"
     ]
    },
    {
     "name": "stderr",
     "output_type": "stream",
     "text": [
      "/home/frankl1/miniconda3/envs/ner-projection/lib/python3.7/site-packages/ipykernel_launcher.py:17: RuntimeWarning: invalid value encountered in double_scalars\n"
     ]
    },
    {
     "name": "stdout",
     "output_type": "stream",
     "text": [
      "\n",
      "Epoch 00001: val_loss improved from inf to 0.11086, saving model to best-model-conll.hdfs\n",
      "\n",
      "Epoch 00002: val_loss improved from 0.11086 to 0.09979, saving model to best-model-conll.hdfs\n",
      "\n",
      "Epoch 00003: val_loss did not improve from 0.09979\n",
      "\n",
      "Epoch 00004: val_loss did not improve from 0.09979\n",
      "\n",
      "Epoch 00005: val_loss did not improve from 0.09979\n",
      "\n",
      "Epoch 00006: val_loss did not improve from 0.09979\n",
      "\n",
      "Epoch 00007: val_loss did not improve from 0.09979\n",
      "\n",
      "Epoch 00008: val_loss did not improve from 0.09979\n",
      "\n",
      "Epoch 00009: val_loss did not improve from 0.09979\n",
      "\n",
      "Epoch 00010: val_loss did not improve from 0.09979\n"
     ]
    },
    {
     "name": "stderr",
     "output_type": "stream",
     "text": [
      "/home/frankl1/miniconda3/envs/ner-projection/lib/python3.7/site-packages/ipykernel_launcher.py:17: RuntimeWarning: invalid value encountered in double_scalars\n"
     ]
    },
    {
     "name": "stdout",
     "output_type": "stream",
     "text": [
      "\n",
      "Epoch 00001: val_loss improved from inf to 0.15155, saving model to best-model-conll.hdfs\n",
      "\n",
      "Epoch 00002: val_loss did not improve from 0.15155\n",
      "\n",
      "Epoch 00003: val_loss did not improve from 0.15155\n",
      "\n",
      "Epoch 00004: val_loss did not improve from 0.15155\n",
      "\n",
      "Epoch 00005: val_loss did not improve from 0.15155\n",
      "\n",
      "Epoch 00006: val_loss did not improve from 0.15155\n",
      "\n",
      "Epoch 00007: val_loss did not improve from 0.15155\n",
      "\n",
      "Epoch 00008: val_loss did not improve from 0.15155\n",
      "\n",
      "Epoch 00009: val_loss did not improve from 0.15155\n",
      "\n",
      "Epoch 00010: val_loss did not improve from 0.15155\n"
     ]
    },
    {
     "name": "stderr",
     "output_type": "stream",
     "text": [
      "/home/frankl1/miniconda3/envs/ner-projection/lib/python3.7/site-packages/ipykernel_launcher.py:17: RuntimeWarning: invalid value encountered in double_scalars\n"
     ]
    },
    {
     "name": "stdout",
     "output_type": "stream",
     "text": [
      "\n",
      "Epoch 00001: val_loss improved from inf to 0.04896, saving model to best-model-conll.hdfs\n",
      "\n",
      "Epoch 00002: val_loss did not improve from 0.04896\n",
      "\n",
      "Epoch 00003: val_loss did not improve from 0.04896\n",
      "\n",
      "Epoch 00004: val_loss did not improve from 0.04896\n",
      "\n",
      "Epoch 00005: val_loss did not improve from 0.04896\n",
      "\n",
      "Epoch 00006: val_loss did not improve from 0.04896\n",
      "\n",
      "Epoch 00007: val_loss did not improve from 0.04896\n",
      "\n",
      "Epoch 00008: val_loss did not improve from 0.04896\n",
      "\n",
      "Epoch 00009: val_loss did not improve from 0.04896\n",
      "\n",
      "Epoch 00010: val_loss did not improve from 0.04896\n",
      "\n",
      "Epoch 00001: val_loss improved from inf to 0.07173, saving model to best-model-conll.hdfs\n",
      "\n",
      "Epoch 00002: val_loss did not improve from 0.07173\n",
      "\n",
      "Epoch 00003: val_loss did not improve from 0.07173\n",
      "\n",
      "Epoch 00004: val_loss did not improve from 0.07173\n",
      "\n",
      "Epoch 00005: val_loss did not improve from 0.07173\n",
      "\n",
      "Epoch 00006: val_loss did not improve from 0.07173\n",
      "\n",
      "Epoch 00007: val_loss did not improve from 0.07173\n",
      "\n",
      "Epoch 00008: val_loss did not improve from 0.07173\n",
      "\n",
      "Epoch 00009: val_loss did not improve from 0.07173\n",
      "\n",
      "Epoch 00010: val_loss did not improve from 0.07173\n"
     ]
    },
    {
     "name": "stderr",
     "output_type": "stream",
     "text": [
      "/home/frankl1/miniconda3/envs/ner-projection/lib/python3.7/site-packages/ipykernel_launcher.py:17: RuntimeWarning: invalid value encountered in double_scalars\n"
     ]
    },
    {
     "name": "stdout",
     "output_type": "stream",
     "text": [
      "AlgoCrossValIter - 4\n",
      "Model: \"sequential_14\"\n",
      "_________________________________________________________________\n",
      "Layer (type)                 Output Shape              Param #   \n",
      "=================================================================\n",
      "hidden1 (Dense)              (None, 640)               135040    \n",
      "_________________________________________________________________\n",
      "hidden2 (Dense)              (None, 160)               102560    \n",
      "_________________________________________________________________\n",
      "outputlayer (Dense)          (None, 5)                 805       \n",
      "=================================================================\n",
      "Total params: 238,405\n",
      "Trainable params: 238,405\n",
      "Non-trainable params: 0\n",
      "_________________________________________________________________\n",
      "\n",
      "Epoch 00001: val_loss improved from inf to 0.61598, saving model to best-model-conll.hdfs\n",
      "\n",
      "Epoch 00002: val_loss improved from 0.61598 to 0.33874, saving model to best-model-conll.hdfs\n",
      "\n",
      "Epoch 00003: val_loss improved from 0.33874 to 0.32076, saving model to best-model-conll.hdfs\n",
      "\n",
      "Epoch 00004: val_loss improved from 0.32076 to 0.30277, saving model to best-model-conll.hdfs\n",
      "\n",
      "Epoch 00005: val_loss improved from 0.30277 to 0.29650, saving model to best-model-conll.hdfs\n",
      "\n",
      "Epoch 00006: val_loss improved from 0.29650 to 0.28174, saving model to best-model-conll.hdfs\n",
      "\n",
      "Epoch 00007: val_loss did not improve from 0.28174\n",
      "\n",
      "Epoch 00008: val_loss did not improve from 0.28174\n",
      "\n",
      "Epoch 00009: val_loss did not improve from 0.28174\n",
      "\n",
      "Epoch 00010: val_loss did not improve from 0.28174\n"
     ]
    },
    {
     "name": "stderr",
     "output_type": "stream",
     "text": [
      "/home/frankl1/miniconda3/envs/ner-projection/lib/python3.7/site-packages/ipykernel_launcher.py:17: RuntimeWarning: invalid value encountered in double_scalars\n"
     ]
    },
    {
     "name": "stdout",
     "output_type": "stream",
     "text": [
      "\n",
      "Epoch 00001: val_loss improved from inf to 0.28702, saving model to best-model-conll.hdfs\n",
      "\n",
      "Epoch 00002: val_loss improved from 0.28702 to 0.20000, saving model to best-model-conll.hdfs\n",
      "\n",
      "Epoch 00003: val_loss did not improve from 0.20000\n",
      "\n",
      "Epoch 00004: val_loss did not improve from 0.20000\n",
      "\n",
      "Epoch 00005: val_loss did not improve from 0.20000\n",
      "\n",
      "Epoch 00006: val_loss did not improve from 0.20000\n",
      "\n",
      "Epoch 00007: val_loss did not improve from 0.20000\n",
      "\n",
      "Epoch 00008: val_loss did not improve from 0.20000\n",
      "\n",
      "Epoch 00009: val_loss did not improve from 0.20000\n",
      "\n",
      "Epoch 00010: val_loss did not improve from 0.20000\n"
     ]
    },
    {
     "name": "stderr",
     "output_type": "stream",
     "text": [
      "/home/frankl1/miniconda3/envs/ner-projection/lib/python3.7/site-packages/ipykernel_launcher.py:17: RuntimeWarning: invalid value encountered in double_scalars\n"
     ]
    },
    {
     "name": "stdout",
     "output_type": "stream",
     "text": [
      "\n",
      "Epoch 00001: val_loss improved from inf to 0.12744, saving model to best-model-conll.hdfs\n",
      "\n",
      "Epoch 00002: val_loss improved from 0.12744 to 0.11704, saving model to best-model-conll.hdfs\n",
      "\n",
      "Epoch 00003: val_loss did not improve from 0.11704\n",
      "\n",
      "Epoch 00004: val_loss did not improve from 0.11704\n",
      "\n",
      "Epoch 00005: val_loss did not improve from 0.11704\n",
      "\n",
      "Epoch 00006: val_loss did not improve from 0.11704\n",
      "\n",
      "Epoch 00007: val_loss did not improve from 0.11704\n",
      "\n",
      "Epoch 00008: val_loss did not improve from 0.11704\n",
      "\n",
      "Epoch 00009: val_loss did not improve from 0.11704\n",
      "\n",
      "Epoch 00010: val_loss did not improve from 0.11704\n"
     ]
    },
    {
     "name": "stderr",
     "output_type": "stream",
     "text": [
      "/home/frankl1/miniconda3/envs/ner-projection/lib/python3.7/site-packages/ipykernel_launcher.py:17: RuntimeWarning: invalid value encountered in double_scalars\n"
     ]
    },
    {
     "name": "stdout",
     "output_type": "stream",
     "text": [
      "\n",
      "Epoch 00001: val_loss improved from inf to 0.09361, saving model to best-model-conll.hdfs\n",
      "\n",
      "Epoch 00002: val_loss improved from 0.09361 to 0.08503, saving model to best-model-conll.hdfs\n",
      "\n",
      "Epoch 00003: val_loss did not improve from 0.08503\n",
      "\n",
      "Epoch 00004: val_loss did not improve from 0.08503\n",
      "\n",
      "Epoch 00005: val_loss did not improve from 0.08503\n",
      "\n",
      "Epoch 00006: val_loss did not improve from 0.08503\n",
      "\n",
      "Epoch 00007: val_loss did not improve from 0.08503\n",
      "\n",
      "Epoch 00008: val_loss did not improve from 0.08503\n",
      "\n",
      "Epoch 00009: val_loss did not improve from 0.08503\n",
      "\n",
      "Epoch 00010: val_loss did not improve from 0.08503\n"
     ]
    },
    {
     "name": "stderr",
     "output_type": "stream",
     "text": [
      "/home/frankl1/miniconda3/envs/ner-projection/lib/python3.7/site-packages/ipykernel_launcher.py:17: RuntimeWarning: invalid value encountered in double_scalars\n"
     ]
    },
    {
     "name": "stdout",
     "output_type": "stream",
     "text": [
      "\n",
      "Epoch 00001: val_loss improved from inf to 0.11000, saving model to best-model-conll.hdfs\n",
      "\n",
      "Epoch 00002: val_loss did not improve from 0.11000\n",
      "\n",
      "Epoch 00003: val_loss did not improve from 0.11000\n",
      "\n",
      "Epoch 00004: val_loss did not improve from 0.11000\n",
      "\n",
      "Epoch 00005: val_loss did not improve from 0.11000\n",
      "\n",
      "Epoch 00006: val_loss did not improve from 0.11000\n",
      "\n",
      "Epoch 00007: val_loss did not improve from 0.11000\n",
      "\n",
      "Epoch 00008: val_loss did not improve from 0.11000\n",
      "\n",
      "Epoch 00009: val_loss did not improve from 0.11000\n",
      "\n",
      "Epoch 00010: val_loss did not improve from 0.11000\n"
     ]
    },
    {
     "name": "stderr",
     "output_type": "stream",
     "text": [
      "/home/frankl1/miniconda3/envs/ner-projection/lib/python3.7/site-packages/ipykernel_launcher.py:17: RuntimeWarning: invalid value encountered in double_scalars\n"
     ]
    },
    {
     "name": "stdout",
     "output_type": "stream",
     "text": [
      "\n",
      "Epoch 00001: val_loss improved from inf to 0.07940, saving model to best-model-conll.hdfs\n",
      "\n",
      "Epoch 00002: val_loss improved from 0.07940 to 0.06798, saving model to best-model-conll.hdfs\n",
      "\n",
      "Epoch 00003: val_loss did not improve from 0.06798\n",
      "\n",
      "Epoch 00004: val_loss did not improve from 0.06798\n",
      "\n",
      "Epoch 00005: val_loss did not improve from 0.06798\n",
      "\n",
      "Epoch 00006: val_loss did not improve from 0.06798\n",
      "\n",
      "Epoch 00007: val_loss did not improve from 0.06798\n",
      "\n",
      "Epoch 00008: val_loss did not improve from 0.06798\n",
      "\n",
      "Epoch 00009: val_loss did not improve from 0.06798\n",
      "\n",
      "Epoch 00010: val_loss did not improve from 0.06798\n"
     ]
    },
    {
     "name": "stderr",
     "output_type": "stream",
     "text": [
      "/home/frankl1/miniconda3/envs/ner-projection/lib/python3.7/site-packages/ipykernel_launcher.py:17: RuntimeWarning: invalid value encountered in double_scalars\n"
     ]
    },
    {
     "name": "stdout",
     "output_type": "stream",
     "text": [
      "\n",
      "Epoch 00001: val_loss improved from inf to 0.08834, saving model to best-model-conll.hdfs\n",
      "\n",
      "Epoch 00002: val_loss did not improve from 0.08834\n",
      "\n",
      "Epoch 00003: val_loss did not improve from 0.08834\n",
      "\n",
      "Epoch 00004: val_loss did not improve from 0.08834\n",
      "\n",
      "Epoch 00005: val_loss did not improve from 0.08834\n",
      "\n",
      "Epoch 00006: val_loss did not improve from 0.08834\n",
      "\n",
      "Epoch 00007: val_loss did not improve from 0.08834\n",
      "\n",
      "Epoch 00008: val_loss did not improve from 0.08834\n",
      "\n",
      "Epoch 00009: val_loss did not improve from 0.08834\n",
      "\n",
      "Epoch 00010: val_loss did not improve from 0.08834\n"
     ]
    },
    {
     "name": "stderr",
     "output_type": "stream",
     "text": [
      "/home/frankl1/miniconda3/envs/ner-projection/lib/python3.7/site-packages/ipykernel_launcher.py:17: RuntimeWarning: invalid value encountered in double_scalars\n"
     ]
    },
    {
     "name": "stdout",
     "output_type": "stream",
     "text": [
      "\n",
      "Epoch 00001: val_loss improved from inf to 0.18051, saving model to best-model-conll.hdfs\n",
      "\n",
      "Epoch 00002: val_loss improved from 0.18051 to 0.16944, saving model to best-model-conll.hdfs\n",
      "\n",
      "Epoch 00003: val_loss did not improve from 0.16944\n",
      "\n",
      "Epoch 00004: val_loss did not improve from 0.16944\n",
      "\n",
      "Epoch 00005: val_loss did not improve from 0.16944\n",
      "\n",
      "Epoch 00006: val_loss did not improve from 0.16944\n",
      "\n",
      "Epoch 00007: val_loss did not improve from 0.16944\n",
      "\n",
      "Epoch 00008: val_loss did not improve from 0.16944\n",
      "\n",
      "Epoch 00009: val_loss did not improve from 0.16944\n",
      "\n",
      "Epoch 00010: val_loss did not improve from 0.16944\n"
     ]
    },
    {
     "name": "stderr",
     "output_type": "stream",
     "text": [
      "/home/frankl1/miniconda3/envs/ner-projection/lib/python3.7/site-packages/ipykernel_launcher.py:17: RuntimeWarning: invalid value encountered in double_scalars\n"
     ]
    },
    {
     "name": "stdout",
     "output_type": "stream",
     "text": [
      "\n",
      "Epoch 00001: val_loss improved from inf to 0.05576, saving model to best-model-conll.hdfs\n",
      "\n",
      "Epoch 00002: val_loss did not improve from 0.05576\n",
      "\n",
      "Epoch 00003: val_loss did not improve from 0.05576\n",
      "\n",
      "Epoch 00004: val_loss did not improve from 0.05576\n",
      "\n",
      "Epoch 00005: val_loss did not improve from 0.05576\n",
      "\n",
      "Epoch 00006: val_loss did not improve from 0.05576\n",
      "\n",
      "Epoch 00007: val_loss did not improve from 0.05576\n",
      "\n",
      "Epoch 00008: val_loss did not improve from 0.05576\n",
      "\n",
      "Epoch 00009: val_loss did not improve from 0.05576\n",
      "\n",
      "Epoch 00010: val_loss did not improve from 0.05576\n"
     ]
    },
    {
     "name": "stderr",
     "output_type": "stream",
     "text": [
      "/home/frankl1/miniconda3/envs/ner-projection/lib/python3.7/site-packages/ipykernel_launcher.py:17: RuntimeWarning: invalid value encountered in double_scalars\n"
     ]
    },
    {
     "name": "stdout",
     "output_type": "stream",
     "text": [
      "\n",
      "Epoch 00001: val_loss improved from inf to 0.06642, saving model to best-model-conll.hdfs\n",
      "\n",
      "Epoch 00002: val_loss improved from 0.06642 to 0.06494, saving model to best-model-conll.hdfs\n",
      "\n",
      "Epoch 00003: val_loss did not improve from 0.06494\n",
      "\n",
      "Epoch 00004: val_loss did not improve from 0.06494\n",
      "\n",
      "Epoch 00005: val_loss did not improve from 0.06494\n",
      "\n",
      "Epoch 00006: val_loss did not improve from 0.06494\n",
      "\n",
      "Epoch 00007: val_loss did not improve from 0.06494\n",
      "\n",
      "Epoch 00008: val_loss did not improve from 0.06494\n",
      "\n",
      "Epoch 00009: val_loss did not improve from 0.06494\n",
      "\n",
      "Epoch 00010: val_loss did not improve from 0.06494\n"
     ]
    },
    {
     "name": "stderr",
     "output_type": "stream",
     "text": [
      "/home/frankl1/miniconda3/envs/ner-projection/lib/python3.7/site-packages/ipykernel_launcher.py:17: RuntimeWarning: invalid value encountered in double_scalars\n"
     ]
    },
    {
     "name": "stdout",
     "output_type": "stream",
     "text": [
      "AlgoCrossValIter - 5\n",
      "Model: \"sequential_15\"\n",
      "_________________________________________________________________\n",
      "Layer (type)                 Output Shape              Param #   \n",
      "=================================================================\n",
      "hidden1 (Dense)              (None, 640)               135040    \n",
      "_________________________________________________________________\n",
      "hidden2 (Dense)              (None, 160)               102560    \n",
      "_________________________________________________________________\n",
      "outputlayer (Dense)          (None, 5)                 805       \n",
      "=================================================================\n",
      "Total params: 238,405\n",
      "Trainable params: 238,405\n",
      "Non-trainable params: 0\n",
      "_________________________________________________________________\n",
      "\n",
      "Epoch 00001: val_loss improved from inf to 0.36156, saving model to best-model-conll.hdfs\n",
      "\n",
      "Epoch 00002: val_loss did not improve from 0.36156\n",
      "\n",
      "Epoch 00003: val_loss did not improve from 0.36156\n",
      "\n",
      "Epoch 00004: val_loss improved from 0.36156 to 0.30612, saving model to best-model-conll.hdfs\n",
      "\n",
      "Epoch 00005: val_loss did not improve from 0.30612\n",
      "\n",
      "Epoch 00006: val_loss did not improve from 0.30612\n",
      "\n",
      "Epoch 00007: val_loss did not improve from 0.30612\n",
      "\n",
      "Epoch 00008: val_loss did not improve from 0.30612\n",
      "\n",
      "Epoch 00009: val_loss did not improve from 0.30612\n",
      "\n",
      "Epoch 00010: val_loss improved from 0.30612 to 0.30251, saving model to best-model-conll.hdfs\n"
     ]
    },
    {
     "name": "stderr",
     "output_type": "stream",
     "text": [
      "/home/frankl1/miniconda3/envs/ner-projection/lib/python3.7/site-packages/ipykernel_launcher.py:17: RuntimeWarning: invalid value encountered in double_scalars\n"
     ]
    },
    {
     "name": "stdout",
     "output_type": "stream",
     "text": [
      "\n",
      "Epoch 00001: val_loss improved from inf to 0.20578, saving model to best-model-conll.hdfs\n",
      "\n",
      "Epoch 00002: val_loss did not improve from 0.20578\n",
      "\n",
      "Epoch 00003: val_loss did not improve from 0.20578\n",
      "\n",
      "Epoch 00004: val_loss did not improve from 0.20578\n",
      "\n",
      "Epoch 00005: val_loss did not improve from 0.20578\n",
      "\n",
      "Epoch 00006: val_loss did not improve from 0.20578\n",
      "\n",
      "Epoch 00007: val_loss did not improve from 0.20578\n",
      "\n",
      "Epoch 00008: val_loss did not improve from 0.20578\n",
      "\n",
      "Epoch 00009: val_loss did not improve from 0.20578\n",
      "\n",
      "Epoch 00010: val_loss did not improve from 0.20578\n"
     ]
    },
    {
     "name": "stderr",
     "output_type": "stream",
     "text": [
      "/home/frankl1/miniconda3/envs/ner-projection/lib/python3.7/site-packages/ipykernel_launcher.py:17: RuntimeWarning: invalid value encountered in double_scalars\n"
     ]
    },
    {
     "name": "stdout",
     "output_type": "stream",
     "text": [
      "\n",
      "Epoch 00001: val_loss improved from inf to 0.10873, saving model to best-model-conll.hdfs\n",
      "\n",
      "Epoch 00002: val_loss did not improve from 0.10873\n",
      "\n",
      "Epoch 00003: val_loss did not improve from 0.10873\n",
      "\n",
      "Epoch 00004: val_loss did not improve from 0.10873\n",
      "\n",
      "Epoch 00005: val_loss did not improve from 0.10873\n",
      "\n",
      "Epoch 00006: val_loss did not improve from 0.10873\n",
      "\n",
      "Epoch 00007: val_loss did not improve from 0.10873\n",
      "\n",
      "Epoch 00008: val_loss did not improve from 0.10873\n",
      "\n",
      "Epoch 00009: val_loss did not improve from 0.10873\n",
      "\n",
      "Epoch 00010: val_loss did not improve from 0.10873\n"
     ]
    },
    {
     "name": "stderr",
     "output_type": "stream",
     "text": [
      "/home/frankl1/miniconda3/envs/ner-projection/lib/python3.7/site-packages/ipykernel_launcher.py:17: RuntimeWarning: invalid value encountered in double_scalars\n"
     ]
    },
    {
     "name": "stdout",
     "output_type": "stream",
     "text": [
      "\n",
      "Epoch 00001: val_loss improved from inf to 0.06947, saving model to best-model-conll.hdfs\n",
      "\n",
      "Epoch 00002: val_loss improved from 0.06947 to 0.06928, saving model to best-model-conll.hdfs\n",
      "\n",
      "Epoch 00003: val_loss did not improve from 0.06928\n",
      "\n",
      "Epoch 00004: val_loss did not improve from 0.06928\n",
      "\n",
      "Epoch 00005: val_loss did not improve from 0.06928\n",
      "\n",
      "Epoch 00006: val_loss did not improve from 0.06928\n",
      "\n",
      "Epoch 00007: val_loss did not improve from 0.06928\n",
      "\n",
      "Epoch 00008: val_loss did not improve from 0.06928\n",
      "\n",
      "Epoch 00009: val_loss did not improve from 0.06928\n",
      "\n",
      "Epoch 00010: val_loss did not improve from 0.06928\n"
     ]
    },
    {
     "name": "stderr",
     "output_type": "stream",
     "text": [
      "/home/frankl1/miniconda3/envs/ner-projection/lib/python3.7/site-packages/ipykernel_launcher.py:17: RuntimeWarning: invalid value encountered in double_scalars\n"
     ]
    },
    {
     "name": "stdout",
     "output_type": "stream",
     "text": [
      "\n",
      "Epoch 00001: val_loss improved from inf to 0.08368, saving model to best-model-conll.hdfs\n",
      "\n",
      "Epoch 00002: val_loss did not improve from 0.08368\n",
      "\n",
      "Epoch 00003: val_loss did not improve from 0.08368\n",
      "\n",
      "Epoch 00004: val_loss did not improve from 0.08368\n",
      "\n",
      "Epoch 00005: val_loss did not improve from 0.08368\n",
      "\n",
      "Epoch 00006: val_loss did not improve from 0.08368\n",
      "\n",
      "Epoch 00007: val_loss did not improve from 0.08368\n",
      "\n",
      "Epoch 00008: val_loss did not improve from 0.08368\n",
      "\n",
      "Epoch 00009: val_loss did not improve from 0.08368\n",
      "\n",
      "Epoch 00010: val_loss did not improve from 0.08368\n"
     ]
    },
    {
     "name": "stderr",
     "output_type": "stream",
     "text": [
      "/home/frankl1/miniconda3/envs/ner-projection/lib/python3.7/site-packages/ipykernel_launcher.py:17: RuntimeWarning: invalid value encountered in double_scalars\n"
     ]
    },
    {
     "name": "stdout",
     "output_type": "stream",
     "text": [
      "\n",
      "Epoch 00001: val_loss improved from inf to 0.07381, saving model to best-model-conll.hdfs\n",
      "\n",
      "Epoch 00002: val_loss did not improve from 0.07381\n",
      "\n",
      "Epoch 00003: val_loss did not improve from 0.07381\n",
      "\n",
      "Epoch 00004: val_loss did not improve from 0.07381\n",
      "\n",
      "Epoch 00005: val_loss did not improve from 0.07381\n",
      "\n",
      "Epoch 00006: val_loss did not improve from 0.07381\n",
      "\n",
      "Epoch 00007: val_loss did not improve from 0.07381\n",
      "\n",
      "Epoch 00008: val_loss did not improve from 0.07381\n",
      "\n",
      "Epoch 00009: val_loss did not improve from 0.07381\n",
      "\n",
      "Epoch 00010: val_loss did not improve from 0.07381\n"
     ]
    },
    {
     "name": "stderr",
     "output_type": "stream",
     "text": [
      "/home/frankl1/miniconda3/envs/ner-projection/lib/python3.7/site-packages/ipykernel_launcher.py:17: RuntimeWarning: invalid value encountered in double_scalars\n"
     ]
    },
    {
     "name": "stdout",
     "output_type": "stream",
     "text": [
      "\n",
      "Epoch 00001: val_loss improved from inf to 0.08655, saving model to best-model-conll.hdfs\n",
      "\n",
      "Epoch 00002: val_loss did not improve from 0.08655\n",
      "\n",
      "Epoch 00003: val_loss did not improve from 0.08655\n",
      "\n",
      "Epoch 00004: val_loss did not improve from 0.08655\n",
      "\n",
      "Epoch 00005: val_loss did not improve from 0.08655\n",
      "\n",
      "Epoch 00006: val_loss did not improve from 0.08655\n",
      "\n",
      "Epoch 00007: val_loss did not improve from 0.08655\n",
      "\n",
      "Epoch 00008: val_loss did not improve from 0.08655\n",
      "\n",
      "Epoch 00009: val_loss did not improve from 0.08655\n",
      "\n",
      "Epoch 00010: val_loss did not improve from 0.08655\n"
     ]
    },
    {
     "name": "stderr",
     "output_type": "stream",
     "text": [
      "/home/frankl1/miniconda3/envs/ner-projection/lib/python3.7/site-packages/ipykernel_launcher.py:17: RuntimeWarning: invalid value encountered in double_scalars\n"
     ]
    },
    {
     "name": "stdout",
     "output_type": "stream",
     "text": [
      "\n",
      "Epoch 00001: val_loss improved from inf to 0.17204, saving model to best-model-conll.hdfs\n",
      "\n",
      "Epoch 00002: val_loss did not improve from 0.17204\n",
      "\n",
      "Epoch 00003: val_loss did not improve from 0.17204\n",
      "\n",
      "Epoch 00004: val_loss did not improve from 0.17204\n",
      "\n",
      "Epoch 00005: val_loss did not improve from 0.17204\n",
      "\n",
      "Epoch 00006: val_loss did not improve from 0.17204\n",
      "\n",
      "Epoch 00007: val_loss did not improve from 0.17204\n",
      "\n",
      "Epoch 00008: val_loss did not improve from 0.17204\n",
      "\n",
      "Epoch 00009: val_loss did not improve from 0.17204\n",
      "\n",
      "Epoch 00010: val_loss did not improve from 0.17204\n"
     ]
    },
    {
     "name": "stderr",
     "output_type": "stream",
     "text": [
      "/home/frankl1/miniconda3/envs/ner-projection/lib/python3.7/site-packages/ipykernel_launcher.py:17: RuntimeWarning: invalid value encountered in double_scalars\n"
     ]
    },
    {
     "name": "stdout",
     "output_type": "stream",
     "text": [
      "\n",
      "Epoch 00001: val_loss improved from inf to 0.07271, saving model to best-model-conll.hdfs\n",
      "\n",
      "Epoch 00002: val_loss did not improve from 0.07271\n",
      "\n",
      "Epoch 00003: val_loss did not improve from 0.07271\n",
      "\n",
      "Epoch 00004: val_loss did not improve from 0.07271\n",
      "\n",
      "Epoch 00005: val_loss did not improve from 0.07271\n",
      "\n",
      "Epoch 00006: val_loss did not improve from 0.07271\n",
      "\n",
      "Epoch 00007: val_loss did not improve from 0.07271\n",
      "\n",
      "Epoch 00008: val_loss did not improve from 0.07271\n",
      "\n",
      "Epoch 00009: val_loss did not improve from 0.07271\n",
      "\n",
      "Epoch 00010: val_loss did not improve from 0.07271\n",
      "\n",
      "Epoch 00001: val_loss improved from inf to 0.09329, saving model to best-model-conll.hdfs\n",
      "\n",
      "Epoch 00002: val_loss did not improve from 0.09329\n",
      "\n",
      "Epoch 00003: val_loss did not improve from 0.09329\n",
      "\n",
      "Epoch 00004: val_loss improved from 0.09329 to 0.08511, saving model to best-model-conll.hdfs\n",
      "\n",
      "Epoch 00005: val_loss did not improve from 0.08511\n",
      "\n",
      "Epoch 00006: val_loss did not improve from 0.08511\n",
      "\n",
      "Epoch 00007: val_loss did not improve from 0.08511\n",
      "\n",
      "Epoch 00008: val_loss did not improve from 0.08511\n",
      "\n",
      "Epoch 00009: val_loss did not improve from 0.08511\n",
      "\n",
      "Epoch 00010: val_loss did not improve from 0.08511\n"
     ]
    },
    {
     "name": "stderr",
     "output_type": "stream",
     "text": [
      "/home/frankl1/miniconda3/envs/ner-projection/lib/python3.7/site-packages/ipykernel_launcher.py:17: RuntimeWarning: invalid value encountered in double_scalars\n"
     ]
    },
    {
     "name": "stdout",
     "output_type": "stream",
     "text": [
      "AlgoCrossValIter - 6\n",
      "Model: \"sequential_16\"\n",
      "_________________________________________________________________\n",
      "Layer (type)                 Output Shape              Param #   \n",
      "=================================================================\n",
      "hidden1 (Dense)              (None, 640)               135040    \n",
      "_________________________________________________________________\n",
      "hidden2 (Dense)              (None, 160)               102560    \n",
      "_________________________________________________________________\n",
      "outputlayer (Dense)          (None, 5)                 805       \n",
      "=================================================================\n",
      "Total params: 238,405\n",
      "Trainable params: 238,405\n",
      "Non-trainable params: 0\n",
      "_________________________________________________________________\n",
      "\n",
      "Epoch 00001: val_loss improved from inf to 0.38056, saving model to best-model-conll.hdfs\n",
      "\n",
      "Epoch 00002: val_loss improved from 0.38056 to 0.37696, saving model to best-model-conll.hdfs\n",
      "\n",
      "Epoch 00003: val_loss improved from 0.37696 to 0.33556, saving model to best-model-conll.hdfs\n",
      "\n",
      "Epoch 00004: val_loss improved from 0.33556 to 0.30292, saving model to best-model-conll.hdfs\n",
      "\n",
      "Epoch 00005: val_loss did not improve from 0.30292\n",
      "\n",
      "Epoch 00006: val_loss improved from 0.30292 to 0.27943, saving model to best-model-conll.hdfs\n",
      "\n",
      "Epoch 00007: val_loss improved from 0.27943 to 0.27638, saving model to best-model-conll.hdfs\n",
      "\n",
      "Epoch 00008: val_loss improved from 0.27638 to 0.27079, saving model to best-model-conll.hdfs\n",
      "\n",
      "Epoch 00009: val_loss did not improve from 0.27079\n",
      "\n",
      "Epoch 00010: val_loss did not improve from 0.27079\n"
     ]
    },
    {
     "name": "stderr",
     "output_type": "stream",
     "text": [
      "/home/frankl1/miniconda3/envs/ner-projection/lib/python3.7/site-packages/ipykernel_launcher.py:17: RuntimeWarning: invalid value encountered in double_scalars\n"
     ]
    },
    {
     "name": "stdout",
     "output_type": "stream",
     "text": [
      "\n",
      "Epoch 00001: val_loss improved from inf to 0.21508, saving model to best-model-conll.hdfs\n",
      "\n",
      "Epoch 00002: val_loss did not improve from 0.21508\n",
      "\n",
      "Epoch 00003: val_loss did not improve from 0.21508\n",
      "\n",
      "Epoch 00004: val_loss did not improve from 0.21508\n",
      "\n",
      "Epoch 00005: val_loss did not improve from 0.21508\n",
      "\n",
      "Epoch 00006: val_loss did not improve from 0.21508\n",
      "\n",
      "Epoch 00007: val_loss did not improve from 0.21508\n",
      "\n",
      "Epoch 00008: val_loss did not improve from 0.21508\n",
      "\n",
      "Epoch 00009: val_loss did not improve from 0.21508\n",
      "\n",
      "Epoch 00010: val_loss did not improve from 0.21508\n"
     ]
    },
    {
     "name": "stderr",
     "output_type": "stream",
     "text": [
      "/home/frankl1/miniconda3/envs/ner-projection/lib/python3.7/site-packages/ipykernel_launcher.py:17: RuntimeWarning: invalid value encountered in double_scalars\n"
     ]
    },
    {
     "name": "stdout",
     "output_type": "stream",
     "text": [
      "\n",
      "Epoch 00001: val_loss improved from inf to 0.17846, saving model to best-model-conll.hdfs\n",
      "\n",
      "Epoch 00002: val_loss improved from 0.17846 to 0.14360, saving model to best-model-conll.hdfs\n",
      "\n",
      "Epoch 00003: val_loss did not improve from 0.14360\n",
      "\n",
      "Epoch 00004: val_loss did not improve from 0.14360\n",
      "\n",
      "Epoch 00005: val_loss did not improve from 0.14360\n",
      "\n",
      "Epoch 00006: val_loss did not improve from 0.14360\n",
      "\n",
      "Epoch 00007: val_loss did not improve from 0.14360\n",
      "\n",
      "Epoch 00008: val_loss did not improve from 0.14360\n",
      "\n",
      "Epoch 00009: val_loss did not improve from 0.14360\n",
      "\n",
      "Epoch 00010: val_loss did not improve from 0.14360\n"
     ]
    },
    {
     "name": "stderr",
     "output_type": "stream",
     "text": [
      "/home/frankl1/miniconda3/envs/ner-projection/lib/python3.7/site-packages/ipykernel_launcher.py:17: RuntimeWarning: invalid value encountered in double_scalars\n"
     ]
    },
    {
     "name": "stdout",
     "output_type": "stream",
     "text": [
      "\n",
      "Epoch 00001: val_loss improved from inf to 0.07101, saving model to best-model-conll.hdfs\n",
      "\n",
      "Epoch 00002: val_loss did not improve from 0.07101\n",
      "\n",
      "Epoch 00003: val_loss did not improve from 0.07101\n",
      "\n",
      "Epoch 00004: val_loss did not improve from 0.07101\n",
      "\n",
      "Epoch 00005: val_loss did not improve from 0.07101\n",
      "\n",
      "Epoch 00006: val_loss did not improve from 0.07101\n",
      "\n",
      "Epoch 00007: val_loss did not improve from 0.07101\n",
      "\n",
      "Epoch 00008: val_loss did not improve from 0.07101\n",
      "\n",
      "Epoch 00009: val_loss did not improve from 0.07101\n",
      "\n",
      "Epoch 00010: val_loss did not improve from 0.07101\n"
     ]
    },
    {
     "name": "stderr",
     "output_type": "stream",
     "text": [
      "/home/frankl1/miniconda3/envs/ner-projection/lib/python3.7/site-packages/ipykernel_launcher.py:17: RuntimeWarning: invalid value encountered in double_scalars\n"
     ]
    },
    {
     "name": "stdout",
     "output_type": "stream",
     "text": [
      "\n",
      "Epoch 00001: val_loss improved from inf to 0.10431, saving model to best-model-conll.hdfs\n",
      "\n",
      "Epoch 00002: val_loss did not improve from 0.10431\n",
      "\n",
      "Epoch 00003: val_loss did not improve from 0.10431\n",
      "\n",
      "Epoch 00004: val_loss did not improve from 0.10431\n",
      "\n",
      "Epoch 00005: val_loss did not improve from 0.10431\n",
      "\n",
      "Epoch 00006: val_loss did not improve from 0.10431\n",
      "\n",
      "Epoch 00007: val_loss did not improve from 0.10431\n",
      "\n",
      "Epoch 00008: val_loss did not improve from 0.10431\n",
      "\n",
      "Epoch 00009: val_loss did not improve from 0.10431\n",
      "\n",
      "Epoch 00010: val_loss did not improve from 0.10431\n"
     ]
    },
    {
     "name": "stderr",
     "output_type": "stream",
     "text": [
      "/home/frankl1/miniconda3/envs/ner-projection/lib/python3.7/site-packages/ipykernel_launcher.py:17: RuntimeWarning: invalid value encountered in double_scalars\n"
     ]
    },
    {
     "name": "stdout",
     "output_type": "stream",
     "text": [
      "\n",
      "Epoch 00001: val_loss improved from inf to 0.08306, saving model to best-model-conll.hdfs\n",
      "\n",
      "Epoch 00002: val_loss did not improve from 0.08306\n",
      "\n",
      "Epoch 00003: val_loss did not improve from 0.08306\n",
      "\n",
      "Epoch 00004: val_loss did not improve from 0.08306\n",
      "\n",
      "Epoch 00005: val_loss did not improve from 0.08306\n",
      "\n",
      "Epoch 00006: val_loss did not improve from 0.08306\n",
      "\n",
      "Epoch 00007: val_loss did not improve from 0.08306\n",
      "\n",
      "Epoch 00008: val_loss did not improve from 0.08306\n",
      "\n",
      "Epoch 00009: val_loss did not improve from 0.08306\n",
      "\n",
      "Epoch 00010: val_loss did not improve from 0.08306\n"
     ]
    },
    {
     "name": "stderr",
     "output_type": "stream",
     "text": [
      "/home/frankl1/miniconda3/envs/ner-projection/lib/python3.7/site-packages/ipykernel_launcher.py:17: RuntimeWarning: invalid value encountered in double_scalars\n"
     ]
    },
    {
     "name": "stdout",
     "output_type": "stream",
     "text": [
      "\n",
      "Epoch 00001: val_loss improved from inf to 0.07926, saving model to best-model-conll.hdfs\n",
      "\n",
      "Epoch 00002: val_loss did not improve from 0.07926\n",
      "\n",
      "Epoch 00003: val_loss did not improve from 0.07926\n",
      "\n",
      "Epoch 00004: val_loss did not improve from 0.07926\n",
      "\n",
      "Epoch 00005: val_loss did not improve from 0.07926\n",
      "\n",
      "Epoch 00006: val_loss did not improve from 0.07926\n",
      "\n",
      "Epoch 00007: val_loss did not improve from 0.07926\n",
      "\n",
      "Epoch 00008: val_loss did not improve from 0.07926\n",
      "\n",
      "Epoch 00009: val_loss did not improve from 0.07926\n",
      "\n",
      "Epoch 00010: val_loss did not improve from 0.07926\n"
     ]
    },
    {
     "name": "stderr",
     "output_type": "stream",
     "text": [
      "/home/frankl1/miniconda3/envs/ner-projection/lib/python3.7/site-packages/ipykernel_launcher.py:17: RuntimeWarning: invalid value encountered in double_scalars\n"
     ]
    },
    {
     "name": "stdout",
     "output_type": "stream",
     "text": [
      "\n",
      "Epoch 00001: val_loss improved from inf to 0.17449, saving model to best-model-conll.hdfs\n",
      "\n",
      "Epoch 00002: val_loss improved from 0.17449 to 0.16318, saving model to best-model-conll.hdfs\n",
      "\n",
      "Epoch 00003: val_loss did not improve from 0.16318\n",
      "\n",
      "Epoch 00004: val_loss did not improve from 0.16318\n",
      "\n",
      "Epoch 00005: val_loss did not improve from 0.16318\n",
      "\n",
      "Epoch 00006: val_loss did not improve from 0.16318\n",
      "\n",
      "Epoch 00007: val_loss did not improve from 0.16318\n",
      "\n",
      "Epoch 00008: val_loss did not improve from 0.16318\n",
      "\n",
      "Epoch 00009: val_loss did not improve from 0.16318\n",
      "\n",
      "Epoch 00010: val_loss did not improve from 0.16318\n"
     ]
    },
    {
     "name": "stderr",
     "output_type": "stream",
     "text": [
      "/home/frankl1/miniconda3/envs/ner-projection/lib/python3.7/site-packages/ipykernel_launcher.py:17: RuntimeWarning: invalid value encountered in double_scalars\n"
     ]
    },
    {
     "name": "stdout",
     "output_type": "stream",
     "text": [
      "\n",
      "Epoch 00001: val_loss improved from inf to 0.07107, saving model to best-model-conll.hdfs\n",
      "\n",
      "Epoch 00002: val_loss improved from 0.07107 to 0.06981, saving model to best-model-conll.hdfs\n",
      "\n",
      "Epoch 00003: val_loss did not improve from 0.06981\n",
      "\n",
      "Epoch 00004: val_loss did not improve from 0.06981\n",
      "\n",
      "Epoch 00005: val_loss did not improve from 0.06981\n",
      "\n",
      "Epoch 00006: val_loss did not improve from 0.06981\n",
      "\n",
      "Epoch 00007: val_loss did not improve from 0.06981\n",
      "\n",
      "Epoch 00008: val_loss did not improve from 0.06981\n",
      "\n",
      "Epoch 00009: val_loss did not improve from 0.06981\n",
      "\n",
      "Epoch 00010: val_loss did not improve from 0.06981\n"
     ]
    },
    {
     "name": "stderr",
     "output_type": "stream",
     "text": [
      "/home/frankl1/miniconda3/envs/ner-projection/lib/python3.7/site-packages/ipykernel_launcher.py:17: RuntimeWarning: invalid value encountered in double_scalars\n"
     ]
    },
    {
     "name": "stdout",
     "output_type": "stream",
     "text": [
      "\n",
      "Epoch 00001: val_loss improved from inf to 0.07306, saving model to best-model-conll.hdfs\n",
      "\n",
      "Epoch 00002: val_loss improved from 0.07306 to 0.06869, saving model to best-model-conll.hdfs\n",
      "\n",
      "Epoch 00003: val_loss did not improve from 0.06869\n",
      "\n",
      "Epoch 00004: val_loss did not improve from 0.06869\n",
      "\n",
      "Epoch 00005: val_loss did not improve from 0.06869\n",
      "\n",
      "Epoch 00006: val_loss did not improve from 0.06869\n",
      "\n",
      "Epoch 00007: val_loss did not improve from 0.06869\n",
      "\n",
      "Epoch 00008: val_loss did not improve from 0.06869\n",
      "\n",
      "Epoch 00009: val_loss did not improve from 0.06869\n",
      "\n",
      "Epoch 00010: val_loss did not improve from 0.06869\n"
     ]
    },
    {
     "name": "stderr",
     "output_type": "stream",
     "text": [
      "/home/frankl1/miniconda3/envs/ner-projection/lib/python3.7/site-packages/ipykernel_launcher.py:17: RuntimeWarning: invalid value encountered in double_scalars\n"
     ]
    },
    {
     "name": "stdout",
     "output_type": "stream",
     "text": [
      "AlgoCrossValIter - 7\n",
      "Model: \"sequential_17\"\n",
      "_________________________________________________________________\n",
      "Layer (type)                 Output Shape              Param #   \n",
      "=================================================================\n",
      "hidden1 (Dense)              (None, 640)               135040    \n",
      "_________________________________________________________________\n",
      "hidden2 (Dense)              (None, 160)               102560    \n",
      "_________________________________________________________________\n",
      "outputlayer (Dense)          (None, 5)                 805       \n",
      "=================================================================\n",
      "Total params: 238,405\n",
      "Trainable params: 238,405\n",
      "Non-trainable params: 0\n",
      "_________________________________________________________________\n",
      "\n",
      "Epoch 00001: val_loss improved from inf to 1.41117, saving model to best-model-conll.hdfs\n",
      "\n",
      "Epoch 00002: val_loss improved from 1.41117 to 0.37467, saving model to best-model-conll.hdfs\n",
      "\n",
      "Epoch 00003: val_loss improved from 0.37467 to 0.32828, saving model to best-model-conll.hdfs\n",
      "\n",
      "Epoch 00004: val_loss did not improve from 0.32828\n",
      "\n",
      "Epoch 00005: val_loss improved from 0.32828 to 0.29094, saving model to best-model-conll.hdfs\n",
      "\n",
      "Epoch 00006: val_loss improved from 0.29094 to 0.28645, saving model to best-model-conll.hdfs\n",
      "\n",
      "Epoch 00007: val_loss improved from 0.28645 to 0.28530, saving model to best-model-conll.hdfs\n",
      "\n",
      "Epoch 00008: val_loss improved from 0.28530 to 0.28067, saving model to best-model-conll.hdfs\n",
      "\n",
      "Epoch 00009: val_loss improved from 0.28067 to 0.27864, saving model to best-model-conll.hdfs\n",
      "\n",
      "Epoch 00010: val_loss did not improve from 0.27864\n"
     ]
    },
    {
     "name": "stderr",
     "output_type": "stream",
     "text": [
      "/home/frankl1/miniconda3/envs/ner-projection/lib/python3.7/site-packages/ipykernel_launcher.py:17: RuntimeWarning: invalid value encountered in double_scalars\n"
     ]
    },
    {
     "name": "stdout",
     "output_type": "stream",
     "text": [
      "\n",
      "Epoch 00001: val_loss improved from inf to 0.19324, saving model to best-model-conll.hdfs\n",
      "\n",
      "Epoch 00002: val_loss did not improve from 0.19324\n",
      "\n",
      "Epoch 00003: val_loss did not improve from 0.19324\n",
      "\n",
      "Epoch 00004: val_loss did not improve from 0.19324\n",
      "\n",
      "Epoch 00005: val_loss did not improve from 0.19324\n",
      "\n",
      "Epoch 00006: val_loss did not improve from 0.19324\n",
      "\n",
      "Epoch 00007: val_loss did not improve from 0.19324\n",
      "\n",
      "Epoch 00008: val_loss did not improve from 0.19324\n",
      "\n",
      "Epoch 00009: val_loss did not improve from 0.19324\n",
      "\n",
      "Epoch 00010: val_loss did not improve from 0.19324\n"
     ]
    },
    {
     "name": "stderr",
     "output_type": "stream",
     "text": [
      "/home/frankl1/miniconda3/envs/ner-projection/lib/python3.7/site-packages/ipykernel_launcher.py:17: RuntimeWarning: invalid value encountered in double_scalars\n"
     ]
    },
    {
     "name": "stdout",
     "output_type": "stream",
     "text": [
      "\n",
      "Epoch 00001: val_loss improved from inf to 0.11258, saving model to best-model-conll.hdfs\n",
      "\n",
      "Epoch 00002: val_loss did not improve from 0.11258\n",
      "\n",
      "Epoch 00003: val_loss did not improve from 0.11258\n",
      "\n",
      "Epoch 00004: val_loss did not improve from 0.11258\n",
      "\n",
      "Epoch 00005: val_loss did not improve from 0.11258\n",
      "\n",
      "Epoch 00006: val_loss did not improve from 0.11258\n",
      "\n",
      "Epoch 00007: val_loss did not improve from 0.11258\n",
      "\n",
      "Epoch 00008: val_loss did not improve from 0.11258\n",
      "\n",
      "Epoch 00009: val_loss did not improve from 0.11258\n",
      "\n",
      "Epoch 00010: val_loss did not improve from 0.11258\n"
     ]
    },
    {
     "name": "stderr",
     "output_type": "stream",
     "text": [
      "/home/frankl1/miniconda3/envs/ner-projection/lib/python3.7/site-packages/ipykernel_launcher.py:17: RuntimeWarning: invalid value encountered in double_scalars\n"
     ]
    },
    {
     "name": "stdout",
     "output_type": "stream",
     "text": [
      "\n",
      "Epoch 00001: val_loss improved from inf to 0.06962, saving model to best-model-conll.hdfs\n",
      "\n",
      "Epoch 00002: val_loss did not improve from 0.06962\n",
      "\n",
      "Epoch 00003: val_loss did not improve from 0.06962\n",
      "\n",
      "Epoch 00004: val_loss did not improve from 0.06962\n",
      "\n",
      "Epoch 00005: val_loss did not improve from 0.06962\n",
      "\n",
      "Epoch 00006: val_loss did not improve from 0.06962\n",
      "\n",
      "Epoch 00007: val_loss did not improve from 0.06962\n",
      "\n",
      "Epoch 00008: val_loss did not improve from 0.06962\n",
      "\n",
      "Epoch 00009: val_loss did not improve from 0.06962\n",
      "\n",
      "Epoch 00010: val_loss did not improve from 0.06962\n"
     ]
    },
    {
     "name": "stderr",
     "output_type": "stream",
     "text": [
      "/home/frankl1/miniconda3/envs/ner-projection/lib/python3.7/site-packages/ipykernel_launcher.py:17: RuntimeWarning: invalid value encountered in double_scalars\n"
     ]
    },
    {
     "name": "stdout",
     "output_type": "stream",
     "text": [
      "\n",
      "Epoch 00001: val_loss improved from inf to 0.10388, saving model to best-model-conll.hdfs\n",
      "\n",
      "Epoch 00002: val_loss did not improve from 0.10388\n",
      "\n",
      "Epoch 00003: val_loss did not improve from 0.10388\n",
      "\n",
      "Epoch 00004: val_loss did not improve from 0.10388\n",
      "\n",
      "Epoch 00005: val_loss did not improve from 0.10388\n",
      "\n",
      "Epoch 00006: val_loss did not improve from 0.10388\n",
      "\n",
      "Epoch 00007: val_loss did not improve from 0.10388\n",
      "\n",
      "Epoch 00008: val_loss did not improve from 0.10388\n",
      "\n",
      "Epoch 00009: val_loss did not improve from 0.10388\n",
      "\n",
      "Epoch 00010: val_loss did not improve from 0.10388\n"
     ]
    },
    {
     "name": "stderr",
     "output_type": "stream",
     "text": [
      "/home/frankl1/miniconda3/envs/ner-projection/lib/python3.7/site-packages/ipykernel_launcher.py:17: RuntimeWarning: invalid value encountered in double_scalars\n"
     ]
    },
    {
     "name": "stdout",
     "output_type": "stream",
     "text": [
      "\n",
      "Epoch 00001: val_loss improved from inf to 0.05942, saving model to best-model-conll.hdfs\n",
      "\n",
      "Epoch 00002: val_loss did not improve from 0.05942\n",
      "\n",
      "Epoch 00003: val_loss did not improve from 0.05942\n",
      "\n",
      "Epoch 00004: val_loss did not improve from 0.05942\n",
      "\n",
      "Epoch 00005: val_loss did not improve from 0.05942\n",
      "\n",
      "Epoch 00006: val_loss did not improve from 0.05942\n",
      "\n",
      "Epoch 00007: val_loss did not improve from 0.05942\n",
      "\n",
      "Epoch 00008: val_loss did not improve from 0.05942\n",
      "\n",
      "Epoch 00009: val_loss did not improve from 0.05942\n",
      "\n",
      "Epoch 00010: val_loss did not improve from 0.05942\n"
     ]
    },
    {
     "name": "stderr",
     "output_type": "stream",
     "text": [
      "/home/frankl1/miniconda3/envs/ner-projection/lib/python3.7/site-packages/ipykernel_launcher.py:17: RuntimeWarning: invalid value encountered in double_scalars\n"
     ]
    },
    {
     "name": "stdout",
     "output_type": "stream",
     "text": [
      "\n",
      "Epoch 00001: val_loss improved from inf to 0.13231, saving model to best-model-conll.hdfs\n",
      "\n",
      "Epoch 00002: val_loss improved from 0.13231 to 0.09070, saving model to best-model-conll.hdfs\n",
      "\n",
      "Epoch 00003: val_loss did not improve from 0.09070\n",
      "\n",
      "Epoch 00004: val_loss did not improve from 0.09070\n",
      "\n",
      "Epoch 00005: val_loss did not improve from 0.09070\n",
      "\n",
      "Epoch 00006: val_loss did not improve from 0.09070\n",
      "\n",
      "Epoch 00007: val_loss did not improve from 0.09070\n",
      "\n",
      "Epoch 00008: val_loss did not improve from 0.09070\n",
      "\n",
      "Epoch 00009: val_loss did not improve from 0.09070\n",
      "\n",
      "Epoch 00010: val_loss did not improve from 0.09070\n"
     ]
    },
    {
     "name": "stderr",
     "output_type": "stream",
     "text": [
      "/home/frankl1/miniconda3/envs/ner-projection/lib/python3.7/site-packages/ipykernel_launcher.py:17: RuntimeWarning: invalid value encountered in double_scalars\n"
     ]
    },
    {
     "name": "stdout",
     "output_type": "stream",
     "text": [
      "\n",
      "Epoch 00001: val_loss improved from inf to 0.14507, saving model to best-model-conll.hdfs\n",
      "\n",
      "Epoch 00002: val_loss did not improve from 0.14507\n",
      "\n",
      "Epoch 00003: val_loss did not improve from 0.14507\n",
      "\n",
      "Epoch 00004: val_loss did not improve from 0.14507\n",
      "\n",
      "Epoch 00005: val_loss did not improve from 0.14507\n",
      "\n",
      "Epoch 00006: val_loss did not improve from 0.14507\n",
      "\n",
      "Epoch 00007: val_loss did not improve from 0.14507\n",
      "\n",
      "Epoch 00008: val_loss did not improve from 0.14507\n",
      "\n",
      "Epoch 00009: val_loss did not improve from 0.14507\n",
      "\n",
      "Epoch 00010: val_loss did not improve from 0.14507\n"
     ]
    },
    {
     "name": "stderr",
     "output_type": "stream",
     "text": [
      "/home/frankl1/miniconda3/envs/ner-projection/lib/python3.7/site-packages/ipykernel_launcher.py:17: RuntimeWarning: invalid value encountered in double_scalars\n"
     ]
    },
    {
     "name": "stdout",
     "output_type": "stream",
     "text": [
      "\n",
      "Epoch 00001: val_loss improved from inf to 0.06237, saving model to best-model-conll.hdfs\n",
      "\n",
      "Epoch 00002: val_loss did not improve from 0.06237\n",
      "\n",
      "Epoch 00003: val_loss did not improve from 0.06237\n",
      "\n",
      "Epoch 00004: val_loss did not improve from 0.06237\n",
      "\n",
      "Epoch 00005: val_loss did not improve from 0.06237\n",
      "\n",
      "Epoch 00006: val_loss did not improve from 0.06237\n",
      "\n",
      "Epoch 00007: val_loss did not improve from 0.06237\n",
      "\n",
      "Epoch 00008: val_loss did not improve from 0.06237\n",
      "\n",
      "Epoch 00009: val_loss did not improve from 0.06237\n",
      "\n",
      "Epoch 00010: val_loss did not improve from 0.06237\n"
     ]
    },
    {
     "name": "stderr",
     "output_type": "stream",
     "text": [
      "/home/frankl1/miniconda3/envs/ner-projection/lib/python3.7/site-packages/ipykernel_launcher.py:17: RuntimeWarning: invalid value encountered in double_scalars\n"
     ]
    },
    {
     "name": "stdout",
     "output_type": "stream",
     "text": [
      "\n",
      "Epoch 00001: val_loss improved from inf to 0.07543, saving model to best-model-conll.hdfs\n",
      "\n",
      "Epoch 00002: val_loss did not improve from 0.07543\n",
      "\n",
      "Epoch 00003: val_loss improved from 0.07543 to 0.07407, saving model to best-model-conll.hdfs\n",
      "\n",
      "Epoch 00004: val_loss did not improve from 0.07407\n",
      "\n",
      "Epoch 00005: val_loss did not improve from 0.07407\n",
      "\n",
      "Epoch 00006: val_loss did not improve from 0.07407\n",
      "\n",
      "Epoch 00007: val_loss did not improve from 0.07407\n",
      "\n",
      "Epoch 00008: val_loss did not improve from 0.07407\n",
      "\n",
      "Epoch 00009: val_loss did not improve from 0.07407\n",
      "\n",
      "Epoch 00010: val_loss did not improve from 0.07407\n"
     ]
    },
    {
     "name": "stderr",
     "output_type": "stream",
     "text": [
      "/home/frankl1/miniconda3/envs/ner-projection/lib/python3.7/site-packages/ipykernel_launcher.py:17: RuntimeWarning: invalid value encountered in double_scalars\n"
     ]
    },
    {
     "name": "stdout",
     "output_type": "stream",
     "text": [
      "AlgoCrossValIter - 8\n",
      "Model: \"sequential_18\"\n",
      "_________________________________________________________________\n",
      "Layer (type)                 Output Shape              Param #   \n",
      "=================================================================\n",
      "hidden1 (Dense)              (None, 640)               135040    \n",
      "_________________________________________________________________\n",
      "hidden2 (Dense)              (None, 160)               102560    \n",
      "_________________________________________________________________\n",
      "outputlayer (Dense)          (None, 5)                 805       \n",
      "=================================================================\n",
      "Total params: 238,405\n",
      "Trainable params: 238,405\n",
      "Non-trainable params: 0\n",
      "_________________________________________________________________\n",
      "\n",
      "Epoch 00001: val_loss improved from inf to 0.60679, saving model to best-model-conll.hdfs\n",
      "\n",
      "Epoch 00002: val_loss improved from 0.60679 to 0.36455, saving model to best-model-conll.hdfs\n",
      "\n",
      "Epoch 00003: val_loss improved from 0.36455 to 0.32556, saving model to best-model-conll.hdfs\n",
      "\n",
      "Epoch 00004: val_loss did not improve from 0.32556\n",
      "\n",
      "Epoch 00005: val_loss did not improve from 0.32556\n",
      "\n",
      "Epoch 00006: val_loss improved from 0.32556 to 0.29083, saving model to best-model-conll.hdfs\n",
      "\n",
      "Epoch 00007: val_loss did not improve from 0.29083\n",
      "\n",
      "Epoch 00008: val_loss improved from 0.29083 to 0.27732, saving model to best-model-conll.hdfs\n",
      "\n",
      "Epoch 00009: val_loss did not improve from 0.27732\n",
      "\n",
      "Epoch 00010: val_loss did not improve from 0.27732\n"
     ]
    },
    {
     "name": "stderr",
     "output_type": "stream",
     "text": [
      "/home/frankl1/miniconda3/envs/ner-projection/lib/python3.7/site-packages/ipykernel_launcher.py:17: RuntimeWarning: invalid value encountered in double_scalars\n"
     ]
    },
    {
     "name": "stdout",
     "output_type": "stream",
     "text": [
      "\n",
      "Epoch 00001: val_loss improved from inf to 0.24176, saving model to best-model-conll.hdfs\n",
      "\n",
      "Epoch 00002: val_loss did not improve from 0.24176\n",
      "\n",
      "Epoch 00003: val_loss did not improve from 0.24176\n",
      "\n",
      "Epoch 00004: val_loss did not improve from 0.24176\n",
      "\n",
      "Epoch 00005: val_loss did not improve from 0.24176\n",
      "\n",
      "Epoch 00006: val_loss did not improve from 0.24176\n",
      "\n",
      "Epoch 00007: val_loss did not improve from 0.24176\n",
      "\n",
      "Epoch 00008: val_loss did not improve from 0.24176\n",
      "\n",
      "Epoch 00009: val_loss did not improve from 0.24176\n",
      "\n",
      "Epoch 00010: val_loss did not improve from 0.24176\n"
     ]
    },
    {
     "name": "stderr",
     "output_type": "stream",
     "text": [
      "/home/frankl1/miniconda3/envs/ner-projection/lib/python3.7/site-packages/ipykernel_launcher.py:17: RuntimeWarning: invalid value encountered in double_scalars\n"
     ]
    },
    {
     "name": "stdout",
     "output_type": "stream",
     "text": [
      "\n",
      "Epoch 00001: val_loss improved from inf to 0.12369, saving model to best-model-conll.hdfs\n",
      "\n",
      "Epoch 00002: val_loss did not improve from 0.12369\n",
      "\n",
      "Epoch 00003: val_loss did not improve from 0.12369\n",
      "\n",
      "Epoch 00004: val_loss did not improve from 0.12369\n",
      "\n",
      "Epoch 00005: val_loss did not improve from 0.12369\n",
      "\n",
      "Epoch 00006: val_loss did not improve from 0.12369\n",
      "\n",
      "Epoch 00007: val_loss did not improve from 0.12369\n",
      "\n",
      "Epoch 00008: val_loss did not improve from 0.12369\n",
      "\n",
      "Epoch 00009: val_loss did not improve from 0.12369\n",
      "\n",
      "Epoch 00010: val_loss did not improve from 0.12369\n"
     ]
    },
    {
     "name": "stderr",
     "output_type": "stream",
     "text": [
      "/home/frankl1/miniconda3/envs/ner-projection/lib/python3.7/site-packages/ipykernel_launcher.py:17: RuntimeWarning: invalid value encountered in double_scalars\n"
     ]
    },
    {
     "name": "stdout",
     "output_type": "stream",
     "text": [
      "\n",
      "Epoch 00001: val_loss improved from inf to 0.11409, saving model to best-model-conll.hdfs\n",
      "\n",
      "Epoch 00002: val_loss improved from 0.11409 to 0.06952, saving model to best-model-conll.hdfs\n",
      "\n",
      "Epoch 00003: val_loss did not improve from 0.06952\n",
      "\n",
      "Epoch 00004: val_loss did not improve from 0.06952\n",
      "\n",
      "Epoch 00005: val_loss did not improve from 0.06952\n",
      "\n",
      "Epoch 00006: val_loss did not improve from 0.06952\n",
      "\n",
      "Epoch 00007: val_loss did not improve from 0.06952\n",
      "\n",
      "Epoch 00008: val_loss did not improve from 0.06952\n",
      "\n",
      "Epoch 00009: val_loss did not improve from 0.06952\n",
      "\n",
      "Epoch 00010: val_loss did not improve from 0.06952\n"
     ]
    },
    {
     "name": "stderr",
     "output_type": "stream",
     "text": [
      "/home/frankl1/miniconda3/envs/ner-projection/lib/python3.7/site-packages/ipykernel_launcher.py:17: RuntimeWarning: invalid value encountered in double_scalars\n"
     ]
    },
    {
     "name": "stdout",
     "output_type": "stream",
     "text": [
      "\n",
      "Epoch 00001: val_loss improved from inf to 0.10714, saving model to best-model-conll.hdfs\n",
      "\n",
      "Epoch 00002: val_loss did not improve from 0.10714\n",
      "\n",
      "Epoch 00003: val_loss did not improve from 0.10714\n",
      "\n",
      "Epoch 00004: val_loss did not improve from 0.10714\n",
      "\n",
      "Epoch 00005: val_loss did not improve from 0.10714\n",
      "\n",
      "Epoch 00006: val_loss did not improve from 0.10714\n",
      "\n",
      "Epoch 00007: val_loss did not improve from 0.10714\n",
      "\n",
      "Epoch 00008: val_loss did not improve from 0.10714\n",
      "\n",
      "Epoch 00009: val_loss did not improve from 0.10714\n",
      "\n",
      "Epoch 00010: val_loss did not improve from 0.10714\n"
     ]
    },
    {
     "name": "stderr",
     "output_type": "stream",
     "text": [
      "/home/frankl1/miniconda3/envs/ner-projection/lib/python3.7/site-packages/ipykernel_launcher.py:17: RuntimeWarning: invalid value encountered in double_scalars\n"
     ]
    },
    {
     "name": "stdout",
     "output_type": "stream",
     "text": [
      "\n",
      "Epoch 00001: val_loss improved from inf to 0.05934, saving model to best-model-conll.hdfs\n",
      "\n",
      "Epoch 00002: val_loss did not improve from 0.05934\n",
      "\n",
      "Epoch 00003: val_loss did not improve from 0.05934\n",
      "\n",
      "Epoch 00004: val_loss did not improve from 0.05934\n",
      "\n",
      "Epoch 00005: val_loss did not improve from 0.05934\n",
      "\n",
      "Epoch 00006: val_loss did not improve from 0.05934\n",
      "\n",
      "Epoch 00007: val_loss did not improve from 0.05934\n",
      "\n",
      "Epoch 00008: val_loss did not improve from 0.05934\n",
      "\n",
      "Epoch 00009: val_loss did not improve from 0.05934\n",
      "\n",
      "Epoch 00010: val_loss did not improve from 0.05934\n"
     ]
    },
    {
     "name": "stderr",
     "output_type": "stream",
     "text": [
      "/home/frankl1/miniconda3/envs/ner-projection/lib/python3.7/site-packages/ipykernel_launcher.py:17: RuntimeWarning: invalid value encountered in double_scalars\n"
     ]
    },
    {
     "name": "stdout",
     "output_type": "stream",
     "text": [
      "\n",
      "Epoch 00001: val_loss improved from inf to 0.12340, saving model to best-model-conll.hdfs\n",
      "\n",
      "Epoch 00002: val_loss improved from 0.12340 to 0.12318, saving model to best-model-conll.hdfs\n",
      "\n",
      "Epoch 00003: val_loss did not improve from 0.12318\n",
      "\n",
      "Epoch 00004: val_loss did not improve from 0.12318\n",
      "\n",
      "Epoch 00005: val_loss did not improve from 0.12318\n",
      "\n",
      "Epoch 00006: val_loss did not improve from 0.12318\n",
      "\n",
      "Epoch 00007: val_loss did not improve from 0.12318\n",
      "\n",
      "Epoch 00008: val_loss did not improve from 0.12318\n",
      "\n",
      "Epoch 00009: val_loss did not improve from 0.12318\n",
      "\n",
      "Epoch 00010: val_loss did not improve from 0.12318\n"
     ]
    },
    {
     "name": "stderr",
     "output_type": "stream",
     "text": [
      "/home/frankl1/miniconda3/envs/ner-projection/lib/python3.7/site-packages/ipykernel_launcher.py:17: RuntimeWarning: invalid value encountered in double_scalars\n"
     ]
    },
    {
     "name": "stdout",
     "output_type": "stream",
     "text": [
      "\n",
      "Epoch 00001: val_loss improved from inf to 0.14077, saving model to best-model-conll.hdfs\n",
      "\n",
      "Epoch 00002: val_loss did not improve from 0.14077\n",
      "\n",
      "Epoch 00003: val_loss did not improve from 0.14077\n",
      "\n",
      "Epoch 00004: val_loss did not improve from 0.14077\n",
      "\n",
      "Epoch 00005: val_loss did not improve from 0.14077\n",
      "\n",
      "Epoch 00006: val_loss did not improve from 0.14077\n",
      "\n",
      "Epoch 00007: val_loss did not improve from 0.14077\n",
      "\n",
      "Epoch 00008: val_loss did not improve from 0.14077\n",
      "\n",
      "Epoch 00009: val_loss did not improve from 0.14077\n",
      "\n",
      "Epoch 00010: val_loss did not improve from 0.14077\n"
     ]
    },
    {
     "name": "stderr",
     "output_type": "stream",
     "text": [
      "/home/frankl1/miniconda3/envs/ner-projection/lib/python3.7/site-packages/ipykernel_launcher.py:17: RuntimeWarning: invalid value encountered in double_scalars\n"
     ]
    },
    {
     "name": "stdout",
     "output_type": "stream",
     "text": [
      "\n",
      "Epoch 00001: val_loss improved from inf to 0.08184, saving model to best-model-conll.hdfs\n",
      "\n",
      "Epoch 00002: val_loss did not improve from 0.08184\n",
      "\n",
      "Epoch 00003: val_loss did not improve from 0.08184\n",
      "\n",
      "Epoch 00004: val_loss did not improve from 0.08184\n",
      "\n",
      "Epoch 00005: val_loss did not improve from 0.08184\n",
      "\n",
      "Epoch 00006: val_loss did not improve from 0.08184\n",
      "\n",
      "Epoch 00007: val_loss did not improve from 0.08184\n",
      "\n",
      "Epoch 00008: val_loss did not improve from 0.08184\n",
      "\n",
      "Epoch 00009: val_loss did not improve from 0.08184\n",
      "\n",
      "Epoch 00010: val_loss did not improve from 0.08184\n",
      "\n",
      "Epoch 00001: val_loss improved from inf to 0.06578, saving model to best-model-conll.hdfs\n",
      "\n",
      "Epoch 00002: val_loss did not improve from 0.06578\n",
      "\n",
      "Epoch 00003: val_loss did not improve from 0.06578\n",
      "\n",
      "Epoch 00004: val_loss did not improve from 0.06578\n",
      "\n",
      "Epoch 00005: val_loss did not improve from 0.06578\n",
      "\n",
      "Epoch 00006: val_loss did not improve from 0.06578\n",
      "\n",
      "Epoch 00007: val_loss did not improve from 0.06578\n",
      "\n",
      "Epoch 00008: val_loss did not improve from 0.06578\n",
      "\n",
      "Epoch 00009: val_loss did not improve from 0.06578\n",
      "\n",
      "Epoch 00010: val_loss did not improve from 0.06578\n",
      "AlgoCrossValIter - 9\n",
      "Model: \"sequential_19\"\n",
      "_________________________________________________________________\n",
      "Layer (type)                 Output Shape              Param #   \n",
      "=================================================================\n",
      "hidden1 (Dense)              (None, 640)               135040    \n",
      "_________________________________________________________________\n",
      "hidden2 (Dense)              (None, 160)               102560    \n",
      "_________________________________________________________________\n",
      "outputlayer (Dense)          (None, 5)                 805       \n",
      "=================================================================\n",
      "Total params: 238,405\n",
      "Trainable params: 238,405\n",
      "Non-trainable params: 0\n",
      "_________________________________________________________________\n",
      "\n",
      "Epoch 00001: val_loss improved from inf to 0.43992, saving model to best-model-conll.hdfs\n",
      "\n",
      "Epoch 00002: val_loss improved from 0.43992 to 0.33310, saving model to best-model-conll.hdfs\n",
      "\n",
      "Epoch 00003: val_loss improved from 0.33310 to 0.32144, saving model to best-model-conll.hdfs\n",
      "\n",
      "Epoch 00004: val_loss improved from 0.32144 to 0.29284, saving model to best-model-conll.hdfs\n",
      "\n",
      "Epoch 00005: val_loss improved from 0.29284 to 0.27928, saving model to best-model-conll.hdfs\n",
      "\n",
      "Epoch 00006: val_loss improved from 0.27928 to 0.27613, saving model to best-model-conll.hdfs\n",
      "\n",
      "Epoch 00007: val_loss did not improve from 0.27613\n",
      "\n",
      "Epoch 00008: val_loss did not improve from 0.27613\n",
      "\n",
      "Epoch 00009: val_loss did not improve from 0.27613\n",
      "\n",
      "Epoch 00010: val_loss did not improve from 0.27613\n"
     ]
    },
    {
     "name": "stderr",
     "output_type": "stream",
     "text": [
      "/home/frankl1/miniconda3/envs/ner-projection/lib/python3.7/site-packages/ipykernel_launcher.py:17: RuntimeWarning: invalid value encountered in double_scalars\n"
     ]
    },
    {
     "name": "stdout",
     "output_type": "stream",
     "text": [
      "\n",
      "Epoch 00001: val_loss improved from inf to 0.19346, saving model to best-model-conll.hdfs\n",
      "\n",
      "Epoch 00002: val_loss did not improve from 0.19346\n",
      "\n",
      "Epoch 00003: val_loss did not improve from 0.19346\n",
      "\n",
      "Epoch 00004: val_loss did not improve from 0.19346\n",
      "\n",
      "Epoch 00005: val_loss did not improve from 0.19346\n",
      "\n",
      "Epoch 00006: val_loss did not improve from 0.19346\n",
      "\n",
      "Epoch 00007: val_loss did not improve from 0.19346\n",
      "\n",
      "Epoch 00008: val_loss did not improve from 0.19346\n",
      "\n",
      "Epoch 00009: val_loss did not improve from 0.19346\n",
      "\n",
      "Epoch 00010: val_loss did not improve from 0.19346\n"
     ]
    },
    {
     "name": "stderr",
     "output_type": "stream",
     "text": [
      "/home/frankl1/miniconda3/envs/ner-projection/lib/python3.7/site-packages/ipykernel_launcher.py:17: RuntimeWarning: invalid value encountered in double_scalars\n"
     ]
    },
    {
     "name": "stdout",
     "output_type": "stream",
     "text": [
      "\n",
      "Epoch 00001: val_loss improved from inf to 0.12383, saving model to best-model-conll.hdfs\n",
      "\n",
      "Epoch 00002: val_loss did not improve from 0.12383\n",
      "\n",
      "Epoch 00003: val_loss did not improve from 0.12383\n",
      "\n",
      "Epoch 00004: val_loss did not improve from 0.12383\n",
      "\n",
      "Epoch 00005: val_loss did not improve from 0.12383\n",
      "\n",
      "Epoch 00006: val_loss did not improve from 0.12383\n",
      "\n",
      "Epoch 00007: val_loss did not improve from 0.12383\n",
      "\n",
      "Epoch 00008: val_loss did not improve from 0.12383\n",
      "\n",
      "Epoch 00009: val_loss did not improve from 0.12383\n",
      "\n",
      "Epoch 00010: val_loss did not improve from 0.12383\n"
     ]
    },
    {
     "name": "stderr",
     "output_type": "stream",
     "text": [
      "/home/frankl1/miniconda3/envs/ner-projection/lib/python3.7/site-packages/ipykernel_launcher.py:17: RuntimeWarning: invalid value encountered in double_scalars\n"
     ]
    },
    {
     "name": "stdout",
     "output_type": "stream",
     "text": [
      "\n",
      "Epoch 00001: val_loss improved from inf to 0.06997, saving model to best-model-conll.hdfs\n",
      "\n",
      "Epoch 00002: val_loss improved from 0.06997 to 0.06293, saving model to best-model-conll.hdfs\n",
      "\n",
      "Epoch 00003: val_loss did not improve from 0.06293\n",
      "\n",
      "Epoch 00004: val_loss did not improve from 0.06293\n",
      "\n",
      "Epoch 00005: val_loss did not improve from 0.06293\n",
      "\n",
      "Epoch 00006: val_loss did not improve from 0.06293\n",
      "\n",
      "Epoch 00007: val_loss did not improve from 0.06293\n",
      "\n",
      "Epoch 00008: val_loss did not improve from 0.06293\n",
      "\n",
      "Epoch 00009: val_loss did not improve from 0.06293\n",
      "\n",
      "Epoch 00010: val_loss did not improve from 0.06293\n"
     ]
    },
    {
     "name": "stderr",
     "output_type": "stream",
     "text": [
      "/home/frankl1/miniconda3/envs/ner-projection/lib/python3.7/site-packages/ipykernel_launcher.py:17: RuntimeWarning: invalid value encountered in double_scalars\n"
     ]
    },
    {
     "name": "stdout",
     "output_type": "stream",
     "text": [
      "\n",
      "Epoch 00001: val_loss improved from inf to 0.09271, saving model to best-model-conll.hdfs\n",
      "\n",
      "Epoch 00002: val_loss did not improve from 0.09271\n",
      "\n",
      "Epoch 00003: val_loss did not improve from 0.09271\n",
      "\n",
      "Epoch 00004: val_loss did not improve from 0.09271\n",
      "\n",
      "Epoch 00005: val_loss did not improve from 0.09271\n",
      "\n",
      "Epoch 00006: val_loss did not improve from 0.09271\n",
      "\n",
      "Epoch 00007: val_loss did not improve from 0.09271\n",
      "\n",
      "Epoch 00008: val_loss did not improve from 0.09271\n",
      "\n",
      "Epoch 00009: val_loss did not improve from 0.09271\n",
      "\n",
      "Epoch 00010: val_loss did not improve from 0.09271\n"
     ]
    },
    {
     "name": "stderr",
     "output_type": "stream",
     "text": [
      "/home/frankl1/miniconda3/envs/ner-projection/lib/python3.7/site-packages/ipykernel_launcher.py:17: RuntimeWarning: invalid value encountered in double_scalars\n"
     ]
    },
    {
     "name": "stdout",
     "output_type": "stream",
     "text": [
      "\n",
      "Epoch 00001: val_loss improved from inf to 0.09272, saving model to best-model-conll.hdfs\n",
      "\n",
      "Epoch 00002: val_loss improved from 0.09272 to 0.07723, saving model to best-model-conll.hdfs\n",
      "\n",
      "Epoch 00003: val_loss did not improve from 0.07723\n",
      "\n",
      "Epoch 00004: val_loss did not improve from 0.07723\n",
      "\n",
      "Epoch 00005: val_loss did not improve from 0.07723\n",
      "\n",
      "Epoch 00006: val_loss did not improve from 0.07723\n",
      "\n",
      "Epoch 00007: val_loss did not improve from 0.07723\n",
      "\n",
      "Epoch 00008: val_loss did not improve from 0.07723\n",
      "\n",
      "Epoch 00009: val_loss did not improve from 0.07723\n",
      "\n",
      "Epoch 00010: val_loss did not improve from 0.07723\n"
     ]
    },
    {
     "name": "stderr",
     "output_type": "stream",
     "text": [
      "/home/frankl1/miniconda3/envs/ner-projection/lib/python3.7/site-packages/ipykernel_launcher.py:17: RuntimeWarning: invalid value encountered in double_scalars\n"
     ]
    },
    {
     "name": "stdout",
     "output_type": "stream",
     "text": [
      "\n",
      "Epoch 00001: val_loss improved from inf to 0.10762, saving model to best-model-conll.hdfs\n",
      "\n",
      "Epoch 00002: val_loss improved from 0.10762 to 0.09998, saving model to best-model-conll.hdfs\n",
      "\n",
      "Epoch 00003: val_loss did not improve from 0.09998\n",
      "\n",
      "Epoch 00004: val_loss did not improve from 0.09998\n",
      "\n",
      "Epoch 00005: val_loss did not improve from 0.09998\n",
      "\n",
      "Epoch 00006: val_loss did not improve from 0.09998\n",
      "\n",
      "Epoch 00007: val_loss did not improve from 0.09998\n",
      "\n",
      "Epoch 00008: val_loss did not improve from 0.09998\n",
      "\n",
      "Epoch 00009: val_loss did not improve from 0.09998\n",
      "\n",
      "Epoch 00010: val_loss did not improve from 0.09998\n"
     ]
    },
    {
     "name": "stderr",
     "output_type": "stream",
     "text": [
      "/home/frankl1/miniconda3/envs/ner-projection/lib/python3.7/site-packages/ipykernel_launcher.py:17: RuntimeWarning: invalid value encountered in double_scalars\n"
     ]
    },
    {
     "name": "stdout",
     "output_type": "stream",
     "text": [
      "\n",
      "Epoch 00001: val_loss improved from inf to 0.18598, saving model to best-model-conll.hdfs\n",
      "\n",
      "Epoch 00002: val_loss improved from 0.18598 to 0.17222, saving model to best-model-conll.hdfs\n",
      "\n",
      "Epoch 00003: val_loss did not improve from 0.17222\n",
      "\n",
      "Epoch 00004: val_loss did not improve from 0.17222\n",
      "\n",
      "Epoch 00005: val_loss did not improve from 0.17222\n",
      "\n",
      "Epoch 00006: val_loss did not improve from 0.17222\n",
      "\n",
      "Epoch 00007: val_loss did not improve from 0.17222\n",
      "\n",
      "Epoch 00008: val_loss did not improve from 0.17222\n",
      "\n",
      "Epoch 00009: val_loss did not improve from 0.17222\n",
      "\n",
      "Epoch 00010: val_loss did not improve from 0.17222\n"
     ]
    },
    {
     "name": "stderr",
     "output_type": "stream",
     "text": [
      "/home/frankl1/miniconda3/envs/ner-projection/lib/python3.7/site-packages/ipykernel_launcher.py:17: RuntimeWarning: invalid value encountered in double_scalars\n"
     ]
    },
    {
     "name": "stdout",
     "output_type": "stream",
     "text": [
      "\n",
      "Epoch 00001: val_loss improved from inf to 0.08400, saving model to best-model-conll.hdfs\n",
      "\n",
      "Epoch 00002: val_loss did not improve from 0.08400\n",
      "\n",
      "Epoch 00003: val_loss improved from 0.08400 to 0.08305, saving model to best-model-conll.hdfs\n",
      "\n",
      "Epoch 00004: val_loss improved from 0.08305 to 0.08300, saving model to best-model-conll.hdfs\n",
      "\n",
      "Epoch 00005: val_loss did not improve from 0.08300\n",
      "\n",
      "Epoch 00006: val_loss did not improve from 0.08300\n",
      "\n",
      "Epoch 00007: val_loss did not improve from 0.08300\n",
      "\n",
      "Epoch 00008: val_loss did not improve from 0.08300\n",
      "\n",
      "Epoch 00009: val_loss did not improve from 0.08300\n",
      "\n",
      "Epoch 00010: val_loss did not improve from 0.08300\n",
      "\n",
      "Epoch 00001: val_loss improved from inf to 0.07399, saving model to best-model-conll.hdfs\n",
      "\n",
      "Epoch 00002: val_loss did not improve from 0.07399\n",
      "\n",
      "Epoch 00003: val_loss improved from 0.07399 to 0.06713, saving model to best-model-conll.hdfs\n",
      "\n",
      "Epoch 00004: val_loss did not improve from 0.06713\n",
      "\n",
      "Epoch 00005: val_loss did not improve from 0.06713\n",
      "\n",
      "Epoch 00006: val_loss did not improve from 0.06713\n",
      "\n",
      "Epoch 00007: val_loss did not improve from 0.06713\n",
      "\n",
      "Epoch 00008: val_loss did not improve from 0.06713\n",
      "\n",
      "Epoch 00009: val_loss did not improve from 0.06713\n",
      "\n",
      "Epoch 00010: val_loss did not improve from 0.06713\n"
     ]
    },
    {
     "name": "stderr",
     "output_type": "stream",
     "text": [
      "/home/frankl1/miniconda3/envs/ner-projection/lib/python3.7/site-packages/ipykernel_launcher.py:17: RuntimeWarning: invalid value encountered in double_scalars\n"
     ]
    },
    {
     "name": "stdout",
     "output_type": "stream",
     "text": [
      "AlgoCrossValIter - 10\n",
      "Model: \"sequential_20\"\n",
      "_________________________________________________________________\n",
      "Layer (type)                 Output Shape              Param #   \n",
      "=================================================================\n",
      "hidden1 (Dense)              (None, 640)               135040    \n",
      "_________________________________________________________________\n",
      "hidden2 (Dense)              (None, 160)               102560    \n",
      "_________________________________________________________________\n",
      "outputlayer (Dense)          (None, 5)                 805       \n",
      "=================================================================\n",
      "Total params: 238,405\n",
      "Trainable params: 238,405\n",
      "Non-trainable params: 0\n",
      "_________________________________________________________________\n",
      "\n",
      "Epoch 00001: val_loss improved from inf to 0.35741, saving model to best-model-conll.hdfs\n",
      "\n",
      "Epoch 00002: val_loss improved from 0.35741 to 0.34913, saving model to best-model-conll.hdfs\n",
      "\n",
      "Epoch 00003: val_loss did not improve from 0.34913\n",
      "\n",
      "Epoch 00004: val_loss improved from 0.34913 to 0.31444, saving model to best-model-conll.hdfs\n",
      "\n",
      "Epoch 00005: val_loss improved from 0.31444 to 0.29889, saving model to best-model-conll.hdfs\n",
      "\n",
      "Epoch 00006: val_loss improved from 0.29889 to 0.27865, saving model to best-model-conll.hdfs\n",
      "\n",
      "Epoch 00007: val_loss did not improve from 0.27865\n",
      "\n",
      "Epoch 00008: val_loss did not improve from 0.27865\n",
      "\n",
      "Epoch 00009: val_loss did not improve from 0.27865\n",
      "\n",
      "Epoch 00010: val_loss did not improve from 0.27865\n"
     ]
    },
    {
     "name": "stderr",
     "output_type": "stream",
     "text": [
      "/home/frankl1/miniconda3/envs/ner-projection/lib/python3.7/site-packages/ipykernel_launcher.py:17: RuntimeWarning: invalid value encountered in double_scalars\n"
     ]
    },
    {
     "name": "stdout",
     "output_type": "stream",
     "text": [
      "\n",
      "Epoch 00001: val_loss improved from inf to 0.28890, saving model to best-model-conll.hdfs\n",
      "\n",
      "Epoch 00002: val_loss did not improve from 0.28890\n",
      "\n",
      "Epoch 00003: val_loss improved from 0.28890 to 0.27424, saving model to best-model-conll.hdfs\n",
      "\n",
      "Epoch 00004: val_loss improved from 0.27424 to 0.25651, saving model to best-model-conll.hdfs\n",
      "\n",
      "Epoch 00005: val_loss did not improve from 0.25651\n",
      "\n",
      "Epoch 00006: val_loss did not improve from 0.25651\n",
      "\n",
      "Epoch 00007: val_loss did not improve from 0.25651\n",
      "\n",
      "Epoch 00008: val_loss did not improve from 0.25651\n",
      "\n",
      "Epoch 00009: val_loss did not improve from 0.25651\n",
      "\n",
      "Epoch 00010: val_loss did not improve from 0.25651\n"
     ]
    },
    {
     "name": "stderr",
     "output_type": "stream",
     "text": [
      "/home/frankl1/miniconda3/envs/ner-projection/lib/python3.7/site-packages/ipykernel_launcher.py:17: RuntimeWarning: invalid value encountered in double_scalars\n"
     ]
    },
    {
     "name": "stdout",
     "output_type": "stream",
     "text": [
      "\n",
      "Epoch 00001: val_loss improved from inf to 0.08949, saving model to best-model-conll.hdfs\n",
      "\n",
      "Epoch 00002: val_loss did not improve from 0.08949\n",
      "\n",
      "Epoch 00003: val_loss did not improve from 0.08949\n",
      "\n",
      "Epoch 00004: val_loss did not improve from 0.08949\n",
      "\n",
      "Epoch 00005: val_loss did not improve from 0.08949\n",
      "\n",
      "Epoch 00006: val_loss did not improve from 0.08949\n",
      "\n",
      "Epoch 00007: val_loss did not improve from 0.08949\n",
      "\n",
      "Epoch 00008: val_loss did not improve from 0.08949\n",
      "\n",
      "Epoch 00009: val_loss did not improve from 0.08949\n",
      "\n",
      "Epoch 00010: val_loss did not improve from 0.08949\n"
     ]
    },
    {
     "name": "stderr",
     "output_type": "stream",
     "text": [
      "/home/frankl1/miniconda3/envs/ner-projection/lib/python3.7/site-packages/ipykernel_launcher.py:17: RuntimeWarning: invalid value encountered in double_scalars\n"
     ]
    },
    {
     "name": "stdout",
     "output_type": "stream",
     "text": [
      "\n",
      "Epoch 00001: val_loss improved from inf to 0.08443, saving model to best-model-conll.hdfs\n",
      "\n",
      "Epoch 00002: val_loss did not improve from 0.08443\n",
      "\n",
      "Epoch 00003: val_loss improved from 0.08443 to 0.07853, saving model to best-model-conll.hdfs\n",
      "\n",
      "Epoch 00004: val_loss did not improve from 0.07853\n",
      "\n",
      "Epoch 00005: val_loss did not improve from 0.07853\n",
      "\n",
      "Epoch 00006: val_loss did not improve from 0.07853\n",
      "\n",
      "Epoch 00007: val_loss did not improve from 0.07853\n",
      "\n",
      "Epoch 00008: val_loss did not improve from 0.07853\n",
      "\n",
      "Epoch 00009: val_loss did not improve from 0.07853\n",
      "\n",
      "Epoch 00010: val_loss did not improve from 0.07853\n"
     ]
    },
    {
     "name": "stderr",
     "output_type": "stream",
     "text": [
      "/home/frankl1/miniconda3/envs/ner-projection/lib/python3.7/site-packages/ipykernel_launcher.py:17: RuntimeWarning: invalid value encountered in double_scalars\n"
     ]
    },
    {
     "name": "stdout",
     "output_type": "stream",
     "text": [
      "\n",
      "Epoch 00001: val_loss improved from inf to 0.09504, saving model to best-model-conll.hdfs\n",
      "\n",
      "Epoch 00002: val_loss did not improve from 0.09504\n",
      "\n",
      "Epoch 00003: val_loss did not improve from 0.09504\n",
      "\n",
      "Epoch 00004: val_loss did not improve from 0.09504\n",
      "\n",
      "Epoch 00005: val_loss did not improve from 0.09504\n",
      "\n",
      "Epoch 00006: val_loss did not improve from 0.09504\n",
      "\n",
      "Epoch 00007: val_loss did not improve from 0.09504\n",
      "\n",
      "Epoch 00008: val_loss did not improve from 0.09504\n",
      "\n",
      "Epoch 00009: val_loss did not improve from 0.09504\n",
      "\n",
      "Epoch 00010: val_loss did not improve from 0.09504\n"
     ]
    },
    {
     "name": "stderr",
     "output_type": "stream",
     "text": [
      "/home/frankl1/miniconda3/envs/ner-projection/lib/python3.7/site-packages/ipykernel_launcher.py:17: RuntimeWarning: invalid value encountered in double_scalars\n"
     ]
    },
    {
     "name": "stdout",
     "output_type": "stream",
     "text": [
      "\n",
      "Epoch 00001: val_loss improved from inf to 0.07339, saving model to best-model-conll.hdfs\n",
      "\n",
      "Epoch 00002: val_loss did not improve from 0.07339\n",
      "\n",
      "Epoch 00003: val_loss did not improve from 0.07339\n",
      "\n",
      "Epoch 00004: val_loss did not improve from 0.07339\n",
      "\n",
      "Epoch 00005: val_loss did not improve from 0.07339\n",
      "\n",
      "Epoch 00006: val_loss did not improve from 0.07339\n",
      "\n",
      "Epoch 00007: val_loss did not improve from 0.07339\n",
      "\n",
      "Epoch 00008: val_loss did not improve from 0.07339\n",
      "\n",
      "Epoch 00009: val_loss did not improve from 0.07339\n",
      "\n",
      "Epoch 00010: val_loss did not improve from 0.07339\n"
     ]
    },
    {
     "name": "stderr",
     "output_type": "stream",
     "text": [
      "/home/frankl1/miniconda3/envs/ner-projection/lib/python3.7/site-packages/ipykernel_launcher.py:17: RuntimeWarning: invalid value encountered in double_scalars\n"
     ]
    },
    {
     "name": "stdout",
     "output_type": "stream",
     "text": [
      "\n",
      "Epoch 00001: val_loss improved from inf to 0.09146, saving model to best-model-conll.hdfs\n",
      "\n",
      "Epoch 00002: val_loss did not improve from 0.09146\n",
      "\n",
      "Epoch 00003: val_loss did not improve from 0.09146\n",
      "\n",
      "Epoch 00004: val_loss did not improve from 0.09146\n",
      "\n",
      "Epoch 00005: val_loss did not improve from 0.09146\n",
      "\n",
      "Epoch 00006: val_loss did not improve from 0.09146\n",
      "\n",
      "Epoch 00007: val_loss did not improve from 0.09146\n",
      "\n",
      "Epoch 00008: val_loss did not improve from 0.09146\n",
      "\n",
      "Epoch 00009: val_loss did not improve from 0.09146\n",
      "\n",
      "Epoch 00010: val_loss did not improve from 0.09146\n"
     ]
    },
    {
     "name": "stderr",
     "output_type": "stream",
     "text": [
      "/home/frankl1/miniconda3/envs/ner-projection/lib/python3.7/site-packages/ipykernel_launcher.py:17: RuntimeWarning: invalid value encountered in double_scalars\n"
     ]
    },
    {
     "name": "stdout",
     "output_type": "stream",
     "text": [
      "\n",
      "Epoch 00001: val_loss improved from inf to 0.14900, saving model to best-model-conll.hdfs\n",
      "\n",
      "Epoch 00002: val_loss did not improve from 0.14900\n",
      "\n",
      "Epoch 00003: val_loss did not improve from 0.14900\n",
      "\n",
      "Epoch 00004: val_loss did not improve from 0.14900\n",
      "\n",
      "Epoch 00005: val_loss did not improve from 0.14900\n",
      "\n",
      "Epoch 00006: val_loss did not improve from 0.14900\n",
      "\n",
      "Epoch 00007: val_loss did not improve from 0.14900\n",
      "\n",
      "Epoch 00008: val_loss did not improve from 0.14900\n",
      "\n",
      "Epoch 00009: val_loss did not improve from 0.14900\n",
      "\n",
      "Epoch 00010: val_loss did not improve from 0.14900\n"
     ]
    },
    {
     "name": "stderr",
     "output_type": "stream",
     "text": [
      "/home/frankl1/miniconda3/envs/ner-projection/lib/python3.7/site-packages/ipykernel_launcher.py:17: RuntimeWarning: invalid value encountered in double_scalars\n"
     ]
    },
    {
     "name": "stdout",
     "output_type": "stream",
     "text": [
      "\n",
      "Epoch 00001: val_loss improved from inf to 0.05728, saving model to best-model-conll.hdfs\n",
      "\n",
      "Epoch 00002: val_loss did not improve from 0.05728\n",
      "\n",
      "Epoch 00003: val_loss did not improve from 0.05728\n",
      "\n",
      "Epoch 00004: val_loss did not improve from 0.05728\n",
      "\n",
      "Epoch 00005: val_loss did not improve from 0.05728\n",
      "\n",
      "Epoch 00006: val_loss did not improve from 0.05728\n",
      "\n",
      "Epoch 00007: val_loss did not improve from 0.05728\n",
      "\n",
      "Epoch 00008: val_loss did not improve from 0.05728\n",
      "\n",
      "Epoch 00009: val_loss did not improve from 0.05728\n",
      "\n",
      "Epoch 00010: val_loss did not improve from 0.05728\n"
     ]
    },
    {
     "name": "stderr",
     "output_type": "stream",
     "text": [
      "/home/frankl1/miniconda3/envs/ner-projection/lib/python3.7/site-packages/ipykernel_launcher.py:17: RuntimeWarning: invalid value encountered in double_scalars\n"
     ]
    },
    {
     "name": "stdout",
     "output_type": "stream",
     "text": [
      "\n",
      "Epoch 00001: val_loss improved from inf to 0.06123, saving model to best-model-conll.hdfs\n",
      "\n",
      "Epoch 00002: val_loss did not improve from 0.06123\n",
      "\n",
      "Epoch 00003: val_loss did not improve from 0.06123\n",
      "\n",
      "Epoch 00004: val_loss did not improve from 0.06123\n",
      "\n",
      "Epoch 00005: val_loss did not improve from 0.06123\n",
      "\n",
      "Epoch 00006: val_loss did not improve from 0.06123\n",
      "\n",
      "Epoch 00007: val_loss did not improve from 0.06123\n",
      "\n",
      "Epoch 00008: val_loss did not improve from 0.06123\n",
      "\n",
      "Epoch 00009: val_loss did not improve from 0.06123\n",
      "\n",
      "Epoch 00010: val_loss did not improve from 0.06123\n"
     ]
    },
    {
     "name": "stderr",
     "output_type": "stream",
     "text": [
      "/home/frankl1/miniconda3/envs/ner-projection/lib/python3.7/site-packages/ipykernel_launcher.py:17: RuntimeWarning: invalid value encountered in double_scalars\n"
     ]
    }
   ],
   "source": [
    "resultCrossVal, trainByTagResult, testByTagResult, ewoByTagResult, model = algoCrossVal(X, y, X_ewo, y_ewo, repeat=10)"
   ]
  },
  {
   "cell_type": "code",
   "execution_count": 144,
   "metadata": {},
   "outputs": [
    {
     "data": {
      "text/html": [
       "<div>\n",
       "<style scoped>\n",
       "    .dataframe tbody tr th:only-of-type {\n",
       "        vertical-align: middle;\n",
       "    }\n",
       "\n",
       "    .dataframe tbody tr th {\n",
       "        vertical-align: top;\n",
       "    }\n",
       "\n",
       "    .dataframe thead th {\n",
       "        text-align: right;\n",
       "    }\n",
       "</style>\n",
       "<table border=\"1\" class=\"dataframe\">\n",
       "  <thead>\n",
       "    <tr style=\"text-align: right;\">\n",
       "      <th></th>\n",
       "      <th>0</th>\n",
       "      <th>0</th>\n",
       "      <th>0</th>\n",
       "      <th>0</th>\n",
       "      <th>0</th>\n",
       "      <th>0</th>\n",
       "      <th>0</th>\n",
       "      <th>0</th>\n",
       "      <th>0</th>\n",
       "      <th>0</th>\n",
       "    </tr>\n",
       "  </thead>\n",
       "  <tbody>\n",
       "    <tr>\n",
       "      <th>P_val</th>\n",
       "      <td>86.397</td>\n",
       "      <td>84.344</td>\n",
       "      <td>85.749</td>\n",
       "      <td>79.617</td>\n",
       "      <td>82.579</td>\n",
       "      <td>82.932</td>\n",
       "      <td>85.369</td>\n",
       "      <td>82.070</td>\n",
       "      <td>85.480</td>\n",
       "      <td>85.785</td>\n",
       "    </tr>\n",
       "    <tr>\n",
       "      <th>P_train</th>\n",
       "      <td>87.604</td>\n",
       "      <td>84.879</td>\n",
       "      <td>85.929</td>\n",
       "      <td>85.796</td>\n",
       "      <td>86.321</td>\n",
       "      <td>86.701</td>\n",
       "      <td>88.782</td>\n",
       "      <td>84.828</td>\n",
       "      <td>86.483</td>\n",
       "      <td>87.707</td>\n",
       "    </tr>\n",
       "    <tr>\n",
       "      <th>P_ewo</th>\n",
       "      <td>74.503</td>\n",
       "      <td>73.489</td>\n",
       "      <td>74.294</td>\n",
       "      <td>73.415</td>\n",
       "      <td>74.278</td>\n",
       "      <td>75.325</td>\n",
       "      <td>77.132</td>\n",
       "      <td>73.578</td>\n",
       "      <td>75.166</td>\n",
       "      <td>75.009</td>\n",
       "    </tr>\n",
       "    <tr>\n",
       "      <th>R_val</th>\n",
       "      <td>69.718</td>\n",
       "      <td>68.357</td>\n",
       "      <td>72.334</td>\n",
       "      <td>71.084</td>\n",
       "      <td>69.425</td>\n",
       "      <td>69.607</td>\n",
       "      <td>69.607</td>\n",
       "      <td>69.627</td>\n",
       "      <td>68.126</td>\n",
       "      <td>69.834</td>\n",
       "    </tr>\n",
       "    <tr>\n",
       "      <th>R_train</th>\n",
       "      <td>77.168</td>\n",
       "      <td>78.573</td>\n",
       "      <td>77.822</td>\n",
       "      <td>79.185</td>\n",
       "      <td>77.915</td>\n",
       "      <td>75.903</td>\n",
       "      <td>74.128</td>\n",
       "      <td>78.008</td>\n",
       "      <td>77.289</td>\n",
       "      <td>77.647</td>\n",
       "    </tr>\n",
       "    <tr>\n",
       "      <th>R_ewo</th>\n",
       "      <td>63.426</td>\n",
       "      <td>65.000</td>\n",
       "      <td>64.351</td>\n",
       "      <td>66.481</td>\n",
       "      <td>64.723</td>\n",
       "      <td>62.777</td>\n",
       "      <td>60.369</td>\n",
       "      <td>65.462</td>\n",
       "      <td>63.796</td>\n",
       "      <td>64.352</td>\n",
       "    </tr>\n",
       "    <tr>\n",
       "      <th>F1-val</th>\n",
       "      <td>75.887</td>\n",
       "      <td>72.351</td>\n",
       "      <td>77.149</td>\n",
       "      <td>73.432</td>\n",
       "      <td>74.114</td>\n",
       "      <td>73.708</td>\n",
       "      <td>75.716</td>\n",
       "      <td>72.952</td>\n",
       "      <td>75.010</td>\n",
       "      <td>73.668</td>\n",
       "    </tr>\n",
       "    <tr>\n",
       "      <th>F1-train</th>\n",
       "      <td>81.864</td>\n",
       "      <td>80.821</td>\n",
       "      <td>81.131</td>\n",
       "      <td>82.107</td>\n",
       "      <td>81.563</td>\n",
       "      <td>80.428</td>\n",
       "      <td>80.530</td>\n",
       "      <td>80.342</td>\n",
       "      <td>81.206</td>\n",
       "      <td>81.532</td>\n",
       "    </tr>\n",
       "    <tr>\n",
       "      <th>F1-ewo</th>\n",
       "      <td>68.271</td>\n",
       "      <td>68.257</td>\n",
       "      <td>68.390</td>\n",
       "      <td>69.493</td>\n",
       "      <td>68.726</td>\n",
       "      <td>67.930</td>\n",
       "      <td>67.514</td>\n",
       "      <td>68.119</td>\n",
       "      <td>68.414</td>\n",
       "      <td>68.323</td>\n",
       "    </tr>\n",
       "  </tbody>\n",
       "</table>\n",
       "</div>"
      ],
      "text/plain": [
       "               0       0       0       0       0       0       0       0  \\\n",
       "P_val     86.397  84.344  85.749  79.617  82.579  82.932  85.369  82.070   \n",
       "P_train   87.604  84.879  85.929  85.796  86.321  86.701  88.782  84.828   \n",
       "P_ewo     74.503  73.489  74.294  73.415  74.278  75.325  77.132  73.578   \n",
       "R_val     69.718  68.357  72.334  71.084  69.425  69.607  69.607  69.627   \n",
       "R_train   77.168  78.573  77.822  79.185  77.915  75.903  74.128  78.008   \n",
       "R_ewo     63.426  65.000  64.351  66.481  64.723  62.777  60.369  65.462   \n",
       "F1-val    75.887  72.351  77.149  73.432  74.114  73.708  75.716  72.952   \n",
       "F1-train  81.864  80.821  81.131  82.107  81.563  80.428  80.530  80.342   \n",
       "F1-ewo    68.271  68.257  68.390  69.493  68.726  67.930  67.514  68.119   \n",
       "\n",
       "               0       0  \n",
       "P_val     85.480  85.785  \n",
       "P_train   86.483  87.707  \n",
       "P_ewo     75.166  75.009  \n",
       "R_val     68.126  69.834  \n",
       "R_train   77.289  77.647  \n",
       "R_ewo     63.796  64.352  \n",
       "F1-val    75.010  73.668  \n",
       "F1-train  81.206  81.532  \n",
       "F1-ewo    68.414  68.323  "
      ]
     },
     "execution_count": 144,
     "metadata": {},
     "output_type": "execute_result"
    }
   ],
   "source": [
    "resultCrossVal.to_csv(\"results.csv\")\n",
    "resultCrossVal"
   ]
  },
  {
   "cell_type": "code",
   "execution_count": 145,
   "metadata": {},
   "outputs": [
    {
     "data": {
      "text/html": [
       "<div>\n",
       "<style scoped>\n",
       "    .dataframe tbody tr th:only-of-type {\n",
       "        vertical-align: middle;\n",
       "    }\n",
       "\n",
       "    .dataframe tbody tr th {\n",
       "        vertical-align: top;\n",
       "    }\n",
       "\n",
       "    .dataframe thead th {\n",
       "        text-align: right;\n",
       "    }\n",
       "</style>\n",
       "<table border=\"1\" class=\"dataframe\">\n",
       "  <thead>\n",
       "    <tr style=\"text-align: right;\">\n",
       "      <th></th>\n",
       "      <th>0</th>\n",
       "    </tr>\n",
       "  </thead>\n",
       "  <tbody>\n",
       "    <tr>\n",
       "      <th>P_val</th>\n",
       "      <td>84.0322</td>\n",
       "    </tr>\n",
       "    <tr>\n",
       "      <th>P_train</th>\n",
       "      <td>86.5030</td>\n",
       "    </tr>\n",
       "    <tr>\n",
       "      <th>P_ewo</th>\n",
       "      <td>74.6189</td>\n",
       "    </tr>\n",
       "    <tr>\n",
       "      <th>R_val</th>\n",
       "      <td>69.7719</td>\n",
       "    </tr>\n",
       "    <tr>\n",
       "      <th>R_train</th>\n",
       "      <td>77.3638</td>\n",
       "    </tr>\n",
       "    <tr>\n",
       "      <th>R_ewo</th>\n",
       "      <td>64.0737</td>\n",
       "    </tr>\n",
       "    <tr>\n",
       "      <th>F1-val</th>\n",
       "      <td>74.3987</td>\n",
       "    </tr>\n",
       "    <tr>\n",
       "      <th>F1-train</th>\n",
       "      <td>81.1524</td>\n",
       "    </tr>\n",
       "    <tr>\n",
       "      <th>F1-ewo</th>\n",
       "      <td>68.3437</td>\n",
       "    </tr>\n",
       "  </tbody>\n",
       "</table>\n",
       "</div>"
      ],
      "text/plain": [
       "                0\n",
       "P_val     84.0322\n",
       "P_train   86.5030\n",
       "P_ewo     74.6189\n",
       "R_val     69.7719\n",
       "R_train   77.3638\n",
       "R_ewo     64.0737\n",
       "F1-val    74.3987\n",
       "F1-train  81.1524\n",
       "F1-ewo    68.3437"
      ]
     },
     "execution_count": 145,
     "metadata": {},
     "output_type": "execute_result"
    }
   ],
   "source": [
    "resultCrossVal.mean(axis=1).to_frame()"
   ]
  },
  {
   "cell_type": "code",
   "execution_count": 146,
   "metadata": {},
   "outputs": [
    {
     "data": {
      "text/html": [
       "<div>\n",
       "<style scoped>\n",
       "    .dataframe tbody tr th:only-of-type {\n",
       "        vertical-align: middle;\n",
       "    }\n",
       "\n",
       "    .dataframe tbody tr th {\n",
       "        vertical-align: top;\n",
       "    }\n",
       "\n",
       "    .dataframe thead th {\n",
       "        text-align: right;\n",
       "    }\n",
       "</style>\n",
       "<table border=\"1\" class=\"dataframe\">\n",
       "  <thead>\n",
       "    <tr style=\"text-align: right;\">\n",
       "      <th></th>\n",
       "      <th>0</th>\n",
       "    </tr>\n",
       "  </thead>\n",
       "  <tbody>\n",
       "    <tr>\n",
       "      <th>P_val</th>\n",
       "      <td>2.166893</td>\n",
       "    </tr>\n",
       "    <tr>\n",
       "      <th>P_train</th>\n",
       "      <td>1.256128</td>\n",
       "    </tr>\n",
       "    <tr>\n",
       "      <th>P_ewo</th>\n",
       "      <td>1.121035</td>\n",
       "    </tr>\n",
       "    <tr>\n",
       "      <th>R_val</th>\n",
       "      <td>1.211031</td>\n",
       "    </tr>\n",
       "    <tr>\n",
       "      <th>R_train</th>\n",
       "      <td>1.431245</td>\n",
       "    </tr>\n",
       "    <tr>\n",
       "      <th>R_ewo</th>\n",
       "      <td>1.668642</td>\n",
       "    </tr>\n",
       "    <tr>\n",
       "      <th>F1-val</th>\n",
       "      <td>1.498174</td>\n",
       "    </tr>\n",
       "    <tr>\n",
       "      <th>F1-train</th>\n",
       "      <td>0.615753</td>\n",
       "    </tr>\n",
       "    <tr>\n",
       "      <th>F1-ewo</th>\n",
       "      <td>0.516118</td>\n",
       "    </tr>\n",
       "  </tbody>\n",
       "</table>\n",
       "</div>"
      ],
      "text/plain": [
       "                 0\n",
       "P_val     2.166893\n",
       "P_train   1.256128\n",
       "P_ewo     1.121035\n",
       "R_val     1.211031\n",
       "R_train   1.431245\n",
       "R_ewo     1.668642\n",
       "F1-val    1.498174\n",
       "F1-train  0.615753\n",
       "F1-ewo    0.516118"
      ]
     },
     "execution_count": 146,
     "metadata": {},
     "output_type": "execute_result"
    }
   ],
   "source": [
    "resultCrossVal.std(axis=1).to_frame()"
   ]
  },
  {
   "cell_type": "code",
   "execution_count": 147,
   "metadata": {},
   "outputs": [
    {
     "data": {
      "text/html": [
       "<div>\n",
       "<style scoped>\n",
       "    .dataframe tbody tr th:only-of-type {\n",
       "        vertical-align: middle;\n",
       "    }\n",
       "\n",
       "    .dataframe tbody tr th {\n",
       "        vertical-align: top;\n",
       "    }\n",
       "\n",
       "    .dataframe thead th {\n",
       "        text-align: right;\n",
       "    }\n",
       "</style>\n",
       "<table border=\"1\" class=\"dataframe\">\n",
       "  <thead>\n",
       "    <tr style=\"text-align: right;\">\n",
       "      <th></th>\n",
       "      <th>0</th>\n",
       "      <th>0</th>\n",
       "      <th>0</th>\n",
       "      <th>0</th>\n",
       "      <th>0</th>\n",
       "      <th>0</th>\n",
       "      <th>0</th>\n",
       "      <th>0</th>\n",
       "      <th>0</th>\n",
       "      <th>0</th>\n",
       "    </tr>\n",
       "  </thead>\n",
       "  <tbody>\n",
       "    <tr>\n",
       "      <th>F1-O</th>\n",
       "      <td>97.784</td>\n",
       "      <td>97.652000</td>\n",
       "      <td>97.668</td>\n",
       "      <td>97.761000</td>\n",
       "      <td>97.715000</td>\n",
       "      <td>97.652</td>\n",
       "      <td>97.680</td>\n",
       "      <td>97.537000</td>\n",
       "      <td>97.716000</td>\n",
       "      <td>97.764</td>\n",
       "    </tr>\n",
       "    <tr>\n",
       "      <th>P-O</th>\n",
       "      <td>97.034</td>\n",
       "      <td>97.256000</td>\n",
       "      <td>97.129</td>\n",
       "      <td>97.280000</td>\n",
       "      <td>97.125000</td>\n",
       "      <td>96.907</td>\n",
       "      <td>96.644</td>\n",
       "      <td>97.147000</td>\n",
       "      <td>97.066000</td>\n",
       "      <td>97.091</td>\n",
       "    </tr>\n",
       "    <tr>\n",
       "      <th>R-O</th>\n",
       "      <td>98.552</td>\n",
       "      <td>98.079000</td>\n",
       "      <td>98.230</td>\n",
       "      <td>98.258000</td>\n",
       "      <td>98.327000</td>\n",
       "      <td>98.425</td>\n",
       "      <td>98.746</td>\n",
       "      <td>97.964000</td>\n",
       "      <td>98.385000</td>\n",
       "      <td>98.468</td>\n",
       "    </tr>\n",
       "    <tr>\n",
       "      <th>F1-MISC</th>\n",
       "      <td>70.004</td>\n",
       "      <td>69.663000</td>\n",
       "      <td>70.516</td>\n",
       "      <td>69.060000</td>\n",
       "      <td>70.723000</td>\n",
       "      <td>71.077</td>\n",
       "      <td>72.847</td>\n",
       "      <td>68.213000</td>\n",
       "      <td>68.467000</td>\n",
       "      <td>69.684</td>\n",
       "    </tr>\n",
       "    <tr>\n",
       "      <th>P-MISC</th>\n",
       "      <td>100.000</td>\n",
       "      <td>98.889000</td>\n",
       "      <td>94.771</td>\n",
       "      <td>96.667000</td>\n",
       "      <td>100.000000</td>\n",
       "      <td>98.889</td>\n",
       "      <td>100.000</td>\n",
       "      <td>89.000000</td>\n",
       "      <td>93.889000</td>\n",
       "      <td>98.333</td>\n",
       "    </tr>\n",
       "    <tr>\n",
       "      <th>R-MISC</th>\n",
       "      <td>54.588</td>\n",
       "      <td>55.406000</td>\n",
       "      <td>59.113</td>\n",
       "      <td>56.719000</td>\n",
       "      <td>55.497000</td>\n",
       "      <td>56.636</td>\n",
       "      <td>57.747</td>\n",
       "      <td>60.608000</td>\n",
       "      <td>58.136000</td>\n",
       "      <td>55.406</td>\n",
       "    </tr>\n",
       "    <tr>\n",
       "      <th>F1-PER</th>\n",
       "      <td>86.392</td>\n",
       "      <td>85.522000</td>\n",
       "      <td>85.124</td>\n",
       "      <td>87.035000</td>\n",
       "      <td>85.124000</td>\n",
       "      <td>84.958</td>\n",
       "      <td>84.284</td>\n",
       "      <td>84.485000</td>\n",
       "      <td>85.224000</td>\n",
       "      <td>86.069</td>\n",
       "    </tr>\n",
       "    <tr>\n",
       "      <th>P-PER</th>\n",
       "      <td>86.308</td>\n",
       "      <td>86.610000</td>\n",
       "      <td>85.663</td>\n",
       "      <td>85.306000</td>\n",
       "      <td>86.508000</td>\n",
       "      <td>86.804</td>\n",
       "      <td>88.521</td>\n",
       "      <td>87.124000</td>\n",
       "      <td>86.738000</td>\n",
       "      <td>86.423</td>\n",
       "    </tr>\n",
       "    <tr>\n",
       "      <th>R-PER</th>\n",
       "      <td>86.771</td>\n",
       "      <td>85.082000</td>\n",
       "      <td>85.580</td>\n",
       "      <td>89.071000</td>\n",
       "      <td>84.637000</td>\n",
       "      <td>83.975</td>\n",
       "      <td>81.216</td>\n",
       "      <td>83.620000</td>\n",
       "      <td>84.832000</td>\n",
       "      <td>87.142</td>\n",
       "    </tr>\n",
       "    <tr>\n",
       "      <th>F1-LOC</th>\n",
       "      <td>64.818</td>\n",
       "      <td>70.852222</td>\n",
       "      <td>65.612</td>\n",
       "      <td>68.758889</td>\n",
       "      <td>69.888000</td>\n",
       "      <td>63.169</td>\n",
       "      <td>66.150</td>\n",
       "      <td>70.544000</td>\n",
       "      <td>66.264000</td>\n",
       "      <td>63.986</td>\n",
       "    </tr>\n",
       "    <tr>\n",
       "      <th>P-LOC</th>\n",
       "      <td>91.751</td>\n",
       "      <td>68.094000</td>\n",
       "      <td>87.916</td>\n",
       "      <td>77.970000</td>\n",
       "      <td>84.856000</td>\n",
       "      <td>83.435</td>\n",
       "      <td>90.309</td>\n",
       "      <td>82.927000</td>\n",
       "      <td>89.832000</td>\n",
       "      <td>94.152</td>\n",
       "    </tr>\n",
       "    <tr>\n",
       "      <th>R-LOC</th>\n",
       "      <td>52.746</td>\n",
       "      <td>67.193000</td>\n",
       "      <td>58.120</td>\n",
       "      <td>53.773000</td>\n",
       "      <td>64.904000</td>\n",
       "      <td>56.716</td>\n",
       "      <td>56.615</td>\n",
       "      <td>66.583000</td>\n",
       "      <td>58.118000</td>\n",
       "      <td>53.154</td>\n",
       "    </tr>\n",
       "    <tr>\n",
       "      <th>F1-ORG</th>\n",
       "      <td>0.000</td>\n",
       "      <td>33.335000</td>\n",
       "      <td>33.335</td>\n",
       "      <td>0.000000</td>\n",
       "      <td>44.446667</td>\n",
       "      <td>0.000</td>\n",
       "      <td>0.000</td>\n",
       "      <td>44.446667</td>\n",
       "      <td>44.446667</td>\n",
       "      <td>33.335</td>\n",
       "    </tr>\n",
       "    <tr>\n",
       "      <th>P-ORG</th>\n",
       "      <td>0.000</td>\n",
       "      <td>5.000000</td>\n",
       "      <td>5.000</td>\n",
       "      <td>0.000000</td>\n",
       "      <td>10.000000</td>\n",
       "      <td>0.000</td>\n",
       "      <td>0.000</td>\n",
       "      <td>10.000000</td>\n",
       "      <td>10.000000</td>\n",
       "      <td>5.000</td>\n",
       "    </tr>\n",
       "    <tr>\n",
       "      <th>R-ORG</th>\n",
       "      <td>0.000</td>\n",
       "      <td>10.000000</td>\n",
       "      <td>10.000</td>\n",
       "      <td>0.000000</td>\n",
       "      <td>20.000000</td>\n",
       "      <td>0.000</td>\n",
       "      <td>0.000</td>\n",
       "      <td>20.000000</td>\n",
       "      <td>20.000000</td>\n",
       "      <td>10.000</td>\n",
       "    </tr>\n",
       "  </tbody>\n",
       "</table>\n",
       "</div>"
      ],
      "text/plain": [
       "               0          0       0          0           0       0        0  \\\n",
       "F1-O      97.784  97.652000  97.668  97.761000   97.715000  97.652   97.680   \n",
       "P-O       97.034  97.256000  97.129  97.280000   97.125000  96.907   96.644   \n",
       "R-O       98.552  98.079000  98.230  98.258000   98.327000  98.425   98.746   \n",
       "F1-MISC   70.004  69.663000  70.516  69.060000   70.723000  71.077   72.847   \n",
       "P-MISC   100.000  98.889000  94.771  96.667000  100.000000  98.889  100.000   \n",
       "R-MISC    54.588  55.406000  59.113  56.719000   55.497000  56.636   57.747   \n",
       "F1-PER    86.392  85.522000  85.124  87.035000   85.124000  84.958   84.284   \n",
       "P-PER     86.308  86.610000  85.663  85.306000   86.508000  86.804   88.521   \n",
       "R-PER     86.771  85.082000  85.580  89.071000   84.637000  83.975   81.216   \n",
       "F1-LOC    64.818  70.852222  65.612  68.758889   69.888000  63.169   66.150   \n",
       "P-LOC     91.751  68.094000  87.916  77.970000   84.856000  83.435   90.309   \n",
       "R-LOC     52.746  67.193000  58.120  53.773000   64.904000  56.716   56.615   \n",
       "F1-ORG     0.000  33.335000  33.335   0.000000   44.446667   0.000    0.000   \n",
       "P-ORG      0.000   5.000000   5.000   0.000000   10.000000   0.000    0.000   \n",
       "R-ORG      0.000  10.000000  10.000   0.000000   20.000000   0.000    0.000   \n",
       "\n",
       "                 0          0       0  \n",
       "F1-O     97.537000  97.716000  97.764  \n",
       "P-O      97.147000  97.066000  97.091  \n",
       "R-O      97.964000  98.385000  98.468  \n",
       "F1-MISC  68.213000  68.467000  69.684  \n",
       "P-MISC   89.000000  93.889000  98.333  \n",
       "R-MISC   60.608000  58.136000  55.406  \n",
       "F1-PER   84.485000  85.224000  86.069  \n",
       "P-PER    87.124000  86.738000  86.423  \n",
       "R-PER    83.620000  84.832000  87.142  \n",
       "F1-LOC   70.544000  66.264000  63.986  \n",
       "P-LOC    82.927000  89.832000  94.152  \n",
       "R-LOC    66.583000  58.118000  53.154  \n",
       "F1-ORG   44.446667  44.446667  33.335  \n",
       "P-ORG    10.000000  10.000000   5.000  \n",
       "R-ORG    20.000000  20.000000  10.000  "
      ]
     },
     "execution_count": 147,
     "metadata": {},
     "output_type": "execute_result"
    }
   ],
   "source": [
    "trainByTagResult.to_csv(\"results/train-by-tag.csv\")\n",
    "trainByTagResult"
   ]
  },
  {
   "cell_type": "code",
   "execution_count": 148,
   "metadata": {
    "scrolled": true
   },
   "outputs": [
    {
     "data": {
      "text/html": [
       "<div>\n",
       "<style scoped>\n",
       "    .dataframe tbody tr th:only-of-type {\n",
       "        vertical-align: middle;\n",
       "    }\n",
       "\n",
       "    .dataframe tbody tr th {\n",
       "        vertical-align: top;\n",
       "    }\n",
       "\n",
       "    .dataframe thead th {\n",
       "        text-align: right;\n",
       "    }\n",
       "</style>\n",
       "<table border=\"1\" class=\"dataframe\">\n",
       "  <thead>\n",
       "    <tr style=\"text-align: right;\">\n",
       "      <th></th>\n",
       "      <th>0</th>\n",
       "    </tr>\n",
       "  </thead>\n",
       "  <tbody>\n",
       "    <tr>\n",
       "      <th>F1-O</th>\n",
       "      <td>97.692900</td>\n",
       "    </tr>\n",
       "    <tr>\n",
       "      <th>P-O</th>\n",
       "      <td>97.067900</td>\n",
       "    </tr>\n",
       "    <tr>\n",
       "      <th>R-O</th>\n",
       "      <td>98.343400</td>\n",
       "    </tr>\n",
       "    <tr>\n",
       "      <th>F1-MISC</th>\n",
       "      <td>70.025400</td>\n",
       "    </tr>\n",
       "    <tr>\n",
       "      <th>P-MISC</th>\n",
       "      <td>97.043800</td>\n",
       "    </tr>\n",
       "    <tr>\n",
       "      <th>R-MISC</th>\n",
       "      <td>56.985600</td>\n",
       "    </tr>\n",
       "    <tr>\n",
       "      <th>F1-PER</th>\n",
       "      <td>85.421700</td>\n",
       "    </tr>\n",
       "    <tr>\n",
       "      <th>P-PER</th>\n",
       "      <td>86.600500</td>\n",
       "    </tr>\n",
       "    <tr>\n",
       "      <th>R-PER</th>\n",
       "      <td>85.192600</td>\n",
       "    </tr>\n",
       "    <tr>\n",
       "      <th>F1-LOC</th>\n",
       "      <td>67.004211</td>\n",
       "    </tr>\n",
       "    <tr>\n",
       "      <th>P-LOC</th>\n",
       "      <td>85.124200</td>\n",
       "    </tr>\n",
       "    <tr>\n",
       "      <th>R-LOC</th>\n",
       "      <td>58.792200</td>\n",
       "    </tr>\n",
       "    <tr>\n",
       "      <th>F1-ORG</th>\n",
       "      <td>23.334500</td>\n",
       "    </tr>\n",
       "    <tr>\n",
       "      <th>P-ORG</th>\n",
       "      <td>4.500000</td>\n",
       "    </tr>\n",
       "    <tr>\n",
       "      <th>R-ORG</th>\n",
       "      <td>9.000000</td>\n",
       "    </tr>\n",
       "  </tbody>\n",
       "</table>\n",
       "</div>"
      ],
      "text/plain": [
       "                 0\n",
       "F1-O     97.692900\n",
       "P-O      97.067900\n",
       "R-O      98.343400\n",
       "F1-MISC  70.025400\n",
       "P-MISC   97.043800\n",
       "R-MISC   56.985600\n",
       "F1-PER   85.421700\n",
       "P-PER    86.600500\n",
       "R-PER    85.192600\n",
       "F1-LOC   67.004211\n",
       "P-LOC    85.124200\n",
       "R-LOC    58.792200\n",
       "F1-ORG   23.334500\n",
       "P-ORG     4.500000\n",
       "R-ORG     9.000000"
      ]
     },
     "execution_count": 148,
     "metadata": {},
     "output_type": "execute_result"
    }
   ],
   "source": [
    "trainByTagResult.mean(axis=1).to_frame()"
   ]
  },
  {
   "cell_type": "code",
   "execution_count": 149,
   "metadata": {},
   "outputs": [
    {
     "data": {
      "text/html": [
       "<div>\n",
       "<style scoped>\n",
       "    .dataframe tbody tr th:only-of-type {\n",
       "        vertical-align: middle;\n",
       "    }\n",
       "\n",
       "    .dataframe tbody tr th {\n",
       "        vertical-align: top;\n",
       "    }\n",
       "\n",
       "    .dataframe thead th {\n",
       "        text-align: right;\n",
       "    }\n",
       "</style>\n",
       "<table border=\"1\" class=\"dataframe\">\n",
       "  <thead>\n",
       "    <tr style=\"text-align: right;\">\n",
       "      <th></th>\n",
       "      <th>0</th>\n",
       "    </tr>\n",
       "  </thead>\n",
       "  <tbody>\n",
       "    <tr>\n",
       "      <th>F1-O</th>\n",
       "      <td>0.072611</td>\n",
       "    </tr>\n",
       "    <tr>\n",
       "      <th>P-O</th>\n",
       "      <td>0.182843</td>\n",
       "    </tr>\n",
       "    <tr>\n",
       "      <th>R-O</th>\n",
       "      <td>0.227007</td>\n",
       "    </tr>\n",
       "    <tr>\n",
       "      <th>F1-MISC</th>\n",
       "      <td>1.361713</td>\n",
       "    </tr>\n",
       "    <tr>\n",
       "      <th>P-MISC</th>\n",
       "      <td>3.569189</td>\n",
       "    </tr>\n",
       "    <tr>\n",
       "      <th>R-MISC</th>\n",
       "      <td>1.906094</td>\n",
       "    </tr>\n",
       "    <tr>\n",
       "      <th>F1-PER</th>\n",
       "      <td>0.854816</td>\n",
       "    </tr>\n",
       "    <tr>\n",
       "      <th>P-PER</th>\n",
       "      <td>0.863007</td>\n",
       "    </tr>\n",
       "    <tr>\n",
       "      <th>R-PER</th>\n",
       "      <td>2.152608</td>\n",
       "    </tr>\n",
       "    <tr>\n",
       "      <th>F1-LOC</th>\n",
       "      <td>2.799727</td>\n",
       "    </tr>\n",
       "    <tr>\n",
       "      <th>P-LOC</th>\n",
       "      <td>7.682727</td>\n",
       "    </tr>\n",
       "    <tr>\n",
       "      <th>R-LOC</th>\n",
       "      <td>5.498682</td>\n",
       "    </tr>\n",
       "    <tr>\n",
       "      <th>F1-ORG</th>\n",
       "      <td>20.589092</td>\n",
       "    </tr>\n",
       "    <tr>\n",
       "      <th>P-ORG</th>\n",
       "      <td>4.377975</td>\n",
       "    </tr>\n",
       "    <tr>\n",
       "      <th>R-ORG</th>\n",
       "      <td>8.755950</td>\n",
       "    </tr>\n",
       "  </tbody>\n",
       "</table>\n",
       "</div>"
      ],
      "text/plain": [
       "                 0\n",
       "F1-O      0.072611\n",
       "P-O       0.182843\n",
       "R-O       0.227007\n",
       "F1-MISC   1.361713\n",
       "P-MISC    3.569189\n",
       "R-MISC    1.906094\n",
       "F1-PER    0.854816\n",
       "P-PER     0.863007\n",
       "R-PER     2.152608\n",
       "F1-LOC    2.799727\n",
       "P-LOC     7.682727\n",
       "R-LOC     5.498682\n",
       "F1-ORG   20.589092\n",
       "P-ORG     4.377975\n",
       "R-ORG     8.755950"
      ]
     },
     "execution_count": 149,
     "metadata": {},
     "output_type": "execute_result"
    }
   ],
   "source": [
    "trainByTagResult.std(axis=1).to_frame()"
   ]
  },
  {
   "cell_type": "code",
   "execution_count": 150,
   "metadata": {},
   "outputs": [
    {
     "data": {
      "text/html": [
       "<div>\n",
       "<style scoped>\n",
       "    .dataframe tbody tr th:only-of-type {\n",
       "        vertical-align: middle;\n",
       "    }\n",
       "\n",
       "    .dataframe tbody tr th {\n",
       "        vertical-align: top;\n",
       "    }\n",
       "\n",
       "    .dataframe thead th {\n",
       "        text-align: right;\n",
       "    }\n",
       "</style>\n",
       "<table border=\"1\" class=\"dataframe\">\n",
       "  <thead>\n",
       "    <tr style=\"text-align: right;\">\n",
       "      <th></th>\n",
       "      <th>0</th>\n",
       "      <th>0</th>\n",
       "      <th>0</th>\n",
       "      <th>0</th>\n",
       "      <th>0</th>\n",
       "      <th>0</th>\n",
       "      <th>0</th>\n",
       "      <th>0</th>\n",
       "      <th>0</th>\n",
       "      <th>0</th>\n",
       "    </tr>\n",
       "  </thead>\n",
       "  <tbody>\n",
       "    <tr>\n",
       "      <th>F1-O</th>\n",
       "      <td>97.399000</td>\n",
       "      <td>97.019000</td>\n",
       "      <td>97.455000</td>\n",
       "      <td>97.124000</td>\n",
       "      <td>97.0760</td>\n",
       "      <td>97.0780</td>\n",
       "      <td>97.3920</td>\n",
       "      <td>97.076000</td>\n",
       "      <td>97.343</td>\n",
       "      <td>97.272000</td>\n",
       "    </tr>\n",
       "    <tr>\n",
       "      <th>P-O</th>\n",
       "      <td>96.247000</td>\n",
       "      <td>96.143000</td>\n",
       "      <td>96.598000</td>\n",
       "      <td>96.705000</td>\n",
       "      <td>96.2260</td>\n",
       "      <td>96.2530</td>\n",
       "      <td>96.3430</td>\n",
       "      <td>96.366000</td>\n",
       "      <td>96.120</td>\n",
       "      <td>96.373000</td>\n",
       "    </tr>\n",
       "    <tr>\n",
       "      <th>R-O</th>\n",
       "      <td>98.612000</td>\n",
       "      <td>97.981000</td>\n",
       "      <td>98.362000</td>\n",
       "      <td>97.603000</td>\n",
       "      <td>97.9840</td>\n",
       "      <td>97.9820</td>\n",
       "      <td>98.4870</td>\n",
       "      <td>97.861000</td>\n",
       "      <td>98.617</td>\n",
       "      <td>98.230000</td>\n",
       "    </tr>\n",
       "    <tr>\n",
       "      <th>F1-MISC</th>\n",
       "      <td>51.667500</td>\n",
       "      <td>44.762857</td>\n",
       "      <td>51.667500</td>\n",
       "      <td>43.401429</td>\n",
       "      <td>51.6675</td>\n",
       "      <td>51.6675</td>\n",
       "      <td>51.6675</td>\n",
       "      <td>53.334444</td>\n",
       "      <td>47.620</td>\n",
       "      <td>44.762857</td>\n",
       "    </tr>\n",
       "    <tr>\n",
       "      <th>P-MISC</th>\n",
       "      <td>50.000000</td>\n",
       "      <td>40.000000</td>\n",
       "      <td>50.000000</td>\n",
       "      <td>34.000000</td>\n",
       "      <td>50.0000</td>\n",
       "      <td>50.0000</td>\n",
       "      <td>50.0000</td>\n",
       "      <td>55.000000</td>\n",
       "      <td>40.000</td>\n",
       "      <td>40.000000</td>\n",
       "    </tr>\n",
       "    <tr>\n",
       "      <th>R-MISC</th>\n",
       "      <td>36.667000</td>\n",
       "      <td>26.667000</td>\n",
       "      <td>36.667000</td>\n",
       "      <td>31.667000</td>\n",
       "      <td>36.6670</td>\n",
       "      <td>36.6670</td>\n",
       "      <td>36.6670</td>\n",
       "      <td>46.667000</td>\n",
       "      <td>30.000</td>\n",
       "      <td>26.667000</td>\n",
       "    </tr>\n",
       "    <tr>\n",
       "      <th>F1-PER</th>\n",
       "      <td>81.612000</td>\n",
       "      <td>79.837000</td>\n",
       "      <td>83.201000</td>\n",
       "      <td>81.204000</td>\n",
       "      <td>79.3740</td>\n",
       "      <td>78.7750</td>\n",
       "      <td>82.2830</td>\n",
       "      <td>79.535000</td>\n",
       "      <td>81.310</td>\n",
       "      <td>79.530000</td>\n",
       "    </tr>\n",
       "    <tr>\n",
       "      <th>P-PER</th>\n",
       "      <td>85.562000</td>\n",
       "      <td>86.966000</td>\n",
       "      <td>87.241000</td>\n",
       "      <td>81.745000</td>\n",
       "      <td>84.4750</td>\n",
       "      <td>84.1880</td>\n",
       "      <td>86.4350</td>\n",
       "      <td>84.253000</td>\n",
       "      <td>87.268</td>\n",
       "      <td>86.149000</td>\n",
       "    </tr>\n",
       "    <tr>\n",
       "      <th>R-PER</th>\n",
       "      <td>80.349000</td>\n",
       "      <td>77.810000</td>\n",
       "      <td>81.460000</td>\n",
       "      <td>82.849000</td>\n",
       "      <td>77.0160</td>\n",
       "      <td>76.6990</td>\n",
       "      <td>80.4880</td>\n",
       "      <td>80.210000</td>\n",
       "      <td>77.949</td>\n",
       "      <td>79.460000</td>\n",
       "    </tr>\n",
       "    <tr>\n",
       "      <th>F1-LOC</th>\n",
       "      <td>50.396667</td>\n",
       "      <td>63.810000</td>\n",
       "      <td>50.926667</td>\n",
       "      <td>47.223333</td>\n",
       "      <td>63.3340</td>\n",
       "      <td>53.7050</td>\n",
       "      <td>60.0020</td>\n",
       "      <td>63.095000</td>\n",
       "      <td>63.334</td>\n",
       "      <td>55.556667</td>\n",
       "    </tr>\n",
       "    <tr>\n",
       "      <th>P-LOC</th>\n",
       "      <td>40.000000</td>\n",
       "      <td>31.667000</td>\n",
       "      <td>29.667000</td>\n",
       "      <td>31.667000</td>\n",
       "      <td>31.6670</td>\n",
       "      <td>29.6670</td>\n",
       "      <td>36.6670</td>\n",
       "      <td>30.000000</td>\n",
       "      <td>40.000</td>\n",
       "      <td>36.667000</td>\n",
       "    </tr>\n",
       "    <tr>\n",
       "      <th>R-LOC</th>\n",
       "      <td>25.833000</td>\n",
       "      <td>34.167000</td>\n",
       "      <td>31.667000</td>\n",
       "      <td>26.667000</td>\n",
       "      <td>31.6670</td>\n",
       "      <td>36.6670</td>\n",
       "      <td>26.6670</td>\n",
       "      <td>22.500000</td>\n",
       "      <td>28.333</td>\n",
       "      <td>31.667000</td>\n",
       "    </tr>\n",
       "    <tr>\n",
       "      <th>F1-ORG</th>\n",
       "      <td>0.000000</td>\n",
       "      <td>0.000000</td>\n",
       "      <td>0.000000</td>\n",
       "      <td>0.000000</td>\n",
       "      <td>0.0000</td>\n",
       "      <td>0.0000</td>\n",
       "      <td>0.0000</td>\n",
       "      <td>0.000000</td>\n",
       "      <td>0.000</td>\n",
       "      <td>0.000000</td>\n",
       "    </tr>\n",
       "    <tr>\n",
       "      <th>P-ORG</th>\n",
       "      <td>0.000000</td>\n",
       "      <td>0.000000</td>\n",
       "      <td>0.000000</td>\n",
       "      <td>0.000000</td>\n",
       "      <td>0.0000</td>\n",
       "      <td>0.0000</td>\n",
       "      <td>0.0000</td>\n",
       "      <td>0.000000</td>\n",
       "      <td>0.000</td>\n",
       "      <td>0.000000</td>\n",
       "    </tr>\n",
       "    <tr>\n",
       "      <th>R-ORG</th>\n",
       "      <td>0.000000</td>\n",
       "      <td>0.000000</td>\n",
       "      <td>0.000000</td>\n",
       "      <td>0.000000</td>\n",
       "      <td>0.0000</td>\n",
       "      <td>0.0000</td>\n",
       "      <td>0.0000</td>\n",
       "      <td>0.000000</td>\n",
       "      <td>0.000</td>\n",
       "      <td>0.000000</td>\n",
       "    </tr>\n",
       "  </tbody>\n",
       "</table>\n",
       "</div>"
      ],
      "text/plain": [
       "                 0          0          0          0        0        0  \\\n",
       "F1-O     97.399000  97.019000  97.455000  97.124000  97.0760  97.0780   \n",
       "P-O      96.247000  96.143000  96.598000  96.705000  96.2260  96.2530   \n",
       "R-O      98.612000  97.981000  98.362000  97.603000  97.9840  97.9820   \n",
       "F1-MISC  51.667500  44.762857  51.667500  43.401429  51.6675  51.6675   \n",
       "P-MISC   50.000000  40.000000  50.000000  34.000000  50.0000  50.0000   \n",
       "R-MISC   36.667000  26.667000  36.667000  31.667000  36.6670  36.6670   \n",
       "F1-PER   81.612000  79.837000  83.201000  81.204000  79.3740  78.7750   \n",
       "P-PER    85.562000  86.966000  87.241000  81.745000  84.4750  84.1880   \n",
       "R-PER    80.349000  77.810000  81.460000  82.849000  77.0160  76.6990   \n",
       "F1-LOC   50.396667  63.810000  50.926667  47.223333  63.3340  53.7050   \n",
       "P-LOC    40.000000  31.667000  29.667000  31.667000  31.6670  29.6670   \n",
       "R-LOC    25.833000  34.167000  31.667000  26.667000  31.6670  36.6670   \n",
       "F1-ORG    0.000000   0.000000   0.000000   0.000000   0.0000   0.0000   \n",
       "P-ORG     0.000000   0.000000   0.000000   0.000000   0.0000   0.0000   \n",
       "R-ORG     0.000000   0.000000   0.000000   0.000000   0.0000   0.0000   \n",
       "\n",
       "               0          0       0          0  \n",
       "F1-O     97.3920  97.076000  97.343  97.272000  \n",
       "P-O      96.3430  96.366000  96.120  96.373000  \n",
       "R-O      98.4870  97.861000  98.617  98.230000  \n",
       "F1-MISC  51.6675  53.334444  47.620  44.762857  \n",
       "P-MISC   50.0000  55.000000  40.000  40.000000  \n",
       "R-MISC   36.6670  46.667000  30.000  26.667000  \n",
       "F1-PER   82.2830  79.535000  81.310  79.530000  \n",
       "P-PER    86.4350  84.253000  87.268  86.149000  \n",
       "R-PER    80.4880  80.210000  77.949  79.460000  \n",
       "F1-LOC   60.0020  63.095000  63.334  55.556667  \n",
       "P-LOC    36.6670  30.000000  40.000  36.667000  \n",
       "R-LOC    26.6670  22.500000  28.333  31.667000  \n",
       "F1-ORG    0.0000   0.000000   0.000   0.000000  \n",
       "P-ORG     0.0000   0.000000   0.000   0.000000  \n",
       "R-ORG     0.0000   0.000000   0.000   0.000000  "
      ]
     },
     "execution_count": 150,
     "metadata": {},
     "output_type": "execute_result"
    }
   ],
   "source": [
    "testByTagResult.to_csv(\"results/test-by-tag.csv\")\n",
    "testByTagResult"
   ]
  },
  {
   "cell_type": "code",
   "execution_count": 151,
   "metadata": {},
   "outputs": [
    {
     "data": {
      "text/html": [
       "<div>\n",
       "<style scoped>\n",
       "    .dataframe tbody tr th:only-of-type {\n",
       "        vertical-align: middle;\n",
       "    }\n",
       "\n",
       "    .dataframe tbody tr th {\n",
       "        vertical-align: top;\n",
       "    }\n",
       "\n",
       "    .dataframe thead th {\n",
       "        text-align: right;\n",
       "    }\n",
       "</style>\n",
       "<table border=\"1\" class=\"dataframe\">\n",
       "  <thead>\n",
       "    <tr style=\"text-align: right;\">\n",
       "      <th></th>\n",
       "      <th>0</th>\n",
       "    </tr>\n",
       "  </thead>\n",
       "  <tbody>\n",
       "    <tr>\n",
       "      <th>F1-O</th>\n",
       "      <td>97.223400</td>\n",
       "    </tr>\n",
       "    <tr>\n",
       "      <th>P-O</th>\n",
       "      <td>96.337400</td>\n",
       "    </tr>\n",
       "    <tr>\n",
       "      <th>R-O</th>\n",
       "      <td>98.171900</td>\n",
       "    </tr>\n",
       "    <tr>\n",
       "      <th>F1-MISC</th>\n",
       "      <td>49.221909</td>\n",
       "    </tr>\n",
       "    <tr>\n",
       "      <th>P-MISC</th>\n",
       "      <td>45.900000</td>\n",
       "    </tr>\n",
       "    <tr>\n",
       "      <th>R-MISC</th>\n",
       "      <td>34.500300</td>\n",
       "    </tr>\n",
       "    <tr>\n",
       "      <th>F1-PER</th>\n",
       "      <td>80.666100</td>\n",
       "    </tr>\n",
       "    <tr>\n",
       "      <th>P-PER</th>\n",
       "      <td>85.428200</td>\n",
       "    </tr>\n",
       "    <tr>\n",
       "      <th>R-PER</th>\n",
       "      <td>79.429000</td>\n",
       "    </tr>\n",
       "    <tr>\n",
       "      <th>F1-LOC</th>\n",
       "      <td>57.138333</td>\n",
       "    </tr>\n",
       "    <tr>\n",
       "      <th>P-LOC</th>\n",
       "      <td>33.766900</td>\n",
       "    </tr>\n",
       "    <tr>\n",
       "      <th>R-LOC</th>\n",
       "      <td>29.583500</td>\n",
       "    </tr>\n",
       "    <tr>\n",
       "      <th>F1-ORG</th>\n",
       "      <td>0.000000</td>\n",
       "    </tr>\n",
       "    <tr>\n",
       "      <th>P-ORG</th>\n",
       "      <td>0.000000</td>\n",
       "    </tr>\n",
       "    <tr>\n",
       "      <th>R-ORG</th>\n",
       "      <td>0.000000</td>\n",
       "    </tr>\n",
       "  </tbody>\n",
       "</table>\n",
       "</div>"
      ],
      "text/plain": [
       "                 0\n",
       "F1-O     97.223400\n",
       "P-O      96.337400\n",
       "R-O      98.171900\n",
       "F1-MISC  49.221909\n",
       "P-MISC   45.900000\n",
       "R-MISC   34.500300\n",
       "F1-PER   80.666100\n",
       "P-PER    85.428200\n",
       "R-PER    79.429000\n",
       "F1-LOC   57.138333\n",
       "P-LOC    33.766900\n",
       "R-LOC    29.583500\n",
       "F1-ORG    0.000000\n",
       "P-ORG     0.000000\n",
       "R-ORG     0.000000"
      ]
     },
     "execution_count": 151,
     "metadata": {},
     "output_type": "execute_result"
    }
   ],
   "source": [
    "testByTagResult.mean(axis=1).to_frame()"
   ]
  },
  {
   "cell_type": "code",
   "execution_count": 152,
   "metadata": {},
   "outputs": [
    {
     "data": {
      "text/html": [
       "<div>\n",
       "<style scoped>\n",
       "    .dataframe tbody tr th:only-of-type {\n",
       "        vertical-align: middle;\n",
       "    }\n",
       "\n",
       "    .dataframe tbody tr th {\n",
       "        vertical-align: top;\n",
       "    }\n",
       "\n",
       "    .dataframe thead th {\n",
       "        text-align: right;\n",
       "    }\n",
       "</style>\n",
       "<table border=\"1\" class=\"dataframe\">\n",
       "  <thead>\n",
       "    <tr style=\"text-align: right;\">\n",
       "      <th></th>\n",
       "      <th>0</th>\n",
       "    </tr>\n",
       "  </thead>\n",
       "  <tbody>\n",
       "    <tr>\n",
       "      <th>F1-O</th>\n",
       "      <td>0.165268</td>\n",
       "    </tr>\n",
       "    <tr>\n",
       "      <th>P-O</th>\n",
       "      <td>0.187948</td>\n",
       "    </tr>\n",
       "    <tr>\n",
       "      <th>R-O</th>\n",
       "      <td>0.342981</td>\n",
       "    </tr>\n",
       "    <tr>\n",
       "      <th>F1-MISC</th>\n",
       "      <td>3.697265</td>\n",
       "    </tr>\n",
       "    <tr>\n",
       "      <th>P-MISC</th>\n",
       "      <td>6.773314</td>\n",
       "    </tr>\n",
       "    <tr>\n",
       "      <th>R-MISC</th>\n",
       "      <td>5.986123</td>\n",
       "    </tr>\n",
       "    <tr>\n",
       "      <th>F1-PER</th>\n",
       "      <td>1.458388</td>\n",
       "    </tr>\n",
       "    <tr>\n",
       "      <th>P-PER</th>\n",
       "      <td>1.763229</td>\n",
       "    </tr>\n",
       "    <tr>\n",
       "      <th>R-PER</th>\n",
       "      <td>2.013488</td>\n",
       "    </tr>\n",
       "    <tr>\n",
       "      <th>F1-LOC</th>\n",
       "      <td>6.338574</td>\n",
       "    </tr>\n",
       "    <tr>\n",
       "      <th>P-LOC</th>\n",
       "      <td>4.157468</td>\n",
       "    </tr>\n",
       "    <tr>\n",
       "      <th>R-LOC</th>\n",
       "      <td>4.307942</td>\n",
       "    </tr>\n",
       "    <tr>\n",
       "      <th>F1-ORG</th>\n",
       "      <td>0.000000</td>\n",
       "    </tr>\n",
       "    <tr>\n",
       "      <th>P-ORG</th>\n",
       "      <td>0.000000</td>\n",
       "    </tr>\n",
       "    <tr>\n",
       "      <th>R-ORG</th>\n",
       "      <td>0.000000</td>\n",
       "    </tr>\n",
       "  </tbody>\n",
       "</table>\n",
       "</div>"
      ],
      "text/plain": [
       "                0\n",
       "F1-O     0.165268\n",
       "P-O      0.187948\n",
       "R-O      0.342981\n",
       "F1-MISC  3.697265\n",
       "P-MISC   6.773314\n",
       "R-MISC   5.986123\n",
       "F1-PER   1.458388\n",
       "P-PER    1.763229\n",
       "R-PER    2.013488\n",
       "F1-LOC   6.338574\n",
       "P-LOC    4.157468\n",
       "R-LOC    4.307942\n",
       "F1-ORG   0.000000\n",
       "P-ORG    0.000000\n",
       "R-ORG    0.000000"
      ]
     },
     "execution_count": 152,
     "metadata": {},
     "output_type": "execute_result"
    }
   ],
   "source": [
    "testByTagResult.std(axis=1).to_frame()"
   ]
  },
  {
   "cell_type": "code",
   "execution_count": 153,
   "metadata": {},
   "outputs": [],
   "source": [
    "ewoByTagResult.to_csv(\"results/ewo-by-tag.csv\")"
   ]
  },
  {
   "cell_type": "code",
   "execution_count": 154,
   "metadata": {},
   "outputs": [
    {
     "data": {
      "text/html": [
       "<div>\n",
       "<style scoped>\n",
       "    .dataframe tbody tr th:only-of-type {\n",
       "        vertical-align: middle;\n",
       "    }\n",
       "\n",
       "    .dataframe tbody tr th {\n",
       "        vertical-align: top;\n",
       "    }\n",
       "\n",
       "    .dataframe thead th {\n",
       "        text-align: right;\n",
       "    }\n",
       "</style>\n",
       "<table border=\"1\" class=\"dataframe\">\n",
       "  <thead>\n",
       "    <tr style=\"text-align: right;\">\n",
       "      <th></th>\n",
       "      <th>0</th>\n",
       "      <th>0.1</th>\n",
       "      <th>0.2</th>\n",
       "      <th>0.3</th>\n",
       "      <th>0.4</th>\n",
       "      <th>0.5</th>\n",
       "      <th>0.6</th>\n",
       "      <th>0.7</th>\n",
       "      <th>0.8</th>\n",
       "      <th>0.9</th>\n",
       "    </tr>\n",
       "  </thead>\n",
       "  <tbody>\n",
       "    <tr>\n",
       "      <th>F1-O</th>\n",
       "      <td>96.797</td>\n",
       "      <td>96.757000</td>\n",
       "      <td>96.789</td>\n",
       "      <td>96.857000</td>\n",
       "      <td>96.798</td>\n",
       "      <td>96.804</td>\n",
       "      <td>96.843</td>\n",
       "      <td>96.676</td>\n",
       "      <td>96.836</td>\n",
       "      <td>96.790</td>\n",
       "    </tr>\n",
       "    <tr>\n",
       "      <th>P-O</th>\n",
       "      <td>95.988</td>\n",
       "      <td>96.178000</td>\n",
       "      <td>96.107</td>\n",
       "      <td>96.353000</td>\n",
       "      <td>96.124</td>\n",
       "      <td>95.928</td>\n",
       "      <td>95.648</td>\n",
       "      <td>96.212</td>\n",
       "      <td>96.052</td>\n",
       "      <td>96.082</td>\n",
       "    </tr>\n",
       "    <tr>\n",
       "      <th>R-O</th>\n",
       "      <td>97.628</td>\n",
       "      <td>97.366000</td>\n",
       "      <td>97.497</td>\n",
       "      <td>97.377000</td>\n",
       "      <td>97.495</td>\n",
       "      <td>97.714</td>\n",
       "      <td>98.076</td>\n",
       "      <td>97.181</td>\n",
       "      <td>97.650</td>\n",
       "      <td>97.530</td>\n",
       "    </tr>\n",
       "    <tr>\n",
       "      <th>F1-MISC</th>\n",
       "      <td>47.251</td>\n",
       "      <td>48.918000</td>\n",
       "      <td>46.958</td>\n",
       "      <td>47.051000</td>\n",
       "      <td>45.523</td>\n",
       "      <td>48.554</td>\n",
       "      <td>48.251</td>\n",
       "      <td>48.519</td>\n",
       "      <td>50.282</td>\n",
       "      <td>46.077</td>\n",
       "    </tr>\n",
       "    <tr>\n",
       "      <th>P-MISC</th>\n",
       "      <td>75.167</td>\n",
       "      <td>74.810000</td>\n",
       "      <td>67.280</td>\n",
       "      <td>71.196000</td>\n",
       "      <td>71.001</td>\n",
       "      <td>71.477</td>\n",
       "      <td>72.667</td>\n",
       "      <td>66.545</td>\n",
       "      <td>71.893</td>\n",
       "      <td>70.786</td>\n",
       "    </tr>\n",
       "    <tr>\n",
       "      <th>R-MISC</th>\n",
       "      <td>35.000</td>\n",
       "      <td>37.500000</td>\n",
       "      <td>40.000</td>\n",
       "      <td>38.750000</td>\n",
       "      <td>33.750</td>\n",
       "      <td>37.500</td>\n",
       "      <td>36.250</td>\n",
       "      <td>45.000</td>\n",
       "      <td>42.500</td>\n",
       "      <td>35.000</td>\n",
       "    </tr>\n",
       "    <tr>\n",
       "      <th>F1-PER</th>\n",
       "      <td>75.182</td>\n",
       "      <td>74.137000</td>\n",
       "      <td>74.814</td>\n",
       "      <td>76.227000</td>\n",
       "      <td>74.913</td>\n",
       "      <td>74.594</td>\n",
       "      <td>74.051</td>\n",
       "      <td>74.752</td>\n",
       "      <td>74.736</td>\n",
       "      <td>75.101</td>\n",
       "    </tr>\n",
       "    <tr>\n",
       "      <th>P-PER</th>\n",
       "      <td>74.564</td>\n",
       "      <td>74.836000</td>\n",
       "      <td>75.115</td>\n",
       "      <td>73.983000</td>\n",
       "      <td>75.055</td>\n",
       "      <td>76.807</td>\n",
       "      <td>78.080</td>\n",
       "      <td>76.621</td>\n",
       "      <td>76.063</td>\n",
       "      <td>75.296</td>\n",
       "    </tr>\n",
       "    <tr>\n",
       "      <th>R-PER</th>\n",
       "      <td>76.375</td>\n",
       "      <td>74.375000</td>\n",
       "      <td>75.750</td>\n",
       "      <td>79.000000</td>\n",
       "      <td>75.875</td>\n",
       "      <td>73.500</td>\n",
       "      <td>71.125</td>\n",
       "      <td>75.250</td>\n",
       "      <td>74.750</td>\n",
       "      <td>77.000</td>\n",
       "    </tr>\n",
       "    <tr>\n",
       "      <th>F1-LOC</th>\n",
       "      <td>37.410</td>\n",
       "      <td>52.352222</td>\n",
       "      <td>42.197</td>\n",
       "      <td>45.458889</td>\n",
       "      <td>45.355</td>\n",
       "      <td>41.667</td>\n",
       "      <td>41.041</td>\n",
       "      <td>46.899</td>\n",
       "      <td>42.335</td>\n",
       "      <td>39.466</td>\n",
       "    </tr>\n",
       "    <tr>\n",
       "      <th>P-LOC</th>\n",
       "      <td>77.047</td>\n",
       "      <td>60.691000</td>\n",
       "      <td>78.821</td>\n",
       "      <td>66.872000</td>\n",
       "      <td>75.355</td>\n",
       "      <td>68.937</td>\n",
       "      <td>75.532</td>\n",
       "      <td>70.285</td>\n",
       "      <td>77.167</td>\n",
       "      <td>74.246</td>\n",
       "    </tr>\n",
       "    <tr>\n",
       "      <th>R-LOC</th>\n",
       "      <td>25.555</td>\n",
       "      <td>42.779000</td>\n",
       "      <td>31.111</td>\n",
       "      <td>30.556000</td>\n",
       "      <td>34.999</td>\n",
       "      <td>33.334</td>\n",
       "      <td>30.001</td>\n",
       "      <td>37.223</td>\n",
       "      <td>31.110</td>\n",
       "      <td>28.332</td>\n",
       "    </tr>\n",
       "    <tr>\n",
       "      <th>F1-ORG</th>\n",
       "      <td>NaN</td>\n",
       "      <td>NaN</td>\n",
       "      <td>33.330</td>\n",
       "      <td>NaN</td>\n",
       "      <td>33.330</td>\n",
       "      <td>NaN</td>\n",
       "      <td>NaN</td>\n",
       "      <td>33.330</td>\n",
       "      <td>33.330</td>\n",
       "      <td>NaN</td>\n",
       "    </tr>\n",
       "    <tr>\n",
       "      <th>P-ORG</th>\n",
       "      <td>0.000</td>\n",
       "      <td>0.000000</td>\n",
       "      <td>2.500</td>\n",
       "      <td>0.000000</td>\n",
       "      <td>5.000</td>\n",
       "      <td>0.000</td>\n",
       "      <td>0.000</td>\n",
       "      <td>5.000</td>\n",
       "      <td>2.500</td>\n",
       "      <td>0.000</td>\n",
       "    </tr>\n",
       "    <tr>\n",
       "      <th>R-ORG</th>\n",
       "      <td>0.000</td>\n",
       "      <td>0.000000</td>\n",
       "      <td>5.000</td>\n",
       "      <td>0.000000</td>\n",
       "      <td>10.000</td>\n",
       "      <td>0.000</td>\n",
       "      <td>0.000</td>\n",
       "      <td>10.000</td>\n",
       "      <td>5.000</td>\n",
       "      <td>0.000</td>\n",
       "    </tr>\n",
       "  </tbody>\n",
       "</table>\n",
       "</div>"
      ],
      "text/plain": [
       "              0        0.1     0.2        0.3     0.4     0.5     0.6     0.7  \\\n",
       "F1-O     96.797  96.757000  96.789  96.857000  96.798  96.804  96.843  96.676   \n",
       "P-O      95.988  96.178000  96.107  96.353000  96.124  95.928  95.648  96.212   \n",
       "R-O      97.628  97.366000  97.497  97.377000  97.495  97.714  98.076  97.181   \n",
       "F1-MISC  47.251  48.918000  46.958  47.051000  45.523  48.554  48.251  48.519   \n",
       "P-MISC   75.167  74.810000  67.280  71.196000  71.001  71.477  72.667  66.545   \n",
       "R-MISC   35.000  37.500000  40.000  38.750000  33.750  37.500  36.250  45.000   \n",
       "F1-PER   75.182  74.137000  74.814  76.227000  74.913  74.594  74.051  74.752   \n",
       "P-PER    74.564  74.836000  75.115  73.983000  75.055  76.807  78.080  76.621   \n",
       "R-PER    76.375  74.375000  75.750  79.000000  75.875  73.500  71.125  75.250   \n",
       "F1-LOC   37.410  52.352222  42.197  45.458889  45.355  41.667  41.041  46.899   \n",
       "P-LOC    77.047  60.691000  78.821  66.872000  75.355  68.937  75.532  70.285   \n",
       "R-LOC    25.555  42.779000  31.111  30.556000  34.999  33.334  30.001  37.223   \n",
       "F1-ORG      NaN        NaN  33.330        NaN  33.330     NaN     NaN  33.330   \n",
       "P-ORG     0.000   0.000000   2.500   0.000000   5.000   0.000   0.000   5.000   \n",
       "R-ORG     0.000   0.000000   5.000   0.000000  10.000   0.000   0.000  10.000   \n",
       "\n",
       "            0.8     0.9  \n",
       "F1-O     96.836  96.790  \n",
       "P-O      96.052  96.082  \n",
       "R-O      97.650  97.530  \n",
       "F1-MISC  50.282  46.077  \n",
       "P-MISC   71.893  70.786  \n",
       "R-MISC   42.500  35.000  \n",
       "F1-PER   74.736  75.101  \n",
       "P-PER    76.063  75.296  \n",
       "R-PER    74.750  77.000  \n",
       "F1-LOC   42.335  39.466  \n",
       "P-LOC    77.167  74.246  \n",
       "R-LOC    31.110  28.332  \n",
       "F1-ORG   33.330     NaN  \n",
       "P-ORG     2.500   0.000  \n",
       "R-ORG     5.000   0.000  "
      ]
     },
     "execution_count": 154,
     "metadata": {},
     "output_type": "execute_result"
    }
   ],
   "source": [
    "ewoByTagResult = pd.read_csv(\"results/ewo-by-tag.csv\", index_col=0)\n",
    "ewoByTagResult"
   ]
  },
  {
   "cell_type": "code",
   "execution_count": 155,
   "metadata": {},
   "outputs": [
    {
     "data": {
      "text/html": [
       "<div>\n",
       "<style scoped>\n",
       "    .dataframe tbody tr th:only-of-type {\n",
       "        vertical-align: middle;\n",
       "    }\n",
       "\n",
       "    .dataframe tbody tr th {\n",
       "        vertical-align: top;\n",
       "    }\n",
       "\n",
       "    .dataframe thead th {\n",
       "        text-align: right;\n",
       "    }\n",
       "</style>\n",
       "<table border=\"1\" class=\"dataframe\">\n",
       "  <thead>\n",
       "    <tr style=\"text-align: right;\">\n",
       "      <th></th>\n",
       "      <th>0</th>\n",
       "    </tr>\n",
       "  </thead>\n",
       "  <tbody>\n",
       "    <tr>\n",
       "      <th>F1-O</th>\n",
       "      <td>96.794700</td>\n",
       "    </tr>\n",
       "    <tr>\n",
       "      <th>P-O</th>\n",
       "      <td>96.067200</td>\n",
       "    </tr>\n",
       "    <tr>\n",
       "      <th>R-O</th>\n",
       "      <td>97.551400</td>\n",
       "    </tr>\n",
       "    <tr>\n",
       "      <th>F1-MISC</th>\n",
       "      <td>47.738400</td>\n",
       "    </tr>\n",
       "    <tr>\n",
       "      <th>P-MISC</th>\n",
       "      <td>71.282200</td>\n",
       "    </tr>\n",
       "    <tr>\n",
       "      <th>R-MISC</th>\n",
       "      <td>38.125000</td>\n",
       "    </tr>\n",
       "    <tr>\n",
       "      <th>F1-PER</th>\n",
       "      <td>74.850700</td>\n",
       "    </tr>\n",
       "    <tr>\n",
       "      <th>P-PER</th>\n",
       "      <td>75.642000</td>\n",
       "    </tr>\n",
       "    <tr>\n",
       "      <th>R-PER</th>\n",
       "      <td>75.300000</td>\n",
       "    </tr>\n",
       "    <tr>\n",
       "      <th>F1-LOC</th>\n",
       "      <td>43.418111</td>\n",
       "    </tr>\n",
       "    <tr>\n",
       "      <th>P-LOC</th>\n",
       "      <td>72.495300</td>\n",
       "    </tr>\n",
       "    <tr>\n",
       "      <th>R-LOC</th>\n",
       "      <td>32.500000</td>\n",
       "    </tr>\n",
       "    <tr>\n",
       "      <th>F1-ORG</th>\n",
       "      <td>33.330000</td>\n",
       "    </tr>\n",
       "    <tr>\n",
       "      <th>P-ORG</th>\n",
       "      <td>1.500000</td>\n",
       "    </tr>\n",
       "    <tr>\n",
       "      <th>R-ORG</th>\n",
       "      <td>3.000000</td>\n",
       "    </tr>\n",
       "  </tbody>\n",
       "</table>\n",
       "</div>"
      ],
      "text/plain": [
       "                 0\n",
       "F1-O     96.794700\n",
       "P-O      96.067200\n",
       "R-O      97.551400\n",
       "F1-MISC  47.738400\n",
       "P-MISC   71.282200\n",
       "R-MISC   38.125000\n",
       "F1-PER   74.850700\n",
       "P-PER    75.642000\n",
       "R-PER    75.300000\n",
       "F1-LOC   43.418111\n",
       "P-LOC    72.495300\n",
       "R-LOC    32.500000\n",
       "F1-ORG   33.330000\n",
       "P-ORG     1.500000\n",
       "R-ORG     3.000000"
      ]
     },
     "execution_count": 155,
     "metadata": {},
     "output_type": "execute_result"
    }
   ],
   "source": [
    "ewoByTagResult.mean(axis=1).to_frame()"
   ]
  },
  {
   "cell_type": "code",
   "execution_count": 156,
   "metadata": {},
   "outputs": [
    {
     "data": {
      "text/html": [
       "<div>\n",
       "<style scoped>\n",
       "    .dataframe tbody tr th:only-of-type {\n",
       "        vertical-align: middle;\n",
       "    }\n",
       "\n",
       "    .dataframe tbody tr th {\n",
       "        vertical-align: top;\n",
       "    }\n",
       "\n",
       "    .dataframe thead th {\n",
       "        text-align: right;\n",
       "    }\n",
       "</style>\n",
       "<table border=\"1\" class=\"dataframe\">\n",
       "  <thead>\n",
       "    <tr style=\"text-align: right;\">\n",
       "      <th></th>\n",
       "      <th>0</th>\n",
       "    </tr>\n",
       "  </thead>\n",
       "  <tbody>\n",
       "    <tr>\n",
       "      <th>F1-O</th>\n",
       "      <td>0.051195</td>\n",
       "    </tr>\n",
       "    <tr>\n",
       "      <th>P-O</th>\n",
       "      <td>0.189022</td>\n",
       "    </tr>\n",
       "    <tr>\n",
       "      <th>R-O</th>\n",
       "      <td>0.241711</td>\n",
       "    </tr>\n",
       "    <tr>\n",
       "      <th>F1-MISC</th>\n",
       "      <td>1.429297</td>\n",
       "    </tr>\n",
       "    <tr>\n",
       "      <th>P-MISC</th>\n",
       "      <td>2.761987</td>\n",
       "    </tr>\n",
       "    <tr>\n",
       "      <th>R-MISC</th>\n",
       "      <td>3.547789</td>\n",
       "    </tr>\n",
       "    <tr>\n",
       "      <th>F1-PER</th>\n",
       "      <td>0.606403</td>\n",
       "    </tr>\n",
       "    <tr>\n",
       "      <th>P-PER</th>\n",
       "      <td>1.235708</td>\n",
       "    </tr>\n",
       "    <tr>\n",
       "      <th>R-PER</th>\n",
       "      <td>2.110819</td>\n",
       "    </tr>\n",
       "    <tr>\n",
       "      <th>F1-LOC</th>\n",
       "      <td>4.255051</td>\n",
       "    </tr>\n",
       "    <tr>\n",
       "      <th>P-LOC</th>\n",
       "      <td>5.691432</td>\n",
       "    </tr>\n",
       "    <tr>\n",
       "      <th>R-LOC</th>\n",
       "      <td>4.880755</td>\n",
       "    </tr>\n",
       "    <tr>\n",
       "      <th>F1-ORG</th>\n",
       "      <td>0.000000</td>\n",
       "    </tr>\n",
       "    <tr>\n",
       "      <th>P-ORG</th>\n",
       "      <td>2.108185</td>\n",
       "    </tr>\n",
       "    <tr>\n",
       "      <th>R-ORG</th>\n",
       "      <td>4.216370</td>\n",
       "    </tr>\n",
       "  </tbody>\n",
       "</table>\n",
       "</div>"
      ],
      "text/plain": [
       "                0\n",
       "F1-O     0.051195\n",
       "P-O      0.189022\n",
       "R-O      0.241711\n",
       "F1-MISC  1.429297\n",
       "P-MISC   2.761987\n",
       "R-MISC   3.547789\n",
       "F1-PER   0.606403\n",
       "P-PER    1.235708\n",
       "R-PER    2.110819\n",
       "F1-LOC   4.255051\n",
       "P-LOC    5.691432\n",
       "R-LOC    4.880755\n",
       "F1-ORG   0.000000\n",
       "P-ORG    2.108185\n",
       "R-ORG    4.216370"
      ]
     },
     "execution_count": 156,
     "metadata": {},
     "output_type": "execute_result"
    }
   ],
   "source": [
    "ewoByTagResult.std(axis=1).to_frame()"
   ]
  },
  {
   "cell_type": "code",
   "execution_count": 157,
   "metadata": {},
   "outputs": [
    {
     "name": "stdout",
     "output_type": "stream",
     "text": [
      "Pred\tReal\tFreq\tWord\n",
      "LOC\tO\t8.335671\trestore\n",
      "O\tLOC\t8.335671\tSamaria\n",
      "O\tLOC\t8.335671\tOlivet\n",
      "O\tMISC\t8.335671\tSabbath\n",
      "PER\tO\t8.335671\tupper\n",
      "PER\tO\t8.335671\troom\n",
      "PER\tO\t8.335671\twhere\n",
      "PER\tO\t8.335671\tZealot\n",
      "LOC\tO\t8.335671\tso\n",
      "LOC\tO\t8.335671\tlanguage\n",
      "O\tMISC\t8.335671\tPsalms\n",
      "PER\tO\t8.335671\tforward\n",
      "O\tMISC\t8.335671\tninth\n",
      "O\tPER\t8.335671\tMoses\n",
      "O\tPER\t8.335671\tSamuel\n",
      "O\tORG\t8.335671\tSadducees\n",
      "PER\tO\t8.335671\thigh-priestly\n",
      "PER\tO\t8.335671\tfamily\n",
      "PER\tO\t12.025831\tfather\n",
      "O\tPER\t8.335671\tHerod\n",
      "O\tPER\t8.335671\tPontius\n",
      "O\tPER\t8.335671\tBarnabas\n",
      "O\tLOC\t8.335671\tCyprus\n",
      "O\tPER\t8.335671\tElijah\n",
      "O\tMISC\t8.335671\tr\n",
      "PER\tO\t8.335671\tJu\n",
      "PER\tO\t8.335671\th\n",
      "LOC\tO\t12.025831\tdeportation\n",
      "O\tPER\t8.335671\tImmanuel\n"
     ]
    }
   ],
   "source": [
    "columns = en_fingerprints.columns\n",
    "\n",
    "print(\"Pred\", \"Real\", \"Freq\", \"Word\", sep=\"\\t\")\n",
    "for c in columns:\n",
    "    prediction = model.predict(en_fingerprints[c].values.reshape((1, 210)))\n",
    "    pred_tag = int2tag[np.argmax(prediction)]\n",
    "    real_tag = en_corpus[en_corpus.word == c].iloc[0]['ne-tag']\n",
    "    \n",
    "    if pred_tag != real_tag:\n",
    "        print(pred_tag, real_tag, en_fingerprints[c].max(), c, sep=\"\\t\")"
   ]
  }
 ],
 "metadata": {
  "anaconda-cloud": {},
  "colab": {
   "collapsed_sections": [],
   "default_view": {},
   "name": "rnn-ner.ipynb",
   "provenance": [
    {
     "file_id": "1bSiRRO29rixupIV6ume9T9B4KUKtYVKI",
     "timestamp": 1513688449690
    }
   ],
   "version": "0.3.2",
   "views": {}
  },
  "kernelspec": {
   "display_name": "Python [conda env:ner-projection] *",
   "language": "python",
   "name": "conda-env-ner-projection-py"
  },
  "language_info": {
   "codemirror_mode": {
    "name": "ipython",
    "version": 3
   },
   "file_extension": ".py",
   "mimetype": "text/x-python",
   "name": "python",
   "nbconvert_exporter": "python",
   "pygments_lexer": "ipython3",
   "version": "3.7.3"
  }
 },
 "nbformat": 4,
 "nbformat_minor": 1
}
